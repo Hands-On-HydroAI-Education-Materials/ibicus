{
 "cells": [
  {
   "cell_type": "markdown",
   "id": "c9cffae3-8d9c-4da7-a70d-350e185215fe",
   "metadata": {},
   "source": [
    "# Adjusting debiasers"
   ]
  },
  {
   "cell_type": "markdown",
   "id": "c0679686-c320-4d2e-843d-45b3e2e59faa",
   "metadata": {},
   "source": [
    "The following notebook provides some insights into how to adjust parameters to modify debiasers. \n",
    "\n",
    "For in-depth information about the debiasers and their usage refer to the API reference of the debias-module."
   ]
  },
  {
   "cell_type": "code",
   "execution_count": 1,
   "id": "7a4ad5dd-ed67-48d1-8302-67656e8d39b7",
   "metadata": {},
   "outputs": [],
   "source": [
    "import numpy as np\n",
    "import matplotlib.pyplot as plt"
   ]
  },
  {
   "cell_type": "markdown",
   "id": "bd6c5a1f-a7d9-40cc-b39c-2799252acaec",
   "metadata": {
    "jp-MarkdownHeadingCollapsed": true,
    "tags": []
   },
   "source": [
    "## 0. Read in data"
   ]
  },
  {
   "cell_type": "markdown",
   "id": "d72bdb59-914a-43a9-bed9-f43c42c98d09",
   "metadata": {},
   "source": [
    "We start by reading in and preprocessing some data. For an explanation of the steps please refer to the \"Getting started\" notebook."
   ]
  },
  {
   "cell_type": "code",
   "execution_count": 10,
   "id": "2830b3d6-44f3-4008-bfbb-76f5a4ea057c",
   "metadata": {},
   "outputs": [],
   "source": [
    "import sys\n",
    "sys.path.append(\"../\")  # path contains python_file.py\n",
    "\n",
    "import iris\n",
    "\n",
    "# Given an iris-cube this returns the dates stored in the last time-dimension\n",
    "def get_dates(x):\n",
    "    time_dimension = x.coords()[2]\n",
    "    dates = time_dimension.units.num2date(time_dimension.points)\n",
    "    return dates\n",
    "\n",
    "get_dates = np.vectorize(get_dates)\n",
    "\n",
    "# Reads in the testing-data from ISIMIP stored in testing_data/ISIMIP\n",
    "def read_in_and_preprocess_testing_data(variable, isimip_data_path = \"testing_data/ISIMIP/\"):\n",
    "    \n",
    "    # Load in data\n",
    "    obs = iris.load_cube(isimip_data_path+variable+\"_obs-hist_coarse_1979-2014.nc\")\n",
    "    cm_hist = iris.load_cube(isimip_data_path+variable+\"_sim-hist_coarse_1979-2014.nc\")\n",
    "    cm_future = iris.load_cube(isimip_data_path+variable+\"_sim-fut_coarse_2065-2100.nc\")\n",
    "\n",
    "    # Extract dates\n",
    "    dates = {\n",
    "        \"time_obs\": get_dates(obs),\n",
    "        \"time_cm_hist\": get_dates(cm_hist),\n",
    "        \"time_cm_future\": get_dates(cm_future)\n",
    "    }\n",
    "    \n",
    "    # Convert to np.array (from masked-array)\n",
    "    obs = obs.data\n",
    "    cm_hist = cm_hist.data\n",
    "    cm_future = cm_future.data\n",
    "\n",
    "    # Move time to first axis (our convention)\n",
    "    obs = np.moveaxis(obs, -1, 0)\n",
    "    cm_hist = np.moveaxis(cm_hist, -1, 0)\n",
    "    cm_future = np.moveaxis(cm_future, -1, 0)\n",
    "    \n",
    "    return obs, cm_hist, cm_future, dates"
   ]
  },
  {
   "cell_type": "markdown",
   "id": "a5ab11b8-f183-48c3-928d-5fa727aa953d",
   "metadata": {
    "tags": []
   },
   "source": [
    "## 1. A first example"
   ]
  },
  {
   "cell_type": "markdown",
   "id": "77b1a5e0-5b5b-4ca7-b219-3d528ef50d5f",
   "metadata": {},
   "source": [
    "Every debiaser is a subclass of the abstract `Debiaser` class. This provides a unified interface for initialising and applying debiasers. Let's read in some temperature data:"
   ]
  },
  {
   "cell_type": "code",
   "execution_count": 11,
   "id": "04fc1aca-8029-4db0-8ab9-162fc87397d2",
   "metadata": {},
   "outputs": [],
   "source": [
    "obs, cm_hist, cm_future, dates = read_in_and_preprocess_testing_data(\"tas\")"
   ]
  },
  {
   "cell_type": "markdown",
   "id": "759ec3a4-120f-42a7-bfec-1b672865fb85",
   "metadata": {},
   "source": [
    "We can initialise a debiaser for `\"tas\"` by using the `from_variable` method. If we want to apply ISIMIP and ECDFM we can write:"
   ]
  },
  {
   "cell_type": "code",
   "execution_count": 12,
   "id": "c6d33b6a-de6c-48aa-9c74-21cd77b23f5f",
   "metadata": {},
   "outputs": [],
   "source": [
    "from PACKAGE_NAME.debias import ECDFM, ISIMIP, DeltaChange\n",
    "\n",
    "debiaser1 = ECDFM.from_variable(\"tas\")\n",
    "debiaser2 = ISIMIP.from_variable(\"tas\")"
   ]
  },
  {
   "cell_type": "markdown",
   "id": "786a6fea-3ef7-435c-9b92-cd6078355aee",
   "metadata": {},
   "source": [
    "Applying the debiasers works using the `apply`-classmethod."
   ]
  },
  {
   "cell_type": "code",
   "execution_count": 14,
   "id": "4afeddf1-46e9-4d06-95b1-3e558a85c95d",
   "metadata": {},
   "outputs": [
    {
     "name": "stderr",
     "output_type": "stream",
     "text": [
      "INFO:root:----- Running debiasing for variable: Daily mean near-surface air temperature -----\n",
      "INFO:root:obs is a masked array, but contains no invalid data. It is converted to a normal numpy array.\n",
      "INFO:root:cm_hist is a masked array, but contains no invalid data. It is converted to a normal numpy array.\n",
      "INFO:root:cm_future is a masked array, but contains no invalid data. It is converted to a normal numpy array.\n",
      "100%|████████████████████████████████████████████████████████████████████████████████████████████████████████████████████████████████████████████████████████████████████████| 4/4 [00:04<00:00,  1.22s/it]\n"
     ]
    }
   ],
   "source": [
    "debiased_cm_future1 = debiaser1.apply(obs, cm_hist, cm_future)"
   ]
  },
  {
   "cell_type": "markdown",
   "id": "edc2f6a9-a396-4f7e-bfe8-1d36ec057bd1",
   "metadata": {},
   "source": [
    "Some debiasers like ISIMIP require additional arguments in the apply-method like the dates:"
   ]
  },
  {
   "cell_type": "code",
   "execution_count": 15,
   "id": "b0c24d55-8a4f-41fc-b430-6e8f6ef7ec28",
   "metadata": {},
   "outputs": [
    {
     "name": "stderr",
     "output_type": "stream",
     "text": [
      "INFO:root:----- Running debiasing for variable: Daily mean near-surface air temperature -----\n",
      "INFO:root:obs is a masked array, but contains no invalid data. It is converted to a normal numpy array.\n",
      "INFO:root:cm_hist is a masked array, but contains no invalid data. It is converted to a normal numpy array.\n",
      "INFO:root:cm_future is a masked array, but contains no invalid data. It is converted to a normal numpy array.\n",
      "100%|████████████████████████████████████████████████████████████████████████████████████████████████████████████████████████████████████████████████████████████████████████| 4/4 [00:23<00:00,  5.96s/it]\n"
     ]
    }
   ],
   "source": [
    "debiased_cm_future2 = debiaser2.apply(obs, cm_hist, cm_future, **dates)"
   ]
  },
  {
   "cell_type": "markdown",
   "id": "46824882-f503-44f7-ad22-2c0cc3a8c60e",
   "metadata": {},
   "source": [
    "We can compare the distribution of the debiased data at location [1,1]:"
   ]
  },
  {
   "cell_type": "code",
   "execution_count": 6,
   "id": "a7de0bf6-e9b2-4393-8219-d2ae992c75c5",
   "metadata": {},
   "outputs": [
    {
     "data": {
      "image/png": "[encoded data removed]",
      "text/plain": [
       "<Figure size 432x288 with 1 Axes>"
      ]
     },
     "metadata": {
      "needs_background": "light"
     },
     "output_type": "display_data"
    }
   ],
   "source": [
    "plt.hist(debiased_cm_future1[:, 1, 1], bins=\"auto\", alpha = 0.5, label = \"ECDFM\")\n",
    "plt.hist(debiased_cm_future2[:, 1, 1], bins=\"auto\", alpha = 0.5, label = \"ISIMIP\")\n",
    "plt.legend()\n",
    "plt.show()"
   ]
  },
  {
   "cell_type": "markdown",
   "id": "b7f98cdd-d056-4cd4-b756-a29d1002d32a",
   "metadata": {},
   "source": [
    "We see that the data distributions produced by ECDFM and ISIMIP do differ. For info on how to evaluate this have a look at TODO."
   ]
  },
  {
   "cell_type": "markdown",
   "id": "9f8c657f-1c05-40a6-95cb-2a4497f70bd9",
   "metadata": {},
   "source": [
    "## 2. Debiasers"
   ]
  },
  {
   "cell_type": "markdown",
   "id": "e68dd34f-bb4c-4819-87d2-db966b8510b7",
   "metadata": {},
   "source": [
    "### 2.1. Initialisation"
   ]
  },
  {
   "cell_type": "markdown",
   "id": "1d88c145-1b49-485f-8661-dfdb561fed56",
   "metadata": {},
   "source": [
    "Every debiaser that is part of the package consists of a set of parameters controlling the behavior as well as a `from_variable` and `apply`-method. Let's have a look at what happens when we initialise the ECDFM debiaser from above:"
   ]
  },
  {
   "cell_type": "code",
   "execution_count": 16,
   "id": "8ee38a89-4459-47a6-ad31-f797be1b98db",
   "metadata": {},
   "outputs": [
    {
     "data": {
      "text/plain": [
       "ECDFM(variable='Daily mean near-surface air temperature', reasonable_physical_range=[0, 400], distribution=<scipy.stats._continuous_distns.beta_gen object at 0x7f6d51d6a1c0>)"
      ]
     },
     "execution_count": 16,
     "metadata": {},
     "output_type": "execute_result"
    }
   ],
   "source": [
    "debiaser1 = ECDFM.from_variable(\"tas\")\n",
    "debiaser1"
   ]
  },
  {
   "cell_type": "markdown",
   "id": "0d08991e-0107-4c33-8580-6d4ec34fffaf",
   "metadata": {},
   "source": [
    "We see that two parameters are set: a variable referring to the variable we are debiasing, as well as a distribution. It is also possible to initialise the debiaser directly with those parameters:"
   ]
  },
  {
   "cell_type": "code",
   "execution_count": 17,
   "id": "c7df1d2d-3af7-4297-838b-df53939e586d",
   "metadata": {},
   "outputs": [
    {
     "data": {
      "text/plain": [
       "True"
      ]
     },
     "execution_count": 17,
     "metadata": {},
     "output_type": "execute_result"
    }
   ],
   "source": [
    "import scipy.stats\n",
    "debiaser2 = ECDFM(distribution=scipy.stats.beta)\n",
    "\n",
    "debiaser1 == debiaser2"
   ]
  },
  {
   "cell_type": "markdown",
   "id": "df612e0a-f0ca-4caa-87ca-dcb69a0b37f3",
   "metadata": {},
   "source": [
    "The debiaser initialised by setting parameters explictly is the same as the one using `from_variable`."
   ]
  },
  {
   "cell_type": "markdown",
   "id": "a2fe42c7-cd8f-4228-aec6-be65c1624dc0",
   "metadata": {},
   "source": [
    "Every debiaser has default arguments for a subset of climatic variables. The `from_variable` method initialises a debiaser for a variable using those default arguments. Below is shown for which debiasers and variables currently default settings exist:"
   ]
  },
  {
   "cell_type": "markdown",
   "id": "46c0d20a-d3a2-496b-a13d-f1816c8bada9",
   "metadata": {},
   "source": [
    "TODO: Insert table"
   ]
  },
  {
   "cell_type": "markdown",
   "id": "c1e9127a-f408-4b3f-891f-113591d73fe6",
   "metadata": {},
   "source": [
    "For example we can easily instantiate a `QuantileDeltaMapping` debiaser for precipitation:"
   ]
  },
  {
   "cell_type": "code",
   "execution_count": 18,
   "id": "e70ebd5d-f636-4676-9011-e4a3bb013ca8",
   "metadata": {},
   "outputs": [],
   "source": [
    "from PACKAGE_NAME.debias import QuantileDeltaMapping\n",
    "\n",
    "pr_debiaser = QuantileDeltaMapping.from_variable(\"pr\")"
   ]
  },
  {
   "cell_type": "markdown",
   "id": "1504f124-6ee9-451a-bc13-a774e64b1c69",
   "metadata": {},
   "source": [
    "But not an ISIMIP debiaser for tasmin:"
   ]
  },
  {
   "cell_type": "code",
   "execution_count": 19,
   "id": "40c0f5b1-e52c-4eaa-9398-9d6db556b705",
   "metadata": {},
   "outputs": [
    {
     "ename": "ValueError",
     "evalue": "Unfortunately currently no default settings exist for the variable 'tasmin' in the debiaser ISIMIP. You can set the required class parameters manually by using the class constructor. This also allows more fine-grained optimization of the debiaser.",
     "output_type": "error",
     "traceback": [
      "\u001b[0;31m---------------------------------------------------------------------------\u001b[0m",
      "\u001b[0;31mValueError\u001b[0m                                Traceback (most recent call last)",
      "Input \u001b[0;32mIn [19]\u001b[0m, in \u001b[0;36m<cell line: 1>\u001b[0;34m()\u001b[0m\n\u001b[0;32m----> 1\u001b[0m debiaser3 \u001b[38;5;241m=\u001b[39m \u001b[43mISIMIP\u001b[49m\u001b[38;5;241;43m.\u001b[39;49m\u001b[43mfrom_variable\u001b[49m\u001b[43m(\u001b[49m\u001b[38;5;124;43m\"\u001b[39;49m\u001b[38;5;124;43mtasmin\u001b[39;49m\u001b[38;5;124;43m\"\u001b[39;49m\u001b[43m)\u001b[49m\n",
      "File \u001b[0;32m~/Desktop/ESoWC/isimipy/notebooks/tutorials/../../PACKAGE_NAME/debias/_isimip.py:281\u001b[0m, in \u001b[0;36mISIMIP.from_variable\u001b[0;34m(cls, variable, **kwargs)\u001b[0m\n\u001b[1;32m    279\u001b[0m \u001b[38;5;129m@classmethod\u001b[39m\n\u001b[1;32m    280\u001b[0m \u001b[38;5;28;01mdef\u001b[39;00m \u001b[38;5;21mfrom_variable\u001b[39m(\u001b[38;5;28mcls\u001b[39m, variable: Union[\u001b[38;5;28mstr\u001b[39m, Variable], \u001b[38;5;241m*\u001b[39m\u001b[38;5;241m*\u001b[39mkwargs):\n\u001b[0;32m--> 281\u001b[0m     \u001b[38;5;28;01mreturn\u001b[39;00m \u001b[38;5;28;43msuper\u001b[39;49m\u001b[43m(\u001b[49m\u001b[43m)\u001b[49m\u001b[38;5;241;43m.\u001b[39;49m\u001b[43m_from_variable\u001b[49m\u001b[43m(\u001b[49m\n\u001b[1;32m    282\u001b[0m \u001b[43m        \u001b[49m\u001b[38;5;28;43mcls\u001b[39;49m\u001b[43m,\u001b[49m\n\u001b[1;32m    283\u001b[0m \u001b[43m        \u001b[49m\u001b[43mvariable\u001b[49m\u001b[38;5;241;43m=\u001b[39;49m\u001b[43mvariable\u001b[49m\u001b[43m,\u001b[49m\n\u001b[1;32m    284\u001b[0m \u001b[43m        \u001b[49m\u001b[43mdefault_settings_variable\u001b[49m\u001b[38;5;241;43m=\u001b[39;49m\u001b[43misimip3_variable_settings\u001b[49m\u001b[43m,\u001b[49m\n\u001b[1;32m    285\u001b[0m \u001b[43m        \u001b[49m\u001b[43mdefault_settings_general\u001b[49m\u001b[38;5;241;43m=\u001b[39;49m\u001b[43misimip3_general_settings\u001b[49m\u001b[43m,\u001b[49m\n\u001b[1;32m    286\u001b[0m \u001b[43m        \u001b[49m\u001b[38;5;241;43m*\u001b[39;49m\u001b[38;5;241;43m*\u001b[39;49m\u001b[43mkwargs\u001b[49m\u001b[43m,\u001b[49m\n\u001b[1;32m    287\u001b[0m \u001b[43m    \u001b[49m\u001b[43m)\u001b[49m\n",
      "File \u001b[0;32m~/Desktop/ESoWC/isimipy/notebooks/tutorials/../../PACKAGE_NAME/debias/_debiaser.py:96\u001b[0m, in \u001b[0;36mDebiaser._from_variable\u001b[0;34m(child_class, variable, default_settings_variable, default_settings_general, **kwargs)\u001b[0m\n\u001b[1;32m     93\u001b[0m     variable_object \u001b[38;5;241m=\u001b[39m variable\n\u001b[1;32m     95\u001b[0m \u001b[38;5;28;01mif\u001b[39;00m variable_object \u001b[38;5;129;01mnot\u001b[39;00m \u001b[38;5;129;01min\u001b[39;00m default_settings_variable\u001b[38;5;241m.\u001b[39mkeys():\n\u001b[0;32m---> 96\u001b[0m     \u001b[38;5;28;01mraise\u001b[39;00m \u001b[38;5;167;01mValueError\u001b[39;00m(\n\u001b[1;32m     97\u001b[0m         \u001b[38;5;124m\"\u001b[39m\u001b[38;5;124mUnfortunately currently no default settings exist for the variable \u001b[39m\u001b[38;5;124m'\u001b[39m\u001b[38;5;132;01m%s\u001b[39;00m\u001b[38;5;124m'\u001b[39m\u001b[38;5;124m in the debiaser \u001b[39m\u001b[38;5;132;01m%s\u001b[39;00m\u001b[38;5;124m. You can set the required class parameters manually by using the class constructor. This also allows more fine-grained optimization of the debiaser.\u001b[39m\u001b[38;5;124m\"\u001b[39m\n\u001b[1;32m     98\u001b[0m         \u001b[38;5;241m%\u001b[39m (variable, child_class\u001b[38;5;241m.\u001b[39m\u001b[38;5;18m__name__\u001b[39m)\n\u001b[1;32m     99\u001b[0m     )\n\u001b[1;32m    101\u001b[0m parameters \u001b[38;5;241m=\u001b[39m {\n\u001b[1;32m    102\u001b[0m     \u001b[38;5;124m\"\u001b[39m\u001b[38;5;124mvariable\u001b[39m\u001b[38;5;124m\"\u001b[39m: variable_object\u001b[38;5;241m.\u001b[39mname,\n\u001b[1;32m    103\u001b[0m     \u001b[38;5;124m\"\u001b[39m\u001b[38;5;124mreasonable_physical_range\u001b[39m\u001b[38;5;124m\"\u001b[39m: variable_object\u001b[38;5;241m.\u001b[39mreasonable_physical_range,\n\u001b[1;32m    104\u001b[0m     \u001b[38;5;241m*\u001b[39m\u001b[38;5;241m*\u001b[39mdefault_settings_general,\n\u001b[1;32m    105\u001b[0m     \u001b[38;5;241m*\u001b[39m\u001b[38;5;241m*\u001b[39mdefault_settings_variable[variable_object],\n\u001b[1;32m    106\u001b[0m }\n\u001b[1;32m    107\u001b[0m \u001b[38;5;28;01mreturn\u001b[39;00m child_class(\u001b[38;5;241m*\u001b[39m\u001b[38;5;241m*\u001b[39m{\u001b[38;5;241m*\u001b[39m\u001b[38;5;241m*\u001b[39mparameters, \u001b[38;5;241m*\u001b[39m\u001b[38;5;241m*\u001b[39mkwargs})\n",
      "\u001b[0;31mValueError\u001b[0m: Unfortunately currently no default settings exist for the variable 'tasmin' in the debiaser ISIMIP. You can set the required class parameters manually by using the class constructor. This also allows more fine-grained optimization of the debiaser."
     ]
    }
   ],
   "source": [
    "debiaser3 = ISIMIP.from_variable(\"tasmin\")"
   ]
  },
  {
   "cell_type": "markdown",
   "id": "affead10-d3fd-4447-8a00-1b6a82e1bdfb",
   "metadata": {},
   "source": [
    "ISIMIP instead offers the option to debias `tasrange` and `tasskew` and calculate `tasmin` from those."
   ]
  },
  {
   "cell_type": "markdown",
   "id": "5fcf6d02-cbad-4f99-b796-632821482c3b",
   "metadata": {},
   "source": [
    "Some debiasers offer additionally a `for_precipitation` to initialise it to apply it to precipitation (`pr`). Precipitation methods can be a bit more complicated and sometimes require the specification of a threshold under which it is assumed zero. The `for_precipitation`-method is there to make the choice of method and initialisation easier.\n",
    "\n",
    "For example we can initialise a `QuantileMapping` debiaser applying quantile mapping using a precipitation gamma hurdle model: a two step model where binomially it is decided whether it rains or not and then a gamma distribution is assumed for the amounts:"
   ]
  },
  {
   "cell_type": "code",
   "execution_count": 21,
   "id": "2062b508-acb6-4b3b-97db-31175cd04c8a",
   "metadata": {},
   "outputs": [
    {
     "name": "stderr",
     "output_type": "stream",
     "text": [
      "INFO:root:----- Running debiasing for variable: Daily mean precipitation -----\n",
      "INFO:root:obs is a masked array, but contains no invalid data. It is converted to a normal numpy array.\n",
      "INFO:root:cm_hist is a masked array, but contains no invalid data. It is converted to a normal numpy array.\n",
      "INFO:root:cm_future is a masked array, but contains no invalid data. It is converted to a normal numpy array.\n",
      "100%|████████████████████████████████████████████████████████████████████████████████████████████████████████████████████████████████████████████████████████████████████████| 4/4 [00:00<00:00, 43.48it/s]\n"
     ]
    }
   ],
   "source": [
    "from PACKAGE_NAME.debias import QuantileMapping\n",
    "\n",
    "# Read in some pr-data\n",
    "obs, cm_hist, cm_future, dates = read_in_and_preprocess_testing_data(\"pr\")\n",
    "\n",
    "# Initialise debiaser\n",
    "pr_debiaser1 = QuantileMapping.for_precipitation(model_type = \"hurdle\")\n",
    "\n",
    "# Apply:\n",
    "debiased_pr1 = pr_debiaser1.apply(obs, cm_hist, cm_future)"
   ]
  },
  {
   "cell_type": "markdown",
   "id": "5981cf8a-4ac1-4cc5-882b-401f37337ba3",
   "metadata": {},
   "source": [
    "and compare it with a censored model for precipitation: where all precipitation amounts under a threshold (so also all dry days) are assumed censored:"
   ]
  },
  {
   "cell_type": "code",
   "execution_count": 22,
   "id": "eab2ffaf-536a-4ff8-8c85-4d6e7a5d18fa",
   "metadata": {},
   "outputs": [
    {
     "name": "stderr",
     "output_type": "stream",
     "text": [
      "INFO:root:----- Running debiasing for variable: Daily mean precipitation -----\n",
      "INFO:root:obs is a masked array, but contains no invalid data. It is converted to a normal numpy array.\n",
      "INFO:root:cm_hist is a masked array, but contains no invalid data. It is converted to a normal numpy array.\n",
      "INFO:root:cm_future is a masked array, but contains no invalid data. It is converted to a normal numpy array.\n",
      "100%|████████████████████████████████████████████████████████████████████████████████████████████████████████████████████████████████████████████████████████████████████████| 4/4 [00:02<00:00,  1.55it/s]\n"
     ]
    }
   ],
   "source": [
    "# Initialise debiaser\n",
    "pr_debiaser2 = QuantileMapping.for_precipitation(model_type = \"censored\", censoring_threshold = 0.1/86400) # We are working with precipitation flux\n",
    "\n",
    "# Apply:\n",
    "debiased_pr2 = pr_debiaser2.apply(obs, cm_hist, cm_future)"
   ]
  },
  {
   "cell_type": "markdown",
   "id": "db8f6628-7a83-4ff4-9ac7-cf48ca756ddc",
   "metadata": {},
   "source": [
    "We can compare the two at location `[1,1]`:"
   ]
  },
  {
   "cell_type": "code",
   "execution_count": 23,
   "id": "46136ffa-09ff-430c-920c-49f9206c5adc",
   "metadata": {},
   "outputs": [
    {
     "data": {
      "image/png": "[encoded data removed]",
      "text/plain": [
       "<Figure size 432x288 with 1 Axes>"
      ]
     },
     "metadata": {
      "needs_background": "light"
     },
     "output_type": "display_data"
    }
   ],
   "source": [
    "# Compare the two at location [1,1]:\n",
    "plt.hist(debiased_pr1[:, 1, 1], bins=\"auto\", alpha = 0.5, label = \"Hurdle\")\n",
    "plt.hist(debiased_pr2[:, 1, 1], bins=\"auto\", alpha = 0.5, label = \"Censored\")\n",
    "plt.xlim(0, 0.00004)\n",
    "plt.legend()\n",
    "plt.show()"
   ]
  },
  {
   "cell_type": "markdown",
   "id": "a687e70a-2a00-4902-9120-ff62ba3f624d",
   "metadata": {},
   "source": [
    "### 2.2. Apply"
   ]
  },
  {
   "cell_type": "markdown",
   "id": "3bb595a4-da0d-4271-be83-d3639b8778ac",
   "metadata": {},
   "source": [
    "Applying the debiaser is easy with the apply-function. Lets initialise and apply a `DeltaChange` debiaser for `\"tas\"`:"
   ]
  },
  {
   "cell_type": "code",
   "execution_count": 24,
   "id": "2ff9194b-afae-476e-859c-5aa49a795beb",
   "metadata": {},
   "outputs": [
    {
     "name": "stderr",
     "output_type": "stream",
     "text": [
      "INFO:root:----- Running debiasing for variable: Daily mean near-surface air temperature -----\n",
      "INFO:root:obs is a masked array, but contains no invalid data. It is converted to a normal numpy array.\n",
      "INFO:root:cm_hist is a masked array, but contains no invalid data. It is converted to a normal numpy array.\n",
      "INFO:root:cm_future is a masked array, but contains no invalid data. It is converted to a normal numpy array.\n",
      "100%|██████████████████████████████████████████████████████████████████████████████████████████████████████████████████████████████████████████████████████████████████████| 4/4 [00:00<00:00, 5241.24it/s]\n"
     ]
    }
   ],
   "source": [
    "obs, cm_hist, cm_future, dates = read_in_and_preprocess_testing_data(\"tas\")\n",
    "\n",
    "debiaser = DeltaChange.from_variable(\"tas\")\n",
    "\n",
    "debiased_cm_future = debiaser.apply(obs, cm_hist, cm_future)"
   ]
  },
  {
   "cell_type": "markdown",
   "id": "dfcbf921-e1c4-46ba-bdc8-e9eadcea9c67",
   "metadata": {},
   "source": [
    "The apply function always needs three numpy arrays of data in the form: \n",
    "\n",
    "- obs representing observations of a climatological variable\n",
    "- cm_hist representing climate model values for a climatological variable during a reference/the observational period\n",
    "- cm_future representing climate model values for a climatological variable during a future period/period to debias\n",
    "\n",
    "obs and cm_hist are used to calculate the bias for the climate model and to transform the future values. How this is done differs from case to case.\n",
    "All three are assumed to be 3d-numpy arrays where the first dimension corresponds to time and the other two to spatial locations. The locations in obs, cm_hist  and cm_future need to be the same and observational data should be interpolated to the climate model grid prior to applying (TODO: true?). For how to do that see TODO.\n",
    "\n",
    "Besides obs, cm_hist and cm_future some debiasers might also require additional information like the dates to which observations and cm_values correspond, to for example apply the debiaser in a running window-mode. For example ISIMIP requires the dates as additional input:"
   ]
  },
  {
   "cell_type": "code",
   "execution_count": 25,
   "id": "70da4fdd-53c7-4b16-ba19-008faa29b19c",
   "metadata": {},
   "outputs": [
    {
     "name": "stderr",
     "output_type": "stream",
     "text": [
      "INFO:root:----- Running debiasing for variable: Daily mean near-surface air temperature -----\n",
      "INFO:root:obs is a masked array, but contains no invalid data. It is converted to a normal numpy array.\n",
      "INFO:root:cm_hist is a masked array, but contains no invalid data. It is converted to a normal numpy array.\n",
      "INFO:root:cm_future is a masked array, but contains no invalid data. It is converted to a normal numpy array.\n",
      "100%|████████████████████████████████████████████████████████████████████████████████████████████████████████████████████████████████████████████████████████████████████████| 4/4 [00:23<00:00,  5.87s/it]\n"
     ]
    }
   ],
   "source": [
    "debiaser = ISIMIP.from_variable(\"tas\")\n",
    "debiased_cm_future = debiaser.apply(obs, cm_hist, cm_future, **dates)"
   ]
  },
  {
   "cell_type": "markdown",
   "id": "dd981b35-621e-42e2-ae69-7e7842ad36aa",
   "metadata": {},
   "source": [
    "here dates just contains arrays of dates corresponding to values in obs, cm_hist, cm_future. It can be one of multiple date-formats:"
   ]
  },
  {
   "cell_type": "code",
   "execution_count": 26,
   "id": "fae174d1-0db7-4668-8781-15a375c40422",
   "metadata": {},
   "outputs": [
    {
     "data": {
      "text/plain": [
       "{'time_obs': array([cftime.DatetimeProlepticGregorian(1979, 1, 1, 0, 0, 0, 0, has_year_zero=True),\n",
       "        cftime.DatetimeProlepticGregorian(1979, 1, 2, 0, 0, 0, 0, has_year_zero=True),\n",
       "        cftime.DatetimeProlepticGregorian(1979, 1, 3, 0, 0, 0, 0, has_year_zero=True),\n",
       "        ...,\n",
       "        cftime.DatetimeProlepticGregorian(2014, 12, 29, 0, 0, 0, 0, has_year_zero=True),\n",
       "        cftime.DatetimeProlepticGregorian(2014, 12, 30, 0, 0, 0, 0, has_year_zero=True),\n",
       "        cftime.DatetimeProlepticGregorian(2014, 12, 31, 0, 0, 0, 0, has_year_zero=True)],\n",
       "       dtype=object),\n",
       " 'time_cm_hist': array([cftime.DatetimeProlepticGregorian(1979, 1, 1, 0, 0, 0, 0, has_year_zero=True),\n",
       "        cftime.DatetimeProlepticGregorian(1979, 1, 2, 0, 0, 0, 0, has_year_zero=True),\n",
       "        cftime.DatetimeProlepticGregorian(1979, 1, 3, 0, 0, 0, 0, has_year_zero=True),\n",
       "        ...,\n",
       "        cftime.DatetimeProlepticGregorian(2014, 12, 29, 0, 0, 0, 0, has_year_zero=True),\n",
       "        cftime.DatetimeProlepticGregorian(2014, 12, 30, 0, 0, 0, 0, has_year_zero=True),\n",
       "        cftime.DatetimeProlepticGregorian(2014, 12, 31, 0, 0, 0, 0, has_year_zero=True)],\n",
       "       dtype=object),\n",
       " 'time_cm_future': array([cftime.DatetimeProlepticGregorian(2065, 1, 1, 0, 0, 0, 0, has_year_zero=True),\n",
       "        cftime.DatetimeProlepticGregorian(2065, 1, 2, 0, 0, 0, 0, has_year_zero=True),\n",
       "        cftime.DatetimeProlepticGregorian(2065, 1, 3, 0, 0, 0, 0, has_year_zero=True),\n",
       "        ...,\n",
       "        cftime.DatetimeProlepticGregorian(2100, 12, 29, 0, 0, 0, 0, has_year_zero=True),\n",
       "        cftime.DatetimeProlepticGregorian(2100, 12, 30, 0, 0, 0, 0, has_year_zero=True),\n",
       "        cftime.DatetimeProlepticGregorian(2100, 12, 31, 0, 0, 0, 0, has_year_zero=True)],\n",
       "       dtype=object)}"
      ]
     },
     "execution_count": 26,
     "metadata": {},
     "output_type": "execute_result"
    }
   ],
   "source": [
    "dates"
   ]
  },
  {
   "cell_type": "markdown",
   "id": "7b2dc041-1895-42a2-9e88-be8c58e524da",
   "metadata": {},
   "source": [
    "However ISIMIP also runs without the dates, by inferring them:"
   ]
  },
  {
   "cell_type": "code",
   "execution_count": 27,
   "id": "58807008-b4f1-4a6c-8a9b-3b94e686c05f",
   "metadata": {},
   "outputs": [
    {
     "name": "stderr",
     "output_type": "stream",
     "text": [
      "INFO:root:----- Running debiasing for variable: Daily mean near-surface air temperature -----\n",
      "INFO:root:obs is a masked array, but contains no invalid data. It is converted to a normal numpy array.\n",
      "INFO:root:cm_hist is a masked array, but contains no invalid data. It is converted to a normal numpy array.\n",
      "INFO:root:cm_future is a masked array, but contains no invalid data. It is converted to a normal numpy array.\n",
      "  0%|                                                                                                                                                                                | 0/4 [00:00<?, ?it/s]WARNING:root:\n",
      "                    ISIMIP runs without time-information for at least one of obs, cm_hist or cm_future.\n",
      "                    This information is inferred, assuming the first observation is on a January 1st. Observations are chunked according to the assumed time information. \n",
      "                    This might lead to slight numerical differences to the run with time information, however the debiasing is not fundamentally changed.\n",
      "                    \n",
      " 25%|██████████████████████████████████████████                                                                                                                              | 1/4 [00:05<00:17,  5.90s/it]WARNING:root:\n",
      "                    ISIMIP runs without time-information for at least one of obs, cm_hist or cm_future.\n",
      "                    This information is inferred, assuming the first observation is on a January 1st. Observations are chunked according to the assumed time information. \n",
      "                    This might lead to slight numerical differences to the run with time information, however the debiasing is not fundamentally changed.\n",
      "                    \n",
      " 50%|████████████████████████████████████████████████████████████████████████████████████                                                                                    | 2/4 [00:11<00:11,  5.81s/it]WARNING:root:\n",
      "                    ISIMIP runs without time-information for at least one of obs, cm_hist or cm_future.\n",
      "                    This information is inferred, assuming the first observation is on a January 1st. Observations are chunked according to the assumed time information. \n",
      "                    This might lead to slight numerical differences to the run with time information, however the debiasing is not fundamentally changed.\n",
      "                    \n",
      " 75%|██████████████████████████████████████████████████████████████████████████████████████████████████████████████████████████████                                          | 3/4 [00:17<00:05,  5.85s/it]WARNING:root:\n",
      "                    ISIMIP runs without time-information for at least one of obs, cm_hist or cm_future.\n",
      "                    This information is inferred, assuming the first observation is on a January 1st. Observations are chunked according to the assumed time information. \n",
      "                    This might lead to slight numerical differences to the run with time information, however the debiasing is not fundamentally changed.\n",
      "                    \n",
      "100%|████████████████████████████████████████████████████████████████████████████████████████████████████████████████████████████████████████████████████████████████████████| 4/4 [00:23<00:00,  5.83s/it]\n"
     ]
    }
   ],
   "source": [
    "debiaser = ISIMIP.from_variable(\"tas\")\n",
    "debiased_cm_future = debiaser.apply(obs, cm_hist, cm_future)"
   ]
  },
  {
   "cell_type": "markdown",
   "id": "b57e739b-3d0b-4795-a671-601b5f6fd077",
   "metadata": {},
   "source": [
    "What debiasers might additionally need is specified inside the documentation for each of the debiases: TODO"
   ]
  },
  {
   "cell_type": "markdown",
   "id": "298af7a5-4dba-43cb-ae94-cf3ef90a600c",
   "metadata": {},
   "source": [
    "It is possible to change the verbosity with which a debiaser works, supressing info or warnings. Running the same debiaser as above, but only printing out ERROR messages:"
   ]
  },
  {
   "cell_type": "code",
   "execution_count": 28,
   "id": "c9cf3835-e5d2-4355-a2ad-aa430aef41fd",
   "metadata": {},
   "outputs": [
    {
     "name": "stderr",
     "output_type": "stream",
     "text": [
      "100%|████████████████████████████████████████████████████████████████████████████████████████████████████████████████████████████████████████████████████████████████████████| 4/4 [00:23<00:00,  5.81s/it]\n"
     ]
    }
   ],
   "source": [
    "debiaser = ISIMIP.from_variable(\"tas\")\n",
    "debiased_cm_future = debiaser.apply(obs, cm_hist, cm_future, verbosity = \"ERROR\")"
   ]
  },
  {
   "cell_type": "markdown",
   "id": "a7de1e5b-b4e7-4420-ae92-4260ec17f3df",
   "metadata": {},
   "source": [
    "## 3. Ways of initializing / adjusting parameters"
   ]
  },
  {
   "cell_type": "markdown",
   "id": "c0f08c76-a831-4d4b-bed1-a1a0b318d1b8",
   "metadata": {},
   "source": [
    "As seen above it is possible to initialise a debiaser either using the `from_variable`-method or the class-constructor: "
   ]
  },
  {
   "cell_type": "code",
   "execution_count": 29,
   "id": "595bb630-a7ae-4ab9-8db2-130bba790d2a",
   "metadata": {},
   "outputs": [
    {
     "data": {
      "text/plain": [
       "True"
      ]
     },
     "execution_count": 29,
     "metadata": {},
     "output_type": "execute_result"
    }
   ],
   "source": [
    "from PACKAGE_NAME.debias import QuantileDeltaMapping\n",
    "\n",
    "debiaser1 = QuantileDeltaMapping.from_variable(\"tas\")\n",
    "debiaser2 = QuantileDeltaMapping(distribution = scipy.stats.norm, trend_preservation = \"absolute\")\n",
    "debiaser1 == debiaser2"
   ]
  },
  {
   "cell_type": "markdown",
   "id": "70ea545f-bfc5-4737-9b59-b3a60449e44b",
   "metadata": {},
   "source": [
    "Using the class constructor it is possible to extend debiasers to meteorological variables which are not currently covered by default arguments of the debiaser. TODO: example?\n",
    "\n",
    "In many cases it is and will be important to modify the behavior of debiasers to make it work better for a certain variable/region and problem at hand. In parametric methods we might want to change the distribution to improve fit eg. for extremes, we might want to use a different trend-capturing method if trends are unrealistic, modified or inflated, or just generally might want to do some additional adjustment the debiaser offers. Parameters of the debiaser can be modified either by setting them differently in the class constructor or in the `from_variable`-method. For example if we decide to apply `QuantileMapping` and the climate change trend of the model is not entirely realistic it might be a good idea not to use detrending prior to quantile mapping. This can be done as:"
   ]
  },
  {
   "cell_type": "code",
   "execution_count": 30,
   "id": "68357b03-becd-41fc-92d0-874e2c7ec48a",
   "metadata": {},
   "outputs": [],
   "source": [
    "new_qm_debiaser1 = QuantileMapping.from_variable(\"tas\", detrending = \"no_detrending\")"
   ]
  },
  {
   "cell_type": "markdown",
   "id": "adeaf9a3-690e-4e73-98e6-0d44e63dd0c2",
   "metadata": {},
   "source": [
    "or:"
   ]
  },
  {
   "cell_type": "code",
   "execution_count": 31,
   "id": "eacf9ef9-6f41-43da-82a1-e0be2771564c",
   "metadata": {},
   "outputs": [
    {
     "data": {
      "text/plain": [
       "True"
      ]
     },
     "execution_count": 31,
     "metadata": {},
     "output_type": "execute_result"
    }
   ],
   "source": [
    "new_qm_debiaser2 = QuantileMapping(distribution = scipy.stats.norm, detrending = \"no_detrending\")\n",
    "new_qm_debiaser1 == new_qm_debiaser2"
   ]
  },
  {
   "cell_type": "markdown",
   "id": "51ac32f6-c727-4bd4-91ee-188b0919c68e",
   "metadata": {},
   "source": [
    "It is also possible to directly modify the class attribute: "
   ]
  },
  {
   "cell_type": "code",
   "execution_count": 32,
   "id": "b1c6dd6c-91fa-409b-9cbd-53de246fe87f",
   "metadata": {},
   "outputs": [
    {
     "data": {
      "text/plain": [
       "True"
      ]
     },
     "execution_count": 32,
     "metadata": {},
     "output_type": "execute_result"
    }
   ],
   "source": [
    "new_qm_debiaser3 = QuantileMapping.from_variable(\"tas\")\n",
    "new_qm_debiaser3.detrending = \"no_detrending\"\n",
    "\n",
    "new_qm_debiaser1 == new_qm_debiaser3"
   ]
  },
  {
   "cell_type": "markdown",
   "id": "a50dbd41-6392-42e9-9700-b2861fd2d9e0",
   "metadata": {},
   "source": [
    "However no validation is happening on the new arguments, so this method is generally not recommended."
   ]
  },
  {
   "cell_type": "markdown",
   "id": "f303902f-c9ca-4bec-a867-45905c7f547a",
   "metadata": {},
   "source": [
    "Some debiasers have many parameters to control the behavior, but oftentimes only a few are central. The documentation for each of the debiasers provides an indication of the central and required parameters and how they modify the debiasing behavior."
   ]
  },
  {
   "cell_type": "markdown",
   "id": "39def069-e936-4ba9-83b4-3a25f5ed2e38",
   "metadata": {},
   "source": [
    "- TODO: do we have some general guidelines on what to change\n",
    "- TODO: recommendations on iterative workflow\n",
    "- TODO: example with better tail behavior?"
   ]
  },
  {
   "cell_type": "code",
   "execution_count": null,
   "id": "bc6ad9c6-01d0-496f-9998-13166992e33d",
   "metadata": {},
   "outputs": [],
   "source": []
  },
  {
   "cell_type": "code",
   "execution_count": null,
   "id": "bcd87f09-0c5a-4176-a6f6-97e3a0134fbd",
   "metadata": {},
   "outputs": [],
   "source": []
  }
 ],
 "metadata": {
  "kernelspec": {
   "display_name": "ibias4",
   "language": "python",
   "name": "ibias4"
  },
  "language_info": {
   "codemirror_mode": {
    "name": "ipython",
    "version": 3
   },
   "file_extension": ".py",
   "mimetype": "text/x-python",
   "name": "python",
   "nbconvert_exporter": "python",
   "pygments_lexer": "ipython3",
   "version": "3.9.13"
  }
 },
 "nbformat": 4,
 "nbformat_minor": 5
}
