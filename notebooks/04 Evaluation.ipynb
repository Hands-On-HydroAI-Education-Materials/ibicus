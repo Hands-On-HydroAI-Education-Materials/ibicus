{
 "cells": [
  {
   "cell_type": "markdown",
   "id": "8725437a",
   "metadata": {},
   "source": [
    "# Overview of the evaluation module\n",
    "\n",
    "\n",
    "This notebook demonstrates the evaluation of three debiasers, ISIMIP (Lange 2021), CDFt (Vrac 2017) and Quantile Delta Mapping (Cannon et al 2015) to the variables tas (daily mean 2m surface temperature, K) and pr (total daily precipitation flux, kg/m2/s). ISIMIP is additionally applied to tasmin (daily minimum 2m surface temperature, K) and tasmax (daily maximum 2m surface temperature, K)\n",
    "\n",
    "The evaluation module provides a set of functionalities that can help you assess the performance of your bias correction method. The notebook is structured along the following three components of the module:\n",
    "\n",
    "- **Testing assumptions of different debiasers**: Different debiasers rely on different assumptions - some are parametrics, others non-parametric, some bias correct each day of the year separately, others are applied to all days of the year in the same way. This components is meant to check some of these assumptions and help the user rule out the use of some debiasers that are not fit for purpose in this specific application.\n",
    "- **Evaluating the bias corrected model on a validation period**: In order to assess the performance of a bias correction method, the bias corrected model data should be compared to observational / reanalysis data. This component provides insight into the correction of marginal biases, as well as temporal, spatial and spatiotemporal metrics.\n",
    "- **Investigating whether the climate change trend is preserved**: Bias correction methods can significantly modify the trend projected in the climate model simulation (Switanek 2017). Have a look at the documentation of individual debiasers to see whether the method is explicitely trend-preserving or not. This component shows the bias in trend of different metrics between the raw and bias corrected climate model."
   ]
  },
  {
   "cell_type": "markdown",
   "id": "4b5324e8",
   "metadata": {},
   "source": [
    "## Set-up and data pre-processing\n",
    "\n",
    "This step requires you to have downloaded and preprocessed observational or reanalysis data (such as ERA5) as well as simulations of a climate model during a historical and future (or application) period. Necessary pre-processing steps include regridding the datasets to the same area and grid in space and time and conducted checks for corrupted or missing data.\n",
    "\n",
    "For the purpose of this demonstrating, we will work with the testing data uploaded to the github folder of this package. This data is already preprocessed and numpy arrays of data have been extracted. We can get it using: \n",
    "\n",
    "```\n",
    "!wget https://github.com/esowc/ibicus/blob/main/notebooks/testing_data.zip -c\n",
    "!unzip testing_data.zip\n",
    "```"
   ]
  },
  {
   "cell_type": "markdown",
   "id": "e2105a2b-6810-424c-9ddf-ca371d4727df",
   "metadata": {},
   "source": [
    "Let's do some imports"
   ]
  },
  {
   "cell_type": "code",
   "execution_count": 1,
   "id": "3d4b9aa3",
   "metadata": {},
   "outputs": [],
   "source": [
    "#import sys\n",
    "#sys.path.append(\"../\")  # path contains python_file.py"
   ]
  },
  {
   "cell_type": "code",
   "execution_count": 1,
   "id": "aa46cfb3",
   "metadata": {},
   "outputs": [],
   "source": [
    "import numpy as np\n",
    "import iris\n",
    "import math\n",
    "\n",
    "from scipy.stats import norm, laplace, gamma, beta\n",
    "\n",
    "from ibicus.variables import *\n",
    "from ibicus.utils import gen_PrecipitationHurdleModel, gen_PrecipitationGammaLeftCensoredModel\n",
    "\n",
    "from ibicus.debias import ECDFM, ISIMIP, QuantileMapping, DeltaChange, CDFt\n",
    "from ibicus.debias import QuantileDeltaMapping, ScaledDistributionMapping, LinearScaling\n",
    "\n",
    "from ibicus.evaluate import assumptions, correlation, marginal, multivariate, trend\n",
    "from ibicus.evaluate.metrics import *"
   ]
  },
  {
   "cell_type": "markdown",
   "id": "cbd381dd",
   "metadata": {},
   "source": [
    "The second component of the evaluation requires a split of the historical period into training and validation period which is implemented in the following function. As a default value, the split_ratio is set such that the training period ends at the end of a year."
   ]
  },
  {
   "cell_type": "code",
   "execution_count": 2,
   "id": "02365cc5",
   "metadata": {},
   "outputs": [],
   "source": [
    "def get_data(variable, path = \"testing_data/\", split_ratio = 0.7037):\n",
    "    \n",
    "    data = np.load(f\"{path}{variable}.npz\", allow_pickle = True)\n",
    "    \n",
    "    cut_off = math.floor(data[\"obs\"].shape[0]*split_ratio)\n",
    "    \n",
    "    obs = data[\"obs\"][0:cut_off, :, :]\n",
    "    obs_validate = data[\"obs\"][cut_off:, :, :]\n",
    "    cm_hist = data[\"cm_hist\"][0:cut_off, :, :]\n",
    "    cm_validate = data[\"cm_hist\"][cut_off:, :, :]\n",
    "    cm_future = data[\"cm_future\"]\n",
    "    time_obs = data[\"time_obs\"][0:cut_off]\n",
    "    time_obs_validate = data[\"time_obs\"][cut_off:]\n",
    "    time_cm_hist = data[\"time_cm_hist\"][0:cut_off]\n",
    "    time_cm_validate = data[\"time_cm_hist\"][cut_off:]\n",
    "    time_cm_future = data[\"time_cm_future\"]\n",
    "    \n",
    "    return obs, obs_validate, cm_hist, cm_validate, cm_future, time_obs, time_obs_validate, time_cm_hist, time_cm_validate, time_cm_future"
   ]
  },
  {
   "cell_type": "markdown",
   "id": "600e3724",
   "metadata": {},
   "source": [
    "Initializing the testing data and dates for tas, pr, tasmin, tasmax:"
   ]
  },
  {
   "cell_type": "code",
   "execution_count": 3,
   "id": "2e72ea97",
   "metadata": {},
   "outputs": [],
   "source": [
    "tas_obs, tas_obs_validate, tas_cm_hist, tas_cm_validate, tas_cm_future, tas_time_obs, tas_time_obs_validate, tas_time_cm_hist, tas_time_cm_validate, tas_time_cm_future = get_data(\"tas\")\n",
    "tasmin_obs, tasmin_obs_validate, tasmin_cm_hist, tasmin_cm_validate, tasmin_cm_future, tasmin_time_obs, tasmin_time_obs_validate, tasmin_time_cm_hist, tasmin_time_cm_validate, tasmin_time_cm_future = get_data(\"tasmin\")\n",
    "tasmax_obs, tasmax_obs_validate, tasmax_cm_hist, tasmax_cm_validate, tasmax_cm_future, tasmax_time_obs, tasmax_time_obs_validate, tasmax_time_cm_hist, tasmax_time_cm_validate, tasmax_time_cm_future = get_data(\"tasmax\")\n",
    "pr_obs, pr_obs_validate, pr_cm_hist, pr_cm_validate, pr_cm_future, pr_time_obs, pr_time_obs_validate, pr_time_cm_hist, pr_time_cm_validate, pr_time_cm_future = get_data(\"pr\")"
   ]
  },
  {
   "cell_type": "markdown",
   "id": "5eca0b52",
   "metadata": {},
   "source": [
    "**Calculating tasmin and tasmax**: currently only ISIMIP covers tasmin and tasmax. It also does not bias correct these two variables directly, but rather bias corrects the variables tasrange and tasskew, where \n",
    "\n",
    "$$ tasrange = tasmax - tasmin $$\n",
    "\n",
    "and \n",
    "\n",
    "$$ tasskew = \\frac{tas − tasmin}{tasrange} $$\n",
    "\n",
    "The utils function 'get_tasmin_tasmax' calculates tasmin and tasmax from tasrange and tasskew."
   ]
  },
  {
   "cell_type": "code",
   "execution_count": 4,
   "id": "d88bfb96",
   "metadata": {},
   "outputs": [],
   "source": [
    "tasrange_obs, tasskew_obs = utils.get_tasrange_tasskew(tas = tas_obs, tasmin = tasmin_obs, tasmax = tasmax_obs)\n",
    "tasrange_obs_validate, tasskew_obs_validate = utils.get_tasrange_tasskew(tas = tas_obs_validate, tasmin = tasmin_obs_validate, tasmax = tasmax_obs_validate)\n",
    "\n",
    "tasrange_cm_hist, tasskew_cm_hist = utils.get_tasrange_tasskew(tas = tas_cm_hist, tasmin = tasmin_cm_hist, tasmax = tasmax_cm_hist)\n",
    "tasrange_cm_validate, tasskew_cm_validate = utils.get_tasrange_tasskew(tas = tas_cm_validate, tasmin = tasmin_cm_validate, tasmax = tasmax_cm_validate)\n",
    "\n",
    "tasrange_cm_future, tasskew_cm_future = utils.get_tasrange_tasskew(tas = tas_cm_future, tasmin = tasmin_cm_future, tasmax = tasmax_cm_future)"
   ]
  },
  {
   "cell_type": "markdown",
   "id": "afcae578",
   "metadata": {},
   "source": [
    "## Part 1: Testing assumptions\n",
    "\n",
    "Different bias correction methods rely on different assumptions, as described above. A detailed overview of assumptions associated with a specific bias correction method can be found in the documentation of each debiaser. For the sake of demonstration, we investigate the goodness of fit in this notebook:\n",
    "\n",
    "For all parametric methods, distributions are fitted to the data. Default distributions for each variable are specified in the individual debiasers. We assess the following two components:\n",
    "- Is the fit of the default distribution 'good enough' or should a different distribution be used? (1)\n",
    "- Is there any seasonality in the data that should be accounted for, for example by applying a 'running window mode' (meaning that the bias correction is fitted separately for different parts of the year, i.e. windows)? (2)\n"
   ]
  },
  {
   "cell_type": "markdown",
   "id": "92260cce",
   "metadata": {},
   "source": [
    "**Step 1: Calculating the AIC and plottinge the worst fit**\n",
    "\n",
    "The Akaike Information Criterion is a statistical method for comparative evaluation of different statistical model. The AIC balances model complexity with goodness of fit, with a lower AIC being better. The AIC is calculated as follows:\n",
    "\n",
    "$$ AIC = 2 \\frac{k}{n} - 2 \\frac{l}{n}$$\n",
    "\n",
    "whereby $l$ is the log likelihood function calculated in the following way:\n",
    "\n",
    "$$ l = - \\frac{n}{2} (1+ \\ln(2 \\pi) + \\ln (\\frac{1}{n} \\sum_{i=1}^{n} (y_i - \\hat{y_i})^2)) $$\n",
    "\n",
    "Just for the sake of demonstration, we test the fit of the normal and the beta distribution to the temperature data."
   ]
  },
  {
   "cell_type": "code",
   "execution_count": 5,
   "id": "0c3b134d",
   "metadata": {},
   "outputs": [
    {
     "name": "stderr",
     "output_type": "stream",
     "text": [
      "/Users/fionaspuler/opt/anaconda3/lib/python3.9/site-packages/scipy/stats/_continuous_distns.py:639: RuntimeWarning: invalid value encountered in sqrt\n",
      "  sk = 2*(b-a)*np.sqrt(a + b + 1) / (a + b + 2) / np.sqrt(a*b)\n",
      "/Users/fionaspuler/opt/anaconda3/lib/python3.9/site-packages/scipy/optimize/minpack.py:175: RuntimeWarning: The iteration is not making good progress, as measured by the \n",
      "  improvement from the last ten iterations.\n",
      "  warnings.warn(msg, RuntimeWarning)\n"
     ]
    }
   ],
   "source": [
    "tas_obs_aic = assumptions.calculate_aic('tas', tas_obs_validate, scipy.stats.norm, scipy.stats.beta)"
   ]
  },
  {
   "cell_type": "markdown",
   "id": "062a97ed",
   "metadata": {},
   "source": [
    "The following boxplot shows the distribution of the AIC across locations for the normal (left) and the beta (right) distribution:"
   ]
  },
  {
   "cell_type": "code",
   "execution_count": 6,
   "id": "495601cd",
   "metadata": {},
   "outputs": [
    {
     "data": {
      "text/plain": [
       "[Text(0.5, 1.0, 'Distribution of AIC values across locations \\n Daily mean near-surface air temperature')]"
      ]
     },
     "execution_count": 6,
     "metadata": {},
     "output_type": "execute_result"
    },
    {
     "data": {
      "image/png": "[encoded data removed]",
      "text/plain": [
       "<Figure size 432x288 with 1 Axes>"
      ]
     },
     "metadata": {
      "needs_background": "light"
     },
     "output_type": "display_data"
    }
   ],
   "source": [
    "assumptions.plot_aic(variable = 'tas', aic_values = tas_obs_aic)"
   ]
  },
  {
   "cell_type": "code",
   "execution_count": 7,
   "id": "e3e68083",
   "metadata": {},
   "outputs": [
    {
     "data": {
      "image/png": "[encoded data removed]",
      "text/plain": [
       "<Figure size 576x432 with 1 Axes>"
      ]
     },
     "metadata": {
      "needs_background": "light"
     },
     "output_type": "display_data"
    }
   ],
   "source": [
    "tas_obs_worst_fit = assumptions.plot_fit_worst_aic(variable = 'tas', dataset = tas_obs,  \n",
    "                                                   data_type = 'Observed', distribution = scipy.stats.beta,\n",
    "                                                   nr_bins = 100, aic_values = tas_obs_aic)\n",
    "\n",
    "\n"
   ]
  },
  {
   "cell_type": "markdown",
   "id": "da0b8227",
   "metadata": {},
   "source": [
    "Given the plot we see above, and the strong bi-modal distribution of the temperature data, we make the assumption that might be seasonal variation at play here. This can be further investigated by using the following function: it plots the time-series and autocorrelation function of the quantile residuals. It also plot a QQ plot of the normalized quantile residuals to get a picture of the goodness of fit for different quantiles. "
   ]
  },
  {
   "cell_type": "code",
   "execution_count": 8,
   "id": "5f5ccd03",
   "metadata": {},
   "outputs": [
    {
     "data": {
      "image/png": "[encoded data removed]",
      "text/plain": [
       "<Figure size 1152x360 with 3 Axes>"
      ]
     },
     "metadata": {
      "needs_background": "light"
     },
     "output_type": "display_data"
    }
   ],
   "source": [
    "tas_obs_plot_gof = assumptions.plot_quantile_residuals(variable = 'tas', dataset = tas_obs[:,0,0], data_type = 'observation data',\n",
    "                                                      distribution = scipy.stats.norm)"
   ]
  },
  {
   "cell_type": "markdown",
   "id": "50ba68c8",
   "metadata": {},
   "source": [
    "**Conclusion:**\n",
    "\n",
    "Overall the distributions do not seem to fit the temperature data too well. This is due to the bi-modal distribution of temperature. Based on the quantile residuals, we conclude that there is a strong seasonality at play. One option to address this issue would be to build a statistical model that explicitely includes the season as covariate. An alternative approach is taken, for example, in both the QDM as well as the ISIMIP debiasers - using a running mode, a different bias correction is implemented for each day / month (more details in debiaser documentation). This takes care of the seasonality."
   ]
  },
  {
   "cell_type": "markdown",
   "id": "729760e1",
   "metadata": {},
   "source": [
    "## Initializing and applying the debiasers\n",
    "\n",
    "The following section initializes and applies the debiasers ISIMIP, CDFt and Quantile Delta Mapping (QDM) to the chosen variables. For a more detailed explanaition of the bias correction methods we refer to the documentation, and for some examples on how to customize different debiasers, we refer to the notebook 03 Adjusting Debiasers (LINK)."
   ]
  },
  {
   "cell_type": "markdown",
   "id": "a222317a",
   "metadata": {},
   "source": [
    "**ISIMIP**"
   ]
  },
  {
   "cell_type": "code",
   "execution_count": 9,
   "id": "85c557ba",
   "metadata": {},
   "outputs": [],
   "source": [
    "tas_debiaser_ISIMIP = ISIMIP.from_variable(variable = 'tas')\n",
    "tas_val_debiased_ISIMIP = tas_debiaser_ISIMIP.apply(tas_obs, tas_cm_hist, tas_cm_validate, time_obs = tas_time_obs, time_cm_hist = tas_time_cm_hist, time_cm_future = tas_time_cm_validate, verbosity='ERRORS_ONLY', parallel=True)\n",
    "tas_fut_debiased_ISIMIP = tas_debiaser_ISIMIP.apply(tas_obs, tas_cm_hist, tas_cm_future, time_obs = tas_time_obs, time_cm_hist = tas_time_cm_hist, time_cm_future = tas_time_cm_future, verbosity='ERRORS_ONLY', parallel=True)"
   ]
  },
  {
   "cell_type": "code",
   "execution_count": 10,
   "id": "8390a3c9",
   "metadata": {},
   "outputs": [
    {
     "name": "stderr",
     "output_type": "stream",
     "text": [
      "/Users/fionaspuler/opt/anaconda3/lib/python3.9/site-packages/scipy/stats/_continuous_distns.py:2757: RuntimeWarning: divide by zero encountered in double_scalars\n",
      "  aest = (3-s + np.sqrt((s-3)**2 + 24*s)) / (12*s)\n",
      "/Users/fionaspuler/opt/anaconda3/lib/python3.9/site-packages/scipy/stats/_continuous_distns.py:2756: RuntimeWarning: invalid value encountered in double_scalars\n",
      "  func = lambda a: np.log(a) - sc.digamma(a) - s\n",
      "/Users/fionaspuler/opt/anaconda3/lib/python3.9/site-packages/scipy/stats/_continuous_distns.py:2756: RuntimeWarning: invalid value encountered in log\n",
      "  func = lambda a: np.log(a) - sc.digamma(a) - s\n",
      "WARNING:root:Step 6: Goodness of fit not good enough according to ks-test. Using nonparametric quantile mapping instead.\n",
      "WARNING:root:Step 6: Goodness of fit not good enough according to ks-test. Using nonparametric quantile mapping instead.\n",
      "WARNING:root:Step 6: Goodness of fit not good enough according to ks-test. Using nonparametric quantile mapping instead.\n",
      "WARNING:root:Step 6: Goodness of fit not good enough according to ks-test. Using nonparametric quantile mapping instead.\n",
      "WARNING:root:Step 6: Goodness of fit not good enough according to ks-test. Using nonparametric quantile mapping instead.\n",
      "WARNING:root:Step 6: Goodness of fit not good enough according to ks-test. Using nonparametric quantile mapping instead.\n",
      "WARNING:root:Step 6: There are no values between thresholds in cm_future, but there should be some after bias adjustment. Using nonparametric quantile mapping (instead of parametric one) between the values in cm_future and the pseudo future observations to calculate the values between threshold.\n",
      "WARNING:root:Step 6: There are no values between thresholds in cm_future, but there should be some after bias adjustment. Using nonparametric quantile mapping (instead of parametric one) between the values in cm_future and the pseudo future observations to calculate the values between threshold.\n",
      "WARNING:root:Step 6: There are no values between thresholds in cm_future, but there should be some after bias adjustment. Using nonparametric quantile mapping (instead of parametric one) between the values in cm_future and the pseudo future observations to calculate the values between threshold.\n",
      "WARNING:root:Step 6: There are no values between thresholds in cm_future, but there should be some after bias adjustment. Using nonparametric quantile mapping (instead of parametric one) between the values in cm_future and the pseudo future observations to calculate the values between threshold.\n",
      "WARNING:root:Step 6: There are no values between thresholds in cm_future, but there should be some after bias adjustment. Using nonparametric quantile mapping (instead of parametric one) between the values in cm_future and the pseudo future observations to calculate the values between threshold.\n",
      "WARNING:root:Step 6: There are no values between thresholds in cm_future, but there should be some after bias adjustment. Using nonparametric quantile mapping (instead of parametric one) between the values in cm_future and the pseudo future observations to calculate the values between threshold.\n",
      "WARNING:root:Step 6: There are no values between thresholds in cm_future, but there should be some after bias adjustment. Using nonparametric quantile mapping (instead of parametric one) between the values in cm_future and the pseudo future observations to calculate the values between threshold.\n",
      "WARNING:root:Step 6: There are no values between thresholds in cm_future, but there should be some after bias adjustment. Using nonparametric quantile mapping (instead of parametric one) between the values in cm_future and the pseudo future observations to calculate the values between threshold.\n",
      "WARNING:root:Step 6: There are no values between thresholds in cm_future, but there should be some after bias adjustment. Using nonparametric quantile mapping (instead of parametric one) between the values in cm_future and the pseudo future observations to calculate the values between threshold.\n",
      "WARNING:root:Step 6: There are no values between thresholds in cm_future, but there should be some after bias adjustment. Using nonparametric quantile mapping (instead of parametric one) between the values in cm_future and the pseudo future observations to calculate the values between threshold.\n",
      "WARNING:root:Step 6: There are no values between thresholds in cm_future, but there should be some after bias adjustment. Using nonparametric quantile mapping (instead of parametric one) between the values in cm_future and the pseudo future observations to calculate the values between threshold.\n",
      "WARNING:root:Step 6: There are no values between thresholds in cm_future, but there should be some after bias adjustment. Using nonparametric quantile mapping (instead of parametric one) between the values in cm_future and the pseudo future observations to calculate the values between threshold.\n",
      "WARNING:root:Step 6: There are no values between thresholds in cm_future, but there should be some after bias adjustment. Using nonparametric quantile mapping (instead of parametric one) between the values in cm_future and the pseudo future observations to calculate the values between threshold.\n",
      "WARNING:root:Step 6: Goodness of fit not good enough according to ks-test. Using nonparametric quantile mapping instead.\n",
      "WARNING:root:Step 6: Goodness of fit not good enough according to ks-test. Using nonparametric quantile mapping instead.\n",
      "WARNING:root:Step 6: Goodness of fit not good enough according to ks-test. Using nonparametric quantile mapping instead.\n",
      "WARNING:root:Step 6: Goodness of fit not good enough according to ks-test. Using nonparametric quantile mapping instead.\n",
      "WARNING:root:Step 6: Goodness of fit not good enough according to ks-test. Using nonparametric quantile mapping instead.\n",
      "WARNING:root:Step 6: There are no values between thresholds in cm_future, but there should be some after bias adjustment. Using nonparametric quantile mapping (instead of parametric one) between the values in cm_future and the pseudo future observations to calculate the values between threshold.\n",
      "WARNING:root:Step 6: There are no values between thresholds in cm_future, but there should be some after bias adjustment. Using nonparametric quantile mapping (instead of parametric one) between the values in cm_future and the pseudo future observations to calculate the values between threshold.\n",
      "WARNING:root:Step 6: There are no values between thresholds in cm_future, but there should be some after bias adjustment. Using nonparametric quantile mapping (instead of parametric one) between the values in cm_future and the pseudo future observations to calculate the values between threshold.\n",
      "WARNING:root:Step 6: There are no values between thresholds in cm_future, but there should be some after bias adjustment. Using nonparametric quantile mapping (instead of parametric one) between the values in cm_future and the pseudo future observations to calculate the values between threshold.\n",
      "WARNING:root:Step 6: There are no values between thresholds in cm_future, but there should be some after bias adjustment. Using nonparametric quantile mapping (instead of parametric one) between the values in cm_future and the pseudo future observations to calculate the values between threshold.\n",
      "WARNING:root:Step 6: There are no values between thresholds in cm_future, but there should be some after bias adjustment. Using nonparametric quantile mapping (instead of parametric one) between the values in cm_future and the pseudo future observations to calculate the values between threshold.\n",
      "WARNING:root:Step 6: There are no values between thresholds in cm_future, but there should be some after bias adjustment. Using nonparametric quantile mapping (instead of parametric one) between the values in cm_future and the pseudo future observations to calculate the values between threshold.\n",
      "WARNING:root:Step 6: There are no values between thresholds in cm_future, but there should be some after bias adjustment. Using nonparametric quantile mapping (instead of parametric one) between the values in cm_future and the pseudo future observations to calculate the values between threshold.\n",
      "WARNING:root:Step 6: There are no values between thresholds in cm_future, but there should be some after bias adjustment. Using nonparametric quantile mapping (instead of parametric one) between the values in cm_future and the pseudo future observations to calculate the values between threshold.\n",
      "WARNING:root:Step 6: There are no values between thresholds in cm_future, but there should be some after bias adjustment. Using nonparametric quantile mapping (instead of parametric one) between the values in cm_future and the pseudo future observations to calculate the values between threshold.\n",
      "WARNING:root:Step 6: There are no values between thresholds in cm_future, but there should be some after bias adjustment. Using nonparametric quantile mapping (instead of parametric one) between the values in cm_future and the pseudo future observations to calculate the values between threshold.\n",
      "WARNING:root:Step 6: There are no values between thresholds in cm_future, but there should be some after bias adjustment. Using nonparametric quantile mapping (instead of parametric one) between the values in cm_future and the pseudo future observations to calculate the values between threshold.\n",
      "WARNING:root:Step 6: Goodness of fit not good enough according to ks-test. Using nonparametric quantile mapping instead.\n"
     ]
    },
    {
     "name": "stderr",
     "output_type": "stream",
     "text": [
      "/Users/fionaspuler/opt/anaconda3/lib/python3.9/site-packages/scipy/stats/_continuous_distns.py:2757: RuntimeWarning: divide by zero encountered in double_scalars\n",
      "  aest = (3-s + np.sqrt((s-3)**2 + 24*s)) / (12*s)\n",
      "/Users/fionaspuler/opt/anaconda3/lib/python3.9/site-packages/scipy/stats/_continuous_distns.py:2756: RuntimeWarning: invalid value encountered in double_scalars\n",
      "  func = lambda a: np.log(a) - sc.digamma(a) - s\n",
      "/Users/fionaspuler/opt/anaconda3/lib/python3.9/site-packages/scipy/stats/_continuous_distns.py:2756: RuntimeWarning: invalid value encountered in log\n",
      "  func = lambda a: np.log(a) - sc.digamma(a) - s\n",
      "WARNING:root:Step 6: Goodness of fit not good enough according to ks-test. Using nonparametric quantile mapping instead.\n",
      "WARNING:root:Step 6: Goodness of fit not good enough according to ks-test. Using nonparametric quantile mapping instead.\n",
      "WARNING:root:Step 6: Goodness of fit not good enough according to ks-test. Using nonparametric quantile mapping instead.\n",
      "WARNING:root:Step 6: There are no values between thresholds in cm_future, but there should be some after bias adjustment. Using nonparametric quantile mapping (instead of parametric one) between the values in cm_future and the pseudo future observations to calculate the values between threshold.\n",
      "WARNING:root:Step 6: There are no values between thresholds in cm_future, but there should be some after bias adjustment. Using nonparametric quantile mapping (instead of parametric one) between the values in cm_future and the pseudo future observations to calculate the values between threshold.\n",
      "WARNING:root:Step 6: There are no values between thresholds in cm_future, but there should be some after bias adjustment. Using nonparametric quantile mapping (instead of parametric one) between the values in cm_future and the pseudo future observations to calculate the values between threshold.\n",
      "WARNING:root:Step 6: There are no values between thresholds in cm_future, but there should be some after bias adjustment. Using nonparametric quantile mapping (instead of parametric one) between the values in cm_future and the pseudo future observations to calculate the values between threshold.\n",
      "WARNING:root:Step 6: There are no values between thresholds in cm_future, but there should be some after bias adjustment. Using nonparametric quantile mapping (instead of parametric one) between the values in cm_future and the pseudo future observations to calculate the values between threshold.\n",
      "WARNING:root:Step 6: There are no values between thresholds in cm_future, but there should be some after bias adjustment. Using nonparametric quantile mapping (instead of parametric one) between the values in cm_future and the pseudo future observations to calculate the values between threshold.\n",
      "WARNING:root:Step 6: There are no values between thresholds in cm_future, but there should be some after bias adjustment. Using nonparametric quantile mapping (instead of parametric one) between the values in cm_future and the pseudo future observations to calculate the values between threshold.\n",
      "WARNING:root:Step 6: There are no values between thresholds in cm_future, but there should be some after bias adjustment. Using nonparametric quantile mapping (instead of parametric one) between the values in cm_future and the pseudo future observations to calculate the values between threshold.\n",
      "WARNING:root:Step 6: There are no values between thresholds in cm_future, but there should be some after bias adjustment. Using nonparametric quantile mapping (instead of parametric one) between the values in cm_future and the pseudo future observations to calculate the values between threshold.\n",
      "WARNING:root:Step 6: There are no values between thresholds in cm_future, but there should be some after bias adjustment. Using nonparametric quantile mapping (instead of parametric one) between the values in cm_future and the pseudo future observations to calculate the values between threshold.\n",
      "WARNING:root:Step 6: There are no values between thresholds in cm_future, but there should be some after bias adjustment. Using nonparametric quantile mapping (instead of parametric one) between the values in cm_future and the pseudo future observations to calculate the values between threshold.\n",
      "WARNING:root:Step 6: There are no values between thresholds in cm_future, but there should be some after bias adjustment. Using nonparametric quantile mapping (instead of parametric one) between the values in cm_future and the pseudo future observations to calculate the values between threshold.\n",
      "WARNING:root:Step 6: There are no values between thresholds in cm_future, but there should be some after bias adjustment. Using nonparametric quantile mapping (instead of parametric one) between the values in cm_future and the pseudo future observations to calculate the values between threshold.\n",
      "WARNING:root:Step 6: Goodness of fit not good enough according to ks-test. Using nonparametric quantile mapping instead.\n",
      "WARNING:root:Step 6: Goodness of fit not good enough according to ks-test. Using nonparametric quantile mapping instead.\n",
      "WARNING:root:Step 6: Goodness of fit not good enough according to ks-test. Using nonparametric quantile mapping instead.\n",
      "WARNING:root:Step 6: Goodness of fit not good enough according to ks-test. Using nonparametric quantile mapping instead.\n",
      "WARNING:root:Step 6: Goodness of fit not good enough according to ks-test. Using nonparametric quantile mapping instead.\n",
      "WARNING:root:Step 6: Goodness of fit not good enough according to ks-test. Using nonparametric quantile mapping instead.\n",
      "WARNING:root:Step 6: Goodness of fit not good enough according to ks-test. Using nonparametric quantile mapping instead.\n",
      "WARNING:root:Step 6: Goodness of fit not good enough according to ks-test. Using nonparametric quantile mapping instead.\n",
      "WARNING:root:Step 6: Goodness of fit not good enough according to ks-test. Using nonparametric quantile mapping instead.\n",
      "WARNING:root:Step 6: Goodness of fit not good enough according to ks-test. Using nonparametric quantile mapping instead.\n",
      "WARNING:root:Step 6: Goodness of fit not good enough according to ks-test. Using nonparametric quantile mapping instead.\n",
      "WARNING:root:Step 6: Goodness of fit not good enough according to ks-test. Using nonparametric quantile mapping instead.\n",
      "WARNING:root:Step 6: Goodness of fit not good enough according to ks-test. Using nonparametric quantile mapping instead.\n"
     ]
    }
   ],
   "source": [
    "pr_debiaser_ISIMIP = ISIMIP.from_variable(variable = 'pr')\n",
    "pr_val_debiased_ISIMIP = pr_debiaser_ISIMIP.apply(pr_obs, pr_cm_hist, pr_cm_validate, time_obs = pr_time_obs, time_cm_hist = pr_time_cm_hist, time_cm_future = pr_time_cm_validate, verbosity='ERRORS_ONLY', parallel=True)\n",
    "pr_fut_debiased_ISIMIP = pr_debiaser_ISIMIP.apply(pr_obs, pr_cm_hist, pr_cm_future, time_obs = pr_time_obs, time_cm_hist = pr_time_cm_hist, time_cm_future = pr_time_cm_future, verbosity='ERRORS_ONLY', parallel=True)"
   ]
  },
  {
   "cell_type": "code",
   "execution_count": null,
   "id": "54a66ceb",
   "metadata": {},
   "outputs": [],
   "source": [
    "tasrange_debiaser_ISIMIP = ISIMIP.from_variable(variable = 'tasrange')\n",
    "tasrange_val_debiased_ISIMIP = pr_debiaser_ISIMIP.apply(tasrange_obs, tasrange_cm_hist, tasrange_cm_validate, time_obs = tas_time_obs, time_cm_hist = tas_time_cm_hist, time_cm_future = tas_time_cm_validate, verbosity='ERRORS_ONLY', parallel=True)\n",
    "tasrange_fut_debiased_ISIMIP = pr_debiaser_ISIMIP.apply(tasrange_obs, tasrange_cm_hist, tasrange_cm_future, time_obs = tas_time_obs, time_cm_hist = tas_time_cm_hist, time_cm_future = tas_time_cm_future, verbosity='ERRORS_ONLY', parallel=True)"
   ]
  },
  {
   "cell_type": "code",
   "execution_count": null,
   "id": "8b62bcdf",
   "metadata": {},
   "outputs": [],
   "source": [
    "tasskew_debiaser_ISIMIP = ISIMIP.from_variable(variable = 'tasrange')\n",
    "tasskew_val_debiased_ISIMIP = pr_debiaser_ISIMIP.apply(tasskew_obs, tasskew_cm_hist, tasskew_cm_validate, time_obs = tas_time_obs, time_cm_hist = tas_time_cm_hist, time_cm_future = tas_time_cm_validate, verbosity='ERRORS_ONLY', parallel=True)\n",
    "tasskew_fut_debiased_ISIMIP = pr_debiaser_ISIMIP.apply(tasskew_obs, tasskew_cm_hist, tasskew_cm_future, time_obs = tas_time_obs, time_cm_hist = tas_time_cm_hist, time_cm_future = tas_time_cm_future, verbosity='ERRORS_ONLY', parallel=True)"
   ]
  },
  {
   "cell_type": "code",
   "execution_count": null,
   "id": "2e504c4a",
   "metadata": {},
   "outputs": [],
   "source": [
    "tasmin_val_debiased_ISIMIP, tasmax_val_debiased_ISIMIP = utils.get_tasmin_tasmax(tas = tas_val_debiased_ISIMIP, tasrange = tasrange_val_debiased_ISIMIP, tasskew = tasskew_val_debiased_ISIMIP)\n",
    "tasmin_fut_debiased_ISIMIP, tasmax_fut_debiased_ISIMIP = utils.get_tasmin_tasmax(tas = tas_fut_debiased_ISIMIP, tasrange = tasrange_fut_debiased_ISIMIP, tasskew = tasskew_fut_debiased_ISIMIP)"
   ]
  },
  {
   "cell_type": "markdown",
   "id": "47f65350",
   "metadata": {},
   "source": [
    "**CDFt**"
   ]
  },
  {
   "cell_type": "code",
   "execution_count": null,
   "id": "e86f1448",
   "metadata": {},
   "outputs": [],
   "source": [
    "tas_debiaser_CDFT = CDFt.from_variable(variable = 'tas')\n",
    "tas_val_debiased_CDFT = tas_debiaser_CDFT.apply(tas_obs, tas_cm_hist, tas_cm_validate, time_obs = tas_time_obs, time_cm_hist = tas_time_cm_hist, time_cm_future = tas_time_cm_validate, verbosity='ERRORS_ONLY')\n",
    "tas_fut_debiased_CDFT = tas_debiaser_CDFT.apply(tas_obs, tas_cm_hist, tas_cm_future, time_obs = tas_time_obs, time_cm_hist = tas_time_cm_hist, time_cm_future = tas_time_cm_future, verbosity='ERRORS_ONLY')"
   ]
  },
  {
   "cell_type": "code",
   "execution_count": null,
   "id": "e5990122",
   "metadata": {},
   "outputs": [],
   "source": [
    "pr_debiaser_CDFT = CDFt.from_variable(variable = 'pr')\n",
    "pr_val_debiased_CDFT = pr_debiaser_CDFT.apply(pr_obs, pr_cm_hist, pr_cm_validate, time_obs = pr_time_obs, time_cm_hist = pr_time_cm_hist, time_cm_future = pr_time_cm_validate, verbosity='ERRORS_ONLY')\n",
    "pr_fut_debiased_CDFT = pr_debiaser_CDFT.apply(pr_obs, pr_cm_hist, pr_cm_future, time_obs = pr_time_obs, time_cm_hist = pr_time_cm_hist, time_cm_future = pr_time_cm_future, verbosity='ERRORS_ONLY')"
   ]
  },
  {
   "cell_type": "markdown",
   "id": "058c8ce2",
   "metadata": {},
   "source": [
    "**Quantile Delta Mapping**"
   ]
  },
  {
   "cell_type": "code",
   "execution_count": null,
   "id": "0582c566",
   "metadata": {},
   "outputs": [],
   "source": [
    "tas_debiaser_QDM = QuantileDeltaMapping.from_variable(variable = \"tas\")\n",
    "tas_val_debiased_QDM = tas_debiaser_QDM.apply(tas_obs, tas_cm_hist, tas_cm_validate, time_obs = tas_time_obs, time_cm_hist = tas_time_cm_hist, time_cm_future = tas_time_cm_validate, verbosity='ERRORS_ONLY', parallel=True)\n",
    "tas_fut_debiased_QDM = tas_debiaser_QDM.apply(tas_obs, tas_cm_hist, tas_cm_future, time_obs = tas_time_obs, time_cm_hist = tas_time_cm_hist, time_cm_future = tas_time_cm_future, verbosity='ERRORS_ONLY', parallel=True)"
   ]
  },
  {
   "cell_type": "code",
   "execution_count": null,
   "id": "df0f6f64",
   "metadata": {},
   "outputs": [],
   "source": [
    "pr_debiaser_QDM = QuantileDeltaMapping.from_variable(variable = \"pr\")\n",
    "pr_val_debiased_QDM = pr_debiaser_QDM.apply(pr_obs, pr_cm_hist, pr_cm_validate, time_obs = pr_time_obs, time_cm_hist = pr_time_cm_hist, time_cm_future = pr_time_cm_validate, verbosity='ERRORS_ONLY', parallel=True)\n",
    "pr_fut_debiased_QDM = pr_debiaser_QDM.apply(pr_obs, pr_cm_hist, pr_cm_future, time_obs = pr_time_obs, time_cm_hist = pr_time_cm_hist, time_cm_future = pr_time_cm_future, verbosity='ERRORS_ONLY', parallel=True)"
   ]
  },
  {
   "cell_type": "markdown",
   "id": "d10b8506",
   "metadata": {},
   "source": [
    "**Quantile Mapping**"
   ]
  },
  {
   "cell_type": "code",
   "execution_count": null,
   "id": "d5a8f1b5",
   "metadata": {},
   "outputs": [],
   "source": [
    "tas_debiaser_QM = QuantileMapping.from_variable(variable = \"tas\")\n",
    "tas_val_debiased_QM = tas_debiaser_QM.apply(tas_obs, tas_cm_hist, tas_cm_validate, verbosity='INFO')\n",
    "tas_fut_debiased_QM = tas_debiaser_QM.apply(tas_obs, tas_cm_hist, tas_cm_future, verbosity='INFO')\n",
    "\n",
    "pr_debiaser_QM = QuantileMapping.from_variable(variable = \"pr\")\n",
    "pr_val_debiased_QM = pr_debiaser_QM.apply(pr_obs, pr_cm_hist, pr_cm_validate, verbosity='INFO')\n",
    "pr_fut_debiased_QM = pr_debiaser_QM.apply(pr_obs, pr_cm_hist, pr_cm_future, verbosity='INFO')"
   ]
  },
  {
   "cell_type": "markdown",
   "id": "eca0ac18",
   "metadata": {},
   "source": [
    "## Part 2: Evaluation on validation dataset"
   ]
  },
  {
   "cell_type": "markdown",
   "id": "2038d266",
   "metadata": {},
   "source": [
    "### Overview: Statistical Properties and Threshold Metrics\n",
    "\n",
    "There are essentially two types of analysis that the evaluation module enables you to conduct: one ist an analysis of the statistical properties of the debiased variable - this includes the marginal bias of descriptive statistics such as the mean, or 5th and 95th percentile, as well as the difference in spatial correlation structure. The other is an analysis of threshold metrics. What we mean by the term threshold metrics here, is that specific thresholds are often relevent for impact studies and other applications - for example the number of frost days for crop modelling. Here we can analyse not only the marginal bias, but also the spell length of days of threshold exceedance, or their spatial extent and spatiotemporal cluster size.\n",
    "\n",
    "The following table gives an overview, which types of analysis are currently available in this release of the package.\n",
    "\n",
    "\n",
    "\n",
    "|                  | Statistical Properties | Threshold Metrics  |\n",
    "| ------------     | ---------------------- | -----------------  |\n",
    "| **Marginal**     | x - marginal bias      | x - marginal bias  |\n",
    "| **Temporal**     |                        | x - spell length   |\n",
    "| **Spatial**      | x - RMSE corr matrices | x - spatial extent |\n",
    "| **Spatioteporal**|                        | x - cluster size   |\n",
    "| **Multivariate** | x - correlation        |                    |\n"
   ]
  },
  {
   "cell_type": "markdown",
   "id": "8d3cd3ca",
   "metadata": {},
   "source": [
    "For each variable, we implemented a number of standard metrics, inspired by the climate extreme indices https://www.climdex.org/learn/indices/"
   ]
  },
  {
   "cell_type": "code",
   "execution_count": null,
   "id": "17f54f26",
   "metadata": {},
   "outputs": [],
   "source": [
    "tas_metrics = [warm_days, cold_days]\n",
    "pr_metrics = [dry_days, wet_days, R10mm, R20mm]\n",
    "tasmin_metrics = [tropical_nights, frost_days]\n",
    "tasmax_metrics = [summer_days, icing_days]"
   ]
  },
  {
   "cell_type": "markdown",
   "id": "7e3e1762",
   "metadata": {},
   "source": [
    "Users can have a look at the properties of different threshold metrics:"
   ]
  },
  {
   "cell_type": "code",
   "execution_count": null,
   "id": "917f79c1",
   "metadata": {},
   "outputs": [],
   "source": [
    "dry_days"
   ]
  },
  {
   "cell_type": "markdown",
   "id": "8ceb981f",
   "metadata": {},
   "source": [
    "And edit their properties:"
   ]
  },
  {
   "cell_type": "code",
   "execution_count": null,
   "id": "0be3e615",
   "metadata": {},
   "outputs": [],
   "source": [
    "dry_days.threshold_type =\"lower\""
   ]
  },
  {
   "cell_type": "markdown",
   "id": "5252969b",
   "metadata": {},
   "source": [
    "In addition, the user can define entirely new metrics:"
   ]
  },
  {
   "cell_type": "code",
   "execution_count": null,
   "id": "1f73708b",
   "metadata": {},
   "outputs": [],
   "source": [
    "R95p = AccumulativeThresholdMetric(name = '95th percentile \\n precipitation', variable = 'pr', \n",
    "               threshold_value = np.quantile(np.ndarray.flatten(pr_obs), 0.95), threshold_type = 'higher')\n",
    "\n",
    "R99p = AccumulativeThresholdMetric(name = '99th percentile \\n precipitation', variable = 'pr', \n",
    "               threshold_value = np.quantile(np.ndarray.flatten(pr_obs), 0.99), threshold_type = 'higher')"
   ]
  },
  {
   "cell_type": "markdown",
   "id": "b7189eee",
   "metadata": {},
   "source": [
    "### Marginal Evaluation"
   ]
  },
  {
   "cell_type": "markdown",
   "id": "43cd6761",
   "metadata": {},
   "source": [
    "We start by investigating the marginal bias of our chosen metrics and descriptive statistics. The user can start with a broader overview plot (see below) and then further investigate that have a particularly large bias, or a particularly large spread across locations, to investigate further.\n",
    "\n",
    "The plot below shows the distribution of marginal (location-wise) biases across locations. For the mean, this is for example calculated as follows:\n",
    "\n",
    "$$ \\text{Bias}_{ij} = 100 * \\frac{\\bar{\\text{tas}}_{obs, ij} - \\bar{\\text{tas}}_{cm, ij}}{\\bar{\\text{tas}}_{obs, ij}} $$"
   ]
  },
  {
   "cell_type": "code",
   "execution_count": null,
   "id": "23d4ed17",
   "metadata": {},
   "outputs": [],
   "source": [
    "tas_marginal_bias_data = marginal.calculate_marginal_bias(metrics = tas_metrics,\n",
    "                                                          remove_outliers = False,\n",
    "                                                          obs_data = tas_obs_validate,\n",
    "                                                          raw = tas_cm_validate, \n",
    "                                                          CDFT = tas_val_debiased_CDFT,\n",
    "                                                          ISIMIP = tas_val_debiased_ISIMIP,\n",
    "                                                          QM = tas_val_debiased_QM, QDM = tas_val_debiased_QDM)\n",
    "\n",
    "tas_marginal_bias_plot = marginal.plot_marginal_bias(variable = 'tas', bias_df = tas_marginal_bias_data)\n",
    "plt.show()"
   ]
  },
  {
   "cell_type": "markdown",
   "id": "8f14f76b",
   "metadata": {},
   "source": [
    "The variable can be further investigated by plotting the associated histogram:"
   ]
  },
  {
   "cell_type": "code",
   "execution_count": null,
   "id": "63226532",
   "metadata": {},
   "outputs": [],
   "source": [
    "tas_marginal_histograms = marginal.plot_histogram(variable = 'tas', data_obs = tas_obs_validate[:, 0,0],\n",
    "                                                  raw = tas_cm_validate[:, 0,0], CDFT = tas_val_debiased_CDFT[:, 0,0],\n",
    "                                                  ISIMIP = tas_val_debiased_ISIMIP[:, 0,0],\n",
    "                                                  QDM = tas_val_debiased_QDM[:, 0,0],\n",
    "                                                  QM = tas_val_debiased_QM[:, 0,0])\n",
    "plt.show()"
   ]
  },
  {
   "cell_type": "code",
   "execution_count": null,
   "id": "cd7f1a8f",
   "metadata": {},
   "outputs": [],
   "source": [
    "pr_marginal_bias_data = marginal.calculate_marginal_bias(metrics = pr_metrics, obs_data = pr_obs_validate,\n",
    "                                                         raw = pr_cm_validate, \n",
    "                                                         CDFT = pr_val_debiased_CDFT,\n",
    "                                                         ISIMIP = pr_val_debiased_ISIMIP,\n",
    "                                                         QDM = pr_val_debiased_QDM,\n",
    "                                                         QM = pr_val_debiased_QM)\n",
    "\n",
    "pr_marginal_bias_plot = marginal.plot_marginal_bias(variable = 'pr', bias_df = pr_marginal_bias_data)\n",
    "plt.show()"
   ]
  },
  {
   "cell_type": "markdown",
   "id": "8f101128",
   "metadata": {},
   "source": [
    "For precipitation, the percentage bias of the mean is much larger than for temperature. Also, biases in very high or low percentiles (more extreme values) naturally tend to be larger. It is also advised to interprete percentage bias values with care.\n",
    "\n",
    "Tasmin and tasmax are currently only bias corrected in ISIMIP:"
   ]
  },
  {
   "cell_type": "code",
   "execution_count": null,
   "id": "de3178d2",
   "metadata": {},
   "outputs": [],
   "source": [
    "tasmax_marginal_bias_data = marginal.calculate_marginal_bias(metrics = tasmax_metrics,\n",
    "                                                             remove_outliers = False,\n",
    "                                                 obs_data = tasmax_obs_validate,\n",
    "                                                 raw = tasmax_cm_validate, \n",
    "                                                 ISIMIP = tasmax_val_debiased_ISIMIP)\n",
    "\n",
    "tasmax_marginal_bias_plot = marginal.plot_marginal_bias(variable = 'tasmax', bias_df = tasmax_marginal_bias_data)\n",
    "plt.show()"
   ]
  },
  {
   "cell_type": "markdown",
   "id": "25e0bf0f",
   "metadata": {},
   "source": [
    "In this specific application, it seems as though ISIMIP is actually increasing the bias of tasmax (daily maximum near-surface air temperature) compared to the raw climate model. Similarly for tasmin, ISIMIP is not improving the bias."
   ]
  },
  {
   "cell_type": "code",
   "execution_count": null,
   "id": "551153ff",
   "metadata": {},
   "outputs": [],
   "source": [
    "tasmin_marginal_bias_data = marginal.calculate_marginal_bias(metrics = tasmin_metrics,\n",
    "                                                             remove_outliers = False,\n",
    "                                                 obs_data = tasmin_obs_validate,\n",
    "                                                 raw = tasmin_cm_validate, \n",
    "                                                 ISIMIP = tasmin_val_debiased_ISIMIP)\n",
    "\n",
    "tasmax_marginal_bias_plot = marginal.plot_marginal_bias(variable = 'tasmin', bias_df = tasmin_marginal_bias_data)\n",
    "plt.show()"
   ]
  },
  {
   "cell_type": "markdown",
   "id": "e01e96f4",
   "metadata": {},
   "source": [
    "**Spatial distribution of marginal biases**: The violinplots above can be further investigated by explicetly plotting the spatial distribution of the bias. In the functions below, the user has to choose one metric to investigate further.\n",
    "\n",
    "Particularly high biases in a certain region could point to deficiencies of the climate model in resolving the topography, or to a mis-placement of a large-scale atmospheric circulation."
   ]
  },
  {
   "cell_type": "code",
   "execution_count": null,
   "id": "e393562f",
   "metadata": {},
   "outputs": [],
   "source": [
    "tas_bias_map_mean = marginal.plot_bias_spatial(variable = 'tas', metric = 'Mean', bias_df = tas_marginal_bias_data)"
   ]
  },
  {
   "cell_type": "markdown",
   "id": "5f29be41",
   "metadata": {},
   "source": [
    "Temperature is overestimated in some regions, and underestimated in others, although the percentage bias even in the raw climate model is quite small. All bias correction method manage to improve the bias of the temperature mean consisten across the area."
   ]
  },
  {
   "cell_type": "code",
   "execution_count": null,
   "id": "881038c1",
   "metadata": {},
   "outputs": [],
   "source": [
    "pr_bias_map_mean = marginal.plot_bias_spatial(variable = 'pr', metric = 'Mean', bias_df = pr_marginal_bias_data)"
   ]
  },
  {
   "cell_type": "markdown",
   "id": "7c614a9b",
   "metadata": {},
   "source": [
    "As noted above, precipitation has a higher bias to begin with. Both CDFt and ISIMIP improve the bias overall, but for both there is a region where the bias correction does not seem to working as well and the precipitation mean is underestimated."
   ]
  },
  {
   "cell_type": "code",
   "execution_count": null,
   "id": "1118deb3",
   "metadata": {},
   "outputs": [],
   "source": [
    "tasmin_bias_map_mean = marginal.plot_bias_spatial(variable = 'tasmin', metric = 'Frost days \\n  (tasmin<0°C)', bias_df = tasmin_marginal_bias_data)"
   ]
  },
  {
   "cell_type": "code",
   "execution_count": null,
   "id": "9d7d4879",
   "metadata": {},
   "outputs": [],
   "source": [
    "pr_bias_map_extreme = marginal.plot_bias_spatial(variable = 'pr', metric = 'Very wet days \\n (> 10 mm/day)', bias_df = pr_marginal_bias_data)"
   ]
  },
  {
   "cell_type": "markdown",
   "id": "aa8e2fd8",
   "metadata": {},
   "source": [
    "Extreme precipitatino (>20 mm/day) has biases up to 100% in the raw climate model. Both CDFt as well as ISIMIP improve this bias, although CDFt performs slightly better overall. Quantile Delta Mapping and Quantile Mapping fail to improve the bias of extreme precipitation, with QDM significantly underestimating, and QM significantly overestimating it across the entire area."
   ]
  },
  {
   "cell_type": "markdown",
   "id": "12451358",
   "metadata": {},
   "source": [
    "### Spatial, temporal and spatiotemporal properties \n",
    "\n",
    "For each threshold metric, we can calculate the temporal spell length, the spatial extent and the 'spatiotemporal cluster size'.\n",
    "\n",
    "- Spell length: as the name suggests, we count the number of temporally consecutive threshold exceedances at each location. All numbers below the minimum spell length are kicked out at some point. The plot shows the distribution of spell lengths over the entire area.\n",
    "- Spatial extent: this metric calculates which percentage of the area is beyond the threshold, given that one location is above the threshold.\n",
    "- Spatiotemporal clusters: this metrics calculates spatiotemporally connected sets of threshold exceedance across the data.\n",
    "\n",
    "The plots below show these three distributions for some sample threshold metrics. Each one of them can individually calculated using the bespoke functions."
   ]
  },
  {
   "cell_type": "code",
   "execution_count": null,
   "id": "73609582",
   "metadata": {},
   "outputs": [],
   "source": [
    "dry_days.violinplots_clusters(minimum_length = 4, obs = pr_obs_validate,\n",
    "                              raw = pr_cm_validate, QM = pr_val_debiased_QM,\n",
    "                              QDM = pr_val_debiased_QDM,\n",
    "                              ISIMIP = pr_val_debiased_ISIMIP, \n",
    "                              CDFT = pr_val_debiased_CDFT)"
   ]
  },
  {
   "cell_type": "code",
   "execution_count": null,
   "id": "03d52f3a",
   "metadata": {},
   "outputs": [],
   "source": [
    "wet_days.violinplots_clusters(minimum_length = 4, obs = pr_obs_validate,\n",
    "                              raw = pr_cm_validate, QM = pr_val_debiased_QM,\n",
    "                              QDM = pr_val_debiased_QDM,\n",
    "                              ISIMIP = pr_val_debiased_ISIMIP, \n",
    "                              CDFT = pr_val_debiased_CDFT)"
   ]
  },
  {
   "cell_type": "code",
   "execution_count": null,
   "id": "09d19169",
   "metadata": {},
   "outputs": [],
   "source": [
    "frost_days.violinplots_clusters(minimum_length = 4, obs = tasmin_obs_validate,\n",
    "                              raw = tasmin_cm_validate,\n",
    "                              ISIMIP = tasmin_val_debiased_ISIMIP)"
   ]
  },
  {
   "cell_type": "code",
   "execution_count": null,
   "id": "e2b607db",
   "metadata": {},
   "outputs": [],
   "source": [
    "tropical_nights.violinplots_clusters(minimum_length = 4, obs = tasmin_obs_validate,\n",
    "                              raw = tasmin_cm_validate,\n",
    "                              ISIMIP = tasmin_val_debiased_ISIMIP)"
   ]
  },
  {
   "cell_type": "code",
   "execution_count": null,
   "id": "9bfdfe64",
   "metadata": {},
   "outputs": [],
   "source": [
    "icing_days.violinplots_clusters(minimum_length = 4, obs = tasmax_obs_validate,\n",
    "                              raw = tasmax_cm_validate,\n",
    "                              ISIMIP = tasmax_val_debiased_ISIMIP)"
   ]
  },
  {
   "cell_type": "markdown",
   "id": "7f9e2cf9",
   "metadata": {},
   "source": [
    "We see that bias correction can significantly modify the spatiotemporal extent of threshold metrics. Depending on the application case and context, individual spatiotemporal extent metrics can and should be investigated in more detail, focusing for example on a location-wise bias.\n",
    "\n",
    "We can now look at the spatial correlation within the entire dataset in different variables. The metric chosen here, calculating the root-mean standard deviation, is slightly unconventional. At each location, the RMSE between the correlation matrix of this location with all others in the observational data, and the correlation matrix in the climate model data is calculated and output in the following map as a single number at each location."
   ]
  },
  {
   "cell_type": "code",
   "execution_count": null,
   "id": "b7c0cbab",
   "metadata": {},
   "outputs": [],
   "source": [
    "tas_rmsd_spatial = correlation.rmse_spatial_correlation_distribution(variable = 'tas', \n",
    "                                                                     obs_data = tas_obs_validate, raw = tas_cm_future,\n",
    "                                                                     QM = tas_val_debiased_QM, ISIMIP = tas_val_debiased_ISIMIP,\n",
    "                                                                     QDM = tas_val_debiased_QDM,\n",
    "                                                                     CDFT = tas_val_debiased_CDFT)\n",
    "tas_rmsd_spatial_plot = correlation.rmse_spatial_correlation_boxplot(variable = 'tas', dataset = tas_rmsd_spatial)\n",
    "tas_rmsd_spatial_plot.show()"
   ]
  },
  {
   "cell_type": "markdown",
   "id": "0d5d0288",
   "metadata": {},
   "source": [
    "### Multivariate structure\n",
    "\n",
    "This section is currently in an experimental phase and will be expanded upon in the next releases. Nevertheless, we briefly guide you through the analysis that is currently possible."
   ]
  },
  {
   "cell_type": "code",
   "execution_count": null,
   "id": "a313940c",
   "metadata": {},
   "outputs": [],
   "source": [
    "tas_pr_corr = multivariate.calculate_and_spatialplot_multivariate_correlation(variables = ['tas', 'pr'], obs = [tas_obs_validate, pr_obs_validate], \n",
    "                         raw = [tas_cm_validate, pr_cm_validate], CDFT = [tas_val_debiased_CDFT, pr_val_debiased_CDFT],\n",
    "                                                               ISIMIP = [tas_val_debiased_ISIMIP, pr_val_debiased_ISIMIP],\n",
    "                                                               QM = [tas_val_debiased_QM, pr_val_debiased_QM],\n",
    "                                                                QDM = [tas_val_debiased_QDM, pr_val_debiased_QDM])\n",
    "plt.show()"
   ]
  },
  {
   "cell_type": "code",
   "execution_count": null,
   "id": "466ebd52",
   "metadata": {},
   "outputs": [],
   "source": [
    "tasmin_pr_corr = multivariate.calculate_and_spatialplot_multivariate_correlation(variables = ['tasmin', 'pr'], obs = [tas_obs_validate, pr_obs_validate], \n",
    "                         raw = [tas_cm_validate, pr_cm_validate], ISIMIP = [tas_val_debiased_ISIMIP, pr_val_debiased_ISIMIP])\n",
    "plt.show()"
   ]
  },
  {
   "cell_type": "markdown",
   "id": "b3dd8a16",
   "metadata": {},
   "source": [
    "We see that whereas CDFt, and also to a certain degree ISIMIP, reproduce the structure between tas and pr, Quantile Mapping and Quantile Delta Mapping perform a lot less well. If the relationship between temperature and precipitation is import for the impact study chosen, such as for example investigating frost days that are also wet, CDFt and ISIMIP seem to be preferable in this testing scenario.\n",
    "\n",
    "In an experimental component of the multivatiate evaluation, we can also plot the two variables as well as their correlation with each other at a single location:"
   ]
  },
  {
   "cell_type": "code",
   "execution_count": null,
   "id": "bf21a550",
   "metadata": {},
   "outputs": [],
   "source": [
    "tas_pr_obs, tas_pr_isimip = multivariate.create_multivariate_dataframes(variables = ['tas', 'pr'], datasets_obs = [tas_obs_validate, pr_obs_validate], \n",
    "                                                            datasets_bc = [tas_val_debiased_ISIMIP, pr_val_debiased_ISIMIP], gridpoint = (1,1))\n",
    "\n",
    "tas_pr_corr_11 = multivariate.plot_correlation_single_location(variables = ['tas', 'pr'], obs_df = tas_pr_obs, bc_df = tas_pr_isimip)"
   ]
  },
  {
   "cell_type": "markdown",
   "id": "50fdef6f",
   "metadata": {},
   "source": [
    "We see that a linear approximation does not fit the inter-variable structure too well.\n",
    "\n",
    "In another experimental component, we can also use bootstrapping to obtain a distribution of estimates of the correlation:"
   ]
  },
  {
   "cell_type": "code",
   "execution_count": null,
   "id": "bd689b27",
   "metadata": {},
   "outputs": [],
   "source": [
    "tas_pr_corr_bs = multivariate.plot_bootstrap_correlation_replicates(obs_df = tas_pr_obs, bc_df = tas_pr_isimip,\n",
    "                                                                    bc_name = 'ISIMIP', size = 500)"
   ]
  },
  {
   "cell_type": "markdown",
   "id": "a31cbce9",
   "metadata": {},
   "source": [
    "We see that the two distributions clearly are not draws from a common distribution, as also indicated by the result of the ks test."
   ]
  },
  {
   "cell_type": "markdown",
   "id": "c2f42b4a",
   "metadata": {},
   "source": [
    "**Conditional joint threshold exceedance of threshold metrics**\n",
    "\n",
    "To investigate the compounding of different threshold metrics directly, we can calculate their conditional joint threshold exceedance. This is calculated using the following equation:\n",
    "\n",
    "$$ p (\\text{Metric1} | \\text{Metric2}) = \\frac {p(\\text{Metric1} , \\text{Metric2})}{p(\\text{Metric2})} $$\n",
    "\n",
    "In this example, we calculate the probability of wet days, given that these days are also frost days. The boxplot shows the distribution of conditional exceedance probability across locations."
   ]
  },
  {
   "cell_type": "code",
   "execution_count": null,
   "id": "718c7201",
   "metadata": {},
   "outputs": [],
   "source": [
    "frost_wet = multivariate.calculate_conditional_joint_threshold_exceedance(wet_days, frost_days,\n",
    "                                                             obs = [pr_obs_validate, tasmin_obs_validate], \n",
    "                                                             raw = [pr_cm_validate, tasmin_cm_validate],\n",
    "                                                            ISIMIP = [pr_val_debiased_ISIMIP, tasmin_val_debiased_ISIMIP])\n",
    "\n",
    "frost_wet_plot = multivariate.plot_conditional_joint_threshold_exceedance(frost_wet)\n",
    "plt.show()"
   ]
  },
  {
   "cell_type": "markdown",
   "id": "2f4b15d9",
   "metadata": {},
   "source": [
    "We see that in the raw climate model, there are a number of locations where the probability of a compound frost and wet event is lower than in observations. This probability of co-occurrence is further reduced after applying ISIMIP. "
   ]
  },
  {
   "cell_type": "markdown",
   "id": "3c3cda1d",
   "metadata": {},
   "source": [
    "## Part 3: Evaluation of trend preservation\n",
    "\n",
    "\n",
    "This last section investigates whether the chosen bias correction method modify the trend in the climate model between the validation and the future period. The following steps are conducted in the calculation:\n",
    "- First, the trend in the chosen statistic (for example the mean) between the validation period and the future period in the *raw* climate model is calculated. \n",
    "- Then, the same calculation is performed for the debiased models of interest\n",
    "- Finally the percentage difference between these two trends is calculated."
   ]
  },
  {
   "cell_type": "code",
   "execution_count": null,
   "id": "e275d972",
   "metadata": {},
   "outputs": [],
   "source": [
    "tas_trend_bias_data = trend.calculate_future_trend_bias(variable = 'tas', \n",
    "                                                        remove_outliers = True,\n",
    "                                                  raw_validate = tas_cm_validate, raw_future = tas_cm_future,\n",
    "                                                        metrics = tas_metrics,\n",
    "                                                  QM = [tas_val_debiased_QM, tas_fut_debiased_QM],\n",
    "                                                        QDM = [tas_val_debiased_QM, tas_fut_debiased_QDM],\n",
    "                                                  ISIMIP = [tas_val_debiased_ISIMIP, tas_fut_debiased_ISIMIP],\n",
    "                                                  CDFT = [tas_val_debiased_CDFT, tas_fut_debiased_CDFT])\n",
    "\n",
    "\n",
    "\n",
    "\n",
    "tas_trend_plot = trend.plot_future_trend_bias_boxplot(variable ='tas', bias_df = tas_trend_bias_data)\n",
    "plt.show()"
   ]
  },
  {
   "cell_type": "markdown",
   "id": "1e2f9846",
   "metadata": {},
   "source": [
    "Wee see that while the trend in mean and 95th percentile is decently preserved in delta-QM, ISIMIP and CDFt, it is modified more in the Quantile Delta Mapping method."
   ]
  },
  {
   "cell_type": "code",
   "execution_count": null,
   "id": "74f24be7",
   "metadata": {},
   "outputs": [],
   "source": [
    "tasmin_trend_bias_data = trend.calculate_future_trend_bias(variable = 'tasmin', \n",
    "                                                        remove_outliers = True,\n",
    "                                                  raw_validate = tasmin_cm_validate, raw_future = tasmin_cm_future,\n",
    "                                                        metrics = tasmin_metrics,\n",
    "                                                  ISIMIP = [tasmin_val_debiased_ISIMIP, tasmin_fut_debiased_ISIMIP])\n",
    "\n",
    "\n",
    "\n",
    "\n",
    "tasmin_trend_plot = trend.plot_future_trend_bias_boxplot(variable ='tasmin', bias_df = tasmin_trend_bias_data)\n",
    "plt.show()"
   ]
  },
  {
   "cell_type": "code",
   "execution_count": null,
   "id": "9aaaecec",
   "metadata": {},
   "outputs": [],
   "source": [
    "tasmax_trend_bias_data = trend.calculate_future_trend_bias(variable = 'tasmax', \n",
    "                                                        remove_outliers = True,\n",
    "                                                  raw_validate = tasmax_cm_validate, raw_future = tasmax_cm_future,\n",
    "                                                        metrics = tasmax_metrics,\n",
    "                                                  ISIMIP = [tasmax_val_debiased_ISIMIP, tasmax_fut_debiased_ISIMIP])\n",
    "\n",
    "\n",
    "\n",
    "\n",
    "tasmax_trend_plot = trend.plot_future_trend_bias_boxplot(variable ='tasmax', bias_df = tasmax_trend_bias_data)\n",
    "plt.show()"
   ]
  },
  {
   "cell_type": "markdown",
   "id": "ab36761b",
   "metadata": {},
   "source": [
    "**Conclusion**: Overall we see that CDF-t, ISIMIP and delta-Quantile Mapping perform decently well when it comes to trend-preservation. Quantile Delta Mapping less so. However, each of these debiasers still introduces trend modifications in certaint variables, such as icing days. This evaluation should therefore be tailored to the impact study at hand."
   ]
  },
  {
   "cell_type": "markdown",
   "id": "df7e2194",
   "metadata": {},
   "source": [
    "## References"
   ]
  },
  {
   "cell_type": "markdown",
   "id": "cf9008eb",
   "metadata": {},
   "source": [
    "AIC: https://www.sciencedirect.com/topics/social-sciences/akaike-information-criterion"
   ]
  }
 ],
 "metadata": {
  "kernelspec": {
   "display_name": "Python 3 (ipykernel)",
   "language": "python",
   "name": "python3"
  },
  "language_info": {
   "codemirror_mode": {
    "name": "ipython",
    "version": 3
   },
   "file_extension": ".py",
   "mimetype": "text/x-python",
   "name": "python",
   "nbconvert_exporter": "python",
   "pygments_lexer": "ipython3",
   "version": "3.9.12"
  }
 },
 "nbformat": 4,
 "nbformat_minor": 5
}
