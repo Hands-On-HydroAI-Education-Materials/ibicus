{
 "cells": [
  {
   "cell_type": "markdown",
   "id": "c9cffae3-8d9c-4da7-a70d-350e185215fe",
   "metadata": {},
   "source": [
    "# Getting to know the flexibility of ibicus: modifying and adjusting debiasers"
   ]
  },
  {
   "cell_type": "markdown",
   "id": "c0679686-c320-4d2e-843d-45b3e2e59faa",
   "metadata": {},
   "source": [
    "The following notebook provides some insights into how to adjust parameters to modify debiasers. \n",
    "\n",
    "For in-depth information about the debiasers and their usage refer to the documentation that can be found under - API reference -> debias-module."
   ]
  },
  {
   "cell_type": "code",
   "execution_count": 1,
   "id": "7a4ad5dd-ed67-48d1-8302-67656e8d39b7",
   "metadata": {},
   "outputs": [],
   "source": [
    "import numpy as np\n",
    "import matplotlib.pyplot as plt"
   ]
  },
  {
   "cell_type": "markdown",
   "id": "bd6c5a1f-a7d9-40cc-b39c-2799252acaec",
   "metadata": {
    "jp-MarkdownHeadingCollapsed": true,
    "tags": []
   },
   "source": [
    "## 0. Read in data"
   ]
  },
  {
   "cell_type": "markdown",
   "id": "d72bdb59-914a-43a9-bed9-f43c42c98d09",
   "metadata": {},
   "source": [
    "We start by reading in and preprocessing some data. For an explanation of the steps please refer to the \"Getting started\" notebook."
   ]
  },
  {
   "cell_type": "code",
   "execution_count": 2,
   "id": "2830b3d6-44f3-4008-bfbb-76f5a4ea057c",
   "metadata": {},
   "outputs": [],
   "source": [
    "import numpy as np\n",
    "\n",
    "def get_data(variable, data_path = \"testing_data/\"):\n",
    "    # Load in the data \n",
    "    data = np.load(f\"{data_path}{variable}.npz\", allow_pickle = True)\n",
    "    # Return arrays\n",
    "    return data[\"obs\"], data[\"cm_hist\"], data[\"cm_future\"], data[\"time_obs\"], data[\"time_cm_hist\"], data[\"time_cm_future\"]"
   ]
  },
  {
   "cell_type": "markdown",
   "id": "527787a6",
   "metadata": {},
   "source": [
    "We work with daily mean near-surface temperature ('tas') and precipitation flux ('pr') in this notebook. Lets get the testing data for these two variables:"
   ]
  },
  {
   "cell_type": "code",
   "execution_count": 3,
   "id": "04fc1aca-8029-4db0-8ab9-162fc87397d2",
   "metadata": {},
   "outputs": [],
   "source": [
    "tas_obs, tas_cm_hist, tas_cm_future, tas_time_obs, tas_time_cm_hist, tas_time_cm_future = get_data(\"tas\")\n",
    "pr_obs, pr_cm_hist, pr_cm_future, pr_time_obs, pr_time_cm_hist, pr_time_cm_future = get_data(\"tas\")"
   ]
  },
  {
   "cell_type": "markdown",
   "id": "a5ab11b8-f183-48c3-928d-5fa727aa953d",
   "metadata": {
    "tags": []
   },
   "source": [
    "## 1. A first example"
   ]
  },
  {
   "cell_type": "markdown",
   "id": "77b1a5e0-5b5b-4ca7-b219-3d528ef50d5f",
   "metadata": {},
   "source": [
    "As shown in the 'getting started' notebook, each debiaser is a subclass of the abstract `Debiaser` class. This provides a unified interface for initialising and applying debiasers. Let's read in some temperature data:"
   ]
  },
  {
   "cell_type": "markdown",
   "id": "759ec3a4-120f-42a7-bfec-1b672865fb85",
   "metadata": {},
   "source": [
    "We can initialise a debiaser for `\"tas\"` by using the `from_variable` method. If we want to apply ISIMIP and Equidistant-CDF-Matching (ECDFM) we can write:"
   ]
  },
  {
   "cell_type": "code",
   "execution_count": 4,
   "id": "c6d33b6a-de6c-48aa-9c74-21cd77b23f5f",
   "metadata": {},
   "outputs": [],
   "source": [
    "from ibicus.debias import ECDFM, ISIMIP, DeltaChange\n",
    "\n",
    "tas_debiaser_ECDFM = ECDFM.from_variable(\"tas\")\n",
    "tas_debiaser_ISIMIP = ISIMIP.from_variable(\"tas\")"
   ]
  },
  {
   "cell_type": "markdown",
   "id": "786a6fea-3ef7-435c-9b92-cd6078355aee",
   "metadata": {},
   "source": [
    "Applying the debiasers works using the `apply`-classmethod."
   ]
  },
  {
   "cell_type": "code",
   "execution_count": 5,
   "id": "4afeddf1-46e9-4d06-95b1-3e558a85c95d",
   "metadata": {},
   "outputs": [
    {
     "name": "stderr",
     "output_type": "stream",
     "text": [
      "INFO:root:----- Running debiasing for variable: Daily mean near-surface air temperature -----\n",
      "  0%|                                                     | 0/225 [00:00<?, ?it/s]/Users/fionaspuler/opt/anaconda3/lib/python3.9/site-packages/scipy/stats/_continuous_distns.py:624: RuntimeWarning: overflow encountered in _beta_ppf\n",
      "  return _boost._beta_ppf(q, a, b)\n",
      " 37%|████████████████▍                           | 84/225 [00:51<01:21,  1.73it/s]/Users/fionaspuler/opt/anaconda3/lib/python3.9/site-packages/scipy/stats/_continuous_distns.py:639: RuntimeWarning: invalid value encountered in sqrt\n",
      "  sk = 2*(b-a)*np.sqrt(a + b + 1) / (a + b + 2) / np.sqrt(a*b)\n",
      " 88%|█████████████████████████████████████▋     | 197/225 [01:54<00:13,  2.12it/s]/Users/fionaspuler/opt/anaconda3/lib/python3.9/site-packages/scipy/optimize/minpack.py:175: RuntimeWarning: The iteration is not making good progress, as measured by the \n",
      "  improvement from the last ten iterations.\n",
      "  warnings.warn(msg, RuntimeWarning)\n",
      "100%|███████████████████████████████████████████| 225/225 [02:07<00:00,  1.77it/s]\n"
     ]
    }
   ],
   "source": [
    "tas_ECDFM = tas_debiaser_ECDFM.apply(tas_obs, tas_cm_hist, tas_cm_future)"
   ]
  },
  {
   "cell_type": "markdown",
   "id": "edc2f6a9-a396-4f7e-bfe8-1d36ec057bd1",
   "metadata": {},
   "source": [
    "Some debiasers like ISIMIP require additional arguments in the apply-method like the dates:"
   ]
  },
  {
   "cell_type": "code",
   "execution_count": 6,
   "id": "b0c24d55-8a4f-41fc-b430-6e8f6ef7ec28",
   "metadata": {},
   "outputs": [
    {
     "name": "stderr",
     "output_type": "stream",
     "text": [
      "INFO:root:----- Running debiasing for variable: Daily mean near-surface air temperature -----\n",
      "100%|███████████████████████████████████████████| 225/225 [33:11<00:00,  8.85s/it]\n"
     ]
    }
   ],
   "source": [
    "tas_ISIMIP = tas_debiaser_ISIMIP.apply(tas_obs, tas_cm_hist, tas_cm_future, time_obs = tas_time_obs, time_cm_hist = tas_time_cm_hist, time_cm_future =tas_time_cm_future)"
   ]
  },
  {
   "cell_type": "markdown",
   "id": "46824882-f503-44f7-ad22-2c0cc3a8c60e",
   "metadata": {},
   "source": [
    "We can compare the bias corrected output using the evaluation framework. In this notebook, we limit ourselves to plotting the distribution of the debiased data at location [1,1]:"
   ]
  },
  {
   "cell_type": "code",
   "execution_count": 8,
   "id": "a7de0bf6-e9b2-4393-8219-d2ae992c75c5",
   "metadata": {},
   "outputs": [
    {
     "data": {
      "image/png": "[encoded data removed]",
      "text/plain": [
       "<Figure size 432x288 with 1 Axes>"
      ]
     },
     "metadata": {
      "needs_background": "light"
     },
     "output_type": "display_data"
    }
   ],
   "source": [
    "plt.hist(tas_ECDFM[:, 1, 1], bins=\"auto\", alpha = 0.5, label = \"ECDFM\")\n",
    "plt.hist(tas_ISIMIP[:, 1, 1], bins=\"auto\", alpha = 0.5, label = \"ISIMIP\")\n",
    "plt.legend()\n",
    "plt.show()"
   ]
  },
  {
   "cell_type": "markdown",
   "id": "b7f98cdd-d056-4cd4-b756-a29d1002d32a",
   "metadata": {},
   "source": [
    "We see that the data distributions produced by ECDFM and ISIMIP do differ. For info on how to evaluate this have a look at our notebook on evaluation"
   ]
  },
  {
   "cell_type": "markdown",
   "id": "9f8c657f-1c05-40a6-95cb-2a4497f70bd9",
   "metadata": {},
   "source": [
    "## 2. Going deeper: initialising and applying debiasers"
   ]
  },
  {
   "cell_type": "markdown",
   "id": "51825b29",
   "metadata": {},
   "source": [
    "Every debiaser that is part of the package consists of a set of parameters controlling the behavior as well as a `from_variable` and `apply`-method."
   ]
  },
  {
   "cell_type": "markdown",
   "id": "e68dd34f-bb4c-4819-87d2-db966b8510b7",
   "metadata": {},
   "source": [
    "### 2.1. Initialisation"
   ]
  },
  {
   "cell_type": "markdown",
   "id": "1d88c145-1b49-485f-8661-dfdb561fed56",
   "metadata": {},
   "source": [
    "Let's have a look at the tas-ECDFM debiaser defined above using the `from_variable` method."
   ]
  },
  {
   "cell_type": "code",
   "execution_count": 9,
   "id": "8ee38a89-4459-47a6-ad31-f797be1b98db",
   "metadata": {},
   "outputs": [
    {
     "data": {
      "text/plain": [
       "ECDFM(variable='Daily mean near-surface air temperature', reasonable_physical_range=[0, 400], distribution=<scipy.stats._continuous_distns.beta_gen object at 0x7f94df0a9340>)"
      ]
     },
     "execution_count": 9,
     "metadata": {},
     "output_type": "execute_result"
    }
   ],
   "source": [
    "tas_debiaser_ECDFM"
   ]
  },
  {
   "cell_type": "markdown",
   "id": "0d08991e-0107-4c33-8580-6d4ec34fffaf",
   "metadata": {},
   "source": [
    "We see that two parameters are set: a variable referring to the variable we are debiasing, as well as a distribution. These parameters fully determine the setting of this particular debiaser, equidistant-CDF-matching.\n",
    "\n",
    "Using the `from_variable` method, a debiaser is initialized using the default parameters associated with this variable for this particular debiaser. The same outcome can be achieved by directly setting the required parameters, without using the `from_variable` method:"
   ]
  },
  {
   "cell_type": "code",
   "execution_count": 10,
   "id": "c7df1d2d-3af7-4297-838b-df53939e586d",
   "metadata": {},
   "outputs": [],
   "source": [
    "import scipy.stats\n",
    "tas_debiaser_ECDFM_v2 = ECDFM(distribution=scipy.stats.beta)"
   ]
  },
  {
   "cell_type": "markdown",
   "id": "55464614",
   "metadata": {},
   "source": [
    "And we can see that these debiasers are absolutely identical:"
   ]
  },
  {
   "cell_type": "code",
   "execution_count": 11,
   "id": "41a6b923",
   "metadata": {},
   "outputs": [
    {
     "data": {
      "text/plain": [
       "True"
      ]
     },
     "execution_count": 11,
     "metadata": {},
     "output_type": "execute_result"
    }
   ],
   "source": [
    "tas_debiaser_ECDFM == tas_debiaser_ECDFM_v2"
   ]
  },
  {
   "cell_type": "markdown",
   "id": "6a01b50b",
   "metadata": {},
   "source": [
    "**Learning**: if we set all the parameters needed manually to the default parameters of a specific variable, the debiaser will be equivalent to a debiaser initialized using the `from_variable` method.\n",
    "\n",
    "Have a look at the documentation of each bias correction method to find out which parameters need to be set for that specific debiaser.\n",
    "\n",
    "The table below gives an overview of which variables currently have default setting for which debiasers - 'experimental default settings' are marked with brackets around the x."
   ]
  },
  {
   "cell_type": "markdown",
   "id": "46c0d20a-d3a2-496b-a13d-f1816c8bada9",
   "metadata": {},
   "source": [
    "TODO: Insert table"
   ]
  },
  {
   "cell_type": "markdown",
   "id": "c1e9127a-f408-4b3f-891f-113591d73fe6",
   "metadata": {},
   "source": [
    "If we try to initialize a debiaser that does not exist for a certain variable using the `from_variable` method, we are basically asking for error message:"
   ]
  },
  {
   "cell_type": "code",
   "execution_count": 12,
   "id": "40c0f5b1-e52c-4eaa-9398-9d6db556b705",
   "metadata": {},
   "outputs": [
    {
     "ename": "ValueError",
     "evalue": "Unfortunately currently no default settings exist for the variable tasmin in the debiaser ISIMIP. You can set the required class parameters manually by using the class constructor.",
     "output_type": "error",
     "traceback": [
      "\u001b[0;31m---------------------------------------------------------------------------\u001b[0m",
      "\u001b[0;31mValueError\u001b[0m                                Traceback (most recent call last)",
      "Input \u001b[0;32mIn [12]\u001b[0m, in \u001b[0;36m<cell line: 1>\u001b[0;34m()\u001b[0m\n\u001b[0;32m----> 1\u001b[0m debiaser3 \u001b[38;5;241m=\u001b[39m \u001b[43mISIMIP\u001b[49m\u001b[38;5;241;43m.\u001b[39;49m\u001b[43mfrom_variable\u001b[49m\u001b[43m(\u001b[49m\u001b[38;5;124;43m\"\u001b[39;49m\u001b[38;5;124;43mtasmin\u001b[39;49m\u001b[38;5;124;43m\"\u001b[39;49m\u001b[43m)\u001b[49m\n",
      "File \u001b[0;32m~/opt/anaconda3/lib/python3.9/site-packages/ibicus/debias/_isimip.py:301\u001b[0m, in \u001b[0;36mISIMIP.from_variable\u001b[0;34m(cls, variable, **kwargs)\u001b[0m\n\u001b[1;32m    299\u001b[0m \u001b[38;5;129m@classmethod\u001b[39m\n\u001b[1;32m    300\u001b[0m \u001b[38;5;28;01mdef\u001b[39;00m \u001b[38;5;21mfrom_variable\u001b[39m(\u001b[38;5;28mcls\u001b[39m, variable: Union[\u001b[38;5;28mstr\u001b[39m, Variable], \u001b[38;5;241m*\u001b[39m\u001b[38;5;241m*\u001b[39mkwargs):\n\u001b[0;32m--> 301\u001b[0m     \u001b[38;5;28;01mreturn\u001b[39;00m \u001b[38;5;28;43msuper\u001b[39;49m\u001b[43m(\u001b[49m\u001b[43m)\u001b[49m\u001b[38;5;241;43m.\u001b[39;49m\u001b[43m_from_variable\u001b[49m\u001b[43m(\u001b[49m\n\u001b[1;32m    302\u001b[0m \u001b[43m        \u001b[49m\u001b[38;5;28;43mcls\u001b[39;49m\u001b[43m,\u001b[49m\n\u001b[1;32m    303\u001b[0m \u001b[43m        \u001b[49m\u001b[43mvariable\u001b[49m\u001b[38;5;241;43m=\u001b[39;49m\u001b[43mvariable\u001b[49m\u001b[43m,\u001b[49m\n\u001b[1;32m    304\u001b[0m \u001b[43m        \u001b[49m\u001b[43mdefault_settings_variable\u001b[49m\u001b[38;5;241;43m=\u001b[39;49m\u001b[43misimip3_variable_settings\u001b[49m\u001b[43m,\u001b[49m\n\u001b[1;32m    305\u001b[0m \u001b[43m        \u001b[49m\u001b[43mdefault_settings_general\u001b[49m\u001b[38;5;241;43m=\u001b[39;49m\u001b[43misimip3_general_settings\u001b[49m\u001b[43m,\u001b[49m\n\u001b[1;32m    306\u001b[0m \u001b[43m        \u001b[49m\u001b[38;5;241;43m*\u001b[39;49m\u001b[38;5;241;43m*\u001b[39;49m\u001b[43mkwargs\u001b[49m\u001b[43m,\u001b[49m\n\u001b[1;32m    307\u001b[0m \u001b[43m    \u001b[49m\u001b[43m)\u001b[49m\n",
      "File \u001b[0;32m~/opt/anaconda3/lib/python3.9/site-packages/ibicus/debias/_debiaser.py:116\u001b[0m, in \u001b[0;36mDebiaser._from_variable\u001b[0;34m(child_class, variable, default_settings_variable, experimental_default_setting_variable, default_settings_general, **kwargs)\u001b[0m\n\u001b[1;32m    114\u001b[0m         variable_settings \u001b[38;5;241m=\u001b[39m experimental_default_setting_variable[variable_object]\n\u001b[1;32m    115\u001b[0m     \u001b[38;5;28;01melse\u001b[39;00m:\n\u001b[0;32m--> 116\u001b[0m         \u001b[38;5;28;01mraise\u001b[39;00m \u001b[38;5;167;01mValueError\u001b[39;00m(\n\u001b[1;32m    117\u001b[0m             \u001b[38;5;124mf\u001b[39m\u001b[38;5;124m\"\u001b[39m\u001b[38;5;124mUnfortunately currently no default settings exist for the variable \u001b[39m\u001b[38;5;132;01m{\u001b[39;00mvariable\u001b[38;5;132;01m}\u001b[39;00m\u001b[38;5;124m in the debiaser \u001b[39m\u001b[38;5;132;01m{\u001b[39;00mchild_class\u001b[38;5;241m.\u001b[39m\u001b[38;5;18m__name__\u001b[39m\u001b[38;5;132;01m}\u001b[39;00m\u001b[38;5;124m. You can set the required class parameters manually by using the class constructor.\u001b[39m\u001b[38;5;124m\"\u001b[39m\n\u001b[1;32m    118\u001b[0m         )\n\u001b[1;32m    120\u001b[0m \u001b[38;5;66;03m# Instantiate class\u001b[39;00m\n\u001b[1;32m    121\u001b[0m parameters \u001b[38;5;241m=\u001b[39m {\n\u001b[1;32m    122\u001b[0m     \u001b[38;5;124m\"\u001b[39m\u001b[38;5;124mvariable\u001b[39m\u001b[38;5;124m\"\u001b[39m: variable_object\u001b[38;5;241m.\u001b[39mname,\n\u001b[1;32m    123\u001b[0m     \u001b[38;5;124m\"\u001b[39m\u001b[38;5;124mreasonable_physical_range\u001b[39m\u001b[38;5;124m\"\u001b[39m: variable_object\u001b[38;5;241m.\u001b[39mreasonable_physical_range,\n\u001b[1;32m    124\u001b[0m     \u001b[38;5;241m*\u001b[39m\u001b[38;5;241m*\u001b[39mdefault_settings_general,\n\u001b[1;32m    125\u001b[0m     \u001b[38;5;241m*\u001b[39m\u001b[38;5;241m*\u001b[39mvariable_settings,\n\u001b[1;32m    126\u001b[0m }\n",
      "\u001b[0;31mValueError\u001b[0m: Unfortunately currently no default settings exist for the variable tasmin in the debiaser ISIMIP. You can set the required class parameters manually by using the class constructor."
     ]
    }
   ],
   "source": [
    "debiaser3 = ISIMIP.from_variable(\"tasmin\")"
   ]
  },
  {
   "cell_type": "markdown",
   "id": "affead10-d3fd-4447-8a00-1b6a82e1bdfb",
   "metadata": {},
   "source": [
    "ISIMIP instead offers the option to debias `tasrange` and `tasskew` and calculate `tasmin` from those."
   ]
  },
  {
   "cell_type": "markdown",
   "id": "5fcf6d02-cbad-4f99-b796-632821482c3b",
   "metadata": {},
   "source": [
    "Some debiasers offer additionally a `for_precipitation` to initialise it to apply it to precipitation (`pr`). Precipitation methods can be a bit more complicated and sometimes require the specification of a threshold under which precipitation is assumed to be zero. The `for_precipitation`-method is there to facilitate the choice of method.\n",
    "\n",
    "For example we can initialise a `QuantileMapping` debiaser with a precipitation gamma hurdle model. A hurdle model is a two step model where precipitation occurrence is modelled binomially and then a gamma distribution is assumed for the amounts. An alternative model is the censored model where all precipitation amounts under a threshold (so also all dry days) are assumed censored, so labeled 'not known' to the model.\n",
    "\n",
    "Let's initialize both:"
   ]
  },
  {
   "cell_type": "code",
   "execution_count": 13,
   "id": "2062b508-acb6-4b3b-97db-31175cd04c8a",
   "metadata": {},
   "outputs": [],
   "source": [
    "from ibicus.debias import QuantileMapping\n",
    "\n",
    "# Initialise debiaser\n",
    "pr_debiaser_QM_hurdle = QuantileMapping.for_precipitation(model_type = \"hurdle\")\n",
    "pr_debiaser_QM_censored = QuantileMapping.for_precipitation(model_type = \"censored\", censoring_threshold = 0.1/86400)"
   ]
  },
  {
   "cell_type": "markdown",
   "id": "a687e70a-2a00-4902-9120-ff62ba3f624d",
   "metadata": {},
   "source": [
    "### 2.2. Application"
   ]
  },
  {
   "cell_type": "markdown",
   "id": "3bb595a4-da0d-4271-be83-d3639b8778ac",
   "metadata": {},
   "source": [
    "Applying the debiaser is easy with the apply-function. Lets initialise and apply a `DeltaChange` debiaser for `\"tas\"`:"
   ]
  },
  {
   "cell_type": "code",
   "execution_count": 15,
   "id": "2ff9194b-afae-476e-859c-5aa49a795beb",
   "metadata": {},
   "outputs": [
    {
     "name": "stderr",
     "output_type": "stream",
     "text": [
      "INFO:root:----- Running debiasing for variable: Daily mean near-surface air temperature -----\n",
      "100%|█████████████████████████████████████████| 225/225 [00:00<00:00, 3826.64it/s]\n"
     ]
    }
   ],
   "source": [
    "tas_debiaser_DC = DeltaChange.from_variable(\"tas\")\n",
    "tas_debiased_DC = tas_debiaser_DC.apply(tas_obs, tas_cm_hist, tas_cm_future)"
   ]
  },
  {
   "cell_type": "markdown",
   "id": "dfcbf921-e1c4-46ba-bdc8-e9eadcea9c67",
   "metadata": {},
   "source": [
    "As you can see, the apply function needs three numpy arrays of data in the form: \n",
    "\n",
    "- obs representing observations of a climatological variable\n",
    "- cm_hist representing climate model values for a climatological variable during a reference/the observational period\n",
    "- cm_future representing climate model values for a climatological variable during a future  or application period that is to be debiased\n",
    "\n",
    "All three are assumed to be 3d-numpy arrays where the first dimension corresponds to time and the other two to spatial locations. The locations in obs, cm_hist  and cm_future need to be the same and observational data should be interpolated to the climate model grid prior to applying the bias correction.\n",
    "\n",
    "Besides obs, cm_hist and cm_future some debiasers might also require additional information like the dates to which observations and cm_values correspond, to for example apply the debiaser in a running window-mode. We have already seen an example in the first chapter of this notebook, when we initialized and applied ISIMIP. Dates datasets are arrays of dates in one of several formats:"
   ]
  },
  {
   "cell_type": "code",
   "execution_count": 16,
   "id": "fae174d1-0db7-4668-8781-15a375c40422",
   "metadata": {},
   "outputs": [
    {
     "data": {
      "text/plain": [
       "array([cftime.DatetimeGregorian(1979, 1, 1, 0, 0, 0, 0, has_year_zero=False),\n",
       "       cftime.DatetimeGregorian(1979, 1, 2, 0, 0, 0, 0, has_year_zero=False),\n",
       "       cftime.DatetimeGregorian(1979, 1, 3, 0, 0, 0, 0, has_year_zero=False),\n",
       "       ...,\n",
       "       cftime.DatetimeGregorian(2005, 12, 29, 0, 0, 0, 0, has_year_zero=False),\n",
       "       cftime.DatetimeGregorian(2005, 12, 30, 0, 0, 0, 0, has_year_zero=False),\n",
       "       cftime.DatetimeGregorian(2005, 12, 31, 0, 0, 0, 0, has_year_zero=False)],\n",
       "      dtype=object)"
      ]
     },
     "execution_count": 16,
     "metadata": {},
     "output_type": "execute_result"
    }
   ],
   "source": [
    "tas_time_obs"
   ]
  },
  {
   "cell_type": "markdown",
   "id": "7b2dc041-1895-42a2-9e88-be8c58e524da",
   "metadata": {},
   "source": [
    "ISIMIP also runs without having been passed date arguments, by inference:"
   ]
  },
  {
   "cell_type": "code",
   "execution_count": 17,
   "id": "58807008-b4f1-4a6c-8a9b-3b94e686c05f",
   "metadata": {},
   "outputs": [
    {
     "name": "stderr",
     "output_type": "stream",
     "text": [
      "INFO:root:----- Running debiasing for variable: Daily mean near-surface air temperature -----\n",
      "  0%|                                                     | 0/225 [00:00<?, ?it/s]WARNING:root:\n",
      "                    ISIMIP runs without time-information for at least one of obs, cm_hist or cm_future.\n",
      "                    This information is inferred, assuming the first observation is on a January 1st. Observations are chunked according to the assumed time information. \n",
      "                    This might lead to slight numerical differences to the run with time information, however the debiasing is not fundamentally changed.\n",
      "                    \n",
      "  0%|▏                                            | 1/225 [00:02<10:06,  2.71s/it]WARNING:root:\n",
      "                    ISIMIP runs without time-information for at least one of obs, cm_hist or cm_future.\n",
      "                    This information is inferred, assuming the first observation is on a January 1st. Observations are chunked according to the assumed time information. \n",
      "                    This might lead to slight numerical differences to the run with time information, however the debiasing is not fundamentally changed.\n",
      "                    \n",
      "  1%|▍                                            | 2/225 [00:05<10:16,  2.76s/it]WARNING:root:\n",
      "                    ISIMIP runs without time-information for at least one of obs, cm_hist or cm_future.\n",
      "                    This information is inferred, assuming the first observation is on a January 1st. Observations are chunked according to the assumed time information. \n",
      "                    This might lead to slight numerical differences to the run with time information, however the debiasing is not fundamentally changed.\n",
      "                    \n",
      "  1%|▌                                            | 3/225 [00:08<10:22,  2.80s/it]WARNING:root:\n",
      "                    ISIMIP runs without time-information for at least one of obs, cm_hist or cm_future.\n",
      "                    This information is inferred, assuming the first observation is on a January 1st. Observations are chunked according to the assumed time information. \n",
      "                    This might lead to slight numerical differences to the run with time information, however the debiasing is not fundamentally changed.\n",
      "                    \n",
      "  2%|▊                                            | 4/225 [00:11<10:22,  2.82s/it]WARNING:root:\n",
      "                    ISIMIP runs without time-information for at least one of obs, cm_hist or cm_future.\n",
      "                    This information is inferred, assuming the first observation is on a January 1st. Observations are chunked according to the assumed time information. \n",
      "                    This might lead to slight numerical differences to the run with time information, however the debiasing is not fundamentally changed.\n",
      "                    \n",
      "  2%|█                                            | 5/225 [00:13<10:18,  2.81s/it]WARNING:root:\n",
      "                    ISIMIP runs without time-information for at least one of obs, cm_hist or cm_future.\n",
      "                    This information is inferred, assuming the first observation is on a January 1st. Observations are chunked according to the assumed time information. \n",
      "                    This might lead to slight numerical differences to the run with time information, however the debiasing is not fundamentally changed.\n",
      "                    \n",
      "  3%|█▏                                           | 6/225 [00:16<10:25,  2.86s/it]WARNING:root:\n",
      "                    ISIMIP runs without time-information for at least one of obs, cm_hist or cm_future.\n",
      "                    This information is inferred, assuming the first observation is on a January 1st. Observations are chunked according to the assumed time information. \n",
      "                    This might lead to slight numerical differences to the run with time information, however the debiasing is not fundamentally changed.\n",
      "                    \n",
      "  3%|█▍                                           | 7/225 [00:19<10:35,  2.92s/it]WARNING:root:\n",
      "                    ISIMIP runs without time-information for at least one of obs, cm_hist or cm_future.\n",
      "                    This information is inferred, assuming the first observation is on a January 1st. Observations are chunked according to the assumed time information. \n",
      "                    This might lead to slight numerical differences to the run with time information, however the debiasing is not fundamentally changed.\n",
      "                    \n",
      "  4%|█▌                                           | 8/225 [00:22<10:36,  2.93s/it]WARNING:root:\n",
      "                    ISIMIP runs without time-information for at least one of obs, cm_hist or cm_future.\n",
      "                    This information is inferred, assuming the first observation is on a January 1st. Observations are chunked according to the assumed time information. \n",
      "                    This might lead to slight numerical differences to the run with time information, however the debiasing is not fundamentally changed.\n",
      "                    \n",
      "  4%|█▊                                           | 9/225 [00:25<10:34,  2.94s/it]WARNING:root:\n",
      "                    ISIMIP runs without time-information for at least one of obs, cm_hist or cm_future.\n",
      "                    This information is inferred, assuming the first observation is on a January 1st. Observations are chunked according to the assumed time information. \n",
      "                    This might lead to slight numerical differences to the run with time information, however the debiasing is not fundamentally changed.\n",
      "                    \n",
      "  4%|█▉                                          | 10/225 [00:28<10:26,  2.91s/it]WARNING:root:\n",
      "                    ISIMIP runs without time-information for at least one of obs, cm_hist or cm_future.\n",
      "                    This information is inferred, assuming the first observation is on a January 1st. Observations are chunked according to the assumed time information. \n",
      "                    This might lead to slight numerical differences to the run with time information, however the debiasing is not fundamentally changed.\n",
      "                    \n",
      "  5%|██▏                                         | 11/225 [00:31<10:20,  2.90s/it]WARNING:root:\n",
      "                    ISIMIP runs without time-information for at least one of obs, cm_hist or cm_future.\n",
      "                    This information is inferred, assuming the first observation is on a January 1st. Observations are chunked according to the assumed time information. \n",
      "                    This might lead to slight numerical differences to the run with time information, however the debiasing is not fundamentally changed.\n",
      "                    \n",
      "  5%|██▎                                         | 12/225 [00:35<11:14,  3.17s/it]WARNING:root:\n",
      "                    ISIMIP runs without time-information for at least one of obs, cm_hist or cm_future.\n",
      "                    This information is inferred, assuming the first observation is on a January 1st. Observations are chunked according to the assumed time information. \n",
      "                    This might lead to slight numerical differences to the run with time information, however the debiasing is not fundamentally changed.\n",
      "                    \n",
      "  6%|██▌                                         | 13/225 [00:39<12:02,  3.41s/it]WARNING:root:\n",
      "                    ISIMIP runs without time-information for at least one of obs, cm_hist or cm_future.\n",
      "                    This information is inferred, assuming the first observation is on a January 1st. Observations are chunked according to the assumed time information. \n",
      "                    This might lead to slight numerical differences to the run with time information, however the debiasing is not fundamentally changed.\n",
      "                    \n",
      "  6%|██▋                                         | 14/225 [00:44<13:20,  3.79s/it]WARNING:root:\n",
      "                    ISIMIP runs without time-information for at least one of obs, cm_hist or cm_future.\n",
      "                    This information is inferred, assuming the first observation is on a January 1st. Observations are chunked according to the assumed time information. \n",
      "                    This might lead to slight numerical differences to the run with time information, however the debiasing is not fundamentally changed.\n",
      "                    \n"
     ]
    },
    {
     "name": "stderr",
     "output_type": "stream",
     "text": [
      "  7%|██▉                                         | 15/225 [00:48<13:57,  3.99s/it]WARNING:root:\n",
      "                    ISIMIP runs without time-information for at least one of obs, cm_hist or cm_future.\n",
      "                    This information is inferred, assuming the first observation is on a January 1st. Observations are chunked according to the assumed time information. \n",
      "                    This might lead to slight numerical differences to the run with time information, however the debiasing is not fundamentally changed.\n",
      "                    \n",
      "  7%|███▏                                        | 16/225 [00:52<13:47,  3.96s/it]WARNING:root:\n",
      "                    ISIMIP runs without time-information for at least one of obs, cm_hist or cm_future.\n",
      "                    This information is inferred, assuming the first observation is on a January 1st. Observations are chunked according to the assumed time information. \n",
      "                    This might lead to slight numerical differences to the run with time information, however the debiasing is not fundamentally changed.\n",
      "                    \n",
      "  8%|███▎                                        | 17/225 [00:56<13:35,  3.92s/it]WARNING:root:\n",
      "                    ISIMIP runs without time-information for at least one of obs, cm_hist or cm_future.\n",
      "                    This information is inferred, assuming the first observation is on a January 1st. Observations are chunked according to the assumed time information. \n",
      "                    This might lead to slight numerical differences to the run with time information, however the debiasing is not fundamentally changed.\n",
      "                    \n",
      "  8%|███▌                                        | 18/225 [00:59<13:16,  3.85s/it]WARNING:root:\n",
      "                    ISIMIP runs without time-information for at least one of obs, cm_hist or cm_future.\n",
      "                    This information is inferred, assuming the first observation is on a January 1st. Observations are chunked according to the assumed time information. \n",
      "                    This might lead to slight numerical differences to the run with time information, however the debiasing is not fundamentally changed.\n",
      "                    \n",
      "  8%|███▋                                        | 19/225 [01:03<12:44,  3.71s/it]WARNING:root:\n",
      "                    ISIMIP runs without time-information for at least one of obs, cm_hist or cm_future.\n",
      "                    This information is inferred, assuming the first observation is on a January 1st. Observations are chunked according to the assumed time information. \n",
      "                    This might lead to slight numerical differences to the run with time information, however the debiasing is not fundamentally changed.\n",
      "                    \n",
      "  9%|███▉                                        | 20/225 [01:06<12:19,  3.61s/it]WARNING:root:\n",
      "                    ISIMIP runs without time-information for at least one of obs, cm_hist or cm_future.\n",
      "                    This information is inferred, assuming the first observation is on a January 1st. Observations are chunked according to the assumed time information. \n",
      "                    This might lead to slight numerical differences to the run with time information, however the debiasing is not fundamentally changed.\n",
      "                    \n",
      "  9%|████                                        | 21/225 [01:10<12:11,  3.59s/it]WARNING:root:\n",
      "                    ISIMIP runs without time-information for at least one of obs, cm_hist or cm_future.\n",
      "                    This information is inferred, assuming the first observation is on a January 1st. Observations are chunked according to the assumed time information. \n",
      "                    This might lead to slight numerical differences to the run with time information, however the debiasing is not fundamentally changed.\n",
      "                    \n",
      " 10%|████▎                                       | 22/225 [01:13<11:55,  3.52s/it]WARNING:root:\n",
      "                    ISIMIP runs without time-information for at least one of obs, cm_hist or cm_future.\n",
      "                    This information is inferred, assuming the first observation is on a January 1st. Observations are chunked according to the assumed time information. \n",
      "                    This might lead to slight numerical differences to the run with time information, however the debiasing is not fundamentally changed.\n",
      "                    \n",
      " 10%|████▍                                       | 23/225 [01:17<12:00,  3.56s/it]WARNING:root:\n",
      "                    ISIMIP runs without time-information for at least one of obs, cm_hist or cm_future.\n",
      "                    This information is inferred, assuming the first observation is on a January 1st. Observations are chunked according to the assumed time information. \n",
      "                    This might lead to slight numerical differences to the run with time information, however the debiasing is not fundamentally changed.\n",
      "                    \n",
      " 11%|████▋                                       | 24/225 [01:20<11:46,  3.52s/it]WARNING:root:\n",
      "                    ISIMIP runs without time-information for at least one of obs, cm_hist or cm_future.\n",
      "                    This information is inferred, assuming the first observation is on a January 1st. Observations are chunked according to the assumed time information. \n",
      "                    This might lead to slight numerical differences to the run with time information, however the debiasing is not fundamentally changed.\n",
      "                    \n",
      " 11%|████▉                                       | 25/225 [01:23<11:33,  3.47s/it]WARNING:root:\n",
      "                    ISIMIP runs without time-information for at least one of obs, cm_hist or cm_future.\n",
      "                    This information is inferred, assuming the first observation is on a January 1st. Observations are chunked according to the assumed time information. \n",
      "                    This might lead to slight numerical differences to the run with time information, however the debiasing is not fundamentally changed.\n",
      "                    \n",
      " 12%|█████                                       | 26/225 [01:27<11:24,  3.44s/it]WARNING:root:\n",
      "                    ISIMIP runs without time-information for at least one of obs, cm_hist or cm_future.\n",
      "                    This information is inferred, assuming the first observation is on a January 1st. Observations are chunked according to the assumed time information. \n",
      "                    This might lead to slight numerical differences to the run with time information, however the debiasing is not fundamentally changed.\n",
      "                    \n",
      " 12%|█████▎                                      | 27/225 [01:30<11:10,  3.38s/it]WARNING:root:\n",
      "                    ISIMIP runs without time-information for at least one of obs, cm_hist or cm_future.\n",
      "                    This information is inferred, assuming the first observation is on a January 1st. Observations are chunked according to the assumed time information. \n",
      "                    This might lead to slight numerical differences to the run with time information, however the debiasing is not fundamentally changed.\n",
      "                    \n",
      " 12%|█████▍                                      | 28/225 [01:33<10:51,  3.31s/it]WARNING:root:\n",
      "                    ISIMIP runs without time-information for at least one of obs, cm_hist or cm_future.\n",
      "                    This information is inferred, assuming the first observation is on a January 1st. Observations are chunked according to the assumed time information. \n",
      "                    This might lead to slight numerical differences to the run with time information, however the debiasing is not fundamentally changed.\n",
      "                    \n",
      " 13%|█████▋                                      | 29/225 [01:36<10:26,  3.20s/it]WARNING:root:\n",
      "                    ISIMIP runs without time-information for at least one of obs, cm_hist or cm_future.\n",
      "                    This information is inferred, assuming the first observation is on a January 1st. Observations are chunked according to the assumed time information. \n",
      "                    This might lead to slight numerical differences to the run with time information, however the debiasing is not fundamentally changed.\n",
      "                    \n"
     ]
    },
    {
     "name": "stderr",
     "output_type": "stream",
     "text": [
      " 13%|█████▊                                      | 30/225 [01:39<10:03,  3.09s/it]WARNING:root:\n",
      "                    ISIMIP runs without time-information for at least one of obs, cm_hist or cm_future.\n",
      "                    This information is inferred, assuming the first observation is on a January 1st. Observations are chunked according to the assumed time information. \n",
      "                    This might lead to slight numerical differences to the run with time information, however the debiasing is not fundamentally changed.\n",
      "                    \n",
      " 14%|██████                                      | 31/225 [01:43<10:21,  3.21s/it]WARNING:root:\n",
      "                    ISIMIP runs without time-information for at least one of obs, cm_hist or cm_future.\n",
      "                    This information is inferred, assuming the first observation is on a January 1st. Observations are chunked according to the assumed time information. \n",
      "                    This might lead to slight numerical differences to the run with time information, however the debiasing is not fundamentally changed.\n",
      "                    \n",
      " 14%|██████▎                                     | 32/225 [01:46<10:14,  3.19s/it]WARNING:root:\n",
      "                    ISIMIP runs without time-information for at least one of obs, cm_hist or cm_future.\n",
      "                    This information is inferred, assuming the first observation is on a January 1st. Observations are chunked according to the assumed time information. \n",
      "                    This might lead to slight numerical differences to the run with time information, however the debiasing is not fundamentally changed.\n",
      "                    \n",
      " 15%|██████▍                                     | 33/225 [01:49<10:02,  3.14s/it]WARNING:root:\n",
      "                    ISIMIP runs without time-information for at least one of obs, cm_hist or cm_future.\n",
      "                    This information is inferred, assuming the first observation is on a January 1st. Observations are chunked according to the assumed time information. \n",
      "                    This might lead to slight numerical differences to the run with time information, however the debiasing is not fundamentally changed.\n",
      "                    \n",
      " 15%|██████▋                                     | 34/225 [01:52<10:18,  3.24s/it]WARNING:root:\n",
      "                    ISIMIP runs without time-information for at least one of obs, cm_hist or cm_future.\n",
      "                    This information is inferred, assuming the first observation is on a January 1st. Observations are chunked according to the assumed time information. \n",
      "                    This might lead to slight numerical differences to the run with time information, however the debiasing is not fundamentally changed.\n",
      "                    \n",
      " 16%|██████▊                                     | 35/225 [01:55<10:15,  3.24s/it]WARNING:root:\n",
      "                    ISIMIP runs without time-information for at least one of obs, cm_hist or cm_future.\n",
      "                    This information is inferred, assuming the first observation is on a January 1st. Observations are chunked according to the assumed time information. \n",
      "                    This might lead to slight numerical differences to the run with time information, however the debiasing is not fundamentally changed.\n",
      "                    \n",
      " 16%|███████                                     | 36/225 [01:58<09:53,  3.14s/it]WARNING:root:\n",
      "                    ISIMIP runs without time-information for at least one of obs, cm_hist or cm_future.\n",
      "                    This information is inferred, assuming the first observation is on a January 1st. Observations are chunked according to the assumed time information. \n",
      "                    This might lead to slight numerical differences to the run with time information, however the debiasing is not fundamentally changed.\n",
      "                    \n",
      " 16%|███████▏                                    | 37/225 [02:01<09:33,  3.05s/it]WARNING:root:\n",
      "                    ISIMIP runs without time-information for at least one of obs, cm_hist or cm_future.\n",
      "                    This information is inferred, assuming the first observation is on a January 1st. Observations are chunked according to the assumed time information. \n",
      "                    This might lead to slight numerical differences to the run with time information, however the debiasing is not fundamentally changed.\n",
      "                    \n",
      " 17%|███████▍                                    | 38/225 [02:04<09:25,  3.03s/it]WARNING:root:\n",
      "                    ISIMIP runs without time-information for at least one of obs, cm_hist or cm_future.\n",
      "                    This information is inferred, assuming the first observation is on a January 1st. Observations are chunked according to the assumed time information. \n",
      "                    This might lead to slight numerical differences to the run with time information, however the debiasing is not fundamentally changed.\n",
      "                    \n",
      " 17%|███████▋                                    | 39/225 [02:07<09:14,  2.98s/it]WARNING:root:\n",
      "                    ISIMIP runs without time-information for at least one of obs, cm_hist or cm_future.\n",
      "                    This information is inferred, assuming the first observation is on a January 1st. Observations are chunked according to the assumed time information. \n",
      "                    This might lead to slight numerical differences to the run with time information, however the debiasing is not fundamentally changed.\n",
      "                    \n",
      " 18%|███████▊                                    | 40/225 [02:10<09:09,  2.97s/it]WARNING:root:\n",
      "                    ISIMIP runs without time-information for at least one of obs, cm_hist or cm_future.\n",
      "                    This information is inferred, assuming the first observation is on a January 1st. Observations are chunked according to the assumed time information. \n",
      "                    This might lead to slight numerical differences to the run with time information, however the debiasing is not fundamentally changed.\n",
      "                    \n",
      " 18%|████████                                    | 41/225 [02:13<09:10,  2.99s/it]WARNING:root:\n",
      "                    ISIMIP runs without time-information for at least one of obs, cm_hist or cm_future.\n",
      "                    This information is inferred, assuming the first observation is on a January 1st. Observations are chunked according to the assumed time information. \n",
      "                    This might lead to slight numerical differences to the run with time information, however the debiasing is not fundamentally changed.\n",
      "                    \n",
      " 19%|████████▏                                   | 42/225 [02:16<09:05,  2.98s/it]WARNING:root:\n",
      "                    ISIMIP runs without time-information for at least one of obs, cm_hist or cm_future.\n",
      "                    This information is inferred, assuming the first observation is on a January 1st. Observations are chunked according to the assumed time information. \n",
      "                    This might lead to slight numerical differences to the run with time information, however the debiasing is not fundamentally changed.\n",
      "                    \n",
      " 19%|████████▍                                   | 43/225 [02:19<08:52,  2.93s/it]WARNING:root:\n",
      "                    ISIMIP runs without time-information for at least one of obs, cm_hist or cm_future.\n",
      "                    This information is inferred, assuming the first observation is on a January 1st. Observations are chunked according to the assumed time information. \n",
      "                    This might lead to slight numerical differences to the run with time information, however the debiasing is not fundamentally changed.\n",
      "                    \n",
      " 20%|████████▌                                   | 44/225 [02:22<08:43,  2.89s/it]WARNING:root:\n",
      "                    ISIMIP runs without time-information for at least one of obs, cm_hist or cm_future.\n",
      "                    This information is inferred, assuming the first observation is on a January 1st. Observations are chunked according to the assumed time information. \n",
      "                    This might lead to slight numerical differences to the run with time information, however the debiasing is not fundamentally changed.\n",
      "                    \n"
     ]
    },
    {
     "name": "stderr",
     "output_type": "stream",
     "text": [
      " 20%|████████▊                                   | 45/225 [02:24<08:32,  2.85s/it]WARNING:root:\n",
      "                    ISIMIP runs without time-information for at least one of obs, cm_hist or cm_future.\n",
      "                    This information is inferred, assuming the first observation is on a January 1st. Observations are chunked according to the assumed time information. \n",
      "                    This might lead to slight numerical differences to the run with time information, however the debiasing is not fundamentally changed.\n",
      "                    \n",
      " 20%|████████▉                                   | 46/225 [02:27<08:32,  2.86s/it]WARNING:root:\n",
      "                    ISIMIP runs without time-information for at least one of obs, cm_hist or cm_future.\n",
      "                    This information is inferred, assuming the first observation is on a January 1st. Observations are chunked according to the assumed time information. \n",
      "                    This might lead to slight numerical differences to the run with time information, however the debiasing is not fundamentally changed.\n",
      "                    \n",
      " 21%|█████████▏                                  | 47/225 [02:30<08:37,  2.91s/it]WARNING:root:\n",
      "                    ISIMIP runs without time-information for at least one of obs, cm_hist or cm_future.\n",
      "                    This information is inferred, assuming the first observation is on a January 1st. Observations are chunked according to the assumed time information. \n",
      "                    This might lead to slight numerical differences to the run with time information, however the debiasing is not fundamentally changed.\n",
      "                    \n",
      " 21%|█████████▍                                  | 48/225 [02:33<08:51,  3.00s/it]WARNING:root:\n",
      "                    ISIMIP runs without time-information for at least one of obs, cm_hist or cm_future.\n",
      "                    This information is inferred, assuming the first observation is on a January 1st. Observations are chunked according to the assumed time information. \n",
      "                    This might lead to slight numerical differences to the run with time information, however the debiasing is not fundamentally changed.\n",
      "                    \n",
      " 22%|█████████▌                                  | 49/225 [02:36<08:47,  3.00s/it]WARNING:root:\n",
      "                    ISIMIP runs without time-information for at least one of obs, cm_hist or cm_future.\n",
      "                    This information is inferred, assuming the first observation is on a January 1st. Observations are chunked according to the assumed time information. \n",
      "                    This might lead to slight numerical differences to the run with time information, however the debiasing is not fundamentally changed.\n",
      "                    \n",
      " 22%|█████████▊                                  | 50/225 [02:39<08:41,  2.98s/it]WARNING:root:\n",
      "                    ISIMIP runs without time-information for at least one of obs, cm_hist or cm_future.\n",
      "                    This information is inferred, assuming the first observation is on a January 1st. Observations are chunked according to the assumed time information. \n",
      "                    This might lead to slight numerical differences to the run with time information, however the debiasing is not fundamentally changed.\n",
      "                    \n",
      " 23%|█████████▉                                  | 51/225 [02:43<08:57,  3.09s/it]WARNING:root:\n",
      "                    ISIMIP runs without time-information for at least one of obs, cm_hist or cm_future.\n",
      "                    This information is inferred, assuming the first observation is on a January 1st. Observations are chunked according to the assumed time information. \n",
      "                    This might lead to slight numerical differences to the run with time information, however the debiasing is not fundamentally changed.\n",
      "                    \n",
      " 23%|██████████▏                                 | 52/225 [02:46<09:03,  3.14s/it]WARNING:root:\n",
      "                    ISIMIP runs without time-information for at least one of obs, cm_hist or cm_future.\n",
      "                    This information is inferred, assuming the first observation is on a January 1st. Observations are chunked according to the assumed time information. \n",
      "                    This might lead to slight numerical differences to the run with time information, however the debiasing is not fundamentally changed.\n",
      "                    \n",
      " 24%|██████████▎                                 | 53/225 [02:49<08:59,  3.13s/it]WARNING:root:\n",
      "                    ISIMIP runs without time-information for at least one of obs, cm_hist or cm_future.\n",
      "                    This information is inferred, assuming the first observation is on a January 1st. Observations are chunked according to the assumed time information. \n",
      "                    This might lead to slight numerical differences to the run with time information, however the debiasing is not fundamentally changed.\n",
      "                    \n",
      " 24%|██████████▌                                 | 54/225 [02:52<09:07,  3.20s/it]WARNING:root:\n",
      "                    ISIMIP runs without time-information for at least one of obs, cm_hist or cm_future.\n",
      "                    This information is inferred, assuming the first observation is on a January 1st. Observations are chunked according to the assumed time information. \n",
      "                    This might lead to slight numerical differences to the run with time information, however the debiasing is not fundamentally changed.\n",
      "                    \n",
      " 24%|██████████▊                                 | 55/225 [02:56<09:07,  3.22s/it]WARNING:root:\n",
      "                    ISIMIP runs without time-information for at least one of obs, cm_hist or cm_future.\n",
      "                    This information is inferred, assuming the first observation is on a January 1st. Observations are chunked according to the assumed time information. \n",
      "                    This might lead to slight numerical differences to the run with time information, however the debiasing is not fundamentally changed.\n",
      "                    \n",
      " 25%|██████████▉                                 | 56/225 [02:59<09:10,  3.26s/it]WARNING:root:\n",
      "                    ISIMIP runs without time-information for at least one of obs, cm_hist or cm_future.\n",
      "                    This information is inferred, assuming the first observation is on a January 1st. Observations are chunked according to the assumed time information. \n",
      "                    This might lead to slight numerical differences to the run with time information, however the debiasing is not fundamentally changed.\n",
      "                    \n",
      " 25%|███████████▏                                | 57/225 [03:02<09:02,  3.23s/it]WARNING:root:\n",
      "                    ISIMIP runs without time-information for at least one of obs, cm_hist or cm_future.\n",
      "                    This information is inferred, assuming the first observation is on a January 1st. Observations are chunked according to the assumed time information. \n",
      "                    This might lead to slight numerical differences to the run with time information, however the debiasing is not fundamentally changed.\n",
      "                    \n",
      " 26%|███████████▎                                | 58/225 [03:05<08:45,  3.15s/it]WARNING:root:\n",
      "                    ISIMIP runs without time-information for at least one of obs, cm_hist or cm_future.\n",
      "                    This information is inferred, assuming the first observation is on a January 1st. Observations are chunked according to the assumed time information. \n",
      "                    This might lead to slight numerical differences to the run with time information, however the debiasing is not fundamentally changed.\n",
      "                    \n",
      " 26%|███████████▌                                | 59/225 [03:08<08:30,  3.07s/it]WARNING:root:\n",
      "                    ISIMIP runs without time-information for at least one of obs, cm_hist or cm_future.\n",
      "                    This information is inferred, assuming the first observation is on a January 1st. Observations are chunked according to the assumed time information. \n",
      "                    This might lead to slight numerical differences to the run with time information, however the debiasing is not fundamentally changed.\n",
      "                    \n"
     ]
    },
    {
     "name": "stderr",
     "output_type": "stream",
     "text": [
      " 27%|███████████▋                                | 60/225 [03:11<08:26,  3.07s/it]WARNING:root:\n",
      "                    ISIMIP runs without time-information for at least one of obs, cm_hist or cm_future.\n",
      "                    This information is inferred, assuming the first observation is on a January 1st. Observations are chunked according to the assumed time information. \n",
      "                    This might lead to slight numerical differences to the run with time information, however the debiasing is not fundamentally changed.\n",
      "                    \n",
      " 27%|███████████▉                                | 61/225 [03:14<08:22,  3.06s/it]WARNING:root:\n",
      "                    ISIMIP runs without time-information for at least one of obs, cm_hist or cm_future.\n",
      "                    This information is inferred, assuming the first observation is on a January 1st. Observations are chunked according to the assumed time information. \n",
      "                    This might lead to slight numerical differences to the run with time information, however the debiasing is not fundamentally changed.\n",
      "                    \n",
      " 28%|████████████                                | 62/225 [03:17<08:13,  3.02s/it]WARNING:root:\n",
      "                    ISIMIP runs without time-information for at least one of obs, cm_hist or cm_future.\n",
      "                    This information is inferred, assuming the first observation is on a January 1st. Observations are chunked according to the assumed time information. \n",
      "                    This might lead to slight numerical differences to the run with time information, however the debiasing is not fundamentally changed.\n",
      "                    \n",
      " 28%|████████████▎                               | 63/225 [03:20<08:01,  2.97s/it]WARNING:root:\n",
      "                    ISIMIP runs without time-information for at least one of obs, cm_hist or cm_future.\n",
      "                    This information is inferred, assuming the first observation is on a January 1st. Observations are chunked according to the assumed time information. \n",
      "                    This might lead to slight numerical differences to the run with time information, however the debiasing is not fundamentally changed.\n",
      "                    \n",
      " 28%|████████████▌                               | 64/225 [03:23<07:47,  2.90s/it]WARNING:root:\n",
      "                    ISIMIP runs without time-information for at least one of obs, cm_hist or cm_future.\n",
      "                    This information is inferred, assuming the first observation is on a January 1st. Observations are chunked according to the assumed time information. \n",
      "                    This might lead to slight numerical differences to the run with time information, however the debiasing is not fundamentally changed.\n",
      "                    \n",
      " 29%|████████████▋                               | 65/225 [03:26<07:41,  2.88s/it]WARNING:root:\n",
      "                    ISIMIP runs without time-information for at least one of obs, cm_hist or cm_future.\n",
      "                    This information is inferred, assuming the first observation is on a January 1st. Observations are chunked according to the assumed time information. \n",
      "                    This might lead to slight numerical differences to the run with time information, however the debiasing is not fundamentally changed.\n",
      "                    \n",
      " 29%|████████████▉                               | 66/225 [03:28<07:35,  2.87s/it]WARNING:root:\n",
      "                    ISIMIP runs without time-information for at least one of obs, cm_hist or cm_future.\n",
      "                    This information is inferred, assuming the first observation is on a January 1st. Observations are chunked according to the assumed time information. \n",
      "                    This might lead to slight numerical differences to the run with time information, however the debiasing is not fundamentally changed.\n",
      "                    \n",
      " 30%|█████████████                               | 67/225 [03:31<07:35,  2.88s/it]WARNING:root:\n",
      "                    ISIMIP runs without time-information for at least one of obs, cm_hist or cm_future.\n",
      "                    This information is inferred, assuming the first observation is on a January 1st. Observations are chunked according to the assumed time information. \n",
      "                    This might lead to slight numerical differences to the run with time information, however the debiasing is not fundamentally changed.\n",
      "                    \n",
      " 30%|█████████████▎                              | 68/225 [03:34<07:27,  2.85s/it]WARNING:root:\n",
      "                    ISIMIP runs without time-information for at least one of obs, cm_hist or cm_future.\n",
      "                    This information is inferred, assuming the first observation is on a January 1st. Observations are chunked according to the assumed time information. \n",
      "                    This might lead to slight numerical differences to the run with time information, however the debiasing is not fundamentally changed.\n",
      "                    \n",
      " 31%|█████████████▍                              | 69/225 [03:37<07:33,  2.91s/it]WARNING:root:\n",
      "                    ISIMIP runs without time-information for at least one of obs, cm_hist or cm_future.\n",
      "                    This information is inferred, assuming the first observation is on a January 1st. Observations are chunked according to the assumed time information. \n",
      "                    This might lead to slight numerical differences to the run with time information, however the debiasing is not fundamentally changed.\n",
      "                    \n",
      " 31%|█████████████▋                              | 70/225 [03:40<07:45,  3.00s/it]WARNING:root:\n",
      "                    ISIMIP runs without time-information for at least one of obs, cm_hist or cm_future.\n",
      "                    This information is inferred, assuming the first observation is on a January 1st. Observations are chunked according to the assumed time information. \n",
      "                    This might lead to slight numerical differences to the run with time information, however the debiasing is not fundamentally changed.\n",
      "                    \n",
      " 32%|█████████████▉                              | 71/225 [03:43<07:45,  3.02s/it]WARNING:root:\n",
      "                    ISIMIP runs without time-information for at least one of obs, cm_hist or cm_future.\n",
      "                    This information is inferred, assuming the first observation is on a January 1st. Observations are chunked according to the assumed time information. \n",
      "                    This might lead to slight numerical differences to the run with time information, however the debiasing is not fundamentally changed.\n",
      "                    \n",
      " 32%|██████████████                              | 72/225 [03:46<07:36,  2.98s/it]WARNING:root:\n",
      "                    ISIMIP runs without time-information for at least one of obs, cm_hist or cm_future.\n",
      "                    This information is inferred, assuming the first observation is on a January 1st. Observations are chunked according to the assumed time information. \n",
      "                    This might lead to slight numerical differences to the run with time information, however the debiasing is not fundamentally changed.\n",
      "                    \n",
      " 32%|██████████████▎                             | 73/225 [03:49<07:27,  2.94s/it]WARNING:root:\n",
      "                    ISIMIP runs without time-information for at least one of obs, cm_hist or cm_future.\n",
      "                    This information is inferred, assuming the first observation is on a January 1st. Observations are chunked according to the assumed time information. \n",
      "                    This might lead to slight numerical differences to the run with time information, however the debiasing is not fundamentally changed.\n",
      "                    \n",
      " 33%|██████████████▍                             | 74/225 [03:52<07:23,  2.94s/it]WARNING:root:\n",
      "                    ISIMIP runs without time-information for at least one of obs, cm_hist or cm_future.\n",
      "                    This information is inferred, assuming the first observation is on a January 1st. Observations are chunked according to the assumed time information. \n",
      "                    This might lead to slight numerical differences to the run with time information, however the debiasing is not fundamentally changed.\n",
      "                    \n"
     ]
    },
    {
     "name": "stderr",
     "output_type": "stream",
     "text": [
      " 33%|██████████████▋                             | 75/225 [03:55<07:24,  2.96s/it]WARNING:root:\n",
      "                    ISIMIP runs without time-information for at least one of obs, cm_hist or cm_future.\n",
      "                    This information is inferred, assuming the first observation is on a January 1st. Observations are chunked according to the assumed time information. \n",
      "                    This might lead to slight numerical differences to the run with time information, however the debiasing is not fundamentally changed.\n",
      "                    \n",
      " 34%|██████████████▊                             | 76/225 [03:59<07:48,  3.14s/it]WARNING:root:\n",
      "                    ISIMIP runs without time-information for at least one of obs, cm_hist or cm_future.\n",
      "                    This information is inferred, assuming the first observation is on a January 1st. Observations are chunked according to the assumed time information. \n",
      "                    This might lead to slight numerical differences to the run with time information, however the debiasing is not fundamentally changed.\n",
      "                    \n",
      " 34%|███████████████                             | 77/225 [04:02<07:42,  3.12s/it]WARNING:root:\n",
      "                    ISIMIP runs without time-information for at least one of obs, cm_hist or cm_future.\n",
      "                    This information is inferred, assuming the first observation is on a January 1st. Observations are chunked according to the assumed time information. \n",
      "                    This might lead to slight numerical differences to the run with time information, however the debiasing is not fundamentally changed.\n",
      "                    \n",
      " 35%|███████████████▎                            | 78/225 [04:05<07:38,  3.12s/it]WARNING:root:\n",
      "                    ISIMIP runs without time-information for at least one of obs, cm_hist or cm_future.\n",
      "                    This information is inferred, assuming the first observation is on a January 1st. Observations are chunked according to the assumed time information. \n",
      "                    This might lead to slight numerical differences to the run with time information, however the debiasing is not fundamentally changed.\n",
      "                    \n",
      " 35%|███████████████▍                            | 79/225 [04:08<07:26,  3.06s/it]WARNING:root:\n",
      "                    ISIMIP runs without time-information for at least one of obs, cm_hist or cm_future.\n",
      "                    This information is inferred, assuming the first observation is on a January 1st. Observations are chunked according to the assumed time information. \n",
      "                    This might lead to slight numerical differences to the run with time information, however the debiasing is not fundamentally changed.\n",
      "                    \n",
      " 36%|███████████████▋                            | 80/225 [04:11<07:23,  3.06s/it]WARNING:root:\n",
      "                    ISIMIP runs without time-information for at least one of obs, cm_hist or cm_future.\n",
      "                    This information is inferred, assuming the first observation is on a January 1st. Observations are chunked according to the assumed time information. \n",
      "                    This might lead to slight numerical differences to the run with time information, however the debiasing is not fundamentally changed.\n",
      "                    \n",
      " 36%|███████████████▊                            | 81/225 [04:14<07:24,  3.09s/it]WARNING:root:\n",
      "                    ISIMIP runs without time-information for at least one of obs, cm_hist or cm_future.\n",
      "                    This information is inferred, assuming the first observation is on a January 1st. Observations are chunked according to the assumed time information. \n",
      "                    This might lead to slight numerical differences to the run with time information, however the debiasing is not fundamentally changed.\n",
      "                    \n",
      " 36%|████████████████                            | 82/225 [04:17<07:30,  3.15s/it]WARNING:root:\n",
      "                    ISIMIP runs without time-information for at least one of obs, cm_hist or cm_future.\n",
      "                    This information is inferred, assuming the first observation is on a January 1st. Observations are chunked according to the assumed time information. \n",
      "                    This might lead to slight numerical differences to the run with time information, however the debiasing is not fundamentally changed.\n",
      "                    \n",
      " 37%|████████████████▏                           | 83/225 [04:21<07:37,  3.22s/it]WARNING:root:\n",
      "                    ISIMIP runs without time-information for at least one of obs, cm_hist or cm_future.\n",
      "                    This information is inferred, assuming the first observation is on a January 1st. Observations are chunked according to the assumed time information. \n",
      "                    This might lead to slight numerical differences to the run with time information, however the debiasing is not fundamentally changed.\n",
      "                    \n",
      " 37%|████████████████▍                           | 84/225 [04:24<07:29,  3.19s/it]WARNING:root:\n",
      "                    ISIMIP runs without time-information for at least one of obs, cm_hist or cm_future.\n",
      "                    This information is inferred, assuming the first observation is on a January 1st. Observations are chunked according to the assumed time information. \n",
      "                    This might lead to slight numerical differences to the run with time information, however the debiasing is not fundamentally changed.\n",
      "                    \n",
      " 38%|████████████████▌                           | 85/225 [04:27<07:22,  3.16s/it]WARNING:root:\n",
      "                    ISIMIP runs without time-information for at least one of obs, cm_hist or cm_future.\n",
      "                    This information is inferred, assuming the first observation is on a January 1st. Observations are chunked according to the assumed time information. \n",
      "                    This might lead to slight numerical differences to the run with time information, however the debiasing is not fundamentally changed.\n",
      "                    \n",
      " 38%|████████████████▊                           | 86/225 [04:30<07:17,  3.15s/it]WARNING:root:\n",
      "                    ISIMIP runs without time-information for at least one of obs, cm_hist or cm_future.\n",
      "                    This information is inferred, assuming the first observation is on a January 1st. Observations are chunked according to the assumed time information. \n",
      "                    This might lead to slight numerical differences to the run with time information, however the debiasing is not fundamentally changed.\n",
      "                    \n",
      " 39%|█████████████████                           | 87/225 [04:33<07:21,  3.20s/it]WARNING:root:\n",
      "                    ISIMIP runs without time-information for at least one of obs, cm_hist or cm_future.\n",
      "                    This information is inferred, assuming the first observation is on a January 1st. Observations are chunked according to the assumed time information. \n",
      "                    This might lead to slight numerical differences to the run with time information, however the debiasing is not fundamentally changed.\n",
      "                    \n",
      " 39%|█████████████████▏                          | 88/225 [04:37<07:23,  3.23s/it]WARNING:root:\n",
      "                    ISIMIP runs without time-information for at least one of obs, cm_hist or cm_future.\n",
      "                    This information is inferred, assuming the first observation is on a January 1st. Observations are chunked according to the assumed time information. \n",
      "                    This might lead to slight numerical differences to the run with time information, however the debiasing is not fundamentally changed.\n",
      "                    \n",
      " 40%|█████████████████▍                          | 89/225 [04:40<07:22,  3.26s/it]WARNING:root:\n",
      "                    ISIMIP runs without time-information for at least one of obs, cm_hist or cm_future.\n",
      "                    This information is inferred, assuming the first observation is on a January 1st. Observations are chunked according to the assumed time information. \n",
      "                    This might lead to slight numerical differences to the run with time information, however the debiasing is not fundamentally changed.\n",
      "                    \n"
     ]
    },
    {
     "name": "stderr",
     "output_type": "stream",
     "text": [
      " 40%|█████████████████▌                          | 90/225 [04:43<07:16,  3.23s/it]WARNING:root:\n",
      "                    ISIMIP runs without time-information for at least one of obs, cm_hist or cm_future.\n",
      "                    This information is inferred, assuming the first observation is on a January 1st. Observations are chunked according to the assumed time information. \n",
      "                    This might lead to slight numerical differences to the run with time information, however the debiasing is not fundamentally changed.\n",
      "                    \n",
      " 40%|█████████████████▊                          | 91/225 [04:46<07:16,  3.26s/it]WARNING:root:\n",
      "                    ISIMIP runs without time-information for at least one of obs, cm_hist or cm_future.\n",
      "                    This information is inferred, assuming the first observation is on a January 1st. Observations are chunked according to the assumed time information. \n",
      "                    This might lead to slight numerical differences to the run with time information, however the debiasing is not fundamentally changed.\n",
      "                    \n",
      " 41%|█████████████████▉                          | 92/225 [04:50<07:14,  3.27s/it]WARNING:root:\n",
      "                    ISIMIP runs without time-information for at least one of obs, cm_hist or cm_future.\n",
      "                    This information is inferred, assuming the first observation is on a January 1st. Observations are chunked according to the assumed time information. \n",
      "                    This might lead to slight numerical differences to the run with time information, however the debiasing is not fundamentally changed.\n",
      "                    \n",
      " 41%|██████████████████▏                         | 93/225 [04:53<07:07,  3.24s/it]WARNING:root:\n",
      "                    ISIMIP runs without time-information for at least one of obs, cm_hist or cm_future.\n",
      "                    This information is inferred, assuming the first observation is on a January 1st. Observations are chunked according to the assumed time information. \n",
      "                    This might lead to slight numerical differences to the run with time information, however the debiasing is not fundamentally changed.\n",
      "                    \n",
      " 42%|██████████████████▍                         | 94/225 [04:56<07:02,  3.22s/it]WARNING:root:\n",
      "                    ISIMIP runs without time-information for at least one of obs, cm_hist or cm_future.\n",
      "                    This information is inferred, assuming the first observation is on a January 1st. Observations are chunked according to the assumed time information. \n",
      "                    This might lead to slight numerical differences to the run with time information, however the debiasing is not fundamentally changed.\n",
      "                    \n",
      " 42%|██████████████████▌                         | 95/225 [05:00<07:10,  3.31s/it]WARNING:root:\n",
      "                    ISIMIP runs without time-information for at least one of obs, cm_hist or cm_future.\n",
      "                    This information is inferred, assuming the first observation is on a January 1st. Observations are chunked according to the assumed time information. \n",
      "                    This might lead to slight numerical differences to the run with time information, however the debiasing is not fundamentally changed.\n",
      "                    \n",
      " 43%|██████████████████▊                         | 96/225 [05:03<07:06,  3.31s/it]WARNING:root:\n",
      "                    ISIMIP runs without time-information for at least one of obs, cm_hist or cm_future.\n",
      "                    This information is inferred, assuming the first observation is on a January 1st. Observations are chunked according to the assumed time information. \n",
      "                    This might lead to slight numerical differences to the run with time information, however the debiasing is not fundamentally changed.\n",
      "                    \n",
      " 43%|██████████████████▉                         | 97/225 [05:06<06:40,  3.13s/it]WARNING:root:\n",
      "                    ISIMIP runs without time-information for at least one of obs, cm_hist or cm_future.\n",
      "                    This information is inferred, assuming the first observation is on a January 1st. Observations are chunked according to the assumed time information. \n",
      "                    This might lead to slight numerical differences to the run with time information, however the debiasing is not fundamentally changed.\n",
      "                    \n",
      " 44%|███████████████████▏                        | 98/225 [05:08<06:20,  3.00s/it]WARNING:root:\n",
      "                    ISIMIP runs without time-information for at least one of obs, cm_hist or cm_future.\n",
      "                    This information is inferred, assuming the first observation is on a January 1st. Observations are chunked according to the assumed time information. \n",
      "                    This might lead to slight numerical differences to the run with time information, however the debiasing is not fundamentally changed.\n",
      "                    \n",
      " 44%|███████████████████▎                        | 99/225 [05:11<06:04,  2.89s/it]WARNING:root:\n",
      "                    ISIMIP runs without time-information for at least one of obs, cm_hist or cm_future.\n",
      "                    This information is inferred, assuming the first observation is on a January 1st. Observations are chunked according to the assumed time information. \n",
      "                    This might lead to slight numerical differences to the run with time information, however the debiasing is not fundamentally changed.\n",
      "                    \n",
      " 44%|███████████████████                        | 100/225 [05:14<05:51,  2.81s/it]WARNING:root:\n",
      "                    ISIMIP runs without time-information for at least one of obs, cm_hist or cm_future.\n",
      "                    This information is inferred, assuming the first observation is on a January 1st. Observations are chunked according to the assumed time information. \n",
      "                    This might lead to slight numerical differences to the run with time information, however the debiasing is not fundamentally changed.\n",
      "                    \n",
      " 45%|███████████████████▎                       | 101/225 [05:16<05:41,  2.75s/it]WARNING:root:\n",
      "                    ISIMIP runs without time-information for at least one of obs, cm_hist or cm_future.\n",
      "                    This information is inferred, assuming the first observation is on a January 1st. Observations are chunked according to the assumed time information. \n",
      "                    This might lead to slight numerical differences to the run with time information, however the debiasing is not fundamentally changed.\n",
      "                    \n",
      " 45%|███████████████████▍                       | 102/225 [05:19<05:32,  2.70s/it]WARNING:root:\n",
      "                    ISIMIP runs without time-information for at least one of obs, cm_hist or cm_future.\n",
      "                    This information is inferred, assuming the first observation is on a January 1st. Observations are chunked according to the assumed time information. \n",
      "                    This might lead to slight numerical differences to the run with time information, however the debiasing is not fundamentally changed.\n",
      "                    \n",
      " 46%|███████████████████▋                       | 103/225 [05:21<05:25,  2.67s/it]WARNING:root:\n",
      "                    ISIMIP runs without time-information for at least one of obs, cm_hist or cm_future.\n",
      "                    This information is inferred, assuming the first observation is on a January 1st. Observations are chunked according to the assumed time information. \n",
      "                    This might lead to slight numerical differences to the run with time information, however the debiasing is not fundamentally changed.\n",
      "                    \n",
      " 46%|███████████████████▉                       | 104/225 [05:24<05:23,  2.68s/it]WARNING:root:\n",
      "                    ISIMIP runs without time-information for at least one of obs, cm_hist or cm_future.\n",
      "                    This information is inferred, assuming the first observation is on a January 1st. Observations are chunked according to the assumed time information. \n",
      "                    This might lead to slight numerical differences to the run with time information, however the debiasing is not fundamentally changed.\n",
      "                    \n"
     ]
    },
    {
     "name": "stderr",
     "output_type": "stream",
     "text": [
      " 47%|████████████████████                       | 105/225 [05:27<05:20,  2.67s/it]WARNING:root:\n",
      "                    ISIMIP runs without time-information for at least one of obs, cm_hist or cm_future.\n",
      "                    This information is inferred, assuming the first observation is on a January 1st. Observations are chunked according to the assumed time information. \n",
      "                    This might lead to slight numerical differences to the run with time information, however the debiasing is not fundamentally changed.\n",
      "                    \n",
      " 47%|████████████████████▎                      | 106/225 [05:29<05:17,  2.67s/it]WARNING:root:\n",
      "                    ISIMIP runs without time-information for at least one of obs, cm_hist or cm_future.\n",
      "                    This information is inferred, assuming the first observation is on a January 1st. Observations are chunked according to the assumed time information. \n",
      "                    This might lead to slight numerical differences to the run with time information, however the debiasing is not fundamentally changed.\n",
      "                    \n",
      " 48%|████████████████████▍                      | 107/225 [05:32<05:15,  2.68s/it]WARNING:root:\n",
      "                    ISIMIP runs without time-information for at least one of obs, cm_hist or cm_future.\n",
      "                    This information is inferred, assuming the first observation is on a January 1st. Observations are chunked according to the assumed time information. \n",
      "                    This might lead to slight numerical differences to the run with time information, however the debiasing is not fundamentally changed.\n",
      "                    \n",
      " 48%|████████████████████▋                      | 108/225 [05:35<05:13,  2.68s/it]WARNING:root:\n",
      "                    ISIMIP runs without time-information for at least one of obs, cm_hist or cm_future.\n",
      "                    This information is inferred, assuming the first observation is on a January 1st. Observations are chunked according to the assumed time information. \n",
      "                    This might lead to slight numerical differences to the run with time information, however the debiasing is not fundamentally changed.\n",
      "                    \n",
      " 48%|████████████████████▊                      | 109/225 [05:37<05:11,  2.69s/it]WARNING:root:\n",
      "                    ISIMIP runs without time-information for at least one of obs, cm_hist or cm_future.\n",
      "                    This information is inferred, assuming the first observation is on a January 1st. Observations are chunked according to the assumed time information. \n",
      "                    This might lead to slight numerical differences to the run with time information, however the debiasing is not fundamentally changed.\n",
      "                    \n",
      " 49%|█████████████████████                      | 110/225 [05:40<05:06,  2.67s/it]WARNING:root:\n",
      "                    ISIMIP runs without time-information for at least one of obs, cm_hist or cm_future.\n",
      "                    This information is inferred, assuming the first observation is on a January 1st. Observations are chunked according to the assumed time information. \n",
      "                    This might lead to slight numerical differences to the run with time information, however the debiasing is not fundamentally changed.\n",
      "                    \n",
      " 49%|█████████████████████▏                     | 111/225 [05:43<05:03,  2.66s/it]WARNING:root:\n",
      "                    ISIMIP runs without time-information for at least one of obs, cm_hist or cm_future.\n",
      "                    This information is inferred, assuming the first observation is on a January 1st. Observations are chunked according to the assumed time information. \n",
      "                    This might lead to slight numerical differences to the run with time information, however the debiasing is not fundamentally changed.\n",
      "                    \n",
      " 50%|█████████████████████▍                     | 112/225 [05:46<05:08,  2.73s/it]WARNING:root:\n",
      "                    ISIMIP runs without time-information for at least one of obs, cm_hist or cm_future.\n",
      "                    This information is inferred, assuming the first observation is on a January 1st. Observations are chunked according to the assumed time information. \n",
      "                    This might lead to slight numerical differences to the run with time information, however the debiasing is not fundamentally changed.\n",
      "                    \n",
      " 50%|█████████████████████▌                     | 113/225 [05:48<05:08,  2.75s/it]WARNING:root:\n",
      "                    ISIMIP runs without time-information for at least one of obs, cm_hist or cm_future.\n",
      "                    This information is inferred, assuming the first observation is on a January 1st. Observations are chunked according to the assumed time information. \n",
      "                    This might lead to slight numerical differences to the run with time information, however the debiasing is not fundamentally changed.\n",
      "                    \n",
      " 51%|█████████████████████▊                     | 114/225 [05:51<05:01,  2.72s/it]WARNING:root:\n",
      "                    ISIMIP runs without time-information for at least one of obs, cm_hist or cm_future.\n",
      "                    This information is inferred, assuming the first observation is on a January 1st. Observations are chunked according to the assumed time information. \n",
      "                    This might lead to slight numerical differences to the run with time information, however the debiasing is not fundamentally changed.\n",
      "                    \n",
      " 51%|█████████████████████▉                     | 115/225 [05:54<04:55,  2.69s/it]WARNING:root:\n",
      "                    ISIMIP runs without time-information for at least one of obs, cm_hist or cm_future.\n",
      "                    This information is inferred, assuming the first observation is on a January 1st. Observations are chunked according to the assumed time information. \n",
      "                    This might lead to slight numerical differences to the run with time information, however the debiasing is not fundamentally changed.\n",
      "                    \n",
      " 52%|██████████████████████▏                    | 116/225 [05:56<04:50,  2.66s/it]WARNING:root:\n",
      "                    ISIMIP runs without time-information for at least one of obs, cm_hist or cm_future.\n",
      "                    This information is inferred, assuming the first observation is on a January 1st. Observations are chunked according to the assumed time information. \n",
      "                    This might lead to slight numerical differences to the run with time information, however the debiasing is not fundamentally changed.\n",
      "                    \n",
      " 52%|██████████████████████▎                    | 117/225 [05:59<04:49,  2.68s/it]WARNING:root:\n",
      "                    ISIMIP runs without time-information for at least one of obs, cm_hist or cm_future.\n",
      "                    This information is inferred, assuming the first observation is on a January 1st. Observations are chunked according to the assumed time information. \n",
      "                    This might lead to slight numerical differences to the run with time information, however the debiasing is not fundamentally changed.\n",
      "                    \n",
      " 52%|██████████████████████▌                    | 118/225 [06:02<04:46,  2.68s/it]WARNING:root:\n",
      "                    ISIMIP runs without time-information for at least one of obs, cm_hist or cm_future.\n",
      "                    This information is inferred, assuming the first observation is on a January 1st. Observations are chunked according to the assumed time information. \n",
      "                    This might lead to slight numerical differences to the run with time information, however the debiasing is not fundamentally changed.\n",
      "                    \n",
      " 53%|██████████████████████▋                    | 119/225 [06:04<04:45,  2.69s/it]WARNING:root:\n",
      "                    ISIMIP runs without time-information for at least one of obs, cm_hist or cm_future.\n",
      "                    This information is inferred, assuming the first observation is on a January 1st. Observations are chunked according to the assumed time information. \n",
      "                    This might lead to slight numerical differences to the run with time information, however the debiasing is not fundamentally changed.\n",
      "                    \n"
     ]
    },
    {
     "name": "stderr",
     "output_type": "stream",
     "text": [
      " 53%|██████████████████████▉                    | 120/225 [06:07<04:41,  2.68s/it]WARNING:root:\n",
      "                    ISIMIP runs without time-information for at least one of obs, cm_hist or cm_future.\n",
      "                    This information is inferred, assuming the first observation is on a January 1st. Observations are chunked according to the assumed time information. \n",
      "                    This might lead to slight numerical differences to the run with time information, however the debiasing is not fundamentally changed.\n",
      "                    \n",
      " 54%|███████████████████████                    | 121/225 [06:10<04:40,  2.70s/it]WARNING:root:\n",
      "                    ISIMIP runs without time-information for at least one of obs, cm_hist or cm_future.\n",
      "                    This information is inferred, assuming the first observation is on a January 1st. Observations are chunked according to the assumed time information. \n",
      "                    This might lead to slight numerical differences to the run with time information, however the debiasing is not fundamentally changed.\n",
      "                    \n",
      " 54%|███████████████████████▎                   | 122/225 [06:12<04:36,  2.69s/it]WARNING:root:\n",
      "                    ISIMIP runs without time-information for at least one of obs, cm_hist or cm_future.\n",
      "                    This information is inferred, assuming the first observation is on a January 1st. Observations are chunked according to the assumed time information. \n",
      "                    This might lead to slight numerical differences to the run with time information, however the debiasing is not fundamentally changed.\n",
      "                    \n",
      " 55%|███████████████████████▌                   | 123/225 [06:15<04:35,  2.70s/it]WARNING:root:\n",
      "                    ISIMIP runs without time-information for at least one of obs, cm_hist or cm_future.\n",
      "                    This information is inferred, assuming the first observation is on a January 1st. Observations are chunked according to the assumed time information. \n",
      "                    This might lead to slight numerical differences to the run with time information, however the debiasing is not fundamentally changed.\n",
      "                    \n",
      " 55%|███████████████████████▋                   | 124/225 [06:18<04:31,  2.69s/it]WARNING:root:\n",
      "                    ISIMIP runs without time-information for at least one of obs, cm_hist or cm_future.\n",
      "                    This information is inferred, assuming the first observation is on a January 1st. Observations are chunked according to the assumed time information. \n",
      "                    This might lead to slight numerical differences to the run with time information, however the debiasing is not fundamentally changed.\n",
      "                    \n",
      " 56%|███████████████████████▉                   | 125/225 [06:20<04:28,  2.68s/it]WARNING:root:\n",
      "                    ISIMIP runs without time-information for at least one of obs, cm_hist or cm_future.\n",
      "                    This information is inferred, assuming the first observation is on a January 1st. Observations are chunked according to the assumed time information. \n",
      "                    This might lead to slight numerical differences to the run with time information, however the debiasing is not fundamentally changed.\n",
      "                    \n",
      " 56%|████████████████████████                   | 126/225 [06:23<04:23,  2.67s/it]WARNING:root:\n",
      "                    ISIMIP runs without time-information for at least one of obs, cm_hist or cm_future.\n",
      "                    This information is inferred, assuming the first observation is on a January 1st. Observations are chunked according to the assumed time information. \n",
      "                    This might lead to slight numerical differences to the run with time information, however the debiasing is not fundamentally changed.\n",
      "                    \n",
      " 56%|████████████████████████▎                  | 127/225 [06:26<04:20,  2.65s/it]WARNING:root:\n",
      "                    ISIMIP runs without time-information for at least one of obs, cm_hist or cm_future.\n",
      "                    This information is inferred, assuming the first observation is on a January 1st. Observations are chunked according to the assumed time information. \n",
      "                    This might lead to slight numerical differences to the run with time information, however the debiasing is not fundamentally changed.\n",
      "                    \n",
      " 57%|████████████████████████▍                  | 128/225 [06:28<04:16,  2.65s/it]WARNING:root:\n",
      "                    ISIMIP runs without time-information for at least one of obs, cm_hist or cm_future.\n",
      "                    This information is inferred, assuming the first observation is on a January 1st. Observations are chunked according to the assumed time information. \n",
      "                    This might lead to slight numerical differences to the run with time information, however the debiasing is not fundamentally changed.\n",
      "                    \n",
      " 57%|████████████████████████▋                  | 129/225 [06:31<04:13,  2.64s/it]WARNING:root:\n",
      "                    ISIMIP runs without time-information for at least one of obs, cm_hist or cm_future.\n",
      "                    This information is inferred, assuming the first observation is on a January 1st. Observations are chunked according to the assumed time information. \n",
      "                    This might lead to slight numerical differences to the run with time information, however the debiasing is not fundamentally changed.\n",
      "                    \n",
      " 58%|████████████████████████▊                  | 130/225 [06:34<04:09,  2.63s/it]WARNING:root:\n",
      "                    ISIMIP runs without time-information for at least one of obs, cm_hist or cm_future.\n",
      "                    This information is inferred, assuming the first observation is on a January 1st. Observations are chunked according to the assumed time information. \n",
      "                    This might lead to slight numerical differences to the run with time information, however the debiasing is not fundamentally changed.\n",
      "                    \n",
      " 58%|█████████████████████████                  | 131/225 [06:36<04:08,  2.64s/it]WARNING:root:\n",
      "                    ISIMIP runs without time-information for at least one of obs, cm_hist or cm_future.\n",
      "                    This information is inferred, assuming the first observation is on a January 1st. Observations are chunked according to the assumed time information. \n",
      "                    This might lead to slight numerical differences to the run with time information, however the debiasing is not fundamentally changed.\n",
      "                    \n",
      " 59%|█████████████████████████▏                 | 132/225 [06:39<04:07,  2.66s/it]WARNING:root:\n",
      "                    ISIMIP runs without time-information for at least one of obs, cm_hist or cm_future.\n",
      "                    This information is inferred, assuming the first observation is on a January 1st. Observations are chunked according to the assumed time information. \n",
      "                    This might lead to slight numerical differences to the run with time information, however the debiasing is not fundamentally changed.\n",
      "                    \n",
      " 59%|█████████████████████████▍                 | 133/225 [06:42<04:02,  2.64s/it]WARNING:root:\n",
      "                    ISIMIP runs without time-information for at least one of obs, cm_hist or cm_future.\n",
      "                    This information is inferred, assuming the first observation is on a January 1st. Observations are chunked according to the assumed time information. \n",
      "                    This might lead to slight numerical differences to the run with time information, however the debiasing is not fundamentally changed.\n",
      "                    \n",
      " 60%|█████████████████████████▌                 | 134/225 [06:44<03:58,  2.62s/it]WARNING:root:\n",
      "                    ISIMIP runs without time-information for at least one of obs, cm_hist or cm_future.\n",
      "                    This information is inferred, assuming the first observation is on a January 1st. Observations are chunked according to the assumed time information. \n",
      "                    This might lead to slight numerical differences to the run with time information, however the debiasing is not fundamentally changed.\n",
      "                    \n"
     ]
    },
    {
     "name": "stderr",
     "output_type": "stream",
     "text": [
      " 60%|█████████████████████████▊                 | 135/225 [06:47<03:55,  2.61s/it]WARNING:root:\n",
      "                    ISIMIP runs without time-information for at least one of obs, cm_hist or cm_future.\n",
      "                    This information is inferred, assuming the first observation is on a January 1st. Observations are chunked according to the assumed time information. \n",
      "                    This might lead to slight numerical differences to the run with time information, however the debiasing is not fundamentally changed.\n",
      "                    \n",
      " 60%|█████████████████████████▉                 | 136/225 [06:49<03:53,  2.63s/it]WARNING:root:\n",
      "                    ISIMIP runs without time-information for at least one of obs, cm_hist or cm_future.\n",
      "                    This information is inferred, assuming the first observation is on a January 1st. Observations are chunked according to the assumed time information. \n",
      "                    This might lead to slight numerical differences to the run with time information, however the debiasing is not fundamentally changed.\n",
      "                    \n",
      " 61%|██████████████████████████▏                | 137/225 [06:52<03:56,  2.69s/it]WARNING:root:\n",
      "                    ISIMIP runs without time-information for at least one of obs, cm_hist or cm_future.\n",
      "                    This information is inferred, assuming the first observation is on a January 1st. Observations are chunked according to the assumed time information. \n",
      "                    This might lead to slight numerical differences to the run with time information, however the debiasing is not fundamentally changed.\n",
      "                    \n",
      " 61%|██████████████████████████▎                | 138/225 [06:55<04:05,  2.82s/it]WARNING:root:\n",
      "                    ISIMIP runs without time-information for at least one of obs, cm_hist or cm_future.\n",
      "                    This information is inferred, assuming the first observation is on a January 1st. Observations are chunked according to the assumed time information. \n",
      "                    This might lead to slight numerical differences to the run with time information, however the debiasing is not fundamentally changed.\n",
      "                    \n",
      " 62%|██████████████████████████▌                | 139/225 [06:58<04:08,  2.89s/it]WARNING:root:\n",
      "                    ISIMIP runs without time-information for at least one of obs, cm_hist or cm_future.\n",
      "                    This information is inferred, assuming the first observation is on a January 1st. Observations are chunked according to the assumed time information. \n",
      "                    This might lead to slight numerical differences to the run with time information, however the debiasing is not fundamentally changed.\n",
      "                    \n",
      " 62%|██████████████████████████▊                | 140/225 [07:02<04:20,  3.06s/it]WARNING:root:\n",
      "                    ISIMIP runs without time-information for at least one of obs, cm_hist or cm_future.\n",
      "                    This information is inferred, assuming the first observation is on a January 1st. Observations are chunked according to the assumed time information. \n",
      "                    This might lead to slight numerical differences to the run with time information, however the debiasing is not fundamentally changed.\n",
      "                    \n",
      " 63%|██████████████████████████▉                | 141/225 [07:05<04:21,  3.12s/it]WARNING:root:\n",
      "                    ISIMIP runs without time-information for at least one of obs, cm_hist or cm_future.\n",
      "                    This information is inferred, assuming the first observation is on a January 1st. Observations are chunked according to the assumed time information. \n",
      "                    This might lead to slight numerical differences to the run with time information, however the debiasing is not fundamentally changed.\n",
      "                    \n",
      " 63%|███████████████████████████▏               | 142/225 [07:09<04:26,  3.21s/it]WARNING:root:\n",
      "                    ISIMIP runs without time-information for at least one of obs, cm_hist or cm_future.\n",
      "                    This information is inferred, assuming the first observation is on a January 1st. Observations are chunked according to the assumed time information. \n",
      "                    This might lead to slight numerical differences to the run with time information, however the debiasing is not fundamentally changed.\n",
      "                    \n",
      " 64%|███████████████████████████▎               | 143/225 [07:12<04:29,  3.28s/it]WARNING:root:\n",
      "                    ISIMIP runs without time-information for at least one of obs, cm_hist or cm_future.\n",
      "                    This information is inferred, assuming the first observation is on a January 1st. Observations are chunked according to the assumed time information. \n",
      "                    This might lead to slight numerical differences to the run with time information, however the debiasing is not fundamentally changed.\n",
      "                    \n",
      " 64%|███████████████████████████▌               | 144/225 [07:15<04:16,  3.17s/it]WARNING:root:\n",
      "                    ISIMIP runs without time-information for at least one of obs, cm_hist or cm_future.\n",
      "                    This information is inferred, assuming the first observation is on a January 1st. Observations are chunked according to the assumed time information. \n",
      "                    This might lead to slight numerical differences to the run with time information, however the debiasing is not fundamentally changed.\n",
      "                    \n",
      " 64%|███████████████████████████▋               | 145/225 [07:18<04:15,  3.20s/it]WARNING:root:\n",
      "                    ISIMIP runs without time-information for at least one of obs, cm_hist or cm_future.\n",
      "                    This information is inferred, assuming the first observation is on a January 1st. Observations are chunked according to the assumed time information. \n",
      "                    This might lead to slight numerical differences to the run with time information, however the debiasing is not fundamentally changed.\n",
      "                    \n",
      " 65%|███████████████████████████▉               | 146/225 [07:21<04:15,  3.23s/it]WARNING:root:\n",
      "                    ISIMIP runs without time-information for at least one of obs, cm_hist or cm_future.\n",
      "                    This information is inferred, assuming the first observation is on a January 1st. Observations are chunked according to the assumed time information. \n",
      "                    This might lead to slight numerical differences to the run with time information, however the debiasing is not fundamentally changed.\n",
      "                    \n",
      " 65%|████████████████████████████               | 147/225 [07:24<04:06,  3.16s/it]WARNING:root:\n",
      "                    ISIMIP runs without time-information for at least one of obs, cm_hist or cm_future.\n",
      "                    This information is inferred, assuming the first observation is on a January 1st. Observations are chunked according to the assumed time information. \n",
      "                    This might lead to slight numerical differences to the run with time information, however the debiasing is not fundamentally changed.\n",
      "                    \n",
      " 66%|████████████████████████████▎              | 148/225 [07:27<03:58,  3.10s/it]WARNING:root:\n",
      "                    ISIMIP runs without time-information for at least one of obs, cm_hist or cm_future.\n",
      "                    This information is inferred, assuming the first observation is on a January 1st. Observations are chunked according to the assumed time information. \n",
      "                    This might lead to slight numerical differences to the run with time information, however the debiasing is not fundamentally changed.\n",
      "                    \n",
      " 66%|████████████████████████████▍              | 149/225 [07:30<03:48,  3.00s/it]WARNING:root:\n",
      "                    ISIMIP runs without time-information for at least one of obs, cm_hist or cm_future.\n",
      "                    This information is inferred, assuming the first observation is on a January 1st. Observations are chunked according to the assumed time information. \n",
      "                    This might lead to slight numerical differences to the run with time information, however the debiasing is not fundamentally changed.\n",
      "                    \n"
     ]
    },
    {
     "name": "stderr",
     "output_type": "stream",
     "text": [
      " 67%|████████████████████████████▋              | 150/225 [07:33<03:44,  2.99s/it]WARNING:root:\n",
      "                    ISIMIP runs without time-information for at least one of obs, cm_hist or cm_future.\n",
      "                    This information is inferred, assuming the first observation is on a January 1st. Observations are chunked according to the assumed time information. \n",
      "                    This might lead to slight numerical differences to the run with time information, however the debiasing is not fundamentally changed.\n",
      "                    \n",
      " 67%|████████████████████████████▊              | 151/225 [07:36<03:44,  3.04s/it]WARNING:root:\n",
      "                    ISIMIP runs without time-information for at least one of obs, cm_hist or cm_future.\n",
      "                    This information is inferred, assuming the first observation is on a January 1st. Observations are chunked according to the assumed time information. \n",
      "                    This might lead to slight numerical differences to the run with time information, however the debiasing is not fundamentally changed.\n",
      "                    \n",
      " 68%|█████████████████████████████              | 152/225 [07:39<03:44,  3.07s/it]WARNING:root:\n",
      "                    ISIMIP runs without time-information for at least one of obs, cm_hist or cm_future.\n",
      "                    This information is inferred, assuming the first observation is on a January 1st. Observations are chunked according to the assumed time information. \n",
      "                    This might lead to slight numerical differences to the run with time information, however the debiasing is not fundamentally changed.\n",
      "                    \n",
      " 68%|█████████████████████████████▏             | 153/225 [07:42<03:35,  2.99s/it]WARNING:root:\n",
      "                    ISIMIP runs without time-information for at least one of obs, cm_hist or cm_future.\n",
      "                    This information is inferred, assuming the first observation is on a January 1st. Observations are chunked according to the assumed time information. \n",
      "                    This might lead to slight numerical differences to the run with time information, however the debiasing is not fundamentally changed.\n",
      "                    \n",
      " 68%|█████████████████████████████▍             | 154/225 [07:45<03:31,  2.98s/it]WARNING:root:\n",
      "                    ISIMIP runs without time-information for at least one of obs, cm_hist or cm_future.\n",
      "                    This information is inferred, assuming the first observation is on a January 1st. Observations are chunked according to the assumed time information. \n",
      "                    This might lead to slight numerical differences to the run with time information, however the debiasing is not fundamentally changed.\n",
      "                    \n",
      " 69%|█████████████████████████████▌             | 155/225 [07:48<03:24,  2.92s/it]WARNING:root:\n",
      "                    ISIMIP runs without time-information for at least one of obs, cm_hist or cm_future.\n",
      "                    This information is inferred, assuming the first observation is on a January 1st. Observations are chunked according to the assumed time information. \n",
      "                    This might lead to slight numerical differences to the run with time information, however the debiasing is not fundamentally changed.\n",
      "                    \n",
      " 69%|█████████████████████████████▊             | 156/225 [07:51<03:18,  2.87s/it]WARNING:root:\n",
      "                    ISIMIP runs without time-information for at least one of obs, cm_hist or cm_future.\n",
      "                    This information is inferred, assuming the first observation is on a January 1st. Observations are chunked according to the assumed time information. \n",
      "                    This might lead to slight numerical differences to the run with time information, however the debiasing is not fundamentally changed.\n",
      "                    \n",
      " 70%|██████████████████████████████             | 157/225 [07:54<03:15,  2.88s/it]WARNING:root:\n",
      "                    ISIMIP runs without time-information for at least one of obs, cm_hist or cm_future.\n",
      "                    This information is inferred, assuming the first observation is on a January 1st. Observations are chunked according to the assumed time information. \n",
      "                    This might lead to slight numerical differences to the run with time information, however the debiasing is not fundamentally changed.\n",
      "                    \n",
      " 70%|██████████████████████████████▏            | 158/225 [07:57<03:14,  2.90s/it]WARNING:root:\n",
      "                    ISIMIP runs without time-information for at least one of obs, cm_hist or cm_future.\n",
      "                    This information is inferred, assuming the first observation is on a January 1st. Observations are chunked according to the assumed time information. \n",
      "                    This might lead to slight numerical differences to the run with time information, however the debiasing is not fundamentally changed.\n",
      "                    \n",
      " 71%|██████████████████████████████▍            | 159/225 [07:59<03:09,  2.86s/it]WARNING:root:\n",
      "                    ISIMIP runs without time-information for at least one of obs, cm_hist or cm_future.\n",
      "                    This information is inferred, assuming the first observation is on a January 1st. Observations are chunked according to the assumed time information. \n",
      "                    This might lead to slight numerical differences to the run with time information, however the debiasing is not fundamentally changed.\n",
      "                    \n",
      " 71%|██████████████████████████████▌            | 160/225 [08:02<03:10,  2.93s/it]WARNING:root:\n",
      "                    ISIMIP runs without time-information for at least one of obs, cm_hist or cm_future.\n",
      "                    This information is inferred, assuming the first observation is on a January 1st. Observations are chunked according to the assumed time information. \n",
      "                    This might lead to slight numerical differences to the run with time information, however the debiasing is not fundamentally changed.\n",
      "                    \n",
      " 72%|██████████████████████████████▊            | 161/225 [08:06<03:13,  3.02s/it]WARNING:root:\n",
      "                    ISIMIP runs without time-information for at least one of obs, cm_hist or cm_future.\n",
      "                    This information is inferred, assuming the first observation is on a January 1st. Observations are chunked according to the assumed time information. \n",
      "                    This might lead to slight numerical differences to the run with time information, however the debiasing is not fundamentally changed.\n",
      "                    \n",
      " 72%|██████████████████████████████▉            | 162/225 [08:09<03:08,  2.99s/it]WARNING:root:\n",
      "                    ISIMIP runs without time-information for at least one of obs, cm_hist or cm_future.\n",
      "                    This information is inferred, assuming the first observation is on a January 1st. Observations are chunked according to the assumed time information. \n",
      "                    This might lead to slight numerical differences to the run with time information, however the debiasing is not fundamentally changed.\n",
      "                    \n",
      " 72%|███████████████████████████████▏           | 163/225 [08:12<03:04,  2.97s/it]WARNING:root:\n",
      "                    ISIMIP runs without time-information for at least one of obs, cm_hist or cm_future.\n",
      "                    This information is inferred, assuming the first observation is on a January 1st. Observations are chunked according to the assumed time information. \n",
      "                    This might lead to slight numerical differences to the run with time information, however the debiasing is not fundamentally changed.\n",
      "                    \n",
      " 73%|███████████████████████████████▎           | 164/225 [08:15<03:02,  2.99s/it]WARNING:root:\n",
      "                    ISIMIP runs without time-information for at least one of obs, cm_hist or cm_future.\n",
      "                    This information is inferred, assuming the first observation is on a January 1st. Observations are chunked according to the assumed time information. \n",
      "                    This might lead to slight numerical differences to the run with time information, however the debiasing is not fundamentally changed.\n",
      "                    \n"
     ]
    },
    {
     "name": "stderr",
     "output_type": "stream",
     "text": [
      " 73%|███████████████████████████████▌           | 165/225 [08:17<02:57,  2.96s/it]WARNING:root:\n",
      "                    ISIMIP runs without time-information for at least one of obs, cm_hist or cm_future.\n",
      "                    This information is inferred, assuming the first observation is on a January 1st. Observations are chunked according to the assumed time information. \n",
      "                    This might lead to slight numerical differences to the run with time information, however the debiasing is not fundamentally changed.\n",
      "                    \n",
      " 74%|███████████████████████████████▋           | 166/225 [08:20<02:55,  2.98s/it]WARNING:root:\n",
      "                    ISIMIP runs without time-information for at least one of obs, cm_hist or cm_future.\n",
      "                    This information is inferred, assuming the first observation is on a January 1st. Observations are chunked according to the assumed time information. \n",
      "                    This might lead to slight numerical differences to the run with time information, however the debiasing is not fundamentally changed.\n",
      "                    \n",
      " 74%|███████████████████████████████▉           | 167/225 [08:24<02:54,  3.00s/it]WARNING:root:\n",
      "                    ISIMIP runs without time-information for at least one of obs, cm_hist or cm_future.\n",
      "                    This information is inferred, assuming the first observation is on a January 1st. Observations are chunked according to the assumed time information. \n",
      "                    This might lead to slight numerical differences to the run with time information, however the debiasing is not fundamentally changed.\n",
      "                    \n",
      " 75%|████████████████████████████████           | 168/225 [08:27<02:51,  3.01s/it]WARNING:root:\n",
      "                    ISIMIP runs without time-information for at least one of obs, cm_hist or cm_future.\n",
      "                    This information is inferred, assuming the first observation is on a January 1st. Observations are chunked according to the assumed time information. \n",
      "                    This might lead to slight numerical differences to the run with time information, however the debiasing is not fundamentally changed.\n",
      "                    \n",
      " 75%|████████████████████████████████▎          | 169/225 [08:30<02:51,  3.06s/it]WARNING:root:\n",
      "                    ISIMIP runs without time-information for at least one of obs, cm_hist or cm_future.\n",
      "                    This information is inferred, assuming the first observation is on a January 1st. Observations are chunked according to the assumed time information. \n",
      "                    This might lead to slight numerical differences to the run with time information, however the debiasing is not fundamentally changed.\n",
      "                    \n",
      " 76%|████████████████████████████████▍          | 170/225 [08:33<02:46,  3.02s/it]WARNING:root:\n",
      "                    ISIMIP runs without time-information for at least one of obs, cm_hist or cm_future.\n",
      "                    This information is inferred, assuming the first observation is on a January 1st. Observations are chunked according to the assumed time information. \n",
      "                    This might lead to slight numerical differences to the run with time information, however the debiasing is not fundamentally changed.\n",
      "                    \n",
      " 76%|████████████████████████████████▋          | 171/225 [08:36<02:40,  2.97s/it]WARNING:root:\n",
      "                    ISIMIP runs without time-information for at least one of obs, cm_hist or cm_future.\n",
      "                    This information is inferred, assuming the first observation is on a January 1st. Observations are chunked according to the assumed time information. \n",
      "                    This might lead to slight numerical differences to the run with time information, however the debiasing is not fundamentally changed.\n",
      "                    \n",
      " 76%|████████████████████████████████▊          | 172/225 [08:39<02:38,  2.98s/it]WARNING:root:\n",
      "                    ISIMIP runs without time-information for at least one of obs, cm_hist or cm_future.\n",
      "                    This information is inferred, assuming the first observation is on a January 1st. Observations are chunked according to the assumed time information. \n",
      "                    This might lead to slight numerical differences to the run with time information, however the debiasing is not fundamentally changed.\n",
      "                    \n",
      " 77%|█████████████████████████████████          | 173/225 [08:41<02:31,  2.92s/it]WARNING:root:\n",
      "                    ISIMIP runs without time-information for at least one of obs, cm_hist or cm_future.\n",
      "                    This information is inferred, assuming the first observation is on a January 1st. Observations are chunked according to the assumed time information. \n",
      "                    This might lead to slight numerical differences to the run with time information, however the debiasing is not fundamentally changed.\n",
      "                    \n",
      " 77%|█████████████████████████████████▎         | 174/225 [08:44<02:27,  2.90s/it]WARNING:root:\n",
      "                    ISIMIP runs without time-information for at least one of obs, cm_hist or cm_future.\n",
      "                    This information is inferred, assuming the first observation is on a January 1st. Observations are chunked according to the assumed time information. \n",
      "                    This might lead to slight numerical differences to the run with time information, however the debiasing is not fundamentally changed.\n",
      "                    \n",
      " 78%|█████████████████████████████████▍         | 175/225 [08:47<02:25,  2.90s/it]WARNING:root:\n",
      "                    ISIMIP runs without time-information for at least one of obs, cm_hist or cm_future.\n",
      "                    This information is inferred, assuming the first observation is on a January 1st. Observations are chunked according to the assumed time information. \n",
      "                    This might lead to slight numerical differences to the run with time information, however the debiasing is not fundamentally changed.\n",
      "                    \n",
      " 78%|█████████████████████████████████▋         | 176/225 [08:50<02:21,  2.89s/it]WARNING:root:\n",
      "                    ISIMIP runs without time-information for at least one of obs, cm_hist or cm_future.\n",
      "                    This information is inferred, assuming the first observation is on a January 1st. Observations are chunked according to the assumed time information. \n",
      "                    This might lead to slight numerical differences to the run with time information, however the debiasing is not fundamentally changed.\n",
      "                    \n",
      " 79%|█████████████████████████████████▊         | 177/225 [08:53<02:19,  2.91s/it]WARNING:root:\n",
      "                    ISIMIP runs without time-information for at least one of obs, cm_hist or cm_future.\n",
      "                    This information is inferred, assuming the first observation is on a January 1st. Observations are chunked according to the assumed time information. \n",
      "                    This might lead to slight numerical differences to the run with time information, however the debiasing is not fundamentally changed.\n",
      "                    \n",
      " 79%|██████████████████████████████████         | 178/225 [08:56<02:18,  2.94s/it]WARNING:root:\n",
      "                    ISIMIP runs without time-information for at least one of obs, cm_hist or cm_future.\n",
      "                    This information is inferred, assuming the first observation is on a January 1st. Observations are chunked according to the assumed time information. \n",
      "                    This might lead to slight numerical differences to the run with time information, however the debiasing is not fundamentally changed.\n",
      "                    \n",
      " 80%|██████████████████████████████████▏        | 179/225 [08:59<02:14,  2.92s/it]WARNING:root:\n",
      "                    ISIMIP runs without time-information for at least one of obs, cm_hist or cm_future.\n",
      "                    This information is inferred, assuming the first observation is on a January 1st. Observations are chunked according to the assumed time information. \n",
      "                    This might lead to slight numerical differences to the run with time information, however the debiasing is not fundamentally changed.\n",
      "                    \n"
     ]
    },
    {
     "name": "stderr",
     "output_type": "stream",
     "text": [
      " 80%|██████████████████████████████████▍        | 180/225 [09:02<02:10,  2.90s/it]WARNING:root:\n",
      "                    ISIMIP runs without time-information for at least one of obs, cm_hist or cm_future.\n",
      "                    This information is inferred, assuming the first observation is on a January 1st. Observations are chunked according to the assumed time information. \n",
      "                    This might lead to slight numerical differences to the run with time information, however the debiasing is not fundamentally changed.\n",
      "                    \n",
      " 80%|██████████████████████████████████▌        | 181/225 [09:05<02:09,  2.95s/it]WARNING:root:\n",
      "                    ISIMIP runs without time-information for at least one of obs, cm_hist or cm_future.\n",
      "                    This information is inferred, assuming the first observation is on a January 1st. Observations are chunked according to the assumed time information. \n",
      "                    This might lead to slight numerical differences to the run with time information, however the debiasing is not fundamentally changed.\n",
      "                    \n",
      " 81%|██████████████████████████████████▊        | 182/225 [09:08<02:10,  3.04s/it]WARNING:root:\n",
      "                    ISIMIP runs without time-information for at least one of obs, cm_hist or cm_future.\n",
      "                    This information is inferred, assuming the first observation is on a January 1st. Observations are chunked according to the assumed time information. \n",
      "                    This might lead to slight numerical differences to the run with time information, however the debiasing is not fundamentally changed.\n",
      "                    \n",
      " 81%|██████████████████████████████████▉        | 183/225 [09:11<02:06,  3.01s/it]WARNING:root:\n",
      "                    ISIMIP runs without time-information for at least one of obs, cm_hist or cm_future.\n",
      "                    This information is inferred, assuming the first observation is on a January 1st. Observations are chunked according to the assumed time information. \n",
      "                    This might lead to slight numerical differences to the run with time information, however the debiasing is not fundamentally changed.\n",
      "                    \n",
      " 82%|███████████████████████████████████▏       | 184/225 [09:14<02:02,  2.98s/it]WARNING:root:\n",
      "                    ISIMIP runs without time-information for at least one of obs, cm_hist or cm_future.\n",
      "                    This information is inferred, assuming the first observation is on a January 1st. Observations are chunked according to the assumed time information. \n",
      "                    This might lead to slight numerical differences to the run with time information, however the debiasing is not fundamentally changed.\n",
      "                    \n",
      " 82%|███████████████████████████████████▎       | 185/225 [09:17<01:58,  2.97s/it]WARNING:root:\n",
      "                    ISIMIP runs without time-information for at least one of obs, cm_hist or cm_future.\n",
      "                    This information is inferred, assuming the first observation is on a January 1st. Observations are chunked according to the assumed time information. \n",
      "                    This might lead to slight numerical differences to the run with time information, however the debiasing is not fundamentally changed.\n",
      "                    \n",
      " 83%|███████████████████████████████████▌       | 186/225 [09:20<01:53,  2.90s/it]WARNING:root:\n",
      "                    ISIMIP runs without time-information for at least one of obs, cm_hist or cm_future.\n",
      "                    This information is inferred, assuming the first observation is on a January 1st. Observations are chunked according to the assumed time information. \n",
      "                    This might lead to slight numerical differences to the run with time information, however the debiasing is not fundamentally changed.\n",
      "                    \n",
      " 83%|███████████████████████████████████▋       | 187/225 [09:22<01:50,  2.90s/it]WARNING:root:\n",
      "                    ISIMIP runs without time-information for at least one of obs, cm_hist or cm_future.\n",
      "                    This information is inferred, assuming the first observation is on a January 1st. Observations are chunked according to the assumed time information. \n",
      "                    This might lead to slight numerical differences to the run with time information, however the debiasing is not fundamentally changed.\n",
      "                    \n",
      " 84%|███████████████████████████████████▉       | 188/225 [09:25<01:46,  2.87s/it]WARNING:root:\n",
      "                    ISIMIP runs without time-information for at least one of obs, cm_hist or cm_future.\n",
      "                    This information is inferred, assuming the first observation is on a January 1st. Observations are chunked according to the assumed time information. \n",
      "                    This might lead to slight numerical differences to the run with time information, however the debiasing is not fundamentally changed.\n",
      "                    \n",
      " 84%|████████████████████████████████████       | 189/225 [09:28<01:41,  2.83s/it]WARNING:root:\n",
      "                    ISIMIP runs without time-information for at least one of obs, cm_hist or cm_future.\n",
      "                    This information is inferred, assuming the first observation is on a January 1st. Observations are chunked according to the assumed time information. \n",
      "                    This might lead to slight numerical differences to the run with time information, however the debiasing is not fundamentally changed.\n",
      "                    \n",
      " 84%|████████████████████████████████████▎      | 190/225 [09:31<01:39,  2.83s/it]WARNING:root:\n",
      "                    ISIMIP runs without time-information for at least one of obs, cm_hist or cm_future.\n",
      "                    This information is inferred, assuming the first observation is on a January 1st. Observations are chunked according to the assumed time information. \n",
      "                    This might lead to slight numerical differences to the run with time information, however the debiasing is not fundamentally changed.\n",
      "                    \n",
      " 85%|████████████████████████████████████▌      | 191/225 [09:34<01:38,  2.90s/it]WARNING:root:\n",
      "                    ISIMIP runs without time-information for at least one of obs, cm_hist or cm_future.\n",
      "                    This information is inferred, assuming the first observation is on a January 1st. Observations are chunked according to the assumed time information. \n",
      "                    This might lead to slight numerical differences to the run with time information, however the debiasing is not fundamentally changed.\n",
      "                    \n",
      " 85%|████████████████████████████████████▋      | 192/225 [09:37<01:35,  2.89s/it]WARNING:root:\n",
      "                    ISIMIP runs without time-information for at least one of obs, cm_hist or cm_future.\n",
      "                    This information is inferred, assuming the first observation is on a January 1st. Observations are chunked according to the assumed time information. \n",
      "                    This might lead to slight numerical differences to the run with time information, however the debiasing is not fundamentally changed.\n",
      "                    \n",
      " 86%|████████████████████████████████████▉      | 193/225 [09:40<01:36,  3.01s/it]WARNING:root:\n",
      "                    ISIMIP runs without time-information for at least one of obs, cm_hist or cm_future.\n",
      "                    This information is inferred, assuming the first observation is on a January 1st. Observations are chunked according to the assumed time information. \n",
      "                    This might lead to slight numerical differences to the run with time information, however the debiasing is not fundamentally changed.\n",
      "                    \n",
      " 86%|█████████████████████████████████████      | 194/225 [09:43<01:32,  2.99s/it]WARNING:root:\n",
      "                    ISIMIP runs without time-information for at least one of obs, cm_hist or cm_future.\n",
      "                    This information is inferred, assuming the first observation is on a January 1st. Observations are chunked according to the assumed time information. \n",
      "                    This might lead to slight numerical differences to the run with time information, however the debiasing is not fundamentally changed.\n",
      "                    \n"
     ]
    },
    {
     "name": "stderr",
     "output_type": "stream",
     "text": [
      " 87%|█████████████████████████████████████▎     | 195/225 [09:46<01:27,  2.91s/it]WARNING:root:\n",
      "                    ISIMIP runs without time-information for at least one of obs, cm_hist or cm_future.\n",
      "                    This information is inferred, assuming the first observation is on a January 1st. Observations are chunked according to the assumed time information. \n",
      "                    This might lead to slight numerical differences to the run with time information, however the debiasing is not fundamentally changed.\n",
      "                    \n",
      " 87%|█████████████████████████████████████▍     | 196/225 [09:48<01:22,  2.85s/it]WARNING:root:\n",
      "                    ISIMIP runs without time-information for at least one of obs, cm_hist or cm_future.\n",
      "                    This information is inferred, assuming the first observation is on a January 1st. Observations are chunked according to the assumed time information. \n",
      "                    This might lead to slight numerical differences to the run with time information, however the debiasing is not fundamentally changed.\n",
      "                    \n",
      " 88%|█████████████████████████████████████▋     | 197/225 [09:51<01:18,  2.80s/it]WARNING:root:\n",
      "                    ISIMIP runs without time-information for at least one of obs, cm_hist or cm_future.\n",
      "                    This information is inferred, assuming the first observation is on a January 1st. Observations are chunked according to the assumed time information. \n",
      "                    This might lead to slight numerical differences to the run with time information, however the debiasing is not fundamentally changed.\n",
      "                    \n",
      " 88%|█████████████████████████████████████▊     | 198/225 [09:54<01:15,  2.80s/it]WARNING:root:\n",
      "                    ISIMIP runs without time-information for at least one of obs, cm_hist or cm_future.\n",
      "                    This information is inferred, assuming the first observation is on a January 1st. Observations are chunked according to the assumed time information. \n",
      "                    This might lead to slight numerical differences to the run with time information, however the debiasing is not fundamentally changed.\n",
      "                    \n",
      " 88%|██████████████████████████████████████     | 199/225 [09:57<01:12,  2.77s/it]WARNING:root:\n",
      "                    ISIMIP runs without time-information for at least one of obs, cm_hist or cm_future.\n",
      "                    This information is inferred, assuming the first observation is on a January 1st. Observations are chunked according to the assumed time information. \n",
      "                    This might lead to slight numerical differences to the run with time information, however the debiasing is not fundamentally changed.\n",
      "                    \n",
      " 89%|██████████████████████████████████████▏    | 200/225 [09:59<01:09,  2.78s/it]WARNING:root:\n",
      "                    ISIMIP runs without time-information for at least one of obs, cm_hist or cm_future.\n",
      "                    This information is inferred, assuming the first observation is on a January 1st. Observations are chunked according to the assumed time information. \n",
      "                    This might lead to slight numerical differences to the run with time information, however the debiasing is not fundamentally changed.\n",
      "                    \n",
      " 89%|██████████████████████████████████████▍    | 201/225 [10:02<01:06,  2.76s/it]WARNING:root:\n",
      "                    ISIMIP runs without time-information for at least one of obs, cm_hist or cm_future.\n",
      "                    This information is inferred, assuming the first observation is on a January 1st. Observations are chunked according to the assumed time information. \n",
      "                    This might lead to slight numerical differences to the run with time information, however the debiasing is not fundamentally changed.\n",
      "                    \n",
      " 90%|██████████████████████████████████████▌    | 202/225 [10:05<01:03,  2.74s/it]WARNING:root:\n",
      "                    ISIMIP runs without time-information for at least one of obs, cm_hist or cm_future.\n",
      "                    This information is inferred, assuming the first observation is on a January 1st. Observations are chunked according to the assumed time information. \n",
      "                    This might lead to slight numerical differences to the run with time information, however the debiasing is not fundamentally changed.\n",
      "                    \n",
      " 90%|██████████████████████████████████████▊    | 203/225 [10:07<00:59,  2.72s/it]WARNING:root:\n",
      "                    ISIMIP runs without time-information for at least one of obs, cm_hist or cm_future.\n",
      "                    This information is inferred, assuming the first observation is on a January 1st. Observations are chunked according to the assumed time information. \n",
      "                    This might lead to slight numerical differences to the run with time information, however the debiasing is not fundamentally changed.\n",
      "                    \n",
      " 91%|██████████████████████████████████████▉    | 204/225 [10:10<00:56,  2.71s/it]WARNING:root:\n",
      "                    ISIMIP runs without time-information for at least one of obs, cm_hist or cm_future.\n",
      "                    This information is inferred, assuming the first observation is on a January 1st. Observations are chunked according to the assumed time information. \n",
      "                    This might lead to slight numerical differences to the run with time information, however the debiasing is not fundamentally changed.\n",
      "                    \n",
      " 91%|███████████████████████████████████████▏   | 205/225 [10:13<00:53,  2.70s/it]WARNING:root:\n",
      "                    ISIMIP runs without time-information for at least one of obs, cm_hist or cm_future.\n",
      "                    This information is inferred, assuming the first observation is on a January 1st. Observations are chunked according to the assumed time information. \n",
      "                    This might lead to slight numerical differences to the run with time information, however the debiasing is not fundamentally changed.\n",
      "                    \n",
      " 92%|███████████████████████████████████████▎   | 206/225 [10:15<00:51,  2.70s/it]WARNING:root:\n",
      "                    ISIMIP runs without time-information for at least one of obs, cm_hist or cm_future.\n",
      "                    This information is inferred, assuming the first observation is on a January 1st. Observations are chunked according to the assumed time information. \n",
      "                    This might lead to slight numerical differences to the run with time information, however the debiasing is not fundamentally changed.\n",
      "                    \n",
      " 92%|███████████████████████████████████████▌   | 207/225 [10:18<00:49,  2.77s/it]WARNING:root:\n",
      "                    ISIMIP runs without time-information for at least one of obs, cm_hist or cm_future.\n",
      "                    This information is inferred, assuming the first observation is on a January 1st. Observations are chunked according to the assumed time information. \n",
      "                    This might lead to slight numerical differences to the run with time information, however the debiasing is not fundamentally changed.\n",
      "                    \n",
      " 92%|███████████████████████████████████████▊   | 208/225 [10:21<00:47,  2.81s/it]WARNING:root:\n",
      "                    ISIMIP runs without time-information for at least one of obs, cm_hist or cm_future.\n",
      "                    This information is inferred, assuming the first observation is on a January 1st. Observations are chunked according to the assumed time information. \n",
      "                    This might lead to slight numerical differences to the run with time information, however the debiasing is not fundamentally changed.\n",
      "                    \n",
      " 93%|███████████████████████████████████████▉   | 209/225 [10:24<00:46,  2.90s/it]WARNING:root:\n",
      "                    ISIMIP runs without time-information for at least one of obs, cm_hist or cm_future.\n",
      "                    This information is inferred, assuming the first observation is on a January 1st. Observations are chunked according to the assumed time information. \n",
      "                    This might lead to slight numerical differences to the run with time information, however the debiasing is not fundamentally changed.\n",
      "                    \n"
     ]
    },
    {
     "name": "stderr",
     "output_type": "stream",
     "text": [
      " 93%|████████████████████████████████████████▏  | 210/225 [10:27<00:43,  2.93s/it]WARNING:root:\n",
      "                    ISIMIP runs without time-information for at least one of obs, cm_hist or cm_future.\n",
      "                    This information is inferred, assuming the first observation is on a January 1st. Observations are chunked according to the assumed time information. \n",
      "                    This might lead to slight numerical differences to the run with time information, however the debiasing is not fundamentally changed.\n",
      "                    \n",
      " 94%|████████████████████████████████████████▎  | 211/225 [10:30<00:40,  2.87s/it]WARNING:root:\n",
      "                    ISIMIP runs without time-information for at least one of obs, cm_hist or cm_future.\n",
      "                    This information is inferred, assuming the first observation is on a January 1st. Observations are chunked according to the assumed time information. \n",
      "                    This might lead to slight numerical differences to the run with time information, however the debiasing is not fundamentally changed.\n",
      "                    \n",
      " 94%|████████████████████████████████████████▌  | 212/225 [10:33<00:37,  2.85s/it]WARNING:root:\n",
      "                    ISIMIP runs without time-information for at least one of obs, cm_hist or cm_future.\n",
      "                    This information is inferred, assuming the first observation is on a January 1st. Observations are chunked according to the assumed time information. \n",
      "                    This might lead to slight numerical differences to the run with time information, however the debiasing is not fundamentally changed.\n",
      "                    \n",
      " 95%|████████████████████████████████████████▋  | 213/225 [10:36<00:33,  2.82s/it]WARNING:root:\n",
      "                    ISIMIP runs without time-information for at least one of obs, cm_hist or cm_future.\n",
      "                    This information is inferred, assuming the first observation is on a January 1st. Observations are chunked according to the assumed time information. \n",
      "                    This might lead to slight numerical differences to the run with time information, however the debiasing is not fundamentally changed.\n",
      "                    \n",
      " 95%|████████████████████████████████████████▉  | 214/225 [10:38<00:30,  2.78s/it]WARNING:root:\n",
      "                    ISIMIP runs without time-information for at least one of obs, cm_hist or cm_future.\n",
      "                    This information is inferred, assuming the first observation is on a January 1st. Observations are chunked according to the assumed time information. \n",
      "                    This might lead to slight numerical differences to the run with time information, however the debiasing is not fundamentally changed.\n",
      "                    \n",
      " 96%|█████████████████████████████████████████  | 215/225 [10:41<00:27,  2.79s/it]WARNING:root:\n",
      "                    ISIMIP runs without time-information for at least one of obs, cm_hist or cm_future.\n",
      "                    This information is inferred, assuming the first observation is on a January 1st. Observations are chunked according to the assumed time information. \n",
      "                    This might lead to slight numerical differences to the run with time information, however the debiasing is not fundamentally changed.\n",
      "                    \n",
      " 96%|█████████████████████████████████████████▎ | 216/225 [10:45<00:26,  2.96s/it]WARNING:root:\n",
      "                    ISIMIP runs without time-information for at least one of obs, cm_hist or cm_future.\n",
      "                    This information is inferred, assuming the first observation is on a January 1st. Observations are chunked according to the assumed time information. \n",
      "                    This might lead to slight numerical differences to the run with time information, however the debiasing is not fundamentally changed.\n",
      "                    \n",
      " 96%|█████████████████████████████████████████▍ | 217/225 [10:48<00:25,  3.15s/it]WARNING:root:\n",
      "                    ISIMIP runs without time-information for at least one of obs, cm_hist or cm_future.\n",
      "                    This information is inferred, assuming the first observation is on a January 1st. Observations are chunked according to the assumed time information. \n",
      "                    This might lead to slight numerical differences to the run with time information, however the debiasing is not fundamentally changed.\n",
      "                    \n",
      " 97%|█████████████████████████████████████████▋ | 218/225 [10:52<00:22,  3.23s/it]WARNING:root:\n",
      "                    ISIMIP runs without time-information for at least one of obs, cm_hist or cm_future.\n",
      "                    This information is inferred, assuming the first observation is on a January 1st. Observations are chunked according to the assumed time information. \n",
      "                    This might lead to slight numerical differences to the run with time information, however the debiasing is not fundamentally changed.\n",
      "                    \n",
      " 97%|█████████████████████████████████████████▊ | 219/225 [10:55<00:19,  3.29s/it]WARNING:root:\n",
      "                    ISIMIP runs without time-information for at least one of obs, cm_hist or cm_future.\n",
      "                    This information is inferred, assuming the first observation is on a January 1st. Observations are chunked according to the assumed time information. \n",
      "                    This might lead to slight numerical differences to the run with time information, however the debiasing is not fundamentally changed.\n",
      "                    \n",
      " 98%|██████████████████████████████████████████ | 220/225 [10:58<00:16,  3.24s/it]WARNING:root:\n",
      "                    ISIMIP runs without time-information for at least one of obs, cm_hist or cm_future.\n",
      "                    This information is inferred, assuming the first observation is on a January 1st. Observations are chunked according to the assumed time information. \n",
      "                    This might lead to slight numerical differences to the run with time information, however the debiasing is not fundamentally changed.\n",
      "                    \n",
      " 98%|██████████████████████████████████████████▏| 221/225 [11:01<00:12,  3.21s/it]WARNING:root:\n",
      "                    ISIMIP runs without time-information for at least one of obs, cm_hist or cm_future.\n",
      "                    This information is inferred, assuming the first observation is on a January 1st. Observations are chunked according to the assumed time information. \n",
      "                    This might lead to slight numerical differences to the run with time information, however the debiasing is not fundamentally changed.\n",
      "                    \n",
      " 99%|██████████████████████████████████████████▍| 222/225 [11:04<00:09,  3.09s/it]WARNING:root:\n",
      "                    ISIMIP runs without time-information for at least one of obs, cm_hist or cm_future.\n",
      "                    This information is inferred, assuming the first observation is on a January 1st. Observations are chunked according to the assumed time information. \n",
      "                    This might lead to slight numerical differences to the run with time information, however the debiasing is not fundamentally changed.\n",
      "                    \n",
      " 99%|██████████████████████████████████████████▌| 223/225 [11:07<00:06,  3.03s/it]WARNING:root:\n",
      "                    ISIMIP runs without time-information for at least one of obs, cm_hist or cm_future.\n",
      "                    This information is inferred, assuming the first observation is on a January 1st. Observations are chunked according to the assumed time information. \n",
      "                    This might lead to slight numerical differences to the run with time information, however the debiasing is not fundamentally changed.\n",
      "                    \n",
      "100%|██████████████████████████████████████████▊| 224/225 [11:10<00:03,  3.08s/it]WARNING:root:\n",
      "                    ISIMIP runs without time-information for at least one of obs, cm_hist or cm_future.\n",
      "                    This information is inferred, assuming the first observation is on a January 1st. Observations are chunked according to the assumed time information. \n",
      "                    This might lead to slight numerical differences to the run with time information, however the debiasing is not fundamentally changed.\n",
      "                    \n"
     ]
    },
    {
     "name": "stderr",
     "output_type": "stream",
     "text": [
      "100%|███████████████████████████████████████████| 225/225 [11:13<00:00,  2.99s/it]\n"
     ]
    }
   ],
   "source": [
    "tas_ISIMIP_nodates = tas_debiaser_ISIMIP.apply(tas_obs, tas_cm_hist, tas_cm_future)"
   ]
  },
  {
   "cell_type": "markdown",
   "id": "298af7a5-4dba-43cb-ae94-cf3ef90a600c",
   "metadata": {},
   "source": [
    "It is also possible to change the verbosity with which a debiaser is run. Options include:\n",
    "- 'ERRORS_ONLY' - only show error messages (as quiet as it gets)\n",
    "- 'WARNINGS_AND_ERRORS' - show warnings and errors (medium quiet)\n",
    "- 'INFO' - shows more info messages and runtime information (most chatty setting)\n",
    "\n",
    "To demonstrate this, we apply the same debiaser as above but change the settings to 'ERRORS_ONLY'"
   ]
  },
  {
   "cell_type": "code",
   "execution_count": 18,
   "id": "c9cf3835-e5d2-4355-a2ad-aa430aef41fd",
   "metadata": {},
   "outputs": [
    {
     "name": "stderr",
     "output_type": "stream",
     "text": [
      "100%|███████████████████████████████████████████| 225/225 [10:21<00:00,  2.76s/it]\n"
     ]
    }
   ],
   "source": [
    "debiaser = ISIMIP.from_variable(\"tas\")\n",
    "tas_ISIMIP_nodates = debiaser.apply(tas_obs, tas_cm_hist, tas_cm_future, verbosity = \"ERRORS_ONLY\")"
   ]
  },
  {
   "cell_type": "markdown",
   "id": "a7de1e5b-b4e7-4420-ae92-4260ec17f3df",
   "metadata": {},
   "source": [
    "## 3. Modifying the debiasers"
   ]
  },
  {
   "cell_type": "markdown",
   "id": "c0f08c76-a831-4d4b-bed1-a1a0b318d1b8",
   "metadata": {},
   "source": [
    "As seen above it is possible to initialise a debiaser either using the `from_variable`-method or the class-constructor. Using the class constructor, it is possible to extent debiasers to meteorological variables which are currently not covered by the `from_variable`-method."
   ]
  },
  {
   "cell_type": "markdown",
   "id": "70ea545f-bfc5-4737-9b59-b3a60449e44b",
   "metadata": {},
   "source": [
    "However, in many cases, even when working with variables that have default settings, it will be important to modify the behavior of debiasers to improve its application for a certain variable/region and problem at hand. \n",
    "\n",
    "For parametric methods, we might want to change the distribution to improve fit eg. for extremes, we might want to use a different trend-capturing method if trends are unrealistic, modified or inflated, or just generally might want to do some additional adjustment the debiaser offers. \n",
    "\n",
    "Parameters of the debiaser can be modified either by setting them differently in the class constructor or in the `from_variable`-method. For example if we decide to apply `QuantileMapping` and the climate change trend of the model is not entirely realistic it might be a good idea not to use detrending prior to quantile mapping. This can be done as:"
   ]
  },
  {
   "cell_type": "code",
   "execution_count": 19,
   "id": "68357b03-becd-41fc-92d0-874e2c7ec48a",
   "metadata": {},
   "outputs": [],
   "source": [
    "tas_debiaser_QM_v1 = QuantileMapping.from_variable(\"tas\", detrending = \"no_detrending\")"
   ]
  },
  {
   "cell_type": "markdown",
   "id": "adeaf9a3-690e-4e73-98e6-0d44e63dd0c2",
   "metadata": {},
   "source": [
    "or:"
   ]
  },
  {
   "cell_type": "code",
   "execution_count": 20,
   "id": "eacf9ef9-6f41-43da-82a1-e0be2771564c",
   "metadata": {},
   "outputs": [
    {
     "data": {
      "text/plain": [
       "True"
      ]
     },
     "execution_count": 20,
     "metadata": {},
     "output_type": "execute_result"
    }
   ],
   "source": [
    "tas_debiaser_QM_v2 = QuantileMapping(distribution = scipy.stats.norm, detrending = \"no_detrending\")\n",
    "tas_debiaser_QM_v1 == tas_debiaser_QM_v2"
   ]
  },
  {
   "cell_type": "markdown",
   "id": "51ac32f6-c727-4bd4-91ee-188b0919c68e",
   "metadata": {},
   "source": [
    "It is also possible to directly modify the class attribute: "
   ]
  },
  {
   "cell_type": "code",
   "execution_count": 21,
   "id": "b1c6dd6c-91fa-409b-9cbd-53de246fe87f",
   "metadata": {},
   "outputs": [
    {
     "data": {
      "text/plain": [
       "True"
      ]
     },
     "execution_count": 21,
     "metadata": {},
     "output_type": "execute_result"
    }
   ],
   "source": [
    "tas_debiaser_QM_v3 = QuantileMapping.from_variable(\"tas\")\n",
    "tas_debiaser_QM_v3.detrending = \"no_detrending\"\n",
    "\n",
    "tas_debiaser_QM_v1 == tas_debiaser_QM_v3"
   ]
  },
  {
   "cell_type": "markdown",
   "id": "a50dbd41-6392-42e9-9700-b2861fd2d9e0",
   "metadata": {},
   "source": [
    "However no validation is happening on the new arguments, so this method is generally not recommended."
   ]
  },
  {
   "cell_type": "markdown",
   "id": "961c1199",
   "metadata": {},
   "source": [
    "We can make use of the evaluation framework to assess the goodness of fit of different distributions:"
   ]
  },
  {
   "cell_type": "code",
   "execution_count": 22,
   "id": "42bebf5c",
   "metadata": {},
   "outputs": [
    {
     "name": "stderr",
     "output_type": "stream",
     "text": [
      "/Users/fionaspuler/opt/anaconda3/lib/python3.9/site-packages/scipy/stats/_continuous_distns.py:639: RuntimeWarning: invalid value encountered in sqrt\n",
      "  sk = 2*(b-a)*np.sqrt(a + b + 1) / (a + b + 2) / np.sqrt(a*b)\n",
      "/Users/fionaspuler/opt/anaconda3/lib/python3.9/site-packages/scipy/optimize/minpack.py:175: RuntimeWarning: The iteration is not making good progress, as measured by the \n",
      "  improvement from the last ten iterations.\n",
      "  warnings.warn(msg, RuntimeWarning)\n"
     ]
    },
    {
     "data": {
      "text/plain": [
       "[Text(0.5, 1.0, 'Distribution of AIC values across locations \\n Daily mean near-surface air temperature')]"
      ]
     },
     "execution_count": 22,
     "metadata": {},
     "output_type": "execute_result"
    },
    {
     "data": {
      "image/png": "[encoded data removed]",
      "text/plain": [
       "<Figure size 432x288 with 1 Axes>"
      ]
     },
     "metadata": {
      "needs_background": "light"
     },
     "output_type": "display_data"
    }
   ],
   "source": [
    "from ibicus.evaluate import assumptions\n",
    "\n",
    "tas_obs_aic = assumptions.calculate_aic('tas', tas_obs, scipy.stats.norm, scipy.stats.beta)\n",
    "assumptions.plot_aic(variable = 'tas', aic_values = tas_obs_aic)"
   ]
  },
  {
   "cell_type": "markdown",
   "id": "3945ccfd",
   "metadata": {},
   "source": [
    "We won't go into too much detail here - just to note that the functions above calculate the Akaike Information Criterion that assess the goodness of fit at each location for the different distributions. A lower AIC indicates a better fit. \n",
    "\n",
    "To gain some more insight into how the fits looks, we can plot the data and fit at the location with the 'worst' AIC:"
   ]
  },
  {
   "cell_type": "code",
   "execution_count": 23,
   "id": "476342b3",
   "metadata": {},
   "outputs": [
    {
     "data": {
      "image/png": "[encoded data removed]",
      "text/plain": [
       "<Figure size 576x432 with 1 Axes>"
      ]
     },
     "metadata": {
      "needs_background": "light"
     },
     "output_type": "display_data"
    }
   ],
   "source": [
    "tas_obs_worst_fit = assumptions.plot_fit_worst_aic(variable = 'tas', dataset = tas_obs,  \n",
    "                                                   data_type = 'Observed', distribution = scipy.stats.beta,\n",
    "                                                   nr_bins = 100, aic_values = tas_obs_aic)"
   ]
  },
  {
   "cell_type": "markdown",
   "id": "f303902f-c9ca-4bec-a867-45905c7f547a",
   "metadata": {},
   "source": [
    "**How to know which parameters to change**: Some debiasers such as ISIMIP have many parameters to control the behavior, but oftentimes only a few are central. The documentation for each of the debiasers provides an indication of the central and required parameters and how they modify the debiasing behavior."
   ]
  }
 ],
 "metadata": {
  "kernelspec": {
   "display_name": "Python 3 (ipykernel)",
   "language": "python",
   "name": "python3"
  },
  "language_info": {
   "codemirror_mode": {
    "name": "ipython",
    "version": 3
   },
   "file_extension": ".py",
   "mimetype": "text/x-python",
   "name": "python",
   "nbconvert_exporter": "python",
   "pygments_lexer": "ipython3",
   "version": "3.9.12"
  }
 },
 "nbformat": 4,
 "nbformat_minor": 5
}
