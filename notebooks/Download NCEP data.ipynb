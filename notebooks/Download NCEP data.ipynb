{
 "cells": [
  {
   "cell_type": "markdown",
   "id": "2585938c-d55e-4d04-bc4f-59312b06919e",
   "metadata": {
    "tags": []
   },
   "source": [
    "# Download and preprocess using NCEP and CMIP6 testing data"
   ]
  },
  {
   "cell_type": "code",
   "execution_count": 1,
   "id": "b9520592-e401-4d71-a6a3-548be5f093fc",
   "metadata": {},
   "outputs": [],
   "source": [
    "import os\n",
    "import iris\n",
    "import xarray\n",
    "import urllib"
   ]
  },
  {
   "cell_type": "markdown",
   "id": "ddabd69c-5945-4f12-a6d1-39b99ea8ed34",
   "metadata": {},
   "source": [
    "## Downloading data"
   ]
  },
  {
   "cell_type": "code",
   "execution_count": 2,
   "id": "0acdff88-ff49-4229-ac48-55d32f70a4de",
   "metadata": {},
   "outputs": [],
   "source": [
    "DATADIR = \"ncep_data\"\n",
    "os.mkdir(DATADIR)"
   ]
  },
  {
   "cell_type": "markdown",
   "id": "6f957024-5f13-4501-a5e5-ce10783fdd2d",
   "metadata": {},
   "source": [
    "Let's download and preprocess some data. We will use CMIP6 data from the Climate Data Store (CDS) as climate model input and the NCEP/DOE Reanalysis II on daily resolution as observations."
   ]
  },
  {
   "cell_type": "markdown",
   "id": "c2c6528c-53e8-4964-a110-6fb6d3cde412",
   "metadata": {},
   "source": [
    "### 1. Download climate model data"
   ]
  },
  {
   "cell_type": "markdown",
   "id": "ea2c0190-67e9-4c0a-922a-eef7ffc66085",
   "metadata": {},
   "source": [
    "We will request data climate from the Climate Data Store (CDS) using the CDS API. Let us make use of the option to manually set the CDS API credentials. First, you have to define two variables: URL and KEY which build together your CDS API key. The string of characters that make up your KEY include your personal User ID and CDS API key. To obtain these, first register or login to the CDS (http://cds.climate.copernicus.eu), then visit https://cds.climate.copernicus.eu/api-how-to and copy the string of characters listed after \"key:\". Replace the ######### below with this string"
   ]
  },
  {
   "cell_type": "code",
   "execution_count": 3,
   "id": "56ae4058-3761-48bd-a7dc-4a44eabbaa5c",
   "metadata": {},
   "outputs": [],
   "source": [
    "URL = 'https://cds.climate.copernicus.eu/api/v2'\n",
    "KEY = '140375:f24956b6-43ca-40ed-9563-be7031a4b2c3' # enter your key instead"
   ]
  },
  {
   "cell_type": "markdown",
   "id": "1b131ccf-97dc-42bf-8730-256995cf1dba",
   "metadata": {},
   "source": [
    "Let's choose a model and variables we are interested in. Here we decided to use a CMIP6 model. Unfortunately all variables are available on daily temporal resolution in CMIP6 on the CDS. Feel free to change the API request below to CMIP5 for example which has more variables on daily resolution: https://cds.climate.copernicus.eu/cdsapp#!/dataset/projections-cmip5-daily-single-levels?tab=overview"
   ]
  },
  {
   "cell_type": "code",
   "execution_count": 12,
   "id": "11ef38ef-3f3b-48bf-acd3-afcd3a31f48e",
   "metadata": {},
   "outputs": [],
   "source": [
    "# choose model\n",
    "model = 'mpi_esm1_2_lr'\n",
    "\n",
    "# choose variables to extract (not all variables available at daily resolution for all cmip6 models at the moment)\n",
    "variables = ['near_surface_air_temperature', 'daily_maximum_near_surface_air_temperature', 'daily_minimum_near_surface_air_temperature', 'precipitation', 'near_surface_specific_humidity']\n",
    "\n",
    "# choose area to extract\n",
    "area = [80, 3, 20, 30]\n",
    "\n",
    "# choose a historical period to extract\n",
    "period_hist = '1979-01-01/2015-12-31'\n",
    "\n",
    "# choose a future period to extract:\n",
    "period_fut = '2050-01-01/2070-12-31'"
   ]
  },
  {
   "cell_type": "markdown",
   "id": "de44e089-2d3f-4016-92e5-085eeeadee6a",
   "metadata": {},
   "source": [
    "Let's install the cdsapi:"
   ]
  },
  {
   "cell_type": "code",
   "execution_count": 13,
   "id": "5a415b25-c35a-47d2-9e26-f2f9bf0ce196",
   "metadata": {},
   "outputs": [],
   "source": [
    "#!pip install cdsapi\n",
    "import cdsapi"
   ]
  },
  {
   "cell_type": "markdown",
   "id": "03e50607-f366-48e0-873d-fb1296a99a17",
   "metadata": {},
   "source": [
    "### 1.1. Download historical climate model data"
   ]
  },
  {
   "cell_type": "code",
   "execution_count": 14,
   "id": "c3ab1271-9f60-4824-95c2-32d76c0c1f9c",
   "metadata": {},
   "outputs": [
    {
     "name": "stderr",
     "output_type": "stream",
     "text": [
      "/home/jakobwes/anaconda3/envs/ibias4/lib/python3.9/site-packages/urllib3/connectionpool.py:1045: InsecureRequestWarning: Unverified HTTPS request is being made to host 'cds.climate.copernicus.eu'. Adding certificate verification is strongly advised. See: https://urllib3.readthedocs.io/en/1.26.x/advanced-usage.html#ssl-warnings\n",
      "  warnings.warn(\n",
      "2022-08-20 23:53:17,115 INFO Welcome to the CDS\n",
      "2022-08-20 23:53:17,116 INFO Sending request to https://cds.climate.copernicus.eu/api/v2/resources/projections-cmip6\n",
      "/home/jakobwes/anaconda3/envs/ibias4/lib/python3.9/site-packages/urllib3/connectionpool.py:1045: InsecureRequestWarning: Unverified HTTPS request is being made to host 'cds.climate.copernicus.eu'. Adding certificate verification is strongly advised. See: https://urllib3.readthedocs.io/en/1.26.x/advanced-usage.html#ssl-warnings\n",
      "  warnings.warn(\n",
      "2022-08-20 23:53:17,196 INFO Request is queued\n",
      "/home/jakobwes/anaconda3/envs/ibias4/lib/python3.9/site-packages/urllib3/connectionpool.py:1045: InsecureRequestWarning: Unverified HTTPS request is being made to host 'cds.climate.copernicus.eu'. Adding certificate verification is strongly advised. See: https://urllib3.readthedocs.io/en/1.26.x/advanced-usage.html#ssl-warnings\n",
      "  warnings.warn(\n",
      "2022-08-20 23:53:18,253 INFO Request is running\n",
      "/home/jakobwes/anaconda3/envs/ibias4/lib/python3.9/site-packages/urllib3/connectionpool.py:1045: InsecureRequestWarning: Unverified HTTPS request is being made to host 'cds.climate.copernicus.eu'. Adding certificate verification is strongly advised. See: https://urllib3.readthedocs.io/en/1.26.x/advanced-usage.html#ssl-warnings\n",
      "  warnings.warn(\n",
      "/home/jakobwes/anaconda3/envs/ibias4/lib/python3.9/site-packages/urllib3/connectionpool.py:1045: InsecureRequestWarning: Unverified HTTPS request is being made to host 'cds.climate.copernicus.eu'. Adding certificate verification is strongly advised. See: https://urllib3.readthedocs.io/en/1.26.x/advanced-usage.html#ssl-warnings\n",
      "  warnings.warn(\n",
      "/home/jakobwes/anaconda3/envs/ibias4/lib/python3.9/site-packages/urllib3/connectionpool.py:1045: InsecureRequestWarning: Unverified HTTPS request is being made to host 'cds.climate.copernicus.eu'. Adding certificate verification is strongly advised. See: https://urllib3.readthedocs.io/en/1.26.x/advanced-usage.html#ssl-warnings\n",
      "  warnings.warn(\n",
      "/home/jakobwes/anaconda3/envs/ibias4/lib/python3.9/site-packages/urllib3/connectionpool.py:1045: InsecureRequestWarning: Unverified HTTPS request is being made to host 'cds.climate.copernicus.eu'. Adding certificate verification is strongly advised. See: https://urllib3.readthedocs.io/en/1.26.x/advanced-usage.html#ssl-warnings\n",
      "  warnings.warn(\n",
      "/home/jakobwes/anaconda3/envs/ibias4/lib/python3.9/site-packages/urllib3/connectionpool.py:1045: InsecureRequestWarning: Unverified HTTPS request is being made to host 'cds.climate.copernicus.eu'. Adding certificate verification is strongly advised. See: https://urllib3.readthedocs.io/en/1.26.x/advanced-usage.html#ssl-warnings\n",
      "  warnings.warn(\n",
      "/home/jakobwes/anaconda3/envs/ibias4/lib/python3.9/site-packages/urllib3/connectionpool.py:1045: InsecureRequestWarning: Unverified HTTPS request is being made to host 'cds.climate.copernicus.eu'. Adding certificate verification is strongly advised. See: https://urllib3.readthedocs.io/en/1.26.x/advanced-usage.html#ssl-warnings\n",
      "  warnings.warn(\n",
      "2022-08-20 23:53:49,817 INFO Request is completed\n",
      "2022-08-20 23:53:49,820 INFO Downloading https://download-0018.copernicus-climate.eu/cache-compute-0018/cache/data7/adaptor.esgf_wps.retrieve-1661036025.6290557-30698-19-7d30f7e4-0dc8-4872-a6da-089802265007.zip to ncep_data/cmip6_daily_1979-2015_ipsl_historical_daily_minimum_near_surface_air_temperature.zip (12.7M)\n",
      "/home/jakobwes/anaconda3/envs/ibias4/lib/python3.9/site-packages/urllib3/connectionpool.py:1045: InsecureRequestWarning: Unverified HTTPS request is being made to host 'download-0018.copernicus-climate.eu'. Adding certificate verification is strongly advised. See: https://urllib3.readthedocs.io/en/1.26.x/advanced-usage.html#ssl-warnings\n",
      "  warnings.warn(\n",
      "2022-08-20 23:53:51,339 INFO Download rate 8.4M/s                               \n",
      "/home/jakobwes/anaconda3/envs/ibias4/lib/python3.9/site-packages/urllib3/connectionpool.py:1045: InsecureRequestWarning: Unverified HTTPS request is being made to host 'cds.climate.copernicus.eu'. Adding certificate verification is strongly advised. See: https://urllib3.readthedocs.io/en/1.26.x/advanced-usage.html#ssl-warnings\n",
      "  warnings.warn(\n"
     ]
    }
   ],
   "source": [
    "# download historical climate model data\n",
    "\n",
    "c = cdsapi.Client(url=URL, key=KEY)\n",
    "\n",
    "for v in variables:\n",
    "    c.retrieve(\n",
    "        'projections-cmip6',\n",
    "        {\n",
    "            'temporal_resolution': 'daily',\n",
    "            'experiment': 'historical',\n",
    "            'level': 'single_levels',\n",
    "            'variable': v,\n",
    "            'model': model,\n",
    "            'date': period_hist,\n",
    "            'area': area,\n",
    "            'format': 'zip',\n",
    "        },\n",
    "        f'{DATADIR}/cmip6_daily_1979-2015_ipsl_historical_{v}.zip')"
   ]
  },
  {
   "cell_type": "markdown",
   "id": "0ed01ca0-002e-4372-9535-640f3f824e9c",
   "metadata": {},
   "source": [
    "### 1.2. Download future climate model data"
   ]
  },
  {
   "cell_type": "code",
   "execution_count": 15,
   "id": "914d9a6a-8ae1-4649-a235-bc9a1cdb9845",
   "metadata": {},
   "outputs": [
    {
     "name": "stderr",
     "output_type": "stream",
     "text": [
      "/home/jakobwes/anaconda3/envs/ibias4/lib/python3.9/site-packages/urllib3/connectionpool.py:1045: InsecureRequestWarning: Unverified HTTPS request is being made to host 'cds.climate.copernicus.eu'. Adding certificate verification is strongly advised. See: https://urllib3.readthedocs.io/en/1.26.x/advanced-usage.html#ssl-warnings\n",
      "  warnings.warn(\n",
      "2022-08-20 23:53:51,471 INFO Welcome to the CDS\n",
      "2022-08-20 23:53:51,473 INFO Sending request to https://cds.climate.copernicus.eu/api/v2/resources/projections-cmip6\n",
      "/home/jakobwes/anaconda3/envs/ibias4/lib/python3.9/site-packages/urllib3/connectionpool.py:1045: InsecureRequestWarning: Unverified HTTPS request is being made to host 'cds.climate.copernicus.eu'. Adding certificate verification is strongly advised. See: https://urllib3.readthedocs.io/en/1.26.x/advanced-usage.html#ssl-warnings\n",
      "  warnings.warn(\n",
      "2022-08-20 23:53:51,563 INFO Request is queued\n",
      "/home/jakobwes/anaconda3/envs/ibias4/lib/python3.9/site-packages/urllib3/connectionpool.py:1045: InsecureRequestWarning: Unverified HTTPS request is being made to host 'cds.climate.copernicus.eu'. Adding certificate verification is strongly advised. See: https://urllib3.readthedocs.io/en/1.26.x/advanced-usage.html#ssl-warnings\n",
      "  warnings.warn(\n",
      "2022-08-20 23:53:52,623 INFO Request is running\n",
      "/home/jakobwes/anaconda3/envs/ibias4/lib/python3.9/site-packages/urllib3/connectionpool.py:1045: InsecureRequestWarning: Unverified HTTPS request is being made to host 'cds.climate.copernicus.eu'. Adding certificate verification is strongly advised. See: https://urllib3.readthedocs.io/en/1.26.x/advanced-usage.html#ssl-warnings\n",
      "  warnings.warn(\n",
      "/home/jakobwes/anaconda3/envs/ibias4/lib/python3.9/site-packages/urllib3/connectionpool.py:1045: InsecureRequestWarning: Unverified HTTPS request is being made to host 'cds.climate.copernicus.eu'. Adding certificate verification is strongly advised. See: https://urllib3.readthedocs.io/en/1.26.x/advanced-usage.html#ssl-warnings\n",
      "  warnings.warn(\n",
      "/home/jakobwes/anaconda3/envs/ibias4/lib/python3.9/site-packages/urllib3/connectionpool.py:1045: InsecureRequestWarning: Unverified HTTPS request is being made to host 'cds.climate.copernicus.eu'. Adding certificate verification is strongly advised. See: https://urllib3.readthedocs.io/en/1.26.x/advanced-usage.html#ssl-warnings\n",
      "  warnings.warn(\n",
      "/home/jakobwes/anaconda3/envs/ibias4/lib/python3.9/site-packages/urllib3/connectionpool.py:1045: InsecureRequestWarning: Unverified HTTPS request is being made to host 'cds.climate.copernicus.eu'. Adding certificate verification is strongly advised. See: https://urllib3.readthedocs.io/en/1.26.x/advanced-usage.html#ssl-warnings\n",
      "  warnings.warn(\n",
      "/home/jakobwes/anaconda3/envs/ibias4/lib/python3.9/site-packages/urllib3/connectionpool.py:1045: InsecureRequestWarning: Unverified HTTPS request is being made to host 'cds.climate.copernicus.eu'. Adding certificate verification is strongly advised. See: https://urllib3.readthedocs.io/en/1.26.x/advanced-usage.html#ssl-warnings\n",
      "  warnings.warn(\n",
      "2022-08-20 23:54:12,704 INFO Request is completed\n",
      "2022-08-20 23:54:12,706 INFO Downloading https://download-0002-clone.copernicus-climate.eu/cache-compute-0002/cache/data2/adaptor.esgf_wps.retrieve-1661036051.087838-16171-20-0a86fd39-5382-45c4-802b-6af1f6634fca.zip to ncep_data/cmip6_daily_2050-2070_ipsl_ssp5_8_5_daily_minimum_near_surface_air_temperature.zip (6.7M)\n",
      "/home/jakobwes/anaconda3/envs/ibias4/lib/python3.9/site-packages/urllib3/connectionpool.py:1045: InsecureRequestWarning: Unverified HTTPS request is being made to host 'download-0002-clone.copernicus-climate.eu'. Adding certificate verification is strongly advised. See: https://urllib3.readthedocs.io/en/1.26.x/advanced-usage.html#ssl-warnings\n",
      "  warnings.warn(\n",
      "2022-08-20 23:54:13,873 INFO Download rate 5.7M/s                               \n",
      "/home/jakobwes/anaconda3/envs/ibias4/lib/python3.9/site-packages/urllib3/connectionpool.py:1045: InsecureRequestWarning: Unverified HTTPS request is being made to host 'cds.climate.copernicus.eu'. Adding certificate verification is strongly advised. See: https://urllib3.readthedocs.io/en/1.26.x/advanced-usage.html#ssl-warnings\n",
      "  warnings.warn(\n"
     ]
    }
   ],
   "source": [
    "# download future climate model data\n",
    "\n",
    "c = cdsapi.Client(url=URL, key=KEY)\n",
    "\n",
    "for v in variables:\n",
    "    c.retrieve(\n",
    "        'projections-cmip6',\n",
    "        {\n",
    "            'temporal_resolution': 'daily',\n",
    "            'experiment': 'ssp5_8_5',\n",
    "            'level': 'single_levels',\n",
    "            'variable': v,\n",
    "            'model': model,\n",
    "            'date': period_fut,\n",
    "            'area': area,\n",
    "            'format': 'zip',\n",
    "        },\n",
    "        f'{DATADIR}/cmip6_daily_2050-2070_ipsl_ssp5_8_5_{v}.zip')"
   ]
  },
  {
   "cell_type": "markdown",
   "id": "add94f6e-5a04-4bfc-8eaf-2b2ad9ed5281",
   "metadata": {},
   "source": [
    "### 1.3. Download observations"
   ]
  },
  {
   "cell_type": "markdown",
   "id": "03fe3a77-5f90-475c-abab-981166b29ccf",
   "metadata": {},
   "source": [
    "As observational reference we have decided on the NCEP/DOE Reanalysis II on daily temporal resolution:"
   ]
  },
  {
   "cell_type": "code",
   "execution_count": 16,
   "id": "7137fe72-694e-4644-9ef6-60aa0a19004e",
   "metadata": {},
   "outputs": [
    {
     "name": "stdout",
     "output_type": "stream",
     "text": [
      "Requesting tmin.2m.gauss\n"
     ]
    }
   ],
   "source": [
    "# Variable name. Needs to be one of the NCEP-names in https://downloads.psl.noaa.gov/Datasets/ncep.reanalysis2/Dailies/gaussian_grid/\n",
    "variables = [\"air.2m.gauss\", \"tmax.2m.gauss\", \"tmin.2m.gauss\", \"prate.sfc.gauss\", \"shum.2m.gauss\"]\n",
    "\n",
    "lat = [20, 80]\n",
    "lon = [3, 30]\n",
    "\n",
    "# Range of years to download\n",
    "years = list(range(1979, 1981))\n",
    "\n",
    "for variable in variables:\n",
    "    print(f\"Requesting {variable}\")\n",
    "    \n",
    "    # Download data year by year\n",
    "    filenames_for_cleanup = []\n",
    "    for year in years:\n",
    "        url = f\"https://downloads.psl.noaa.gov/Datasets/ncep.reanalysis2/Dailies/gaussian_grid/{variable}.{str(year)}.nc\"\n",
    "        filename = f\"{DATADIR}/{variable}_{str(year)}.nc\"\n",
    "        # Download nc file\n",
    "        urllib.request.urlretrieve(url, filename)\n",
    "        # Append filename to list of filenames to cleanup\n",
    "        filenames_for_cleanup.append(filename)\n",
    "\n",
    "    # Combine data for variable\n",
    "    combined_data = xarray.open_mfdataset(f\"{DATADIR}/{variable}_*.nc\", combine = 'nested', concat_dim=\"time\")\n",
    "    combined_data = combined_data.sel(lon=slice(lon[0], lon[1]),lat=slice(lat[1], lat[0]))\n",
    "    combined_data.to_netcdf(f\"{DATADIR}/{variable}_{str(min(years))}_{str(max(years))}.nc\")\n",
    "\n",
    "    # Cleanup\n",
    "    for filename in filenames_for_cleanup:\n",
    "        os.remove(filename)"
   ]
  },
  {
   "cell_type": "markdown",
   "id": "c12f0590-4a1c-4105-98fd-59fba510ac39",
   "metadata": {},
   "source": [
    "## 2. Regrid data "
   ]
  },
  {
   "cell_type": "markdown",
   "id": "35feff9a-4e27-44fa-98cb-40a03ca94ef2",
   "metadata": {},
   "source": [
    "Now that we have data on the same temporal resolution for both the climate model and observations we need to make sure they are also on the same spatial one and regrid the datasets. We will use iris for that, however there are also xarray solutions."
   ]
  },
  {
   "cell_type": "code",
   "execution_count": null,
   "id": "043d4317-c93b-4405-92f7-ef0b98e9ce7b",
   "metadata": {},
   "outputs": [],
   "source": []
  }
 ],
 "metadata": {
  "kernelspec": {
   "display_name": "ibias4",
   "language": "python",
   "name": "ibias4"
  },
  "language_info": {
   "codemirror_mode": {
    "name": "ipython",
    "version": 3
   },
   "file_extension": ".py",
   "mimetype": "text/x-python",
   "name": "python",
   "nbconvert_exporter": "python",
   "pygments_lexer": "ipython3",
   "version": "3.9.13"
  }
 },
 "nbformat": 4,
 "nbformat_minor": 5
}
