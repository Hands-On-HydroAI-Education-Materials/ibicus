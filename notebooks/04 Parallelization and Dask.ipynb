{
 "cells": [
  {
   "cell_type": "markdown",
   "id": "0c6cb208-a187-47b9-84cd-c608be232e1b",
   "metadata": {},
   "source": [
    "# Running ibicus in larger environments: parallelization and dask"
   ]
  },
  {
   "cell_type": "markdown",
   "id": "2b759e72-6385-4213-8c21-a2129727e9ae",
   "metadata": {},
   "source": [
    "This notebooks demonstrates different options for running ibicus bias adjustment on larger areas and larger computing environments. \n",
    "\n",
    "ibicus comes with an integrated parallelization option building upon the `multiprocessing` module. It also integrates easily with dask to run in HPC environments. In this notebook, we demonstrate these options using a CDFt and QuantileMapping debiaser."
   ]
  },
  {
   "cell_type": "code",
   "execution_count": 2,
   "id": "8bb4d6b0-f860-42b0-9453-f61290298591",
   "metadata": {},
   "outputs": [],
   "source": [
    "from ibicus.debias import CDFt, QuantileMapping"
   ]
  },
  {
   "cell_type": "markdown",
   "id": "c28b9a5d-4a77-442b-89b1-3017faffd977",
   "metadata": {},
   "source": [
    "Let's get some testing data. For an explanation of the steps please refer to the \"Getting started\" notebook:"
   ]
  },
  {
   "cell_type": "code",
   "execution_count": 3,
   "id": "40808b4e-c517-4490-9fae-1ebd86eba5d6",
   "metadata": {},
   "outputs": [],
   "source": [
    "import numpy as np\n",
    "\n",
    "def get_data(variable, data_path = \"testing_data/\"):\n",
    "    # Load in the data \n",
    "    data = np.load(f\"{data_path}{variable}.npz\", allow_pickle = True)\n",
    "    # Return arrays\n",
    "    return data[\"obs\"], data[\"cm_hist\"], data[\"cm_future\"], {\"time_obs\": data[\"time_obs\"], \"time_cm_hist\": data[\"time_cm_hist\"], \"time_cm_future\": data[\"time_cm_future\"]}"
   ]
  },
  {
   "cell_type": "code",
   "execution_count": 4,
   "id": "bcfdcd7b-f01c-4b04-99b6-343e4c5e9c35",
   "metadata": {},
   "outputs": [],
   "source": [
    "obs, cm_hist, cm_future, dates = get_data(\"tas\")"
   ]
  },
  {
   "cell_type": "markdown",
   "id": "4d0da871-005b-46c2-8187-b3aade373c00",
   "metadata": {},
   "source": [
    "## 1. Parallelization"
   ]
  },
  {
   "cell_type": "markdown",
   "id": "b0b6d679-8bcf-4823-bb0c-2682179a735d",
   "metadata": {},
   "source": [
    "Parallelization can be activated in the existing ibicus functionalities by simply specifying `parallel = True` in the `debiaser.apply`-function:"
   ]
  },
  {
   "cell_type": "code",
   "execution_count": 5,
   "id": "5ec9cc9d-f009-4a98-b245-d7a14cce9f38",
   "metadata": {},
   "outputs": [
    {
     "name": "stderr",
     "output_type": "stream",
     "text": [
      "/home/jakobwes/Desktop/ESoWC/ibicus/notebooks/own_testing_notebooks/../../ibicus/debias/_debiaser.py:535: UserWarning: progressbar argument is ignored when parallel = True.\n",
      "  warnings.warn(\"progressbar argument is ignored when parallel = True.\")\n"
     ]
    }
   ],
   "source": [
    "debiaser = CDFt.from_variable(\"tas\")\n",
    "debiased_cm_future = debiaser.apply(obs, cm_hist, cm_future, **dates, parallel = True, nr_processes = 8)"
   ]
  },
  {
   "cell_type": "markdown",
   "id": "4185668f-c046-4156-8310-3a9f9d4d99c1",
   "metadata": {},
   "source": [
    "The number of processes that run in parallel can be controlled using the `nr_processes` option. The default option are 4 processes. For more details see the [ibicus API reference](https://ibicus.readthedocs.io/en/latest/reference/debias.html#ibicus.debias.Debiaser). Important to note: no progressbar is shown in parallelized execution. \n",
    "\n",
    "We recommend using parallelization if users are interested in speeding up the execution of bias adjustment on a single machine."
   ]
  },
  {
   "cell_type": "markdown",
   "id": "84347a9a-daf2-4ce5-a4eb-46432c729468",
   "metadata": {},
   "source": [
    "## 2. Dask"
   ]
  },
  {
   "cell_type": "markdown",
   "id": "47d9b906-3738-4e32-a661-45194f7e7445",
   "metadata": {},
   "source": [
    "For some problems the speedup provided by the simple parallelization presented above does not provide enough flexibility: for example if users are interested in scaling debiasing in an HPC environment on many machines or if the observation and climate model data does not fit into RAM. \n",
    "\n",
    "To address these issues, ibicus integrates easily with `dask`.  `dask` is an open-source python library for parallel computing allowing users to easily scale their python code from multi-core machines to large clusters. It is integrated in both `xarray` and `iris` (see here for the [xarray dask integration](https://docs.xarray.dev/en/stable/user-guide/dask.html) and here for [the iris one](https://scitools-iris.readthedocs.io/en/latest/userguide/real_and_lazy_data.html)). In both both libraries, it is possible to extract the underlying dask arrays needed for computation. \n",
    "\n",
    "For a dask introduction see [here](https://tutorial.dask.org/00_overview.html) and for a practical introduction on how to use dask on a HPC cluster see [this tutorial](https://www.youtube.com/watch?v=FXsgmwpRExM&t=441s). We will only use the `dask.array` module here:"
   ]
  },
  {
   "cell_type": "code",
   "execution_count": 6,
   "id": "4f6c82e2-7724-4fa3-8e6c-f91c32c8e8f3",
   "metadata": {},
   "outputs": [],
   "source": [
    "import dask.array as da"
   ]
  },
  {
   "cell_type": "markdown",
   "id": "5e392f6c-de41-4fab-980f-1fcbe9a9435b",
   "metadata": {},
   "source": [
    "Let's get some larger testing data:"
   ]
  },
  {
   "cell_type": "code",
   "execution_count": 7,
   "id": "1aaca898-80e6-4111-bc58-c2473aca1b40",
   "metadata": {},
   "outputs": [],
   "source": [
    "obs = da.from_array(np.random.normal(270, 20, size = 50*50*10000).reshape((50, 50, 10000)), chunks=(5, 10, 10000))\n",
    "cm_hist = da.from_array(np.random.normal(265, 15, size = 50*50*10000).reshape((50, 50, 10000)), chunks=(5, 10, 10000))\n",
    "cm_future = da.from_array(np.random.normal(280, 30, size = 50*50*10000).reshape((50, 50, 10000)), chunks=(5, 10, 10000))"
   ]
  },
  {
   "cell_type": "markdown",
   "id": "76edda2e-92e7-408f-8cd6-d918ee28b3c2",
   "metadata": {},
   "source": [
    "For our purposes it is crucial that the dask arrays are **chunked in the spatial dimension** meaning chunks can be defined in the first two dimensions, but always need to include the full time dimension at each location. This is required to calculate the climatology at each location.\n",
    "\n",
    "Given correctly chunked arrays applying dask is easily possible by just mapping the `debiaser.apply` function over all chunks using eg. `map_blocks`:"
   ]
  },
  {
   "cell_type": "code",
   "execution_count": 8,
   "id": "de7b4668-7799-4bed-a9d4-c22d2f030eac",
   "metadata": {},
   "outputs": [],
   "source": [
    "debiaser = QuantileMapping.from_variable(\"tas\")\n",
    "\n",
    "collection = da.map_blocks(debiaser.apply, obs, cm_hist, cm_future, dtype=obs.dtype, progressbar = False, parallel = False)\n",
    "debiased_cm_future = collection.compute(num_workers=8)"
   ]
  },
  {
   "cell_type": "markdown",
   "id": "5fedbaed-5f2d-44bf-aeb2-8e2ddb9b4323",
   "metadata": {},
   "source": [
    "It is also possible to use other dask mapping functions such as `blockwise`. To use the ibicus `apply` function together with dask it is important to specify two arguments:\n",
    "\n",
    "- `progressbar = False` otherwise the progressbar output will fill the output log. A dask progressbar can be used by importing `dask.diagnostics.ProgressBar`.\n",
    "- `parallel = False` (default) because otherwise ibicus parallelisation will interfere with the dask one. \n",
    "\n",
    "In the case of bias adjustment methods where the apply function requires additional information such as time/dates,  this can be specified as keywords arguments to `map_blocks`. For very big runs it is also recommended to specify `failsafe = True` to make sure that if the debiaser fails at some locations the output for the other ones can still be saved. When doing so it is even more important to check the logs for any errors and to evaluate the output carefully.\n",
    "\n",
    "Dask itself provides a big variety of customization options and we recommend checking those out."
   ]
  },
  {
   "cell_type": "markdown",
   "id": "f670440e-6217-491d-941c-e8cb3ab2c913",
   "metadata": {},
   "source": [
    "## What about logging and warnings?"
   ]
  },
  {
   "cell_type": "markdown",
   "id": "44705e77-c97d-40dd-ba3f-8aec31b17a62",
   "metadata": {},
   "source": [
    "A brief note on logging and warnings: when ibicus encounters issues during code execution a warning or error message will be raised and the standard python tools to handle these can be used. ibicus also writes logs during the execution and logs errors during failsafe mode. The logs are written to the \"ibicus\" logger (`ibicus.utils.get_library_logger()`) and utils provides some [options to set the logging level for ibicus](). The logging outputs can be handled in the usual way as specified by the [logging library](https://docs.python.org/3/howto/logging.html#logging-basic-tutorial): they can be formatted, written to file, ignored, etc. "
   ]
  }
 ],
 "metadata": {
  "kernelspec": {
   "display_name": "Python 3 (ipykernel)",
   "language": "python",
   "name": "python3"
  },
  "language_info": {
   "codemirror_mode": {
    "name": "ipython",
    "version": 3
   },
   "file_extension": ".py",
   "mimetype": "text/x-python",
   "name": "python",
   "nbconvert_exporter": "python",
   "pygments_lexer": "ipython3",
   "version": "3.9.13"
  }
 },
 "nbformat": 4,
 "nbformat_minor": 5
}
