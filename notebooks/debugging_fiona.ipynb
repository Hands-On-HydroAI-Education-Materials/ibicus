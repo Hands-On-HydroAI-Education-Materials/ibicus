{
 "cells": [
  {
   "cell_type": "markdown",
   "id": "d19786e7",
   "metadata": {},
   "source": [
    "Open issues\n",
    "- documentation in QM debiaser for.precipitation not up to date"
   ]
  },
  {
   "cell_type": "code",
   "execution_count": 1,
   "id": "1b176a91",
   "metadata": {},
   "outputs": [],
   "source": [
    "import sys\n",
    "sys.path.append(\"../\")  # path contains python_file.py"
   ]
  },
  {
   "cell_type": "code",
   "execution_count": 26,
   "id": "bf5e3cab",
   "metadata": {},
   "outputs": [],
   "source": [
    "import numpy as np\n",
    "import scipy\n",
    "import matplotlib.pyplot as plt\n",
    "import iris\n",
    "import math\n",
    "\n",
    "from scipy.stats import norm, laplace, gamma\n",
    "\n",
    "from PACKAGE_NAME.variables import Temperature, Precipitation\n",
    "from PACKAGE_NAME.utils import gen_PrecipitationHurdleModel, gen_PrecipitationGammaLeftCensoredModel\n",
    "\n",
    "from PACKAGE_NAME.debias import EquidistantCDFMatching, ISIMIP, QuantileMapping, DeltaChange\n",
    "from PACKAGE_NAME.debias import QuantileDeltaMapping, ScaledDistributionMapping, LinearScaling\n",
    "\n",
    "from PACKAGE_NAME.evaluate import marginal, EOT, trend, correlation"
   ]
  },
  {
   "cell_type": "code",
   "execution_count": 3,
   "id": "92df9ced",
   "metadata": {},
   "outputs": [],
   "source": [
    "from cf_units import num2date\n",
    "\n",
    "def get_dates(x):\n",
    "    time_dimension = x.coords()[2]\n",
    "    dates = time_dimension.units.num2date(time_dimension.points)\n",
    "    return dates\n",
    "\n",
    "def preprocess_isimip_evaluation_testing_data(variable):\n",
    "    \n",
    "    obs_all = iris.load_cube(\"testing_data/ISIMIP/\"+variable+\"_obs-hist_coarse_1979-2014.nc\")\n",
    "    cm = iris.load_cube(\"testing_data/ISIMIP/\"+variable+\"_sim-hist_coarse_1979-2014.nc\")\n",
    "    print(cm)\n",
    "    \n",
    "    obs = obs_all[:, :, 0:9000]\n",
    "    obs_validate = obs_all[:, :, 9001:]\n",
    "    cm_hist = cm[:, :, 0:9000]\n",
    "    cm_future = cm[:, :, 9001:]\n",
    "\n",
    "    dates = {\n",
    "        \"time_obs_hist\": get_dates(obs),\n",
    "        #\"obs_validate\": get_dates(obs_validate),\n",
    "        \"time_cm_hist\": get_dates(cm_hist),\n",
    "        \"time_cm_future\": get_dates(cm_future),\n",
    "    }\n",
    "    \n",
    "    obs = np.transpose(np.array(obs.data), (2, 0, 1))\n",
    "    obs_validate = np.transpose(np.array(obs_validate.data), (2, 0, 1))\n",
    "    cm_hist = np.transpose(np.array(cm_hist.data), (2, 0, 1))\n",
    "    cm_future = np.transpose(np.array(cm_future.data), (2, 0, 1))\n",
    "    \n",
    "    return obs, obs_validate, cm_hist, cm_future, dates"
   ]
  },
  {
   "cell_type": "code",
   "execution_count": 4,
   "id": "4366c43b",
   "metadata": {},
   "outputs": [
    {
     "name": "stdout",
     "output_type": "stream",
     "text": [
      "air_temperature / (K)               (longitude: 2; latitude: 2; time: 13149)\n",
      "    Dimension coordinates:\n",
      "        longitude                             x            -        -\n",
      "        latitude                              -            x        -\n",
      "        time                                  -            -        x\n",
      "precipitation_flux / (kg m-2 s-1)   (longitude: 2; latitude: 2; time: 13149)\n",
      "    Dimension coordinates:\n",
      "        longitude                             x            -        -\n",
      "        latitude                              -            x        -\n",
      "        time                                  -            -        x\n"
     ]
    }
   ],
   "source": [
    "tas_obs, tas_obs_validate, tas_cm_hist, tas_cm_future, tas_dates = preprocess_isimip_evaluation_testing_data('tas')\n",
    "pr_obs, pr_obs_validate, pr_cm_hist, pr_cm_future, pr_dates = preprocess_isimip_evaluation_testing_data('pr')"
   ]
  },
  {
   "cell_type": "code",
   "execution_count": 16,
   "id": "41796875",
   "metadata": {},
   "outputs": [
    {
     "name": "stdout",
     "output_type": "stream",
     "text": [
      "----- Running debiasing -----\n"
     ]
    },
    {
     "name": "stderr",
     "output_type": "stream",
     "text": [
      "100%|████████████████████████████████████████████| 4/4 [00:00<00:00, 601.96it/s]\n"
     ]
    }
   ],
   "source": [
    "tas_debiaser_QM = QuantileMapping.from_variable(variable=Temperature, delta_type=\"additive\")\n",
    "tas_debiased_QM = tas_debiaser_QM.apply(tas_obs, tas_cm_hist, tas_cm_future)"
   ]
  },
  {
   "cell_type": "code",
   "execution_count": 17,
   "id": "22674751",
   "metadata": {},
   "outputs": [
    {
     "data": {
      "text/plain": [
       "1.0060699"
      ]
     },
     "execution_count": 17,
     "metadata": {},
     "output_type": "execute_result"
    }
   ],
   "source": [
    "mean_raw = np.mean(np.ndarray.flatten(tas_cm_future))\n",
    "mean_QM = np.mean(np.ndarray.flatten(tas_debiased_QM))\n",
    "ratio = mean_QM / mean_raw\n",
    "ratio"
   ]
  },
  {
   "cell_type": "code",
   "execution_count": 6,
   "id": "b452dfe6",
   "metadata": {},
   "outputs": [
    {
     "data": {
      "text/plain": [
       "gen_PrecipitationHurdleModel(distribution=<scipy.stats._continuous_distns.gamma_gen object at 0x7fddff612670>, cdf_randomization=True)"
      ]
     },
     "execution_count": 6,
     "metadata": {},
     "output_type": "execute_result"
    }
   ],
   "source": [
    "hurdle_model = gen_PrecipitationHurdleModel(distribution = gamma)\n",
    "hurdle_model"
   ]
  },
  {
   "cell_type": "code",
   "execution_count": 9,
   "id": "1b046ee8",
   "metadata": {},
   "outputs": [
    {
     "name": "stdout",
     "output_type": "stream",
     "text": [
      "----- Running debiasing -----\n"
     ]
    },
    {
     "name": "stderr",
     "output_type": "stream",
     "text": [
      "100%|█████████████████████████████████████████████| 4/4 [00:00<00:00,  4.26it/s]\n"
     ]
    }
   ],
   "source": [
    "pr_debiaser_QM = QuantileMapping.for_precipitation(delta_type = \"multiplicative\", distribution = hurdle_model)\n",
    "pr_debiased_QM = pr_debiaser_QM.apply(pr_obs, pr_cm_hist, pr_cm_future)"
   ]
  },
  {
   "cell_type": "code",
   "execution_count": 62,
   "id": "3b9800e2",
   "metadata": {},
   "outputs": [
    {
     "name": "stdout",
     "output_type": "stream",
     "text": [
      "----- Running debiasing -----\n"
     ]
    },
    {
     "name": "stderr",
     "output_type": "stream",
     "text": [
      "100%|█████████████████████████████████████████████| 4/4 [00:00<00:00,  4.52it/s]\n"
     ]
    }
   ],
   "source": [
    "pr_debiaser_QM4 = QuantileMapping.for_precipitation(delta_type = \"no_delta\", distribution = hurdle_model)\n",
    "pr_debiased_QM4 = pr_debiaser_QM4.apply(pr_obs, pr_cm_hist, pr_cm_future)"
   ]
  },
  {
   "cell_type": "code",
   "execution_count": 59,
   "id": "871b47c2",
   "metadata": {},
   "outputs": [
    {
     "data": {
      "text/plain": [
       "626.92596"
      ]
     },
     "execution_count": 59,
     "metadata": {},
     "output_type": "execute_result"
    }
   ],
   "source": [
    "mean_raw = np.mean(np.ndarray.flatten(pr_cm_future))\n",
    "mean_QM = np.mean(np.ndarray.flatten(pr_debiased_QM))\n",
    "ratio = mean_QM / mean_raw\n",
    "ratio"
   ]
  },
  {
   "cell_type": "code",
   "execution_count": 63,
   "id": "e9bdaf7b",
   "metadata": {},
   "outputs": [
    {
     "data": {
      "text/plain": [
       "600.4654"
      ]
     },
     "execution_count": 63,
     "metadata": {},
     "output_type": "execute_result"
    }
   ],
   "source": [
    "mean_raw = np.mean(np.ndarray.flatten(pr_cm_future))\n",
    "mean_QM = np.mean(np.ndarray.flatten(pr_debiased_QM4))\n",
    "ratio = mean_QM / mean_raw\n",
    "ratio"
   ]
  },
  {
   "cell_type": "code",
   "execution_count": 21,
   "id": "2d9677b0",
   "metadata": {},
   "outputs": [
    {
     "data": {
      "text/plain": [
       "4687"
      ]
     },
     "execution_count": 21,
     "metadata": {},
     "output_type": "execute_result"
    }
   ],
   "source": [
    "len(pr_debiased_QM[pr_debiased_QM==0])"
   ]
  },
  {
   "cell_type": "code",
   "execution_count": 23,
   "id": "f3b4f47b",
   "metadata": {},
   "outputs": [
    {
     "data": {
      "text/plain": [
       "4970"
      ]
     },
     "execution_count": 23,
     "metadata": {},
     "output_type": "execute_result"
    }
   ],
   "source": [
    "len(pr_obs_validate[pr_obs_validate==0])"
   ]
  },
  {
   "cell_type": "code",
   "execution_count": 58,
   "id": "9b7c2816",
   "metadata": {},
   "outputs": [
    {
     "data": {
      "text/plain": [
       "37"
      ]
     },
     "execution_count": 58,
     "metadata": {},
     "output_type": "execute_result"
    }
   ],
   "source": [
    "len(pr_cm_future[pr_cm_future==0])"
   ]
  },
  {
   "cell_type": "code",
   "execution_count": 18,
   "id": "f38800e7",
   "metadata": {},
   "outputs": [
    {
     "name": "stdout",
     "output_type": "stream",
     "text": [
      "----- Running debiasing -----\n"
     ]
    },
    {
     "name": "stderr",
     "output_type": "stream",
     "text": [
      "100%|█████████████████████████████████████████████| 4/4 [00:00<00:00,  4.30it/s]\n"
     ]
    }
   ],
   "source": [
    "pr_debiaser_QM2 = QuantileMapping.from_variable(variable = Precipitation)\n",
    "pr_debiased_QM2 = pr_debiaser_QM2.apply(pr_obs, pr_cm_hist, pr_cm_future)"
   ]
  },
  {
   "cell_type": "code",
   "execution_count": 19,
   "id": "aaf4f2c1",
   "metadata": {},
   "outputs": [
    {
     "data": {
      "text/plain": [
       "626.92596"
      ]
     },
     "execution_count": 19,
     "metadata": {},
     "output_type": "execute_result"
    }
   ],
   "source": [
    "mean_raw = np.mean(np.ndarray.flatten(pr_cm_future))\n",
    "mean_QM = np.mean(np.ndarray.flatten(pr_debiased_QM2))\n",
    "ratio2 = mean_QM / mean_raw\n",
    "ratio2"
   ]
  },
  {
   "cell_type": "code",
   "execution_count": 60,
   "id": "cf9eeb96",
   "metadata": {},
   "outputs": [
    {
     "name": "stdout",
     "output_type": "stream",
     "text": [
      "----- Running debiasing -----\n"
     ]
    },
    {
     "name": "stderr",
     "output_type": "stream",
     "text": [
      "  0%|                                                     | 0/4 [00:00<?, ?it/s]/var/folders/3g/80lqcgbn19l711ck1nnjxplr0000gn/T/ipykernel_97523/3595469633.py:156: RuntimeWarning: invalid value encountered in log\n",
      "  return -np.sum(scipy.stats.gamma.logpdf(x, a=params[0], scale=params[1])) - nr_censored_x * np.log(\n",
      "100%|█████████████████████████████████████████████| 4/4 [00:00<00:00,  7.82it/s]\n"
     ]
    }
   ],
   "source": [
    "left_censored_model = gen_PrecipitationGammaLeftCensoredModel(censoring_value = 0.1)\n",
    "\n",
    "pr_debiaser_QM3 = QuantileMapping(delta_type = \"multiplicative\", distribution = left_censored_model)\n",
    "\n",
    "pr_debiased_QM3 = pr_debiaser_QM3.apply(pr_obs, pr_cm_hist, pr_cm_future)"
   ]
  },
  {
   "cell_type": "code",
   "execution_count": 61,
   "id": "cff55db1",
   "metadata": {},
   "outputs": [
    {
     "data": {
      "text/plain": [
       "4943.2065"
      ]
     },
     "execution_count": 61,
     "metadata": {},
     "output_type": "execute_result"
    }
   ],
   "source": [
    "mean_raw = np.mean(np.ndarray.flatten(pr_cm_future))\n",
    "mean_QM3 = np.mean(np.ndarray.flatten(pr_debiased_QM3))\n",
    "ratio3 = mean_QM3 / mean_raw\n",
    "ratio3"
   ]
  },
  {
   "cell_type": "code",
   "execution_count": 54,
   "id": "c6edd22c",
   "metadata": {},
   "outputs": [],
   "source": [
    "from abc import ABC, abstractmethod\n",
    "\n",
    "import attrs\n",
    "import numpy as np\n",
    "import scipy.optimize\n",
    "import scipy.stats\n",
    "import statsmodels.distributions.empirical_distribution\n",
    "\n",
    "@attrs.define\n",
    "class gen_PrecipitationHurdleModel_Fiona(StatisticalModel):\n",
    "    \"\"\"\n",
    "    Represents a precipitation hurdle model.\n",
    "\n",
    "    A hurdle-model is a two-step process: binomially it is determined if it rains (with probability p0 of no rain) and\n",
    "        then we assume that theamounts follow a given distribution (often gamma) described by a cdf F_A. Mathematically:\n",
    "\n",
    "    P(X = 0) = p0,\n",
    "    P(0 < X <= x) = p0 + (1-p0) F_A(x)\n",
    "\n",
    "    Parameters\n",
    "    ----------\n",
    "    self.distribution : scipy.stats.rv_continuous\n",
    "        Distribution assumed for the precipitation amounts.\n",
    "    self.randomization : bool\n",
    "        Whether cdf-values for x == 0 (no rain) shall be randomized uniformly within (0, p0).\n",
    "        Helps for quantile mapping and controlling the zero-inflation.\n",
    "\n",
    "    \"\"\"\n",
    "\n",
    "    distribution: scipy.stats.rv_continuous = attrs.field(\n",
    "        default=scipy.stats.gamma, validator=attrs.validators.instance_of(scipy.stats.rv_continuous)\n",
    "    )\n",
    "    cdf_randomization: bool = attrs.field(default=True, validator=attrs.validators.instance_of(bool))\n",
    "\n",
    "    def fit(self, data: np.ndarray) -> np.ndarray:\n",
    "        \"\"\"\n",
    "        Fits a precipitation hurdle model and returns parameter estimates.\n",
    "\n",
    "\n",
    "        Parameters\n",
    "        ----------\n",
    "        data : np.ndarray\n",
    "            Array containing precipitation values.\n",
    "\n",
    "        Returns\n",
    "        -------\n",
    "        tuple\n",
    "            Tuple containing parameter estimates: (p0, tuple of parameter estimates for the amounts-distribution).\n",
    "        \"\"\"\n",
    "        rainy_days = data[data != 0]\n",
    "\n",
    "        p0 = 1 - rainy_days.shape[0] / data.shape[0]\n",
    "        print('p0 = {}'.format(p0))\n",
    "        fit_rainy_days = self.distribution.fit(rainy_days)\n",
    "        print('fit_rainy_days = {}'.format(fit_rainy_days))\n",
    "\n",
    "        return (p0, fit_rainy_days)\n",
    "\n",
    "    def cdf(self, x: np.ndarray, *fit: tuple) -> np.ndarray:\n",
    "        \"\"\"\n",
    "        Returns cdf-values of a vector x for the cdf of a precipitation hurdle-model. If self.cdf_randomization = True then cdf-values for x == 0\n",
    "            (no rain) are randomized between (0, p0).\n",
    "\n",
    "        Parameters\n",
    "        ----------\n",
    "        x : np.ndarray\n",
    "            Values for which the cdf shall be evaluated.\n",
    "        fit : tuple\n",
    "            Parameter controling the hurdle model: (p0, tuple of parameter estimates for the amounts-distribution).\n",
    "            Return value of fit.\n",
    "\n",
    "        Returns\n",
    "        -------\n",
    "        np.ndarray\n",
    "            Array containing cdf-values for x.\n",
    "        \"\"\"\n",
    "\n",
    "        p0 = fit[0]\n",
    "        fit_rainy_days = fit[1]\n",
    "\n",
    "        if not self.cdf_randomization:\n",
    "            return np.where(x == 0, p0, p0 + (1 - p0) * self.distribution.cdf(x, *fit_rainy_days))\n",
    "        else:\n",
    "            return np.where(\n",
    "                x == 0,\n",
    "                np.random.uniform(0, p0),\n",
    "                p0 + (1 - p0) * self.distribution.cdf(x, *fit_rainy_days),\n",
    "            )\n",
    "\n",
    "    def ppf(self, q: np.ndarray, *fit: tuple) -> np.ndarray:\n",
    "        \"\"\"\n",
    "        Returns ppf (quantile / inverse cdf)-values of a vector q for the cdf of a precipitation hurdle-model.\n",
    "\n",
    "        Parameters\n",
    "        ----------\n",
    "        q : np.ndarray\n",
    "            Values for which the ppf shall be evaluated.\n",
    "        fit : tuple\n",
    "            Parameter controling the hurdle model: (p0, tuple of parameter estimates for the amounts-distribution).\n",
    "            Return value of fit.\n",
    "\n",
    "        Returns\n",
    "        -------\n",
    "        np.ndarray\n",
    "            Array containing cdf-values for x.\n",
    "        \"\"\"\n",
    "        p0 = fit[0]\n",
    "        fit_rainy_days = fit[1]\n",
    "\n",
    "        return np.where(q > p0, self.distribution.ppf((q - p0) / (1 - p0), *fit_rainy_days), 0)\n",
    "\n",
    "\n",
    "PrecipitationHurdleModelGamma = gen_PrecipitationHurdleModel()\n",
    "PrecipitationHurdleModelGammaWithoutCDFRandomization = gen_PrecipitationHurdleModel(cdf_randomization=False)\n",
    "\n",
    "\n",
    "@attrs.define\n",
    "class gen_PrecipitationGammaLeftCensoredModel(StatisticalModel):\n",
    "    \"\"\"\n",
    "    Represents a left censored precipitation gamma model.\n",
    "    A left censored gamma model is a gamma distribution where all values under a given threshold are censored: not observed. Those are represented by zero\n",
    "    This is useful when a slightly higher threshold is used to account for the drizzle effect in climate models.\n",
    "\n",
    "    In the cdf before calculating all values below the censoring value are first randomized between (0, censoring_value). In the ppf values below\n",
    "        the censoring_value are again set to zero. This handles possible inflation in quantile mapping by the censoring-value.\n",
    "\n",
    "    Parameters\n",
    "    ----------\n",
    "    self.censoring_value : float\n",
    "        Value under which observations are censored.\n",
    "    \"\"\"\n",
    "\n",
    "    censoring_value: bool = attrs.field(validator=attrs.validators.instance_of((float)), converter=float)\n",
    "\n",
    "    @staticmethod\n",
    "    def _fit_censored_gamma(x: np.ndarray, nr_censored_x: int, min_x: float) -> tuple:\n",
    "        \"\"\"\n",
    "        Fits a censored gamma distribution to left-censored data with `nr_censored_x` censored observations.\n",
    "\n",
    "        Parameters\n",
    "        ----------\n",
    "        x : np.ndarray\n",
    "            Non-censored values on which to fit the censored gamma.\n",
    "        nr_censored_x : tuple\n",
    "            Number of censored observations in the dataset on which to fit the censored gamma.\n",
    "        min_x : tuple\n",
    "            Censoring value.\n",
    "\n",
    "        Returns\n",
    "        -------\n",
    "        tuple\n",
    "            Parameter estimates for the gamma distribution.\n",
    "        \"\"\"\n",
    "\n",
    "        def neg_log_likelihood(params, x, nr_censored_x, min_x) -> float:\n",
    "            return -np.sum(scipy.stats.gamma.logpdf(x, a=params[0], scale=params[1])) - nr_censored_x * np.log(\n",
    "                scipy.stats.gamma.cdf(min_x, a=params[0], scale=params[1])\n",
    "            )\n",
    "\n",
    "        optimizer_result = scipy.optimize.minimize(\n",
    "            neg_log_likelihood,\n",
    "            x0=np.array([1, 1]),\n",
    "            args=(x, nr_censored_x, min_x),\n",
    "            options={\"maxiter\": 1000, \"disp\": False},\n",
    "            method=\"nelder-mead\",\n",
    "            tol=1e-8,\n",
    "        )\n",
    "        return (\n",
    "            optimizer_result.x[0],\n",
    "            0,\n",
    "            optimizer_result.x[1],\n",
    "        )  # location was fixed to zero\n",
    "\n",
    "    def fit(self, data: np.ndarray) -> np.ndarray:\n",
    "        \"\"\"\n",
    "        Fits a censored gamma distribution to precipitation data where everything under `self.censoring_value` is assumed to be\n",
    "            a censored observation.\n",
    "\n",
    "        Parameters\n",
    "        ----------\n",
    "        data : np.ndarray\n",
    "            Data on which to fit the censored gamma distribution.\n",
    "\n",
    "        Returns\n",
    "        -------\n",
    "        tuple\n",
    "            Parameter estimates for the gamma distribution.\n",
    "        \"\"\"\n",
    "        noncensored_data = data[data > self.censoring_value]\n",
    "        return gen_PrecipitationGammaLeftCensoredModel._fit_censored_gamma(\n",
    "            noncensored_data, data.size - noncensored_data.size, self.censoring_value\n",
    "        )\n",
    "\n",
    "    def cdf(self, x: np.ndarray, *fit: tuple) -> np.ndarray:\n",
    "        \"\"\"\n",
    "        Returns cdf-values of a vector x for the cdf of a precipitation left censored gamma-model.\n",
    "        Values x below the censoring value (mainly zeros) are first randomized between (0, censoring_value) before calculating the gamma-cdf.\n",
    "\n",
    "        Parameters\n",
    "        ----------\n",
    "        x : np.ndarray\n",
    "            Values for which the cdf shall be evaluated.\n",
    "        fit : tuple\n",
    "            Parameters controling the censored gamma-distribution: shape and scale\n",
    "\n",
    "        Returns\n",
    "        -------\n",
    "        np.ndarray\n",
    "            Array containing cdf-values for x.\n",
    "        \"\"\"\n",
    "        x = np.where(x < self.censoring_value, np.random.uniform(0, self.censoring_value), x)\n",
    "        return scipy.stats.gamma.cdf(x, *fit)\n",
    "\n",
    "    def ppf(self, q: np.ndarray, *fit: tuple) -> np.ndarray:\n",
    "        \"\"\"\n",
    "        Returns ppf (quantile / inverse cdf)-values of a vector q for the cdf of a precipitation left-censored gamma model.\n",
    "        Values generated by the gamma ppf below the censoring value are  set to zero.\n",
    "\n",
    "        Parameters\n",
    "        ----------\n",
    "        q : np.ndarray\n",
    "            Values for which the ppf shall be evaluated.\n",
    "        fit : tuple\n",
    "            Parameters controling the censored gamma-distribution: shape and scale\n",
    "\n",
    "        Returns\n",
    "        -------\n",
    "        np.ndarray\n",
    "            Array containing cdf-values for x.\n",
    "        \"\"\"\n",
    "        vals = scipy.stats.gamma.ppf(q, *fit)\n",
    "        return np.where(vals < self.censoring_value, 0, vals)\n",
    "\n",
    "\n",
    "PrecipitationGammaLeftCensoredModel_5mm_threshold = gen_PrecipitationGammaLeftCensoredModel(0.05)"
   ]
  },
  {
   "cell_type": "code",
   "execution_count": 55,
   "id": "a8cdf386",
   "metadata": {},
   "outputs": [],
   "source": [
    "from typing import Union\n",
    "\n",
    "import attrs\n",
    "import numpy as np\n",
    "import scipy\n",
    "import scipy.stats\n",
    "\n",
    "from PACKAGE_NAME.utils import StatisticalModel\n",
    "from PACKAGE_NAME.variables import (\n",
    "    Precipitation,\n",
    "    Temperature,\n",
    "    Variable,\n",
    "    map_standard_precipitation_method,\n",
    "    map_variable_str_to_variable_class,\n",
    ")\n",
    "from PACKAGE_NAME.debias._debiaser import Debiaser\n",
    "\n",
    "default_settings = {\n",
    "    Temperature: {\"distribution\": scipy.stats.norm, \"delta_type\": \"additive\"},\n",
    "    Precipitation: {\"distribution\": PrecipitationHurdleModelGamma, \"delta_type\": \"multiplicative\"},\n",
    "}\n",
    "\n",
    "\n",
    "@attrs.define\n",
    "class QuantileMapping_Fiona(Debiaser):\n",
    "\n",
    "    delta_type: str = attrs.field(validator=attrs.validators.in_([\"additive\", \"multiplicative\", \"no_delta\"]))\n",
    "    distribution: Union[\n",
    "        scipy.stats.rv_continuous, scipy.stats.rv_discrete, scipy.stats.rv_histogram, StatisticalModel\n",
    "    ] = attrs.field(\n",
    "        validator=attrs.validators.instance_of(\n",
    "            (scipy.stats.rv_continuous, scipy.stats.rv_discrete, scipy.stats.rv_histogram, StatisticalModel)\n",
    "        )\n",
    "    )\n",
    "    variable: str = attrs.field(default=\"unknown\", eq=False)\n",
    "\n",
    "    @classmethod\n",
    "    def from_variable(cls, variable: Union[str, Variable], **kwargs):\n",
    "        \"\"\"\n",
    "        Instanciates the class from a variable: either a string referring to a standard variable name or a Variable object.\n",
    "\n",
    "        Parameters\n",
    "        ----------\n",
    "        variable : Union[str, Variable]\n",
    "            String or Variable object referring to standard meteorological variable for which default settings can be used.\n",
    "        delta_type: str\n",
    "            One of [\"additive\", \"multiplicative\", \"no_delta\"]. Type of delta-change used.\n",
    "        **kwargs:\n",
    "            All other class attributes that shall be set and where the standard values for variable shall be overwritten.\n",
    "        \"\"\"\n",
    "        if not isinstance(variable, Variable):\n",
    "            variable = map_variable_str_to_variable_class(variable)\n",
    "\n",
    "        parameters = {**default_settings[variable], \"variable\": variable.name}\n",
    "        return cls(**{**parameters, **kwargs})\n",
    "\n",
    "    @classmethod\n",
    "    def for_precipitation(\n",
    "        cls,\n",
    "        delta_type,\n",
    "        precipitation_model_type: str = \"censored\",\n",
    "        precipitation_amounts_distribution: scipy.stats.rv_continuous = scipy.stats.gamma,\n",
    "        precipitation_censoring_value: float = 0.1,\n",
    "        precipitation_hurdle_model_randomization: bool = True,\n",
    "        **kwargs\n",
    "    ):\n",
    "        \"\"\"\n",
    "        Instanciates the class to a precipitation-debiaser. This allows granular setting of available precipitation models without needing to explicitly specify the precipitation censored model for example.\n",
    "\n",
    "        Parameters\n",
    "        ----------\n",
    "        delta_type: str\n",
    "            One of [\"additive\", \"multiplicative\", \"no_delta\"]. Type of delta-change used.\n",
    "        precipitation_model_type: str\n",
    "            One of [\"censored\", \"hurdle\", \"ignore_zeros\"]. Model type to be used. See utils.gen_PrecipitationGammaLeftCensoredModel, utils.gen_PrecipitationHurdleModel and utils.gen_PrecipitationIgnoreZeroValuesModel for more details.\n",
    "        precipitation_amounts_distribution: scipy.stats.rv_continuous\n",
    "            Distribution used for precipitation amounts. For the censored model only scipy.stats.gamma is possible.\n",
    "        precipitation_censoring_value: float\n",
    "            The censoring-value if a censored precipitation model is used.\n",
    "        precipitation_hurdle_model_randomization: bool\n",
    "            Whether when computing the cdf-values for a hurdle model randomization shall be used. See utils.gen_PrecipitationHurdleModel for more details\n",
    "        **kwargs:\n",
    "            All other class attributes that shall be set and where the standard values shall be overwritten.\n",
    "\n",
    "        \"\"\"\n",
    "        variable = Precipitation\n",
    "\n",
    "        variable.method = map_standard_precipitation_method(\n",
    "            precipitation_model_type,\n",
    "            precipitation_amounts_distribution,\n",
    "            precipitation_censoring_value,\n",
    "            precipitation_hurdle_model_randomization,\n",
    "        )\n",
    "        parameters = {\"delta_type\": delta_type, \"distribution\": variable.method, \"variable\": variable.name}\n",
    "        return cls(**{**parameters, **kwargs})\n",
    "\n",
    "    def _standard_qm(self, x, fit_cm_hist, fit_obs):\n",
    "        return self.distribution.ppf(self.distribution.cdf(x, *fit_cm_hist), *fit_obs)\n",
    "\n",
    "    def apply_location(self, obs, cm_hist, cm_future):\n",
    "        fit_obs = self.distribution.fit(obs)\n",
    "        print('Fit obs = {}'.format(fit_obs))\n",
    "        fit_cm_hist = self.distribution.fit(cm_hist)\n",
    "        print('Fit cm hist = {}'.format(fit_cm_hist))\n",
    "\n",
    "        if self.delta_type == \"additive\":\n",
    "            delta = np.mean(cm_future) - np.mean(cm_hist)\n",
    "            return self._standard_qm(cm_future - delta, fit_cm_hist, fit_obs) + delta\n",
    "        elif self.delta_type == \"multiplicative\":\n",
    "            delta = np.mean(cm_future) / np.mean(cm_hist)\n",
    "            return self._standard_qm(cm_future / delta, fit_cm_hist, fit_obs) * delta\n",
    "        elif self.delta_type == \"no_delta\":\n",
    "            return self._standard_qm(cm_future, fit_cm_hist, fit_obs)\n",
    "        else:\n",
    "            raise ValueError(\n",
    "                \"self.delta_type has wrong value. Needs to be one of ['additive', 'multiplicative', 'no_delta']\"\n",
    "            )"
   ]
  },
  {
   "cell_type": "code",
   "execution_count": 56,
   "id": "d22f9ecd",
   "metadata": {},
   "outputs": [
    {
     "data": {
      "text/plain": [
       "gen_PrecipitationHurdleModel_Fiona(distribution=<scipy.stats._continuous_distns.gamma_gen object at 0x7fddff612670>, cdf_randomization=True)"
      ]
     },
     "execution_count": 56,
     "metadata": {},
     "output_type": "execute_result"
    }
   ],
   "source": [
    "hurdle_model2 = gen_PrecipitationHurdleModel_Fiona(distribution = gamma)\n",
    "hurdle_model2"
   ]
  },
  {
   "cell_type": "code",
   "execution_count": 57,
   "id": "afa1e252",
   "metadata": {},
   "outputs": [
    {
     "name": "stdout",
     "output_type": "stream",
     "text": [
      "----- Running debiasing -----\n"
     ]
    },
    {
     "name": "stderr",
     "output_type": "stream",
     "text": [
      "\r",
      "  0%|                                                     | 0/4 [00:00<?, ?it/s]"
     ]
    },
    {
     "name": "stdout",
     "output_type": "stream",
     "text": [
      "Fit obs = (0.30300000000000005, (0.1100185640478986, 5.140183157543939e-08, 0.22664088764998475))\n"
     ]
    },
    {
     "name": "stderr",
     "output_type": "stream",
     "text": [
      "\r",
      " 25%|███████████▎                                 | 1/4 [00:00<00:00,  4.52it/s]"
     ]
    },
    {
     "name": "stdout",
     "output_type": "stream",
     "text": [
      "Fit cm hist = (0.002666666666666706, (0.35425624127406263, 2.5082991495561874e-20, 9.193310170129481e-05))\n",
      "Fit obs = (0.3005555555555556, (0.09661623808379532, 2.41315611046927e-08, 0.4495315207429964))\n"
     ]
    },
    {
     "name": "stderr",
     "output_type": "stream",
     "text": [
      "\r",
      " 50%|██████████████████████▌                      | 2/4 [00:00<00:00,  4.48it/s]"
     ]
    },
    {
     "name": "stdout",
     "output_type": "stream",
     "text": [
      "Fit cm hist = (0.000888888888888939, (0.25028229054831036, 2.5770108315341918e-20, 9.134925183164225e-05))\n",
      "Fit obs = (0.3122222222222222, (0.09719738087873206, 5.248883858972864e-08, 0.49581685322741265))\n"
     ]
    },
    {
     "name": "stderr",
     "output_type": "stream",
     "text": [
      "\r",
      " 75%|█████████████████████████████████▊           | 3/4 [00:00<00:00,  4.18it/s]"
     ]
    },
    {
     "name": "stdout",
     "output_type": "stream",
     "text": [
      "Fit cm hist = (0.0015555555555555323, (0.6141042486487476, 7.25741729553571e-32, 5.0541365948425117e-05))\n",
      "Fit obs = (0.29933333333333334, (0.09836966433114624, 2.672564839909495e-08, 0.6342525189489501))\n"
     ]
    },
    {
     "name": "stderr",
     "output_type": "stream",
     "text": [
      "100%|█████████████████████████████████████████████| 4/4 [00:00<00:00,  4.19it/s]"
     ]
    },
    {
     "name": "stdout",
     "output_type": "stream",
     "text": [
      "Fit cm hist = (0.0015555555555555323, (0.08103069661247436, 2.542151127189152e-16, 1.0182818457010692))\n"
     ]
    },
    {
     "name": "stderr",
     "output_type": "stream",
     "text": [
      "\n"
     ]
    }
   ],
   "source": [
    "pr_debiaser_QM4 = QuantileMapping_Fiona.for_precipitation(delta_type = \"multiplicative\", distribution = hurdle_model)\n",
    "pr_debiased_QM4 = pr_debiaser_QM4.apply(pr_obs, pr_cm_hist, pr_cm_future)"
   ]
  },
  {
   "cell_type": "code",
   "execution_count": 93,
   "id": "52adf43d",
   "metadata": {},
   "outputs": [
    {
     "name": "stdout",
     "output_type": "stream",
     "text": [
      "0.9973333333333333\n",
      "p0 = 0.002666666666666706\n",
      "fit_rainy_days = (0.35425624127406263, 2.5082991495561874e-20, 9.193310170129481e-05)\n"
     ]
    }
   ],
   "source": [
    "data = pr_cm_hist[:, 0, 0]\n",
    "\n",
    "rainy_days = data[data != 0]\n",
    "print(rainy_days.shape[0]/data.shape[0])\n",
    "p0 = 1 - rainy_days.shape[0] / data.shape[0]\n",
    "\n",
    "print('p0 = {}'.format(p0))\n",
    "fit_rainy_days = scipy.stats.gamma.fit(rainy_days)\n",
    "print('fit_rainy_days = {}'.format(fit_rainy_days))"
   ]
  },
  {
   "cell_type": "code",
   "execution_count": 91,
   "id": "e7fd804d",
   "metadata": {},
   "outputs": [
    {
     "data": {
      "text/plain": [
       "[<matplotlib.lines.Line2D at 0x7fde03b621f0>]"
      ]
     },
     "execution_count": 91,
     "metadata": {},
     "output_type": "execute_result"
    },
    {
     "data": {
      "image/png": "[encoded data removed]",
      "text/plain": [
       "<Figure size 432x288 with 1 Axes>"
      ]
     },
     "metadata": {
      "needs_background": "light"
     },
     "output_type": "display_data"
    }
   ],
   "source": [
    "plt.hist(rainy_days, bins=100, density=True)\n",
    "#xmin, xmax = plt.xlim()\n",
    "    \n",
    "x = np.linspace(0, 0.0005, 100)\n",
    "p = scipy.stats.gamma.pdf(x, *fit_rainy_days)\n",
    "    \n",
    "plt.plot(x, p, 'k')"
   ]
  },
  {
   "cell_type": "code",
   "execution_count": 119,
   "id": "cd2d8d7e",
   "metadata": {},
   "outputs": [
    {
     "name": "stdout",
     "output_type": "stream",
     "text": [
      "p0 = 0.29933333333333334\n",
      "fit_rainy_days = (0.5588655515054326, 0, 4.967629397192224e-05)\n"
     ]
    }
   ],
   "source": [
    "data2 = pr_obs[:, 1, 1]\n",
    "\n",
    "rainy_days2 = data2[data2 != 0]\n",
    "\n",
    "p02 = 1 - rainy_days2.shape[0] / data2.shape[0]\n",
    "\n",
    "print('p0 = {}'.format(p02))\n",
    "\n",
    "fit_rainy_days2 = scipy.stats.gamma.fit(rainy_days2, floc=0)\n",
    "\n",
    "print('fit_rainy_days = {}'.format(fit_rainy_days2))"
   ]
  },
  {
   "cell_type": "code",
   "execution_count": 120,
   "id": "2396f88d",
   "metadata": {},
   "outputs": [
    {
     "data": {
      "text/plain": [
       "[<matplotlib.lines.Line2D at 0x7fddece2e910>]"
      ]
     },
     "execution_count": 120,
     "metadata": {},
     "output_type": "execute_result"
    },
    {
     "data": {
      "image/png": "[encoded data removed]",
      "text/plain": [
       "<Figure size 432x288 with 1 Axes>"
      ]
     },
     "metadata": {
      "needs_background": "light"
     },
     "output_type": "display_data"
    }
   ],
   "source": [
    "plt.hist(rainy_days2, bins=100, density=True)\n",
    "    \n",
    "x = np.linspace(0, 0.0005, 100)\n",
    "p = scipy.stats.gamma.pdf(x, *fit_rainy_days2)\n",
    "    \n",
    "plt.plot(x, p, 'k')"
   ]
  },
  {
   "cell_type": "code",
   "execution_count": 123,
   "id": "56fc8b75",
   "metadata": {},
   "outputs": [
    {
     "data": {
      "text/plain": [
       "[<matplotlib.lines.Line2D at 0x7fdded2ea550>]"
      ]
     },
     "execution_count": 123,
     "metadata": {},
     "output_type": "execute_result"
    },
    {
     "data": {
      "image/png": "[encoded data removed]",
      "text/plain": [
       "<Figure size 432x288 with 1 Axes>"
      ]
     },
     "metadata": {
      "needs_background": "light"
     },
     "output_type": "display_data"
    }
   ],
   "source": [
    "from PACKAGE_NAME.utils import ecdf\n",
    "x = np.linspace(0, 0.0004, 100)\n",
    "p1 = scipy.stats.gamma.cdf(x, *fit_rainy_days)\n",
    "p2 = scipy.stats.gamma.cdf(x, *fit_rainy_days2)\n",
    "p3 = ecdf(rainy_days2, x, method = \"linear_interpolation\")\n",
    "p4 = ecdf(rainy_days, x, method = \"linear_interpolation\")\n",
    "plt.plot(x, p1)\n",
    "plt.plot(x, p2, 'k')\n",
    "plt.plot(x, p3)\n",
    "plt.plot(x, p4)"
   ]
  },
  {
   "cell_type": "code",
   "execution_count": null,
   "id": "172464a7",
   "metadata": {},
   "outputs": [],
   "source": []
  }
 ],
 "metadata": {
  "kernelspec": {
   "display_name": "Python 3 (ipykernel)",
   "language": "python",
   "name": "python3"
  },
  "language_info": {
   "codemirror_mode": {
    "name": "ipython",
    "version": 3
   },
   "file_extension": ".py",
   "mimetype": "text/x-python",
   "name": "python",
   "nbconvert_exporter": "python",
   "pygments_lexer": "ipython3",
   "version": "3.9.12"
  }
 },
 "nbformat": 4,
 "nbformat_minor": 5
}
