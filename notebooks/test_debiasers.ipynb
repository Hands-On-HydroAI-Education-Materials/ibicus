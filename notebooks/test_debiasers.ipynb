{
 "cells": [
  {
   "cell_type": "code",
   "execution_count": 1,
   "metadata": {},
   "outputs": [],
   "source": [
    "import sys\n",
    "sys.path.append(\"../\")  # path contains python_file.py"
   ]
  },
  {
   "cell_type": "code",
   "execution_count": 2,
   "metadata": {},
   "outputs": [],
   "source": [
    "import iris\n",
    "\n",
    "import numpy as np\n",
    "import scipy.stats"
   ]
  },
  {
   "cell_type": "code",
   "execution_count": 3,
   "metadata": {},
   "outputs": [
    {
     "name": "stderr",
     "output_type": "stream",
     "text": [
      "/home/jakobwes/anaconda3/lib/python3.8/site-packages/iris/fileformats/cf.py:859: UserWarning: Missing CF-netCDF measure variable 'areacella', referenced by netCDF variable 'tas'\n",
      "  warnings.warn(\n",
      "/home/jakobwes/anaconda3/lib/python3.8/site-packages/iris/fileformats/cf.py:859: UserWarning: Missing CF-netCDF measure variable 'areacella', referenced by netCDF variable 'tas'\n",
      "  warnings.warn(\n"
     ]
    }
   ],
   "source": [
    "era5 = iris.load(\"testing_data/ERA5.nc\")\n",
    "obs = era5[1]\n",
    "\n",
    "cm_hist = iris.load_cube(\n",
    "    \"testing_data/CMIP6/medium_area/historical_monthly_surface_temp_single_levels_IPSL-CM5A2-INCA/tas_Amon_IPSL-CM5A2-INCA_historical_r1i1p1f1_gr_19790116-20141216_v20200729.nc\"\n",
    ")\n",
    "cm_future = iris.load_cube(\n",
    "    \"testing_data/CMIP6/medium_area/SSP3-7_monthly_surface_temp_single_levels_IPSL-CM5A2-INCA/tas_Amon_IPSL-CM5A2-INCA_ssp370_r1i1p1f1_gr_20150116-20501216_v20201218.nc\"\n",
    ")"
   ]
  },
  {
   "cell_type": "code",
   "execution_count": 4,
   "metadata": {},
   "outputs": [],
   "source": [
    "# Regrid\n",
    "cm_hist = cm_hist.regrid(obs, iris.analysis.Linear())\n",
    "cm_future = cm_future.regrid(obs, iris.analysis.Linear())"
   ]
  },
  {
   "cell_type": "code",
   "execution_count": 5,
   "metadata": {},
   "outputs": [],
   "source": [
    "# Get data\n",
    "obs = obs.data[:, 0, :, :]\n",
    "cm_hist = cm_hist.data\n",
    "cm_future = cm_future.data"
   ]
  },
  {
   "cell_type": "markdown",
   "metadata": {},
   "source": [
    "Test different debiasers:"
   ]
  },
  {
   "cell_type": "code",
   "execution_count": 7,
   "metadata": {},
   "outputs": [
    {
     "name": "stdout",
     "output_type": "stream",
     "text": [
      "----- Running debiasing -----\n"
     ]
    },
    {
     "name": "stderr",
     "output_type": "stream",
     "text": [
      "100%|██████████| 357/357 [00:00<00:00, 952.41it/s]\n"
     ]
    },
    {
     "name": "stdout",
     "output_type": "stream",
     "text": [
      "----- Running debiasing -----\n"
     ]
    },
    {
     "name": "stderr",
     "output_type": "stream",
     "text": [
      "100%|██████████| 357/357 [00:00<00:00, 820.71it/s]\n"
     ]
    },
    {
     "name": "stdout",
     "output_type": "stream",
     "text": [
      "----- Running debiasing -----\n"
     ]
    },
    {
     "name": "stderr",
     "output_type": "stream",
     "text": [
      "100%|██████████| 357/357 [00:16<00:00, 21.16it/s]\n"
     ]
    },
    {
     "name": "stdout",
     "output_type": "stream",
     "text": [
      "----- Running debiasing -----\n"
     ]
    },
    {
     "name": "stderr",
     "output_type": "stream",
     "text": [
      "100%|██████████| 357/357 [00:01<00:00, 348.44it/s]\n"
     ]
    },
    {
     "name": "stdout",
     "output_type": "stream",
     "text": [
      "----- Running debiasing -----\n"
     ]
    },
    {
     "name": "stderr",
     "output_type": "stream",
     "text": [
      "100%|██████████| 357/357 [00:00<00:00, 3732.84it/s]\n"
     ]
    }
   ],
   "source": [
    "from scipy.stats import norm\n",
    "\n",
    "from PACKAGE_NAME.debias import QuantileMapping\n",
    "from PACKAGE_NAME.debias import QuantileDeltaMapping\n",
    "from PACKAGE_NAME.debias import ScaledDistributionMapping\n",
    "from PACKAGE_NAME.debias import LinearScaling\n",
    "\n",
    "distribution = norm\n",
    "\n",
    "temp_debiaser = QuantileMapping(distribution=norm, delta_type=\"no_delta\")\n",
    "debiased_cm1 = temp_debiaser.apply(obs, cm_hist, cm_future)\n",
    "\n",
    "temp_debiaser = QuantileMapping(distribution=norm, delta_type=\"additive\")\n",
    "debiased_cm2 = temp_debiaser.apply(obs, cm_hist, cm_future)\n",
    "\n",
    "temp_debiaser = QuantileDeltaMapping(distribution=norm, time_window_length=50)\n",
    "debiased_cm3 = temp_debiaser.apply(obs, cm_hist, cm_future)\n",
    "\n",
    "temp_debiaser = ScaledDistributionMapping()\n",
    "debiased_cm4 = temp_debiaser.apply(obs, cm_hist, cm_future)\n",
    "\n",
    "temp_debiaser = LinearScaling(delta_type = \"additive\")\n",
    "debiased_cm5 = temp_debiaser.apply(obs, cm_hist, cm_future)"
   ]
  },
  {
   "cell_type": "code",
   "execution_count": 8,
   "metadata": {},
   "outputs": [],
   "source": [
    "%load_ext autoreload\n",
    "%autoreload 2"
   ]
  },
  {
   "cell_type": "code",
   "execution_count": 10,
   "metadata": {},
   "outputs": [],
   "source": [
    "from PACKAGE_NAME.debias import ScaledDistributionMapping\n",
    "\n",
    "temp_debiaser = ScaledDistributionMapping()\n",
    "debiased_cm4 = temp_debiaser.apply_location_temp(\n",
    "    obs[:, 1, 1], cm_hist[:, 1, 1], cm_future[:, 1, 1]\n",
    ")"
   ]
  },
  {
   "cell_type": "code",
   "execution_count": 12,
   "metadata": {},
   "outputs": [],
   "source": [
    "from PACKAGE_NAME.debias import ScaledDistributionMapping\n",
    "\n",
    "temp_debiaser = ScaledDistributionMapping()\n",
    "debiased_cm5 = temp_debiaser.absolute_sdm_location(\n",
    "    obs[:, 1, 1], cm_hist[:, 1, 1], cm_future[:, 1, 1]\n",
    ")"
   ]
  },
  {
   "cell_type": "code",
   "execution_count": 13,
   "metadata": {},
   "outputs": [
    {
     "data": {
      "text/plain": [
       "masked_array(data=[287.6973987569566, 346.57504309518794,\n",
       "                   244.73950709169145, 219.84666240318074,\n",
       "                   7.042065308558165, -54.438186385444396,\n",
       "                   238.07054635983945, 229.40256067445318,\n",
       "                   111.54022268357659, 104.42424531305471,\n",
       "                   328.4870133939404, 300.7379878987197,\n",
       "                   462.4124997645934, 333.21247811413673,\n",
       "                   249.33243697791949, 248.39027934085323,\n",
       "                   166.12964499658386, 189.92017628688848,\n",
       "                   -140.5030112852436, -48.277592198232355,\n",
       "                   -116.01724612880707, 38.1721654406698,\n",
       "                   279.6453971863376, 228.78147376813183,\n",
       "                   1253.9369644734925, 180.65364053992633,\n",
       "                   243.5935646155155, 262.8294101807345,\n",
       "                   307.8966824646343, -81.44355056240857,\n",
       "                   -274.6104886695539, -317.3163050757439,\n",
       "                   -22.935281669144388, 283.72632595416746,\n",
       "                   233.07574094597186, 159.8272596348638,\n",
       "                   343.70360352936484, 155.4617831957513,\n",
       "                   283.43923291047565, 220.1099626336122,\n",
       "                   72.05563577370447, -56.57151065911239,\n",
       "                   -99.61651159830524, 29.738101363638634,\n",
       "                   -89.15674135093684, 323.0235940748309,\n",
       "                   306.85923292971626, 254.48818392308067,\n",
       "                   192.76316052513212, 250.22675958335935,\n",
       "                   279.3933292394189, 329.8133855398524,\n",
       "                   -11.590384741803291, -151.81676005779104,\n",
       "                   339.06738996274385, 1.3034383763044843,\n",
       "                   159.23462694160582, 59.45598811717758,\n",
       "                   329.4841575337574, 230.11561077539295,\n",
       "                   427.1338656768244, 240.02834780539777,\n",
       "                   308.98423871538296, 83.87018946088551,\n",
       "                   221.89588251578851, -134.48803164254218,\n",
       "                   -286.95011875474927, 101.35314638632417,\n",
       "                   74.10259567177138, -29.73519705049182,\n",
       "                   160.49032976839845, 165.63644872694405,\n",
       "                   241.87533666491996, 199.61057909737022,\n",
       "                   297.98663569924804, 341.0509513167695,\n",
       "                   -8.173038753499497, -70.68338151385103,\n",
       "                   -158.2826398145986, -157.78014813006257,\n",
       "                   -74.58271598820124, -32.397734217655284,\n",
       "                   233.43653271524738, 259.25050731155034,\n",
       "                   196.85663504882905, 199.8698987110924,\n",
       "                   244.95621138083104, 384.5493568178423,\n",
       "                   17.41356793759269, -37.1689698290092,\n",
       "                   -201.40565253199054, -241.71980281666322,\n",
       "                   -88.209251370701, 104.48856500967855,\n",
       "                   258.1156099025749, 484.77615183161316,\n",
       "                   156.45407323051876, 199.2514872849426,\n",
       "                   394.9542665823546, 290.25955596997557,\n",
       "                   27.86805634704865, 221.2348054040525,\n",
       "                   -21.26376674276628, 340.20834484890656,\n",
       "                   -62.55141022766401, 325.06338624019236,\n",
       "                   278.1950819706145, 410.6127910412125,\n",
       "                   190.37319561965478, 147.30275842156826,\n",
       "                   271.19884192354994, 319.31309597244285,\n",
       "                   181.80745648784352, -61.56509273674885,\n",
       "                   -265.63603637787605, -248.01311730737916,\n",
       "                   -77.60698183658724, 26.87332750589661,\n",
       "                   266.665600990947, 224.5940832439857, 228.0312690007416,\n",
       "                   169.25914235994952, 199.54825821424487,\n",
       "                   270.2663180542275, 288.37086670039486,\n",
       "                   -96.54997404229209, -258.45765721347414,\n",
       "                   179.88184896868233, 55.094472439808555,\n",
       "                   287.086320511096, 232.30181275758338,\n",
       "                   307.5633112255885, 651.9134863861871, 431.302612147215,\n",
       "                   329.46808074217796, 274.56490827821233,\n",
       "                   6.708016475841646, 202.92043605062224,\n",
       "                   -66.8481061456389, -190.10472544690936,\n",
       "                   196.31042926911994, 319.73973827348743,\n",
       "                   785.2406424763151, 233.42227440604375,\n",
       "                   670.289914203277, 484.6022177842911,\n",
       "                   334.53330881646804, 228.55315857914752,\n",
       "                   101.22017515542649, 73.05435341542221,\n",
       "                   -49.440259573970025, 18.5968748307198,\n",
       "                   239.79991683862522, 95.96907307490591,\n",
       "                   285.6093838987499, 242.78170602683622,\n",
       "                   266.41557976458864, 434.57433235270184,\n",
       "                   162.3464195577072, 151.26763383647588,\n",
       "                   104.76853553431306, -89.44767705804622,\n",
       "                   80.96236672786051, 244.7913376925062,\n",
       "                   -77.20455328955427, 227.236969810746,\n",
       "                   257.9012639786782, 182.24835346873473,\n",
       "                   585.8958714447015, 155.12482535211643,\n",
       "                   251.12327167609385, 415.0781973460071,\n",
       "                   73.72727348441418, 105.67574603275693,\n",
       "                   295.96866177339257, 189.5622264981689,\n",
       "                   0.24035408120238344, 171.68723122969266,\n",
       "                   305.1960334116361, 377.2164367743073,\n",
       "                   105.07008894540468, 209.07796657225023,\n",
       "                   359.36397503036073, 245.56243731257143,\n",
       "                   210.7313887712242, -59.14467916037313,\n",
       "                   271.4486901349426, 147.75638009008844,\n",
       "                   246.71781333783326, 45.0929742855227,\n",
       "                   327.67482667590235, 222.17092955513004,\n",
       "                   555.9976028447522, 151.79728659315714,\n",
       "                   251.4107861391753, 295.6298794775429,\n",
       "                   109.89465994247615, -107.63442633919954,\n",
       "                   -246.25598773435274, -248.6403014483575,\n",
       "                   238.6392990413467, 53.327041800371546,\n",
       "                   190.33550436402567, 238.63601756043317,\n",
       "                   171.9898617101644, 406.411031773984, 248.1003923106694,\n",
       "                   282.7635545387335, 53.54458822937687,\n",
       "                   -87.95302792098175, -340.9290320110856,\n",
       "                   -278.89593636231075, 297.0864689117511,\n",
       "                   83.94162659768313, 212.69644299409848,\n",
       "                   279.6111093874262, 579.4774718756041,\n",
       "                   180.96700281871358, 148.04642579122222,\n",
       "                   268.58226634510595, 61.23720608918967,\n",
       "                   -202.21838488079857, 104.19673374178114,\n",
       "                   -16.381094983460684, 124.77118387762721,\n",
       "                   -2.0830319485891096, 190.9766881443161,\n",
       "                   268.49933694727474, 244.18155565419323,\n",
       "                   330.86262196013803, 388.2270700373695,\n",
       "                   316.19378971600406, -33.736957302546216,\n",
       "                   7.967001407505052, -217.56975351042354,\n",
       "                   -237.72310179349267, -117.2575778569863,\n",
       "                   84.29913174257831, 302.90104285559204,\n",
       "                   206.15700494815965, 607.4176025409407,\n",
       "                   1116.5828069052836, 644.464395840229,\n",
       "                   292.14461932586164, -7.007569460279171,\n",
       "                   177.32075582125526, 305.9053295649941,\n",
       "                   -53.99884584299025, 243.94873784277047,\n",
       "                   -49.85408400619934, 281.0089123335779,\n",
       "                   228.28529305582248, 157.02068729274436,\n",
       "                   150.80997674925226, 258.3986143531208,\n",
       "                   315.05129131552803, -0.07895525163746697,\n",
       "                   -87.62511966216778, -16.26764916738739,\n",
       "                   169.03543554778003, 226.01216765607023,\n",
       "                   32.91977319195831, 309.50680429329054,\n",
       "                   236.5413327112961, 841.4085210749672,\n",
       "                   428.79402335625065, 347.49252993022077,\n",
       "                   317.37814961122183, 120.66220951659415,\n",
       "                   -126.56567740083074, -55.108884683408064,\n",
       "                   102.63491424024232, -128.9676800469981,\n",
       "                   51.04827434811017, 210.48538515106708,\n",
       "                   213.00696472157608, 163.81348203291233,\n",
       "                   219.59973771494816, 339.20058221653693,\n",
       "                   324.50783546477584, 68.97314907638452,\n",
       "                   -92.90304709742702, -111.97032350185395,\n",
       "                   -79.32481112764378, -94.12552202782979,\n",
       "                   -3.8722680641675424, 311.2542168890121,\n",
       "                   230.0105126476193, 220.52555321109912,\n",
       "                   236.48621833586702, 294.01967419711934,\n",
       "                   262.89513180853555, -0.44498226641456995,\n",
       "                   300.2876375917533, -86.08589706151508,\n",
       "                   -103.08959844710853, -183.11916852739876,\n",
       "                   87.72304169695428, 242.9480742851165,\n",
       "                   442.9307688478918, 151.40927115929205,\n",
       "                   252.27433715080912, 268.59674923228766,\n",
       "                   -26.22040651407343, -45.11079938184446,\n",
       "                   -136.05907388881138, 433.79135179378636,\n",
       "                   -233.89251787346598, 181.7440177115036,\n",
       "                   -0.13752506456251012, 281.02947812259845,\n",
       "                   163.21450292916657, 153.68718803591312,\n",
       "                   192.60913708417365, 257.9883773188536,\n",
       "                   381.8276987311432, 107.74778466591363,\n",
       "                   -66.84915106361154, -139.70092016542458,\n",
       "                   219.5306263224628, -80.8165508126059,\n",
       "                   202.66337598271184, 195.11100511748924,\n",
       "                   277.87067040147525, 1505.6853769960667,\n",
       "                   230.67327296451975, 380.7925124425438,\n",
       "                   306.8979859625487, 88.84296161821754,\n",
       "                   -62.78564764634325, -275.19913455045037,\n",
       "                   116.27798619826808, 135.11265669023902,\n",
       "                   296.9909247781235, 302.4751779397505,\n",
       "                   194.97992135319492, 395.0846263736893,\n",
       "                   248.69835662815092, 749.7076902406443,\n",
       "                   276.37177566579237, -27.072803449953767,\n",
       "                   -14.54783871900122, -271.61320198001556,\n",
       "                   -219.8773697509065, -109.15441887511395,\n",
       "                   -36.98272657157867, 278.8011134534539,\n",
       "                   290.22289002799306, 524.2963038753645,\n",
       "                   372.0625879267226, 175.40596117344873,\n",
       "                   19.236053064495252, 41.70742015708555,\n",
       "                   -102.89024180177819, -203.49423448105654,\n",
       "                   -183.48160419139288, 263.790450613586,\n",
       "                   62.337924666517324, 383.9231779289627,\n",
       "                   361.5060402431104, 182.38115350995807,\n",
       "                   191.24205603562172, 250.75257092257584,\n",
       "                   259.521613337743, 59.059309949326575,\n",
       "                   -128.87875338675985, -343.0339808045959,\n",
       "                   -331.30623077563837, -119.66376074634843,\n",
       "                   100.81318910790549, 257.8532397497929,\n",
       "                   247.74194233841013, 444.2875851107017,\n",
       "                   298.35381561363033, 417.4558181332413,\n",
       "                   291.12511166206525, -4.079638655952465,\n",
       "                   68.25653918256654, -426.2308423077436,\n",
       "                   -231.65111393955533, -52.80410349277952,\n",
       "                   282.4805195929172, 272.8087413241131,\n",
       "                   248.74171972764418, 253.52777271692992,\n",
       "                   206.99562994769693, 194.2757414130743,\n",
       "                   69.6241171440845, -22.312317351206957,\n",
       "                   -74.07365216568701, -197.7474652499402,\n",
       "                   -68.72535137266641, -58.84346495396875,\n",
       "                   102.59118534298875, 312.2849508280797,\n",
       "                   267.6918627197267, 273.1360686047116,\n",
       "                   194.2841827577264, 222.57533459206456,\n",
       "                   206.94119440264797, 46.74141819444162,\n",
       "                   -153.7899936318861, 210.105080207195,\n",
       "                   182.59200681570974, 233.2686075888521,\n",
       "                   -59.72825874688374, 200.8348273346034,\n",
       "                   219.5106481920259, 245.5728769091807,\n",
       "                   937.1148543996286, 238.29796775088687,\n",
       "                   259.2398418057349, 110.8123106826867,\n",
       "                   -50.95191983510949, -317.38959638954157,\n",
       "                   544.1477842608901, 326.9629850019139,\n",
       "                   73.53569392176672, 203.25920217378, 241.95573727251661,\n",
       "                   273.61940935198436, 149.502554261409,\n",
       "                   200.93274920020917, 382.79587702598957,\n",
       "                   294.5289116447674, 224.23661118673067,\n",
       "                   -191.33160681926074, -53.04193369840846,\n",
       "                   68.7417054802014, 12.422919928519093,\n",
       "                   282.2386631044267, 317.59962574931774],\n",
       "             mask=[False, False, False, False, False, False, False, False,\n",
       "                   False, False, False, False, False, False, False, False,\n",
       "                   False, False, False, False, False, False, False, False,\n",
       "                   False, False, False, False, False, False, False, False,\n",
       "                   False, False, False, False, False, False, False, False,\n",
       "                   False, False, False, False, False, False, False, False,\n",
       "                   False, False, False, False, False, False, False, False,\n",
       "                   False, False, False, False, False, False, False, False,\n",
       "                   False, False, False, False, False, False, False, False,\n",
       "                   False, False, False, False, False, False, False, False,\n",
       "                   False, False, False, False, False, False, False, False,\n",
       "                   False, False, False, False, False, False, False, False,\n",
       "                   False, False, False, False, False, False, False, False,\n",
       "                   False, False, False, False, False, False, False, False,\n",
       "                   False, False, False, False, False, False, False, False,\n",
       "                   False, False, False, False, False, False, False, False,\n",
       "                   False, False, False, False, False, False, False, False,\n",
       "                   False, False, False, False, False, False, False, False,\n",
       "                   False, False, False, False, False, False, False, False,\n",
       "                   False, False, False, False, False, False, False, False,\n",
       "                   False, False, False, False, False, False, False, False,\n",
       "                   False, False, False, False, False, False, False, False,\n",
       "                   False, False, False, False, False, False, False, False,\n",
       "                   False, False, False, False, False, False, False, False,\n",
       "                   False, False, False, False, False, False, False, False,\n",
       "                   False, False, False, False, False, False, False, False,\n",
       "                   False, False, False, False, False, False, False, False,\n",
       "                   False, False, False, False, False, False, False, False,\n",
       "                   False, False, False, False, False, False, False, False,\n",
       "                   False, False, False, False, False, False, False, False,\n",
       "                   False, False, False, False, False, False, False, False,\n",
       "                   False, False, False, False, False, False, False, False,\n",
       "                   False, False, False, False, False, False, False, False,\n",
       "                   False, False, False, False, False, False, False, False,\n",
       "                   False, False, False, False, False, False, False, False,\n",
       "                   False, False, False, False, False, False, False, False,\n",
       "                   False, False, False, False, False, False, False, False,\n",
       "                   False, False, False, False, False, False, False, False,\n",
       "                   False, False, False, False, False, False, False, False,\n",
       "                   False, False, False, False, False, False, False, False,\n",
       "                   False, False, False, False, False, False, False, False,\n",
       "                   False, False, False, False, False, False, False, False,\n",
       "                   False, False, False, False, False, False, False, False,\n",
       "                   False, False, False, False, False, False, False, False,\n",
       "                   False, False, False, False, False, False, False, False,\n",
       "                   False, False, False, False, False, False, False, False,\n",
       "                   False, False, False, False, False, False, False, False,\n",
       "                   False, False, False, False, False, False, False, False,\n",
       "                   False, False, False, False, False, False, False, False,\n",
       "                   False, False, False, False, False, False, False, False,\n",
       "                   False, False, False, False, False, False, False, False,\n",
       "                   False, False, False, False, False, False, False, False,\n",
       "                   False, False, False, False, False, False, False, False,\n",
       "                   False, False, False, False, False, False, False, False],\n",
       "       fill_value=1e+20)"
      ]
     },
     "execution_count": 13,
     "metadata": {},
     "output_type": "execute_result"
    }
   ],
   "source": [
    "debiased_cm4 - debiased_cm5"
   ]
  },
  {
   "cell_type": "code",
   "execution_count": null,
   "metadata": {},
   "outputs": [],
   "source": []
  }
 ],
 "metadata": {
  "kernelspec": {
   "display_name": "Python 3",
   "language": "python",
   "name": "python3"
  },
  "language_info": {
   "codemirror_mode": {
    "name": "ipython",
    "version": 3
   },
   "file_extension": ".py",
   "mimetype": "text/x-python",
   "name": "python",
   "nbconvert_exporter": "python",
   "pygments_lexer": "ipython3",
   "version": "3.8.5"
  }
 },
 "nbformat": 4,
 "nbformat_minor": 4
}
