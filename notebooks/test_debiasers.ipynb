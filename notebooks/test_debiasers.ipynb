{
 "cells": [
  {
   "cell_type": "markdown",
   "metadata": {},
   "source": [
    "# Setup and data loading"
   ]
  },
  {
   "cell_type": "code",
   "execution_count": 1,
   "metadata": {},
   "outputs": [],
   "source": [
    "import sys\n",
    "sys.path.append(\"../\")  # path contains python_file.py"
   ]
  },
  {
   "cell_type": "code",
   "execution_count": 2,
   "metadata": {},
   "outputs": [],
   "source": [
    "import iris\n",
    "\n",
    "import numpy as np\n",
    "import scipy.stats"
   ]
  },
  {
   "cell_type": "code",
   "execution_count": 3,
   "metadata": {},
   "outputs": [],
   "source": [
    "%load_ext autoreload\n",
    "%autoreload 2"
   ]
  },
  {
   "cell_type": "code",
   "execution_count": 4,
   "metadata": {},
   "outputs": [],
   "source": [
    "# Given an iris-cube this returns the dates stored in the last time-dimension\n",
    "def get_dates(x):\n",
    "    time_dimension = x.coords()[2]\n",
    "    dates = time_dimension.units.num2date(time_dimension.points)\n",
    "    return dates\n",
    "\n",
    "get_dates = np.vectorize(get_dates)\n",
    "\n",
    "# This reads in the testing-data from ISIMIP stored in testing_data/ISIMIP\n",
    "def read_in_and_preprocess_isimip_testing_data_with_dates(variable, isimip_data_path = \"testing_data/ISIMIP/\"):\n",
    "    \n",
    "    # Load in data\n",
    "    obs = iris.load_cube(isimip_data_path+variable+\"_obs-hist_coarse_1979-2014.nc\")\n",
    "    cm_hist = iris.load_cube(isimip_data_path+variable+\"_sim-hist_coarse_1979-2014.nc\")\n",
    "    cm_future = iris.load_cube(isimip_data_path+variable+\"_sim-fut_coarse_2065-2100.nc\")\n",
    "\n",
    "    # Extract dates\n",
    "    dates = {\n",
    "        \"time_obs\": get_dates(obs),\n",
    "        \"time_cm_hist\": get_dates(cm_hist),\n",
    "        \"time_cm_future\": get_dates(cm_future)\n",
    "    }\n",
    "    \n",
    "    # Convert to np.array (from masked-array)\n",
    "    obs = obs.data\n",
    "    cm_hist = cm_hist.data\n",
    "    cm_future = cm_future.data\n",
    "\n",
    "    # Move time to first axis (our convention)\n",
    "    obs = np.moveaxis(obs, -1, 0)\n",
    "    cm_hist = np.moveaxis(cm_hist, -1, 0)\n",
    "    cm_future = np.moveaxis(cm_future, -1, 0)\n",
    "    \n",
    "    return obs, cm_hist, cm_future, dates"
   ]
  },
  {
   "cell_type": "code",
   "execution_count": 5,
   "metadata": {},
   "outputs": [
    {
     "name": "stderr",
     "output_type": "stream",
     "text": [
      "/home/jakobwes/anaconda3/envs/ibias4/lib/python3.9/site-packages/pyproj/__init__.py:89: UserWarning: pyproj unable to set database path.\n",
      "  _pyproj_global_context_initialize()\n"
     ]
    }
   ],
   "source": [
    "obs, cm_hist, cm_future, dates = read_in_and_preprocess_isimip_testing_data_with_dates(\"tas\")"
   ]
  },
  {
   "cell_type": "code",
   "execution_count": 6,
   "metadata": {},
   "outputs": [],
   "source": [
    "from PACKAGE_NAME.debias import QuantileMapping\n",
    "\n",
    "temp_debiaser = QuantileMapping.from_variable(variable = \"tas\")\n"
   ]
  },
  {
   "cell_type": "markdown",
   "metadata": {},
   "source": [
    "# Show debiasers running through"
   ]
  },
  {
   "cell_type": "code",
   "execution_count": 7,
   "metadata": {},
   "outputs": [
    {
     "name": "stdout",
     "output_type": "stream",
     "text": [
      "----- Running debiasing -----\n"
     ]
    },
    {
     "name": "stderr",
     "output_type": "stream",
     "text": [
      "100%|███████████████████████████████████████████| 4/4 [00:00<00:00, 1197.69it/s]\n",
      "INFO:root:----- Running debiasing for variable: unknown -----\n",
      "INFO:root:obs is a masked array, but contains no invalid data. It is converted to a normal numpy array.\n",
      "INFO:root:cm_hist is a masked array, but contains no invalid data. It is converted to a normal numpy array.\n",
      "INFO:root:cm_future is a masked array, but contains no invalid data. It is converted to a normal numpy array.\n",
      "100%|████████████████████████████████████████████| 4/4 [00:00<00:00, 376.98it/s]\n",
      "INFO:root:----- Running debiasing for variable: Daily mean near-surface air temperature -----\n",
      "INFO:root:obs is a masked array, but contains no invalid data. It is converted to a normal numpy array.\n",
      "INFO:root:cm_hist is a masked array, but contains no invalid data. It is converted to a normal numpy array.\n",
      "INFO:root:cm_future is a masked array, but contains no invalid data. It is converted to a normal numpy array.\n",
      "100%|████████████████████████████████████████████| 4/4 [00:00<00:00, 368.59it/s]\n",
      "INFO:root:----- Running debiasing for variable: Daily mean near-surface air temperature -----\n",
      "INFO:root:obs is a masked array, but contains no invalid data. It is converted to a normal numpy array.\n",
      "INFO:root:cm_hist is a masked array, but contains no invalid data. It is converted to a normal numpy array.\n",
      "INFO:root:cm_future is a masked array, but contains no invalid data. It is converted to a normal numpy array.\n",
      "100%|████████████████████████████████████████████| 4/4 [00:00<00:00, 319.24it/s]\n",
      "INFO:root:----- Running debiasing for variable: Daily mean near-surface air temperature -----\n",
      "INFO:root:obs is a masked array, but contains no invalid data. It is converted to a normal numpy array.\n",
      "INFO:root:cm_hist is a masked array, but contains no invalid data. It is converted to a normal numpy array.\n",
      "INFO:root:cm_future is a masked array, but contains no invalid data. It is converted to a normal numpy array.\n",
      "100%|████████████████████████████████████████████| 4/4 [00:00<00:00, 235.48it/s]\n",
      "INFO:root:----- Running debiasing for variable: Daily mean near-surface air temperature -----\n",
      "INFO:root:obs is a masked array, but contains no invalid data. It is converted to a normal numpy array.\n",
      "INFO:root:cm_hist is a masked array, but contains no invalid data. It is converted to a normal numpy array.\n",
      "INFO:root:cm_future is a masked array, but contains no invalid data. It is converted to a normal numpy array.\n",
      "  0%|                                                     | 0/4 [00:00<?, ?it/s]WARNING:root:\n",
      "                    QuantileDeltaMapping runs without time-information for at least one of obs, cm_hist or cm_future.\n",
      "                    This information is inferred, assuming the first observation is on a January 1st. Observations are chunked according to the assumed time information. \n",
      "                    This might lead to slight numerical differences to the run with time information, however the debiasing is not fundamentally changed.\n",
      "                    \n",
      " 25%|███████████▎                                 | 1/4 [00:04<00:12,  4.07s/it]WARNING:root:\n",
      "                    QuantileDeltaMapping runs without time-information for at least one of obs, cm_hist or cm_future.\n",
      "                    This information is inferred, assuming the first observation is on a January 1st. Observations are chunked according to the assumed time information. \n",
      "                    This might lead to slight numerical differences to the run with time information, however the debiasing is not fundamentally changed.\n",
      "                    \n",
      " 50%|██████████████████████▌                      | 2/4 [00:08<00:08,  4.08s/it]WARNING:root:\n",
      "                    QuantileDeltaMapping runs without time-information for at least one of obs, cm_hist or cm_future.\n",
      "                    This information is inferred, assuming the first observation is on a January 1st. Observations are chunked according to the assumed time information. \n",
      "                    This might lead to slight numerical differences to the run with time information, however the debiasing is not fundamentally changed.\n",
      "                    \n",
      " 75%|█████████████████████████████████▊           | 3/4 [00:12<00:04,  4.09s/it]WARNING:root:\n",
      "                    QuantileDeltaMapping runs without time-information for at least one of obs, cm_hist or cm_future.\n",
      "                    This information is inferred, assuming the first observation is on a January 1st. Observations are chunked according to the assumed time information. \n",
      "                    This might lead to slight numerical differences to the run with time information, however the debiasing is not fundamentally changed.\n",
      "                    \n",
      "100%|█████████████████████████████████████████████| 4/4 [00:16<00:00,  4.12s/it]\n",
      "INFO:root:----- Running debiasing for variable: Daily mean near-surface air temperature -----\n",
      "INFO:root:obs is a masked array, but contains no invalid data. It is converted to a normal numpy array.\n",
      "INFO:root:cm_hist is a masked array, but contains no invalid data. It is converted to a normal numpy array.\n",
      "INFO:root:cm_future is a masked array, but contains no invalid data. It is converted to a normal numpy array.\n",
      "100%|█████████████████████████████████████████████| 4/4 [00:00<00:00, 82.53it/s]\n",
      "INFO:root:----- Running debiasing for variable: unknown -----\n",
      "INFO:root:obs is a masked array, but contains no invalid data. It is converted to a normal numpy array.\n",
      "INFO:root:cm_hist is a masked array, but contains no invalid data. It is converted to a normal numpy array.\n",
      "INFO:root:cm_future is a masked array, but contains no invalid data. It is converted to a normal numpy array.\n",
      "100%|███████████████████████████████████████████| 4/4 [00:00<00:00, 4661.63it/s]\n",
      "INFO:root:----- Running debiasing for variable: Daily mean near-surface air temperature -----\n",
      "INFO:root:obs is a masked array, but contains no invalid data. It is converted to a normal numpy array.\n",
      "INFO:root:cm_hist is a masked array, but contains no invalid data. It is converted to a normal numpy array.\n",
      "INFO:root:cm_future is a masked array, but contains no invalid data. It is converted to a normal numpy array.\n",
      "100%|█████████████████████████████████████████████| 4/4 [00:02<00:00,  1.67it/s]\n"
     ]
    }
   ],
   "source": [
    "from scipy.stats import norm, laplace\n",
    "\n",
    "from PACKAGE_NAME.debias import QuantileMapping, QuantileDeltaMapping, ScaledDistributionMapping, LinearScaling, ECDFM, DeltaChange, CDFt, ISIMIP\n",
    "\n",
    "distribution = norm\n",
    "\n",
    "temp_debiaser = DeltaChange.from_variable(variable = \"tas\")\n",
    "debiased_cm1 = temp_debiaser.apply(obs, cm_hist, cm_future)\n",
    "\n",
    "temp_debiaser = QuantileMapping(variable = \"unknown\", distribution=norm, detrending=\"no_detrending\")\n",
    "debiased_cm2 = temp_debiaser.apply(obs, cm_hist, cm_future)\n",
    "\n",
    "temp_debiaser = QuantileMapping.from_variable(variable=\"tas\")\n",
    "debiased_cm3 = temp_debiaser.apply(obs, cm_hist, cm_future)\n",
    "\n",
    "temp_debiaser = QuantileMapping.from_variable(variable=\"tas\", detrending=\"additive\", distribution = laplace)\n",
    "debiased_cm4 = temp_debiaser.apply(obs, cm_hist, cm_future)\n",
    "\n",
    "temp_debiaser = ECDFM.from_variable(variable = \"tas\", distribution = norm)\n",
    "debiased_cm5 = temp_debiaser.apply(obs, cm_hist, cm_future)\n",
    "\n",
    "temp_debiaser = QuantileDeltaMapping.from_variable(\"tas\")\n",
    "debiased_cm6 = temp_debiaser.apply(obs, cm_hist, cm_future)\n",
    "\n",
    "temp_debiaser = ScaledDistributionMapping.from_variable(variable = \"tas\")\n",
    "debiased_cm7 = temp_debiaser.apply(obs, cm_hist, cm_future)\n",
    "\n",
    "temp_debiaser = LinearScaling(variable = \"unknown\", delta_type = \"additive\")\n",
    "debiased_cm8 = temp_debiaser.apply(obs, cm_hist, cm_future)\n",
    "\n",
    "temp_debiaser = CDFt.from_variable(\"tas\")\n",
    "debiased_cm9 = temp_debiaser.apply(obs, cm_hist, cm_future, **dates)"
   ]
  },
  {
   "cell_type": "markdown",
   "metadata": {},
   "source": [
    "# Show different ways to initialize debiasers"
   ]
  },
  {
   "cell_type": "code",
   "execution_count": 8,
   "metadata": {},
   "outputs": [],
   "source": [
    "from scipy.stats import norm, laplace, gamma\n",
    "\n",
    "from PACKAGE_NAME.debias import QuantileMapping\n",
    "from PACKAGE_NAME.debias import QuantileDeltaMapping\n",
    "from PACKAGE_NAME.variables import tas, pr\n",
    "from PACKAGE_NAME.utils import gen_PrecipitationGammaLeftCensoredModel, gen_PrecipitationHurdleModel\n",
    "\n",
    "# Using a string and the required argument: maps to default settings\n",
    "temp_debiaser1 = QuantileMapping.from_variable(variable = \"t2m\", detrending=\"no_detrending\")\n",
    "\n",
    "# Using a string and the required argument: maps to default settings\n",
    "temp_debiaser2 = QuantileMapping.from_variable(variable = \"tas\", detrending=\"additive\")\n",
    "\n",
    "# Using the variable class: maps to default settings\n",
    "temp_debiaser3 = QuantileMapping.from_variable(variable=tas, detrending=\"additive\")\n",
    "\n",
    "# Using the variable class but overwriting the standard distribution\n",
    "temp_debiaser4 = QuantileMapping.from_variable(variable=tas, detrending=\"additive\", distribution = laplace)\n",
    "\n",
    "# Using special initialisation for precipitation\n",
    "precip_debiaser1 = QuantileMapping.for_precipitation(detrending = \"multiplicative\", precipitation_model_type = \"censored\", precipitation_censoring_threshold = 0.1)\n",
    "\n",
    "# Specifying all the arguments and an own model for the distribution (child-class of StatisticalModel needing only fit, cdf and ppf method) 1\n",
    "left_censored_model = gen_PrecipitationGammaLeftCensoredModel(censoring_threshold = 0.1)\n",
    "precip_debiaser2 = QuantileMapping(variable = \"unknown\", detrending = \"multiplicative\", distribution = left_censored_model)\n",
    "\n",
    "# Using the for_precipitation method but an own model for the distribution (child-class of StatisticalModel needing only fit, cdf and ppf method) 2\n",
    "hurdle_model = gen_PrecipitationHurdleModel(distribution = gamma)\n",
    "precip_debiaser3 = QuantileMapping.for_precipitation(detrending = \"multiplicative\", distribution = hurdle_model)\n",
    "\n",
    "# Using a variable, but overwriting the distribution\n",
    "hurdle_model = gen_PrecipitationHurdleModel(distribution = gamma)\n",
    "precip_debiaser4 = QuantileMapping.from_variable(variable = \"pr\", detrending = \"multiplicative\", distribution = hurdle_model)\n"
   ]
  },
  {
   "cell_type": "code",
   "execution_count": 9,
   "metadata": {},
   "outputs": [
    {
     "data": {
      "text/plain": [
       "False"
      ]
     },
     "execution_count": 9,
     "metadata": {},
     "output_type": "execute_result"
    }
   ],
   "source": [
    "temp_debiaser1 == temp_debiaser2 # no because of different delta_type"
   ]
  },
  {
   "cell_type": "code",
   "execution_count": 10,
   "metadata": {},
   "outputs": [
    {
     "data": {
      "text/plain": [
       "True"
      ]
     },
     "execution_count": 10,
     "metadata": {},
     "output_type": "execute_result"
    }
   ],
   "source": [
    "temp_debiaser2 == temp_debiaser3 # yes"
   ]
  },
  {
   "cell_type": "code",
   "execution_count": 11,
   "metadata": {},
   "outputs": [
    {
     "data": {
      "text/plain": [
       "False"
      ]
     },
     "execution_count": 11,
     "metadata": {},
     "output_type": "execute_result"
    }
   ],
   "source": [
    "temp_debiaser3 == temp_debiaser4 # no because of different distribution"
   ]
  },
  {
   "cell_type": "code",
   "execution_count": 12,
   "metadata": {},
   "outputs": [
    {
     "data": {
      "text/plain": [
       "True"
      ]
     },
     "execution_count": 12,
     "metadata": {},
     "output_type": "execute_result"
    }
   ],
   "source": [
    "precip_debiaser1 == precip_debiaser2 # yes because same models, just differently specified"
   ]
  },
  {
   "cell_type": "code",
   "execution_count": 13,
   "metadata": {},
   "outputs": [
    {
     "data": {
      "text/plain": [
       "False"
      ]
     },
     "execution_count": 13,
     "metadata": {},
     "output_type": "execute_result"
    }
   ],
   "source": [
    "precip_debiaser2 == precip_debiaser3 # no because of different model: hurdle vs. censored"
   ]
  },
  {
   "cell_type": "code",
   "execution_count": 14,
   "metadata": {},
   "outputs": [
    {
     "data": {
      "text/plain": [
       "True"
      ]
     },
     "execution_count": 14,
     "metadata": {},
     "output_type": "execute_result"
    }
   ],
   "source": [
    "precip_debiaser3 == precip_debiaser4 # yes because same model, just differently specified"
   ]
  },
  {
   "cell_type": "code",
   "execution_count": null,
   "metadata": {},
   "outputs": [],
   "source": []
  },
  {
   "cell_type": "code",
   "execution_count": null,
   "metadata": {},
   "outputs": [],
   "source": []
  }
 ],
 "metadata": {
  "kernelspec": {
   "display_name": "ibias4",
   "language": "python",
   "name": "ibias4"
  },
  "language_info": {
   "codemirror_mode": {
    "name": "ipython",
    "version": 3
   },
   "file_extension": ".py",
   "mimetype": "text/x-python",
   "name": "python",
   "nbconvert_exporter": "python",
   "pygments_lexer": "ipython3",
   "version": "3.9.13"
  }
 },
 "nbformat": 4,
 "nbformat_minor": 4
}
