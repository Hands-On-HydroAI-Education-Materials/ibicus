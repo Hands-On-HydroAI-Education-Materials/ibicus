{
 "cells": [
  {
   "cell_type": "markdown",
   "metadata": {},
   "source": [
    "# Setup and data loading"
   ]
  },
  {
   "cell_type": "code",
   "execution_count": 1,
   "metadata": {},
   "outputs": [],
   "source": [
    "import sys\n",
    "sys.path.append(\"../\")  # path contains python_file.py"
   ]
  },
  {
   "cell_type": "code",
   "execution_count": 2,
   "metadata": {},
   "outputs": [],
   "source": [
    "import iris\n",
    "\n",
    "import numpy as np\n",
    "import scipy.stats"
   ]
  },
  {
   "cell_type": "code",
   "execution_count": 3,
   "metadata": {},
   "outputs": [],
   "source": [
    "%load_ext autoreload\n",
    "%autoreload 2"
   ]
  },
  {
   "cell_type": "code",
   "execution_count": 4,
   "metadata": {},
   "outputs": [],
   "source": [
    "# Given an iris-cube this returns the dates stored in the last time-dimension\n",
    "def get_dates(x):\n",
    "    time_dimension = x.coords()[2]\n",
    "    dates = time_dimension.units.num2date(time_dimension.points)\n",
    "    return dates\n",
    "\n",
    "get_dates = np.vectorize(get_dates)\n",
    "\n",
    "# This reads in the testing-data from ISIMIP stored in testing_data/ISIMIP\n",
    "def read_in_and_preprocess_isimip_testing_data_with_dates(variable, isimip_data_path = \"testing_data/ISIMIP/\"):\n",
    "    \n",
    "    # Load in data\n",
    "    obs = iris.load_cube(isimip_data_path+variable+\"_obs-hist_coarse_1979-2014.nc\")\n",
    "    cm_hist = iris.load_cube(isimip_data_path+variable+\"_sim-hist_coarse_1979-2014.nc\")\n",
    "    cm_future = iris.load_cube(isimip_data_path+variable+\"_sim-fut_coarse_2065-2100.nc\")\n",
    "\n",
    "    # Extract dates\n",
    "    dates = {\n",
    "        \"time_obs\": get_dates(obs),\n",
    "        \"time_cm_hist\": get_dates(cm_hist),\n",
    "        \"time_cm_future\": get_dates(cm_future)\n",
    "    }\n",
    "    \n",
    "    # Convert to np.array (from masked-array)\n",
    "    obs = np.array(obs.data)\n",
    "    cm_hist = np.array(cm_hist.data)\n",
    "    cm_future = np.array(cm_future.data)\n",
    "\n",
    "    # Move time to first axis (our convention)\n",
    "    obs = np.moveaxis(obs, -1, 0)\n",
    "    cm_hist = np.moveaxis(cm_hist, -1, 0)\n",
    "    cm_future = np.moveaxis(cm_future, -1, 0)\n",
    "    \n",
    "    return obs, cm_hist, cm_future, dates"
   ]
  },
  {
   "cell_type": "code",
   "execution_count": 5,
   "metadata": {},
   "outputs": [
    {
     "name": "stderr",
     "output_type": "stream",
     "text": [
      "/home/jakobwes/anaconda3/envs/ibias4/lib/python3.9/site-packages/pyproj/__init__.py:89: UserWarning: pyproj unable to set database path.\n",
      "  _pyproj_global_context_initialize()\n"
     ]
    }
   ],
   "source": [
    "obs, cm_hist, cm_future, dates = read_in_and_preprocess_isimip_testing_data_with_dates(\"tas\")"
   ]
  },
  {
   "cell_type": "markdown",
   "metadata": {},
   "source": [
    "# Show debiasers running through"
   ]
  },
  {
   "cell_type": "code",
   "execution_count": 7,
   "metadata": {},
   "outputs": [
    {
     "name": "stdout",
     "output_type": "stream",
     "text": [
      "----- Running debiasing -----\n"
     ]
    },
    {
     "name": "stderr",
     "output_type": "stream",
     "text": [
      "100%|███████████████████████████████████████████| 4/4 [00:00<00:00, 2489.20it/s]\n"
     ]
    },
    {
     "name": "stdout",
     "output_type": "stream",
     "text": [
      "----- Running debiasing -----\n"
     ]
    },
    {
     "name": "stderr",
     "output_type": "stream",
     "text": [
      "100%|████████████████████████████████████████████| 4/4 [00:00<00:00, 421.74it/s]\n"
     ]
    },
    {
     "name": "stdout",
     "output_type": "stream",
     "text": [
      "----- Running debiasing -----\n"
     ]
    },
    {
     "name": "stderr",
     "output_type": "stream",
     "text": [
      "100%|████████████████████████████████████████████| 4/4 [00:00<00:00, 367.86it/s]\n"
     ]
    },
    {
     "name": "stdout",
     "output_type": "stream",
     "text": [
      "----- Running debiasing -----\n"
     ]
    },
    {
     "name": "stderr",
     "output_type": "stream",
     "text": [
      "100%|████████████████████████████████████████████| 4/4 [00:00<00:00, 337.94it/s]\n"
     ]
    },
    {
     "name": "stdout",
     "output_type": "stream",
     "text": [
      "----- Running debiasing -----\n"
     ]
    },
    {
     "name": "stderr",
     "output_type": "stream",
     "text": [
      "100%|████████████████████████████████████████████| 4/4 [00:00<00:00, 179.00it/s]\n"
     ]
    },
    {
     "name": "stdout",
     "output_type": "stream",
     "text": [
      "----- Running debiasing -----\n"
     ]
    },
    {
     "name": "stderr",
     "output_type": "stream",
     "text": [
      "100%|█████████████████████████████████████████████| 4/4 [00:00<00:00, 19.04it/s]\n"
     ]
    },
    {
     "name": "stdout",
     "output_type": "stream",
     "text": [
      "----- Running debiasing -----\n"
     ]
    },
    {
     "name": "stderr",
     "output_type": "stream",
     "text": [
      "100%|█████████████████████████████████████████████| 4/4 [00:00<00:00, 85.72it/s]\n"
     ]
    },
    {
     "name": "stdout",
     "output_type": "stream",
     "text": [
      "----- Running debiasing -----\n"
     ]
    },
    {
     "name": "stderr",
     "output_type": "stream",
     "text": [
      "100%|███████████████████████████████████████████| 4/4 [00:00<00:00, 3819.08it/s]\n"
     ]
    },
    {
     "name": "stdout",
     "output_type": "stream",
     "text": [
      "----- Running debiasing -----\n"
     ]
    },
    {
     "name": "stderr",
     "output_type": "stream",
     "text": [
      "100%|█████████████████████████████████████████████| 4/4 [00:02<00:00,  1.82it/s]\n"
     ]
    }
   ],
   "source": [
    "from scipy.stats import norm, laplace\n",
    "\n",
    "from PACKAGE_NAME.debias import QuantileMapping, QuantileDeltaMapping, ScaledDistributionMapping, LinearScaling, ECDFM, DeltaChange, CDFt\n",
    "\n",
    "distribution = norm\n",
    "\n",
    "temp_debiaser = DeltaChange.from_variable(variable = \"tas\")\n",
    "debiased_cm1 = temp_debiaser.apply(obs, cm_hist, cm_future)\n",
    "\n",
    "temp_debiaser = QuantileMapping(distribution=norm, delta_type=\"no_delta\")\n",
    "debiased_cm2 = temp_debiaser.apply(obs, cm_hist, cm_future)\n",
    "\n",
    "temp_debiaser = QuantileMapping.from_variable(variable=\"tas\")\n",
    "debiased_cm3 = temp_debiaser.apply(obs, cm_hist, cm_future)\n",
    "\n",
    "temp_debiaser = QuantileMapping.from_variable(variable=\"tas\", delta_type=\"additive\", distribution = laplace)\n",
    "debiased_cm4 = temp_debiaser.apply(obs, cm_hist, cm_future)\n",
    "\n",
    "temp_debiaser = ECDFM.from_variable(variable = \"tas\", distribution = norm)\n",
    "debiased_cm5 = temp_debiaser.apply(obs, cm_hist, cm_future)\n",
    "\n",
    "temp_debiaser = QuantileDeltaMapping(distribution=norm, time_window_length=50)\n",
    "debiased_cm6 = temp_debiaser.apply(obs, cm_hist, cm_future)\n",
    "\n",
    "temp_debiaser = ScaledDistributionMapping.from_variable(variable = \"tas\")\n",
    "debiased_cm7 = temp_debiaser.apply(obs, cm_hist, cm_future)\n",
    "\n",
    "temp_debiaser = LinearScaling(delta_type = \"additive\")\n",
    "debiased_cm8 = temp_debiaser.apply(obs, cm_hist, cm_future)\n",
    "\n",
    "temp_debiaser = CDFt.from_variable(\"tas\")\n",
    "debiased_cm9 = temp_debiaser.apply(obs, cm_hist, cm_future, **dates)"
   ]
  },
  {
   "cell_type": "markdown",
   "metadata": {},
   "source": [
    "# Show different ways to initialize debiasers"
   ]
  },
  {
   "cell_type": "code",
   "execution_count": 8,
   "metadata": {},
   "outputs": [
    {
     "ename": "AttributeError",
     "evalue": "'Variable' object has no attribute 'method'",
     "output_type": "error",
     "traceback": [
      "\u001b[0;31m---------------------------------------------------------------------------\u001b[0m",
      "\u001b[0;31mAttributeError\u001b[0m                            Traceback (most recent call last)",
      "Input \u001b[0;32mIn [8]\u001b[0m, in \u001b[0;36m<cell line: 21>\u001b[0;34m()\u001b[0m\n\u001b[1;32m     18\u001b[0m temp_debiaser4 \u001b[38;5;241m=\u001b[39m QuantileMapping\u001b[38;5;241m.\u001b[39mfrom_variable(variable\u001b[38;5;241m=\u001b[39mtas, delta_type\u001b[38;5;241m=\u001b[39m\u001b[38;5;124m\"\u001b[39m\u001b[38;5;124madditive\u001b[39m\u001b[38;5;124m\"\u001b[39m, distribution \u001b[38;5;241m=\u001b[39m laplace)\n\u001b[1;32m     20\u001b[0m \u001b[38;5;66;03m# Using special initialisation for precipitation\u001b[39;00m\n\u001b[0;32m---> 21\u001b[0m precip_debiaser1 \u001b[38;5;241m=\u001b[39m \u001b[43mQuantileMapping\u001b[49m\u001b[38;5;241;43m.\u001b[39;49m\u001b[43mfor_precipitation\u001b[49m\u001b[43m(\u001b[49m\u001b[43mdelta_type\u001b[49m\u001b[43m \u001b[49m\u001b[38;5;241;43m=\u001b[39;49m\u001b[43m \u001b[49m\u001b[38;5;124;43m\"\u001b[39;49m\u001b[38;5;124;43mmultiplicative\u001b[39;49m\u001b[38;5;124;43m\"\u001b[39;49m\u001b[43m,\u001b[49m\u001b[43m \u001b[49m\u001b[43mprecipitation_model_type\u001b[49m\u001b[43m \u001b[49m\u001b[38;5;241;43m=\u001b[39;49m\u001b[43m \u001b[49m\u001b[38;5;124;43m\"\u001b[39;49m\u001b[38;5;124;43mcensored\u001b[39;49m\u001b[38;5;124;43m\"\u001b[39;49m\u001b[43m,\u001b[49m\u001b[43m \u001b[49m\u001b[43mprecipitation_censoring_value\u001b[49m\u001b[43m \u001b[49m\u001b[38;5;241;43m=\u001b[39;49m\u001b[43m \u001b[49m\u001b[38;5;241;43m0.1\u001b[39;49m\u001b[43m)\u001b[49m\n\u001b[1;32m     23\u001b[0m \u001b[38;5;66;03m# Specifying all the arguments and an own model for the distribution (child-class of StatisticalModel needing only fit, cdf and ppf method) 1\u001b[39;00m\n\u001b[1;32m     24\u001b[0m left_censored_model \u001b[38;5;241m=\u001b[39m gen_PrecipitationGammaLeftCensoredModel(censoring_value \u001b[38;5;241m=\u001b[39m \u001b[38;5;241m0.1\u001b[39m)\n",
      "File \u001b[0;32m~/Desktop/ESoWC/isimipy/notebooks/../PACKAGE_NAME/debias/_quantile_mapping.py:104\u001b[0m, in \u001b[0;36mQuantileMapping.for_precipitation\u001b[0;34m(cls, precipitation_model_type, precipitation_amounts_distribution, precipitation_censoring_value, precipitation_hurdle_model_randomization, precipitation_hurdle_model_kwds_for_distribution_fit, **kwargs)\u001b[0m\n\u001b[1;32m     81\u001b[0m \u001b[38;5;124;03m\"\"\"\u001b[39;00m\n\u001b[1;32m     82\u001b[0m \u001b[38;5;124;03mInstanciates the class to a precipitation-debiaser. This allows granular setting of available precipitation models without needing to explicitly specify the precipitation censored model for example.\u001b[39;00m\n\u001b[1;32m     83\u001b[0m \n\u001b[0;32m   (...)\u001b[0m\n\u001b[1;32m    100\u001b[0m \n\u001b[1;32m    101\u001b[0m \u001b[38;5;124;03m\"\"\"\u001b[39;00m\n\u001b[1;32m    102\u001b[0m variable \u001b[38;5;241m=\u001b[39m pr\n\u001b[0;32m--> 104\u001b[0m \u001b[43mvariable\u001b[49m\u001b[38;5;241;43m.\u001b[39;49m\u001b[43mmethod\u001b[49m \u001b[38;5;241m=\u001b[39m map_standard_precipitation_method(\n\u001b[1;32m    105\u001b[0m     precipitation_model_type,\n\u001b[1;32m    106\u001b[0m     precipitation_amounts_distribution,\n\u001b[1;32m    107\u001b[0m     precipitation_censoring_value,\n\u001b[1;32m    108\u001b[0m     precipitation_hurdle_model_randomization,\n\u001b[1;32m    109\u001b[0m     precipitation_hurdle_model_kwds_for_distribution_fit,\n\u001b[1;32m    110\u001b[0m )\n\u001b[1;32m    111\u001b[0m parameters \u001b[38;5;241m=\u001b[39m {\n\u001b[1;32m    112\u001b[0m     \u001b[38;5;241m*\u001b[39m\u001b[38;5;241m*\u001b[39mdefault_settings[variable],\n\u001b[1;32m    113\u001b[0m     \u001b[38;5;124m\"\u001b[39m\u001b[38;5;124mdistribution\u001b[39m\u001b[38;5;124m\"\u001b[39m: variable\u001b[38;5;241m.\u001b[39mmethod,\n\u001b[1;32m    114\u001b[0m     \u001b[38;5;124m\"\u001b[39m\u001b[38;5;124mvariable\u001b[39m\u001b[38;5;124m\"\u001b[39m: variable\u001b[38;5;241m.\u001b[39mname,\n\u001b[1;32m    115\u001b[0m }\n\u001b[1;32m    116\u001b[0m \u001b[38;5;28;01mreturn\u001b[39;00m \u001b[38;5;28mcls\u001b[39m(\u001b[38;5;241m*\u001b[39m\u001b[38;5;241m*\u001b[39m{\u001b[38;5;241m*\u001b[39m\u001b[38;5;241m*\u001b[39mparameters, \u001b[38;5;241m*\u001b[39m\u001b[38;5;241m*\u001b[39mkwargs})\n",
      "File \u001b[0;32m~/anaconda3/envs/ibias4/lib/python3.9/site-packages/attr/_make.py:1084\u001b[0m, in \u001b[0;36m_ClassBuilder.add_setattr.<locals>.__setattr__\u001b[0;34m(self, name, val)\u001b[0m\n\u001b[1;32m   1081\u001b[0m \u001b[38;5;28;01melse\u001b[39;00m:\n\u001b[1;32m   1082\u001b[0m     nval \u001b[38;5;241m=\u001b[39m hook(\u001b[38;5;28mself\u001b[39m, a, val)\n\u001b[0;32m-> 1084\u001b[0m \u001b[43m_obj_setattr\u001b[49m\u001b[43m(\u001b[49m\u001b[38;5;28;43mself\u001b[39;49m\u001b[43m,\u001b[49m\u001b[43m \u001b[49m\u001b[43mname\u001b[49m\u001b[43m,\u001b[49m\u001b[43m \u001b[49m\u001b[43mnval\u001b[49m\u001b[43m)\u001b[49m\n",
      "\u001b[0;31mAttributeError\u001b[0m: 'Variable' object has no attribute 'method'"
     ]
    }
   ],
   "source": [
    "from scipy.stats import norm, laplace, gamma\n",
    "\n",
    "from PACKAGE_NAME.debias import QuantileMapping\n",
    "from PACKAGE_NAME.debias import QuantileDeltaMapping\n",
    "from PACKAGE_NAME.variables import tas, pr\n",
    "from PACKAGE_NAME.utils import gen_PrecipitationGammaLeftCensoredModel, gen_PrecipitationHurdleModel\n",
    "\n",
    "# Using a string and the required argument: maps to default settings\n",
    "temp_debiaser1 = QuantileMapping.from_variable(variable = \"t2m\", delta_type=\"no_delta\")\n",
    "\n",
    "# Using a string and the required argument: maps to default settings\n",
    "temp_debiaser2 = QuantileMapping.from_variable(variable = \"tas\", delta_type=\"additive\")\n",
    "\n",
    "# Using the variable class: maps to default settings\n",
    "temp_debiaser3 = QuantileMapping.from_variable(variable=tas, delta_type=\"additive\")\n",
    "\n",
    "# Using the variable class but overwriting the standard distribution\n",
    "temp_debiaser4 = QuantileMapping.from_variable(variable=tas, delta_type=\"additive\", distribution = laplace)\n",
    "\n",
    "# Using special initialisation for precipitation\n",
    "precip_debiaser1 = QuantileMapping.for_precipitation(delta_type = \"multiplicative\", precipitation_model_type = \"censored\", precipitation_censoring_value = 0.1)\n",
    "\n",
    "# Specifying all the arguments and an own model for the distribution (child-class of StatisticalModel needing only fit, cdf and ppf method) 1\n",
    "left_censored_model = gen_PrecipitationGammaLeftCensoredModel(censoring_value = 0.1)\n",
    "precip_debiaser2 = QuantileMapping(delta_type = \"multiplicative\", distribution = left_censored_model)\n",
    "\n",
    "# Using the for_precipitation method but an own model for the distribution (child-class of StatisticalModel needing only fit, cdf and ppf method) 2\n",
    "hurdle_model = gen_PrecipitationHurdleModel(distribution = gamma)\n",
    "precip_debiaser3 = QuantileMapping.for_precipitation(delta_type = \"multiplicative\", distribution = hurdle_model)\n",
    "\n",
    "# Using a variable, but overwriting the distribution\n",
    "hurdle_model = gen_PrecipitationHurdleModel(distribution = gamma)\n",
    "precip_debiaser4 = QuantileMapping.from_variable(variable = \"pr\", delta_type = \"multiplicative\", distribution = hurdle_model)\n"
   ]
  },
  {
   "cell_type": "code",
   "execution_count": 13,
   "metadata": {},
   "outputs": [
    {
     "data": {
      "text/plain": [
       "False"
      ]
     },
     "execution_count": 13,
     "metadata": {},
     "output_type": "execute_result"
    }
   ],
   "source": [
    "temp_debiaser1 == temp_debiaser2 # no because of different delta_type"
   ]
  },
  {
   "cell_type": "code",
   "execution_count": 14,
   "metadata": {},
   "outputs": [
    {
     "data": {
      "text/plain": [
       "True"
      ]
     },
     "execution_count": 14,
     "metadata": {},
     "output_type": "execute_result"
    }
   ],
   "source": [
    "temp_debiaser2 == temp_debiaser3 # yes"
   ]
  },
  {
   "cell_type": "code",
   "execution_count": 15,
   "metadata": {},
   "outputs": [
    {
     "data": {
      "text/plain": [
       "False"
      ]
     },
     "execution_count": 15,
     "metadata": {},
     "output_type": "execute_result"
    }
   ],
   "source": [
    "temp_debiaser3 == temp_debiaser4 # no because of different distribution"
   ]
  },
  {
   "cell_type": "code",
   "execution_count": 16,
   "metadata": {},
   "outputs": [
    {
     "data": {
      "text/plain": [
       "True"
      ]
     },
     "execution_count": 16,
     "metadata": {},
     "output_type": "execute_result"
    }
   ],
   "source": [
    "precip_debiaser1 == precip_debiaser2 # yes because same models, just differently specified"
   ]
  },
  {
   "cell_type": "code",
   "execution_count": 17,
   "metadata": {},
   "outputs": [
    {
     "data": {
      "text/plain": [
       "False"
      ]
     },
     "execution_count": 17,
     "metadata": {},
     "output_type": "execute_result"
    }
   ],
   "source": [
    "precip_debiaser2 == precip_debiaser3 # no because of different model: hurdle vs. censored"
   ]
  },
  {
   "cell_type": "code",
   "execution_count": 18,
   "metadata": {},
   "outputs": [
    {
     "data": {
      "text/plain": [
       "True"
      ]
     },
     "execution_count": 18,
     "metadata": {},
     "output_type": "execute_result"
    }
   ],
   "source": [
    "precip_debiaser3 == precip_debiaser4 # yes because same model, just differently specified"
   ]
  },
  {
   "cell_type": "code",
   "execution_count": null,
   "metadata": {},
   "outputs": [],
   "source": []
  },
  {
   "cell_type": "code",
   "execution_count": null,
   "metadata": {},
   "outputs": [],
   "source": []
  }
 ],
 "metadata": {
  "kernelspec": {
   "display_name": "ibias4",
   "language": "python",
   "name": "ibias4"
  },
  "language_info": {
   "codemirror_mode": {
    "name": "ipython",
    "version": 3
   },
   "file_extension": ".py",
   "mimetype": "text/x-python",
   "name": "python",
   "nbconvert_exporter": "python",
   "pygments_lexer": "ipython3",
   "version": "3.9.13"
  }
 },
 "nbformat": 4,
 "nbformat_minor": 4
}
