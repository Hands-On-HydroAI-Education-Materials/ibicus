{
 "cells": [
  {
   "cell_type": "markdown",
   "metadata": {},
   "source": [
    "# Setup and data loading"
   ]
  },
  {
   "cell_type": "code",
   "execution_count": null,
   "metadata": {},
   "outputs": [],
   "source": [
    "import sys\n",
    "sys.path.append(\"../\")  # path contains python_file.py"
   ]
  },
  {
   "cell_type": "code",
   "execution_count": 2,
   "metadata": {},
   "outputs": [],
   "source": [
    "import iris\n",
    "\n",
    "import numpy as np\n",
    "import scipy.stats"
   ]
  },
  {
   "cell_type": "code",
   "execution_count": 3,
   "metadata": {},
   "outputs": [],
   "source": [
    "%load_ext autoreload\n",
    "%autoreload 2"
   ]
  },
  {
   "cell_type": "code",
   "execution_count": 4,
   "metadata": {},
   "outputs": [
    {
     "name": "stderr",
     "output_type": "stream",
     "text": [
      "/home/jakobwes/anaconda3/lib/python3.8/site-packages/iris/fileformats/cf.py:859: UserWarning: Missing CF-netCDF measure variable 'areacella', referenced by netCDF variable 'tas'\n",
      "  warnings.warn(\n",
      "/home/jakobwes/anaconda3/lib/python3.8/site-packages/iris/fileformats/cf.py:859: UserWarning: Missing CF-netCDF measure variable 'areacella', referenced by netCDF variable 'tas'\n",
      "  warnings.warn(\n"
     ]
    }
   ],
   "source": [
    "era5 = iris.load(\"testing_data/ERA5.nc\")\n",
    "obs = era5[1]\n",
    "\n",
    "cm_hist = iris.load_cube(\n",
    "    \"testing_data/CMIP6/medium_area/historical_monthly_surface_temp_single_levels_IPSL-CM5A2-INCA/tas_Amon_IPSL-CM5A2-INCA_historical_r1i1p1f1_gr_19790116-20141216_v20200729.nc\"\n",
    ")\n",
    "cm_future = iris.load_cube(\n",
    "    \"testing_data/CMIP6/medium_area/SSP3-7_monthly_surface_temp_single_levels_IPSL-CM5A2-INCA/tas_Amon_IPSL-CM5A2-INCA_ssp370_r1i1p1f1_gr_20150116-20501216_v20201218.nc\"\n",
    ")"
   ]
  },
  {
   "cell_type": "code",
   "execution_count": 5,
   "metadata": {},
   "outputs": [],
   "source": [
    "# Regrid\n",
    "cm_hist = cm_hist.regrid(obs, iris.analysis.Linear())\n",
    "cm_future = cm_future.regrid(obs, iris.analysis.Linear())"
   ]
  },
  {
   "cell_type": "code",
   "execution_count": 6,
   "metadata": {},
   "outputs": [],
   "source": [
    "# Get data\n",
    "obs = obs.data[:, 0, :, :]\n",
    "cm_hist = cm_hist.data\n",
    "cm_future = cm_future.data"
   ]
  },
  {
   "cell_type": "markdown",
   "metadata": {},
   "source": [
    "# Show debiasers running through"
   ]
  },
  {
   "cell_type": "code",
   "execution_count": 8,
   "metadata": {},
   "outputs": [
    {
     "name": "stdout",
     "output_type": "stream",
     "text": [
      "----- Running debiasing -----\n"
     ]
    },
    {
     "name": "stderr",
     "output_type": "stream",
     "text": [
      "100%|██████████| 357/357 [00:00<00:00, 2161.51it/s]\n"
     ]
    },
    {
     "name": "stdout",
     "output_type": "stream",
     "text": [
      "----- Running debiasing -----\n"
     ]
    },
    {
     "name": "stderr",
     "output_type": "stream",
     "text": [
      "100%|██████████| 357/357 [00:00<00:00, 1797.68it/s]\n"
     ]
    },
    {
     "name": "stdout",
     "output_type": "stream",
     "text": [
      "----- Running debiasing -----\n"
     ]
    },
    {
     "name": "stderr",
     "output_type": "stream",
     "text": [
      "100%|██████████| 357/357 [00:00<00:00, 986.48it/s]\n"
     ]
    },
    {
     "name": "stdout",
     "output_type": "stream",
     "text": [
      "----- Running debiasing -----\n"
     ]
    },
    {
     "name": "stderr",
     "output_type": "stream",
     "text": [
      "100%|██████████| 357/357 [00:00<00:00, 1192.01it/s]\n"
     ]
    },
    {
     "name": "stdout",
     "output_type": "stream",
     "text": [
      "----- Running debiasing -----\n"
     ]
    },
    {
     "name": "stderr",
     "output_type": "stream",
     "text": [
      "100%|██████████| 357/357 [00:09<00:00, 39.25it/s]\n"
     ]
    },
    {
     "name": "stdout",
     "output_type": "stream",
     "text": [
      "----- Running debiasing -----\n"
     ]
    },
    {
     "name": "stderr",
     "output_type": "stream",
     "text": [
      "100%|██████████| 357/357 [00:00<00:00, 691.20it/s]\n"
     ]
    },
    {
     "name": "stdout",
     "output_type": "stream",
     "text": [
      "----- Running debiasing -----\n"
     ]
    },
    {
     "name": "stderr",
     "output_type": "stream",
     "text": [
      "100%|██████████| 357/357 [00:00<00:00, 6176.16it/s]\n"
     ]
    }
   ],
   "source": [
    "from scipy.stats import norm, laplace\n",
    "\n",
    "from PACKAGE_NAME.debias import QuantileMapping, QuantileDeltaMapping, ScaledDistributionMapping, LinearScaling, EquidistantCDFMatching\n",
    "\n",
    "distribution = norm\n",
    "\n",
    "temp_debiaser = QuantileMapping(distribution=norm, delta_type=\"no_delta\")\n",
    "debiased_cm1 = temp_debiaser.apply(obs, cm_hist, cm_future)\n",
    "\n",
    "temp_debiaser = QuantileMapping.from_variable(variable=\"temp\")\n",
    "debiased_cm2 = temp_debiaser.apply(obs, cm_hist, cm_future)\n",
    "\n",
    "temp_debiaser = QuantileMapping.from_variable(variable=\"temp\", delta_type=\"additive\", distribution = laplace)\n",
    "debiased_cm3 = temp_debiaser.apply(obs, cm_hist, cm_future)\n",
    "\n",
    "temp_debiaser = EquidistantCDFMatching.from_variable(variable = \"temp\", distribution = norm)\n",
    "debiased_cm4 = temp_debiaser.apply(obs, cm_hist, cm_future)\n",
    "\n",
    "temp_debiaser = QuantileDeltaMapping(distribution=norm, time_window_length=50)\n",
    "debiased_cm5 = temp_debiaser.apply(obs, cm_hist, cm_future)\n",
    "\n",
    "temp_debiaser = ScaledDistributionMapping.from_variable(variable = \"temp\")\n",
    "debiased_cm6 = temp_debiaser.apply(obs, cm_hist, cm_future)\n",
    "\n",
    "temp_debiaser = LinearScaling(delta_type = \"additive\")\n",
    "debiased_cm7 = temp_debiaser.apply(obs, cm_hist, cm_future)"
   ]
  },
  {
   "cell_type": "markdown",
   "metadata": {},
   "source": [
    "# Show different ways to initialize debiasers"
   ]
  },
  {
   "cell_type": "code",
   "execution_count": 9,
   "metadata": {},
   "outputs": [],
   "source": [
    "from scipy.stats import norm, laplace, gamma\n",
    "\n",
    "from PACKAGE_NAME.debias import QuantileMapping\n",
    "from PACKAGE_NAME.debias import QuantileDeltaMapping\n",
    "from PACKAGE_NAME.variables import Temperature, Precipitation\n",
    "from PACKAGE_NAME.utils import gen_PrecipitationGammaLeftCensoredModel, gen_PrecipitationHurdleModel\n",
    "\n",
    "# Using a string and the required argument: maps to default settings\n",
    "temp_debiaser1 = QuantileMapping.from_variable(variable = \"temp\", delta_type=\"no_delta\")\n",
    "\n",
    "# Using a string and the required argument: maps to default settings\n",
    "temp_debiaser2 = QuantileMapping.from_variable(variable = \"tas\", delta_type=\"additive\")\n",
    "\n",
    "# Using the variable class: maps to default settings\n",
    "temp_debiaser3 = QuantileMapping.from_variable(variable=Temperature, delta_type=\"additive\")\n",
    "\n",
    "# Using the variable class but overwriting the standard distribution\n",
    "temp_debiaser4 = QuantileMapping.from_variable(variable=Temperature, delta_type=\"additive\", distribution = laplace)\n",
    "\n",
    "# Using special initialisation for precipitation\n",
    "precip_debiaser1 = QuantileMapping.for_precipitation(delta_type = \"multiplicative\", precipitation_model_type = \"censored\", precipitation_censoring_value = 0.1)\n",
    "\n",
    "# Specifying all the arguments and an own model for the distribution (child-class of StatisticalModel needing only fit, cdf and ppf method) 1\n",
    "left_censored_model = gen_PrecipitationGammaLeftCensoredModel(censoring_value = 0.1)\n",
    "precip_debiaser2 = QuantileMapping(delta_type = \"multiplicative\", distribution = left_censored_model)\n",
    "\n",
    "# Using the for_precipitation method but an own model for the distribution (child-class of StatisticalModel needing only fit, cdf and ppf method) 2\n",
    "hurdle_model = gen_PrecipitationHurdleModel(distribution = gamma)\n",
    "precip_debiaser3 = QuantileMapping.for_precipitation(delta_type = \"multiplicative\", distribution = hurdle_model)\n",
    "\n",
    "# Using a variable, but overwriting the distribution\n",
    "hurdle_model = gen_PrecipitationHurdleModel(distribution = gamma)\n",
    "precip_debiaser4 = QuantileMapping.from_variable(variable = \"pr\", delta_type = \"multiplicative\", distribution = hurdle_model)\n"
   ]
  },
  {
   "cell_type": "code",
   "execution_count": 10,
   "metadata": {},
   "outputs": [
    {
     "data": {
      "text/plain": [
       "False"
      ]
     },
     "execution_count": 10,
     "metadata": {},
     "output_type": "execute_result"
    }
   ],
   "source": [
    "temp_debiaser1 == temp_debiaser2 # no because of different delta_type"
   ]
  },
  {
   "cell_type": "code",
   "execution_count": 11,
   "metadata": {},
   "outputs": [
    {
     "data": {
      "text/plain": [
       "True"
      ]
     },
     "execution_count": 11,
     "metadata": {},
     "output_type": "execute_result"
    }
   ],
   "source": [
    "temp_debiaser2 == temp_debiaser3 # yes"
   ]
  },
  {
   "cell_type": "code",
   "execution_count": 12,
   "metadata": {},
   "outputs": [
    {
     "data": {
      "text/plain": [
       "False"
      ]
     },
     "execution_count": 12,
     "metadata": {},
     "output_type": "execute_result"
    }
   ],
   "source": [
    "temp_debiaser3 == temp_debiaser4 # no because of different distribution"
   ]
  },
  {
   "cell_type": "code",
   "execution_count": 13,
   "metadata": {},
   "outputs": [
    {
     "data": {
      "text/plain": [
       "True"
      ]
     },
     "execution_count": 13,
     "metadata": {},
     "output_type": "execute_result"
    }
   ],
   "source": [
    "precip_debiaser1 == precip_debiaser2 # yes because same models, just differently specified"
   ]
  },
  {
   "cell_type": "code",
   "execution_count": 14,
   "metadata": {},
   "outputs": [
    {
     "data": {
      "text/plain": [
       "False"
      ]
     },
     "execution_count": 14,
     "metadata": {},
     "output_type": "execute_result"
    }
   ],
   "source": [
    "precip_debiaser2 == precip_debiaser3 # no because of different model: hurdle vs. censored"
   ]
  },
  {
   "cell_type": "code",
   "execution_count": 15,
   "metadata": {},
   "outputs": [
    {
     "data": {
      "text/plain": [
       "True"
      ]
     },
     "execution_count": 15,
     "metadata": {},
     "output_type": "execute_result"
    }
   ],
   "source": [
    "precip_debiaser3 == precip_debiaser4 # yes because same model, just differently specified"
   ]
  },
  {
   "cell_type": "code",
   "execution_count": null,
   "metadata": {},
   "outputs": [],
   "source": []
  }
 ],
 "metadata": {
  "kernelspec": {
   "display_name": "Python 3",
   "language": "python",
   "name": "python3"
  },
  "language_info": {
   "codemirror_mode": {
    "name": "ipython",
    "version": 3
   },
   "file_extension": ".py",
   "mimetype": "text/x-python",
   "name": "python",
   "nbconvert_exporter": "python",
   "pygments_lexer": "ipython3",
   "version": "3.8.5"
  }
 },
 "nbformat": 4,
 "nbformat_minor": 4
}
