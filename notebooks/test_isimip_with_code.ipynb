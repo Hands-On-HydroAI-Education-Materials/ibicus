{
 "cells": [
  {
   "cell_type": "code",
   "execution_count": 2,
   "metadata": {},
   "outputs": [],
   "source": [
    "import sys\n",
    "sys.path.append(\"../\")  # path contains python_file.py"
   ]
  },
  {
   "cell_type": "code",
   "execution_count": 3,
   "metadata": {},
   "outputs": [],
   "source": [
    "import iris\n",
    "\n",
    "import numpy as np\n",
    "import scipy.stats"
   ]
  },
  {
   "cell_type": "code",
   "execution_count": 4,
   "metadata": {},
   "outputs": [],
   "source": [
    "%load_ext autoreload\n",
    "%autoreload 2\n",
    "import PACKAGE_NAME.utils"
   ]
  },
  {
   "cell_type": "markdown",
   "metadata": {},
   "source": [
    "# Testing data my own"
   ]
  },
  {
   "cell_type": "code",
   "execution_count": 1,
   "metadata": {},
   "outputs": [
    {
     "ename": "NameError",
     "evalue": "name 'iris' is not defined",
     "output_type": "error",
     "traceback": [
      "\u001b[0;31m---------------------------------------------------------------------------\u001b[0m",
      "\u001b[0;31mNameError\u001b[0m                                 Traceback (most recent call last)",
      "Input \u001b[0;32mIn [1]\u001b[0m, in \u001b[0;36m<cell line: 1>\u001b[0;34m()\u001b[0m\n\u001b[0;32m----> 1\u001b[0m era5 \u001b[38;5;241m=\u001b[39m \u001b[43miris\u001b[49m\u001b[38;5;241m.\u001b[39mload(\u001b[38;5;124m\"\u001b[39m\u001b[38;5;124mtesting_data/ERA5.nc\u001b[39m\u001b[38;5;124m\"\u001b[39m)\n\u001b[1;32m      2\u001b[0m obs \u001b[38;5;241m=\u001b[39m era5[\u001b[38;5;241m0\u001b[39m]\n\u001b[1;32m      4\u001b[0m cm_hist \u001b[38;5;241m=\u001b[39m iris\u001b[38;5;241m.\u001b[39mload_cube(\n\u001b[1;32m      5\u001b[0m     \u001b[38;5;124m\"\u001b[39m\u001b[38;5;124mtesting_data/CMIP6/medium_area/historical_monthly_surface_temp_single_levels_IPSL-CM5A2-INCA/tas_Amon_IPSL-CM5A2-INCA_historical_r1i1p1f1_gr_19790116-20141216_v20200729.nc\u001b[39m\u001b[38;5;124m\"\u001b[39m\n\u001b[1;32m      6\u001b[0m )\n",
      "\u001b[0;31mNameError\u001b[0m: name 'iris' is not defined"
     ]
    }
   ],
   "source": [
    "era5 = iris.load(\"testing_data/ERA5.nc\")\n",
    "obs = era5[0]\n",
    "\n",
    "cm_hist = iris.load_cube(\n",
    "    \"testing_data/CMIP6/medium_area/historical_monthly_surface_temp_single_levels_IPSL-CM5A2-INCA/tas_Amon_IPSL-CM5A2-INCA_historical_r1i1p1f1_gr_19790116-20141216_v20200729.nc\"\n",
    ")\n",
    "cm_future = iris.load_cube(\n",
    "    \"testing_data/CMIP6/medium_area/SSP3-7_monthly_surface_temp_single_levels_IPSL-CM5A2-INCA/tas_Amon_IPSL-CM5A2-INCA_ssp370_r1i1p1f1_gr_20150116-20501216_v20201218.nc\"\n",
    ")"
   ]
  },
  {
   "cell_type": "code",
   "execution_count": 5,
   "metadata": {},
   "outputs": [],
   "source": [
    "# Regrid\n",
    "cm_hist = cm_hist.regrid(obs, iris.analysis.Linear())\n",
    "cm_future = cm_future.regrid(obs, iris.analysis.Linear())"
   ]
  },
  {
   "cell_type": "code",
   "execution_count": 6,
   "metadata": {},
   "outputs": [],
   "source": [
    "# Get data\n",
    "obs = np.array(obs.data[:, 0, :, :])\n",
    "cm_hist = cm_hist.data\n",
    "cm_future = cm_future.data"
   ]
  },
  {
   "cell_type": "markdown",
   "metadata": {},
   "source": [
    "Test ISIMIP:"
   ]
  },
  {
   "cell_type": "code",
   "execution_count": 7,
   "metadata": {},
   "outputs": [],
   "source": [
    "obs = obs[:, 1, 1]\n",
    "cm_hist = cm_hist[:, 1, 1]\n",
    "cm_future = cm_future[:, 1, 1]"
   ]
  },
  {
   "cell_type": "code",
   "execution_count": 8,
   "metadata": {},
   "outputs": [],
   "source": [
    "obs = obs[obs > 0]  # Two obs-outliers. Need to check for that."
   ]
  },
  {
   "cell_type": "markdown",
   "metadata": {},
   "source": [
    "# Testing data ISIMIP"
   ]
  },
  {
   "cell_type": "code",
   "execution_count": 9,
   "metadata": {},
   "outputs": [],
   "source": [
    "pr_obs = np.array(iris.load_cube(\"testing_data/ISIMIP/pr_obs-hist_coarse_1979-2014.nc\").data)\n",
    "pr_cm_hist = np.array(iris.load_cube(\"testing_data/ISIMIP/pr_sim-hist_coarse_1979-2014.nc\").data)\n",
    "pr_cm_future = np.array(iris.load_cube(\"testing_data/ISIMIP/pr_sim-fut_coarse_2065-2100.nc\").data)"
   ]
  },
  {
   "cell_type": "code",
   "execution_count": 57,
   "metadata": {},
   "outputs": [],
   "source": [
    "pr_obs = np.moveaxis(pr_obs, -1, 0)\n",
    "pr_cm_hist = np.moveaxis(pr_cm_hist, -1, 0)\n",
    "pr_cm_future = np.moveaxis(pr_cm_future, -1, 0)"
   ]
  },
  {
   "cell_type": "code",
   "execution_count": 58,
   "metadata": {},
   "outputs": [],
   "source": [
    "pr_obs = pr_obs[:, 0, 0]\n",
    "pr_cm_hist = pr_cm_hist[:, 0, 0]\n",
    "pr_cm_future = pr_cm_future[:, 0, 0]"
   ]
  },
  {
   "cell_type": "markdown",
   "metadata": {},
   "source": [
    "# My stuff"
   ]
  },
  {
   "cell_type": "code",
   "execution_count": 3,
   "metadata": {},
   "outputs": [],
   "source": [
    "from PACKAGE_NAME.debias import ISIMIP\n",
    "\n",
    "temp_debiaser = ISIMIP(variable=\"tas\")\n",
    "pr_debiaser = ISIMIP(variable = \"pr\")"
   ]
  },
  {
   "cell_type": "code",
   "execution_count": 60,
   "metadata": {},
   "outputs": [
    {
     "ename": "TypeError",
     "evalue": "only integer scalar arrays can be converted to a scalar index",
     "output_type": "error",
     "traceback": [
      "\u001b[0;31m---------------------------------------------------------------------------\u001b[0m",
      "\u001b[0;31mTypeError\u001b[0m                                 Traceback (most recent call last)",
      "\u001b[0;32m<ipython-input-60-0aeca3894303>\u001b[0m in \u001b[0;36m<module>\u001b[0;34m\u001b[0m\n\u001b[0;32m----> 1\u001b[0;31m \u001b[0mpr_adjusted\u001b[0m \u001b[0;34m=\u001b[0m \u001b[0mtemp_debiaser\u001b[0m\u001b[0;34m.\u001b[0m\u001b[0mapply_location\u001b[0m\u001b[0;34m(\u001b[0m\u001b[0mpr_obs\u001b[0m\u001b[0;34m,\u001b[0m \u001b[0mpr_cm_hist\u001b[0m\u001b[0;34m,\u001b[0m \u001b[0mpr_cm_future\u001b[0m\u001b[0;34m)\u001b[0m\u001b[0;34m\u001b[0m\u001b[0;34m\u001b[0m\u001b[0m\n\u001b[0m",
      "\u001b[0;32m~/Desktop/ESoWC/isimipy/PACKAGE_NAME/isimip.py\u001b[0m in \u001b[0;36mapply_location\u001b[0;34m(self, obs, cm_hist, cm_future)\u001b[0m\n\u001b[1;32m    483\u001b[0m         \u001b[0mobs\u001b[0m\u001b[0;34m,\u001b[0m \u001b[0mcm_hist\u001b[0m\u001b[0;34m,\u001b[0m \u001b[0mcm_future\u001b[0m\u001b[0;34m,\u001b[0m \u001b[0mtrend\u001b[0m \u001b[0;34m=\u001b[0m \u001b[0mself\u001b[0m\u001b[0;34m.\u001b[0m\u001b[0mstep3\u001b[0m\u001b[0;34m(\u001b[0m\u001b[0mobs\u001b[0m\u001b[0;34m,\u001b[0m \u001b[0mcm_hist\u001b[0m\u001b[0;34m,\u001b[0m \u001b[0mcm_future\u001b[0m\u001b[0;34m)\u001b[0m\u001b[0;34m\u001b[0m\u001b[0;34m\u001b[0m\u001b[0m\n\u001b[1;32m    484\u001b[0m         \u001b[0mobs\u001b[0m\u001b[0;34m,\u001b[0m \u001b[0mcm_hist\u001b[0m\u001b[0;34m,\u001b[0m \u001b[0mcm_future\u001b[0m \u001b[0;34m=\u001b[0m \u001b[0mself\u001b[0m\u001b[0;34m.\u001b[0m\u001b[0mstep4\u001b[0m\u001b[0;34m(\u001b[0m\u001b[0mobs\u001b[0m\u001b[0;34m,\u001b[0m \u001b[0mcm_hist\u001b[0m\u001b[0;34m,\u001b[0m \u001b[0mcm_future\u001b[0m\u001b[0;34m)\u001b[0m\u001b[0;34m\u001b[0m\u001b[0;34m\u001b[0m\u001b[0m\n\u001b[0;32m--> 485\u001b[0;31m         \u001b[0mobs_future\u001b[0m \u001b[0;34m=\u001b[0m \u001b[0mself\u001b[0m\u001b[0;34m.\u001b[0m\u001b[0mstep5\u001b[0m\u001b[0;34m(\u001b[0m\u001b[0mobs\u001b[0m\u001b[0;34m,\u001b[0m \u001b[0mcm_hist\u001b[0m\u001b[0;34m,\u001b[0m \u001b[0mcm_future\u001b[0m\u001b[0;34m)\u001b[0m\u001b[0;34m\u001b[0m\u001b[0;34m\u001b[0m\u001b[0m\n\u001b[0m\u001b[1;32m    486\u001b[0m         \u001b[0mcm_future\u001b[0m \u001b[0;34m=\u001b[0m \u001b[0mself\u001b[0m\u001b[0;34m.\u001b[0m\u001b[0mstep6\u001b[0m\u001b[0;34m(\u001b[0m\u001b[0mobs\u001b[0m\u001b[0;34m,\u001b[0m \u001b[0mobs_future\u001b[0m\u001b[0;34m,\u001b[0m \u001b[0mcm_hist\u001b[0m\u001b[0;34m,\u001b[0m \u001b[0mcm_future\u001b[0m\u001b[0;34m)\u001b[0m\u001b[0;34m\u001b[0m\u001b[0;34m\u001b[0m\u001b[0m\n\u001b[1;32m    487\u001b[0m         \u001b[0mcm_future\u001b[0m \u001b[0;34m=\u001b[0m \u001b[0mself\u001b[0m\u001b[0;34m.\u001b[0m\u001b[0mstep7\u001b[0m\u001b[0;34m(\u001b[0m\u001b[0mcm_future\u001b[0m\u001b[0;34m,\u001b[0m \u001b[0mtrend\u001b[0m\u001b[0;34m)\u001b[0m\u001b[0;34m\u001b[0m\u001b[0;34m\u001b[0m\u001b[0m\n",
      "\u001b[0;32m~/Desktop/ESoWC/isimipy/PACKAGE_NAME/isimip.py\u001b[0m in \u001b[0;36mstep6\u001b[0;34m(self, obs_hist, obs_future, cm_hist, cm_future)\u001b[0m\n\u001b[1;32m    436\u001b[0m             cm_future_sorted = self._step6_values_between_thresholds(\n\u001b[1;32m    437\u001b[0m                 \u001b[0mobs_hist_sorted\u001b[0m\u001b[0;34m,\u001b[0m \u001b[0mobs_future_sorted\u001b[0m\u001b[0;34m,\u001b[0m \u001b[0mcm_hist_sorted\u001b[0m\u001b[0;34m,\u001b[0m \u001b[0mcm_future_sorted\u001b[0m\u001b[0;34m\u001b[0m\u001b[0;34m\u001b[0m\u001b[0m\n\u001b[0;32m--> 438\u001b[0;31m             )\n\u001b[0m\u001b[1;32m    439\u001b[0m             \u001b[0;32mreturn\u001b[0m \u001b[0mcm_future_sorted\u001b[0m\u001b[0;34m[\u001b[0m\u001b[0mreverse_sorting_idx\u001b[0m\u001b[0;34m]\u001b[0m\u001b[0;34m\u001b[0m\u001b[0;34m\u001b[0m\u001b[0m\n\u001b[1;32m    440\u001b[0m \u001b[0;34m\u001b[0m\u001b[0m\n",
      "\u001b[0;31mTypeError\u001b[0m: only integer scalar arrays can be converted to a scalar index"
     ]
    }
   ],
   "source": [
    "pr_adjusted = temp_debiaser.apply_location(pr_obs, pr_cm_hist, pr_cm_future)"
   ]
  },
  {
   "cell_type": "code",
   "execution_count": 80,
   "metadata": {},
   "outputs": [],
   "source": [
    "# Comparison of my code with ISIMIP"
   ]
  },
  {
   "cell_type": "markdown",
   "metadata": {},
   "source": [
    "## 1. Look at pseudo future observations\n",
    "\n",
    "In ISIMIP this is generated by `uf.map_quantiles_non_parametric_trend_preserving` with `adjust_obs = True`. By my code by step5"
   ]
  },
  {
   "cell_type": "code",
   "execution_count": 4,
   "metadata": {},
   "outputs": [
    {
     "ename": "NameError",
     "evalue": "name 'obs' is not defined",
     "output_type": "error",
     "traceback": [
      "\u001b[0;31m---------------------------------------------------------------------------\u001b[0m",
      "\u001b[0;31mNameError\u001b[0m                                 Traceback (most recent call last)",
      "\u001b[0;32m<ipython-input-4-b685cb2264bd>\u001b[0m in \u001b[0;36m<module>\u001b[0;34m\u001b[0m\n\u001b[1;32m      1\u001b[0m \u001b[0;32mimport\u001b[0m \u001b[0mPACKAGE_NAME\u001b[0m\u001b[0;34m.\u001b[0m\u001b[0mcode_isimip\u001b[0m\u001b[0;34m.\u001b[0m\u001b[0mutility_functions\u001b[0m \u001b[0;32mas\u001b[0m \u001b[0muf\u001b[0m\u001b[0;34m\u001b[0m\u001b[0;34m\u001b[0m\u001b[0m\n\u001b[1;32m      2\u001b[0m \u001b[0;34m\u001b[0m\u001b[0m\n\u001b[0;32m----> 3\u001b[0;31m \u001b[0madjusted_obs\u001b[0m \u001b[0;34m=\u001b[0m \u001b[0mtemp_debiaser\u001b[0m\u001b[0;34m.\u001b[0m\u001b[0mstep5\u001b[0m\u001b[0;34m(\u001b[0m\u001b[0mobs\u001b[0m\u001b[0;34m,\u001b[0m \u001b[0mcm_hist\u001b[0m\u001b[0;34m,\u001b[0m \u001b[0mcm_future\u001b[0m\u001b[0;34m)\u001b[0m\u001b[0;34m\u001b[0m\u001b[0;34m\u001b[0m\u001b[0m\n\u001b[0m\u001b[1;32m      4\u001b[0m adjusted_obs_isimip_hopefully = uf.map_quantiles_non_parametric_trend_preserving(\n\u001b[1;32m      5\u001b[0m             \u001b[0mobs\u001b[0m\u001b[0;34m,\u001b[0m \u001b[0mcm_hist\u001b[0m\u001b[0;34m,\u001b[0m \u001b[0mcm_future\u001b[0m\u001b[0;34m,\u001b[0m \u001b[0;34m\"additive\"\u001b[0m\u001b[0;34m,\u001b[0m \u001b[0;36m431\u001b[0m\u001b[0;34m,\u001b[0m\u001b[0;34m\u001b[0m\u001b[0;34m\u001b[0m\u001b[0m\n",
      "\u001b[0;31mNameError\u001b[0m: name 'obs' is not defined"
     ]
    }
   ],
   "source": [
    "import PACKAGE_NAME.code_isimip.utility_functions as uf\n",
    "\n",
    "adjusted_obs = temp_debiaser.step5(obs, cm_hist, cm_future)\n",
    "adjusted_obs_isimip_hopefully = uf.map_quantiles_non_parametric_trend_preserving(\n",
    "            obs, cm_hist, cm_future, \"additive\", 431,\n",
    "            100., 9.,\n",
    "            True, None, None)"
   ]
  },
  {
   "cell_type": "code",
   "execution_count": 82,
   "metadata": {},
   "outputs": [
    {
     "data": {
      "text/plain": [
       "0.6362448962064491"
      ]
     },
     "execution_count": 82,
     "metadata": {},
     "output_type": "execute_result"
    }
   ],
   "source": [
    "np.max(np.abs(adjusted_obs-adjusted_obs_isimip_hopefully))"
   ]
  },
  {
   "cell_type": "code",
   "execution_count": 83,
   "metadata": {},
   "outputs": [],
   "source": [
    "from math_helpers import IECDF\n",
    "from statsmodels.distributions.empirical_distribution import ECDF\n",
    "\n",
    "# ISIMIP\n",
    "n_quantiles = 431\n",
    "n = min([n_quantiles + 1, obs.size, cm_hist.size, cm_future.size])\n",
    "p_zeroone = np.linspace(0., 1., n)\n",
    "\n",
    "# compute quantiles of input data\n",
    "q_obs_hist = uf.percentile1d(obs, p_zeroone)\n",
    "q_sim_hist = uf.percentile1d(cm_hist, p_zeroone)\n",
    "q_sim_fut = uf.percentile1d(cm_future, p_zeroone)\n",
    "\n",
    "p = np.interp(obs, q_obs_hist, p_zeroone)\n",
    "\n",
    "F_sim_fut_inv  = np.interp(p, p_zeroone, q_sim_fut)\n",
    "F_sim_hist_inv = np.interp(p, p_zeroone, q_sim_hist)\n",
    "F_obs_hist_inv = np.interp(p, p_zeroone, q_obs_hist)"
   ]
  },
  {
   "cell_type": "code",
   "execution_count": 84,
   "metadata": {},
   "outputs": [],
   "source": [
    "# My stuff:\n",
    "\n",
    "# Compute p = F_obs_hist(x) with x in obs_hist\n",
    "ecdf_obs_hist = ECDF(obs)\n",
    "p = ecdf_obs_hist(obs)\n",
    "\n",
    "# Compute iecdfs\n",
    "iecdf_cm_hist = IECDF(cm_hist)\n",
    "iecdf_cm_future = IECDF(cm_future)\n",
    "\n",
    "# Compute q-vals\n",
    "q_obs_hist = obs  # TODO: = iecdf_obs_hist(p), appears in eq. 7\n",
    "q_cm_future = iecdf_cm_future(p)\n",
    "q_cm_hist = iecdf_cm_hist(p)"
   ]
  },
  {
   "cell_type": "code",
   "execution_count": 85,
   "metadata": {},
   "outputs": [
    {
     "data": {
      "text/plain": [
       "0.0"
      ]
     },
     "execution_count": 85,
     "metadata": {},
     "output_type": "execute_result"
    }
   ],
   "source": [
    "# Comparison:\n",
    "np.abs(np.max(q_sim_hist-np.quantile(np.array(cm_hist), p_zeroone)))"
   ]
  },
  {
   "cell_type": "markdown",
   "metadata": {},
   "source": [
    "Learning: ISIMIP other than written does not use the empirical inverse cdf, but uses linear interpolation. In addition ISIMIP only uses 432 quantiles (the ones of the smallest array) that are then interpolated up to 518 of the observations. Question is: do we start from the grid or the observations for the ecdf."
   ]
  },
  {
   "cell_type": "code",
   "execution_count": 86,
   "metadata": {},
   "outputs": [
    {
     "data": {
      "text/plain": [
       "array([ 0.00000000e+00,  5.14823401e-05, -5.38294645e-04,  8.63237998e-04,\n",
       "       -1.01117235e-03, -2.15622912e-04, -2.34727714e-05,  8.04180659e-04,\n",
       "        4.46804394e-06, -1.14022554e-03,  7.27352984e-04, -5.66432013e-04,\n",
       "       -6.20426937e-05, -4.25516667e-04, -4.25516667e-04, -1.07993551e-03,\n",
       "        1.66068594e-05,  6.30361299e-05, -6.03482004e-05, -3.66194216e-04,\n",
       "        9.27886997e-04, -7.84149720e-05, -1.47420344e-03,  2.29045966e-04,\n",
       "       -9.09888770e-05,  3.20183809e-04, -8.32643721e-05,  4.72102255e-04,\n",
       "       -9.63384122e-04,  1.42679402e-04, -1.06805684e-04, -3.09789583e-04,\n",
       "       -1.57512933e-04,  2.18688421e-04, -7.27800777e-04, -1.28423319e-03,\n",
       "       -1.08453560e-04, -3.03714504e-04, -3.44712056e-04, -7.53418380e-04,\n",
       "        2.43860535e-04, -6.54075482e-05, -1.32311359e-04, -4.54744743e-04,\n",
       "        2.28333565e-05, -1.00989938e-03,  4.94954986e-04, -1.40023159e-03,\n",
       "       -1.57071001e-04,  2.93046030e-04, -8.38472093e-04,  8.13218957e-04,\n",
       "        2.33897908e-04, -1.43567707e-04, -3.00700278e-04, -3.37880657e-04,\n",
       "        6.51587811e-04, -3.95445483e-04, -3.93959238e-04, -1.02554016e-03,\n",
       "       -1.83091574e-04, -1.48067574e-04, -5.05349173e-04, -4.32926799e-04,\n",
       "       -1.04948125e-04, -4.04368554e-04, -2.20598368e-04, -5.13565049e-04,\n",
       "       -1.03668669e-04, -3.95847046e-04, -7.68790408e-04, -4.27906587e-04,\n",
       "       -2.37071542e-04,  1.16488916e-03, -8.10260077e-04,  5.21763198e-04,\n",
       "       -9.85017375e-05, -7.06109649e-04, -2.44629082e-04, -6.09142554e-04,\n",
       "       -1.49335526e-04,  6.89798693e-04, -1.37512811e-03,  1.89341790e-05,\n",
       "       -3.90159629e-04,  9.55432962e-04, -2.29516676e-04, -1.32930188e-03,\n",
       "        3.84704101e-04, -1.34556598e-04, -4.00046664e-04, -5.14086537e-04,\n",
       "       -8.20018844e-04,  2.12491663e-04, -1.42480526e-03,  5.88560526e-05,\n",
       "       -4.93871976e-04, -3.22302098e-05, -1.74362396e-04, -7.85551891e-04,\n",
       "       -1.36431153e-04, -5.53159642e-05, -3.83729550e-04, -6.56975783e-04,\n",
       "       -2.83215696e-04,  5.92470152e-04, -6.14007651e-04, -1.64656252e-03,\n",
       "       -3.63924162e-04,  5.74623619e-04, -2.83771192e-04, -1.21233452e-03,\n",
       "       -6.36865428e-06, -4.66370694e-04, -3.77897394e-04, -4.05653644e-04,\n",
       "       -1.06110299e-03,  5.22486533e-04, -3.68028044e-04, -5.53091723e-04,\n",
       "       -6.25829207e-04,  1.83776006e-04, -9.50679713e-04, -1.37938306e-04,\n",
       "        1.91282791e-04, -1.22257537e-03, -4.17228832e-04, -4.78846960e-04,\n",
       "       -9.90218652e-04, -4.13590093e-04, -1.82554102e-06, -6.62745444e-04,\n",
       "       -4.86550289e-04,  1.14229252e-03, -9.59946551e-04, -1.53444943e-04,\n",
       "       -1.61929640e-03, -1.24002778e-04, -4.90641990e-04, -7.89466214e-04,\n",
       "        7.45942128e-04, -3.65795029e-04, -4.15158481e-04, -8.95007615e-04,\n",
       "       -4.59296904e-04, -7.99759857e-04, -1.20936316e-03, -1.20936316e-03,\n",
       "       -8.35203554e-04, -2.75745998e-04, -1.05144763e-03,  3.16624606e-04,\n",
       "       -2.95349856e-04, -9.82071610e-04, -1.85161157e-03, -2.26180185e-04,\n",
       "       -7.77182713e-04, -1.37003363e-04,  5.90379277e-04, -1.31730870e-03,\n",
       "        4.05580587e-05, -1.11610477e-03, -6.51627677e-04, -8.05492992e-04,\n",
       "        7.61892050e-04, -7.45219719e-04, -1.30269852e-04, -1.84145372e-03,\n",
       "       -6.75947998e-04,  4.73104718e-05, -7.91694614e-04, -2.81774096e-04,\n",
       "       -7.32807201e-04, -5.53526680e-04, -5.99164631e-04, -6.77833594e-04,\n",
       "       -1.23504220e-03,  2.07596632e-04, -1.39685987e-03, -2.93005189e-04,\n",
       "       -8.53386652e-04, -1.44738448e-04,  4.51123655e-05, -1.64463636e-03,\n",
       "       -6.29472311e-04, -2.32311237e-04, -6.45906871e-04, -8.25082770e-04,\n",
       "       -1.18107545e-03,  3.18861307e-04, -1.19934901e-03, -1.06574441e-03,\n",
       "       -6.74388436e-04, -5.58768538e-04, -7.76044995e-04, -1.30603078e-03,\n",
       "       -5.70327913e-04, -5.03311442e-04, -9.55129092e-04, -5.74374036e-04,\n",
       "       -3.52865411e-04,  8.33904110e-07, -1.54465194e-03, -9.24618175e-04,\n",
       "       -8.69702646e-04,  4.00248826e-04, -1.33626311e-03, -4.04052281e-04,\n",
       "       -1.34292366e-03, -1.81840495e-03, -6.32807664e-04, -6.07605289e-04,\n",
       "       -1.20389319e-03, -1.05777449e-03,  4.72344963e-05, -6.75018019e-04,\n",
       "       -1.88839127e-03, -4.97804492e-04, -1.12395621e-03, -5.91515734e-04,\n",
       "       -6.39027053e-04, -1.96727982e-03, -7.01582839e-04, -8.73340838e-04,\n",
       "       -1.36672881e-03,  4.07169867e-04, -1.24186914e-03, -8.15321218e-04,\n",
       "       -8.66823299e-04, -5.71256234e-04, -1.07741429e-03, -1.36768756e-03,\n",
       "       -2.19167072e-04, -1.45082620e-03, -8.63576635e-04, -1.03494537e-03,\n",
       "        4.38564546e-04, -1.85016766e-03,  5.39759265e-05, -1.11629324e-03,\n",
       "       -8.66683599e-04, -1.08684022e-03,  4.81737431e-04, -1.51564606e-03,\n",
       "       -6.22144718e-04, -9.88390432e-04, -8.31998987e-04, -1.12044099e-03,\n",
       "        7.49716503e-04, -1.62057667e-03, -1.74111715e-03, -6.42560039e-04,\n",
       "       -8.10043375e-04, -9.62977309e-04, -1.00753162e-03, -8.15788539e-04,\n",
       "       -9.55915850e-04, -1.46137734e-03, -9.48580373e-04, -7.24563085e-04,\n",
       "       -1.37471840e-03, -1.87985450e-03, -3.01095959e-05, -1.08788673e-03,\n",
       "       -1.20099130e-03, -5.74440346e-04, -1.23693774e-03, -1.16867783e-03,\n",
       "       -1.32307258e-03, -5.48027912e-04, -1.05092550e-03, -8.62511585e-04,\n",
       "       -1.57227447e-03,  2.73163973e-05, -1.25677317e-03, -5.81831600e-04,\n",
       "       -1.16429648e-03, -9.14819970e-04, -1.03342877e-03, -1.48000531e-03,\n",
       "       -2.48402898e-04, -2.46485934e-03, -8.98176901e-04, -1.20711330e-03,\n",
       "       -1.17532754e-04, -1.60502148e-03, -8.69635259e-04, -1.11307752e-03,\n",
       "       -9.01113853e-04, -1.23882355e-03,  3.35790145e-04, -2.02904263e-03,\n",
       "       -2.02904263e-03, -2.45788166e-03, -8.96770899e-04, -1.22272517e-03,\n",
       "       -8.73235762e-04, -1.30048360e-03, -1.72441101e-03, -7.18575612e-04,\n",
       "       -9.64603169e-04, -1.18238889e-03, -1.47877764e-03, -9.10227248e-04,\n",
       "       -1.78497935e-03, -6.90450020e-04, -2.14052067e-03, -1.22825442e-03,\n",
       "        2.81497209e-04, -1.98745778e-03, -1.03280111e-03, -6.24549841e-04,\n",
       "       -1.14849521e-03, -1.25811569e-03, -8.24580713e-04, -2.07816180e-03,\n",
       "       -2.04409757e-04, -1.74943726e-03, -9.92628189e-04, -1.30872718e-03,\n",
       "       -1.58603964e-03, -1.82301412e-03, -7.38057032e-04, -7.38214737e-04,\n",
       "       -1.15668179e-03, -7.96607500e-04, -1.18204230e-03, -1.33564069e-03,\n",
       "       -1.95687177e-03, -2.27585774e-03, -1.03301389e-03, -1.24763413e-03,\n",
       "       -8.66982147e-04, -4.95831881e-04, -2.37283379e-03, -6.60425732e-04,\n",
       "       -1.29270078e-03, -1.32307810e-03, -1.59673233e-03, -2.61505055e-04,\n",
       "       -2.35739869e-03, -7.06215754e-04, -1.75225739e-03, -1.33238134e-03,\n",
       "       -1.48081897e-03, -3.55197699e-04, -1.79840987e-03, -1.53066709e-03,\n",
       "       -1.19698203e-03, -1.32900285e-03, -1.04640911e-03, -2.12398646e-03,\n",
       "       -5.43230943e-04, -1.19632917e-03, -1.30875282e-03, -1.38393366e-03,\n",
       "       -6.61698714e-04, -1.36714156e-03, -1.44965751e-03, -2.23389866e-03,\n",
       "       -1.13532979e-03, -1.32870632e-03, -8.97387081e-04, -1.26226217e-03,\n",
       "       -2.15811661e-03, -1.11929638e-03, -1.44881038e-03, -5.66087159e-04,\n",
       "       -1.83583766e-03, -4.95507478e-04, -9.08113010e-04, -2.94409003e-03,\n",
       "       -1.13011533e-03, -1.47959516e-03, -5.73223032e-04, -1.27555288e-03,\n",
       "       -1.28938958e-03, -1.61053084e-03, -1.47296161e-03, -1.39275404e-03,\n",
       "       -1.79843213e-03, -1.72725255e-03, -1.51556447e-03, -9.72069309e-04,\n",
       "       -1.23698812e-03, -1.38496130e-03, -1.62126391e-03, -1.64878013e-03,\n",
       "       -1.93320454e-03, -1.01791013e-03, -1.86724289e-03, -1.04939742e-03,\n",
       "       -1.76055044e-03, -2.12797622e-03, -4.89256592e-04, -1.64065698e-03,\n",
       "       -1.82615478e-03, -1.34054974e-03, -1.95400882e-03, -1.10387538e-04,\n",
       "       -2.36446405e-03, -1.87038809e-03, -1.33428579e-03, -1.55686815e-03,\n",
       "       -1.67512529e-04, -1.85210356e-03, -2.27382314e-03, -9.46756260e-04,\n",
       "       -2.93024683e-03, -1.49862243e-03, -1.99768877e-03, -1.99768877e-03,\n",
       "       -1.68400601e-03, -1.47890824e-03, -1.35075349e-03, -1.29793397e-03,\n",
       "       -1.95515320e-03, -1.19268721e-03, -9.32689561e-04, -1.75703748e-03,\n",
       "       -1.69002549e-03, -1.64383807e-03, -1.64383807e-03, -1.70758192e-03,\n",
       "       -2.35383032e-03, -9.42898453e-04, -1.71193555e-03, -1.65523322e-03,\n",
       "       -9.30728493e-06, -2.27469511e-03, -1.19157989e-03, -1.75077559e-03,\n",
       "       -1.77539857e-03, -1.67442741e-03, -5.90244812e-04, -2.19627994e-03,\n",
       "       -7.39619104e-04, -1.41691128e-03, -1.94671911e-03, -1.66953673e-03,\n",
       "       -4.10640748e-04, -2.13700484e-03, -2.74739523e-03, -9.83877112e-04,\n",
       "       -1.65075749e-03, -1.70150759e-03, -1.90136555e-03, -4.98869250e-04,\n",
       "       -1.43869362e-03, -3.23156098e-03, -1.35129347e-03, -1.72233748e-03,\n",
       "       -9.40662856e-04, -2.35482883e-03, -1.27485090e-03, -1.95990149e-03,\n",
       "       -1.38952068e-03, -1.69129389e-03, -2.07053281e-03, -1.33880258e-03,\n",
       "       -2.03682183e-03, -1.77516491e-03, -1.47968119e-03, -1.75950240e-03,\n",
       "       -8.19504497e-04, -1.21588022e-03, -2.09455832e-03, -2.95088889e-03,\n",
       "       -1.44106980e-03, -1.74368811e-03, -1.96254813e-03, -1.28092160e-03,\n",
       "       -2.51868605e-03, -1.83208576e-03, -1.50037231e-03, -1.76128173e-03,\n",
       "       -2.01504443e-03, -2.07549157e-03, -2.72307622e-03, -1.13160976e-03,\n",
       "       -1.50617769e-03, -1.82178868e-03, -1.34689469e-03, -5.62419632e-04,\n",
       "       -2.54376055e-03, -2.32367262e-03, -1.76850222e-03, -1.82763010e-03,\n",
       "       -1.00263473e-03, -1.42247885e-03, -2.32461170e-03, -1.38147153e-03,\n",
       "       -3.56124667e-03, -1.83666707e-03, -1.70096844e-03, -2.01109141e-03,\n",
       "       -2.16737733e-03, -1.61630587e-03, -1.94368369e-03, -1.82164537e-03,\n",
       "       -2.24460186e-03, -5.90054103e-04, -2.69481445e-03, -1.20932131e-03,\n",
       "       -2.01728265e-03, -1.88146194e-03, -2.16774954e-03, -1.22009698e-03,\n",
       "       -2.25403672e-03, -2.00779889e-03, -3.35218611e-03, -1.90145389e-03,\n",
       "       -4.13587256e-04, -2.69105421e-03, -7.92685309e-04, -1.23002261e-03,\n",
       "       -2.03929900e-03, -1.93050193e-03])"
      ]
     },
     "execution_count": 86,
     "metadata": {},
     "output_type": "execute_result"
    }
   ],
   "source": [
    "ecdf_obs = ECDF(obs, side = \"left\")\n",
    "obs_sorted = np.sort(obs)\n",
    "\n",
    "# ISIMIP\n",
    "n_quantiles = 431\n",
    "n = min([n_quantiles + 1, obs.size, cm_hist.size, cm_future.size])\n",
    "p_zeroone = np.linspace(0., 1., n)\n",
    "\n",
    "# compute quantiles of input data\n",
    "q_obs_hist = uf.percentile1d(obs_sorted, p_zeroone)\n",
    "q_sim_hist = uf.percentile1d(cm_hist, p_zeroone)\n",
    "q_sim_fut = uf.percentile1d(cm_future, p_zeroone)\n",
    "\n",
    "p = np.interp(obs_sorted, q_obs_hist, p_zeroone)\n",
    "\n",
    "F_sim_fut_inv  = np.interp(p, p_zeroone, q_sim_fut)\n",
    "F_sim_hist_inv = np.interp(p, p_zeroone, q_sim_hist)\n",
    "F_obs_hist_inv = np.interp(p, p_zeroone, q_obs_hist)\n",
    "\n",
    "ecdf_obs(obs_sorted)-p\n",
    "\n",
    "#F_obs_hist_inv-np.quantile(np.array(obs), ecdf_obs(obs))"
   ]
  },
  {
   "cell_type": "markdown",
   "metadata": {},
   "source": [
    "ecdf_obs(obs) should be in theory the same as p. However this is not the case. Partly because of numerical issues: ECDF operates on the line-segment $[a, b)$ so that the highest value is not one. This is different than p_zeroone. However also because of the interpolation. This however is a problem because ecdf with interpolation does not converge always: https://stats.stackexchange.com/questions/230458/why-does-ecdf-uses-a-step-function-and-not-a-linear-interpolation"
   ]
  },
  {
   "cell_type": "code",
   "execution_count": 87,
   "metadata": {},
   "outputs": [
    {
     "data": {
      "text/plain": [
       "2.7144952952085077e-14"
      ]
     },
     "execution_count": 87,
     "metadata": {},
     "output_type": "execute_result"
    }
   ],
   "source": [
    "# ISIMIP\n",
    "n_quantiles = 431\n",
    "n = min([n_quantiles + 1, obs.size, cm_hist.size, cm_future.size])\n",
    "p_zeroone = np.linspace(0., 1., n)\n",
    "\n",
    "# compute quantiles of input data\n",
    "q_obs_hist = uf.percentile1d(obs, p_zeroone)\n",
    "q_sim_hist = uf.percentile1d(cm_hist, p_zeroone)\n",
    "q_sim_fut = uf.percentile1d(cm_future, p_zeroone)\n",
    "\n",
    "p = np.interp(obs, q_obs_hist, p_zeroone)\n",
    "\n",
    "\n",
    "# My ISIMIP interpretation:\n",
    "def isimip_ecdf(x, n_gridpoints):\n",
    "    p_grid = np.linspace(0., 1., n_gridpoints)\n",
    "    q_vals_for_p_grid = np.quantile(x, p_grid)\n",
    "    return np.interp(x, q_vals_for_p_grid, p_grid)\n",
    "\n",
    "np.max(np.abs(isimip_ecdf(obs, n)-p))"
   ]
  },
  {
   "cell_type": "markdown",
   "metadata": {},
   "source": [
    "The linear interpolation can be used, but is problematic statistically. Not even if n_gridpoints = x.size it is equivalent to the step-function.\n",
    "I could use the isimip_ecdf in my code in which case it would be:"
   ]
  },
  {
   "cell_type": "code",
   "execution_count": 88,
   "metadata": {},
   "outputs": [],
   "source": [
    "# ISIMIP\n",
    "n_quantiles = 431\n",
    "n = min([n_quantiles + 1, obs.size, cm_hist.size, cm_future.size])\n",
    "p_zeroone = np.linspace(0., 1., n)\n",
    "\n",
    "# compute quantiles of input data\n",
    "q_obs_hist = uf.percentile1d(obs, p_zeroone)\n",
    "q_sim_hist = uf.percentile1d(cm_hist, p_zeroone)\n",
    "q_sim_fut = uf.percentile1d(cm_future, p_zeroone)\n",
    "\n",
    "p = np.interp(obs, q_obs_hist, p_zeroone)\n",
    "\n",
    "F_sim_fut_inv  = np.interp(p, p_zeroone, q_sim_fut)\n",
    "F_sim_hist_inv = np.interp(p, p_zeroone, q_sim_hist)\n",
    "F_obs_hist_inv = np.interp(p, p_zeroone, q_obs_hist)"
   ]
  },
  {
   "cell_type": "code",
   "execution_count": 89,
   "metadata": {},
   "outputs": [
    {
     "name": "stderr",
     "output_type": "stream",
     "text": [
      "/home/jakobwes/anaconda3/lib/python3.8/site-packages/numpy/lib/function_base.py:4650: UserWarning: Warning: 'partition' will ignore the 'mask' of the MaskedArray.\n",
      "  arr.partition(\n"
     ]
    },
    {
     "data": {
      "text/plain": [
       "6.252776074688882e-13"
      ]
     },
     "execution_count": 89,
     "metadata": {},
     "output_type": "execute_result"
    }
   ],
   "source": [
    "# My stuff:\n",
    "\n",
    "# Compute p = F_obs_hist(x) with x in obs_hist\n",
    "p = isimip_ecdf(obs, 432)\n",
    "\n",
    "# Compute q-vals\n",
    "q_obs_hist = obs  # TODO: = iecdf_obs_hist(p), appears in eq. 7\n",
    "q_cm_future = np.quantile(cm_future, p)\n",
    "q_cm_hist = np.quantile(cm_future, p)\n",
    "\n",
    "np.max(np.abs(F_sim_fut_inv-q_cm_future))"
   ]
  },
  {
   "cell_type": "markdown",
   "metadata": {},
   "source": [
    "ISIMIP and my results are then equivalent if I use the isimip_ecdf and linear interpolation for the iecdf (at least for intermediate steps)."
   ]
  },
  {
   "cell_type": "markdown",
   "metadata": {},
   "source": [
    "Issues in ISIMIP-code:\n",
    "\n",
    "1. Inverse empirical cdf of ecdf-value of obs should be obs, but is defined extra in ISIMIP: \n",
    "\n",
    "```\n",
    "q_obs_hist = uf.percentile1d(obs, p_zeroone)\n",
    "p = np.interp(obs, q_obs_hist, p_zeroone)\n",
    "F_obs_hist_inv = np.interp(p, p_zeroone, q_obs_hist)\n",
    "```\n",
    "\n",
    "If we are adjusting observations this is mathematically the same.\n",
    "\n",
    "2. ecdf is calculated using linear interpolation. This is mathematically problematic and leads to inconsistent results eg. with ECDF-function from statsmodels.\n",
    "\n",
    "3. inverse ecdf also includes linear interpolation again using percentile1d-function which is equivalent (up to floating point accuracy) to np.quantile. This includes again by default linear interpolation (as does np.quantile), which is not how the iecdf is commonly defined (as inf of value giving cdf = q)."
   ]
  },
  {
   "cell_type": "markdown",
   "metadata": {},
   "source": [
    "Other things:\n",
    "\n",
    "- Other steps in there seem fine and are similar to my code. However there are two additional options with max_change_factor and max_adjustement_factor. Need to see if everything is correct if I use the isimip_ecdf and still check out the other steps (write tests!)\n",
    "- Usage of assertionerror for wrong trend_preservation is weird\n",
    "- Checks for lower and upper bound in bounded trend-preservation.\n",
    "- ccs_transfer_sim2obs for bounded trend preservation: need to check that. \n"
   ]
  },
  {
   "cell_type": "markdown",
   "metadata": {},
   "source": [
    "## 2. Step 6"
   ]
  },
  {
   "cell_type": "markdown",
   "metadata": {},
   "source": [
    "Notes:\n",
    "\n",
    "```\n",
    "i_obs_hist = np.ones(x_obs_hist.shape, dtype=bool)\n",
    "i_sim_hist = np.ones(x_sim_hist.shape, dtype=bool)\n",
    "i_sim_fut = np.ones(x_sim_fut.shape, dtype=bool)\n",
    "if lower:\n",
    "        i_obs_hist = np.logical_and(i_obs_hist, x_obs_hist > lower_threshold)\n",
    "        i_sim_hist = np.logical_and(i_sim_hist, x_sim_hist > lower_threshold)\n",
    "        i_sim_fut = np.logical_and(i_sim_fut, x_sim_fut > lower_threshold)\n",
    "    if upper:\n",
    "        i_obs_hist = np.logical_and(i_obs_hist, x_obs_hist < upper_threshold)\n",
    "        i_sim_hist = np.logical_and(i_sim_hist, x_sim_hist < upper_threshold)\n",
    "        i_sim_fut = np.logical_and(i_sim_fut, x_sim_fut < upper_threshold)\n",
    "```\n",
    "\n",
    "is really elegant for filtering of values between thresholds and not recomputing indices\n",
    "\n",
    "- ISIMIP has the option `unconditional_ccs_transfer = False` in which case step5 (pseudo future observations) is applied only to values between thresholds and those are used as bounds. This is not documented in the ISIMIP-paper. However the default is `= False` which is inconsistent with refererence and will probably show in results (l. 126 in bias_adjustment.py). For comparison need to ensure `= True`\n",
    "\n",
    "- Do one thing does not seem to be a thing for ISIMIP-development. Calculation of indices of values which are set to a lower and upper bound goes via `ccs_transfer_sim2obs` a function that normally accepts arrays, does smth. else but also accepts scalars, which are converted to arrays to do some multiplication. Those indices are calculated and set in two different if-clauses. Calculation l. 143-159, setting l. 165 - 189\n",
    "\n",
    "- l. 244 `# do non-parametric quantile mapping if fitting failed` using Cannon et al-method and map_quantiles_non_parametric from above. Do we want to support that?\n",
    "\n",
    "- p_value_eps and p-value threhsolding (away from zero and under 1). Not named in paper, comes from Switanek. Do we want to include that?\n",
    "\n",
    "- lots of wrappers for fit of distribution. What error-capturing is good?\n",
    "\n",
    "Main transfer happens below:"
   ]
  },
  {
   "cell_type": "markdown",
   "metadata": {},
   "source": [
    "```python\n",
    "# compute source p-values\n",
    "limit_p_values = lambda p : np.maximum(p_value_eps,\n",
    "                            np.minimum(1-p_value_eps, p))\n",
    "p_source = limit_p_values(spsdotwhat.cdf(\n",
    "           x_source_map, *shape_loc_scale_source))\n",
    "\n",
    "# compute target p-values\n",
    "if adjust_p_values:\n",
    "    x_obs_hist_fit = x_obs_hist[i_obs_hist]\n",
    "    x_sim_hist_fit = x_sim_hist[i_sim_hist]\n",
    "    shape_loc_scale_obs_hist = uf.fit(spsdotwhat,\n",
    "                               x_obs_hist_fit, fwords)\n",
    "    shape_loc_scale_sim_hist = uf.fit(spsdotwhat,\n",
    "                               x_sim_hist_fit, fwords)\n",
    "    if shape_loc_scale_obs_hist is None \\\n",
    "    or shape_loc_scale_sim_hist is None:\n",
    "        msg = 'unable to adjust p-values: leaving them unadjusted'\n",
    "        warnings.warn(msg)\n",
    "        p_target = p_source\n",
    "    else:\n",
    "        p_obs_hist = limit_p_values(spsdotwhat.cdf(\n",
    "                     x_obs_hist_fit, *shape_loc_scale_obs_hist))\n",
    "        p_sim_hist = limit_p_values(spsdotwhat.cdf(\n",
    "                     x_sim_hist_fit, *shape_loc_scale_sim_hist))\n",
    "        p_target = limit_p_values(uf.transfer_odds_ratio(\n",
    "                   p_obs_hist, p_sim_hist, p_source))\n",
    "else:\n",
    "    p_target = p_source\n",
    "\n",
    "# map quantiles\n",
    "y[i_source] = spsdotwhat.ppf(p_target, *shape_loc_scale_target)\n",
    "break\n",
    "```\n",
    "\n",
    "\n",
    "- `adjust_p_values` determines whether complicated adjustment using logit-values is happening or not. However default is False. For tas should be False, but True for others.\n",
    "\n",
    "- what does \n",
    "```\n",
    "            if lower or upper:\n",
    "                # map the values in x_source to be quantile-mapped such that\n",
    "                # their empirical distribution matches the empirical\n",
    "                # distribution of the within-threshold values of x_sim_fut\n",
    "                x_source_map = uf.map_quantiles_non_parametric_brute_force(\n",
    "                    x_source[i_source], x_source_fit)\n",
    "```\n",
    "do?\n"
   ]
  },
  {
   "cell_type": "code",
   "execution_count": 61,
   "metadata": {},
   "outputs": [
    {
     "ename": "TypeError",
     "evalue": "only integer scalar arrays can be converted to a scalar index",
     "output_type": "error",
     "traceback": [
      "\u001b[0;31m---------------------------------------------------------------------------\u001b[0m",
      "\u001b[0;31mTypeError\u001b[0m                                 Traceback (most recent call last)",
      "\u001b[0;32m<ipython-input-61-6a0595433fec>\u001b[0m in \u001b[0;36m<module>\u001b[0;34m\u001b[0m\n\u001b[1;32m     10\u001b[0m \u001b[0;34m\u001b[0m\u001b[0m\n\u001b[1;32m     11\u001b[0m \u001b[0mtemp_debiaser\u001b[0m \u001b[0;34m=\u001b[0m \u001b[0mISIMIP\u001b[0m\u001b[0;34m(\u001b[0m\u001b[0mvariable\u001b[0m\u001b[0;34m=\u001b[0m\u001b[0;34m\"tas\"\u001b[0m\u001b[0;34m)\u001b[0m\u001b[0;34m\u001b[0m\u001b[0;34m\u001b[0m\u001b[0m\n\u001b[0;32m---> 12\u001b[0;31m \u001b[0mstep6_using_isimip_obs_future\u001b[0m \u001b[0;34m=\u001b[0m \u001b[0mtemp_debiaser\u001b[0m\u001b[0;34m.\u001b[0m\u001b[0mstep6\u001b[0m\u001b[0;34m(\u001b[0m\u001b[0mobs\u001b[0m\u001b[0;34m,\u001b[0m \u001b[0madjusted_obs_isimip_hopefully\u001b[0m\u001b[0;34m,\u001b[0m \u001b[0mcm_hist\u001b[0m\u001b[0;34m,\u001b[0m \u001b[0mcm_future\u001b[0m\u001b[0;34m)\u001b[0m\u001b[0;34m\u001b[0m\u001b[0;34m\u001b[0m\u001b[0m\n\u001b[0m\u001b[1;32m     13\u001b[0m \u001b[0misimip_mapping\u001b[0m \u001b[0;34m=\u001b[0m \u001b[0mmap_quantiles_parametric_trend_preserving\u001b[0m\u001b[0;34m(\u001b[0m\u001b[0mobs\u001b[0m\u001b[0;34m,\u001b[0m \u001b[0mcm_hist\u001b[0m\u001b[0;34m,\u001b[0m \u001b[0mcm_future\u001b[0m\u001b[0;34m,\u001b[0m \u001b[0mdistribution\u001b[0m \u001b[0;34m=\u001b[0m \u001b[0;34m\"normal\"\u001b[0m\u001b[0;34m,\u001b[0m \u001b[0mtrend_preservation\u001b[0m \u001b[0;34m=\u001b[0m \u001b[0;34m\"additive\"\u001b[0m\u001b[0;34m,\u001b[0m \u001b[0madjust_p_values\u001b[0m\u001b[0;34m=\u001b[0m\u001b[0;32mFalse\u001b[0m\u001b[0;34m)\u001b[0m\u001b[0;34m\u001b[0m\u001b[0;34m\u001b[0m\u001b[0m\n\u001b[1;32m     14\u001b[0m \u001b[0mnp\u001b[0m\u001b[0;34m.\u001b[0m\u001b[0mmax\u001b[0m\u001b[0;34m(\u001b[0m\u001b[0mnp\u001b[0m\u001b[0;34m.\u001b[0m\u001b[0mabs\u001b[0m\u001b[0;34m(\u001b[0m\u001b[0mstep6_using_isimip_obs_future\u001b[0m\u001b[0;34m-\u001b[0m\u001b[0misimip_mapping\u001b[0m\u001b[0;34m)\u001b[0m\u001b[0;34m)\u001b[0m\u001b[0;34m\u001b[0m\u001b[0;34m\u001b[0m\u001b[0m\n",
      "\u001b[0;32m~/Desktop/ESoWC/isimipy/PACKAGE_NAME/isimip.py\u001b[0m in \u001b[0;36mstep6\u001b[0;34m(self, obs_hist, obs_future, cm_hist, cm_future)\u001b[0m\n\u001b[1;32m    436\u001b[0m             cm_future_sorted = self._step6_values_between_thresholds(\n\u001b[1;32m    437\u001b[0m                 \u001b[0mobs_hist_sorted\u001b[0m\u001b[0;34m,\u001b[0m \u001b[0mobs_future_sorted\u001b[0m\u001b[0;34m,\u001b[0m \u001b[0mcm_hist_sorted\u001b[0m\u001b[0;34m,\u001b[0m \u001b[0mcm_future_sorted\u001b[0m\u001b[0;34m\u001b[0m\u001b[0;34m\u001b[0m\u001b[0m\n\u001b[0;32m--> 438\u001b[0;31m             )\n\u001b[0m\u001b[1;32m    439\u001b[0m             \u001b[0;32mreturn\u001b[0m \u001b[0mcm_future_sorted\u001b[0m\u001b[0;34m[\u001b[0m\u001b[0mreverse_sorting_idx\u001b[0m\u001b[0;34m]\u001b[0m\u001b[0;34m\u001b[0m\u001b[0;34m\u001b[0m\u001b[0m\n\u001b[1;32m    440\u001b[0m \u001b[0;34m\u001b[0m\u001b[0m\n",
      "\u001b[0;31mTypeError\u001b[0m: only integer scalar arrays can be converted to a scalar index"
     ]
    }
   ],
   "source": [
    "from code_isimip.bias_adjustment import adjust_bias_one_month, map_quantiles_parametric_trend_preserving\n",
    "import code_isimip.utility_functions as uf\n",
    "from isimip import ISIMIP\n",
    "\n",
    "adjusted_obs = temp_debiaser.step5(obs, cm_hist, cm_future)\n",
    "adjusted_obs_isimip_hopefully = uf.map_quantiles_non_parametric_trend_preserving(\n",
    "            obs, cm_hist, cm_future, \"additive\", 431,\n",
    "            100., 9.,\n",
    "            True, None, None)\n",
    "\n",
    "temp_debiaser = ISIMIP(variable=\"tas\")\n",
    "step6_using_isimip_obs_future = temp_debiaser.step6(obs, adjusted_obs_isimip_hopefully, cm_hist, cm_future)\n",
    "isimip_mapping = map_quantiles_parametric_trend_preserving(obs, cm_hist, cm_future, distribution = \"normal\", trend_preservation = \"additive\", adjust_p_values=False)\n",
    "np.max(np.abs(step6_using_isimip_obs_future-isimip_mapping))"
   ]
  },
  {
   "cell_type": "code",
   "execution_count": 62,
   "metadata": {},
   "outputs": [],
   "source": [
    "cm_future_argsort = np.argsort(cm_future)\n",
    "cm_future_sorted = cm_future[cm_future_argsort]\n",
    "\n",
    "obs_hist_sorted = np.sort(obs)\n",
    "obs_future_sorted = np.sort(adjusted_obs_isimip_hopefully)\n",
    "cm_hist_sorted = np.sort(cm_hist)"
   ]
  },
  {
   "cell_type": "code",
   "execution_count": 63,
   "metadata": {},
   "outputs": [],
   "source": [
    "x_obs_hist = obs_hist_sorted\n",
    "x_sim_hist = cm_hist_sorted\n",
    "x_sim_fut = cm_future_sorted\n",
    "distribution = \"normal\"\n",
    "trend_preservation = 'additive'\n",
    "adjust_p_values = False\n",
    "lower_bound=None\n",
    "lower_threshold=None\n",
    "upper_bound=None\n",
    "upper_threshold=None\n",
    "unconditional_ccs_transfer=False\n",
    "trendless_bound_frequency=False\n",
    "n_quantiles=431 #50\n",
    "p_value_eps=1e-10\n",
    "max_change_factor=100.\n",
    "max_adjustment_factor=9.\n",
    "\n",
    "\n",
    "lower = lower_bound is not None and lower_threshold is not None\n",
    "upper = upper_bound is not None and upper_threshold is not None\n",
    "\n",
    "# use augmented quantile delta mapping to transfer the simulated\n",
    "# climate change signal to the historical observation\n",
    "i_obs_hist = np.ones(x_obs_hist.shape, dtype=bool)\n",
    "i_sim_hist = np.ones(x_sim_hist.shape, dtype=bool)\n",
    "i_sim_fut = np.ones(x_sim_fut.shape, dtype=bool)\n",
    "if lower:\n",
    "    i_obs_hist = np.logical_and(i_obs_hist, x_obs_hist > lower_threshold)\n",
    "    i_sim_hist = np.logical_and(i_sim_hist, x_sim_hist > lower_threshold)\n",
    "    i_sim_fut = np.logical_and(i_sim_fut, x_sim_fut > lower_threshold)\n",
    "if upper:\n",
    "    i_obs_hist = np.logical_and(i_obs_hist, x_obs_hist < upper_threshold)\n",
    "    i_sim_hist = np.logical_and(i_sim_hist, x_sim_hist < upper_threshold)\n",
    "    i_sim_fut = np.logical_and(i_sim_fut, x_sim_fut < upper_threshold)\n",
    "if unconditional_ccs_transfer:\n",
    "    # use all values\n",
    "    x_target = uf.map_quantiles_non_parametric_trend_preserving(\n",
    "        x_obs_hist, x_sim_hist, x_sim_fut,\n",
    "        trend_preservation, n_quantiles,\n",
    "        max_change_factor, max_adjustment_factor,\n",
    "        True, lower_bound, upper_bound)\n",
    "else:\n",
    "    # use only values within thresholds\n",
    "    x_target = x_obs_hist.copy()\n",
    "    x_target[i_obs_hist] = uf.map_quantiles_non_parametric_trend_preserving(\n",
    "        x_obs_hist[i_obs_hist], x_sim_hist[i_sim_hist],\n",
    "        x_sim_fut[i_sim_fut], trend_preservation, n_quantiles,\n",
    "        max_change_factor, max_adjustment_factor,\n",
    "        True, lower_threshold, upper_threshold)\n",
    "\n",
    "# determine extreme value probabilities of future obs\n",
    "if lower:\n",
    "    p_lower = lambda x : np.mean(x <= lower_threshold)\n",
    "    p_lower_target = p_lower(x_obs_hist) \\\n",
    "        if trendless_bound_frequency else uf.ccs_transfer_sim2obs(\n",
    "        p_lower(x_obs_hist), p_lower(x_sim_hist), p_lower(x_sim_fut))\n",
    "if upper:\n",
    "    p_upper = lambda x : np.mean(x >= upper_threshold)\n",
    "    p_upper_target = p_upper(x_obs_hist) \\\n",
    "        if trendless_bound_frequency else uf.ccs_transfer_sim2obs(\n",
    "        p_upper(x_obs_hist), p_upper(x_sim_hist), p_upper(x_sim_fut))\n",
    "if lower and upper:\n",
    "    p_lower_or_upper_target = p_lower_target + p_upper_target\n",
    "    if p_lower_or_upper_target > 1 + 1e-10:\n",
    "        msg = 'sum of p_lower_target and p_upper_target exceeds one'\n",
    "        warnings.warn(msg)\n",
    "        p_lower_target /= p_lower_or_upper_target\n",
    "        p_upper_target /= p_lower_or_upper_target\n",
    "\n",
    "# do a parametric quantile mapping of the values within thresholds\n",
    "x_source = x_sim_fut\n",
    "y = x_source.copy()\n",
    "\n",
    "# determine indices of values to be mapped\n",
    "i_source = np.ones(x_source.shape, dtype=bool)\n",
    "i_target = np.ones(x_target.shape, dtype=bool)\n",
    "if lower:\n",
    "    # make sure that lower_threshold_source < x_source \n",
    "    # because otherwise sps.beta.ppf does not work\n",
    "    lower_threshold_source = \\\n",
    "        uf.percentile1d(x_source, np.array([p_lower_target]))[0] \\\n",
    "        if p_lower_target > 0 else lower_bound if not upper else \\\n",
    "        lower_bound - 1e-10 * (upper_bound - lower_bound)\n",
    "    i_lower = x_source <= lower_threshold_source\n",
    "    i_source = np.logical_and(i_source, np.logical_not(i_lower))\n",
    "    i_target = np.logical_and(i_target, x_target > lower_threshold)\n",
    "    y[i_lower] = lower_bound\n",
    "if upper:\n",
    "    # make sure that x_source < upper_threshold_source\n",
    "    # because otherwise sps.beta.ppf does not work\n",
    "    upper_threshold_source = \\\n",
    "        uf.percentile1d(x_source, np.array([1.-p_upper_target]))[0] \\\n",
    "        if p_upper_target > 0 else upper_bound if not lower else \\\n",
    "        upper_bound + 1e-10 * (upper_bound - lower_bound)\n",
    "    i_upper = x_source >= upper_threshold_source\n",
    "    i_source = np.logical_and(i_source, np.logical_not(i_upper))\n",
    "    i_target = np.logical_and(i_target, x_target < upper_threshold)\n",
    "    y[i_upper] = upper_bound\n",
    "\n",
    "# map quantiles\n",
    "while np.any(i_source):\n",
    "    # break here if target distributions cannot be determined\n",
    "    if not np.any(i_target):\n",
    "        msg = 'unable to do any quantile mapping' \\\n",
    "            + ': leaving %i value(s) unadjusted'%np.sum(i_source)\n",
    "        warnings.warn(msg)\n",
    "        break\n",
    "\n",
    "    # use the within-threshold values of x_sim_fut for the source\n",
    "    # distribution fitting\n",
    "    x_source_fit = x_source[i_sim_fut]\n",
    "    x_target_fit = x_target[i_target]\n",
    "\n",
    "    # determine distribution parameters\n",
    "    spsdotwhat = scipy.stats.norm if distribution == 'normal' else \\\n",
    "                 scipy.stats.weibull_min if distribution == 'weibull' else \\\n",
    "                 scipy.stats.gamma if distribution == 'gamma' else \\\n",
    "                 scipy.stats.beta if distribution == 'beta' else \\\n",
    "                 scipy.stats.rice if distribution == 'rice' else \\\n",
    "                 None\n",
    "    if spsdotwhat is None:\n",
    "        # prepare non-parametric quantile mapping\n",
    "        x_source_map = x_source[i_source]\n",
    "        shape_loc_scale_source = None\n",
    "        shape_loc_scale_target = None\n",
    "    else:\n",
    "        # prepare parametric quantile mapping\n",
    "        if lower or upper:\n",
    "            # map the values in x_source to be quantile-mapped such that\n",
    "            # their empirical distribution matches the empirical\n",
    "            # distribution of the within-threshold values of x_sim_fut\n",
    "            x_source_map = uf.map_quantiles_non_parametric_brute_force(\n",
    "                x_source[i_source], x_source_fit)\n",
    "        else:\n",
    "            x_source_map = x_source\n",
    "\n",
    "        # fix location and scale parameters for fitting\n",
    "        floc = lower_threshold if lower else None\n",
    "        fscale = upper_threshold - lower_threshold \\\n",
    "            if lower and upper else None\n",
    "\n",
    "        # because sps.rice.fit and sps.weibull_min.fit cannot handle\n",
    "        # fscale=None\n",
    "        if distribution in ['rice', 'weibull']:\n",
    "            fwords = {'floc': floc}\n",
    "        else:\n",
    "            fwords = {'floc': floc, 'fscale': fscale}\n",
    "\n",
    "        # fit distributions to x_source and x_target\n",
    "        shape_loc_scale_source = uf.fit(spsdotwhat, x_source_fit, fwords)\n",
    "        shape_loc_scale_target = uf.fit(spsdotwhat, x_target_fit, fwords)\n",
    "\n",
    "    # do non-parametric quantile mapping if fitting failed\n",
    "    if shape_loc_scale_source is None or shape_loc_scale_target is None:\n",
    "        msg = 'unable to do parametric quantile mapping' \\\n",
    "            + ': doing non-parametric quantile mapping instead'\n",
    "        if spsdotwhat is not None: warnings.warn(msg)\n",
    "        p_zeroone = np.linspace(0., 1., n_quantiles + 1)\n",
    "        q_source_fit = uf.percentile1d(x_source_map, p_zeroone)\n",
    "        q_target_fit = uf.percentile1d(x_target_fit, p_zeroone)\n",
    "        y[i_source] = \\\n",
    "            uf.map_quantiles_non_parametric_with_constant_extrapolation(\n",
    "            x_source_map, q_source_fit, q_target_fit)\n",
    "        break\n",
    "\n",
    "    # compute source p-values\n",
    "    limit_p_values = lambda p : np.maximum(p_value_eps,\n",
    "                                np.minimum(1-p_value_eps, p))\n",
    "    p_source = limit_p_values(spsdotwhat.cdf(\n",
    "               x_source_map, *shape_loc_scale_source))\n",
    "\n",
    "    # compute target p-values\n",
    "    if adjust_p_values:\n",
    "        x_obs_hist_fit = x_obs_hist[i_obs_hist]\n",
    "        x_sim_hist_fit = x_sim_hist[i_sim_hist]\n",
    "        shape_loc_scale_obs_hist = uf.fit(spsdotwhat,\n",
    "                                   x_obs_hist_fit, fwords)\n",
    "        shape_loc_scale_sim_hist = uf.fit(spsdotwhat,\n",
    "                                   x_sim_hist_fit, fwords)\n",
    "        if shape_loc_scale_obs_hist is None \\\n",
    "        or shape_loc_scale_sim_hist is None:\n",
    "            msg = 'unable to adjust p-values: leaving them unadjusted'\n",
    "            warnings.warn(msg)\n",
    "            p_target = p_source\n",
    "        else:\n",
    "            p_obs_hist = limit_p_values(spsdotwhat.cdf(\n",
    "                         x_obs_hist_fit, *shape_loc_scale_obs_hist))\n",
    "            p_sim_hist = limit_p_values(spsdotwhat.cdf(\n",
    "                         x_sim_hist_fit, *shape_loc_scale_sim_hist))\n",
    "            p_target = limit_p_values(uf.transfer_odds_ratio(\n",
    "                       p_obs_hist, p_sim_hist, p_source))\n",
    "    else:\n",
    "        p_target = p_source\n",
    "\n",
    "    # map quantiles\n",
    "    y[i_source] = spsdotwhat.ppf(p_target, *shape_loc_scale_target)\n",
    "    break\n"
   ]
  },
  {
   "cell_type": "code",
   "execution_count": 64,
   "metadata": {},
   "outputs": [
    {
     "data": {
      "text/plain": [
       "(1.4755333043157108, 0.6472315906684176)"
      ]
     },
     "execution_count": 64,
     "metadata": {},
     "output_type": "execute_result"
    }
   ],
   "source": [
    "obs_future_isimip = uf.map_quantiles_non_parametric_trend_preserving(\n",
    "            obs_hist_sorted, cm_hist_sorted, cm_future_sorted, \"additive\", 431,\n",
    "            100., 9.,\n",
    "            True, None, None)\n",
    "\n",
    "test = temp_debiaser._step6_values_between_thresholds(obs_hist_sorted, obs_future_isimip, cm_hist_sorted, cm_future_sorted) \n",
    "shape_loc_scale_target"
   ]
  },
  {
   "cell_type": "code",
   "execution_count": 191,
   "metadata": {},
   "outputs": [
    {
     "data": {
      "text/plain": [
       "array([0., 0.])"
      ]
     },
     "execution_count": 191,
     "metadata": {},
     "output_type": "execute_result"
    }
   ],
   "source": [
    "np.array(test[2])-np.array(shape_loc_scale_target)"
   ]
  },
  {
   "cell_type": "code",
   "execution_count": 200,
   "metadata": {},
   "outputs": [
    {
     "data": {
      "text/plain": [
       "False"
      ]
     },
     "execution_count": 200,
     "metadata": {},
     "output_type": "execute_result"
    }
   ],
   "source": [
    "np.any(y[i_source] != y)"
   ]
  },
  {
   "cell_type": "code",
   "execution_count": 264,
   "metadata": {},
   "outputs": [
    {
     "data": {
      "text/plain": [
       "True"
      ]
     },
     "execution_count": 264,
     "metadata": {},
     "output_type": "execute_result"
    }
   ],
   "source": [
    "all(np.isclose(test[0],y))"
   ]
  },
  {
   "cell_type": "markdown",
   "metadata": {},
   "source": [
    "This means:\n",
    "\n",
    "- given the same input from step5 ISIMIP returns the same as my step6 for tas. Need to make sure however:\n",
    "    - use np.isclose because of nuerical accuracy of isimip is float32 whilst I am working with float64\n",
    "    - same number of n_quantiles = 431 = min(cm.size, ...) - 1\n",
    "    - right configuration.\n",
    "    - sorting, because I resort afterwards. Can test also with resorting, so full step6\n",
    "- after break need to implement that as test: \n",
    "    - test step5 first as seen above, possibly change with isimip-ecdf (interpolation-option)\n",
    "    - test step6 with input from step5 from isimip\n",
    "    - test whole\n",
    "- switch around options. possibly introduce adjust_p_values for temp-exception, as well as other isimip-options, such ad max_adjust fators, ..."
   ]
  },
  {
   "cell_type": "code",
   "execution_count": 258,
   "metadata": {},
   "outputs": [
    {
     "data": {
      "text/plain": [
       "dtype('float64')"
      ]
     },
     "execution_count": 258,
     "metadata": {},
     "output_type": "execute_result"
    }
   ],
   "source": [
    "a = spsdotwhat.ppf(p_target, *shape_loc_scale_target)\n",
    "a.dtype\n",
    "#y.dtype"
   ]
  },
  {
   "cell_type": "code",
   "execution_count": 252,
   "metadata": {},
   "outputs": [],
   "source": [
    "y[i_source] = spsdotwhat.ppf(p_target, *shape_loc_scale_target)"
   ]
  },
  {
   "cell_type": "code",
   "execution_count": 253,
   "metadata": {},
   "outputs": [
    {
     "data": {
      "text/plain": [
       "masked_array(data=[7.097963020896714e-06, 8.353601742783212e-06,\n",
       "                   9.53452820340317e-06, 9.97920136569519e-06,\n",
       "                   -1.3030023183091544e-05, -8.664078222864191e-06,\n",
       "                   -1.3735023742356134e-05, -7.259612232246582e-06,\n",
       "                   -1.4229404882826202e-05, 1.2333898041561042e-05,\n",
       "                   -1.1959876701439498e-05, 1.2641828050163895e-05,\n",
       "                   -2.934598114734399e-06, -9.91298719554834e-06,\n",
       "                   -5.509592313046596e-06, 8.07920764600567e-06,\n",
       "                   5.741609356846311e-07, -1.1832811651402153e-05,\n",
       "                   -3.8152900287968805e-06, -6.137170998954389e-06,\n",
       "                   -1.3099872376187705e-05, -1.0753707215371833e-05,\n",
       "                   -1.1573450024116028e-05, 7.452529871443403e-06,\n",
       "                   1.335007073066663e-05, -1.1122825128495606e-05,\n",
       "                   -2.9833472012796847e-06, -4.00943673639631e-06,\n",
       "                   6.238484104414965e-06, 1.1061367104048259e-05,\n",
       "                   5.691988917533308e-06, 6.314278095942427e-06,\n",
       "                   -1.035694026541023e-05, -8.44240531705509e-06,\n",
       "                   -3.318444896649453e-06, 2.728882122937648e-06,\n",
       "                   -1.1437788543844363e-05, -1.050582551442858e-05,\n",
       "                   1.2296209320084017e-05, -5.568077540374361e-06,\n",
       "                   7.387192113128549e-06, -2.8050690730196948e-06,\n",
       "                   -1.0207392847405572e-05, 6.785049322388659e-07,\n",
       "                   -5.784764539384923e-06, 1.1948969586228486e-05,\n",
       "                   1.1961111681557668e-05, 1.4136752099602745e-05,\n",
       "                   -2.5744381559889007e-06, -5.69682845252828e-06,\n",
       "                   9.675052808688633e-06, 8.577615858484933e-06,\n",
       "                   4.3213623825977265e-06, 7.079924273512006e-06,\n",
       "                   -7.586178298879531e-06, -8.699303009507275e-06,\n",
       "                   6.188834049680736e-06, 7.637962085027539e-07,\n",
       "                   1.486771583358859e-05, 3.102870039128902e-06,\n",
       "                   5.167191147847916e-06, -1.5102466193184227e-05,\n",
       "                   -6.348691329094436e-06, -6.451414208186179e-06,\n",
       "                   1.1052589854898542e-05, 3.5197133456676966e-06,\n",
       "                   7.062492670684151e-06, -4.667432051519427e-06,\n",
       "                   -6.307818466666504e-06, 1.3387815897658584e-05,\n",
       "                   5.52957777699703e-06, -1.514033419880434e-05,\n",
       "                   9.682806251021248e-06, 6.767064803625544e-06,\n",
       "                   -6.456703715684853e-06, 9.255924737772148e-06,\n",
       "                   -1.4389834916528343e-05, 1.4503044496905204e-05,\n",
       "                   7.881402552811778e-08, -8.508283940500405e-06,\n",
       "                   4.985186535577668e-06, 1.1801345294770726e-05,\n",
       "                   8.765990173742466e-06, 7.5101706329405715e-06,\n",
       "                   1.3284250087508553e-05, 9.793282686132443e-06,\n",
       "                   9.373794569000893e-06, -9.88546094049525e-06,\n",
       "                   3.9922743440001796e-06, 6.161719170449942e-07,\n",
       "                   -1.4164493506996223e-05, -9.999303074437194e-07,\n",
       "                   8.906941161512805e-06, 1.1482836271170527e-05,\n",
       "                   -7.257818310790753e-07, 4.7945854930731e-06,\n",
       "                   1.1099472374098696e-05, -8.63108317616934e-06,\n",
       "                   -8.436576422354847e-06, 1.5416424616887525e-06,\n",
       "                   1.4848900491415407e-05, -1.332251252961214e-05,\n",
       "                   8.477414894514368e-06, -1.2461896915283432e-05,\n",
       "                   1.39820944582425e-05, -8.23732102617214e-06,\n",
       "                   -9.25157053188741e-06, 8.993435471893463e-06,\n",
       "                   3.506778512019082e-07, 6.1573357470479095e-06,\n",
       "                   4.889374167760252e-06, 5.301468831930833e-06,\n",
       "                   -1.546065448110312e-06, 1.4067385791349807e-05,\n",
       "                   -2.488967538738507e-06, 1.4301864439403289e-05,\n",
       "                   7.711587954872812e-06, 3.0083186288720754e-06,\n",
       "                   9.852307243818359e-06, -6.0900512721673294e-06,\n",
       "                   7.0623698320559924e-06, 7.074511927385174e-06,\n",
       "                   1.259487925153735e-05, 6.757746746188786e-06,\n",
       "                   -4.088481148301071e-06, -5.6575202052044915e-06,\n",
       "                   1.0736904926034185e-05, 1.0693387309856917e-05,\n",
       "                   -9.092827895074151e-06, 9.025171038956614e-06,\n",
       "                   4.052199813031621e-06, -9.900428551645746e-06,\n",
       "                   -1.3332190633263963e-05, -4.621933328508021e-06,\n",
       "                   3.90214154322166e-08, 5.3574885328089294e-06,\n",
       "                   1.969244067367981e-06, -9.110259497902007e-06,\n",
       "                   -1.2803127049210161e-05, -6.058315705104178e-06,\n",
       "                   7.2646300850465195e-06, 1.1517035829911038e-05,\n",
       "                   -1.4373329122463474e-06, -2.6774646357807796e-06,\n",
       "                   -7.037243676677463e-07, -1.3847851164427993e-05,\n",
       "                   -4.692457196142641e-07, -3.4211113302262675e-06,\n",
       "                   9.061655248387979e-06, -1.0898630307565327e-05,\n",
       "                   -1.0942147866899177e-05, -1.3165153632144211e-05,\n",
       "                   -4.562027129395574e-07, -1.2142609818965866e-05,\n",
       "                   4.949937419951311e-07, -1.2146155484060728e-05,\n",
       "                   9.260910701414105e-06, -9.617625664759544e-06,\n",
       "                   -1.2851033261540579e-05, -1.4246001910578343e-05,\n",
       "                   -1.3139968586983741e-05, 2.347891268072999e-07,\n",
       "                   1.2503815582931566e-05, 8.79880593629423e-06,\n",
       "                   -9.85000042419415e-06, 3.3906588328136422e-06,\n",
       "                   -8.524693839717656e-09, 1.3227385920799861e-05,\n",
       "                   1.1412929097787128e-05, -1.2886797321698396e-05,\n",
       "                   -2.880748581901571e-06, -1.1079733951646631e-05,\n",
       "                   -7.302475978576695e-06, 1.0150617072213208e-05,\n",
       "                   -7.21453994856347e-06, -1.0324788149773667e-05,\n",
       "                   1.4546924376190873e-07, -4.423701625455578e-06,\n",
       "                   1.5204130988877296e-05, -6.0084284427830426e-06,\n",
       "                   -4.165240909514978e-06, -7.2994711786122934e-06,\n",
       "                   3.2335371997760376e-06, 7.337382044170226e-07,\n",
       "                   2.639978788465669e-06, 9.983097243093653e-06,\n",
       "                   -6.11764386349023e-06, 8.556753016364382e-06,\n",
       "                   1.1045613007354405e-05, 1.1228579182898102e-05,\n",
       "                   2.5381567638760316e-06, 6.636327100295603e-06,\n",
       "                   -6.131829195510363e-06, -4.744253942590149e-06,\n",
       "                   -1.8572268345451448e-07, -5.899094333017274e-06,\n",
       "                   6.239678725705744e-06, -9.571525481533172e-06,\n",
       "                   1.5220538841731468e-05, -8.896221402210358e-06,\n",
       "                   1.259848141899056e-05, -1.3551825986723998e-05,\n",
       "                   1.360533747174486e-05, -1.2211014563945355e-05,\n",
       "                   -1.2646791901715915e-05, -6.718477038702986e-06,\n",
       "                   1.317106256237821e-05, 1.011587249877266e-05,\n",
       "                   -1.4924855861409014e-05, 7.19598386922371e-06,\n",
       "                   7.209026875898417e-06, 9.115267516790482e-06,\n",
       "                   -6.723766546201659e-06, 8.160824791048071e-06,\n",
       "                   2.1374798961915076e-06, -4.210924544167938e-06,\n",
       "                   1.2298365561491664e-05, -8.213163823711511e-06,\n",
       "                   -8.160750439856201e-06, -1.2630744095076807e-05,\n",
       "                   -6.662127589152078e-06, -1.4625162236825417e-05,\n",
       "                   9.314281498973287e-06, 8.018490063932404e-06,\n",
       "                   6.192492662648874e-06, 3.5295623774800333e-06,\n",
       "                   1.0015341786129284e-05, 9.102343142330938e-06,\n",
       "                   -3.475453581813781e-06, 5.06016220924721e-06,\n",
       "                   3.2850758771019173e-06, -2.785933816085162e-06,\n",
       "                   5.621773993880197e-06, 1.497238389447375e-05,\n",
       "                   1.568623645198386e-06, -5.809718004456954e-06,\n",
       "                   1.0325073617423186e-05, -1.3377382515500358e-05,\n",
       "                   -1.3313428496530832e-05, -8.864442463618616e-06,\n",
       "                   -9.693516346942488e-06, 1.212002524653144e-05,\n",
       "                   -1.9638932826637756e-06, -1.1251195815020765e-06,\n",
       "                   -8.110164742447523e-06, 7.239070612286014e-06,\n",
       "                   1.4499669759970857e-05, 1.4733546947809373e-05,\n",
       "                   5.10179859247728e-07, -8.640370651846752e-06,\n",
       "                   9.596607128514734e-06, -5.868931964414514e-06,\n",
       "                   2.1347426581996842e-06, -2.1554714635385608e-06,\n",
       "                   9.720215473407734e-06, 7.57618329316756e-06,\n",
       "                   1.2862673486324638e-05, -5.19684385835717e-06,\n",
       "                   -3.0313385082081368e-06, -4.0709755921852775e-06,\n",
       "                   1.9363129126759304e-06, -9.295543463849754e-07,\n",
       "                   -2.2792283971284633e-07, -7.486617619179015e-07,\n",
       "                   9.15616647034767e-06, 1.06423174770498e-05,\n",
       "                   -4.13272874766335e-06, 1.7798983549255354e-06,\n",
       "                   1.4274807028868963e-05, -1.0849320801753493e-06,\n",
       "                   -9.864463208941743e-06, 9.900744373680936e-06,\n",
       "                   -1.0170258974540047e-05, 6.995972341883316e-06,\n",
       "                   4.04203314019469e-06, 1.4692581601138954e-05,\n",
       "                   -5.937365017416596e-07, 1.5242652807501145e-05,\n",
       "                   -1.2376044310258294e-05, -1.4137516473056166e-05,\n",
       "                   -1.1369188200660574e-05, 2.8661850706157566e-06,\n",
       "                   -4.157193700393691e-06, 1.3816067166771973e-05,\n",
       "                   -9.126558609295898e-06, 7.573991979370476e-06,\n",
       "                   -1.1901349068921263e-05, 9.019630226703157e-06,\n",
       "                   1.373389926584423e-05, 1.3124952545240376e-05,\n",
       "                   -9.317941930930829e-06, 3.777377798996895e-06,\n",
       "                   -1.3301488650085957e-05, -1.4270116651005083e-05,\n",
       "                   8.496694931636739e-06, 2.2122444534034003e-06,\n",
       "                   -5.695701645436202e-06, -1.274898380643208e-05,\n",
       "                   6.301879011516576e-06, 8.88991621650348e-06,\n",
       "                   -1.0016449948579975e-05, 8.074922106970917e-06,\n",
       "                   -2.2600338525080588e-06, -9.947747287242237e-06,\n",
       "                   8.271331921605451e-07, 1.4617833301144856e-05,\n",
       "                   -5.93721364339217e-06, -8.641557656119403e-06,\n",
       "                   -1.9959235260103014e-06, -3.905709831997228e-06,\n",
       "                   1.243780428694663e-05, 1.2656293108648242e-05,\n",
       "                   -4.0149252527044155e-06, -1.4851924561298802e-06,\n",
       "                   -6.624840636959561e-06, -1.5052655101044365e-05,\n",
       "                   2.3207962840388063e-06, -7.094338798196986e-06,\n",
       "                   9.216596765782015e-06, 1.2597447835105413e-05,\n",
       "                   -4.070224861152383e-06, -7.579524719858455e-06,\n",
       "                   6.167657829792006e-06, 1.0550616309501493e-05,\n",
       "                   -2.1923548843005847e-06, -1.7524304212201969e-06,\n",
       "                   -4.989685692180501e-06, -3.7966171930747805e-06,\n",
       "                   -1.447971385459823e-05, 7.60914889497144e-06,\n",
       "                   -9.787383646653325e-06, 8.448020594187255e-07,\n",
       "                   3.960699814342661e-06, -4.6102758233246277e-07,\n",
       "                   9.6767769264261e-06, 1.3061173604000942e-05,\n",
       "                   -2.4255726316368964e-06, -1.0045484316378861e-05,\n",
       "                   3.332819062507042e-06, -3.5004692335860454e-06,\n",
       "                   -7.893465863162419e-06, -5.938650247117039e-07,\n",
       "                   -9.674745342636015e-06, -6.987530866808811e-06,\n",
       "                   1.2214321145620488e-05, -9.109255472594668e-06,\n",
       "                   3.988708954238973e-06, 1.4137452524209948e-05,\n",
       "                   -1.3875577906219405e-05, -1.0435521517138113e-05,\n",
       "                   -1.1425788954966265e-05, -5.465497110890283e-06,\n",
       "                   -1.0478138221969857e-05, -1.443685994217958e-05,\n",
       "                   -9.526941767035169e-06, -1.384594622777513e-05,\n",
       "                   9.428591624782712e-06, -8.205064318644872e-06,\n",
       "                   -7.894489613136102e-06, 6.2973660988063784e-06,\n",
       "                   3.0358266371877107e-06, -1.7906020275404444e-06,\n",
       "                   5.735183208344097e-06, -2.3370971575786825e-06,\n",
       "                   -8.094587940377096e-06, 1.1220327280625497e-05,\n",
       "                   -1.4359502870320284e-05, 1.4719588989464683e-05,\n",
       "                   -1.3898241036258696e-05, -8.916975446027209e-06,\n",
       "                   1.1896532271293836e-05, 1.396944981024717e-05,\n",
       "                   -9.196413486733945e-06, -6.845106668151857e-07,\n",
       "                   1.3102643777074263e-05, 1.0063742990951141e-05,\n",
       "                   -1.3530204796552425e-05, -3.75388606244087e-06,\n",
       "                   7.087141398187669e-07, -7.069580135521392e-06,\n",
       "                   -1.2442503930287785e-05, 1.4944087467938516e-05,\n",
       "                   -9.284291593303351e-06, -1.8020239735960786e-06,\n",
       "                   -7.286267134531954e-06, -2.566107070833823e-06,\n",
       "                   -2.8236669322723174e-06, -1.1922036776468303e-05,\n",
       "                   -7.47512433463271e-06, 4.945792227317725e-06,\n",
       "                   -1.4875646286327537e-05, -2.1110356556164334e-06,\n",
       "                   -2.399970981059596e-06, 1.5147550698202394e-05,\n",
       "                   -3.1083944236343086e-06, -9.38740640776814e-09,\n",
       "                   1.4542751102908369e-05, 1.212169286191056e-05,\n",
       "                   5.071956366009545e-06, -1.5577768408547854e-08,\n",
       "                   1.237596961800591e-06, 1.102960345633619e-05,\n",
       "                   6.995988599101111e-06, 8.1455395957164e-06,\n",
       "                   3.2208345714934694e-06, -1.3937673600139533e-05,\n",
       "                   -6.752937736109743e-06, -1.0615126996071922e-05,\n",
       "                   1.0413323877855873e-05, -1.4619110118019307e-05,\n",
       "                   9.18978076924759e-06, -5.3528603416452825e-06,\n",
       "                   9.436099446702428e-06, -1.2192100257379934e-05,\n",
       "                   -1.1371456594133633e-05, 1.0927600669674575e-05,\n",
       "                   1.0412480946797587e-05, 9.188036926843779e-06,\n",
       "                   -8.564930567445117e-06, 2.2312872260954464e-06,\n",
       "                   4.975963179276732e-06, 7.86687962772703e-06,\n",
       "                   -6.414655956632487e-06, 2.411367233889905e-06,\n",
       "                   -9.896608901271975e-06, 3.5903690331906546e-06,\n",
       "                   6.92291450832272e-08, 1.4919196075879881e-05,\n",
       "                   3.517039033340552e-06, 1.3940831991021696e-05,\n",
       "                   1.4376065792021109e-05, 6.940441892311355e-06],\n",
       "             mask=[False, False, False, False, False, False, False, False,\n",
       "                   False, False, False, False, False, False, False, False,\n",
       "                   False, False, False, False, False, False, False, False,\n",
       "                   False, False, False, False, False, False, False, False,\n",
       "                   False, False, False, False, False, False, False, False,\n",
       "                   False, False, False, False, False, False, False, False,\n",
       "                   False, False, False, False, False, False, False, False,\n",
       "                   False, False, False, False, False, False, False, False,\n",
       "                   False, False, False, False, False, False, False, False,\n",
       "                   False, False, False, False, False, False, False, False,\n",
       "                   False, False, False, False, False, False, False, False,\n",
       "                   False, False, False, False, False, False, False, False,\n",
       "                   False, False, False, False, False, False, False, False,\n",
       "                   False, False, False, False, False, False, False, False,\n",
       "                   False, False, False, False, False, False, False, False,\n",
       "                   False, False, False, False, False, False, False, False,\n",
       "                   False, False, False, False, False, False, False, False,\n",
       "                   False, False, False, False, False, False, False, False,\n",
       "                   False, False, False, False, False, False, False, False,\n",
       "                   False, False, False, False, False, False, False, False,\n",
       "                   False, False, False, False, False, False, False, False,\n",
       "                   False, False, False, False, False, False, False, False,\n",
       "                   False, False, False, False, False, False, False, False,\n",
       "                   False, False, False, False, False, False, False, False,\n",
       "                   False, False, False, False, False, False, False, False,\n",
       "                   False, False, False, False, False, False, False, False,\n",
       "                   False, False, False, False, False, False, False, False,\n",
       "                   False, False, False, False, False, False, False, False,\n",
       "                   False, False, False, False, False, False, False, False,\n",
       "                   False, False, False, False, False, False, False, False,\n",
       "                   False, False, False, False, False, False, False, False,\n",
       "                   False, False, False, False, False, False, False, False,\n",
       "                   False, False, False, False, False, False, False, False,\n",
       "                   False, False, False, False, False, False, False, False,\n",
       "                   False, False, False, False, False, False, False, False,\n",
       "                   False, False, False, False, False, False, False, False,\n",
       "                   False, False, False, False, False, False, False, False,\n",
       "                   False, False, False, False, False, False, False, False,\n",
       "                   False, False, False, False, False, False, False, False,\n",
       "                   False, False, False, False, False, False, False, False,\n",
       "                   False, False, False, False, False, False, False, False,\n",
       "                   False, False, False, False, False, False, False, False,\n",
       "                   False, False, False, False, False, False, False, False,\n",
       "                   False, False, False, False, False, False, False, False,\n",
       "                   False, False, False, False, False, False, False, False,\n",
       "                   False, False, False, False, False, False, False, False,\n",
       "                   False, False, False, False, False, False, False, False,\n",
       "                   False, False, False, False, False, False, False, False,\n",
       "                   False, False, False, False, False, False, False, False,\n",
       "                   False, False, False, False, False, False, False, False,\n",
       "                   False, False, False, False, False, False, False, False,\n",
       "                   False, False, False, False, False, False, False, False,\n",
       "                   False, False, False, False, False, False, False, False,\n",
       "                   False, False, False, False, False, False, False, False],\n",
       "       fill_value=1e+20)"
      ]
     },
     "execution_count": 253,
     "metadata": {},
     "output_type": "execute_result"
    }
   ],
   "source": [
    "y[i_source]-spsdotwhat.ppf(p_target, *shape_loc_scale_target)"
   ]
  },
  {
   "cell_type": "code",
   "execution_count": 155,
   "metadata": {},
   "outputs": [
    {
     "data": {
      "text/plain": [
       "array([0., 0., 0., 0., 0., 0., 0., 0., 0., 0., 0., 0., 0., 0., 0., 0., 0.,\n",
       "       0., 0., 0., 0., 0., 0., 0., 0., 0., 0., 0., 0., 0., 0., 0., 0., 0.,\n",
       "       0., 0., 0., 0., 0., 0., 0., 0., 0., 0., 0., 0., 0., 0., 0., 0., 0.,\n",
       "       0., 0., 0., 0., 0., 0., 0., 0., 0., 0., 0., 0., 0., 0., 0., 0., 0.,\n",
       "       0., 0., 0., 0., 0., 0., 0., 0., 0., 0., 0., 0., 0., 0., 0., 0., 0.,\n",
       "       0., 0., 0., 0., 0., 0., 0., 0., 0., 0., 0., 0., 0., 0., 0., 0., 0.,\n",
       "       0., 0., 0., 0., 0., 0., 0., 0., 0., 0., 0., 0., 0., 0., 0., 0., 0.,\n",
       "       0., 0., 0., 0., 0., 0., 0., 0., 0., 0., 0., 0., 0., 0., 0., 0., 0.,\n",
       "       0., 0., 0., 0., 0., 0., 0., 0., 0., 0., 0., 0., 0., 0., 0., 0., 0.,\n",
       "       0., 0., 0., 0., 0., 0., 0., 0., 0., 0., 0., 0., 0., 0., 0., 0., 0.,\n",
       "       0., 0., 0., 0., 0., 0., 0., 0., 0., 0., 0., 0., 0., 0., 0., 0., 0.,\n",
       "       0., 0., 0., 0., 0., 0., 0., 0., 0., 0., 0., 0., 0., 0., 0., 0., 0.,\n",
       "       0., 0., 0., 0., 0., 0., 0., 0., 0., 0., 0., 0., 0., 0., 0., 0., 0.,\n",
       "       0., 0., 0., 0., 0., 0., 0., 0., 0., 0., 0., 0., 0., 0., 0., 0., 0.,\n",
       "       0., 0., 0., 0., 0., 0., 0., 0., 0., 0., 0., 0., 0., 0., 0., 0., 0.,\n",
       "       0., 0., 0., 0., 0., 0., 0., 0., 0., 0., 0., 0., 0., 0., 0., 0., 0.,\n",
       "       0., 0., 0., 0., 0., 0., 0., 0., 0., 0., 0., 0., 0., 0., 0., 0., 0.,\n",
       "       0., 0., 0., 0., 0., 0., 0., 0., 0., 0., 0., 0., 0., 0., 0., 0., 0.,\n",
       "       0., 0., 0., 0., 0., 0., 0., 0., 0., 0., 0., 0., 0., 0., 0., 0., 0.,\n",
       "       0., 0., 0., 0., 0., 0., 0., 0., 0., 0., 0., 0., 0., 0., 0., 0., 0.,\n",
       "       0., 0., 0., 0., 0., 0., 0., 0., 0., 0., 0., 0., 0., 0., 0., 0., 0.,\n",
       "       0., 0., 0., 0., 0., 0., 0., 0., 0., 0., 0., 0., 0., 0., 0., 0., 0.,\n",
       "       0., 0., 0., 0., 0., 0., 0., 0., 0., 0., 0., 0., 0., 0., 0., 0., 0.,\n",
       "       0., 0., 0., 0., 0., 0., 0., 0., 0., 0., 0., 0., 0., 0., 0., 0., 0.,\n",
       "       0., 0., 0., 0., 0., 0., 0., 0., 0., 0., 0., 0., 0., 0., 0., 0., 0.,\n",
       "       0., 0., 0., 0., 0., 0., 0.])"
      ]
     },
     "execution_count": 155,
     "metadata": {},
     "output_type": "execute_result"
    }
   ],
   "source": [
    "spsdotwhat.ppf(p_target, *shape_loc_scale_target) - temp_debiaser.distribution.ppf(test[1], *(test[2]))"
   ]
  },
  {
   "cell_type": "markdown",
   "metadata": {},
   "source": [
    "# Open questions:\n",
    "\n",
    "- How much do we use ISIMIP-code and how shall tests look like?\n",
    "- Do we stay on ISIMIP-code or our own implementation following the algorith,. Shall we use an isimip_mode where we either use the code or eg. iecdf with interpolation?"
   ]
  },
  {
   "cell_type": "code",
   "execution_count": 226,
   "metadata": {},
   "outputs": [],
   "source": [
    "from math_helpers import IECDF\n",
    "from statsmodels.distributions.empirical_distribution import ECDF\n",
    "\n",
    "# ISIMIP\n",
    "n_quantiles = 431\n",
    "n = min([n_quantiles + 1, obs.size, cm_hist.size, cm_future.size])\n",
    "p_zeroone = np.linspace(0., 1., n)\n",
    "\n",
    "# compute quantiles of input data\n",
    "q_obs_hist = uf.percentile1d(obs, p_zeroone)\n",
    "q_sim_hist = uf.percentile1d(cm_hist, p_zeroone)\n",
    "q_sim_fut = uf.percentile1d(cm_future, p_zeroone)\n",
    "\n",
    "p = np.interp(obs, q_obs_hist, p_zeroone)\n",
    "\n",
    "F_sim_fut_inv  = np.interp(p, p_zeroone, q_sim_fut)\n",
    "F_sim_hist_inv = np.interp(p, p_zeroone, q_sim_hist)\n",
    "F_obs_hist_inv = np.interp(p, p_zeroone, q_obs_hist)"
   ]
  },
  {
   "cell_type": "code",
   "execution_count": 224,
   "metadata": {},
   "outputs": [],
   "source": [
    "# My stuff:\n",
    "\n",
    "# Compute p = F_obs_hist(x) with x in obs_hist\n",
    "ecdf_obs_hist = ECDF(obs)\n",
    "p = ecdf_obs_hist(obs)\n",
    "\n",
    "# Compute iecdfs\n",
    "iecdf_cm_hist = IECDF(cm_hist)\n",
    "iecdf_cm_future = IECDF(cm_future)\n",
    "\n",
    "# Compute q-vals\n",
    "q_obs_hist = obs  # TODO: = iecdf_obs_hist(p), appears in eq. 7\n",
    "q_cm_future = iecdf_cm_future(p)\n",
    "q_cm_hist = iecdf_cm_hist(p)"
   ]
  },
  {
   "cell_type": "markdown",
   "metadata": {},
   "source": [
    "I could use the isimip_ecdf in my code in which case it would be:"
   ]
  },
  {
   "cell_type": "code",
   "execution_count": 231,
   "metadata": {},
   "outputs": [
    {
     "data": {
      "text/plain": [
       "array([  2.15385457,   3.67471597,   5.08157353,   6.49478329,\n",
       "         9.66711636,  15.68944595,  18.10632357,  16.22902317,\n",
       "        13.65035137,   8.54377092,   4.08402244,   3.46516601,\n",
       "        -0.15306102,   3.03641286,   2.84963924,   5.2318289 ,\n",
       "         8.20565053,  12.86147095,  14.41004826,  17.76438181,\n",
       "        14.00231765,   6.58734519,   1.46093782,   0.31998249,\n",
       "         0.93566268,  -0.77818707,   5.90502328,   5.52307632,\n",
       "         7.72435443,  12.02882419,  15.49111856,  17.06438846,\n",
       "        13.59585689,   6.52180032,   3.51666692,   0.25541172,\n",
       "         0.48898202,   1.12568989,   1.96375293,   4.32115123,\n",
       "         8.26294386,  15.52450926,  19.13203301,  15.3649094 ,\n",
       "        15.06852102,   6.29277559,   3.50740372,   0.55259384,\n",
       "         1.71947736,  -1.63384107,   2.26320928,   3.40422777,\n",
       "         6.32001955,  14.28211766,  20.24567854,  17.38803455,\n",
       "        12.48319911,   6.07470624,   2.12883595,  -0.08215119,\n",
       "         0.06176286,  -0.76031403,   0.30263949,   4.07809249,\n",
       "         5.254656  ,  12.40795025,  15.67678783,  15.64941591,\n",
       "         9.36296945,   6.0880327 ,   4.73379671,  -0.29249372,\n",
       "        -3.93339141,  -2.07062479,  -0.02360449,   4.54354825,\n",
       "         6.69391508,   9.87548594,  16.55626774,  13.22315868,\n",
       "        12.98912334,   5.34614728,  -0.62496276,   0.51305143,\n",
       "        -0.61717415,  -5.27147466,  -0.10878652,   0.83168202,\n",
       "         7.04633729,  14.17487569,  14.90990216,  12.933274  ,\n",
       "         6.07678404,   6.83190568,   2.24569257,   0.2296825 ,\n",
       "        -6.73490679,  -1.72679375,  -0.94790482,   5.25174559,\n",
       "         4.8653074 ,   8.86340772,  14.1731625 ,  14.90095056,\n",
       "        12.93397766,   5.37295872,   0.61731492,  -1.04562378,\n",
       "         0.94083312,  -0.93049181,   0.80839045,   3.90028022,\n",
       "         6.93979525,  11.35222144,  12.33622078,  14.83857434,\n",
       "         9.87278425,   5.27631383,  -0.71728451,   0.85356032,\n",
       "        -1.6726013 ,  -0.41955185,   3.41565971,   1.30526638,\n",
       "        10.88297307,  12.22123261,  17.10161945,  15.5704858 ,\n",
       "        11.93474508,   6.55368837,  -0.67907841,  -1.60919941,\n",
       "        -1.2456111 ,   1.95107129,   1.57569707,   1.66647571,\n",
       "        10.14742719,   9.42914748,  15.97816589,  17.0918505 ,\n",
       "         8.66798385,   5.6936502 ,   0.11457024,  -2.87354167,\n",
       "        -2.34534797,  -4.89521501,   2.10526608,   1.54977342,\n",
       "         3.85904035,   6.19342337,  15.01655722,  15.89628015,\n",
       "        11.68491003,   3.47609953,  -0.59243206,  -3.07899267,\n",
       "        -3.30565491,  -2.09778365,   0.74265764,   1.59900945,\n",
       "         8.64184544,  10.94493181,  15.31052475,  15.96547975,\n",
       "         8.80297257,   1.18950208,   1.52049692,  -2.56638798,\n",
       "        -0.55343065,  -3.64702359,  -0.50179711,   3.29297402,\n",
       "         5.67870191,  10.91497376,  11.79202488,  11.81273408,\n",
       "         5.45547564,   1.83973709,  -3.75205684,  -0.96018313,\n",
       "        -1.77491713,  -2.61195237,   1.20171616,   0.77959193,\n",
       "         4.80011576,  10.63438361,  16.23817806,  14.10239081,\n",
       "         5.65790916,   3.01637307,   2.73362615,  -1.24072328,\n",
       "        -2.70098464,  -0.09240141,  -1.63089033,   1.15615612,\n",
       "         4.43610963,   9.23030284,  16.36739351,  15.803713  ,\n",
       "         5.39566218,   5.72797602,  -1.11150636,  -4.45171999,\n",
       "        -3.89523413,  -5.11819364,  -2.7187708 ,   1.51879923,\n",
       "         2.36312824,  10.96165204,  12.97741497,  12.76513675,\n",
       "         4.38729184,   2.74697802,  -2.15932399,  -5.8851532 ,\n",
       "        -7.36743716,  -1.90701319,   0.07265838,   0.55149448,\n",
       "         3.7764429 ,   8.84950883,  11.98002749,  15.56034051,\n",
       "         8.37451996,   1.71595671,  -1.21461001,  -3.50097111,\n",
       "        -4.61388013,  -3.98629699,  -1.57184434,  -0.62571663,\n",
       "         7.42317492,   8.97658051,  10.11764198,  12.85648994,\n",
       "         7.83936635,   1.31299272,  -4.63520143,  -4.45144019,\n",
       "        -3.8017312 ,  -4.94990326,  -2.12462965,   0.31667823,\n",
       "         6.74628334,   7.54233876,  13.61275888,  12.14927864,\n",
       "         9.6614992 ,   0.71983038,  -4.06149213,  -4.82895142,\n",
       "        -6.00845287,  -3.50236753,  -3.18329177,  -0.88281449,\n",
       "         4.01378767,   8.82638385,   8.0210346 ,  11.85626522,\n",
       "         7.62779321,   0.65859937,  -2.92172651,  -3.59949881,\n",
       "        -5.72270421,  -5.43926262,  -2.69229367,  -2.54036416,\n",
       "         3.8402451 ,   8.244113  ,  11.63137963,  12.58841118,\n",
       "         2.2068911 ,   5.10848658,  -4.6222513 ,  -7.16346661,\n",
       "        -5.41799693,  -3.31003126,  -2.89794439,  -0.7653361 ,\n",
       "         1.13275132,   8.1179316 ,   9.46573414,  10.05064504,\n",
       "         4.4016513 ,  -0.14250218,  -2.64408936,  -4.48051388,\n",
       "        -7.57763878,  -7.31618873,  -1.88215243,  -0.71378224,\n",
       "         1.58715168,  11.92608484,  12.26818773,  15.58539586,\n",
       "         6.03898724,  -2.18668693,  -3.57139653,  -6.75738923,\n",
       "        -6.63432231,  -6.6997959 ,  -5.61925466,  -1.85030689,\n",
       "        -0.18469226,   7.6967367 ,   9.04320471,  10.9955767 ,\n",
       "         6.89447255,  -0.76931458,  -4.8074829 ,  -8.43495136,\n",
       "        -7.2313519 ,  -8.72977934,  -5.46556781,  -2.18992992,\n",
       "         0.05675389,   8.59453417,   9.72859471,   7.49027687,\n",
       "         6.43141847,   3.79742695,  -6.91717844,  -9.04535739,\n",
       "        -9.26916078,  -9.275588  ,  -7.52222489,  -3.24580218,\n",
       "         0.18662396,   8.19157798,  13.24437764,   5.59789322,\n",
       "         8.62725076,   1.14657242,  -5.18005349,  -8.28700827,\n",
       "        -6.21258992,  -6.06102476,  -6.71986223,  -1.29175542,\n",
       "        -0.24817773,   4.96925788,   5.26703004,   4.76314336,\n",
       "        -0.33513222,  -4.1026287 ,  -7.75946281, -10.44237412,\n",
       "        -9.18739467,  -9.62721158,  -8.87446326,  -6.69524629,\n",
       "         1.39509906,   2.90551478,   5.97997143,   5.45153684,\n",
       "        -2.57343787,  -5.64087622,  -8.47523478, -12.42352426,\n",
       "       -13.63295281, -11.96918531,  -9.45233012,  -5.61036928,\n",
       "        -3.38293977,   1.8724054 ,   5.450657  ,   6.65792583,\n",
       "         0.55079586,  -5.79999568,  -7.01151643, -12.99104024,\n",
       "       -15.64370933, -13.13137014, -10.58830211,  -7.16902484,\n",
       "        -6.00999024,   2.50706332,   6.38879391,   3.3581549 ,\n",
       "        -0.59053904,  -6.75927629, -11.32619615, -16.33627723,\n",
       "       -13.16080724, -11.40561387, -10.01250277,  -5.36911137,\n",
       "        -1.69089738,   1.00614263,   1.1921892 ,   3.30458252,\n",
       "         1.20787935,  -6.00023279,  -8.86846536, -11.17407863,\n",
       "       -12.33508583, -15.87314778,  -9.19595967, -10.37500212,\n",
       "        -4.74507488,  -0.58739771,   1.71742602,   4.78535529,\n",
       "        -2.36407952,  -7.21228879, -11.64644113, -12.57781106,\n",
       "       -14.71063061, -15.41115576, -14.18054834,  -9.76288639,\n",
       "        -8.08443021,  -1.61382781,   5.29850569,   2.80964117,\n",
       "        -1.62690649,  -6.63179079, -12.35343781, -13.57496507,\n",
       "       -12.5172236 , -12.41553265, -11.09855205,  -8.4047977 ,\n",
       "        -7.18637388,  -0.88542652,   3.19790599,  -0.735976  ,\n",
       "        -0.62644595,  -6.76812946,  -9.87689762, -14.53209016,\n",
       "       -14.92663813, -15.5419327 , -12.54546916,  -8.97639095,\n",
       "        -7.36228866,   0.05299196,   3.70541886,   3.5970418 ,\n",
       "        -6.8094373 ,  -9.33473723,  -9.67789697, -11.09711056,\n",
       "       -15.05078217, -14.97333698, -14.31530551, -11.97119181,\n",
       "        -7.96477376,  -2.42958464,   1.64952093,   2.72520576,\n",
       "        -0.02335664, -10.6215787 , -13.88207574, -16.93080652,\n",
       "       -18.3711748 , -14.59170254, -11.24185516, -11.59424533,\n",
       "        -4.93282411,   1.20166363,   2.01713248,   0.48899666,\n",
       "        -5.65540004,  -8.97065629, -13.99955726, -16.30533228,\n",
       "       -14.58280148, -19.15649066, -15.34698696, -10.19919384,\n",
       "        -5.70256848,  -0.71737642,   2.67643297,   1.05831481,\n",
       "        -4.35902059, -10.58677787, -14.85743751, -15.57535078,\n",
       "       -17.93899484, -15.96095279, -14.0600942 , -12.30583779,\n",
       "       -10.81037378,  -1.29757632,   1.34788433,   0.64943265,\n",
       "        -4.83846266, -11.09513217, -15.67502419, -16.8603455 ,\n",
       "       -17.03794312, -15.46737439, -15.70531051, -10.87257368,\n",
       "        -8.80762096,  -4.10325897,  -0.73443623,   0.71974522,\n",
       "        -3.60265519, -12.34630624, -14.51205528, -17.37004854,\n",
       "       -19.14507974, -17.81679089, -16.53593642, -16.09612316,\n",
       "       -12.51282576,  -2.94004975,  -1.78375174,  -4.07627705,\n",
       "        -4.94509534, -13.46327272, -18.42660837, -18.55850845,\n",
       "       -21.41824677, -20.02846513])"
      ]
     },
     "execution_count": 231,
     "metadata": {},
     "output_type": "execute_result"
    }
   ],
   "source": [
    "F_sim_hist_inv-np.quantile(np.array(cm_hist), np.linspace(0, 1, 518))"
   ]
  },
  {
   "cell_type": "code",
   "execution_count": 228,
   "metadata": {},
   "outputs": [],
   "source": [
    "ecdf_obs_hist = ECDF(obs)\n",
    "q_obs = ecdf_obs_hist(obs)\n",
    "\n",
    "# ISIMIP:\n",
    "n_quantiles = 431\n",
    "n = min([n_quantiles + 1, obs.size, cm_hist.size, cm_future.size])\n",
    "p_zeroone = np.linspace(0., 1., n)\n",
    "\n",
    "# compute quantiles of input data\n",
    "q_obs_hist = uf.percentile1d(obs, p_zeroone)\n",
    "p = np.interp(obs, q_obs_hist, p_zeroone)"
   ]
  },
  {
   "cell_type": "markdown",
   "metadata": {},
   "source": [
    "# ISIMIP"
   ]
  },
  {
   "cell_type": "code",
   "execution_count": 146,
   "metadata": {},
   "outputs": [
    {
     "data": {
      "text/plain": [
       "\"test = adjust_bias_one_month(\\n    data = {'obs_hist': [obs], 'sim_hist': [cm_hist], 'sim_fut': [cm_future]},\\n    years = {'obs_hist': list(range(1979, 2023)), 'sim_hist': list(range(1986, 2023)), 'sim_fut': list(range(2023, 2059))},\\n    long_term_mean = {'obs_hist' : [obs.mean()], 'sim_hist' : [cm_hist.mean()], 'sim_fut' : [cm_future.mean()]},\\n    distribution = ['norm']\\n)\""
      ]
     },
     "execution_count": 146,
     "metadata": {},
     "output_type": "execute_result"
    }
   ],
   "source": [
    "from code_isimip.bias_adjustment import adjust_bias_one_month, map_quantiles_parametric_trend_preserving\n",
    "\n",
    "\"\"\"test = adjust_bias_one_month(\n",
    "    data = {'obs_hist': [obs], 'sim_hist': [cm_hist], 'sim_fut': [cm_future]},\n",
    "    years = {'obs_hist': list(range(1979, 2023)), 'sim_hist': list(range(1986, 2023)), 'sim_fut': list(range(2023, 2059))},\n",
    "    long_term_mean = {'obs_hist' : [obs.mean()], 'sim_hist' : [cm_hist.mean()], 'sim_fut' : [cm_future.mean()]},\n",
    "    distribution = ['norm']\n",
    ")\"\"\""
   ]
  },
  {
   "cell_type": "code",
   "execution_count": 169,
   "metadata": {},
   "outputs": [],
   "source": [
    "#test = map_quantiles_parametric_trend_preserving(obs, cm_hist, cm_future, distribution = \"normal\", trend_preservation = \"mixed\", adjust_p_values=True)\n",
    "\n",
    "pr_isimip_adjusted = map_quantiles_parametric_trend_preserving(\n",
    "    obs, cm_hist, cm_future, \n",
    "    distribution = \"gamma\", \n",
    "    trend_preservation = \"mixed\",\n",
    "    adjust_p_values = False,\n",
    "    lower_bound = 0,\n",
    "    lower_threshold = 0.1 / 86400,\n",
    "    upper_bound = None,\n",
    "    upper_threshold = None\n",
    ")\n",
    "\n",
    "#test2 = map_quantiles_parametric_trend_preserving(obs, cm_hist, cm_future, distribution = \"norm\", trend_preservation = \"multiplicative\")\n",
    "#test3 = map_quantiles_parametric_trend_preserving(obs, cm_hist, cm_future, distribution = \"norm\", trend_preservation = \"mixed\")"
   ]
  },
  {
   "cell_type": "code",
   "execution_count": 170,
   "metadata": {},
   "outputs": [
    {
     "data": {
      "text/plain": [
       "20.56167962652684"
      ]
     },
     "execution_count": 170,
     "metadata": {},
     "output_type": "execute_result"
    }
   ],
   "source": [
    "np.max(np.abs(pr_isimip_adjusted - pr_adjusted))/np.mean(pr_adjusted)"
   ]
  },
  {
   "cell_type": "code",
   "execution_count": null,
   "metadata": {},
   "outputs": [],
   "source": [
    "# difference ist immer im range 0.06 für temp\n",
    "# adjust_p_values ist die tas-Ausnahme (True heißt die werden adjusted) denke ich. WO kommt das in isimip code rein?"
   ]
  }
 ],
 "metadata": {
  "kernelspec": {
   "display_name": "Python 3",
   "language": "python",
   "name": "python3"
  },
  "language_info": {
   "codemirror_mode": {
    "name": "ipython",
    "version": 3
   },
   "file_extension": ".py",
   "mimetype": "text/x-python",
   "name": "python",
   "nbconvert_exporter": "python",
   "pygments_lexer": "ipython3",
   "version": "3.8.5"
  }
 },
 "nbformat": 4,
 "nbformat_minor": 4
}
