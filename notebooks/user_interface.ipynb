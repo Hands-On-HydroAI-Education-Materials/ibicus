{
 "cells": [
  {
   "cell_type": "markdown",
   "metadata": {},
   "source": [
    "# Setup and data loading"
   ]
  },
  {
   "cell_type": "code",
   "execution_count": 1,
   "metadata": {},
   "outputs": [],
   "source": [
    "import sys\n",
    "sys.path.append(\"../\")  # path contains python_file.py\n",
    "\n",
    "import iris\n",
    "import numpy as np\n",
    "import scipy.stats"
   ]
  },
  {
   "cell_type": "code",
   "execution_count": 2,
   "metadata": {},
   "outputs": [],
   "source": [
    "%load_ext autoreload\n",
    "%autoreload 2"
   ]
  },
  {
   "cell_type": "markdown",
   "metadata": {},
   "source": [
    "# 1. Data import and pre-processing"
   ]
  },
  {
   "cell_type": "code",
   "execution_count": 3,
   "metadata": {},
   "outputs": [],
   "source": [
    "from cf_units import num2date\n",
    "\n",
    "def get_dates(x):\n",
    "    time_dimension = x.coords()[2]\n",
    "    dates = time_dimension.units.num2date(time_dimension.points)\n",
    "    return dates\n",
    "\n",
    "def preprocess_isimip_evaluation_testing_data(variable):\n",
    "    \n",
    "    obs_all = iris.load_cube(\"testing_data/ISIMIP/\"+variable+\"_obs-hist_coarse_1979-2014.nc\")\n",
    "    cm = iris.load_cube(\"testing_data/ISIMIP/\"+variable+\"_sim-hist_coarse_1979-2014.nc\")\n",
    "    \n",
    "    obs = obs_all[:, :, 0:9000]\n",
    "    obs_validate = obs_all[:, :, 9001:]\n",
    "    cm_hist = cm[:, :, 0:9000]\n",
    "    cm_future = cm[:, :, 9001:]\n",
    "\n",
    "    dates = {\n",
    "        \"time_obs_hist\": get_dates(obs),\n",
    "        #\"obs_validate\": get_dates(obs_validate),\n",
    "        \"time_cm_hist\": get_dates(cm_hist),\n",
    "        \"time_cm_future\": get_dates(cm_future),\n",
    "    }\n",
    "    \n",
    "    obs = np.transpose(np.array(obs.data), (2, 0, 1))\n",
    "    obs_validate = np.transpose(np.array(obs_validate.data), (2, 0, 1))\n",
    "    cm_hist = np.transpose(np.array(cm_hist.data), (2, 0, 1))\n",
    "    cm_future = np.transpose(np.array(cm_future.data), (2, 0, 1))\n",
    "    \n",
    "    return obs, obs_validate, cm_hist, cm_future, dates"
   ]
  },
  {
   "cell_type": "code",
   "execution_count": 4,
   "metadata": {},
   "outputs": [],
   "source": [
    "tas_obs, tas_obs_validate, tas_cm_hist, tas_cm_future, tas_dates = preprocess_isimip_evaluation_testing_data('tas')\n",
    "pr_obs, pr_obs_validate, pr_cm_hist, pr_cm_future, pr_dates = preprocess_isimip_evaluation_testing_data('pr')"
   ]
  },
  {
   "cell_type": "markdown",
   "metadata": {},
   "source": [
    "# 2. Overview of implemented debiasers"
   ]
  },
  {
   "cell_type": "code",
   "execution_count": 5,
   "metadata": {},
   "outputs": [],
   "source": [
    "from scipy.stats import norm, laplace, gamma\n",
    "\n",
    "from PACKAGE_NAME.debias import QuantileMapping, QuantileDeltaMapping\n",
    "from PACKAGE_NAME.debias import ScaledDistributionMapping, LinearScaling\n",
    "from PACKAGE_NAME.debias import EquidistantCDFMatching, DeltaChange, ISIMIP\n",
    "\n",
    "from PACKAGE_NAME.utils import gen_PrecipitationHurdleModel, gen_PrecipitationGammaLeftCensoredModel\n",
    "\n",
    "from PACKAGE_NAME.variables import Temperature, Precipitation"
   ]
  },
  {
   "cell_type": "markdown",
   "metadata": {},
   "source": [
    "### Debiaser 1: Delta change (DC)"
   ]
  },
  {
   "cell_type": "markdown",
   "metadata": {},
   "source": [
    "Initialized from variable"
   ]
  },
  {
   "cell_type": "code",
   "execution_count": 23,
   "metadata": {},
   "outputs": [
    {
     "name": "stdout",
     "output_type": "stream",
     "text": [
      "----- Running debiasing -----\n"
     ]
    },
    {
     "name": "stderr",
     "output_type": "stream",
     "text": [
      "100%|███████████████████████████████████████████| 4/4 [00:00<00:00, 2186.81it/s]\n"
     ]
    }
   ],
   "source": [
    "tas_debiaser = DeltaChange.from_variable(variable = \"tas\")\n",
    "tas_debiased_DC = tas_debiaser.apply(tas_obs, tas_cm_hist, tas_cm_future)"
   ]
  },
  {
   "cell_type": "code",
   "execution_count": 24,
   "metadata": {},
   "outputs": [
    {
     "data": {
      "text/plain": [
       "DeltaChange(delta_type='additive', variable='Temperature')"
      ]
     },
     "execution_count": 24,
     "metadata": {},
     "output_type": "execute_result"
    }
   ],
   "source": [
    "tas_debiaser"
   ]
  },
  {
   "cell_type": "markdown",
   "metadata": {},
   "source": [
    "### Debiaser 2: Linear Scaling (LS)"
   ]
  },
  {
   "cell_type": "markdown",
   "metadata": {},
   "source": [
    "Initialized from constructor"
   ]
  },
  {
   "cell_type": "code",
   "execution_count": 7,
   "metadata": {},
   "outputs": [
    {
     "name": "stdout",
     "output_type": "stream",
     "text": [
      "----- Running debiasing -----\n"
     ]
    },
    {
     "name": "stderr",
     "output_type": "stream",
     "text": [
      "100%|███████████████████████████████████████████| 4/4 [00:00<00:00, 4236.67it/s]\n"
     ]
    }
   ],
   "source": [
    "tas_debiaser = LinearScaling(delta_type = \"additive\")\n",
    "tas_debiased_LS = tas_debiaser.apply(tas_obs, tas_cm_hist, tas_cm_future)"
   ]
  },
  {
   "cell_type": "markdown",
   "metadata": {},
   "source": [
    "Two ways to initialize the same debiaser"
   ]
  },
  {
   "cell_type": "code",
   "execution_count": 8,
   "metadata": {},
   "outputs": [
    {
     "data": {
      "text/plain": [
       "True"
      ]
     },
     "execution_count": 8,
     "metadata": {},
     "output_type": "execute_result"
    }
   ],
   "source": [
    "LinearScaling(delta_type = \"additive\") == LinearScaling.from_variable(\"tas\")"
   ]
  },
  {
   "cell_type": "markdown",
   "metadata": {},
   "source": [
    "### Debiaser 3: Quantile Mapping (QM)"
   ]
  },
  {
   "cell_type": "markdown",
   "metadata": {},
   "source": [
    "**Temperature**"
   ]
  },
  {
   "cell_type": "markdown",
   "metadata": {},
   "source": [
    "Initialized from constructor"
   ]
  },
  {
   "cell_type": "code",
   "execution_count": 9,
   "metadata": {},
   "outputs": [
    {
     "name": "stdout",
     "output_type": "stream",
     "text": [
      "----- Running debiasing -----\n"
     ]
    },
    {
     "name": "stderr",
     "output_type": "stream",
     "text": [
      "100%|████████████████████████████████████████████| 4/4 [00:00<00:00, 874.27it/s]\n"
     ]
    }
   ],
   "source": [
    "tas_debiaser_QM1 = QuantileMapping(distribution=norm, delta_type=\"additive\")\n",
    "tas_debiased_QM1 = tas_debiaser_QM1.apply(tas_obs, tas_cm_hist, tas_cm_future)"
   ]
  },
  {
   "cell_type": "markdown",
   "metadata": {},
   "source": [
    "Initialized from variable"
   ]
  },
  {
   "cell_type": "code",
   "execution_count": 10,
   "metadata": {},
   "outputs": [
    {
     "name": "stdout",
     "output_type": "stream",
     "text": [
      "----- Running debiasing -----\n"
     ]
    },
    {
     "name": "stderr",
     "output_type": "stream",
     "text": [
      "100%|████████████████████████████████████████████| 4/4 [00:00<00:00, 889.66it/s]\n"
     ]
    }
   ],
   "source": [
    "tas_debiaser_QM2 = QuantileMapping.from_variable(variable=\"tas\")\n",
    "tas_debiased_QM2 = tas_debiaser_QM2.apply(tas_obs, tas_cm_hist, tas_cm_future)"
   ]
  },
  {
   "cell_type": "markdown",
   "metadata": {},
   "source": [
    "Compare the two"
   ]
  },
  {
   "cell_type": "code",
   "execution_count": 11,
   "metadata": {},
   "outputs": [
    {
     "data": {
      "text/plain": [
       "True"
      ]
     },
     "execution_count": 11,
     "metadata": {},
     "output_type": "execute_result"
    }
   ],
   "source": [
    "tas_debiaser_QM1 == tas_debiaser_QM2"
   ]
  },
  {
   "cell_type": "markdown",
   "metadata": {},
   "source": [
    "Initialize from variable, overwrite some arguments"
   ]
  },
  {
   "cell_type": "code",
   "execution_count": 12,
   "metadata": {},
   "outputs": [
    {
     "name": "stdout",
     "output_type": "stream",
     "text": [
      "----- Running debiasing -----\n"
     ]
    },
    {
     "name": "stderr",
     "output_type": "stream",
     "text": [
      "100%|████████████████████████████████████████████| 4/4 [00:00<00:00, 731.51it/s]\n"
     ]
    }
   ],
   "source": [
    "tas_debiaser_QM3 = QuantileMapping.from_variable(variable=\"tas\", delta_type=\"no_delta\", distribution = laplace)\n",
    "tas_debiased_QM3 = tas_debiaser_QM3.apply(tas_obs, tas_cm_hist, tas_cm_future)"
   ]
  },
  {
   "cell_type": "markdown",
   "metadata": {},
   "source": [
    "Using the variable class but overwriting the standard distribution"
   ]
  },
  {
   "cell_type": "code",
   "execution_count": 13,
   "metadata": {},
   "outputs": [],
   "source": [
    "tas_debiaser_QM4 = QuantileMapping.from_variable(variable=Temperature, delta_type=\"additive\", distribution = laplace)"
   ]
  },
  {
   "cell_type": "markdown",
   "metadata": {},
   "source": [
    "**Precipitation**"
   ]
  },
  {
   "cell_type": "markdown",
   "metadata": {},
   "source": [
    "Using special initialisation for precipitation"
   ]
  },
  {
   "cell_type": "code",
   "execution_count": 14,
   "metadata": {},
   "outputs": [],
   "source": [
    "pr_debiaser_QM1 = QuantileMapping.for_precipitation(delta_type = \"multiplicative\", \n",
    "                                                    precipitation_model_type = \"censored\", \n",
    "                                                    precipitation_censoring_value = 0.1)"
   ]
  },
  {
   "cell_type": "markdown",
   "metadata": {},
   "source": [
    "Specifying all the arguments and an own model for the distribution (child-class of StatisticalModel needing only fit, cdf and ppf method) 1"
   ]
  },
  {
   "cell_type": "code",
   "execution_count": 15,
   "metadata": {},
   "outputs": [
    {
     "name": "stdout",
     "output_type": "stream",
     "text": [
      "----- Running debiasing -----\n"
     ]
    },
    {
     "name": "stderr",
     "output_type": "stream",
     "text": [
      "  0%|                                                     | 0/4 [00:00<?, ?it/s]/Users/fionaspuler/Documents/GitHub/isimipy/notebooks/../PACKAGE_NAME/utils/_math_utils.py:329: RuntimeWarning: invalid value encountered in log\n",
      "  return -np.sum(scipy.stats.gamma.logpdf(x, a=params[0], scale=params[1])) - nr_censored_x * np.log(\n",
      "100%|█████████████████████████████████████████████| 4/4 [00:00<00:00,  9.47it/s]\n"
     ]
    }
   ],
   "source": [
    "left_censored_model = gen_PrecipitationGammaLeftCensoredModel(censoring_value = 0.1)\n",
    "\n",
    "pr_debiaser_QM2 = QuantileMapping(delta_type = \"multiplicative\", distribution = left_censored_model)\n",
    "\n",
    "pr_debiased_QM2 = pr_debiaser_QM2.apply(pr_obs, pr_cm_hist, pr_cm_future)"
   ]
  },
  {
   "cell_type": "markdown",
   "metadata": {},
   "source": [
    "Using the for_precipitation method but an own model for the distribution (child-class of StatisticalModel needing only fit, cdf and ppf method) 2"
   ]
  },
  {
   "cell_type": "code",
   "execution_count": 16,
   "metadata": {},
   "outputs": [
    {
     "name": "stdout",
     "output_type": "stream",
     "text": [
      "----- Running debiasing -----\n"
     ]
    },
    {
     "name": "stderr",
     "output_type": "stream",
     "text": [
      "100%|█████████████████████████████████████████████| 4/4 [00:00<00:00,  4.78it/s]\n"
     ]
    }
   ],
   "source": [
    "hurdle_model = gen_PrecipitationHurdleModel(distribution = gamma)\n",
    "\n",
    "pr_debiaser_QM3 = QuantileMapping.for_precipitation(delta_type = \"multiplicative\", distribution = hurdle_model)\n",
    "\n",
    "pr_debiased_QM3 = pr_debiaser_QM3.apply(pr_obs, pr_cm_hist, pr_cm_future)"
   ]
  },
  {
   "cell_type": "markdown",
   "metadata": {},
   "source": [
    "Using a variable, but overwriting the distribution"
   ]
  },
  {
   "cell_type": "code",
   "execution_count": 17,
   "metadata": {},
   "outputs": [],
   "source": [
    "hurdle_model = gen_PrecipitationHurdleModel(distribution = gamma)\n",
    "\n",
    "pr_debiaser_QM4 = QuantileMapping.from_variable(variable = \"pr\", delta_type = \"multiplicative\", \n",
    "                                                 distribution = hurdle_model)"
   ]
  },
  {
   "cell_type": "markdown",
   "metadata": {},
   "source": [
    "Compare QM3 and QM4"
   ]
  },
  {
   "cell_type": "code",
   "execution_count": 18,
   "metadata": {},
   "outputs": [
    {
     "data": {
      "text/plain": [
       "True"
      ]
     },
     "execution_count": 18,
     "metadata": {},
     "output_type": "execute_result"
    }
   ],
   "source": [
    "pr_debiaser_QM3 == pr_debiaser_QM4"
   ]
  },
  {
   "cell_type": "markdown",
   "metadata": {},
   "source": [
    "### Debiaser 4: Equidistant CDF Matching (ECDFM)"
   ]
  },
  {
   "cell_type": "code",
   "execution_count": 19,
   "metadata": {},
   "outputs": [
    {
     "name": "stdout",
     "output_type": "stream",
     "text": [
      "----- Running debiasing -----\n"
     ]
    },
    {
     "name": "stderr",
     "output_type": "stream",
     "text": [
      "100%|████████████████████████████████████████████| 4/4 [00:00<00:00, 672.03it/s]\n"
     ]
    }
   ],
   "source": [
    "tas_debiaser_ECDFM = EquidistantCDFMatching.from_variable(variable = \"tas\", distribution = norm)\n",
    "tas_debiased_ECDFM = tas_debiaser_ECDFM.apply(tas_obs, tas_cm_hist, tas_cm_future)"
   ]
  },
  {
   "cell_type": "markdown",
   "metadata": {},
   "source": [
    "### Debiaser 5: Quantile Delta Mapping (Cannon 2015) (QDM):"
   ]
  },
  {
   "cell_type": "code",
   "execution_count": 20,
   "metadata": {},
   "outputs": [
    {
     "name": "stdout",
     "output_type": "stream",
     "text": [
      "----- Running debiasing -----\n"
     ]
    },
    {
     "name": "stderr",
     "output_type": "stream",
     "text": [
      "  0%|                                                     | 0/4 [00:00<?, ?it/s]/Users/fionaspuler/Documents/GitHub/isimipy/notebooks/../PACKAGE_NAME/debias/_quantile_delta_mapping.py:128: RuntimeWarning: invalid value encountered in true_divide\n",
      "  cm_future_time_window\n",
      "100%|█████████████████████████████████████████████| 4/4 [00:00<00:00, 58.75it/s]\n"
     ]
    }
   ],
   "source": [
    "tas_debiaser_QDM = QuantileDeltaMapping(distribution=norm, time_window_length=50)\n",
    "tas_debiased_QDM = tas_debiaser_QDM.apply(tas_obs, tas_cm_hist, tas_cm_future)"
   ]
  },
  {
   "cell_type": "markdown",
   "metadata": {},
   "source": [
    "### Debiaser 6: Scaled Distribution Mapping (Switanek 2017) (SDM)"
   ]
  },
  {
   "cell_type": "code",
   "execution_count": 21,
   "metadata": {},
   "outputs": [
    {
     "name": "stdout",
     "output_type": "stream",
     "text": [
      "----- Running debiasing -----\n"
     ]
    },
    {
     "name": "stderr",
     "output_type": "stream",
     "text": [
      "100%|████████████████████████████████████████████| 4/4 [00:00<00:00, 197.61it/s]\n"
     ]
    }
   ],
   "source": [
    "tas_debiaser_SDM = ScaledDistributionMapping.from_variable(variable = \"tas\")\n",
    "tas_debiased_SDM = tas_debiaser_SDM.apply(tas_obs, tas_cm_hist, tas_cm_future)"
   ]
  },
  {
   "cell_type": "markdown",
   "metadata": {},
   "source": [
    "### Debiaser 7: ISIMIP (Lange 2019) (ISIMIP)\n",
    "\n",
    "From variable"
   ]
  },
  {
   "cell_type": "code",
   "execution_count": 22,
   "metadata": {},
   "outputs": [
    {
     "name": "stdout",
     "output_type": "stream",
     "text": [
      "----- Running debiasing -----\n"
     ]
    },
    {
     "name": "stderr",
     "output_type": "stream",
     "text": [
      "100%|█████████████████████████████████████████████| 4/4 [00:06<00:00,  1.69s/it]\n"
     ]
    }
   ],
   "source": [
    "tas_debiaser_ISIMIP1 = ISIMIP.from_variable(variable = 'tas')\n",
    "tas_debiased_ISIMIP1 = tas_debiaser_ISIMIP1.apply(tas_obs, tas_cm_hist, tas_cm_future, **tas_dates)"
   ]
  },
  {
   "cell_type": "code",
   "execution_count": 28,
   "metadata": {},
   "outputs": [],
   "source": [
    "test = ISIMIP(distribution = norm, trend_preservation_method=\"additive\", detrending = False, iecdf_method = \"linear\", ecdf_method = \"kernel_density\")"
   ]
  },
  {
   "cell_type": "code",
   "execution_count": 29,
   "metadata": {},
   "outputs": [
    {
     "data": {
      "text/plain": [
       "ISIMIP(distribution=<scipy.stats._continuous_distns.norm_gen object at 0x7fe60e105280>, trend_preservation_method='additive', detrending=False, reasonable_physical_range=None, variable='unknown', lower_bound=inf, lower_threshold=inf, upper_bound=-inf, upper_threshold=-inf, trend_removal_with_significance_test=True, trend_transfer_only_for_values_within_threshold=True, adjust_frequencies_of_values_beyond_thresholds=True, event_likelihood_adjustment=False, nonparametric_qm=False, ecdf_method='kernel_density', iecdf_method='linear', mode_non_parametric_quantile_mapping='normal', running_window_mode=True, running_window_length=31, running_window_step_length=1)"
      ]
     },
     "execution_count": 29,
     "metadata": {},
     "output_type": "execute_result"
    }
   ],
   "source": [
    "test"
   ]
  },
  {
   "cell_type": "code",
   "execution_count": null,
   "metadata": {},
   "outputs": [],
   "source": []
  }
 ],
 "metadata": {
  "kernelspec": {
   "display_name": "Python 3 (ipykernel)",
   "language": "python",
   "name": "python3"
  },
  "language_info": {
   "codemirror_mode": {
    "name": "ipython",
    "version": 3
   },
   "file_extension": ".py",
   "mimetype": "text/x-python",
   "name": "python",
   "nbconvert_exporter": "python",
   "pygments_lexer": "ipython3",
   "version": "3.9.12"
  }
 },
 "nbformat": 4,
 "nbformat_minor": 4
}
