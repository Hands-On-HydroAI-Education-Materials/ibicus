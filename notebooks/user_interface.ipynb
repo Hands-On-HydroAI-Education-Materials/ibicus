{
 "cells": [
  {
   "cell_type": "markdown",
   "metadata": {},
   "source": [
    "# Setup and data loading"
   ]
  },
  {
   "cell_type": "code",
   "execution_count": 2,
   "metadata": {},
   "outputs": [],
   "source": [
    "import sys\n",
    "sys.path.append(\"../\")  # path contains python_file.py\n",
    "\n",
    "import iris\n",
    "import numpy as np\n",
    "import scipy.stats"
   ]
  },
  {
   "cell_type": "code",
   "execution_count": 3,
   "metadata": {},
   "outputs": [],
   "source": [
    "%load_ext autoreload\n",
    "%autoreload 2"
   ]
  },
  {
   "cell_type": "markdown",
   "metadata": {},
   "source": [
    "# 1. Data import and pre-processing"
   ]
  },
  {
   "cell_type": "code",
   "execution_count": 4,
   "metadata": {},
   "outputs": [],
   "source": [
    "from cf_units import num2date\n",
    "\n",
    "def get_dates(x):\n",
    "    time_dimension = x.coords()[2]\n",
    "    dates = time_dimension.units.num2date(time_dimension.points)\n",
    "    return dates\n",
    "\n",
    "def preprocess_isimip_evaluation_testing_data(variable):\n",
    "    \n",
    "    obs_all = iris.load_cube(\"testing_data/ISIMIP/\"+variable+\"_obs-hist_coarse_1979-2014.nc\")\n",
    "    cm = iris.load_cube(\"testing_data/ISIMIP/\"+variable+\"_sim-hist_coarse_1979-2014.nc\")\n",
    "    \n",
    "    obs = obs_all[:, :, 0:9000]\n",
    "    obs_validate = obs_all[:, :, 9001:]\n",
    "    cm_hist = cm[:, :, 0:9000]\n",
    "    cm_future = cm[:, :, 9001:]\n",
    "\n",
    "    dates = {\n",
    "        \"time_obs_hist\": get_dates(obs),\n",
    "        #\"obs_validate\": get_dates(obs_validate),\n",
    "        \"time_cm_hist\": get_dates(cm_hist),\n",
    "        \"time_cm_future\": get_dates(cm_future),\n",
    "    }\n",
    "    \n",
    "    obs = np.transpose(np.array(obs.data), (2, 0, 1))\n",
    "    obs_validate = np.transpose(np.array(obs_validate.data), (2, 0, 1))\n",
    "    cm_hist = np.transpose(np.array(cm_hist.data), (2, 0, 1))\n",
    "    cm_future = np.transpose(np.array(cm_future.data), (2, 0, 1))\n",
    "    \n",
    "    return obs, obs_validate, cm_hist, cm_future, dates"
   ]
  },
  {
   "cell_type": "code",
   "execution_count": 5,
   "metadata": {},
   "outputs": [],
   "source": [
    "tas_obs, tas_obs_validate, tas_cm_hist, tas_cm_future, tas_dates = preprocess_isimip_evaluation_testing_data('tas')\n",
    "pr_obs, pr_obs_validate, pr_cm_hist, pr_cm_future, pr_dates = preprocess_isimip_evaluation_testing_data('pr')"
   ]
  },
  {
   "cell_type": "markdown",
   "metadata": {},
   "source": [
    "# 2. Overview of implemented debiasers"
   ]
  },
  {
   "cell_type": "code",
   "execution_count": 26,
   "metadata": {},
   "outputs": [],
   "source": [
    "from scipy.stats import norm, laplace\n",
    "\n",
    "from PACKAGE_NAME.debias import QuantileMapping, QuantileDeltaMapping\n",
    "from PACKAGE_NAME.debias import ScaledDistributionMapping, LinearScaling\n",
    "from PACKAGE_NAME.debias import EquidistantCDFMatching, DeltaChange, ISIMIP\n",
    "\n",
    "from PACKAGE_NAME.variables import Temperature, Precipitation"
   ]
  },
  {
   "cell_type": "markdown",
   "metadata": {},
   "source": [
    "### Debiaser 1: Delta change (DC)"
   ]
  },
  {
   "cell_type": "markdown",
   "metadata": {},
   "source": [
    "Initialized from variable"
   ]
  },
  {
   "cell_type": "code",
   "execution_count": 7,
   "metadata": {},
   "outputs": [
    {
     "name": "stdout",
     "output_type": "stream",
     "text": [
      "----- Running debiasing -----\n"
     ]
    },
    {
     "name": "stderr",
     "output_type": "stream",
     "text": [
      "100%|███████████████████████████████████████████| 4/4 [00:00<00:00, 1998.24it/s]\n"
     ]
    }
   ],
   "source": [
    "tas_debiaser = DeltaChange.from_variable(variable = \"tas\")\n",
    "tas_debiased_DC = tas_debiaser.apply(tas_obs, tas_cm_hist, tas_cm_future)"
   ]
  },
  {
   "cell_type": "markdown",
   "metadata": {},
   "source": [
    "### Debiaser 2: Linear Scaling (LS)"
   ]
  },
  {
   "cell_type": "markdown",
   "metadata": {},
   "source": [
    "Initialized from constructor"
   ]
  },
  {
   "cell_type": "code",
   "execution_count": 8,
   "metadata": {},
   "outputs": [
    {
     "name": "stdout",
     "output_type": "stream",
     "text": [
      "----- Running debiasing -----\n"
     ]
    },
    {
     "name": "stderr",
     "output_type": "stream",
     "text": [
      "100%|███████████████████████████████████████████| 4/4 [00:00<00:00, 3076.69it/s]\n"
     ]
    }
   ],
   "source": [
    "tas_debiaser = LinearScaling(delta_type = \"additive\")\n",
    "tas_debiased_LS = tas_debiaser.apply(tas_obs, tas_cm_hist, tas_cm_future)"
   ]
  },
  {
   "cell_type": "markdown",
   "metadata": {},
   "source": [
    "Two ways to initialize the same debiaser"
   ]
  },
  {
   "cell_type": "code",
   "execution_count": 9,
   "metadata": {},
   "outputs": [
    {
     "data": {
      "text/plain": [
       "True"
      ]
     },
     "execution_count": 9,
     "metadata": {},
     "output_type": "execute_result"
    }
   ],
   "source": [
    "LinearScaling(delta_type = \"additive\") == LinearScaling.from_variable(\"tas\")"
   ]
  },
  {
   "cell_type": "markdown",
   "metadata": {},
   "source": [
    "### Debiaser 3: Quantile Mapping (QM)"
   ]
  },
  {
   "cell_type": "markdown",
   "metadata": {},
   "source": [
    "**Temperature**"
   ]
  },
  {
   "cell_type": "markdown",
   "metadata": {},
   "source": [
    "Initialized from constructor"
   ]
  },
  {
   "cell_type": "code",
   "execution_count": 10,
   "metadata": {},
   "outputs": [
    {
     "name": "stdout",
     "output_type": "stream",
     "text": [
      "----- Running debiasing -----\n"
     ]
    },
    {
     "name": "stderr",
     "output_type": "stream",
     "text": [
      "100%|████████████████████████████████████████████| 4/4 [00:00<00:00, 724.62it/s]\n"
     ]
    }
   ],
   "source": [
    "tas_debiaser_QM1 = QuantileMapping(distribution=norm, delta_type=\"additive\")\n",
    "tas_debiased_QM1 = tas_debiaser_QM1.apply(tas_obs, tas_cm_hist, tas_cm_future)"
   ]
  },
  {
   "cell_type": "markdown",
   "metadata": {},
   "source": [
    "Initialized from variable"
   ]
  },
  {
   "cell_type": "code",
   "execution_count": 11,
   "metadata": {},
   "outputs": [
    {
     "name": "stdout",
     "output_type": "stream",
     "text": [
      "----- Running debiasing -----\n"
     ]
    },
    {
     "name": "stderr",
     "output_type": "stream",
     "text": [
      "100%|████████████████████████████████████████████| 4/4 [00:00<00:00, 745.29it/s]\n"
     ]
    }
   ],
   "source": [
    "tas_debiaser_QM2 = QuantileMapping.from_variable(variable=\"tas\")\n",
    "tas_debiased_QM2 = tas_debiaser_QM2.apply(tas_obs, tas_cm_hist, tas_cm_future)"
   ]
  },
  {
   "cell_type": "markdown",
   "metadata": {},
   "source": [
    "Compare the two"
   ]
  },
  {
   "cell_type": "code",
   "execution_count": 12,
   "metadata": {},
   "outputs": [
    {
     "data": {
      "text/plain": [
       "True"
      ]
     },
     "execution_count": 12,
     "metadata": {},
     "output_type": "execute_result"
    }
   ],
   "source": [
    "tas_debiaser_QM1 == tas_debiaser_QM2"
   ]
  },
  {
   "cell_type": "markdown",
   "metadata": {},
   "source": [
    "Initialize from variable, overwrite some arguments"
   ]
  },
  {
   "cell_type": "code",
   "execution_count": 13,
   "metadata": {},
   "outputs": [
    {
     "name": "stdout",
     "output_type": "stream",
     "text": [
      "----- Running debiasing -----\n"
     ]
    },
    {
     "name": "stderr",
     "output_type": "stream",
     "text": [
      "100%|████████████████████████████████████████████| 4/4 [00:00<00:00, 676.58it/s]\n"
     ]
    }
   ],
   "source": [
    "tas_debiaser_QM3 = QuantileMapping.from_variable(variable=\"tas\", delta_type=\"no_delta\", distribution = laplace)\n",
    "tas_debiased_QM3 = tas_debiaser_QM3.apply(tas_obs, tas_cm_hist, tas_cm_future)"
   ]
  },
  {
   "cell_type": "markdown",
   "metadata": {},
   "source": [
    "Using the variable class but overwriting the standard distribution"
   ]
  },
  {
   "cell_type": "code",
   "execution_count": 16,
   "metadata": {},
   "outputs": [],
   "source": [
    "tas_debiaser_QM4 = QuantileMapping.from_variable(variable=Temperature, delta_type=\"additive\", distribution = laplace)"
   ]
  },
  {
   "cell_type": "markdown",
   "metadata": {},
   "source": [
    "**Precipitation**"
   ]
  },
  {
   "cell_type": "markdown",
   "metadata": {},
   "source": [
    "Using special initialisation for precipitation"
   ]
  },
  {
   "cell_type": "code",
   "execution_count": 17,
   "metadata": {},
   "outputs": [],
   "source": [
    "pr_debiaser_QM1 = QuantileMapping.for_precipitation(delta_type = \"multiplicative\", \n",
    "                                                    precipitation_model_type = \"censored\", \n",
    "                                                    precipitation_censoring_value = 0.1)"
   ]
  },
  {
   "cell_type": "markdown",
   "metadata": {},
   "source": [
    "Specifying all the arguments and an own model for the distribution (child-class of StatisticalModel needing only fit, cdf and ppf method) 1"
   ]
  },
  {
   "cell_type": "code",
   "execution_count": 18,
   "metadata": {},
   "outputs": [
    {
     "ename": "NameError",
     "evalue": "name 'gen_PrecipitationGammaLeftCensoredModel' is not defined",
     "output_type": "error",
     "traceback": [
      "\u001b[0;31m---------------------------------------------------------------------------\u001b[0m",
      "\u001b[0;31mNameError\u001b[0m                                 Traceback (most recent call last)",
      "Input \u001b[0;32mIn [18]\u001b[0m, in \u001b[0;36m<cell line: 1>\u001b[0;34m()\u001b[0m\n\u001b[0;32m----> 1\u001b[0m left_censored_model \u001b[38;5;241m=\u001b[39m \u001b[43mgen_PrecipitationGammaLeftCensoredModel\u001b[49m(censoring_value \u001b[38;5;241m=\u001b[39m \u001b[38;5;241m0.1\u001b[39m)\n\u001b[1;32m      3\u001b[0m pr_debiaser_QM2 \u001b[38;5;241m=\u001b[39m QuantileMapping(delta_type \u001b[38;5;241m=\u001b[39m \u001b[38;5;124m\"\u001b[39m\u001b[38;5;124mmultiplicative\u001b[39m\u001b[38;5;124m\"\u001b[39m, distribution \u001b[38;5;241m=\u001b[39m left_censored_model)\n",
      "\u001b[0;31mNameError\u001b[0m: name 'gen_PrecipitationGammaLeftCensoredModel' is not defined"
     ]
    }
   ],
   "source": [
    "left_censored_model = gen_PrecipitationGammaLeftCensoredModel(censoring_value = 0.1)\n",
    "\n",
    "pr_debiaser_QM2 = QuantileMapping(delta_type = \"multiplicative\", distribution = left_censored_model)"
   ]
  },
  {
   "cell_type": "markdown",
   "metadata": {},
   "source": [
    "Using the for_precipitation method but an own model for the distribution (child-class of StatisticalModel needing only fit, cdf and ppf method) 2"
   ]
  },
  {
   "cell_type": "code",
   "execution_count": 19,
   "metadata": {},
   "outputs": [
    {
     "ename": "NameError",
     "evalue": "name 'gen_PrecipitationHurdleModel' is not defined",
     "output_type": "error",
     "traceback": [
      "\u001b[0;31m---------------------------------------------------------------------------\u001b[0m",
      "\u001b[0;31mNameError\u001b[0m                                 Traceback (most recent call last)",
      "Input \u001b[0;32mIn [19]\u001b[0m, in \u001b[0;36m<cell line: 1>\u001b[0;34m()\u001b[0m\n\u001b[0;32m----> 1\u001b[0m hurdle_model \u001b[38;5;241m=\u001b[39m \u001b[43mgen_PrecipitationHurdleModel\u001b[49m(distribution \u001b[38;5;241m=\u001b[39m gamma)\n\u001b[1;32m      3\u001b[0m pr_debiaser_QM3 \u001b[38;5;241m=\u001b[39m QuantileMapping\u001b[38;5;241m.\u001b[39mfor_precipitation(delta_type \u001b[38;5;241m=\u001b[39m \u001b[38;5;124m\"\u001b[39m\u001b[38;5;124mmultiplicative\u001b[39m\u001b[38;5;124m\"\u001b[39m, distribution \u001b[38;5;241m=\u001b[39m hurdle_model)\n",
      "\u001b[0;31mNameError\u001b[0m: name 'gen_PrecipitationHurdleModel' is not defined"
     ]
    }
   ],
   "source": [
    "hurdle_model = gen_PrecipitationHurdleModel(distribution = gamma)\n",
    "\n",
    "pr_debiaser_QM3 = QuantileMapping.for_precipitation(delta_type = \"multiplicative\", distribution = hurdle_model)"
   ]
  },
  {
   "cell_type": "markdown",
   "metadata": {},
   "source": [
    "Using a variable, but overwriting the distribution"
   ]
  },
  {
   "cell_type": "code",
   "execution_count": 20,
   "metadata": {},
   "outputs": [
    {
     "ename": "NameError",
     "evalue": "name 'gen_PrecipitationHurdleModel' is not defined",
     "output_type": "error",
     "traceback": [
      "\u001b[0;31m---------------------------------------------------------------------------\u001b[0m",
      "\u001b[0;31mNameError\u001b[0m                                 Traceback (most recent call last)",
      "Input \u001b[0;32mIn [20]\u001b[0m, in \u001b[0;36m<cell line: 1>\u001b[0;34m()\u001b[0m\n\u001b[0;32m----> 1\u001b[0m hurdle_model \u001b[38;5;241m=\u001b[39m \u001b[43mgen_PrecipitationHurdleModel\u001b[49m(distribution \u001b[38;5;241m=\u001b[39m gamma)\n\u001b[1;32m      3\u001b[0m pr_debiaser_QM4 \u001b[38;5;241m=\u001b[39m QuantileMapping\u001b[38;5;241m.\u001b[39mfrom_variable(variable \u001b[38;5;241m=\u001b[39m \u001b[38;5;124m\"\u001b[39m\u001b[38;5;124mpr\u001b[39m\u001b[38;5;124m\"\u001b[39m, delta_type \u001b[38;5;241m=\u001b[39m \u001b[38;5;124m\"\u001b[39m\u001b[38;5;124mmultiplicative\u001b[39m\u001b[38;5;124m\"\u001b[39m, \n\u001b[1;32m      4\u001b[0m                                                  distribution \u001b[38;5;241m=\u001b[39m hurdle_model)\n",
      "\u001b[0;31mNameError\u001b[0m: name 'gen_PrecipitationHurdleModel' is not defined"
     ]
    }
   ],
   "source": [
    "hurdle_model = gen_PrecipitationHurdleModel(distribution = gamma)\n",
    "\n",
    "pr_debiaser_QM4 = QuantileMapping.from_variable(variable = \"pr\", delta_type = \"multiplicative\", \n",
    "                                                 distribution = hurdle_model)"
   ]
  },
  {
   "cell_type": "markdown",
   "metadata": {},
   "source": [
    "### Debiaser 4: Equidistant CDF Matching (ECDFM)"
   ]
  },
  {
   "cell_type": "code",
   "execution_count": 21,
   "metadata": {},
   "outputs": [
    {
     "name": "stdout",
     "output_type": "stream",
     "text": [
      "----- Running debiasing -----\n"
     ]
    },
    {
     "name": "stderr",
     "output_type": "stream",
     "text": [
      "100%|████████████████████████████████████████████| 4/4 [00:00<00:00, 611.41it/s]\n"
     ]
    }
   ],
   "source": [
    "tas_debiaser_ECDFM = EquidistantCDFMatching.from_variable(variable = \"temp\", distribution = norm)\n",
    "tas_debiased_ECDFM = tas_debiaser_ECDFM.apply(tas_obs, tas_cm_hist, tas_cm_future)"
   ]
  },
  {
   "cell_type": "markdown",
   "metadata": {},
   "source": [
    "### Debiaser 5: Quantile Delta Mapping (Cannon 2015) (QDM):"
   ]
  },
  {
   "cell_type": "code",
   "execution_count": 22,
   "metadata": {},
   "outputs": [
    {
     "name": "stdout",
     "output_type": "stream",
     "text": [
      "----- Running debiasing -----\n"
     ]
    },
    {
     "name": "stderr",
     "output_type": "stream",
     "text": [
      "  0%|                                                     | 0/4 [00:00<?, ?it/s]/Users/fionaspuler/Documents/GitHub/isimipy/notebooks/../PACKAGE_NAME/debias/_quantile_delta_mapping.py:128: RuntimeWarning: invalid value encountered in true_divide\n",
      "  cm_future_time_window\n",
      "100%|█████████████████████████████████████████████| 4/4 [00:00<00:00, 55.95it/s]\n"
     ]
    }
   ],
   "source": [
    "tas_debiaser_QDM = QuantileDeltaMapping(distribution=norm, time_window_length=50)\n",
    "tas_debiased_QDM = tas_debiaser_QDM.apply(tas_obs, tas_cm_hist, tas_cm_future)"
   ]
  },
  {
   "cell_type": "markdown",
   "metadata": {},
   "source": [
    "### Debiaser 6: Scaled Distribution Mapping (Switanek 2017) (SDM)"
   ]
  },
  {
   "cell_type": "code",
   "execution_count": 23,
   "metadata": {},
   "outputs": [
    {
     "name": "stdout",
     "output_type": "stream",
     "text": [
      "----- Running debiasing -----\n"
     ]
    },
    {
     "name": "stderr",
     "output_type": "stream",
     "text": [
      "100%|████████████████████████████████████████████| 4/4 [00:00<00:00, 184.57it/s]\n"
     ]
    }
   ],
   "source": [
    "tas_debiaser_SDM = ScaledDistributionMapping.from_variable(variable = \"temp\")\n",
    "tas_debiased_SDM = tas_debiaser_SDM.apply(tas_obs, tas_cm_hist, tas_cm_future)"
   ]
  },
  {
   "cell_type": "markdown",
   "metadata": {},
   "source": [
    "### Debiaser 7: ISIMIP (Lange 2019) (ISIMIP)\n",
    "\n",
    "From variable"
   ]
  },
  {
   "cell_type": "code",
   "execution_count": 27,
   "metadata": {},
   "outputs": [
    {
     "name": "stdout",
     "output_type": "stream",
     "text": [
      "----- Running debiasing -----\n"
     ]
    },
    {
     "name": "stderr",
     "output_type": "stream",
     "text": [
      "  0%|                                                     | 0/4 [00:00<?, ?it/s]\n"
     ]
    },
    {
     "ename": "IndexError",
     "evalue": "arrays used as indices must be of integer (or boolean) type",
     "output_type": "error",
     "traceback": [
      "\u001b[0;31m---------------------------------------------------------------------------\u001b[0m",
      "\u001b[0;31mIndexError\u001b[0m                                Traceback (most recent call last)",
      "Input \u001b[0;32mIn [27]\u001b[0m, in \u001b[0;36m<cell line: 2>\u001b[0;34m()\u001b[0m\n\u001b[1;32m      1\u001b[0m tas_debiaser_ISIMIP1 \u001b[38;5;241m=\u001b[39m ISIMIP\u001b[38;5;241m.\u001b[39mfrom_variable(variable \u001b[38;5;241m=\u001b[39m \u001b[38;5;124m'\u001b[39m\u001b[38;5;124mtas\u001b[39m\u001b[38;5;124m'\u001b[39m)\n\u001b[0;32m----> 2\u001b[0m tas_debiased_ISIMIP1 \u001b[38;5;241m=\u001b[39m \u001b[43mtas_debiaser_ISIMIP1\u001b[49m\u001b[38;5;241;43m.\u001b[39;49m\u001b[43mapply\u001b[49m\u001b[43m(\u001b[49m\u001b[43mtas_obs\u001b[49m\u001b[43m,\u001b[49m\u001b[43m \u001b[49m\u001b[43mtas_cm_hist\u001b[49m\u001b[43m,\u001b[49m\u001b[43m \u001b[49m\u001b[43mtas_cm_future\u001b[49m\u001b[43m,\u001b[49m\u001b[43m \u001b[49m\u001b[38;5;241;43m*\u001b[39;49m\u001b[38;5;241;43m*\u001b[39;49m\u001b[43mtas_dates\u001b[49m\u001b[43m)\u001b[49m\n",
      "File \u001b[0;32m~/Documents/GitHub/isimipy/notebooks/../PACKAGE_NAME/debias/_isimip.py:835\u001b[0m, in \u001b[0;36mISIMIP.apply\u001b[0;34m(self, obs, cm_hist, cm_future, **kwargs)\u001b[0m\n\u001b[1;32m    833\u001b[0m output \u001b[38;5;241m=\u001b[39m np\u001b[38;5;241m.\u001b[39mempty([cm_future\u001b[38;5;241m.\u001b[39mshape[\u001b[38;5;241m0\u001b[39m], obs\u001b[38;5;241m.\u001b[39mshape[\u001b[38;5;241m1\u001b[39m], obs\u001b[38;5;241m.\u001b[39mshape[\u001b[38;5;241m2\u001b[39m]], dtype\u001b[38;5;241m=\u001b[39mcm_future\u001b[38;5;241m.\u001b[39mdtype)\n\u001b[1;32m    834\u001b[0m \u001b[38;5;28;01mfor\u001b[39;00m i, j \u001b[38;5;129;01min\u001b[39;00m tqdm(np\u001b[38;5;241m.\u001b[39mndindex(obs\u001b[38;5;241m.\u001b[39mshape[\u001b[38;5;241m1\u001b[39m:]), total\u001b[38;5;241m=\u001b[39mnp\u001b[38;5;241m.\u001b[39mprod(obs\u001b[38;5;241m.\u001b[39mshape[\u001b[38;5;241m1\u001b[39m:])):\n\u001b[0;32m--> 835\u001b[0m     output[:, i, j] \u001b[38;5;241m=\u001b[39m \u001b[38;5;28;43mself\u001b[39;49m\u001b[38;5;241;43m.\u001b[39;49m\u001b[43mapply_location\u001b[49m\u001b[43m(\u001b[49m\n\u001b[1;32m    836\u001b[0m \u001b[43m        \u001b[49m\u001b[43mobs\u001b[49m\u001b[43m[\u001b[49m\u001b[43m:\u001b[49m\u001b[43m,\u001b[49m\u001b[43m \u001b[49m\u001b[43mi\u001b[49m\u001b[43m,\u001b[49m\u001b[43m \u001b[49m\u001b[43mj\u001b[49m\u001b[43m]\u001b[49m\u001b[43m,\u001b[49m\n\u001b[1;32m    837\u001b[0m \u001b[43m        \u001b[49m\u001b[43mcm_hist\u001b[49m\u001b[43m[\u001b[49m\u001b[43m:\u001b[49m\u001b[43m,\u001b[49m\u001b[43m \u001b[49m\u001b[43mi\u001b[49m\u001b[43m,\u001b[49m\u001b[43m \u001b[49m\u001b[43mj\u001b[49m\u001b[43m]\u001b[49m\u001b[43m,\u001b[49m\n\u001b[1;32m    838\u001b[0m \u001b[43m        \u001b[49m\u001b[43mcm_future\u001b[49m\u001b[43m[\u001b[49m\u001b[43m:\u001b[49m\u001b[43m,\u001b[49m\u001b[43m \u001b[49m\u001b[43mi\u001b[49m\u001b[43m,\u001b[49m\u001b[43m \u001b[49m\u001b[43mj\u001b[49m\u001b[43m]\u001b[49m\u001b[43m,\u001b[49m\n\u001b[1;32m    839\u001b[0m \u001b[43m        \u001b[49m\u001b[38;5;241;43m*\u001b[39;49m\u001b[38;5;241;43m*\u001b[39;49m\u001b[43mkwargs\u001b[49m\u001b[43m,\u001b[49m\u001b[43m  \u001b[49m\u001b[38;5;66;43;03m# **ISIMIP._unpack_kwargs_and_get_locationwise_info(i, j, **kwargs),\u001b[39;49;00m\n\u001b[1;32m    840\u001b[0m \u001b[43m    \u001b[49m\u001b[43m)\u001b[49m\n\u001b[1;32m    842\u001b[0m \u001b[38;5;28;01mreturn\u001b[39;00m output\n",
      "File \u001b[0;32m~/Documents/GitHub/isimipy/notebooks/../PACKAGE_NAME/debias/_isimip.py:785\u001b[0m, in \u001b[0;36mISIMIP.apply_location\u001b[0;34m(self, obs_hist, cm_hist, cm_future, time_obs_hist, time_cm_hist, time_cm_future)\u001b[0m\n\u001b[1;32m    780\u001b[0m         indices_cm_future \u001b[38;5;241m=\u001b[39m \u001b[38;5;28mself\u001b[39m\u001b[38;5;241m.\u001b[39m_get_indices_around_window_center(days_of_year_cm_future, day_of_year_center)\n\u001b[1;32m    781\u001b[0m         indices_bias_corrected_values \u001b[38;5;241m=\u001b[39m \u001b[38;5;28mself\u001b[39m\u001b[38;5;241m.\u001b[39m_get_indices_of_bias_corrected_values(\n\u001b[1;32m    782\u001b[0m             days_of_year_cm_future, years_cm_future, day_of_year_center\n\u001b[1;32m    783\u001b[0m         )\n\u001b[0;32m--> 785\u001b[0m         debiased_cm_future[indices_bias_corrected_values] \u001b[38;5;241m=\u001b[39m \u001b[38;5;28mself\u001b[39m\u001b[38;5;241m.\u001b[39m_apply_on_window(\n\u001b[1;32m    786\u001b[0m             obs_hist\u001b[38;5;241m=\u001b[39mobs_hist[indices_obs_hist],\n\u001b[1;32m    787\u001b[0m             cm_hist\u001b[38;5;241m=\u001b[39mcm_hist[indices_cm_hist],\n\u001b[1;32m    788\u001b[0m             cm_future\u001b[38;5;241m=\u001b[39mcm_future[indices_cm_future],\n\u001b[1;32m    789\u001b[0m             years_obs_hist\u001b[38;5;241m=\u001b[39myears_obs_hist[indices_obs_hist],\n\u001b[1;32m    790\u001b[0m             years_cm_hist\u001b[38;5;241m=\u001b[39myears_cm_hist[indices_cm_hist],\n\u001b[1;32m    791\u001b[0m             years_cm_future\u001b[38;5;241m=\u001b[39myears_cm_future[indices_cm_future],\n\u001b[1;32m    792\u001b[0m         )[np\u001b[38;5;241m.\u001b[39min1d(indices_cm_future, indices_bias_corrected_values)]\n\u001b[1;32m    794\u001b[0m     \u001b[38;5;28;01mreturn\u001b[39;00m debiased_cm_future\n\u001b[1;32m    795\u001b[0m \u001b[38;5;28;01melse\u001b[39;00m:\n",
      "\u001b[0;31mIndexError\u001b[0m: arrays used as indices must be of integer (or boolean) type"
     ]
    }
   ],
   "source": [
    "tas_debiaser_ISIMIP1 = ISIMIP.from_variable(variable = 'tas')\n",
    "tas_debiased_ISIMIP1 = tas_debiaser_ISIMIP1.apply(tas_obs, tas_cm_hist, tas_cm_future, **tas_dates)"
   ]
  },
  {
   "cell_type": "code",
   "execution_count": 30,
   "metadata": {},
   "outputs": [
    {
     "data": {
      "text/plain": [
       "array([cftime.DatetimeProlepticGregorian(1979, 1, 1, 0, 0, 0, 0, has_year_zero=True),\n",
       "       cftime.DatetimeProlepticGregorian(1979, 1, 2, 0, 0, 0, 0, has_year_zero=True),\n",
       "       cftime.DatetimeProlepticGregorian(1979, 1, 3, 0, 0, 0, 0, has_year_zero=True),\n",
       "       ...,\n",
       "       cftime.DatetimeProlepticGregorian(2003, 8, 20, 0, 0, 0, 0, has_year_zero=True),\n",
       "       cftime.DatetimeProlepticGregorian(2003, 8, 21, 0, 0, 0, 0, has_year_zero=True),\n",
       "       cftime.DatetimeProlepticGregorian(2003, 8, 22, 0, 0, 0, 0, has_year_zero=True)],\n",
       "      dtype=object)"
      ]
     },
     "execution_count": 30,
     "metadata": {},
     "output_type": "execute_result"
    }
   ],
   "source": [
    "tas_dates['time_obs_hist']"
   ]
  },
  {
   "cell_type": "code",
   "execution_count": null,
   "metadata": {},
   "outputs": [],
   "source": []
  }
 ],
 "metadata": {
  "kernelspec": {
   "display_name": "Python 3 (ipykernel)",
   "language": "python",
   "name": "python3"
  },
  "language_info": {
   "codemirror_mode": {
    "name": "ipython",
    "version": 3
   },
   "file_extension": ".py",
   "mimetype": "text/x-python",
   "name": "python",
   "nbconvert_exporter": "python",
   "pygments_lexer": "ipython3",
   "version": "3.9.12"
  }
 },
 "nbformat": 4,
 "nbformat_minor": 4
}
