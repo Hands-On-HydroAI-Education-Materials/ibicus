{
 "cells": [
  {
   "cell_type": "markdown",
   "metadata": {},
   "source": [
    "# Setup and data loading"
   ]
  },
  {
   "cell_type": "code",
   "execution_count": 1,
   "metadata": {},
   "outputs": [],
   "source": [
    "import sys\n",
    "sys.path.append(\"../\")  # path contains python_file.py\n",
    "\n",
    "import iris\n",
    "import numpy as np\n",
    "import scipy.stats"
   ]
  },
  {
   "cell_type": "code",
   "execution_count": 2,
   "metadata": {},
   "outputs": [],
   "source": [
    "%load_ext autoreload\n",
    "%autoreload 2"
   ]
  },
  {
   "cell_type": "markdown",
   "metadata": {},
   "source": [
    "# 1. Data import and pre-processing"
   ]
  },
  {
   "cell_type": "code",
   "execution_count": 3,
   "metadata": {},
   "outputs": [],
   "source": [
    "from cf_units import num2date\n",
    "\n",
    "def get_dates(x):\n",
    "    time_dimension = x.coords()[2]\n",
    "    dates = time_dimension.units.num2date(time_dimension.points)\n",
    "    return dates\n",
    "\n",
    "def preprocess_isimip_evaluation_testing_data(variable):\n",
    "    \n",
    "    obs_all = iris.load_cube(\"testing_data/ISIMIP/\"+variable+\"_obs-hist_coarse_1979-2014.nc\")\n",
    "    cm = iris.load_cube(\"testing_data/ISIMIP/\"+variable+\"_sim-hist_coarse_1979-2014.nc\")\n",
    "    \n",
    "    obs = obs_all[:, :, 0:9000]\n",
    "    obs_validate = obs_all[:, :, 9001:]\n",
    "    cm_hist = cm[:, :, 0:9000]\n",
    "    cm_future = cm[:, :, 9001:]\n",
    "\n",
    "    dates = {\n",
    "        \"time_obs_hist\": get_dates(obs),\n",
    "        #\"obs_validate\": get_dates(obs_validate),\n",
    "        \"time_cm_hist\": get_dates(cm_hist),\n",
    "        \"time_cm_future\": get_dates(cm_future),\n",
    "    }\n",
    "    \n",
    "    obs = np.transpose(np.array(obs.data), (2, 0, 1))\n",
    "    obs_validate = np.transpose(np.array(obs_validate.data), (2, 0, 1))\n",
    "    cm_hist = np.transpose(np.array(cm_hist.data), (2, 0, 1))\n",
    "    cm_future = np.transpose(np.array(cm_future.data), (2, 0, 1))\n",
    "    \n",
    "    return obs, obs_validate, cm_hist, cm_future, dates"
   ]
  },
  {
   "cell_type": "code",
   "execution_count": 4,
   "metadata": {},
   "outputs": [],
   "source": [
    "tas_obs, tas_obs_validate, tas_cm_hist, tas_cm_future, tas_dates = preprocess_isimip_evaluation_testing_data('tas')\n",
    "pr_obs, pr_obs_validate, pr_cm_hist, pr_cm_future, pr_dates = preprocess_isimip_evaluation_testing_data('pr')"
   ]
  },
  {
   "cell_type": "markdown",
   "metadata": {},
   "source": [
    "# 2. Overview of implemented debiasers"
   ]
  },
  {
   "cell_type": "code",
   "execution_count": 18,
   "metadata": {},
   "outputs": [],
   "source": [
    "from scipy.stats import norm, laplace, gamma\n",
    "\n",
    "from PACKAGE_NAME.debias import QuantileMapping, QuantileDeltaMapping\n",
    "from PACKAGE_NAME.debias import ScaledDistributionMapping, LinearScaling\n",
    "from PACKAGE_NAME.debias import EquidistantCDFMatching, DeltaChange, ISIMIP\n",
    "\n",
    "from PACKAGE_NAME.utils import gen_PrecipitationHurdleModel, gen_PrecipitationGammaLeftCensoredModel\n",
    "\n",
    "from PACKAGE_NAME.variables import Temperature, Precipitation"
   ]
  },
  {
   "cell_type": "markdown",
   "metadata": {},
   "source": [
    "### Debiaser 1: Delta change (DC)"
   ]
  },
  {
   "cell_type": "markdown",
   "metadata": {},
   "source": [
    "Initialized from variable"
   ]
  },
  {
   "cell_type": "code",
   "execution_count": 7,
   "metadata": {},
   "outputs": [
    {
     "name": "stdout",
     "output_type": "stream",
     "text": [
      "----- Running debiasing -----\n"
     ]
    },
    {
     "name": "stderr",
     "output_type": "stream",
     "text": [
      "100%|███████████████████████████████████████████| 4/4 [00:00<00:00, 1998.24it/s]\n"
     ]
    }
   ],
   "source": [
    "tas_debiaser = DeltaChange.from_variable(variable = \"tas\")\n",
    "tas_debiased_DC = tas_debiaser.apply(tas_obs, tas_cm_hist, tas_cm_future)"
   ]
  },
  {
   "cell_type": "markdown",
   "metadata": {},
   "source": [
    "### Debiaser 2: Linear Scaling (LS)"
   ]
  },
  {
   "cell_type": "markdown",
   "metadata": {},
   "source": [
    "Initialized from constructor"
   ]
  },
  {
   "cell_type": "code",
   "execution_count": 8,
   "metadata": {},
   "outputs": [
    {
     "name": "stdout",
     "output_type": "stream",
     "text": [
      "----- Running debiasing -----\n"
     ]
    },
    {
     "name": "stderr",
     "output_type": "stream",
     "text": [
      "100%|███████████████████████████████████████████| 4/4 [00:00<00:00, 3076.69it/s]\n"
     ]
    }
   ],
   "source": [
    "tas_debiaser = LinearScaling(delta_type = \"additive\")\n",
    "tas_debiased_LS = tas_debiaser.apply(tas_obs, tas_cm_hist, tas_cm_future)"
   ]
  },
  {
   "cell_type": "markdown",
   "metadata": {},
   "source": [
    "Two ways to initialize the same debiaser"
   ]
  },
  {
   "cell_type": "code",
   "execution_count": 9,
   "metadata": {},
   "outputs": [
    {
     "data": {
      "text/plain": [
       "True"
      ]
     },
     "execution_count": 9,
     "metadata": {},
     "output_type": "execute_result"
    }
   ],
   "source": [
    "LinearScaling(delta_type = \"additive\") == LinearScaling.from_variable(\"tas\")"
   ]
  },
  {
   "cell_type": "markdown",
   "metadata": {},
   "source": [
    "### Debiaser 3: Quantile Mapping (QM)"
   ]
  },
  {
   "cell_type": "markdown",
   "metadata": {},
   "source": [
    "**Temperature**"
   ]
  },
  {
   "cell_type": "markdown",
   "metadata": {},
   "source": [
    "Initialized from constructor"
   ]
  },
  {
   "cell_type": "code",
   "execution_count": 10,
   "metadata": {},
   "outputs": [
    {
     "name": "stdout",
     "output_type": "stream",
     "text": [
      "----- Running debiasing -----\n"
     ]
    },
    {
     "name": "stderr",
     "output_type": "stream",
     "text": [
      "100%|████████████████████████████████████████████| 4/4 [00:00<00:00, 724.62it/s]\n"
     ]
    }
   ],
   "source": [
    "tas_debiaser_QM1 = QuantileMapping(distribution=norm, delta_type=\"additive\")\n",
    "tas_debiased_QM1 = tas_debiaser_QM1.apply(tas_obs, tas_cm_hist, tas_cm_future)"
   ]
  },
  {
   "cell_type": "markdown",
   "metadata": {},
   "source": [
    "Initialized from variable"
   ]
  },
  {
   "cell_type": "code",
   "execution_count": 11,
   "metadata": {},
   "outputs": [
    {
     "name": "stdout",
     "output_type": "stream",
     "text": [
      "----- Running debiasing -----\n"
     ]
    },
    {
     "name": "stderr",
     "output_type": "stream",
     "text": [
      "100%|████████████████████████████████████████████| 4/4 [00:00<00:00, 745.29it/s]\n"
     ]
    }
   ],
   "source": [
    "tas_debiaser_QM2 = QuantileMapping.from_variable(variable=\"tas\")\n",
    "tas_debiased_QM2 = tas_debiaser_QM2.apply(tas_obs, tas_cm_hist, tas_cm_future)"
   ]
  },
  {
   "cell_type": "markdown",
   "metadata": {},
   "source": [
    "Compare the two"
   ]
  },
  {
   "cell_type": "code",
   "execution_count": 12,
   "metadata": {},
   "outputs": [
    {
     "data": {
      "text/plain": [
       "True"
      ]
     },
     "execution_count": 12,
     "metadata": {},
     "output_type": "execute_result"
    }
   ],
   "source": [
    "tas_debiaser_QM1 == tas_debiaser_QM2"
   ]
  },
  {
   "cell_type": "markdown",
   "metadata": {},
   "source": [
    "Initialize from variable, overwrite some arguments"
   ]
  },
  {
   "cell_type": "code",
   "execution_count": 13,
   "metadata": {},
   "outputs": [
    {
     "name": "stdout",
     "output_type": "stream",
     "text": [
      "----- Running debiasing -----\n"
     ]
    },
    {
     "name": "stderr",
     "output_type": "stream",
     "text": [
      "100%|████████████████████████████████████████████| 4/4 [00:00<00:00, 676.58it/s]\n"
     ]
    }
   ],
   "source": [
    "tas_debiaser_QM3 = QuantileMapping.from_variable(variable=\"tas\", delta_type=\"no_delta\", distribution = laplace)\n",
    "tas_debiased_QM3 = tas_debiaser_QM3.apply(tas_obs, tas_cm_hist, tas_cm_future)"
   ]
  },
  {
   "cell_type": "markdown",
   "metadata": {},
   "source": [
    "Using the variable class but overwriting the standard distribution"
   ]
  },
  {
   "cell_type": "code",
   "execution_count": 16,
   "metadata": {},
   "outputs": [],
   "source": [
    "tas_debiaser_QM4 = QuantileMapping.from_variable(variable=Temperature, delta_type=\"additive\", distribution = laplace)"
   ]
  },
  {
   "cell_type": "markdown",
   "metadata": {},
   "source": [
    "**Precipitation**"
   ]
  },
  {
   "cell_type": "markdown",
   "metadata": {},
   "source": [
    "Using special initialisation for precipitation"
   ]
  },
  {
   "cell_type": "code",
   "execution_count": 17,
   "metadata": {},
   "outputs": [],
   "source": [
    "pr_debiaser_QM1 = QuantileMapping.for_precipitation(delta_type = \"multiplicative\", \n",
    "                                                    precipitation_model_type = \"censored\", \n",
    "                                                    precipitation_censoring_value = 0.1)"
   ]
  },
  {
   "cell_type": "markdown",
   "metadata": {},
   "source": [
    "Specifying all the arguments and an own model for the distribution (child-class of StatisticalModel needing only fit, cdf and ppf method) 1"
   ]
  },
  {
   "cell_type": "code",
   "execution_count": 22,
   "metadata": {},
   "outputs": [
    {
     "name": "stdout",
     "output_type": "stream",
     "text": [
      "----- Running debiasing -----\n"
     ]
    },
    {
     "name": "stderr",
     "output_type": "stream",
     "text": [
      "  0%|                                                     | 0/4 [00:00<?, ?it/s]/Users/fionaspuler/Documents/GitHub/isimipy/notebooks/../PACKAGE_NAME/utils/_math_utils.py:329: RuntimeWarning: invalid value encountered in log\n",
      "  return -np.sum(scipy.stats.gamma.logpdf(x, a=params[0], scale=params[1])) - nr_censored_x * np.log(\n",
      "100%|█████████████████████████████████████████████| 4/4 [00:00<00:00, 10.27it/s]\n"
     ]
    }
   ],
   "source": [
    "left_censored_model = gen_PrecipitationGammaLeftCensoredModel(censoring_value = 0.1)\n",
    "\n",
    "pr_debiaser_QM2 = QuantileMapping(delta_type = \"multiplicative\", distribution = left_censored_model)\n",
    "\n",
    "pr_debiased_QM2 = pr_debiaser_QM2.apply(pr_obs, pr_cm_hist, pr_cm_future)"
   ]
  },
  {
   "cell_type": "markdown",
   "metadata": {},
   "source": [
    "Using the for_precipitation method but an own model for the distribution (child-class of StatisticalModel needing only fit, cdf and ppf method) 2"
   ]
  },
  {
   "cell_type": "code",
   "execution_count": 23,
   "metadata": {},
   "outputs": [
    {
     "name": "stdout",
     "output_type": "stream",
     "text": [
      "----- Running debiasing -----\n"
     ]
    },
    {
     "name": "stderr",
     "output_type": "stream",
     "text": [
      "  0%|                                                     | 0/4 [00:00<?, ?it/s]\n"
     ]
    },
    {
     "ename": "AttributeError",
     "evalue": "'gen_PrecipitationHurdleModel' object has no attribute 'randomization'",
     "output_type": "error",
     "traceback": [
      "\u001b[0;31m---------------------------------------------------------------------------\u001b[0m",
      "\u001b[0;31mAttributeError\u001b[0m                            Traceback (most recent call last)",
      "Input \u001b[0;32mIn [23]\u001b[0m, in \u001b[0;36m<cell line: 5>\u001b[0;34m()\u001b[0m\n\u001b[1;32m      1\u001b[0m hurdle_model \u001b[38;5;241m=\u001b[39m gen_PrecipitationHurdleModel(distribution \u001b[38;5;241m=\u001b[39m gamma)\n\u001b[1;32m      3\u001b[0m pr_debiaser_QM3 \u001b[38;5;241m=\u001b[39m QuantileMapping\u001b[38;5;241m.\u001b[39mfor_precipitation(delta_type \u001b[38;5;241m=\u001b[39m \u001b[38;5;124m\"\u001b[39m\u001b[38;5;124mmultiplicative\u001b[39m\u001b[38;5;124m\"\u001b[39m, distribution \u001b[38;5;241m=\u001b[39m hurdle_model)\n\u001b[0;32m----> 5\u001b[0m pr_debiased_QM3 \u001b[38;5;241m=\u001b[39m \u001b[43mpr_debiaser_QM3\u001b[49m\u001b[38;5;241;43m.\u001b[39;49m\u001b[43mapply\u001b[49m\u001b[43m(\u001b[49m\u001b[43mpr_obs\u001b[49m\u001b[43m,\u001b[49m\u001b[43m \u001b[49m\u001b[43mpr_cm_hist\u001b[49m\u001b[43m,\u001b[49m\u001b[43m \u001b[49m\u001b[43mpr_cm_future\u001b[49m\u001b[43m)\u001b[49m\n",
      "File \u001b[0;32m~/Documents/GitHub/isimipy/notebooks/../PACKAGE_NAME/debias/_debiaser.py:76\u001b[0m, in \u001b[0;36mDebiaser.apply\u001b[0;34m(self, obs, cm_hist, cm_future, **kwargs)\u001b[0m\n\u001b[1;32m     73\u001b[0m \u001b[38;5;28mprint\u001b[39m(\u001b[38;5;124m\"\u001b[39m\u001b[38;5;124m----- Running debiasing -----\u001b[39m\u001b[38;5;124m\"\u001b[39m)\n\u001b[1;32m     74\u001b[0m Debiaser\u001b[38;5;241m.\u001b[39mcheck_inputs(obs, cm_hist, cm_future)\n\u001b[0;32m---> 76\u001b[0m output \u001b[38;5;241m=\u001b[39m \u001b[43mDebiaser\u001b[49m\u001b[38;5;241;43m.\u001b[39;49m\u001b[43mmap_over_locations\u001b[49m\u001b[43m(\u001b[49m\n\u001b[1;32m     77\u001b[0m \u001b[43m    \u001b[49m\u001b[38;5;28;43mself\u001b[39;49m\u001b[38;5;241;43m.\u001b[39;49m\u001b[43mapply_location\u001b[49m\u001b[43m,\u001b[49m\u001b[43m \u001b[49m\u001b[43moutput_size\u001b[49m\u001b[38;5;241;43m=\u001b[39;49m\u001b[43mcm_future\u001b[49m\u001b[38;5;241;43m.\u001b[39;49m\u001b[43mshape\u001b[49m\u001b[43m,\u001b[49m\u001b[43m \u001b[49m\u001b[43mobs\u001b[49m\u001b[38;5;241;43m=\u001b[39;49m\u001b[43mobs\u001b[49m\u001b[43m,\u001b[49m\u001b[43m \u001b[49m\u001b[43mcm_hist\u001b[49m\u001b[38;5;241;43m=\u001b[39;49m\u001b[43mcm_hist\u001b[49m\u001b[43m,\u001b[49m\u001b[43m \u001b[49m\u001b[43mcm_future\u001b[49m\u001b[38;5;241;43m=\u001b[39;49m\u001b[43mcm_future\u001b[49m\n\u001b[1;32m     78\u001b[0m \u001b[43m\u001b[49m\u001b[43m)\u001b[49m\n\u001b[1;32m     79\u001b[0m \u001b[38;5;28;01mreturn\u001b[39;00m output\n",
      "File \u001b[0;32m~/Documents/GitHub/isimipy/notebooks/../PACKAGE_NAME/debias/_debiaser.py:63\u001b[0m, in \u001b[0;36mDebiaser.map_over_locations\u001b[0;34m(func, output_size, obs, cm_hist, cm_future)\u001b[0m\n\u001b[1;32m     61\u001b[0m output \u001b[38;5;241m=\u001b[39m np\u001b[38;5;241m.\u001b[39mempty(output_size, dtype\u001b[38;5;241m=\u001b[39mcm_future\u001b[38;5;241m.\u001b[39mdtype)\n\u001b[1;32m     62\u001b[0m \u001b[38;5;28;01mfor\u001b[39;00m i, j \u001b[38;5;129;01min\u001b[39;00m tqdm(np\u001b[38;5;241m.\u001b[39mndindex(obs\u001b[38;5;241m.\u001b[39mshape[\u001b[38;5;241m1\u001b[39m:]), total\u001b[38;5;241m=\u001b[39mnp\u001b[38;5;241m.\u001b[39mprod(obs\u001b[38;5;241m.\u001b[39mshape[\u001b[38;5;241m1\u001b[39m:])):\n\u001b[0;32m---> 63\u001b[0m     output[:, i, j] \u001b[38;5;241m=\u001b[39m \u001b[43mfunc\u001b[49m\u001b[43m(\u001b[49m\u001b[43mobs\u001b[49m\u001b[43m[\u001b[49m\u001b[43m:\u001b[49m\u001b[43m,\u001b[49m\u001b[43m \u001b[49m\u001b[43mi\u001b[49m\u001b[43m,\u001b[49m\u001b[43m \u001b[49m\u001b[43mj\u001b[49m\u001b[43m]\u001b[49m\u001b[43m,\u001b[49m\u001b[43m \u001b[49m\u001b[43mcm_hist\u001b[49m\u001b[43m[\u001b[49m\u001b[43m:\u001b[49m\u001b[43m,\u001b[49m\u001b[43m \u001b[49m\u001b[43mi\u001b[49m\u001b[43m,\u001b[49m\u001b[43m \u001b[49m\u001b[43mj\u001b[49m\u001b[43m]\u001b[49m\u001b[43m,\u001b[49m\u001b[43m \u001b[49m\u001b[43mcm_future\u001b[49m\u001b[43m[\u001b[49m\u001b[43m:\u001b[49m\u001b[43m,\u001b[49m\u001b[43m \u001b[49m\u001b[43mi\u001b[49m\u001b[43m,\u001b[49m\u001b[43m \u001b[49m\u001b[43mj\u001b[49m\u001b[43m]\u001b[49m\u001b[43m)\u001b[49m\n\u001b[1;32m     64\u001b[0m \u001b[38;5;28;01mreturn\u001b[39;00m output\n",
      "File \u001b[0;32m~/Documents/GitHub/isimipy/notebooks/../PACKAGE_NAME/debias/_quantile_mapping.py:117\u001b[0m, in \u001b[0;36mQuantileMapping.apply_location\u001b[0;34m(self, obs, cm_hist, cm_future)\u001b[0m\n\u001b[1;32m    115\u001b[0m \u001b[38;5;28;01melif\u001b[39;00m \u001b[38;5;28mself\u001b[39m\u001b[38;5;241m.\u001b[39mdelta_type \u001b[38;5;241m==\u001b[39m \u001b[38;5;124m\"\u001b[39m\u001b[38;5;124mmultiplicative\u001b[39m\u001b[38;5;124m\"\u001b[39m:\n\u001b[1;32m    116\u001b[0m     delta \u001b[38;5;241m=\u001b[39m np\u001b[38;5;241m.\u001b[39mmean(cm_future) \u001b[38;5;241m/\u001b[39m np\u001b[38;5;241m.\u001b[39mmean(cm_hist)\n\u001b[0;32m--> 117\u001b[0m     \u001b[38;5;28;01mreturn\u001b[39;00m \u001b[38;5;28;43mself\u001b[39;49m\u001b[38;5;241;43m.\u001b[39;49m\u001b[43m_standard_qm\u001b[49m\u001b[43m(\u001b[49m\u001b[43mcm_future\u001b[49m\u001b[43m \u001b[49m\u001b[38;5;241;43m/\u001b[39;49m\u001b[43m \u001b[49m\u001b[43mdelta\u001b[49m\u001b[43m,\u001b[49m\u001b[43m \u001b[49m\u001b[43mfit_cm_hist\u001b[49m\u001b[43m,\u001b[49m\u001b[43m \u001b[49m\u001b[43mfit_obs\u001b[49m\u001b[43m)\u001b[49m \u001b[38;5;241m*\u001b[39m delta\n\u001b[1;32m    118\u001b[0m \u001b[38;5;28;01melif\u001b[39;00m \u001b[38;5;28mself\u001b[39m\u001b[38;5;241m.\u001b[39mdelta_type \u001b[38;5;241m==\u001b[39m \u001b[38;5;124m\"\u001b[39m\u001b[38;5;124mno_delta\u001b[39m\u001b[38;5;124m\"\u001b[39m:\n\u001b[1;32m    119\u001b[0m     \u001b[38;5;28;01mreturn\u001b[39;00m \u001b[38;5;28mself\u001b[39m\u001b[38;5;241m.\u001b[39m_standard_qm(cm_future, fit_cm_hist, fit_obs)\n",
      "File \u001b[0;32m~/Documents/GitHub/isimipy/notebooks/../PACKAGE_NAME/debias/_quantile_mapping.py:106\u001b[0m, in \u001b[0;36mQuantileMapping._standard_qm\u001b[0;34m(self, x, fit_cm_hist, fit_obs)\u001b[0m\n\u001b[1;32m    105\u001b[0m \u001b[38;5;28;01mdef\u001b[39;00m \u001b[38;5;21m_standard_qm\u001b[39m(\u001b[38;5;28mself\u001b[39m, x, fit_cm_hist, fit_obs):\n\u001b[0;32m--> 106\u001b[0m     \u001b[38;5;28;01mreturn\u001b[39;00m \u001b[38;5;28mself\u001b[39m\u001b[38;5;241m.\u001b[39mdistribution\u001b[38;5;241m.\u001b[39mppf(\u001b[38;5;28;43mself\u001b[39;49m\u001b[38;5;241;43m.\u001b[39;49m\u001b[43mdistribution\u001b[49m\u001b[38;5;241;43m.\u001b[39;49m\u001b[43mcdf\u001b[49m\u001b[43m(\u001b[49m\u001b[43mx\u001b[49m\u001b[43m,\u001b[49m\u001b[43m \u001b[49m\u001b[38;5;241;43m*\u001b[39;49m\u001b[43mfit_cm_hist\u001b[49m\u001b[43m)\u001b[49m, \u001b[38;5;241m*\u001b[39mfit_obs)\n",
      "File \u001b[0;32m~/Documents/GitHub/isimipy/notebooks/../PACKAGE_NAME/utils/_math_utils.py:254\u001b[0m, in \u001b[0;36mgen_PrecipitationHurdleModel.cdf\u001b[0;34m(self, x, *fit)\u001b[0m\n\u001b[1;32m    251\u001b[0m p0 \u001b[38;5;241m=\u001b[39m fit[\u001b[38;5;241m0\u001b[39m]\n\u001b[1;32m    252\u001b[0m fit_rainy_days \u001b[38;5;241m=\u001b[39m fit[\u001b[38;5;241m1\u001b[39m]\n\u001b[0;32m--> 254\u001b[0m \u001b[38;5;28;01mif\u001b[39;00m \u001b[38;5;129;01mnot\u001b[39;00m \u001b[38;5;28;43mself\u001b[39;49m\u001b[38;5;241;43m.\u001b[39;49m\u001b[43mrandomization\u001b[49m:\n\u001b[1;32m    255\u001b[0m     \u001b[38;5;28;01mreturn\u001b[39;00m np\u001b[38;5;241m.\u001b[39mwhere(x \u001b[38;5;241m==\u001b[39m \u001b[38;5;241m0\u001b[39m, p0, p0 \u001b[38;5;241m+\u001b[39m (\u001b[38;5;241m1\u001b[39m \u001b[38;5;241m-\u001b[39m p0) \u001b[38;5;241m*\u001b[39m \u001b[38;5;28mself\u001b[39m\u001b[38;5;241m.\u001b[39mdistribution\u001b[38;5;241m.\u001b[39mcdf(x, \u001b[38;5;241m*\u001b[39mfit_rainy_days))\n\u001b[1;32m    256\u001b[0m \u001b[38;5;28;01melse\u001b[39;00m:\n",
      "\u001b[0;31mAttributeError\u001b[0m: 'gen_PrecipitationHurdleModel' object has no attribute 'randomization'"
     ]
    }
   ],
   "source": [
    "hurdle_model = gen_PrecipitationHurdleModel(distribution = gamma)\n",
    "\n",
    "pr_debiaser_QM3 = QuantileMapping.for_precipitation(delta_type = \"multiplicative\", distribution = hurdle_model)\n",
    "\n",
    "pr_debiased_QM3 = pr_debiaser_QM3.apply(pr_obs, pr_cm_hist, pr_cm_future)"
   ]
  },
  {
   "cell_type": "markdown",
   "metadata": {},
   "source": [
    "Using a variable, but overwriting the distribution"
   ]
  },
  {
   "cell_type": "code",
   "execution_count": 20,
   "metadata": {},
   "outputs": [],
   "source": [
    "hurdle_model = gen_PrecipitationHurdleModel(distribution = gamma)\n",
    "\n",
    "pr_debiaser_QM4 = QuantileMapping.from_variable(variable = \"pr\", delta_type = \"multiplicative\", \n",
    "                                                 distribution = hurdle_model)"
   ]
  },
  {
   "cell_type": "markdown",
   "metadata": {},
   "source": [
    "Compare QM3 and QM4"
   ]
  },
  {
   "cell_type": "code",
   "execution_count": 21,
   "metadata": {},
   "outputs": [
    {
     "data": {
      "text/plain": [
       "True"
      ]
     },
     "execution_count": 21,
     "metadata": {},
     "output_type": "execute_result"
    }
   ],
   "source": [
    "pr_debiaser_QM3 == pr_debiaser_QM4"
   ]
  },
  {
   "cell_type": "markdown",
   "metadata": {},
   "source": [
    "### Debiaser 4: Equidistant CDF Matching (ECDFM)"
   ]
  },
  {
   "cell_type": "code",
   "execution_count": 21,
   "metadata": {},
   "outputs": [
    {
     "name": "stdout",
     "output_type": "stream",
     "text": [
      "----- Running debiasing -----\n"
     ]
    },
    {
     "name": "stderr",
     "output_type": "stream",
     "text": [
      "100%|████████████████████████████████████████████| 4/4 [00:00<00:00, 611.41it/s]\n"
     ]
    }
   ],
   "source": [
    "tas_debiaser_ECDFM = EquidistantCDFMatching.from_variable(variable = \"tas\", distribution = norm)\n",
    "tas_debiased_ECDFM = tas_debiaser_ECDFM.apply(tas_obs, tas_cm_hist, tas_cm_future)"
   ]
  },
  {
   "cell_type": "markdown",
   "metadata": {},
   "source": [
    "### Debiaser 5: Quantile Delta Mapping (Cannon 2015) (QDM):"
   ]
  },
  {
   "cell_type": "code",
   "execution_count": 22,
   "metadata": {},
   "outputs": [
    {
     "name": "stdout",
     "output_type": "stream",
     "text": [
      "----- Running debiasing -----\n"
     ]
    },
    {
     "name": "stderr",
     "output_type": "stream",
     "text": [
      "  0%|                                                     | 0/4 [00:00<?, ?it/s]/Users/fionaspuler/Documents/GitHub/isimipy/notebooks/../PACKAGE_NAME/debias/_quantile_delta_mapping.py:128: RuntimeWarning: invalid value encountered in true_divide\n",
      "  cm_future_time_window\n",
      "100%|█████████████████████████████████████████████| 4/4 [00:00<00:00, 55.95it/s]\n"
     ]
    }
   ],
   "source": [
    "tas_debiaser_QDM = QuantileDeltaMapping(distribution=norm, time_window_length=50)\n",
    "tas_debiased_QDM = tas_debiaser_QDM.apply(tas_obs, tas_cm_hist, tas_cm_future)"
   ]
  },
  {
   "cell_type": "markdown",
   "metadata": {},
   "source": [
    "### Debiaser 6: Scaled Distribution Mapping (Switanek 2017) (SDM)"
   ]
  },
  {
   "cell_type": "code",
   "execution_count": 23,
   "metadata": {},
   "outputs": [
    {
     "name": "stdout",
     "output_type": "stream",
     "text": [
      "----- Running debiasing -----\n"
     ]
    },
    {
     "name": "stderr",
     "output_type": "stream",
     "text": [
      "100%|████████████████████████████████████████████| 4/4 [00:00<00:00, 184.57it/s]\n"
     ]
    }
   ],
   "source": [
    "tas_debiaser_SDM = ScaledDistributionMapping.from_variable(variable = \"temp\")\n",
    "tas_debiased_SDM = tas_debiaser_SDM.apply(tas_obs, tas_cm_hist, tas_cm_future)"
   ]
  },
  {
   "cell_type": "markdown",
   "metadata": {},
   "source": [
    "### Debiaser 7: ISIMIP (Lange 2019) (ISIMIP)\n",
    "\n",
    "From variable"
   ]
  },
  {
   "cell_type": "code",
   "execution_count": 6,
   "metadata": {},
   "outputs": [
    {
     "name": "stdout",
     "output_type": "stream",
     "text": [
      "----- Running debiasing -----\n"
     ]
    },
    {
     "name": "stderr",
     "output_type": "stream",
     "text": [
      "  0%|                                                     | 0/4 [00:00<?, ?it/s]"
     ]
    },
    {
     "name": "stdout",
     "output_type": "stream",
     "text": [
      "[236 237 238 ... 363 364 365]\n",
      "[2003 2003 2003 ... 2014 2014 2014]\n",
      "1\n"
     ]
    },
    {
     "name": "stderr",
     "output_type": "stream",
     "text": [
      "\n"
     ]
    },
    {
     "ename": "IndexError",
     "evalue": "arrays used as indices must be of integer (or boolean) type",
     "output_type": "error",
     "traceback": [
      "\u001b[0;31m---------------------------------------------------------------------------\u001b[0m",
      "\u001b[0;31mIndexError\u001b[0m                                Traceback (most recent call last)",
      "Input \u001b[0;32mIn [6]\u001b[0m, in \u001b[0;36m<cell line: 2>\u001b[0;34m()\u001b[0m\n\u001b[1;32m      1\u001b[0m tas_debiaser_ISIMIP1 \u001b[38;5;241m=\u001b[39m ISIMIP\u001b[38;5;241m.\u001b[39mfrom_variable(variable \u001b[38;5;241m=\u001b[39m \u001b[38;5;124m'\u001b[39m\u001b[38;5;124mtas\u001b[39m\u001b[38;5;124m'\u001b[39m)\n\u001b[0;32m----> 2\u001b[0m tas_debiased_ISIMIP1 \u001b[38;5;241m=\u001b[39m \u001b[43mtas_debiaser_ISIMIP1\u001b[49m\u001b[38;5;241;43m.\u001b[39;49m\u001b[43mapply\u001b[49m\u001b[43m(\u001b[49m\u001b[43mtas_obs\u001b[49m\u001b[43m,\u001b[49m\u001b[43m \u001b[49m\u001b[43mtas_cm_hist\u001b[49m\u001b[43m,\u001b[49m\u001b[43m \u001b[49m\u001b[43mtas_cm_future\u001b[49m\u001b[43m,\u001b[49m\u001b[43m \u001b[49m\u001b[38;5;241;43m*\u001b[39;49m\u001b[38;5;241;43m*\u001b[39;49m\u001b[43mtas_dates\u001b[49m\u001b[43m)\u001b[49m\n",
      "File \u001b[0;32m~/Documents/GitHub/isimipy/notebooks/../PACKAGE_NAME/debias/_isimip.py:877\u001b[0m, in \u001b[0;36mISIMIP.apply\u001b[0;34m(self, obs, cm_hist, cm_future, **kwargs)\u001b[0m\n\u001b[1;32m    875\u001b[0m output \u001b[38;5;241m=\u001b[39m np\u001b[38;5;241m.\u001b[39mempty([cm_future\u001b[38;5;241m.\u001b[39mshape[\u001b[38;5;241m0\u001b[39m], obs\u001b[38;5;241m.\u001b[39mshape[\u001b[38;5;241m1\u001b[39m], obs\u001b[38;5;241m.\u001b[39mshape[\u001b[38;5;241m2\u001b[39m]], dtype\u001b[38;5;241m=\u001b[39mcm_future\u001b[38;5;241m.\u001b[39mdtype)\n\u001b[1;32m    876\u001b[0m \u001b[38;5;28;01mfor\u001b[39;00m i, j \u001b[38;5;129;01min\u001b[39;00m tqdm(np\u001b[38;5;241m.\u001b[39mndindex(obs\u001b[38;5;241m.\u001b[39mshape[\u001b[38;5;241m1\u001b[39m:]), total\u001b[38;5;241m=\u001b[39mnp\u001b[38;5;241m.\u001b[39mprod(obs\u001b[38;5;241m.\u001b[39mshape[\u001b[38;5;241m1\u001b[39m:])):\n\u001b[0;32m--> 877\u001b[0m     output[:, i, j] \u001b[38;5;241m=\u001b[39m \u001b[38;5;28;43mself\u001b[39;49m\u001b[38;5;241;43m.\u001b[39;49m\u001b[43mapply_location\u001b[49m\u001b[43m(\u001b[49m\n\u001b[1;32m    878\u001b[0m \u001b[43m        \u001b[49m\u001b[43mobs\u001b[49m\u001b[43m[\u001b[49m\u001b[43m:\u001b[49m\u001b[43m,\u001b[49m\u001b[43m \u001b[49m\u001b[43mi\u001b[49m\u001b[43m,\u001b[49m\u001b[43m \u001b[49m\u001b[43mj\u001b[49m\u001b[43m]\u001b[49m\u001b[43m,\u001b[49m\n\u001b[1;32m    879\u001b[0m \u001b[43m        \u001b[49m\u001b[43mcm_hist\u001b[49m\u001b[43m[\u001b[49m\u001b[43m:\u001b[49m\u001b[43m,\u001b[49m\u001b[43m \u001b[49m\u001b[43mi\u001b[49m\u001b[43m,\u001b[49m\u001b[43m \u001b[49m\u001b[43mj\u001b[49m\u001b[43m]\u001b[49m\u001b[43m,\u001b[49m\n\u001b[1;32m    880\u001b[0m \u001b[43m        \u001b[49m\u001b[43mcm_future\u001b[49m\u001b[43m[\u001b[49m\u001b[43m:\u001b[49m\u001b[43m,\u001b[49m\u001b[43m \u001b[49m\u001b[43mi\u001b[49m\u001b[43m,\u001b[49m\u001b[43m \u001b[49m\u001b[43mj\u001b[49m\u001b[43m]\u001b[49m\u001b[43m,\u001b[49m\n\u001b[1;32m    881\u001b[0m \u001b[43m        \u001b[49m\u001b[38;5;241;43m*\u001b[39;49m\u001b[38;5;241;43m*\u001b[39;49m\u001b[43mkwargs\u001b[49m\u001b[43m,\u001b[49m\n\u001b[1;32m    882\u001b[0m \u001b[43m    \u001b[49m\u001b[43m)\u001b[49m\n\u001b[1;32m    884\u001b[0m \u001b[38;5;28;01mreturn\u001b[39;00m output\n",
      "File \u001b[0;32m~/Documents/GitHub/isimipy/notebooks/../PACKAGE_NAME/debias/_isimip.py:827\u001b[0m, in \u001b[0;36mISIMIP.apply_location\u001b[0;34m(self, obs_hist, cm_hist, cm_future, time_obs_hist, time_cm_hist, time_cm_future)\u001b[0m\n\u001b[1;32m    825\u001b[0m         \u001b[38;5;28mprint\u001b[39m(years_cm_future)\n\u001b[1;32m    826\u001b[0m         \u001b[38;5;28mprint\u001b[39m(day_of_year_center)\n\u001b[0;32m--> 827\u001b[0m         debiased_cm_future[indices_bias_corrected_values] \u001b[38;5;241m=\u001b[39m \u001b[38;5;28mself\u001b[39m\u001b[38;5;241m.\u001b[39m_apply_on_window(\n\u001b[1;32m    828\u001b[0m             obs_hist\u001b[38;5;241m=\u001b[39mobs_hist[indices_obs_hist],\n\u001b[1;32m    829\u001b[0m             cm_hist\u001b[38;5;241m=\u001b[39mcm_hist[indices_cm_hist],\n\u001b[1;32m    830\u001b[0m             cm_future\u001b[38;5;241m=\u001b[39mcm_future[indices_cm_future],\n\u001b[1;32m    831\u001b[0m             years_obs_hist\u001b[38;5;241m=\u001b[39myears_obs_hist[indices_obs_hist],\n\u001b[1;32m    832\u001b[0m             years_cm_hist\u001b[38;5;241m=\u001b[39myears_cm_hist[indices_cm_hist],\n\u001b[1;32m    833\u001b[0m             years_cm_future\u001b[38;5;241m=\u001b[39myears_cm_future[indices_cm_future],\n\u001b[1;32m    834\u001b[0m         )[np\u001b[38;5;241m.\u001b[39min1d(indices_cm_future, indices_bias_corrected_values)]\n\u001b[1;32m    836\u001b[0m     \u001b[38;5;28;01mreturn\u001b[39;00m debiased_cm_future\n\u001b[1;32m    837\u001b[0m \u001b[38;5;28;01melse\u001b[39;00m:\n",
      "\u001b[0;31mIndexError\u001b[0m: arrays used as indices must be of integer (or boolean) type"
     ]
    }
   ],
   "source": [
    "tas_debiaser_ISIMIP1 = ISIMIP.from_variable(variable = 'tas')\n",
    "tas_debiased_ISIMIP1 = tas_debiaser_ISIMIP1.apply(tas_obs, tas_cm_hist, tas_cm_future, **tas_dates)"
   ]
  }
 ],
 "metadata": {
  "kernelspec": {
   "display_name": "Python 3 (ipykernel)",
   "language": "python",
   "name": "python3"
  },
  "language_info": {
   "codemirror_mode": {
    "name": "ipython",
    "version": 3
   },
   "file_extension": ".py",
   "mimetype": "text/x-python",
   "name": "python",
   "nbconvert_exporter": "python",
   "pygments_lexer": "ipython3",
   "version": "3.9.12"
  }
 },
 "nbformat": 4,
 "nbformat_minor": 4
}
