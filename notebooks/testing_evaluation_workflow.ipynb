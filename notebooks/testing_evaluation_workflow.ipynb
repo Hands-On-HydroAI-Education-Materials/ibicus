{
 "cells": [
  {
   "cell_type": "markdown",
   "id": "4d0d3dc5",
   "metadata": {},
   "source": [
    "**Jupyter Notebook illustrating first iteration of ISIMIP implementation integrated with default set of evaluation metrics**"
   ]
  },
  {
   "cell_type": "code",
   "execution_count": 13,
   "id": "d7f2e7ac",
   "metadata": {},
   "outputs": [],
   "source": [
    "# WHY???\n",
    "import sys\n",
    "sys.path.append(\"../\")  # path contains python_file.py"
   ]
  },
  {
   "cell_type": "code",
   "execution_count": 103,
   "id": "92c2066b",
   "metadata": {},
   "outputs": [
    {
     "name": "stderr",
     "output_type": "stream",
     "text": [
      "/Users/fionaspuler/opt/anaconda3/lib/python3.9/site-packages/libpysal/weights/util.py:23: UserWarning: geopandas not available. Some functionality will be disabled.\n",
      "  warn(\"geopandas not available. Some functionality will be disabled.\")\n"
     ]
    }
   ],
   "source": [
    "from PACKAGE_NAME.evaluate import evaluation_functions\n",
    "import iris\n",
    "import numpy as np\n",
    "import scipy\n",
    "import matplotlib.pyplot as plt"
   ]
  },
  {
   "cell_type": "markdown",
   "id": "ca3dd2fa",
   "metadata": {},
   "source": [
    "**Variables to investigate**"
   ]
  },
  {
   "cell_type": "code",
   "execution_count": 99,
   "id": "bf75491b",
   "metadata": {},
   "outputs": [],
   "source": [
    "variables = ['tas']"
   ]
  },
  {
   "cell_type": "markdown",
   "id": "8fd545da",
   "metadata": {},
   "source": [
    "# Data import and pre-processing"
   ]
  },
  {
   "cell_type": "code",
   "execution_count": 91,
   "id": "a6d9e37d",
   "metadata": {},
   "outputs": [],
   "source": [
    "from cf_units import num2date\n",
    "\n",
    "def get_dates(x):\n",
    "    time_dimension = x.coords()[2]\n",
    "    dates = time_dimension.units.num2date(time_dimension.points)\n",
    "    return dates\n",
    "\n",
    "def preprocess_isimip_evaluation_testing_data(variable):\n",
    "    \n",
    "    obs_all = iris.load_cube(\"testing_data/ISIMIP/\"+variable+\"_obs-hist_coarse_1979-2014.nc\")\n",
    "    cm = iris.load_cube(\"testing_data/ISIMIP/\"+variable+\"_sim-hist_coarse_1979-2014.nc\")\n",
    "    \n",
    "    obs = obs_all[:, :, 0:9000]\n",
    "    obs_validate = obs_all[:, :, 9001:]\n",
    "    cm_hist = cm[:, :, 0:9000]\n",
    "    cm_future = cm[:, :, 9001:]\n",
    "\n",
    "    dates = {\n",
    "        \"obs\": get_dates(obs),\n",
    "        \"obs_validate\": get_dates(obs_validate),\n",
    "        \"cm_hist\": get_dates(cm_hist),\n",
    "        \"cm_future\": get_dates(cm_future),\n",
    "    }\n",
    "    \n",
    "    obs = np.transpose(np.array(obs.data), (2, 0, 1))\n",
    "    obs_validate = np.transpose(np.array(obs_validate.data), (2, 0, 1))\n",
    "    cm_hist = np.transpose(np.array(cm_hist.data), (2, 0, 1))\n",
    "    cm_future = np.transpose(np.array(cm_future.data), (2, 0, 1))\n",
    "    \n",
    "    return obs, obs_validate, cm_hist, cm_future, dates\n"
   ]
  },
  {
   "cell_type": "code",
   "execution_count": 92,
   "id": "e0cf4cb7",
   "metadata": {},
   "outputs": [],
   "source": [
    "tas_obs, tas_obs_validate, tas_cm_hist, tas_cm_future, tas_dates = preprocess_isimip_evaluation_testing_data('tas')\n",
    "pr_obs, pr_obs_validate, pr_cm_hist, pr_cm_future, pr_dates = preprocess_isimip_evaluation_testing_data('pr')"
   ]
  },
  {
   "cell_type": "code",
   "execution_count": 43,
   "id": "38fcc86e",
   "metadata": {},
   "outputs": [],
   "source": [
    "'''datasets = {\n",
    "        \"tas\": {\n",
    "        \"obs_all\": tas_obs_all,\n",
    "        \"hist_all\": tas_hist_all,\n",
    "        \"obs\": tas_obs_data,\n",
    "        \"hist\": tas_hist_data\n",
    "    },\n",
    "    \"pr\": {\n",
    "        \"obs_all\": pr_obs_all,\n",
    "        \"hist_all\": pr_hist_all,\n",
    "        \"obs\": pr_obs_data,\n",
    "        \"hist\": pr_hist_data\n",
    "    }\n",
    "}'''\n",
    "\n",
    "standard_variables_isimip = {\n",
    "        \"tas\": {\n",
    "        \"lower_bound\": -np.inf,\n",
    "        \"lower_threshold\": -np.inf,\n",
    "        \"upper_bound\": np.inf,\n",
    "        \"upper_threshold\": np.inf,\n",
    "        \"distribution\": scipy.stats.norm,\n",
    "        \"trend_preservation\": \"additive\",\n",
    "        \"detrending\": True,\n",
    "        \"name\": '2m daily mean air temperature (K)',\n",
    "        \"high_threshold\": 295,\n",
    "        \"low_threshold\": 273\n",
    "    },\n",
    "    \"pr\": {\n",
    "        \"lower_bound\": 0,\n",
    "        \"lower_threshold\": 0.1 / 86400,\n",
    "        \"upper_bound\": np.inf,\n",
    "        \"upper_threshold\": np.inf,\n",
    "        \"distribution\": scipy.stats.gamma,\n",
    "        \"trend_preservation\": \"mixed\",\n",
    "        \"detrending\": False,\n",
    "        \"name\": 'Total precipitation (m/day)',\n",
    "        \"high_threshold\": 0.0004,\n",
    "        \"low_threshold\": 0.00001\n",
    "    }\n",
    "}"
   ]
  },
  {
   "cell_type": "markdown",
   "id": "49dca2b3",
   "metadata": {},
   "source": [
    "# Evaluation phase 1 - test assumptions"
   ]
  },
  {
   "cell_type": "code",
   "execution_count": null,
   "id": "b3dc12b6",
   "metadata": {},
   "outputs": [],
   "source": []
  },
  {
   "cell_type": "markdown",
   "id": "11c6116b",
   "metadata": {},
   "source": [
    "# Apply de-biasers"
   ]
  },
  {
   "cell_type": "code",
   "execution_count": 126,
   "id": "86af3aca",
   "metadata": {},
   "outputs": [],
   "source": [
    "# from scipy.stats import norm, laplace - not sure I need this\n",
    "from PACKAGE_NAME.debias import QuantileDeltaMapping, ISIMIP, QuantileMapping\n",
    "from scipy.stats import norm, laplace\n",
    "from PACKAGE_NAME.variables import Temperature, Precipitation"
   ]
  },
  {
   "cell_type": "code",
   "execution_count": 127,
   "id": "c97eb554",
   "metadata": {},
   "outputs": [],
   "source": [
    "QDM_tas_debiaser = QuantileDeltaMapping(distribution=norm, time_window_length=50)\n",
    "QM_tas_debiaser = QuantileMapping.from_variable(variable=Temperature, delta_type=\"additive\")"
   ]
  },
  {
   "cell_type": "code",
   "execution_count": 128,
   "id": "c0059f71",
   "metadata": {},
   "outputs": [
    {
     "name": "stdout",
     "output_type": "stream",
     "text": [
      "----- Running debiasing -----\n"
     ]
    },
    {
     "name": "stderr",
     "output_type": "stream",
     "text": [
      "  0%|                                                     | 0/4 [00:00<?, ?it/s]/Users/fionaspuler/Documents/GitHub/isimipy/notebooks/../PACKAGE_NAME/debias/_quantile_delta_mapping.py:128: RuntimeWarning: invalid value encountered in true_divide\n",
      "  cm_future_time_window\n",
      "100%|█████████████████████████████████████████████| 4/4 [00:00<00:00, 49.71it/s]\n"
     ]
    },
    {
     "name": "stdout",
     "output_type": "stream",
     "text": [
      "----- Running debiasing -----\n"
     ]
    },
    {
     "name": "stderr",
     "output_type": "stream",
     "text": [
      "100%|████████████████████████████████████████████| 4/4 [00:00<00:00, 784.31it/s]\n"
     ]
    }
   ],
   "source": [
    "tas_debiased_QDM = QDM_tas_debiaser.apply(tas_obs, tas_cm_hist, tas_cm_future)\n",
    "tas_debiased_QM = QM_tas_debiaser.apply(tas_obs, tas_cm_hist, tas_cm_future)"
   ]
  },
  {
   "cell_type": "code",
   "execution_count": 96,
   "id": "ea9cc9c4",
   "metadata": {},
   "outputs": [],
   "source": [
    "QDM_pr_debiaser = QuantileDeltaMapping.from_variable(variable=Precipitation)"
   ]
  },
  {
   "cell_type": "code",
   "execution_count": 97,
   "id": "bcfb33cd",
   "metadata": {},
   "outputs": [
    {
     "name": "stdout",
     "output_type": "stream",
     "text": [
      "----- Running debiasing -----\n"
     ]
    },
    {
     "name": "stderr",
     "output_type": "stream",
     "text": [
      "  0%|                                                     | 0/4 [00:00<?, ?it/s]/Users/fionaspuler/Documents/GitHub/isimipy/notebooks/../PACKAGE_NAME/utils/_math_utils.py:330: RuntimeWarning: invalid value encountered in log\n",
      "  return -np.sum(scipy.stats.gamma.logpdf(x, a=params[0], scale=params[1])) - nr_censored_x * np.log(\n",
      "100%|█████████████████████████████████████████████| 4/4 [00:00<00:00,  8.98it/s]\n"
     ]
    }
   ],
   "source": [
    "pr_debiased_QDM = QDM_pr_debiaser.apply(pr_obs, pr_cm_hist, pr_cm_future)"
   ]
  },
  {
   "cell_type": "code",
   "execution_count": 98,
   "id": "0595d5e9",
   "metadata": {
    "scrolled": false
   },
   "outputs": [
    {
     "data": {
      "text/plain": [
       "array([[[nan, nan],\n",
       "        [nan, nan]],\n",
       "\n",
       "       [[nan, nan],\n",
       "        [nan, nan]],\n",
       "\n",
       "       [[nan, nan],\n",
       "        [nan, nan]],\n",
       "\n",
       "       ...,\n",
       "\n",
       "       [[nan, nan],\n",
       "        [nan, nan]],\n",
       "\n",
       "       [[nan, nan],\n",
       "        [nan, nan]],\n",
       "\n",
       "       [[nan, nan],\n",
       "        [nan, nan]]])"
      ]
     },
     "execution_count": 98,
     "metadata": {},
     "output_type": "execute_result"
    }
   ],
   "source": [
    "pr_debiased_QDM"
   ]
  },
  {
   "cell_type": "markdown",
   "id": "40743a89",
   "metadata": {},
   "source": [
    "# Evaluation of bias corrected results on validation period"
   ]
  },
  {
   "cell_type": "markdown",
   "id": "a30a4a52",
   "metadata": {},
   "source": [
    "## Marginal Aspects"
   ]
  },
  {
   "cell_type": "code",
   "execution_count": 119,
   "id": "77fb65da",
   "metadata": {},
   "outputs": [
    {
     "name": "stderr",
     "output_type": "stream",
     "text": [
      "/var/folders/3g/80lqcgbn19l711ck1nnjxplr0000gn/T/ipykernel_2500/1250651362.py:4: UserWarning: Matplotlib is currently using module://matplotlib_inline.backend_inline, which is a non-GUI backend, so cannot show the figure.\n",
      "  figure2.show()\n",
      "/var/folders/3g/80lqcgbn19l711ck1nnjxplr0000gn/T/ipykernel_2500/1250651362.py:9: UserWarning: Matplotlib is currently using module://matplotlib_inline.backend_inline, which is a non-GUI backend, so cannot show the figure.\n",
      "  figure3.show()\n"
     ]
    },
    {
     "data": {
      "image/png": "[encoded data removed]",
      "text/plain": [
       "<Figure size 432x288 with 1 Axes>"
      ]
     },
     "metadata": {
      "needs_background": "light"
     },
     "output_type": "display_data"
    },
    {
     "data": {
      "image/png": "[encoded data removed]",
      "text/plain": [
       "<Figure size 432x288 with 1 Axes>"
      ]
     },
     "metadata": {
      "needs_background": "light"
     },
     "output_type": "display_data"
    }
   ],
   "source": [
    "figure2 = evaluation_functions.histogram_plot('tas', \n",
    "                                    np.ndarray.flatten(tas_obs_validate), np.ndarray.flatten(tas_cm_future), \n",
    "                                   'Observed','CM Biased')\n",
    "figure2.show()\n",
    "\n",
    "figure3 = evaluation_functions.histogram_plot('tas', \n",
    "                                    np.ndarray.flatten(tas_obs_validate), np.ndarray.flatten(tas_debiased_QDM),\n",
    "                                    'Observed','CM De-biased QDM')\n",
    "figure3.show()\n",
    "    \n",
    "#evaluation_functions.marginal_bias_plot(tas_obs_validate, tas_cm_future, 'tas')\n",
    "\n",
    "#evaluation_functions.marginal_bias_plot(tas_obs_validate, tas_debiased_QDM, 'tas')"
   ]
  },
  {
   "cell_type": "code",
   "execution_count": 123,
   "id": "44ddb51d",
   "metadata": {},
   "outputs": [],
   "source": [
    "np.ndarray.flatten(tas_debiased_QDM)\n",
    "\n",
    "test = np.ndarray.flatten(tas_debiased_QDM[~np.isnan(tas_debiased_QDM)])"
   ]
  },
  {
   "cell_type": "code",
   "execution_count": 121,
   "id": "f5df1d41",
   "metadata": {},
   "outputs": [
    {
     "data": {
      "text/plain": [
       "(16592,)"
      ]
     },
     "execution_count": 121,
     "metadata": {},
     "output_type": "execute_result"
    }
   ],
   "source": [
    "np.ndarray.flatten(tas_debiased_QDM).shape"
   ]
  },
  {
   "cell_type": "code",
   "execution_count": 131,
   "id": "8b92153c",
   "metadata": {},
   "outputs": [
    {
     "data": {
      "text/plain": [
       "(16392,)"
      ]
     },
     "execution_count": 131,
     "metadata": {},
     "output_type": "execute_result"
    }
   ],
   "source": [
    "tas_debiased_QM[~np.isnan(tas_debiased_QM)].shape"
   ]
  },
  {
   "cell_type": "code",
   "execution_count": null,
   "id": "54cc47d8",
   "metadata": {},
   "outputs": [],
   "source": []
  }
 ],
 "metadata": {
  "kernelspec": {
   "display_name": "Python 3 (ipykernel)",
   "language": "python",
   "name": "python3"
  },
  "language_info": {
   "codemirror_mode": {
    "name": "ipython",
    "version": 3
   },
   "file_extension": ".py",
   "mimetype": "text/x-python",
   "name": "python",
   "nbconvert_exporter": "python",
   "pygments_lexer": "ipython3",
   "version": "3.9.12"
  }
 },
 "nbformat": 4,
 "nbformat_minor": 5
}
