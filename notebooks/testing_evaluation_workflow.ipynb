{
 "cells": [
  {
   "cell_type": "markdown",
   "id": "1cf4cb27",
   "metadata": {},
   "source": [
    "**Jupyter Notebook illustrating first iteration of ISIMIP implementation integrated with default set of evaluation metrics**"
   ]
  },
  {
   "cell_type": "code",
   "execution_count": 13,
   "id": "3603815a",
   "metadata": {},
   "outputs": [],
   "source": [
    "# WHY???\n",
    "import sys\n",
    "sys.path.append(\"../\")  # path contains python_file.py"
   ]
  },
  {
   "cell_type": "code",
   "execution_count": 14,
   "id": "fc1f7511",
   "metadata": {},
   "outputs": [],
   "source": [
    "#import evaluation_functions\n",
    "import iris\n",
    "import numpy as np\n",
    "import scipy\n",
    "import matplotlib.pyplot as plt"
   ]
  },
  {
   "cell_type": "markdown",
   "id": "d7e97a8c",
   "metadata": {},
   "source": [
    "**Variables to investigate**"
   ]
  },
  {
   "cell_type": "code",
   "execution_count": 99,
   "id": "3f4ed015",
   "metadata": {},
   "outputs": [],
   "source": [
    "variables = ['tas']"
   ]
  },
  {
   "cell_type": "markdown",
   "id": "fe082885",
   "metadata": {},
   "source": [
    "# Data import and pre-processing"
   ]
  },
  {
   "cell_type": "code",
   "execution_count": 91,
   "id": "9cc70199",
   "metadata": {},
   "outputs": [],
   "source": [
    "from cf_units import num2date\n",
    "\n",
    "def get_dates(x):\n",
    "    time_dimension = x.coords()[2]\n",
    "    dates = time_dimension.units.num2date(time_dimension.points)\n",
    "    return dates\n",
    "\n",
    "def preprocess_isimip_evaluation_testing_data(variable):\n",
    "    \n",
    "    obs_all = iris.load_cube(\"testing_data/ISIMIP/\"+variable+\"_obs-hist_coarse_1979-2014.nc\")\n",
    "    cm = iris.load_cube(\"testing_data/ISIMIP/\"+variable+\"_sim-hist_coarse_1979-2014.nc\")\n",
    "    \n",
    "    obs = obs_all[:, :, 0:9000]\n",
    "    obs_validate = obs_all[:, :, 9001:]\n",
    "    cm_hist = cm[:, :, 0:9000]\n",
    "    cm_future = cm[:, :, 9001:]\n",
    "\n",
    "    dates = {\n",
    "        \"obs\": get_dates(obs),\n",
    "        \"obs_validate\": get_dates(obs_validate),\n",
    "        \"cm_hist\": get_dates(cm_hist),\n",
    "        \"cm_future\": get_dates(cm_future),\n",
    "    }\n",
    "    \n",
    "    obs = np.transpose(np.array(obs.data), (2, 0, 1))\n",
    "    obs_validate = np.transpose(np.array(obs_validate.data), (2, 0, 1))\n",
    "    cm_hist = np.transpose(np.array(cm_hist.data), (2, 0, 1))\n",
    "    cm_future = np.transpose(np.array(cm_future.data), (2, 0, 1))\n",
    "    \n",
    "    return obs, obs_validate, cm_hist, cm_future, dates\n"
   ]
  },
  {
   "cell_type": "code",
   "execution_count": 92,
   "id": "eb0a2df9",
   "metadata": {},
   "outputs": [],
   "source": [
    "tas_obs, tas_obs_validate, tas_cm_hist, tas_cm_future, tas_dates = preprocess_isimip_evaluation_testing_data('tas')\n",
    "pr_obs, pr_obs_validate, pr_cm_hist, pr_cm_future, pr_dates = preprocess_isimip_evaluation_testing_data('pr')"
   ]
  },
  {
   "cell_type": "code",
   "execution_count": 43,
   "id": "cf081dce",
   "metadata": {},
   "outputs": [],
   "source": [
    "'''datasets = {\n",
    "        \"tas\": {\n",
    "        \"obs_all\": tas_obs_all,\n",
    "        \"hist_all\": tas_hist_all,\n",
    "        \"obs\": tas_obs_data,\n",
    "        \"hist\": tas_hist_data\n",
    "    },\n",
    "    \"pr\": {\n",
    "        \"obs_all\": pr_obs_all,\n",
    "        \"hist_all\": pr_hist_all,\n",
    "        \"obs\": pr_obs_data,\n",
    "        \"hist\": pr_hist_data\n",
    "    }\n",
    "}'''\n",
    "\n",
    "standard_variables_isimip = {\n",
    "        \"tas\": {\n",
    "        \"lower_bound\": -np.inf,\n",
    "        \"lower_threshold\": -np.inf,\n",
    "        \"upper_bound\": np.inf,\n",
    "        \"upper_threshold\": np.inf,\n",
    "        \"distribution\": scipy.stats.norm,\n",
    "        \"trend_preservation\": \"additive\",\n",
    "        \"detrending\": True,\n",
    "        \"name\": '2m daily mean air temperature (K)',\n",
    "        \"high_threshold\": 295,\n",
    "        \"low_threshold\": 273\n",
    "    },\n",
    "    \"pr\": {\n",
    "        \"lower_bound\": 0,\n",
    "        \"lower_threshold\": 0.1 / 86400,\n",
    "        \"upper_bound\": np.inf,\n",
    "        \"upper_threshold\": np.inf,\n",
    "        \"distribution\": scipy.stats.gamma,\n",
    "        \"trend_preservation\": \"mixed\",\n",
    "        \"detrending\": False,\n",
    "        \"name\": 'Total precipitation (m/day)',\n",
    "        \"high_threshold\": 0.0004,\n",
    "        \"low_threshold\": 0.00001\n",
    "    }\n",
    "}"
   ]
  },
  {
   "cell_type": "markdown",
   "id": "e1d3b052",
   "metadata": {},
   "source": [
    "# Evaluation phase 1 - test assumptions"
   ]
  },
  {
   "cell_type": "code",
   "execution_count": null,
   "id": "7ec6f529",
   "metadata": {},
   "outputs": [],
   "source": []
  },
  {
   "cell_type": "markdown",
   "id": "cc385edf",
   "metadata": {},
   "source": [
    "# Apply de-biasers"
   ]
  },
  {
   "cell_type": "code",
   "execution_count": 93,
   "id": "c32c23d6",
   "metadata": {},
   "outputs": [],
   "source": [
    "# from scipy.stats import norm, laplace - not sure I need this\n",
    "from PACKAGE_NAME.debias import QuantileDeltaMapping, ISIMIP\n",
    "from scipy.stats import norm, laplace\n",
    "from PACKAGE_NAME.variables import Temperature, Precipitation"
   ]
  },
  {
   "cell_type": "code",
   "execution_count": 94,
   "id": "f46211fb",
   "metadata": {},
   "outputs": [],
   "source": [
    "QDM_tas_debiaser = QuantileDeltaMapping(distribution=norm, time_window_length=50)"
   ]
  },
  {
   "cell_type": "code",
   "execution_count": 95,
   "id": "e6920771",
   "metadata": {},
   "outputs": [
    {
     "name": "stdout",
     "output_type": "stream",
     "text": [
      "----- Running debiasing -----\n"
     ]
    },
    {
     "name": "stderr",
     "output_type": "stream",
     "text": [
      "  0%|                                                     | 0/4 [00:00<?, ?it/s]/Users/fionaspuler/Documents/GitHub/isimipy/notebooks/../PACKAGE_NAME/debias/_quantile_delta_mapping.py:128: RuntimeWarning: invalid value encountered in true_divide\n",
      "  cm_future_time_window\n",
      "100%|█████████████████████████████████████████████| 4/4 [00:00<00:00, 52.53it/s]\n"
     ]
    }
   ],
   "source": [
    "tas_debiased_QDM = QDM_tas_debiaser.apply(tas_obs, tas_cm_hist, tas_cm_future)"
   ]
  },
  {
   "cell_type": "code",
   "execution_count": 96,
   "id": "637be61f",
   "metadata": {},
   "outputs": [],
   "source": [
    "QDM_pr_debiaser = QuantileDeltaMapping.from_variable(variable=Precipitation)"
   ]
  },
  {
   "cell_type": "code",
   "execution_count": 97,
   "id": "709a85cb",
   "metadata": {},
   "outputs": [
    {
     "name": "stdout",
     "output_type": "stream",
     "text": [
      "----- Running debiasing -----\n"
     ]
    },
    {
     "name": "stderr",
     "output_type": "stream",
     "text": [
      "  0%|                                                     | 0/4 [00:00<?, ?it/s]/Users/fionaspuler/Documents/GitHub/isimipy/notebooks/../PACKAGE_NAME/utils/_math_utils.py:330: RuntimeWarning: invalid value encountered in log\n",
      "  return -np.sum(scipy.stats.gamma.logpdf(x, a=params[0], scale=params[1])) - nr_censored_x * np.log(\n",
      "100%|█████████████████████████████████████████████| 4/4 [00:00<00:00,  8.98it/s]\n"
     ]
    }
   ],
   "source": [
    "pr_debiased_QDM = QDM_pr_debiaser.apply(pr_obs, pr_cm_hist, pr_cm_future)"
   ]
  },
  {
   "cell_type": "code",
   "execution_count": 98,
   "id": "7e31a669",
   "metadata": {
    "scrolled": false
   },
   "outputs": [
    {
     "data": {
      "text/plain": [
       "array([[[nan, nan],\n",
       "        [nan, nan]],\n",
       "\n",
       "       [[nan, nan],\n",
       "        [nan, nan]],\n",
       "\n",
       "       [[nan, nan],\n",
       "        [nan, nan]],\n",
       "\n",
       "       ...,\n",
       "\n",
       "       [[nan, nan],\n",
       "        [nan, nan]],\n",
       "\n",
       "       [[nan, nan],\n",
       "        [nan, nan]],\n",
       "\n",
       "       [[nan, nan],\n",
       "        [nan, nan]]])"
      ]
     },
     "execution_count": 98,
     "metadata": {},
     "output_type": "execute_result"
    }
   ],
   "source": [
    "pr_debiased_QDM"
   ]
  },
  {
   "cell_type": "markdown",
   "id": "039e63a8",
   "metadata": {},
   "source": [
    "# Evaluation of bias corrected results on validation period"
   ]
  },
  {
   "cell_type": "markdown",
   "id": "ca83786e",
   "metadata": {},
   "source": [
    "## Marginal Aspects"
   ]
  },
  {
   "cell_type": "code",
   "execution_count": 102,
   "id": "2a8bf279",
   "metadata": {},
   "outputs": [
    {
     "name": "stdout",
     "output_type": "stream",
     "text": [
      "tas_obs\n"
     ]
    }
   ],
   "source": [
    "variable_test = 'tas'\n",
    "print(\"\"+variable_test+\"_obs\")"
   ]
  },
  {
   "cell_type": "code",
   "execution_count": null,
   "id": "ae01580f",
   "metadata": {},
   "outputs": [],
   "source": [
    "for variable in variables:\n",
    "    \n",
    "    \n",
    "    \n",
    "    evaluation_functions.histogram_plot(variable, datasets.get(variable).get('obs_all'), datasets.get(variable).get('hist_all'),'Observed','CM Hist')\n",
    "    evaluation_functions.marginal_bias_plot(datasets.get(variable).get('obs'), datasets.get(variable).get('hist'), variable)"
   ]
  }
 ],
 "metadata": {
  "kernelspec": {
   "display_name": "Python 3 (ipykernel)",
   "language": "python",
   "name": "python3"
  },
  "language_info": {
   "codemirror_mode": {
    "name": "ipython",
    "version": 3
   },
   "file_extension": ".py",
   "mimetype": "text/x-python",
   "name": "python",
   "nbconvert_exporter": "python",
   "pygments_lexer": "ipython3",
   "version": "3.9.12"
  }
 },
 "nbformat": 4,
 "nbformat_minor": 5
}
