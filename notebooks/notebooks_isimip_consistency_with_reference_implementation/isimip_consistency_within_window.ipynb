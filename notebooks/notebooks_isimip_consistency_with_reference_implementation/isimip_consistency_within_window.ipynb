{
 "cells": [
  {
   "cell_type": "code",
   "execution_count": 1,
   "metadata": {},
   "outputs": [],
   "source": [
    "import sys\n",
    "sys.path.append(\"../../\")  # path contains python_file.py"
   ]
  },
  {
   "cell_type": "code",
   "execution_count": 2,
   "metadata": {},
   "outputs": [],
   "source": [
    "import iris\n",
    "import numpy as np\n",
    "import scipy.stats\n",
    "import matplotlib.pyplot as plt\n",
    "import warnings"
   ]
  },
  {
   "cell_type": "code",
   "execution_count": 3,
   "metadata": {},
   "outputs": [],
   "source": [
    "%load_ext autoreload\n",
    "%autoreload 2"
   ]
  },
  {
   "cell_type": "markdown",
   "metadata": {},
   "source": [
    "# Testing data ISIMIP"
   ]
  },
  {
   "cell_type": "code",
   "execution_count": 4,
   "metadata": {},
   "outputs": [],
   "source": [
    "from cf_units import num2date\n",
    "\n",
    "def get_dates(x):\n",
    "    time_dimension = x.coords()[2]\n",
    "    dates = time_dimension.units.num2date(time_dimension.points)\n",
    "    return dates\n",
    "\n",
    "def day(x):\n",
    "    return x.day\n",
    "\n",
    "def month(x):\n",
    "    return x.month\n",
    "\n",
    "def year(x):\n",
    "    return x.year\n",
    "\n",
    "day = np.vectorize(day)\n",
    "month = np.vectorize(month)\n",
    "year = np.vectorize(year)\n",
    "\n",
    "\n",
    "def read_in_and_preprocess_isimip_testing_data_with_dates(variable, grid_point = [0,0]):\n",
    "    \n",
    "    obs = iris.load_cube(\"../testing_data/ISIMIP/\"+variable+\"_obs-hist_coarse_1979-2014.nc\")\n",
    "    cm_hist = iris.load_cube(\"../testing_data/ISIMIP/\"+variable+\"_sim-hist_coarse_1979-2014.nc\")\n",
    "    cm_future = iris.load_cube(\"../testing_data/ISIMIP/\"+variable+\"_sim-fut_coarse_2065-2100.nc\")\n",
    "\n",
    "    dates = {\n",
    "        \"obs\": get_dates(obs),\n",
    "        \"cm_hist\": get_dates(cm_hist),\n",
    "        \"cm_future\": get_dates(cm_future)\n",
    "    }\n",
    "    \n",
    "    obs = np.array(obs.data)\n",
    "    cm_hist = np.array(cm_hist.data)\n",
    "    cm_future = np.array(cm_future.data)\n",
    "\n",
    "    \n",
    "    obs = np.moveaxis(obs, -1, 0)\n",
    "    cm_hist = np.moveaxis(cm_hist, -1, 0)\n",
    "    cm_future = np.moveaxis(cm_future, -1, 0)\n",
    "\n",
    "    obs = obs[:,  grid_point[0], grid_point[1]]\n",
    "    cm_hist = cm_hist[:,  grid_point[0], grid_point[1]]\n",
    "    cm_future = cm_future[:,  grid_point[0], grid_point[1]]\n",
    "    \n",
    "    return obs, cm_hist, cm_future, dates\n",
    "\n",
    "def map_distribution_to_isimip_name(distribution):\n",
    "    if distribution == scipy.stats.norm:\n",
    "        return \"normal\"\n",
    "    elif distribution == scipy.stats.beta:\n",
    "        return \"beta\"\n",
    "    elif distribution == scipy.stats.rice:\n",
    "        return \"rice\"\n",
    "    elif distribution == scipy.stats.weibull_min:\n",
    "        return \"weibull\"\n",
    "    elif distribution == scipy.stats.gamma:\n",
    "        return \"gamma\"\n",
    "    else:\n",
    "        raise ValueError(\"Not recognized\")"
   ]
  },
  {
   "cell_type": "markdown",
   "metadata": {},
   "source": [
    "# Comparison ISIMIP and PACKAGE_NAME"
   ]
  },
  {
   "cell_type": "code",
   "execution_count": 5,
   "metadata": {},
   "outputs": [],
   "source": [
    "from PACKAGE_NAME.debias import ISIMIP\n",
    "import PACKAGE_NAME.debias.code_isimip.utility_functions as uf\n",
    "from PACKAGE_NAME.debias.code_isimip.bias_adjustment import adjust_bias_one_month"
   ]
  },
  {
   "cell_type": "markdown",
   "metadata": {},
   "source": [
    "# Check windows:"
   ]
  },
  {
   "cell_type": "code",
   "execution_count": 6,
   "metadata": {},
   "outputs": [
    {
     "name": "stderr",
     "output_type": "stream",
     "text": [
      "/home/jakobwes/anaconda3/envs/ibias4/lib/python3.9/site-packages/pyproj/__init__.py:89: UserWarning: pyproj unable to set database path.\n",
      "  _pyproj_global_context_initialize()\n"
     ]
    }
   ],
   "source": [
    "import PACKAGE_NAME.utils as utils\n",
    "variable = \"tas\"\n",
    "obs_hist, cm_hist, cm_future, dates = read_in_and_preprocess_isimip_testing_data_with_dates(variable, grid_point = [1,1])\n",
    "debiaser = ISIMIP.from_variable(variable=variable)\n",
    "\n",
    "days_of_year_obs = utils.day_of_year(dates[\"obs\"])\n",
    "days_of_year_cm_hist = utils.day_of_year(dates[\"cm_hist\"])\n",
    "days_of_year_cm_future = utils.day_of_year(dates[\"cm_future\"])\n",
    "\n",
    "years_cm_future = utils.year(dates[\"cm_future\"])\n",
    "\n",
    "window_centers = debiaser.running_window._get_window_centers(np.max(days_of_year_cm_future))\n",
    "window_centers_isimip = uf.window_centers_for_running_bias_adjustment(days_of_year_cm_future, debiaser.running_window_step_length)\n",
    "\n",
    "assert window_centers.size == window_centers_isimip.size\n"
   ]
  },
  {
   "cell_type": "code",
   "execution_count": 7,
   "metadata": {},
   "outputs": [],
   "source": [
    "for day_of_year_center, day_of_year_center_isimip in zip(window_centers, window_centers_isimip):\n",
    "\n",
    "    indices_obs_hist = debiaser.running_window.get_indices_vals_in_window(days_of_year_obs, day_of_year_center)\n",
    "    indices_cm_hist = debiaser.running_window.get_indices_vals_in_window(days_of_year_cm_hist, day_of_year_center)\n",
    "    indices_cm_future = debiaser.running_window.get_indices_vals_in_window(days_of_year_cm_future, day_of_year_center)\n",
    "        \n",
    "    indices_obs_hist_isimip = uf.window_indices_for_running_bias_adjustment(days_of_year_obs, day_of_year_center_isimip, debiaser.running_window_length)\n",
    "    indices_cm_hist_isimip = uf.window_indices_for_running_bias_adjustment(days_of_year_cm_hist, day_of_year_center_isimip, debiaser.running_window_length)\n",
    "    indices_cm_future_isimip = uf.window_indices_for_running_bias_adjustment(days_of_year_cm_future, day_of_year_center_isimip, debiaser.running_window_length)\n",
    "\n",
    "    indices_bc_values = debiaser.running_window.get_indices_vals_to_adjust(days_of_year_cm_future, years_cm_future, day_of_year_center)\n",
    "    indices_bc_values_isimip = uf.window_indices_for_running_bias_adjustment(days_of_year_cm_future, day_of_year_center_isimip, debiaser.running_window_step_length, years_cm_future)\n",
    "    \n",
    "    assert all(indices_obs_hist == indices_obs_hist_isimip)\n",
    "    assert all(indices_cm_hist == indices_cm_hist_isimip)\n",
    "    assert all(indices_cm_future == indices_cm_future_isimip)\n",
    "    \n",
    "    assert all(indices_bc_values == indices_bc_values_isimip)"
   ]
  },
  {
   "cell_type": "markdown",
   "metadata": {},
   "source": [
    "# Consistency within window\n"
   ]
  },
  {
   "cell_type": "code",
   "execution_count": 8,
   "metadata": {},
   "outputs": [],
   "source": [
    "def get_results_within_window(debiaser, obs_hist, cm_hist, cm_future, years_obs_hist, years_cm_hist, years_cm_future):\n",
    "    with warnings.catch_warnings():\n",
    "        warnings.simplefilter(\"ignore\")\n",
    "        \n",
    "        result = debiaser._apply_on_window(obs_hist, cm_hist, cm_future, years_obs_hist, years_cm_hist, years_cm_future)\n",
    "\n",
    "        isimip_result = adjust_bias_one_month(\n",
    "            data = {'obs_hist': [obs_hist], 'sim_hist': [cm_hist], 'sim_fut': [cm_future]},\n",
    "            years = {'obs_hist': years_obs_hist, 'sim_hist': years_cm_hist, 'sim_fut': years_cm_future},\n",
    "            long_term_mean = {'obs_hist' : [obs_hist.mean()], 'sim_hist' : [cm_hist.mean()], 'sim_fut' : [cm_future.mean()]},\n",
    "            lower_bound = [None if np.isinf(debiaser.lower_bound) else debiaser.lower_bound],\n",
    "            lower_threshold = [None if np.isinf(debiaser.lower_threshold) else debiaser.lower_threshold],\n",
    "            upper_bound = [None if np.isinf(debiaser.upper_bound) else debiaser.upper_bound],\n",
    "            upper_threshold = [None if np.isinf(debiaser.upper_threshold) else debiaser.upper_threshold],\n",
    "            unconditional_ccs_transfer=[not debiaser.trend_transfer_only_for_values_within_threshold],\n",
    "            trendless_bound_frequency=[False],\n",
    "            randomization_seed=None,\n",
    "            detrend=[debiaser.detrending],\n",
    "            rotation_matrices=[],\n",
    "            n_quantiles=min(obs_hist.size, cm_hist.size, cm_future.size)-1,\n",
    "            distribution=[map_distribution_to_isimip_name(debiaser.distribution)],\n",
    "            trend_preservation=[debiaser.trend_preservation_method],\n",
    "            adjust_p_values=[debiaser.event_likelihood_adjustment],\n",
    "            invalid_value_warnings=True\n",
    "        )[0]\n",
    "        \n",
    "    return result, isimip_result\n",
    "\n",
    "def get_pct_exact_max_deviation_diff_within_window(debiaser, obs_hist, cm_hist, cm_future, years_obs_hist, years_cm_hist, years_cm_future):\n",
    "    result, isimip_result = get_results_within_window(debiaser, obs_hist, cm_hist, cm_future, years_obs_hist, years_cm_hist, years_cm_future)\n",
    "    \n",
    "    pct_exact = np.sum(np.isclose(result, isimip_result))/result.size\n",
    "    max_deviation = np.max(np.abs(result-isimip_result))\n",
    "    diff = result-isimip_result\n",
    "    \n",
    "    return pct_exact, max_deviation, diff\n",
    "\n",
    "    \n",
    "def test_consistency_monthly_iteration(debiaser, obs_hist, cm_hist, cm_future, dates):\n",
    "    \n",
    "    years_obs_hist = year(dates[\"obs_hist\"])\n",
    "    years_cm_hist = year(dates[\"cm_hist\"])\n",
    "    years_cm_future = year(dates[\"cm_future\"])\n",
    "\n",
    "    pct_exact = np.zeros(12)\n",
    "    max_deviations = np.zeros(12)\n",
    "    diffs = []\n",
    "    \n",
    "    for chosen_month in range(1, 13):\n",
    "        mask_obs_hist_month = month(dates[\"obs_hist\"]) == chosen_month\n",
    "        mask_cm_hist_month = month(dates[\"cm_hist\"]) == chosen_month\n",
    "        mask_cm_future_month = month(dates[\"cm_future\"]) == chosen_month\n",
    "\n",
    "        i = chosen_month-1\n",
    "        pct_exact[i], max_deviations[i], diff = get_pct_exact_max_deviation_diff_within_window(\n",
    "            debiaser, \n",
    "            obs_hist[mask_obs_hist_month], \n",
    "            cm_hist[mask_cm_hist_month], \n",
    "            cm_future[mask_cm_future_month], \n",
    "            years_obs_hist[mask_obs_hist_month], \n",
    "            years_cm_hist[mask_cm_hist_month], \n",
    "            years_cm_future[mask_cm_future_month]\n",
    "        )\n",
    "        diffs.append(diff)\n",
    "        \n",
    "    print(\"Average percent agreement across all months: %s\"%pct_exact.mean())\n",
    "    print(\"Month with least percent agreement: month %s with percent agreement of %s and max deviation of %s\"%(pct_exact.argmin() +1, pct_exact.min(), max_deviations[pct_exact.argmin()]))\n",
    "    print(\"Month with max devitation: month %s with max devitation %s and percent agreement of %s\"%(max_deviations.argmax()+1, max_deviations.max(), pct_exact[max_deviations.argmax()]))\n",
    "    print(\"Number of months with exact agreement (of 1.0): %s of %s\"%((pct_exact == 1).sum(), 12))\n",
    "    \n",
    "    return pct_exact, max_deviations, diffs\n",
    "\n",
    "def test_consistency_running_window_iteration(debiaser, obs_hist, cm_hist, cm_future, dates):\n",
    "    \n",
    "    years_obs_hist = year(dates[\"obs_hist\"])\n",
    "    years_cm_hist = year(dates[\"cm_hist\"])\n",
    "    years_cm_future = year(dates[\"cm_future\"])\n",
    "    \n",
    "    days_of_year_cm_future = utils.day_of_year(dates[\"cm_future\"])\n",
    "    \n",
    "    window_centers = debiaser._get_window_centers(np.max(days_of_year_cm_future))\n",
    "\n",
    "    pct_exact = np.zeros_like(window_centers)\n",
    "    max_deviations = np.zeros_like(window_centers)\n",
    "    diffs = []\n",
    "    \n",
    "    for i, day_of_year_center in enumerate(window_centers):\n",
    "        indices_obs_hist = debiaser._get_indices_around_window_center(days_of_year_obs_hist, day_of_year_center)\n",
    "        indices_cm_hist = debiaser._get_indices_around_window_center(days_of_year_cm_hist, day_of_year_center)\n",
    "        indices_cm_future = debiaser._get_indices_around_window_center(days_of_year_cm_future, day_of_year_center)\n",
    "\n",
    "        pct_exact[i], max_deviations[i], diff = get_pct_exact_max_deviation_diff_within_window(\n",
    "            debiaser, \n",
    "            obs_hist[indices_obs_hist], \n",
    "            cm_hist[indices_cm_hist], \n",
    "            cm_future[indices_cm_future], \n",
    "            years_obs_hist[indices_obs_hist], \n",
    "            years_cm_hist[indices_cm_hist], \n",
    "            years_cm_future[indices_cm_future]\n",
    "        )        \n",
    "        diffs.append(diff)\n",
    "        \n",
    "    print(\"Average percent agreement across all windows: %s\"%pct_exact.mean())\n",
    "    print(\"Window with least percent agreement: window center %s with percent agreement of %s and max deviation of %s\"%(window_centers[pct_exact.argmin()], pct_exact.min(), max_deviations[pct_exact.argmin()]))\n",
    "    print(\"Window with max devitation: window center %s with max devitation %s and percent agreement of %s\"%(window_centers[max_deviations.max()], max_deviations.max(), pct_exact[max_deviations.argmax()]))\n",
    "    print(\"Number of windows with exact agreement (of 1.0): %s of %s\"%((pct_exact == 1).sum(), window_centers.size))\n",
    "\n",
    "    return pct_exact, max_deviations, diffs"
   ]
  },
  {
   "cell_type": "markdown",
   "metadata": {},
   "source": [
    "## Tas"
   ]
  },
  {
   "cell_type": "code",
   "execution_count": 17,
   "metadata": {},
   "outputs": [],
   "source": [
    "variable = \"tas\"\n",
    "obs_hist, cm_hist, cm_future, dates = read_in_and_preprocess_isimip_testing_data_with_dates(variable, grid_point = [1,1])\n",
    "debiaser = ISIMIP.from_variable(variable=variable)"
   ]
  },
  {
   "cell_type": "code",
   "execution_count": 18,
   "metadata": {},
   "outputs": [
    {
     "name": "stdout",
     "output_type": "stream",
     "text": [
      "Average percent agreement across all months: 0.9996719160104988\n",
      "Month with least percent agreement: month 2 with percent agreement of 0.9960629921259843 and max deviation of 0.002960205078125\n",
      "Month with max devitation: month 2 with max devitation 0.002960205078125 and percent agreement of 0.9960629921259843\n",
      "Number of months with exact agreement (of 1.0): 11 of 12\n"
     ]
    }
   ],
   "source": [
    "pct_exact, max_deviations, diffs = test_consistency_monthly_iteration(debiaser, obs_hist, cm_hist, cm_future, dates)"
   ]
  },
  {
   "cell_type": "code",
   "execution_count": 19,
   "metadata": {},
   "outputs": [
    {
     "name": "stdout",
     "output_type": "stream",
     "text": [
      "Average percent agreement across all windows: 1.0\n",
      "Window with least percent agreement: window center 1 with percent agreement of 1 and max deviation of 0\n",
      "Window with max devitation: window center 1 with max devitation 0 and percent agreement of 1\n",
      "Number of windows with exact agreement (of 1.0): 366 of 366\n"
     ]
    }
   ],
   "source": [
    "pct_exact, max_deviations, diffs = test_consistency_running_window_iteration(debiaser, obs_hist, cm_hist, cm_future, dates)"
   ]
  },
  {
   "cell_type": "markdown",
   "metadata": {},
   "source": [
    "## Pr"
   ]
  },
  {
   "cell_type": "code",
   "execution_count": 12,
   "metadata": {},
   "outputs": [],
   "source": [
    "variable = \"pr\"\n",
    "obs_hist, cm_hist, cm_future, dates = read_in_and_preprocess_isimip_testing_data_with_dates(variable, grid_point = [1,1])\n",
    "debiaser = ISIMIP.from_variable(variable=variable)"
   ]
  },
  {
   "cell_type": "code",
   "execution_count": 13,
   "metadata": {},
   "outputs": [
    {
     "name": "stdout",
     "output_type": "stream",
     "text": [
      "Average percent agreement across all months: 0.9592293906810037\n",
      "Month with least percent agreement: month 6 with percent agreement of 0.6666666666666666 and max deviation of 1.2575765140354633e-06\n",
      "Month with max devitation: month 6 with max devitation 1.2575765140354633e-06 and percent agreement of 0.6666666666666666\n",
      "Number of months with exact agreement (of 1.0): 9 of 12\n"
     ]
    }
   ],
   "source": [
    "pct_exact, max_deviations, diffs = test_consistency_monthly_iteration(debiaser, obs_hist, cm_hist, cm_future, dates)"
   ]
  },
  {
   "cell_type": "code",
   "execution_count": 14,
   "metadata": {},
   "outputs": [
    {
     "name": "stdout",
     "output_type": "stream",
     "text": [
      "Average percent agreement across all windows: 0.8060109289617486\n",
      "Window with least percent agreement: window center 133 with percent agreement of 0 and max deviation of 0\n",
      "Window with max devitation: window center 1 with max devitation 0 and percent agreement of 1\n",
      "Number of windows with exact agreement (of 1.0): 295 of 366\n"
     ]
    }
   ],
   "source": [
    "pct_exact, max_deviations, diffs = test_consistency_running_window_iteration(debiaser, obs_hist, cm_hist, cm_future, dates)"
   ]
  },
  {
   "cell_type": "markdown",
   "metadata": {},
   "source": [
    "## Psl"
   ]
  },
  {
   "cell_type": "code",
   "execution_count": 15,
   "metadata": {},
   "outputs": [],
   "source": [
    "variable = \"psl\"\n",
    "obs_hist, cm_hist, cm_future, dates = read_in_and_preprocess_isimip_testing_data_with_dates(\"ps\", grid_point = [1,1])\n",
    "debiaser = ISIMIP.from_variable(variable=variable)"
   ]
  },
  {
   "cell_type": "code",
   "execution_count": 16,
   "metadata": {},
   "outputs": [
    {
     "name": "stdout",
     "output_type": "stream",
     "text": [
      "Average percent agreement across all months: 1.0\n",
      "Month with least percent agreement: month 1 with percent agreement of 1.0 and max deviation of 0.0\n",
      "Month with max devitation: month 2 with max devitation 0.2109375 and percent agreement of 1.0\n",
      "Number of months with exact agreement (of 1.0): 12 of 12\n"
     ]
    }
   ],
   "source": [
    "pct_exact, max_deviations, diffs = test_consistency_monthly_iteration(debiaser, obs_hist, cm_hist, cm_future, dates)"
   ]
  },
  {
   "cell_type": "code",
   "execution_count": 17,
   "metadata": {},
   "outputs": [
    {
     "name": "stdout",
     "output_type": "stream",
     "text": [
      "Average percent agreement across all windows: 1.0\n",
      "Window with least percent agreement: window center 1 with percent agreement of 1 and max deviation of 0\n",
      "Window with max devitation: window center 1 with max devitation 0 and percent agreement of 1\n",
      "Number of windows with exact agreement (of 1.0): 366 of 366\n"
     ]
    }
   ],
   "source": [
    "pct_exact, max_deviations, diffs = test_consistency_running_window_iteration(debiaser, obs_hist, cm_hist, cm_future, dates)"
   ]
  },
  {
   "cell_type": "markdown",
   "metadata": {},
   "source": [
    "# Other / WIP"
   ]
  },
  {
   "cell_type": "code",
   "execution_count": 14,
   "metadata": {},
   "outputs": [],
   "source": [
    "variable = \"tasrange\"\n",
    "obs_hist, cm_hist, cm_future, dates = read_in_and_preprocess_isimip_testing_data_with_dates(variable, grid_point = [1,1])\n",
    "debiaser = ISIMIP.from_variable(variable=variable)"
   ]
  },
  {
   "cell_type": "code",
   "execution_count": 15,
   "metadata": {},
   "outputs": [
    {
     "name": "stdout",
     "output_type": "stream",
     "text": [
      "Average percent agreement across all months: 0.03425479073180369\n",
      "Month with least percent agreement: month 4 with percent agreement of 0.0 and max deviation of 0.0020046234130859375\n",
      "Month with max devitation: month 2 with max devitation 0.006083488464355469 and percent agreement of 0.03740157480314961\n",
      "Number of months with exact agreement (of 1.0): 0 of 12\n"
     ]
    }
   ],
   "source": [
    "pct_exact, max_deviations, diffs = test_consistency_monthly_iteration(debiaser, obs_hist, cm_hist, cm_future, dates)"
   ]
  },
  {
   "cell_type": "code",
   "execution_count": 16,
   "metadata": {},
   "outputs": [
    {
     "data": {
      "text/plain": [
       "ISIMIP(distribution=<scipy.stats._continuous_distns.rice_gen object at 0x7fbb8432a2b0>, trend_preservation_method='mixed', detrending=False, reasonable_physical_range=None, variable='tasrange', lower_bound=0.0, lower_threshold=0.01, upper_bound=inf, upper_threshold=inf, trend_removal_with_significance_test=True, trend_transfer_only_for_values_within_threshold=True, event_likelihood_adjustment=False, ecdf_method='linear_interpolation', iecdf_method='linear', mode_non_parametric_quantile_mapping='isimipv3.0', running_window_mode=True, running_window_length=31, running_window_step_length=1)"
      ]
     },
     "execution_count": 16,
     "metadata": {},
     "output_type": "execute_result"
    }
   ],
   "source": [
    "debiaser"
   ]
  },
  {
   "cell_type": "markdown",
   "metadata": {},
   "source": [
    "## Pr: month with biggest deviation"
   ]
  },
  {
   "cell_type": "code",
   "execution_count": 9,
   "metadata": {},
   "outputs": [],
   "source": [
    "variable = \"sfcWind\"\n",
    "obs_hist, cm_hist, cm_future, dates = read_in_and_preprocess_isimip_testing_data_with_dates(variable, grid_point = [1,1])\n",
    "debiaser = ISIMIP.from_variable(variable=variable)\n"
   ]
  },
  {
   "cell_type": "code",
   "execution_count": 10,
   "metadata": {},
   "outputs": [
    {
     "name": "stdout",
     "output_type": "stream",
     "text": [
      "float32\n",
      "x_target\n",
      "float32\n",
      "x_target_fit\n",
      "float32\n",
      "float32\n",
      "x_target\n",
      "float32\n",
      "x_target_fit\n",
      "float32\n"
     ]
    }
   ],
   "source": [
    "years_obs_hist = year(dates[\"obs_hist\"])\n",
    "years_cm_hist = year(dates[\"cm_hist\"])\n",
    "years_cm_future = year(dates[\"cm_future\"])\n",
    "\n",
    "chosen_month = 6\n",
    "mask_obs_hist_month = month(dates[\"obs_hist\"]) == chosen_month\n",
    "mask_cm_hist_month = month(dates[\"cm_hist\"]) == chosen_month\n",
    "mask_cm_future_month = month(dates[\"cm_future\"]) == chosen_month\n",
    "\n",
    "result, result_isimip = get_results_within_window(\n",
    "    debiaser, \n",
    "    obs_hist[mask_obs_hist_month], \n",
    "    cm_hist[mask_cm_hist_month], \n",
    "    cm_future[mask_cm_future_month], \n",
    "    years_obs_hist[mask_obs_hist_month], \n",
    "    years_cm_hist[mask_cm_hist_month], \n",
    "    years_cm_future[mask_cm_future_month]\n",
    ")\n",
    "\n",
    "result, isimip_result = get_results_within_window(debiaser, obs_hist, cm_hist, cm_future, years_obs_hist, years_cm_hist, years_cm_future)\n"
   ]
  },
  {
   "cell_type": "code",
   "execution_count": 15,
   "metadata": {},
   "outputs": [
    {
     "data": {
      "text/plain": [
       "dtype('float32')"
      ]
     },
     "execution_count": 15,
     "metadata": {},
     "output_type": "execute_result"
    }
   ],
   "source": [
    "result.dtype"
   ]
  },
  {
   "cell_type": "code",
   "execution_count": 12,
   "metadata": {},
   "outputs": [
    {
     "data": {
      "image/png": "[encoded data removed]",
      "text/plain": [
       "<Figure size 640x480 with 1 Axes>"
      ]
     },
     "metadata": {},
     "output_type": "display_data"
    }
   ],
   "source": [
    "time = np.arange(isimip_result.size)[0:100]\n",
    "plt.plot(time, isimip_result[0:100], label = \"ISIMIP\")\n",
    "plt.plot(time, result[0:100], label = \"Implementation\")\n",
    "plt.plot(time, cm_future[0:100], label = \"Biased CM\")\n",
    "plt.legend()\n",
    "plt.show()"
   ]
  },
  {
   "cell_type": "code",
   "execution_count": 21,
   "metadata": {},
   "outputs": [],
   "source": [
    "zeros = np.where(result == 0)[0]\n",
    "zeros_isimip = np.where(isimip_result==0)[0]"
   ]
  },
  {
   "cell_type": "code",
   "execution_count": 22,
   "metadata": {},
   "outputs": [
    {
     "data": {
      "image/png": "[encoded data removed]",
      "text/plain": [
       "<Figure size 640x480 with 1 Axes>"
      ]
     },
     "metadata": {},
     "output_type": "display_data"
    }
   ],
   "source": [
    "plt.scatter(result, isimip_result, s = 10)\n",
    "plt.plot([0, 0.0006], [0, 0.0006])\n",
    "plt.show()"
   ]
  },
  {
   "cell_type": "code",
   "execution_count": null,
   "metadata": {},
   "outputs": [],
   "source": []
  },
  {
   "cell_type": "code",
   "execution_count": null,
   "metadata": {},
   "outputs": [],
   "source": [
    "#def map_arguments_to_isimip_command_line_ones(debiaser):\n",
    "\n",
    "def map_distribution_to_name(distribution):\n",
    "    if distribution == scipy.stats.norm:\n",
    "        return \"normal\"\n",
    "    elif distribution == scipy.stats.gamma:\n",
    "        return \"gamma\"\n",
    "    else:\n",
    "        raise ValueError(\"Unknown distribution\")\n",
    "\n",
    "def map_to_none_if_inf_else_value(value):\n",
    "    if np.isinf(value):\n",
    "        return None\n",
    "    else:\n",
    "        return value\n",
    "\n",
    "def run_isimip_from_debiaser(debiaser, data_path = \"isimip3basd-master/data/\", data_path_debiased_models = \"isimip3basd-master/data/debiased_models/\"):\n",
    "    arguments = {\n",
    "        \"n-processes\": 5,\n",
    "        \"randomization-seed\": 0\n",
    "        \"variable\": debiaser.variable,\n",
    "        \"distribution\": map_distribution_to_name(debiaser.distribution),\n",
    "        \"trend-preservation\": debiaser.trend_preservation_method,\n",
    "        \"detrend\": int(debiaser.detrending),\n",
    "        \"halfwin-upper-bound-climatology\": 0,\n",
    "        \"lower-bound\": map_to_none_if_inf_else_value(debiaser.lower_bound),\n",
    "        \"lower-threshold\": map_to_none_if_inf_else_value(debiaser.lower_threshold),\n",
    "        \"upper-bound\": map_to_none_if_inf_else_value(debiaser.upper_bound),\n",
    "        \"upper-threshold\": map_to_none_if_inf_else_value(debiaser.upper_threshold),\n",
    "        \"unconditional-ccs-transfer\": 1-int(debiaser.trend_transfer_only_for_values_within_threshold),\n",
    "        \"adjust-p-values\" : int(debiaser.event_likelihood_adjustment),\n",
    "        \"halfwin-upper-bound-climatology\": 0,\n",
    "        \"max-change-factor\": 10000.,\n",
    "        \"max-adjustment-factor\": 10000.,\n",
    "        \"step-size\": debiaser.running_window_step_length if debiaser.running_window_mode else 0,\n",
    "        \"o\": data_path+debiaser.variable+\"_obs-hist_coarse_1979-2014.nc\",\n",
    "        \"s\": data_path+debiaser.variable+\"_sim-hist_coarse_1979-2014.nc\",\n",
    "        \"f\": data_path+debiaser.variable+\"_sim-fut_coarse_2065-2100.nc\",\n",
    "        \"b\": data_path_debiased_models+debiaser.variable+\"_sim-fut-basd_coarse_2065-2100.nc\",\n",
    "        \"n-quantiles\": 15000\n",
    "        \n",
    "    }\n",
    "    \n",
    "    call = \"\"\"python -u isimip3basd-master/code/bias_adjustment.py \\\n",
    "                --n-processes {n-processes} \\\n",
    "                --randomization-seed {randomization-seed} \\\n",
    "                --variable {variable} \\\n",
    "                --distribution {distribution} \\\n",
    "                --trend-preservation {trend-preservation} \\\n",
    "                --detrend {detrend} \\\n",
    "                --halfwin-upper-bound-climatology {halfwin-upper-bound-climatology} \\\n",
    "                --lower-bound {lower-bound} \\\n",
    "                --lower-threshold\":\n",
    "                --upper-bound\": \n",
    "                \"--upper-threshold\": \n",
    "                unconditional-ccs-transfer\":,\n",
    "                \"adjust-p-values\" : ,\n",
    "                \"halfwin-upper-bound-climatology\": 0,\n",
    "                \"max-change-factor\": 10000.,\n",
    "                \"max-adjustment-factor\": 10000.,\n",
    "                -o {o} \\\n",
    "                -s {s} \\\n",
    "                -f {f} \\\n",
    "                -b {b} \\\n",
    "                --n-quantiles {n-quantiles} #\\\n",
    "                #--max-change-factor 10000. \\\n",
    "                #--max-adjustment-factor 10000.\n",
    "                #--adjust-p-values 1\n",
    "                #--if-all-invalid-use \\\n",
    "                #--trendless-bound-frequency \\\n",
    "                #--lower-bound , 0.\\\n",
    "                #--lower-threshold , 0.1 \\\n",
    "                #--upper-bound , \\\n",
    "                #--upper-threshold , \\\n",
    "                #--unconditional-ccs-transfer\\\n",
    "                #--step-size 1 \\\n",
    "\n",
    "    \n",
    "    \"\"\"\n",
    "\n"
   ]
  }
 ],
 "metadata": {
  "kernelspec": {
   "display_name": "ibias4",
   "language": "python",
   "name": "ibias4"
  },
  "language_info": {
   "codemirror_mode": {
    "name": "ipython",
    "version": 3
   },
   "file_extension": ".py",
   "mimetype": "text/x-python",
   "name": "python",
   "nbconvert_exporter": "python",
   "pygments_lexer": "ipython3",
   "version": "3.9.13"
  }
 },
 "nbformat": 4,
 "nbformat_minor": 4
}
