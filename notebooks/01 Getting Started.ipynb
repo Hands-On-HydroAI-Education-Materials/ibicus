{
 "cells": [
  {
   "cell_type": "markdown",
   "id": "f78c1dda",
   "metadata": {},
   "source": [
    "# Welcome to ibicus!\n",
    "\n",
    "## 1. Introduction\n",
    "\n",
    "Ibicus is a python software package that helps you apply, compare and evaluate a range of different bias adjustment methods. This notebook guides you through the workflow of bias adjusting the variable 'tas' (2m surface temperature) using ibicus. The notebook is ideal if you are new to bias adjustment and want to familiarize yourself with the different steps.\n",
    "\n",
    "**Requirements for starting this notebook**\n",
    "\n",
    "- Have some testing data ready. You can either use the data we provide and download (see below) or downloaded and pre-processed your own testing data. \n",
    "- Have ibicus installed. Just use: ``pip install ibicus``\n",
    "\n",
    "\n",
    "**Link to other notebooks and documentation pages**\n",
    "- If you want to download and pre-process observational and climate model testing data first, start with this [00 Download and Preprocess](https://nbviewer.org/github/ecmwf-projects/ibicus/blob/main/notebooks/00%20Download%20and%20Preprocess.ipynb).\n",
    "- For an introduction to the idea and general methodology of bias adjustment, have a look at this page: [What is bias adjustment?](https://ibicus.readthedocs.io/en/latest/getting_started/whatisdebiasing.html)\n",
    "- [02 Adjusting Debiasers](https://nbviewer.org/github/ecmwf-projects/ibicus/blob/main/notebooks/02%20Adjusting%20Debiasers.ipynb) gives a more advanced overview of how to initialize apply different debiasers and the choices the user can make.\n",
    "- For a detailed overview of evaluation methods available, have a look at the evaluation notebook [03 Evaluation](https://nbviewer.org/github/ecmwf-projects/ibicus/blob/main/notebooks/03%20Evaluation.ipynb).\n",
    "- If you want to use ibicus for larger projects or in high performance computing environments have a look at [04 Parallelization and Dask](https://nbviewer.org/github/ecmwf-projects/ibicus/blob/main/notebooks/04%20Parallelization%20and%20Dask.ipynb)."
   ]
  },
  {
   "cell_type": "markdown",
   "id": "357f31e1",
   "metadata": {},
   "source": [
    "## 2. Load pre-processed testing data\n",
    "\n",
    "To bias adjust climate model values ibicus always requires three datasets of the same climatic variable:\n",
    "\n",
    "- obs: observational data (usually a reanalysis) over a historical or reference period. \n",
    "- cm_hist: climate model values in a historical or reference period (same period as obs).\n",
    "- cm_future: climate model values to debias, usually climate model values in a future period.\n",
    "\n",
    "obs and cm_hist are used to construct an empirical transfer function between simulated and observed distribution of the climatic variable. This transfer function is then applied to cm_future to debias it.\n",
    "\n",
    "We provide some testing data inside the [ibicus GitHub repo](https://github.com/ecmwf-projects/ibicus). We can download and unpack it:"
   ]
  },
  {
   "cell_type": "code",
   "execution_count": null,
   "id": "dbaa5325-227c-48a7-8e3a-5b22be23517c",
   "metadata": {},
   "outputs": [],
   "source": [
    "!wget https://github.com/ecmwf-projects/ibicus/blob/main/notebooks/testing_data.zip -c\n",
    "!unzip testing_data.zip"
   ]
  },
  {
   "cell_type": "markdown",
   "id": "a74e1952-ce05-4af5-a02d-e68fb1509330",
   "metadata": {},
   "source": [
    "The testing data was already preprocessed. It containts data from an historical and future simulation of a climate model as well as reanalysis data serving as observations. Necessary preprocessing steps that were applied:\n",
    "\n",
    "1. Regridding the datasets to the same area and grid in space and time.\n",
    "2. Conducted checks for corrupted or missing data.\n",
    "\n",
    "ibicus works on numpy arrays of data of the form: ``[t, x, y]`` (first dimension corresponds to timesteps and then come the two spatial dimensions). From the regridded data we therefore extracted the data arrays. Additionally we extracted the time information, as this can be required by some debiasers. \n",
    "\n",
    "We can read in the data:"
   ]
  },
  {
   "cell_type": "code",
   "execution_count": 1,
   "id": "44b0cce1",
   "metadata": {},
   "outputs": [],
   "source": [
    "import numpy as np\n",
    "\n",
    "def get_data(variable, data_path = \"testing_data/\"):\n",
    "    # Load in the data \n",
    "    data = np.load(f\"{data_path}{variable}.npz\", allow_pickle = True)\n",
    "    # Return arrays\n",
    "    return data[\"obs\"], data[\"cm_hist\"], data[\"cm_future\"], data[\"time_obs\"], data[\"time_cm_hist\"], data[\"time_cm_future\"]"
   ]
  },
  {
   "cell_type": "code",
   "execution_count": 2,
   "id": "2708ba7a",
   "metadata": {},
   "outputs": [],
   "source": [
    "tas_obs, tas_cm_hist, tas_cm_future, time_obs, time_cm_hist, time_cm_future = get_data(variable = 'tas')"
   ]
  },
  {
   "cell_type": "markdown",
   "id": "d66fb937-1866-49a0-bf58-96132700bc0e",
   "metadata": {},
   "source": [
    "``tas_obs``, ``tas_cm_hist`` and ``tas_cm_future`` now contain observations as well as historical and future climate model data for ``tas``. Additionally the times corresponding to each timestep are stored in ``time_obs``, ``time_cm_hist`` and ``time_cm_future``."
   ]
  },
  {
   "cell_type": "markdown",
   "id": "7eee3e6f",
   "metadata": {},
   "source": [
    "## 3. Initialize the bias adjustment method\n",
    "\n",
    "We are going to initialize two debiasers that we can later apply to our testing data: \n",
    "- ``LinearScaling``, a simple bias adjustment method that corrects the mean of the climate model.\n",
    "- ``ISIMIP``, a trend-preserving parametric quantile mapping method, explained in detail in the class documentation.\n",
    "\n",
    "Both of them are child classes of the more general Debiaser class and contain the core calculations necessary for each bias adjustment method. Let's import the two:"
   ]
  },
  {
   "cell_type": "code",
   "execution_count": 3,
   "id": "307d6ed2-7bda-4d82-af50-9e7a2268e34b",
   "metadata": {},
   "outputs": [],
   "source": [
    "from ibicus.debias import LinearScaling, ISIMIP"
   ]
  },
  {
   "cell_type": "markdown",
   "id": "e3f440bb-9aa1-40ca-98f0-37e66554a34a",
   "metadata": {},
   "source": [
    "Even though the two debiasers have very different degrees of complexity, they can both be initialized in a similarly simple manner using the ``from_variable`` classmethod and by specifying the variable you wish to debias. This initializes a set of default settings in both debiasers. These default settings can of course be manually overwritten, as described in detail in the notebook 02 Adjusting Debiasers.\n",
    "\n",
    "**Linear Scaling:**"
   ]
  },
  {
   "cell_type": "code",
   "execution_count": 4,
   "id": "3eca3041",
   "metadata": {},
   "outputs": [],
   "source": [
    "tas_debiaser_LS = LinearScaling.from_variable(variable = 'tas')"
   ]
  },
  {
   "cell_type": "markdown",
   "id": "afb82787",
   "metadata": {},
   "source": [
    "**ISIMIP:**"
   ]
  },
  {
   "cell_type": "code",
   "execution_count": 5,
   "id": "de1baf46",
   "metadata": {},
   "outputs": [],
   "source": [
    "tas_debiaser_ISIMIP = ISIMIP.from_variable(variable = 'tas')"
   ]
  },
  {
   "cell_type": "markdown",
   "id": "209442f3",
   "metadata": {},
   "source": [
    "## 4. Applying the bias adjustment method on the validation period\n",
    "\n",
    "In order to evaluate the performance of different bias adjustment methods, before choosing the one to use for the future application period, it is useful to split the historical data (both climate model and observations) into a training and a validation period. Using the training period we can then debias the historical climate model over the validation period and compare it with observations in this period. Let's split the data:"
   ]
  },
  {
   "cell_type": "code",
   "execution_count": 6,
   "id": "622072c6-5760-416b-a3e4-fbc79d30a3ce",
   "metadata": {},
   "outputs": [],
   "source": [
    "split_ratio = 0.7\n",
    "split = int(split_ratio * tas_obs.shape[0])\n",
    "\n",
    "# First split observations\n",
    "tas_obs_train = tas_obs[ :split]\n",
    "tas_obs_val = tas_obs[split: ]\n",
    "time_obs_train = time_obs[ :split]\n",
    "time_obs_val = time_obs[split: ]\n",
    "\n",
    "# Then split cm_hist\n",
    "tas_cm_hist_train = tas_cm_hist[ :split]\n",
    "tas_cm_hist_val = tas_cm_hist[split: ]\n",
    "time_cm_hist_train = time_cm_hist[ :split]\n",
    "time_cm_hist_val = time_cm_hist[split: ]"
   ]
  },
  {
   "cell_type": "markdown",
   "id": "a719282a-920e-4793-96ee-75ac02270124",
   "metadata": {},
   "source": [
    "And run the initialised debiasers on the train and validation period:\n",
    "\n",
    "**Linear Scaling:**"
   ]
  },
  {
   "cell_type": "code",
   "execution_count": 7,
   "id": "9007c205",
   "metadata": {},
   "outputs": [
    {
     "name": "stderr",
     "output_type": "stream",
     "text": [
      "INFO:root:----- Running debiasing for variable: Daily mean near-surface air temperature -----\n",
      "100%|█████████████████████████████████████████| 225/225 [00:00<00:00, 5823.27it/s]\n"
     ]
    }
   ],
   "source": [
    "tas_val_debiased_LS = tas_debiaser_LS.apply(tas_obs_train, tas_cm_hist_train, tas_cm_hist_val)"
   ]
  },
  {
   "cell_type": "markdown",
   "id": "4034172c",
   "metadata": {},
   "source": [
    "**ISIMIP:**"
   ]
  },
  {
   "cell_type": "code",
   "execution_count": 8,
   "id": "26c03e89",
   "metadata": {},
   "outputs": [
    {
     "name": "stderr",
     "output_type": "stream",
     "text": [
      "INFO:root:----- Running debiasing for variable: Daily mean near-surface air temperature -----\n",
      "100%|███████████████████████████████████████████| 225/225 [28:40<00:00,  7.65s/it]\n"
     ]
    }
   ],
   "source": [
    "tas_val_debiased_ISIMIP = tas_debiaser_ISIMIP.apply(tas_obs_train, tas_cm_hist_train, tas_cm_hist_val, time_obs = time_obs_train, time_cm_hist = time_cm_hist_train, time_cm_future = time_cm_hist_val)"
   ]
  },
  {
   "cell_type": "markdown",
   "id": "67063d10",
   "metadata": {},
   "source": [
    "## 5. Evaluating the bias corrected climate model on the validation period\n",
    "\n",
    "After running the debiasers above we have now debiased climate model data in a validation period. We can compare this with observations in the same period to see whether the method has actually improved the bias of the climate model compared to observations.\n",
    "\n",
    "The ``ThresholdMetrics`` class in the ``ibicus.metrics`` module provides the functionality to define targeted metrics associated with each variable. In this tutorial, we will simply investigate the occurrence of 'mean warm days' and 'mean cold days'. We can import those:"
   ]
  },
  {
   "cell_type": "code",
   "execution_count": 9,
   "id": "2b794a4e",
   "metadata": {},
   "outputs": [],
   "source": [
    "from ibicus.evaluate.metrics import warm_days, cold_days\n",
    "tas_metrics = [warm_days, cold_days]"
   ]
  },
  {
   "cell_type": "markdown",
   "id": "dba5a95d-1af2-4294-ba8f-16031f0d54c9",
   "metadata": {},
   "source": [
    "We also import the marginal module, which contains all functions to conduct a location-wise evaluation."
   ]
  },
  {
   "cell_type": "code",
   "execution_count": 10,
   "id": "ac3cc256-11f4-4f73-ad06-958e02d2e0cd",
   "metadata": {},
   "outputs": [],
   "source": [
    "from ibicus.evaluate import marginal"
   ]
  },
  {
   "cell_type": "markdown",
   "id": "bf7d83c7",
   "metadata": {},
   "source": [
    "The following function provides an entry point into evaluating the performance of the bias adjustment method. It calculates the bias of the mean, 5th percentile and 95th percentile of the climate model with respect to observations by default, as well as the bias of the additional metrics specified above."
   ]
  },
  {
   "cell_type": "code",
   "execution_count": 11,
   "id": "58e611b6",
   "metadata": {},
   "outputs": [
    {
     "name": "stderr",
     "output_type": "stream",
     "text": [
      "/Users/fionaspuler/opt/anaconda3/lib/python3.9/site-packages/ibicus/evaluate/marginal.py:54: RuntimeWarning: invalid value encountered in true_divide\n",
      "  bias = 100 * (obs_metric - cm_metric) / obs_metric\n",
      "/Users/fionaspuler/opt/anaconda3/lib/python3.9/site-packages/ibicus/evaluate/marginal.py:54: RuntimeWarning: divide by zero encountered in true_divide\n",
      "  bias = 100 * (obs_metric - cm_metric) / obs_metric\n",
      "/var/folders/3g/80lqcgbn19l711ck1nnjxplr0000gn/T/ipykernel_59717/3289275602.py:6: UserWarning: Matplotlib is currently using module://matplotlib_inline.backend_inline, which is a non-GUI backend, so cannot show the figure.\n",
      "  plot.show()\n"
     ]
    },
    {
     "data": {
      "image/png": "[encoded data removed]",
      "text/plain": [
       "<Figure size 936x432 with 2 Axes>"
      ]
     },
     "metadata": {
      "needs_background": "light"
     },
     "output_type": "display_data"
    }
   ],
   "source": [
    "tas_marginal_bias_data = marginal.calculate_marginal_bias(metrics = tas_metrics, obs_data = tas_obs_val,\n",
    "                                                          raw = tas_cm_hist_val, LS = tas_val_debiased_LS,\n",
    "                                                          ISIMIP = tas_val_debiased_ISIMIP, remove_outliers = False)\n",
    "\n",
    "plot = marginal.plot_marginal_bias(variable = 'tas', bias_df = tas_marginal_bias_data)\n",
    "plot.show()"
   ]
  },
  {
   "cell_type": "markdown",
   "id": "dd4893d1",
   "metadata": {},
   "source": [
    "## 6. Apply the debiaser to the future period"
   ]
  },
  {
   "cell_type": "markdown",
   "id": "879bbc09-6d39-4732-a368-6ee340715b1b",
   "metadata": {},
   "source": [
    "Based on some evalution we can now decide to apply the debiaser onto the future period -- the one we want to debias. This can be done as follows:"
   ]
  },
  {
   "cell_type": "code",
   "execution_count": 12,
   "id": "dcac3914",
   "metadata": {},
   "outputs": [
    {
     "name": "stderr",
     "output_type": "stream",
     "text": [
      "INFO:root:----- Running debiasing for variable: Daily mean near-surface air temperature -----\n",
      "100%|███████████████████████████████████████████| 225/225 [11:05<00:00,  2.96s/it]\n"
     ]
    }
   ],
   "source": [
    "tas_fut_debiased_ISIMIP = tas_debiaser_ISIMIP.apply(tas_obs, tas_cm_hist, tas_cm_future, time_obs = time_obs, time_cm_hist = time_cm_hist, time_cm_future = time_cm_future)"
   ]
  },
  {
   "cell_type": "markdown",
   "id": "dfd6aa1a",
   "metadata": {},
   "source": [
    "The variable tas_fut_debiased_ISIMIP now contains the bias corrected climate model data for the period 2065-2100. Congratulations!"
   ]
  }
 ],
 "metadata": {
  "kernelspec": {
   "display_name": "Python 3 (ipykernel)",
   "language": "python",
   "name": "python3"
  },
  "language_info": {
   "codemirror_mode": {
    "name": "ipython",
    "version": 3
   },
   "file_extension": ".py",
   "mimetype": "text/x-python",
   "name": "python",
   "nbconvert_exporter": "python",
   "pygments_lexer": "ipython3",
   "version": "3.9.13"
  },
  "vscode": {
   "interpreter": {
    "hash": "916dbcbb3f70747c44a77c7bcd40155683ae19c65e1c03b4aa3499c5328201f1"
   }
  }
 },
 "nbformat": 4,
 "nbformat_minor": 5
}
