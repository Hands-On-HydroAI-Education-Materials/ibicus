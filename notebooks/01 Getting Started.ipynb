{
 "cells": [
  {
   "cell_type": "markdown",
   "id": "f78c1dda",
   "metadata": {},
   "source": [
    "# Welcome to PACKAGE_NAME!\n",
    "\n",
    "## Introduction\n",
    "\n",
    "PACKAGE_NAME is a python software package that helps you apply and evaluate a range of different bias correction methods to your climate model data. **This notebook guides you through the workflow of bias correcting the variable 'tas' (2m surface temperature) using PACKAGE_NAME. The notebook is ideal if you are new to bias correction and want to familiarize yourself with the different steps without yet going into the details of each of them.**\n",
    "\n",
    "**Requirements for starting this notebook**\n",
    "\n",
    "- Downloaded and pre-processed testing data. You can either use your own data, use the testing data prepared and stored in FOLDER or download your own testing data.\n",
    "- PACKAGE REQUIREMENTS?\n",
    "\n",
    "\n",
    "**Link to other notebooks and documentation pages**\n",
    "- If you want to download and pre-process observational and climate model testing data first, start with this notebook.\n",
    "- For an introduction to the idea and general methodology of bias correction, have a look at this page LINK.\n",
    "- LINK gives a more advanced overview of how to initialize apply different debiasers and the choices the user can make.\n",
    "- For a detailed overview of evaluation methods available, have a look at the evaluation notebook LINK."
   ]
  },
  {
   "cell_type": "markdown",
   "id": "11fd26d3",
   "metadata": {},
   "source": [
    "## Load required packages"
   ]
  },
  {
   "cell_type": "code",
   "execution_count": 8,
   "id": "df00d3d4",
   "metadata": {},
   "outputs": [],
   "source": [
    "import sys\n",
    "sys.path.append(\"../\")  # path contains python_file.py"
   ]
  },
  {
   "cell_type": "code",
   "execution_count": 9,
   "id": "8bda7b7c",
   "metadata": {},
   "outputs": [],
   "source": [
    "import numpy as np\n",
    "import iris\n",
    "from scipy.stats import norm"
   ]
  },
  {
   "cell_type": "markdown",
   "id": "f8ee13bf",
   "metadata": {},
   "source": [
    "The variable class provides a standard definition template for meteorological variables that can be bias corrected. A standard set of variables specified in DOCUMENTATION is initalized out of the box."
   ]
  },
  {
   "cell_type": "code",
   "execution_count": null,
   "id": "213fbd8b",
   "metadata": {},
   "outputs": [],
   "source": [
    "from PACKAGE_NAME.variables import *"
   ]
  },
  {
   "cell_type": "markdown",
   "id": "a460497d",
   "metadata": {},
   "source": [
    "The classes LinearScaling and ISIMIP are child classes of the more general Debiaser class and contain the core calculations necessary for each bias correction method."
   ]
  },
  {
   "cell_type": "code",
   "execution_count": null,
   "id": "8eb7ee01",
   "metadata": {},
   "outputs": [],
   "source": [
    "from PACKAGE_NAME.debias import LinearScaling, ISIMIP"
   ]
  },
  {
   "cell_type": "markdown",
   "id": "4ff255e9",
   "metadata": {},
   "source": [
    "The evaluate module provides a set of functions useful for evaluating the performance of the bias correction method. The functions are grouped by functionality - marginal, for example, contains all functions to conduct a marginal, that is location-wise evaluation."
   ]
  },
  {
   "cell_type": "code",
   "execution_count": null,
   "id": "2b794a4e",
   "metadata": {},
   "outputs": [],
   "source": [
    "from PACKAGE_NAME.evaluate import marginal\n",
    "from PACKAGE_NAME.evaluate.metrics import *"
   ]
  },
  {
   "cell_type": "markdown",
   "id": "357f31e1",
   "metadata": {},
   "source": [
    "## Loading testing data\n",
    "\n",
    "This step requires you to have downloaded and preprocessed observational or reanalysis data (such as ERA5) as well as a historical, as well as a future simulation of a climate model. Necessary pre-processing steps include:\n",
    "- Regridding the datasets to the same area and grid in space and time\n",
    "- Conducted checks for corrupted or missing data\n",
    "\n",
    "If you don't have testing data yet, you can either work with the testing data stored in FOLDER, or use the PREPROCESS_NOTEBOOK to download new testing data.\n",
    "\n",
    "In order to evaluate the performance of different bias correction methods before choosing the one to use for the future application period, we split the historical data for which we have observations into a training and a validation period. The parameter 'split_ratio' in the function 'preprocess_isimip_evaluation_testing_data' defines the ratio of training data points vs validation data points."
   ]
  },
  {
   "cell_type": "markdown",
   "id": "29c825e5",
   "metadata": {},
   "source": [
    "**OPEN QUESTION** - which file to put these functions in?"
   ]
  },
  {
   "cell_type": "code",
   "execution_count": 25,
   "id": "44b0cce1",
   "metadata": {},
   "outputs": [],
   "source": [
    "from cf_units import num2date\n",
    "\n",
    "def get_dates(x):\n",
    "    \n",
    "    time_dimension = x.coords()[2]\n",
    "    dates = time_dimension.units.num2date(time_dimension.points)\n",
    "    return dates\n",
    "\n",
    "def preprocess_isimip_evaluation_testing_data(variable, split_ratio):\n",
    "    \n",
    "    obs_all = iris.load_cube(\"testing_data/ISIMIP/\"+variable+\"_obs-hist_coarse_1979-2014.nc\")\n",
    "    cm = iris.load_cube(\"testing_data/ISIMIP/\"+variable+\"_sim-hist_coarse_1979-2014.nc\")\n",
    "    \n",
    "    if obs_all.shape != cm.shape:\n",
    "        raise ValueError('Observation and climate model data do not have same dimensions.')\n",
    "    \n",
    "    boundary_step = math.floor(obs_all.shape[2]*split_ratio)\n",
    "    \n",
    "    obs = obs_all[:, :, 0:boundary_step]\n",
    "    obs_validate = obs_all[:, :, boundary_step+1:]\n",
    "    cm_hist = cm[:, :, 0:boundary_step]\n",
    "    cm_validate = cm[:, :, boundary_step+1:]\n",
    "    \n",
    "    cm_future = iris.load_cube(\"testing_data/ISIMIP/\"+variable+\"_sim-fut_coarse_2065-2100.nc\")\n",
    "\n",
    "    dates = {\n",
    "        \"time_obs\": get_dates(obs),\n",
    "        \"time_cm_hist\": get_dates(cm_hist),\n",
    "        \"time_cm_future\": get_dates(cm_validate),\n",
    "    }\n",
    "    \n",
    "    dates_future = {\n",
    "        \"time_obs\": get_dates(obs),\n",
    "        \"time_cm_hist\": get_dates(cm_hist),\n",
    "        \"time_cm_future\": get_dates(cm_future),\n",
    "    }\n",
    "    \n",
    "    obs = np.transpose(np.array(obs.data), (2, 0, 1))\n",
    "    obs_validate = np.transpose(np.array(obs_validate.data), (2, 0, 1))\n",
    "    cm_hist = np.transpose(np.array(cm_hist.data), (2, 0, 1))\n",
    "    cm_validate = np.transpose(np.array(cm_validate.data), (2, 0, 1))\n",
    "    cm_future = np.transpose(np.array(cm_future.data), (2, 0, 1))\n",
    "    \n",
    "    return obs, obs_validate, cm_hist, cm_validate, cm_future, dates, dates_future"
   ]
  },
  {
   "cell_type": "code",
   "execution_count": 26,
   "id": "2708ba7a",
   "metadata": {},
   "outputs": [],
   "source": [
    "tas_obs, tas_obs_validate, tas_cm_hist, tas_cm_validate, tas_cm_future, tas_dates_validate, tas_dates_future = preprocess_isimip_evaluation_testing_data(variable = 'tas', split_ratio = 0.7)"
   ]
  },
  {
   "cell_type": "markdown",
   "id": "7eee3e6f",
   "metadata": {},
   "source": [
    "## Initializing the debiaser\n",
    "\n",
    "We are going to initialize two debiasers that we can later apply to our testing data: \n",
    "- Linear Scaling, a simple bias correction method that corrects the mean and variance of the climate model, keeping their ratio constant.\n",
    "- ISIMIP, a trend-preserving parametric quantile mapping method, explained in detail in the class documentation LINK.\n",
    "\n",
    "Even though the two debiasers have very different degrees of complexity, the can both be initialized in a similarly simple manner by specifying the variable you wish to debias. This initializes a set of default settings in both debiasers. These default settings can be manually overwritten, as described in detail in the DEBIASER NOTEBOOK LINK.\n",
    "\n",
    "**Linear Scaling**"
   ]
  },
  {
   "cell_type": "code",
   "execution_count": 33,
   "id": "3eca3041",
   "metadata": {},
   "outputs": [],
   "source": [
    "tas_debiaser_LS = LinearScaling.from_variable(variable = 'tas')"
   ]
  },
  {
   "cell_type": "markdown",
   "id": "afb82787",
   "metadata": {},
   "source": [
    "**ISIMIP**"
   ]
  },
  {
   "cell_type": "code",
   "execution_count": 34,
   "id": "de1baf46",
   "metadata": {},
   "outputs": [],
   "source": [
    "tas_debiaser_ISIMIP = ISIMIP.from_variable(variable = 'tas')"
   ]
  },
  {
   "cell_type": "markdown",
   "id": "209442f3",
   "metadata": {},
   "source": [
    "## Applying the debiaser on the validation period\n",
    "\n",
    "We now apply these initialized debiasers to the testing data in our validation period defined above.\n",
    "\n",
    "**Linear Scaling**"
   ]
  },
  {
   "cell_type": "code",
   "execution_count": 37,
   "id": "9007c205",
   "metadata": {},
   "outputs": [
    {
     "name": "stderr",
     "output_type": "stream",
     "text": [
      "INFO:root:----- Running debiasing for variable: Daily mean near-surface air temperature -----\n",
      "100%|█████████████████████████████████████████| 4/4 [00:00<00:00, 3517.24it/s]\n"
     ]
    }
   ],
   "source": [
    "tas_val_debiased_LS = tas_debiaser_LS.apply(tas_obs, tas_cm_hist, tas_cm_validate)"
   ]
  },
  {
   "cell_type": "markdown",
   "id": "4034172c",
   "metadata": {},
   "source": [
    "**ISIMIP**"
   ]
  },
  {
   "cell_type": "code",
   "execution_count": 38,
   "id": "26c03e89",
   "metadata": {},
   "outputs": [
    {
     "name": "stderr",
     "output_type": "stream",
     "text": [
      "INFO:root:----- Running debiasing for variable: Daily mean near-surface air temperature -----\n",
      "100%|███████████████████████████████████████████| 4/4 [00:09<00:00,  2.35s/it]\n"
     ]
    }
   ],
   "source": [
    "tas_val_debiased_ISIMIP = tas_debiaser_ISIMIP.apply(tas_obs, tas_cm_hist, tas_cm_validate, **tas_dates_validate)"
   ]
  },
  {
   "cell_type": "markdown",
   "id": "67063d10",
   "metadata": {},
   "source": [
    "## Evaluating the bias corrected climate model on the validation period\n",
    "\n",
    "We have so far only applied the debiaser to the validation period, so that we can compare the performance of different bias correction methods before applying them to the future period. The advantage is that during the evaluation period, our debiased climate model can be compare to observational / reanalysis data and we can therefore assess whether method has actually improved the bias of the climate model compared to observations.\n",
    "\n",
    "The ThresholdMetrics class provides the functionality to define targeted metrics associated with each variable. In this tutorial, we will simply investigate the occurrence of 'mean warm days' and 'mean cold days'."
   ]
  },
  {
   "cell_type": "code",
   "execution_count": 41,
   "id": "b801c3e6",
   "metadata": {},
   "outputs": [],
   "source": [
    "tas_metrics = [warm_days, cold_days]"
   ]
  },
  {
   "cell_type": "markdown",
   "id": "bf7d83c7",
   "metadata": {},
   "source": [
    "The following function provides an entry point into evaluating the performance of the bias correction method. It calculates the bias of the mean, 5th percentile and 95th percentile of the climate model with respect to observations by default, as well as the bias of the additional metrics specified above."
   ]
  },
  {
   "cell_type": "code",
   "execution_count": 40,
   "id": "58e611b6",
   "metadata": {},
   "outputs": [
    {
     "data": {
      "image/png": "[encoded data removed]",
      "text/plain": [
       "<Figure size 936x432 with 2 Axes>"
      ]
     },
     "metadata": {
      "needs_background": "light"
     },
     "output_type": "display_data"
    }
   ],
   "source": [
    "tas_marginal_bias_data = marginal.calculate_marginal_bias(metrics = tas_metrics,obs_data = tas_obs_validate,\n",
    "                                                          raw = tas_cm_validate, LS = tas_val_debiased_LS,\n",
    "                                                          ISIMIP = tas_val_debiased_ISIMIP)\n",
    "\n",
    "marginal.plot_marginal_bias(variable = 'tas', bias_array = tas_marginal_bias_data)"
   ]
  },
  {
   "cell_type": "markdown",
   "id": "dd4893d1",
   "metadata": {},
   "source": [
    "## Apply the debiaser to the future period"
   ]
  },
  {
   "cell_type": "code",
   "execution_count": 36,
   "id": "dcac3914",
   "metadata": {},
   "outputs": [
    {
     "name": "stderr",
     "output_type": "stream",
     "text": [
      "INFO:root:----- Running debiasing for variable: Daily mean near-surface air temperature -----\n",
      "100%|███████████████████████████████████████████| 4/4 [00:12<00:00,  3.19s/it]\n"
     ]
    }
   ],
   "source": [
    "tas_fut_debiased_ISIMIP = tas_debiaser_ISIMIP.apply(tas_obs, tas_cm_hist, tas_cm_future, **tas_dates_future)"
   ]
  },
  {
   "cell_type": "markdown",
   "id": "dfd6aa1a",
   "metadata": {},
   "source": [
    "The variable tas_fut_debiased_ISIMIP now contains the bias corrected climate model data for the period 2065-2100. Congratulations!"
   ]
  }
 ],
 "metadata": {
  "kernelspec": {
   "display_name": "Python 3 (ipykernel)",
   "language": "python",
   "name": "python3"
  },
  "language_info": {
   "codemirror_mode": {
    "name": "ipython",
    "version": 3
   },
   "file_extension": ".py",
   "mimetype": "text/x-python",
   "name": "python",
   "nbconvert_exporter": "python",
   "pygments_lexer": "ipython3",
   "version": "3.9.12"
  }
 },
 "nbformat": 4,
 "nbformat_minor": 5
}
