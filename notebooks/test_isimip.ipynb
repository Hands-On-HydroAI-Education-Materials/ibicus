{
 "cells": [
  {
   "cell_type": "code",
   "execution_count": 28,
   "metadata": {},
   "outputs": [],
   "source": [
    "import sys\n",
    "sys.path.append(\"../\")  # path contains python_file.py"
   ]
  },
  {
   "cell_type": "code",
   "execution_count": 18,
   "metadata": {},
   "outputs": [],
   "source": [
    "import iris\n",
    "\n",
    "import numpy as np\n",
    "import scipy.stats"
   ]
  },
  {
   "cell_type": "code",
   "execution_count": 19,
   "metadata": {},
   "outputs": [
    {
     "name": "stdout",
     "output_type": "stream",
     "text": [
      "The autoreload extension is already loaded. To reload it, use:\n",
      "  %reload_ext autoreload\n"
     ]
    }
   ],
   "source": [
    "%load_ext autoreload\n",
    "%autoreload 2\n",
    "import PACKAGE_NAME.math_helpers"
   ]
  },
  {
   "cell_type": "code",
   "execution_count": 20,
   "metadata": {},
   "outputs": [
    {
     "name": "stderr",
     "output_type": "stream",
     "text": [
      "/home/jakobwes/anaconda3/lib/python3.8/site-packages/iris/fileformats/cf.py:859: UserWarning: Missing CF-netCDF measure variable 'areacella', referenced by netCDF variable 'tas'\n",
      "  warnings.warn(\n",
      "/home/jakobwes/anaconda3/lib/python3.8/site-packages/iris/fileformats/cf.py:859: UserWarning: Missing CF-netCDF measure variable 'areacella', referenced by netCDF variable 'tas'\n",
      "  warnings.warn(\n"
     ]
    }
   ],
   "source": [
    "era5 = iris.load(\"testing_data/ERA5.nc\")\n",
    "obs = era5[0]\n",
    "\n",
    "cm_hist = iris.load_cube(\n",
    "    \"testing_data/CMIP6/medium_area/historical_monthly_surface_temp_single_levels_IPSL-CM5A2-INCA/tas_Amon_IPSL-CM5A2-INCA_historical_r1i1p1f1_gr_19790116-20141216_v20200729.nc\"\n",
    ")\n",
    "cm_future = iris.load_cube(\n",
    "    \"testing_data/CMIP6/medium_area/SSP3-7_monthly_surface_temp_single_levels_IPSL-CM5A2-INCA/tas_Amon_IPSL-CM5A2-INCA_ssp370_r1i1p1f1_gr_20150116-20501216_v20201218.nc\"\n",
    ")"
   ]
  },
  {
   "cell_type": "code",
   "execution_count": 21,
   "metadata": {},
   "outputs": [],
   "source": [
    "# Regrid\n",
    "cm_hist = cm_hist.regrid(obs, iris.analysis.Linear())\n",
    "cm_future = cm_future.regrid(obs, iris.analysis.Linear())"
   ]
  },
  {
   "cell_type": "code",
   "execution_count": 22,
   "metadata": {},
   "outputs": [],
   "source": [
    "# Get data\n",
    "obs = np.array(obs.data[:, 0, :, :])\n",
    "cm_hist = cm_hist.data\n",
    "cm_future = cm_future.data"
   ]
  },
  {
   "cell_type": "markdown",
   "metadata": {},
   "source": [
    "Test ISIMIP:"
   ]
  },
  {
   "cell_type": "code",
   "execution_count": 23,
   "metadata": {},
   "outputs": [],
   "source": [
    "obs = obs[:, 1, 1]\n",
    "cm_hist = cm_hist[:, 1, 1]\n",
    "cm_future = cm_future[:, 1, 1]"
   ]
  },
  {
   "cell_type": "code",
   "execution_count": 24,
   "metadata": {},
   "outputs": [
    {
     "data": {
      "text/plain": [
       "'temp_debiaser.variable = \"prsnratio\"\\ntemp_debiaser.trend_preservation = \"mixed\"\\ntemp_debiaser.lower_bound = 0\\ntemp_debiaser.upper_bound = 300\\ntemp_debiaser.lower_threshold = 50\\ntemp_debiaser.upper_treshold = 290\\ntemp_debiaser.powerlaw_exponent_step4 = 2'"
      ]
     },
     "execution_count": 24,
     "metadata": {},
     "output_type": "execute_result"
    }
   ],
   "source": [
    "from PACKAGE_NAME.isimip import ISIMIP\n",
    "\n",
    "temp_debiaser = ISIMIP(variable=\"tas\")\n",
    "#temp_debiaser.trend_preservation = \"mixed\"\n",
    "\"\"\"temp_debiaser.variable = \"prsnratio\"\n",
    "temp_debiaser.trend_preservation = \"mixed\"\n",
    "temp_debiaser.lower_bound = 0\n",
    "temp_debiaser.upper_bound = 300\n",
    "temp_debiaser.lower_threshold = 50\n",
    "temp_debiaser.upper_treshold = 290\n",
    "temp_debiaser.powerlaw_exponent_step4 = 2\"\"\""
   ]
  },
  {
   "cell_type": "code",
   "execution_count": 25,
   "metadata": {},
   "outputs": [],
   "source": [
    "obs = obs[obs > 0]  # Two obs-outliers. Need to check for that."
   ]
  },
  {
   "cell_type": "code",
   "execution_count": 26,
   "metadata": {},
   "outputs": [
    {
     "ename": "TypeError",
     "evalue": "only integer scalar arrays can be converted to a scalar index",
     "output_type": "error",
     "traceback": [
      "\u001b[0;31m---------------------------------------------------------------------------\u001b[0m",
      "\u001b[0;31mTypeError\u001b[0m                                 Traceback (most recent call last)",
      "\u001b[0;32m<ipython-input-26-1dd8e3d6d022>\u001b[0m in \u001b[0;36m<module>\u001b[0;34m\u001b[0m\n\u001b[1;32m      2\u001b[0m \u001b[0mobs\u001b[0m\u001b[0;34m,\u001b[0m \u001b[0mcm_hist\u001b[0m\u001b[0;34m,\u001b[0m \u001b[0mcm_future\u001b[0m \u001b[0;34m=\u001b[0m \u001b[0mtemp_debiaser\u001b[0m\u001b[0;34m.\u001b[0m\u001b[0mstep4\u001b[0m\u001b[0;34m(\u001b[0m\u001b[0mobs\u001b[0m\u001b[0;34m,\u001b[0m \u001b[0mcm_hist\u001b[0m\u001b[0;34m,\u001b[0m \u001b[0mcm_future\u001b[0m\u001b[0;34m)\u001b[0m\u001b[0;34m\u001b[0m\u001b[0;34m\u001b[0m\u001b[0m\n\u001b[1;32m      3\u001b[0m \u001b[0mobs_future\u001b[0m \u001b[0;34m=\u001b[0m \u001b[0mtemp_debiaser\u001b[0m\u001b[0;34m.\u001b[0m\u001b[0mstep5\u001b[0m\u001b[0;34m(\u001b[0m\u001b[0mobs\u001b[0m\u001b[0;34m,\u001b[0m \u001b[0mcm_hist\u001b[0m\u001b[0;34m,\u001b[0m \u001b[0mcm_future\u001b[0m\u001b[0;34m)\u001b[0m\u001b[0;34m\u001b[0m\u001b[0;34m\u001b[0m\u001b[0m\n\u001b[0;32m----> 4\u001b[0;31m \u001b[0mtest\u001b[0m \u001b[0;34m=\u001b[0m \u001b[0mtemp_debiaser\u001b[0m\u001b[0;34m.\u001b[0m\u001b[0mstep6\u001b[0m\u001b[0;34m(\u001b[0m\u001b[0mobs\u001b[0m\u001b[0;34m,\u001b[0m \u001b[0mobs_future\u001b[0m\u001b[0;34m,\u001b[0m \u001b[0mcm_hist\u001b[0m\u001b[0;34m,\u001b[0m \u001b[0mcm_future\u001b[0m\u001b[0;34m)\u001b[0m\u001b[0;34m\u001b[0m\u001b[0;34m\u001b[0m\u001b[0m\n\u001b[0m",
      "\u001b[0;32m~/Desktop/ESoWC/isimipy/PACKAGE_NAME/isimip.py\u001b[0m in \u001b[0;36mstep6\u001b[0;34m(self, obs_hist, obs_future, cm_hist, cm_future)\u001b[0m\n\u001b[1;32m    437\u001b[0m                 \u001b[0mobs_hist_sorted\u001b[0m\u001b[0;34m,\u001b[0m \u001b[0mobs_future_sorted\u001b[0m\u001b[0;34m,\u001b[0m \u001b[0mcm_hist_sorted\u001b[0m\u001b[0;34m,\u001b[0m \u001b[0mcm_future_sorted\u001b[0m\u001b[0;34m\u001b[0m\u001b[0;34m\u001b[0m\u001b[0m\n\u001b[1;32m    438\u001b[0m             )\n\u001b[0;32m--> 439\u001b[0;31m             \u001b[0;32mreturn\u001b[0m \u001b[0mcm_future_sorted\u001b[0m\u001b[0;34m[\u001b[0m\u001b[0mreverse_sorting_idx\u001b[0m\u001b[0;34m]\u001b[0m\u001b[0;34m\u001b[0m\u001b[0;34m\u001b[0m\u001b[0m\n\u001b[0m\u001b[1;32m    440\u001b[0m \u001b[0;34m\u001b[0m\u001b[0m\n\u001b[1;32m    441\u001b[0m     \u001b[0;32mdef\u001b[0m \u001b[0mstep7\u001b[0m\u001b[0;34m(\u001b[0m\u001b[0mself\u001b[0m\u001b[0;34m,\u001b[0m \u001b[0mcm_future\u001b[0m\u001b[0;34m,\u001b[0m \u001b[0mtrend\u001b[0m\u001b[0;34m)\u001b[0m\u001b[0;34m:\u001b[0m\u001b[0;34m\u001b[0m\u001b[0;34m\u001b[0m\u001b[0m\n",
      "\u001b[0;31mTypeError\u001b[0m: only integer scalar arrays can be converted to a scalar index"
     ]
    }
   ],
   "source": [
    "obs, cm_hist, cm_future = temp_debiaser.step2(obs, cm_hist, cm_future)\n",
    "obs, cm_hist, cm_future = temp_debiaser.step4(obs, cm_hist, cm_future)\n",
    "obs_future = temp_debiaser.step5(obs, cm_hist, cm_future)\n",
    "test = temp_debiaser.step6(obs, obs_future, cm_hist, cm_future)"
   ]
  },
  {
   "cell_type": "code",
   "execution_count": 27,
   "metadata": {},
   "outputs": [
    {
     "ename": "TypeError",
     "evalue": "only integer scalar arrays can be converted to a scalar index",
     "output_type": "error",
     "traceback": [
      "\u001b[0;31m---------------------------------------------------------------------------\u001b[0m",
      "\u001b[0;31mTypeError\u001b[0m                                 Traceback (most recent call last)",
      "\u001b[0;32m<ipython-input-27-70026cfdcd1f>\u001b[0m in \u001b[0;36m<module>\u001b[0;34m\u001b[0m\n\u001b[0;32m----> 1\u001b[0;31m \u001b[0mx\u001b[0m \u001b[0;34m=\u001b[0m \u001b[0mtemp_debiaser\u001b[0m\u001b[0;34m.\u001b[0m\u001b[0mapply_location\u001b[0m\u001b[0;34m(\u001b[0m\u001b[0mobs\u001b[0m\u001b[0;34m,\u001b[0m \u001b[0mcm_hist\u001b[0m\u001b[0;34m,\u001b[0m \u001b[0mcm_future\u001b[0m\u001b[0;34m)\u001b[0m\u001b[0;34m\u001b[0m\u001b[0;34m\u001b[0m\u001b[0m\n\u001b[0m",
      "\u001b[0;32m~/Desktop/ESoWC/isimipy/PACKAGE_NAME/isimip.py\u001b[0m in \u001b[0;36mapply_location\u001b[0;34m(self, obs, cm_hist, cm_future)\u001b[0m\n\u001b[1;32m    484\u001b[0m         \u001b[0mobs\u001b[0m\u001b[0;34m,\u001b[0m \u001b[0mcm_hist\u001b[0m\u001b[0;34m,\u001b[0m \u001b[0mcm_future\u001b[0m \u001b[0;34m=\u001b[0m \u001b[0mself\u001b[0m\u001b[0;34m.\u001b[0m\u001b[0mstep4\u001b[0m\u001b[0;34m(\u001b[0m\u001b[0mobs\u001b[0m\u001b[0;34m,\u001b[0m \u001b[0mcm_hist\u001b[0m\u001b[0;34m,\u001b[0m \u001b[0mcm_future\u001b[0m\u001b[0;34m)\u001b[0m\u001b[0;34m\u001b[0m\u001b[0;34m\u001b[0m\u001b[0m\n\u001b[1;32m    485\u001b[0m         \u001b[0mobs_future\u001b[0m \u001b[0;34m=\u001b[0m \u001b[0mself\u001b[0m\u001b[0;34m.\u001b[0m\u001b[0mstep5\u001b[0m\u001b[0;34m(\u001b[0m\u001b[0mobs\u001b[0m\u001b[0;34m,\u001b[0m \u001b[0mcm_hist\u001b[0m\u001b[0;34m,\u001b[0m \u001b[0mcm_future\u001b[0m\u001b[0;34m)\u001b[0m\u001b[0;34m\u001b[0m\u001b[0;34m\u001b[0m\u001b[0m\n\u001b[0;32m--> 486\u001b[0;31m         \u001b[0mcm_future\u001b[0m \u001b[0;34m=\u001b[0m \u001b[0mself\u001b[0m\u001b[0;34m.\u001b[0m\u001b[0mstep6\u001b[0m\u001b[0;34m(\u001b[0m\u001b[0mobs\u001b[0m\u001b[0;34m,\u001b[0m \u001b[0mobs_future\u001b[0m\u001b[0;34m,\u001b[0m \u001b[0mcm_hist\u001b[0m\u001b[0;34m,\u001b[0m \u001b[0mcm_future\u001b[0m\u001b[0;34m)\u001b[0m\u001b[0;34m\u001b[0m\u001b[0;34m\u001b[0m\u001b[0m\n\u001b[0m\u001b[1;32m    487\u001b[0m         \u001b[0mcm_future\u001b[0m \u001b[0;34m=\u001b[0m \u001b[0mself\u001b[0m\u001b[0;34m.\u001b[0m\u001b[0mstep7\u001b[0m\u001b[0;34m(\u001b[0m\u001b[0mcm_future\u001b[0m\u001b[0;34m,\u001b[0m \u001b[0mtrend\u001b[0m\u001b[0;34m)\u001b[0m\u001b[0;34m\u001b[0m\u001b[0;34m\u001b[0m\u001b[0m\n\u001b[1;32m    488\u001b[0m         \u001b[0mcm_future\u001b[0m \u001b[0;34m=\u001b[0m \u001b[0mself\u001b[0m\u001b[0;34m.\u001b[0m\u001b[0mstep8\u001b[0m\u001b[0;34m(\u001b[0m\u001b[0mcm_future\u001b[0m\u001b[0;34m,\u001b[0m \u001b[0mscale\u001b[0m\u001b[0;34m)\u001b[0m\u001b[0;34m\u001b[0m\u001b[0;34m\u001b[0m\u001b[0m\n",
      "\u001b[0;32m~/Desktop/ESoWC/isimipy/PACKAGE_NAME/isimip.py\u001b[0m in \u001b[0;36mstep6\u001b[0;34m(self, obs_hist, obs_future, cm_hist, cm_future)\u001b[0m\n\u001b[1;32m    437\u001b[0m                 \u001b[0mobs_hist_sorted\u001b[0m\u001b[0;34m,\u001b[0m \u001b[0mobs_future_sorted\u001b[0m\u001b[0;34m,\u001b[0m \u001b[0mcm_hist_sorted\u001b[0m\u001b[0;34m,\u001b[0m \u001b[0mcm_future_sorted\u001b[0m\u001b[0;34m\u001b[0m\u001b[0;34m\u001b[0m\u001b[0m\n\u001b[1;32m    438\u001b[0m             )\n\u001b[0;32m--> 439\u001b[0;31m             \u001b[0;32mreturn\u001b[0m \u001b[0mcm_future_sorted\u001b[0m\u001b[0;34m[\u001b[0m\u001b[0mreverse_sorting_idx\u001b[0m\u001b[0;34m]\u001b[0m\u001b[0;34m\u001b[0m\u001b[0;34m\u001b[0m\u001b[0m\n\u001b[0m\u001b[1;32m    440\u001b[0m \u001b[0;34m\u001b[0m\u001b[0m\n\u001b[1;32m    441\u001b[0m     \u001b[0;32mdef\u001b[0m \u001b[0mstep7\u001b[0m\u001b[0;34m(\u001b[0m\u001b[0mself\u001b[0m\u001b[0;34m,\u001b[0m \u001b[0mcm_future\u001b[0m\u001b[0;34m,\u001b[0m \u001b[0mtrend\u001b[0m\u001b[0;34m)\u001b[0m\u001b[0;34m:\u001b[0m\u001b[0;34m\u001b[0m\u001b[0;34m\u001b[0m\u001b[0m\n",
      "\u001b[0;31mTypeError\u001b[0m: only integer scalar arrays can be converted to a scalar index"
     ]
    }
   ],
   "source": [
    "x = temp_debiaser.apply_location(obs, cm_hist, cm_future)"
   ]
  },
  {
   "cell_type": "code",
   "execution_count": 112,
   "metadata": {},
   "outputs": [
    {
     "data": {
      "text/plain": [
       "array([278.92354859, 278.03362182, 280.71583275, 280.80814741,\n",
       "       285.71244905, 291.451553  , 292.51733714, 293.3272245 ,\n",
       "       288.127578  , 284.52473855, 282.88308501, 278.92219873,\n",
       "       278.5360191 , 278.75153198, 280.15205676, 282.05041075,\n",
       "       284.31815308, 292.69812499, 294.68632804, 294.10531959,\n",
       "       291.08766708, 286.05645532, 281.289237  , 280.08444938,\n",
       "       274.71348775, 279.55485356, 281.9911085 , 281.14265463,\n",
       "       283.66548857, 289.92344403, 295.03612203, 295.8150738 ,\n",
       "       289.06416776, 283.76405773, 281.10146752, 279.28634443,\n",
       "       278.91669666, 279.45187223, 282.10493788, 280.30717767,\n",
       "       285.08207801, 291.33237727, 290.29355897, 293.89455545,\n",
       "       290.47948576, 283.32623153, 281.55159515, 280.10067015,\n",
       "       279.89294248, 279.07046807, 281.35507973, 282.80187836,\n",
       "       286.24736515, 294.28545888, 293.21054003, 291.73249417,\n",
       "       292.1921984 , 284.88800188, 282.21884531, 279.9719695 ,\n",
       "       278.64416468, 280.65899574, 281.53241595, 284.80892328,\n",
       "       284.08870311, 291.5040557 , 295.23323434, 293.70779801,\n",
       "       291.94048091, 286.61602672, 279.33661566, 279.39215448,\n",
       "       280.72405984, 280.46022212, 278.95279721, 282.29615935,\n",
       "       287.03264929, 291.26012414, 294.64843717, 296.63152729,\n",
       "       290.53172904, 286.6454055 , 281.08965874, 278.98900182,\n",
       "       279.79917462, 281.03017475, 280.62946132, 282.33389484,\n",
       "       285.67803545, 289.66785941, 294.50746021, 295.68471184,\n",
       "       290.77114492, 284.75089249, 280.50135756, 278.53352749,\n",
       "       279.42093664, 279.09530506, 282.55742759, 283.56608875,\n",
       "       286.08957125, 293.51958736, 293.80481045, 293.20656884,\n",
       "       288.38007429, 283.344762  , 281.33057985, 278.58257857,\n",
       "       279.82886476, 279.43183672, 281.34646315, 283.43385844,\n",
       "       284.25620341, 288.60705885, 294.97046069, 295.14867995,\n",
       "       288.70946894, 286.60507461, 281.89440787, 279.07895423,\n",
       "       279.9754988 , 279.25826321, 279.9141201 , 281.6392384 ,\n",
       "       283.76802856, 289.66983181, 295.20331079, 293.33555529,\n",
       "       289.24064803, 283.55843254, 280.89021054, 277.95620444,\n",
       "       277.56208315, 278.61958711, 278.15175949, 281.99222424,\n",
       "       285.72425763, 292.17358972, 296.7424239 , 294.75990466,\n",
       "       292.55982209, 283.36142375, 277.78678349, 280.74118859,\n",
       "       277.6346734 , 278.52849224, 278.17140587, 281.04870503,\n",
       "       284.74147158, 289.53529163, 294.04879439, 293.8722621 ,\n",
       "       292.66166095, 284.90154934, 283.16096333, 280.23043486,\n",
       "       279.05943756, 277.93209369, 279.26358354, 279.3628018 ,\n",
       "       285.16170163, 290.43056439, 293.74888178, 292.84452562,\n",
       "       289.6864157 , 282.09616593, 280.83041475, 279.1854392 ,\n",
       "       277.2705277 , 279.31650175, 280.61521296, 282.49633432,\n",
       "       285.04146164, 289.50308422, 293.31492253, 292.42517821,\n",
       "       288.94314934, 284.30102415, 281.44993767, 278.12713061,\n",
       "       275.49012964, 279.16740211, 278.72207525, 281.79843383,\n",
       "       284.1783446 , 287.24014319, 293.31520832, 293.64828801,\n",
       "       292.67640251, 286.02596062, 282.21409621, 279.75692344,\n",
       "       277.19689905, 279.56998425, 280.65928118, 281.2497365 ,\n",
       "       285.21604709, 291.02761186, 295.92830594, 294.95841886,\n",
       "       293.51382586, 286.01552754, 280.07850615, 279.97812013,\n",
       "       279.19698856, 278.701858  , 280.59138836, 283.62967346,\n",
       "       285.02599368, 290.04622746, 296.12806594, 295.7602092 ,\n",
       "       292.94345808, 284.59011401, 280.82133135, 281.31111521,\n",
       "       275.86564296, 279.61275464, 279.68768076, 281.82215473,\n",
       "       285.13849971, 295.95148233, 297.94020494, 293.95087326,\n",
       "       289.64746042, 285.78960714, 280.45241018, 278.97475346,\n",
       "       279.01549941, 278.81439026, 278.27506213, 283.38716908,\n",
       "       285.44477039, 289.00582553, 296.37531977, 295.3835021 ,\n",
       "       291.00866607, 284.62717484, 281.36354023, 279.1405667 ,\n",
       "       277.37005669, 275.49482707, 277.89448791, 283.17188943,\n",
       "       286.61568934, 292.52296892, 293.07324917, 294.07017905,\n",
       "       292.69010565, 287.57823211, 281.28298232, 280.28431308,\n",
       "       279.6877588 , 279.45740031, 280.33162517, 283.32376612,\n",
       "       285.76562664, 290.59629995, 290.14985735, 293.7021926 ,\n",
       "       293.60536189, 286.06917226, 281.41640641, 280.13993688,\n",
       "       275.58135422, 278.34754903, 282.70079157, 282.91687587,\n",
       "       285.1679044 , 291.10534105, 294.0539843 , 291.91906988,\n",
       "       291.13344792, 286.42101635, 280.93765234, 280.93072309,\n",
       "       279.26075482, 280.46821544, 278.80800587, 282.19569528,\n",
       "       285.14649321, 290.30256469, 294.19618069, 293.99826374,\n",
       "       290.59637763, 286.18058825, 281.20016657, 280.25374061,\n",
       "       280.47304294, 280.17170313, 281.49595228, 283.14217327,\n",
       "       285.82765418, 293.23942588, 296.59355803, 294.44294133,\n",
       "       294.76701601, 284.92999377, 280.64895197, 282.42924597,\n",
       "       279.35070794, 280.61106075, 282.09839776, 286.10576592,\n",
       "       287.37940663, 291.12695983, 297.79097488, 295.92986319,\n",
       "       292.51808975, 285.74097134, 283.00371429, 279.55599567,\n",
       "       279.65523958, 279.9566054 , 280.48529252, 282.42356234,\n",
       "       285.20953291, 291.4179184 , 294.21888956, 292.74761723,\n",
       "       290.54294058, 284.08488801, 284.04639981, 281.191576  ,\n",
       "       277.04990117, 280.25265053, 282.34902553, 283.67075687,\n",
       "       287.97920514, 289.93963842, 295.01092156, 298.15190201,\n",
       "       289.48621454, 281.24358587, 281.39974448, 279.25408535,\n",
       "       278.11828026, 280.14120835, 277.8216639 , 283.0967037 ,\n",
       "       286.1000822 , 287.71578275, 295.767761  , 295.64861129,\n",
       "       290.80252203, 285.45626754, 281.82280365, 281.49431698,\n",
       "       278.50134609, 278.24124507, 279.88116007, 285.36044928,\n",
       "       286.39010632, 290.79398349, 294.80415426, 294.58651325,\n",
       "       293.2570995 , 285.11309178, 282.32911937, 278.7031038 ,\n",
       "       279.59365348, 281.04810815, 280.61409722, 281.81688643,\n",
       "       286.47928063, 291.48417627, 295.85556033, 300.03837025,\n",
       "       290.12527978, 285.24667157, 281.73095617, 280.22290836,\n",
       "       278.5565478 , 278.82002204, 282.49921507, 283.59588277,\n",
       "       285.40864389, 289.30228616, 298.9726638 , 294.84565354,\n",
       "       290.94422524, 283.6504876 , 283.31073772, 280.54280446,\n",
       "       279.00916705, 279.15811131, 279.88886795, 284.71775059,\n",
       "       286.82666079, 290.9562154 , 294.52907935, 294.13986289,\n",
       "       289.95648209, 284.52268828, 282.28850313, 279.06317498,\n",
       "       281.32474067, 280.0590155 , 281.07600762, 284.18823264,\n",
       "       289.69793869, 295.57282885, 298.5694078 , 298.37128345,\n",
       "       292.63018014, 286.74851654, 284.0675515 , 280.7854642 ,\n",
       "       280.5458926 , 277.19147466, 280.68637602, 281.74406242,\n",
       "       284.49959011, 291.44677789, 295.90224951, 297.62028247,\n",
       "       293.18261489, 284.67661515, 280.97946272, 280.70957807,\n",
       "       278.96162119, 279.70343435, 279.73486314, 282.31131569,\n",
       "       283.65079905, 292.42164819, 294.56261061, 294.18315248,\n",
       "       289.65747817, 286.50004301, 282.13574412, 281.41848251])"
      ]
     },
     "execution_count": 112,
     "metadata": {},
     "output_type": "execute_result"
    }
   ],
   "source": [
    "x"
   ]
  },
  {
   "cell_type": "markdown",
   "metadata": {},
   "source": [
    "Missing from ISIMIP: \n",
    "\n",
    "- Steps 1 and 8 (scaling for rsds)\n",
    "- Steps 2 and 7 (trend removal)\n",
    "- Code-consistency, user-options, non-parametric, interface, etc."
   ]
  },
  {
   "cell_type": "code",
   "execution_count": null,
   "metadata": {},
   "outputs": [],
   "source": []
  }
 ],
 "metadata": {
  "kernelspec": {
   "display_name": "Python 3",
   "language": "python",
   "name": "python3"
  },
  "language_info": {
   "codemirror_mode": {
    "name": "ipython",
    "version": 3
   },
   "file_extension": ".py",
   "mimetype": "text/x-python",
   "name": "python",
   "nbconvert_exporter": "python",
   "pygments_lexer": "ipython3",
   "version": "3.8.5"
  }
 },
 "nbformat": 4,
 "nbformat_minor": 4
}
