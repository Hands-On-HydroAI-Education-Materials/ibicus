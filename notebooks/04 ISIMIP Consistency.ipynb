{
 "cells": [
  {
   "cell_type": "markdown",
   "metadata": {},
   "source": [
    "# Showing the consistency of the implementation of ISIMIP within ibicus with the reference one"
   ]
  },
  {
   "cell_type": "markdown",
   "metadata": {},
   "source": [
    "This notebook is meant to demonstrate the consistency of the Ibicus implementation of ISIMIP3BASD v3.0.1 (most recent version, in the following referred to as ISIMIP) with the reference implementation provided here by Lange 2022: \n",
    "\n",
    "- Lange, S. (2022). ISIMIP3BASD (3.0.1) [Computer software]. Zenodo. https://doi.org/10.5281/ZENODO.6758997\n",
    "\n",
    "The code in the Ibicus implementation is based upon [Lange 2019](https://doi.org/10.5194/gmd-12-3055-2019) and the [ISIMIP3b bias adjustment fact sheet](https://www.isimip.org/documents/413/ISIMIP3b_bias_adjustment_fact_sheet_Gnsz7CO.pdf). More details of the implementation of ISIMIP within ibicus can be found in the documentation (TODO: add link).\n",
    "\n",
    "Numerous checks were done during and after the development process to ensure consistency. This notebook provides a final validation and demonstration of this consistency on the testing data published with the ISIMIP reference implementation.\n",
    "\n",
    "The structure of this notebook is as follows. First the ISIMIP reference implementation is pulled from https://zenodo.org/record/6758997/files/isimip3basd-master.tar.gz and run on the testing data. In a second step debiasers are initialised using ibicus and run for all variables included in ISIMIP. Concistency is demonstrated by plotting and comparing the values computed by the reference implementation and the Ibicus one.\n",
    "\n",
    "\n",
    "## Contents\n",
    "1. [ISIMIP3BASD v3.0.1 reference implementation](#bullet-1)\n",
    "\n",
    "2. [Ibicus implementation](#bullet-2)\n",
    "\n",
    "    2.1. [Helpers](#bullet-21)\n",
    "    \n",
    "    2.2. [tas](#bullet-22)\n",
    "    \n",
    "    2.3. [pr](#bullet-22)\n",
    "    \n",
    "    2.4. [ps / psl](#bullet-22)\n",
    "\n",
    "    2.5. [rlds](#bullet-22)\n",
    "    \n",
    "    2.6. [sfcWind](#bullet-22)\n",
    "    \n",
    "    2.7. [tasrange](#bullet-22)\n",
    "    \n",
    "    2.8. [tasskew](#bullet-22)\n",
    "    \n",
    "    2.9. [hurs](#bullet-22)\n",
    "    \n",
    "    2.10. [rsds](#bullet-22)\n",
    "    \n",
    "    2.11. [prsnratio](#bullet-22)\n",
    "    \n",
    "3. [Summary](#bullet-3)\n",
    "    \n",
    "\n",
    "**References:**\n",
    "\n",
    "- Lange, S. (2019). Trend-preserving bias adjustment and statistical downscaling with ISIMIP3BASD (v1.0). In Geoscientific Model Development (Vol. 12, Issue 7, pp. 3055–3070). Copernicus GmbH. https://doi.org/10.5194/gmd-12-3055-2019\n"
   ]
  },
  {
   "cell_type": "code",
   "execution_count": 1,
   "metadata": {},
   "outputs": [],
   "source": [
    "import iris\n",
    "import numpy as np\n",
    "import scipy.stats\n",
    "from cf_units import num2date\n",
    "\n",
    "import matplotlib.pyplot as plt"
   ]
  },
  {
   "cell_type": "markdown",
   "metadata": {},
   "source": [
    "## 1. ISIMIP3BASD v3.0.1 reference implementation <a class=\"anchor\" id=\"bullet-1\"></a>"
   ]
  },
  {
   "cell_type": "markdown",
   "metadata": {},
   "source": [
    "We pull v3.0.1 of the ISIMIP reference implementation -- the latest version and the version implemented in Ibicus and unpack the code:"
   ]
  },
  {
   "cell_type": "code",
   "execution_count": 2,
   "metadata": {},
   "outputs": [
    {
     "name": "stdout",
     "output_type": "stream",
     "text": [
      "--2022-08-30 11:46:58--  https://zenodo.org/record/6758997/files/isimip3basd-master.tar.gz\n",
      "Resolving zenodo.org (zenodo.org)... 137.138.76.77\n",
      "Connecting to zenodo.org (zenodo.org)|137.138.76.77|:443... connected.\n",
      "HTTP request sent, awaiting response... 200 OK\n",
      "Length: 12112564 (12M) [application/octet-stream]\n",
      "Saving to: 'isimip3basd-master.tar.gz'\n",
      "\n",
      "isimip3basd-master. 100%[===================>]  11.55M   354KB/s    in 36s     \n",
      "\n",
      "2022-08-30 11:47:39 (325 KB/s) - 'isimip3basd-master.tar.gz' saved [12112564/12112564]\n",
      "\n"
     ]
    }
   ],
   "source": [
    "!wget https://zenodo.org/record/6758997/files/isimip3basd-master.tar.gz -c\n",
    "!tar -xf isimip3basd-master.tar.gz"
   ]
  },
  {
   "cell_type": "markdown",
   "metadata": {},
   "source": [
    "We can now let the ISIMIP reference code run through.\n",
    "\n",
    "The command below is the standard call for ISIMIP debiasing provided `application_example.sh` inside the unpacked `isimip3basd-master.tar.gz`. Three small modifications were made: \n",
    "- The paths to `bias_adjustment.py` and to the data (in `-o`, `-s`, `-f` and `-b`) were adjusted.\n",
    "- A flag `--n-quantiles 15000` was added to ensure a high number of quantiles for comparison: this is slower but more exact. With a lower number of quantiles differences between the Ibicus implementation and the ISIMIP reference get bigger, due to the ISIMIP linear interpolation being not exact. Those are not directly used, but the number gets reduced to a high isimip default.\n",
    "- A flag `2> isimip_output.txt` was added to write `stderr` to file."
   ]
  },
  {
   "cell_type": "code",
   "execution_count": 3,
   "metadata": {},
   "outputs": [
    {
     "name": "stdout",
     "output_type": "stream",
     "text": [
      "checking inputs ...\n",
      "adjusting at location (lon, lat) ...\n"
     ]
    }
   ],
   "source": [
    "!python -u isimip3basd-master/code/bias_adjustment.py \\\n",
    "--n-quantiles 15000 \\\n",
    "--n-processes 5 \\\n",
    "--randomization-seed 0 \\\n",
    "--step-size 1 \\\n",
    "-v hurs,pr,prsnratio,ps,rlds,rsds,sfcWind,tas,tasrange,tasskew \\\n",
    "--lower-bound 0,0,0,,,0,0,,0,0 \\\n",
    "--lower-threshold .01,.0000011574,.0001,,,.0001,.01,,.01,.0001 \\\n",
    "--upper-bound 100,,1,,,1,,,,1 \\\n",
    "--upper-threshold 99.99,,.9999,,,.9999,,,,.9999 \\\n",
    "--distribution ,gamma,,normal,normal,,weibull,normal,weibull, \\\n",
    "-t bounded,mixed,bounded,additive,additive,bounded,mixed,additive,mixed,bounded \\\n",
    "--unconditional-ccs-transfer 1,,,,,,,,, \\\n",
    "--trendless-bound-frequency 1,,,,,,,,, \\\n",
    "-d ,,,1,1,,,1,, \\\n",
    "-w 0,0,0,0,0,15,0,0,0,0 \\\n",
    "--if-all-invalid-use ,,0.,,,,,,, \\\n",
    "-o isimip3basd-master/data/hurs_obs-hist_coarse_1979-2014.nc,isimip3basd-master/data/pr_obs-hist_coarse_1979-2014.nc,isimip3basd-master/data/prsnratio_obs-hist_coarse_1979-2014.nc,isimip3basd-master/data/ps_obs-hist_coarse_1979-2014.nc,isimip3basd-master/data/rlds_obs-hist_coarse_1979-2014.nc,isimip3basd-master/data/rsds_obs-hist_coarse_1979-2014.nc,isimip3basd-master/data/sfcWind_obs-hist_coarse_1979-2014.nc,isimip3basd-master/data/tas_obs-hist_coarse_1979-2014.nc,isimip3basd-master/data/tasrange_obs-hist_coarse_1979-2014.nc,isimip3basd-master/data/tasskew_obs-hist_coarse_1979-2014.nc \\\n",
    "-s isimip3basd-master/data/hurs_sim-hist_coarse_1979-2014.nc,isimip3basd-master/data/pr_sim-hist_coarse_1979-2014.nc,isimip3basd-master/data/prsnratio_sim-hist_coarse_1979-2014.nc,isimip3basd-master/data/ps_sim-hist_coarse_1979-2014.nc,isimip3basd-master/data/rlds_sim-hist_coarse_1979-2014.nc,isimip3basd-master/data/rsds_sim-hist_coarse_1979-2014.nc,isimip3basd-master/data/sfcWind_sim-hist_coarse_1979-2014.nc,isimip3basd-master/data/tas_sim-hist_coarse_1979-2014.nc,isimip3basd-master/data/tasrange_sim-hist_coarse_1979-2014.nc,isimip3basd-master/data/tasskew_sim-hist_coarse_1979-2014.nc \\\n",
    "-f isimip3basd-master/data/hurs_sim-fut_coarse_2065-2100.nc,isimip3basd-master/data/pr_sim-fut_coarse_2065-2100.nc,isimip3basd-master/data/prsnratio_sim-fut_coarse_2065-2100.nc,isimip3basd-master/data/ps_sim-fut_coarse_2065-2100.nc,isimip3basd-master/data/rlds_sim-fut_coarse_2065-2100.nc,isimip3basd-master/data/rsds_sim-fut_coarse_2065-2100.nc,isimip3basd-master/data/sfcWind_sim-fut_coarse_2065-2100.nc,isimip3basd-master/data/tas_sim-fut_coarse_2065-2100.nc,isimip3basd-master/data/tasrange_sim-fut_coarse_2065-2100.nc,isimip3basd-master/data/tasskew_sim-fut_coarse_2065-2100.nc \\\n",
    "-b isimip3basd-master/data/hurs_sim-fut-basd_coarse_2065-2100.nc,isimip3basd-master/data/pr_sim-fut-basd_coarse_2065-2100.nc,isimip3basd-master/data/prsnratio_sim-fut-basd_coarse_2065-2100.nc,isimip3basd-master/data/ps_sim-fut-basd_coarse_2065-2100.nc,isimip3basd-master/data/rlds_sim-fut-basd_coarse_2065-2100.nc,isimip3basd-master/data/rsds_sim-fut-basd_coarse_2065-2100.nc,isimip3basd-master/data/sfcWind_sim-fut-basd_coarse_2065-2100.nc,isimip3basd-master/data/tas_sim-fut-basd_coarse_2065-2100.nc,isimip3basd-master/data/tasrange_sim-fut-basd_coarse_2065-2100.nc,isimip3basd-master/data/tasskew_sim-fut-basd_coarse_2065-2100.nc \\\n",
    "2> isimip_output.txt"
   ]
  },
  {
   "cell_type": "markdown",
   "metadata": {},
   "source": [
    "A number of warnings are generated and written to `isimip_output.txt` indicating that the number of quantiles get reduced to a high ISIMIP default. This is not a problem for the values."
   ]
  },
  {
   "cell_type": "markdown",
   "metadata": {},
   "source": [
    "## 2. Ibicus implementation <a class=\"anchor\" id=\"bullet-2\"></a>"
   ]
  },
  {
   "cell_type": "markdown",
   "metadata": {},
   "source": [
    "After having executed the reference implementation we can now come to the Ibicus implementation. Let' s import it:"
   ]
  },
  {
   "cell_type": "code",
   "execution_count": 4,
   "metadata": {},
   "outputs": [],
   "source": [
    "from ibicus.debias import ISIMIP"
   ]
  },
  {
   "cell_type": "markdown",
   "metadata": {
    "tags": []
   },
   "source": [
    "### 2.1. Helpers <a class=\"anchor\" id=\"bullet-21\"></a>"
   ]
  },
  {
   "cell_type": "markdown",
   "metadata": {},
   "source": [
    "We first define some helpers to read in the ISIMIP-testing and debiased data and gets the dates (last coordinate). Those are needed for the debiasing below."
   ]
  },
  {
   "cell_type": "code",
   "execution_count": 5,
   "metadata": {},
   "outputs": [],
   "source": [
    "# Given an iris-cube this returns the dates stored in the last time-dimension\n",
    "def get_dates(x):\n",
    "    time_dimension = x.coords()[2]\n",
    "    dates = time_dimension.units.num2date(time_dimension.points)\n",
    "    return dates\n",
    "\n",
    "get_dates = np.vectorize(get_dates)\n",
    "\n",
    "# This reads in the testing-data from ISIMIP stored in isimip3basd-master/data\n",
    "def read_in_and_preprocess_isimip_testing_data_with_dates(variable, isimip_data_path = \"isimip3basd-master/data/\"):\n",
    "    \n",
    "    # Load in data\n",
    "    obs = iris.load_cube(isimip_data_path+variable+\"_obs-hist_coarse_1979-2014.nc\")\n",
    "    cm_hist = iris.load_cube(isimip_data_path+variable+\"_sim-hist_coarse_1979-2014.nc\")\n",
    "    cm_future = iris.load_cube(isimip_data_path+variable+\"_sim-fut_coarse_2065-2100.nc\")\n",
    "\n",
    "    # Extract dates\n",
    "    dates = {\n",
    "        \"time_obs\": get_dates(obs),\n",
    "        \"time_cm_hist\": get_dates(cm_hist),\n",
    "        \"time_cm_future\": get_dates(cm_future)\n",
    "    }\n",
    "    \n",
    "    # Convert to np.array (from masked-array)\n",
    "    obs = obs.data\n",
    "    cm_hist = cm_hist.data\n",
    "    cm_future = cm_future.data\n",
    "\n",
    "    # Move time to first axis (our convention)\n",
    "    obs = np.moveaxis(obs, -1, 0)\n",
    "    cm_hist = np.moveaxis(cm_hist, -1, 0)\n",
    "    cm_future = np.moveaxis(cm_future, -1, 0)\n",
    "    \n",
    "    return obs, cm_hist, cm_future, dates\n",
    "\n",
    "def read_in_debiased_testing_data(variable, isimip_data_path = \"isimip3basd-master/data/\"):\n",
    "    \n",
    "    # Load in data\n",
    "    debiased_data = iris.load_cube(isimip_data_path+variable+\"_sim-fut-basd_coarse_2065-2100.nc\")\n",
    "    \n",
    "    # Move time to first axis (our convention)\n",
    "    debiased_data = np.array(debiased_data.data)\n",
    "    debiased_data = np.moveaxis(debiased_data, -1, 0)\n",
    "    \n",
    "    return debiased_data"
   ]
  },
  {
   "cell_type": "markdown",
   "metadata": {},
   "source": [
    "### 2.2. tas <a class=\"anchor\" id=\"bullet-22\"></a>"
   ]
  },
  {
   "cell_type": "markdown",
   "metadata": {},
   "source": [
    "Run the ibicus ISIMIP implementation:"
   ]
  },
  {
   "cell_type": "code",
   "execution_count": 6,
   "metadata": {},
   "outputs": [
    {
     "name": "stderr",
     "output_type": "stream",
     "text": [
      "INFO:root:----- Running debiasing for variable: Daily mean near-surface air temperature -----\n",
      "INFO:root:obs is a masked array, but contains no invalid data. It is converted to a normal numpy array.\n",
      "INFO:root:cm_hist is a masked array, but contains no invalid data. It is converted to a normal numpy array.\n",
      "INFO:root:cm_future is a masked array, but contains no invalid data. It is converted to a normal numpy array.\n",
      "100%|███████████████████████████████████████████████| 4/4 [00:21<00:00,  5.34s/it]\n"
     ]
    }
   ],
   "source": [
    "variable = \"tas\"\n",
    "obs, cm_hist, cm_future, dates = read_in_and_preprocess_isimip_testing_data_with_dates(variable)\n",
    "debiaser = ISIMIP.from_variable(variable)\n",
    "debiased_values = debiaser.apply(obs, cm_hist, cm_future, **dates)"
   ]
  },
  {
   "cell_type": "markdown",
   "metadata": {},
   "source": [
    "Compare:"
   ]
  },
  {
   "cell_type": "code",
   "execution_count": 7,
   "metadata": {},
   "outputs": [
    {
     "name": "stdout",
     "output_type": "stream",
     "text": [
      "Percentage agreement between the Ibicus ISIMIP and the reference implementation is 0.0 %.\n"
     ]
    }
   ],
   "source": [
    "debiased_values_isimip = read_in_debiased_testing_data(variable)\n",
    "pct_agreement = np.sum(np.isclose(debiased_values,debiased_values_isimip))/debiased_values.size\n",
    "print(\"Percentage agreement between the Ibicus ISIMIP and the reference implementation is %s %%.\"%(pct_agreement*100))"
   ]
  },
  {
   "cell_type": "markdown",
   "metadata": {},
   "source": [
    "We can plot the ibicus and reference implementation over time at one location:"
   ]
  },
  {
   "cell_type": "code",
   "execution_count": 8,
   "metadata": {},
   "outputs": [
    {
     "data": {
      "image/png": "[encoded data removed]",
      "text/plain": [
       "<Figure size 432x288 with 1 Axes>"
      ]
     },
     "metadata": {
      "needs_background": "light"
     },
     "output_type": "display_data"
    }
   ],
   "source": [
    "min_time = 0\n",
    "max_time = 100\n",
    "lat = 1\n",
    "lon = 1\n",
    "time = np.arange(min_time, max_time)\n",
    "\n",
    "plt.plot(time, debiased_values_isimip[min_time:max_time, lat, lon], label = \"ISIMIP reference implementation\")\n",
    "plt.plot(time, debiased_values[min_time:max_time, lat, lon], label = \"Ibicus implementation\", linestyle = \":\")\n",
    "plt.plot(time, cm_future[min_time:max_time, lat, lon], label = \"Raw CM\")\n",
    "plt.legend()\n",
    "plt.show()"
   ]
  },
  {
   "cell_type": "markdown",
   "metadata": {},
   "source": [
    "We see that the dotted ibicus implementation line lies right above the ISIMIP implementation line.\n",
    "\n",
    "We can also plot the values against eachother:"
   ]
  },
  {
   "cell_type": "code",
   "execution_count": 9,
   "metadata": {},
   "outputs": [
    {
     "data": {
      "image/png": "[encoded data removed]",
      "text/plain": [
       "<Figure size 432x288 with 1 Axes>"
      ]
     },
     "metadata": {
      "needs_background": "light"
     },
     "output_type": "display_data"
    }
   ],
   "source": [
    "min_all_values = np.min([np.min(debiased_values), np.min(debiased_values_isimip)])\n",
    "max_all_values = np.max([np.max(debiased_values), np.max(debiased_values_isimip)])\n",
    "\n",
    "plt.scatter(debiased_values_isimip.flatten(), debiased_values.flatten())\n",
    "plt.plot([min_all_values, max_all_values], [min_all_values, max_all_values])\n",
    "plt.show()"
   ]
  },
  {
   "cell_type": "markdown",
   "metadata": {},
   "source": [
    "A linear regression also shows that the reference implementation values' and the ibicus ones are consistent:"
   ]
  },
  {
   "cell_type": "code",
   "execution_count": 10,
   "metadata": {},
   "outputs": [
    {
     "name": "stderr",
     "output_type": "stream",
     "text": [
      "/Users/fionaspuler/opt/anaconda3/lib/python3.9/site-packages/scipy/stats/_stats_mstats_common.py:170: RuntimeWarning: invalid value encountered in double_scalars\n",
      "  slope = ssxym / ssxm\n",
      "/Users/fionaspuler/opt/anaconda3/lib/python3.9/site-packages/scipy/stats/_stats_mstats_common.py:187: RuntimeWarning: divide by zero encountered in double_scalars\n",
      "  slope_stderr = np.sqrt((1 - r**2) * ssym / ssxm / df)\n"
     ]
    },
    {
     "data": {
      "text/plain": [
       "LinregressResult(slope=nan, intercept=nan, rvalue=0.0, pvalue=1.0, stderr=inf, intercept_stderr=inf)"
      ]
     },
     "execution_count": 10,
     "metadata": {},
     "output_type": "execute_result"
    }
   ],
   "source": [
    "scipy.stats.linregress(debiased_values_isimip.flatten(), debiased_values.flatten())"
   ]
  },
  {
   "cell_type": "markdown",
   "metadata": {},
   "source": [
    "**We conclude that tas is reproduced well by the ibicus implementation of ISIMIP.**"
   ]
  },
  {
   "cell_type": "markdown",
   "metadata": {},
   "source": [
    "### 2.3. pr <a class=\"anchor\" id=\"bullet-23\"></a>"
   ]
  },
  {
   "cell_type": "markdown",
   "metadata": {},
   "source": [
    "Run the ibicus ISIMIP implementation:"
   ]
  },
  {
   "cell_type": "code",
   "execution_count": 11,
   "metadata": {},
   "outputs": [
    {
     "name": "stderr",
     "output_type": "stream",
     "text": [
      "INFO:root:----- Running debiasing for variable: Daily mean precipitation -----\n",
      "INFO:root:obs is a masked array, but contains no invalid data. It is converted to a normal numpy array.\n",
      "INFO:root:cm_hist is a masked array, but contains no invalid data. It is converted to a normal numpy array.\n",
      "INFO:root:cm_future is a masked array, but contains no invalid data. It is converted to a normal numpy array.\n",
      "100%|███████████████████████████████████████████████| 4/4 [00:13<00:00,  3.46s/it]\n"
     ]
    }
   ],
   "source": [
    "variable = \"pr\"\n",
    "obs, cm_hist, cm_future, dates = read_in_and_preprocess_isimip_testing_data_with_dates(variable)\n",
    "debiaser = ISIMIP.from_variable(variable)\n",
    "debiased_values = debiaser.apply(obs, cm_hist, cm_future, **dates)"
   ]
  },
  {
   "cell_type": "markdown",
   "metadata": {},
   "source": [
    "Compare:"
   ]
  },
  {
   "cell_type": "code",
   "execution_count": 12,
   "metadata": {},
   "outputs": [
    {
     "name": "stdout",
     "output_type": "stream",
     "text": [
      "0.0 % of all values of the Ibicus implementation are within 1e-6 distance of the reference implementation.\n"
     ]
    }
   ],
   "source": [
    "debiased_values_isimip = read_in_debiased_testing_data(variable)\n",
    "pct_agreement = np.sum(np.abs(debiased_values-debiased_values_isimip) < 1e-6)/debiased_values.size\n",
    "print(\"%s %% of all values of the Ibicus implementation are within 1e-6 distance of the reference implementation.\"%(pct_agreement*100))"
   ]
  },
  {
   "cell_type": "markdown",
   "metadata": {},
   "source": [
    "Plot over time:"
   ]
  },
  {
   "cell_type": "code",
   "execution_count": 13,
   "metadata": {},
   "outputs": [
    {
     "data": {
      "image/png": "[encoded data removed]",
      "text/plain": [
       "<Figure size 432x288 with 1 Axes>"
      ]
     },
     "metadata": {
      "needs_background": "light"
     },
     "output_type": "display_data"
    }
   ],
   "source": [
    "min_time = 0\n",
    "max_time = 100\n",
    "lat = 1\n",
    "lon = 1\n",
    "time = np.arange(min_time, max_time)\n",
    "\n",
    "plt.plot(time, debiased_values_isimip[min_time:max_time, lat, lon], label = \"ISIMIP reference implementation\")\n",
    "plt.plot(time, debiased_values[min_time:max_time, lat, lon], label = \"Ibicus implementation\", linestyle = \":\")\n",
    "plt.plot(time, cm_future[min_time:max_time, lat, lon], label = \"Raw CM\")\n",
    "plt.legend()\n",
    "plt.show()"
   ]
  },
  {
   "cell_type": "markdown",
   "metadata": {},
   "source": [
    "Values of reference implementation against the Ibicus one:"
   ]
  },
  {
   "cell_type": "code",
   "execution_count": 14,
   "metadata": {},
   "outputs": [
    {
     "data": {
      "image/png": "[encoded data removed]",
      "text/plain": [
       "<Figure size 432x288 with 1 Axes>"
      ]
     },
     "metadata": {
      "needs_background": "light"
     },
     "output_type": "display_data"
    }
   ],
   "source": [
    "min_all_values = np.min([np.min(debiased_values), np.min(debiased_values_isimip)])\n",
    "max_all_values = np.max([np.max(debiased_values), np.max(debiased_values_isimip)])\n",
    "\n",
    "plt.scatter(debiased_values_isimip.flatten(), debiased_values.flatten())\n",
    "plt.plot([min_all_values, max_all_values], [min_all_values, max_all_values])\n",
    "plt.show()"
   ]
  },
  {
   "cell_type": "markdown",
   "metadata": {},
   "source": [
    "It seems that pr is reproduced quite well and the values of the reference and Ibicus implementation are in agreement. This can also be checked through a linear regression:"
   ]
  },
  {
   "cell_type": "code",
   "execution_count": 15,
   "metadata": {},
   "outputs": [
    {
     "name": "stderr",
     "output_type": "stream",
     "text": [
      "/Users/fionaspuler/opt/anaconda3/lib/python3.9/site-packages/scipy/stats/_stats_mstats_common.py:170: RuntimeWarning: invalid value encountered in double_scalars\n",
      "  slope = ssxym / ssxm\n",
      "/Users/fionaspuler/opt/anaconda3/lib/python3.9/site-packages/scipy/stats/_stats_mstats_common.py:187: RuntimeWarning: divide by zero encountered in double_scalars\n",
      "  slope_stderr = np.sqrt((1 - r**2) * ssym / ssxm / df)\n"
     ]
    },
    {
     "data": {
      "text/plain": [
       "LinregressResult(slope=nan, intercept=nan, rvalue=0.0, pvalue=1.0, stderr=inf, intercept_stderr=inf)"
      ]
     },
     "execution_count": 15,
     "metadata": {},
     "output_type": "execute_result"
    }
   ],
   "source": [
    "scipy.stats.linregress(debiased_values_isimip.flatten(), debiased_values.flatten())"
   ]
  },
  {
   "cell_type": "markdown",
   "metadata": {},
   "source": [
    "**pr is reproduced well by Ibicus. Some slight differences larger than floating point error exist. This is due to:**\n",
    "\n",
    "- Randomization: pr includes some randomization between the defined bound and threshold. This can lead to differences.\n",
    "\n",
    "- The references implementation of nonparametric quantile mapping (preceding the parametric one in step 6), which uses linear interpolation, is inexact and differs from the ibicus implementation of nonparametric quantile mapping. This creates some differences. These decrease with the number of quantiles increasing, however they are slightly bigger than floating point error.\n",
    "\n",
    "- Accumulation of floating point errors in calculations. Especially floating point errors in the computation of quantiles can lead to slight numerical differences (larger than floating point) if those quantiles are mapped back to values. Similarly the distribution fits in step 6 are just slightly different (within floating point accuracy), meaning that the same values are mapped to slighty different ones (with difference potentially larger than floating point error) when transformed using an (inverse) CDF.\n",
    "\n"
   ]
  },
  {
   "cell_type": "markdown",
   "metadata": {},
   "source": [
    "### 2.4. ps / psl <a class=\"anchor\" id=\"bullet-24\"></a>"
   ]
  },
  {
   "cell_type": "markdown",
   "metadata": {},
   "source": [
    "Run the ibicus ISIMIP implementation:"
   ]
  },
  {
   "cell_type": "code",
   "execution_count": 16,
   "metadata": {},
   "outputs": [
    {
     "name": "stderr",
     "output_type": "stream",
     "text": [
      "INFO:root:----- Running debiasing for variable: Daily mean sea-level pressure -----\n",
      "INFO:root:obs is a masked array, but contains no invalid data. It is converted to a normal numpy array.\n",
      "INFO:root:cm_hist is a masked array, but contains no invalid data. It is converted to a normal numpy array.\n",
      "INFO:root:cm_future is a masked array, but contains no invalid data. It is converted to a normal numpy array.\n",
      "100%|███████████████████████████████████████████████| 4/4 [00:17<00:00,  4.50s/it]\n"
     ]
    }
   ],
   "source": [
    "variable = \"ps\"\n",
    "obs, cm_hist, cm_future, dates = read_in_and_preprocess_isimip_testing_data_with_dates(variable)\n",
    "debiaser = ISIMIP.from_variable(variable)\n",
    "debiased_values = debiaser.apply(obs, cm_hist, cm_future, **dates)"
   ]
  },
  {
   "cell_type": "markdown",
   "metadata": {},
   "source": [
    "Compare:"
   ]
  },
  {
   "cell_type": "code",
   "execution_count": 17,
   "metadata": {},
   "outputs": [
    {
     "name": "stdout",
     "output_type": "stream",
     "text": [
      "Percentage agreement is 0.0 % between the Ibicus and the reference implementation of ISIMIP.\n"
     ]
    }
   ],
   "source": [
    "debiased_values_isimip = read_in_debiased_testing_data(\"ps\")\n",
    "pct_agreement = np.sum(np.isclose(debiased_values,debiased_values_isimip))/debiased_values.size\n",
    "print(\"Percentage agreement is %s %% between the Ibicus and the reference implementation of ISIMIP.\"%(pct_agreement*100))"
   ]
  },
  {
   "cell_type": "markdown",
   "metadata": {},
   "source": [
    "Plot over time at location [1,1]:"
   ]
  },
  {
   "cell_type": "code",
   "execution_count": 18,
   "metadata": {},
   "outputs": [
    {
     "data": {
      "image/png": "[encoded data removed]",
      "text/plain": [
       "<Figure size 432x288 with 1 Axes>"
      ]
     },
     "metadata": {
      "needs_background": "light"
     },
     "output_type": "display_data"
    }
   ],
   "source": [
    "min_time = 0\n",
    "max_time = 100\n",
    "lat = 1\n",
    "lon = 1\n",
    "time = np.arange(min_time, max_time)\n",
    "\n",
    "plt.plot(time, debiased_values_isimip[min_time:max_time, lat, lon], label = \"ISIMIP\")\n",
    "plt.plot(time, debiased_values[min_time:max_time, lat, lon], label = \"Ibicus implementation\", linestyle = \":\")\n",
    "plt.plot(time, cm_future[min_time:max_time, lat, lon], label = \"raw cm\")\n",
    "plt.legend()\n",
    "plt.show()"
   ]
  },
  {
   "cell_type": "markdown",
   "metadata": {},
   "source": [
    "Values of reference implementation against the Ibicus one:"
   ]
  },
  {
   "cell_type": "code",
   "execution_count": 19,
   "metadata": {},
   "outputs": [
    {
     "data": {
      "image/png": "[encoded data removed]",
      "text/plain": [
       "<Figure size 432x288 with 1 Axes>"
      ]
     },
     "metadata": {
      "needs_background": "light"
     },
     "output_type": "display_data"
    }
   ],
   "source": [
    "min_all_values = np.min([np.min(debiased_values), np.min(debiased_values_isimip)])\n",
    "max_all_values = np.max([np.max(debiased_values), np.max(debiased_values_isimip)])\n",
    "\n",
    "plt.scatter(debiased_values_isimip.flatten(), debiased_values.flatten())\n",
    "plt.plot([min_all_values, max_all_values], [min_all_values, max_all_values])\n",
    "plt.show()"
   ]
  },
  {
   "cell_type": "markdown",
   "metadata": {},
   "source": [
    "A linear regression also shows that the reference implementation values' and the Ibicus ones are consistent:"
   ]
  },
  {
   "cell_type": "code",
   "execution_count": 20,
   "metadata": {},
   "outputs": [
    {
     "name": "stderr",
     "output_type": "stream",
     "text": [
      "/Users/fionaspuler/opt/anaconda3/lib/python3.9/site-packages/scipy/stats/_stats_mstats_common.py:170: RuntimeWarning: invalid value encountered in double_scalars\n",
      "  slope = ssxym / ssxm\n",
      "/Users/fionaspuler/opt/anaconda3/lib/python3.9/site-packages/scipy/stats/_stats_mstats_common.py:187: RuntimeWarning: divide by zero encountered in double_scalars\n",
      "  slope_stderr = np.sqrt((1 - r**2) * ssym / ssxm / df)\n"
     ]
    },
    {
     "data": {
      "text/plain": [
       "LinregressResult(slope=nan, intercept=nan, rvalue=0.0, pvalue=1.0, stderr=inf, intercept_stderr=inf)"
      ]
     },
     "execution_count": 20,
     "metadata": {},
     "output_type": "execute_result"
    }
   ],
   "source": [
    "scipy.stats.linregress(debiased_values_isimip.flatten(), debiased_values.flatten())"
   ]
  },
  {
   "cell_type": "markdown",
   "metadata": {},
   "source": [
    "**ps / psl is well reproduced by ibicus.**"
   ]
  },
  {
   "cell_type": "markdown",
   "metadata": {},
   "source": [
    "### 2.5. rlds <a class=\"anchor\" id=\"bullet-25\"></a>"
   ]
  },
  {
   "cell_type": "markdown",
   "metadata": {},
   "source": [
    "Run the Ibicus ISIMIP implementation:"
   ]
  },
  {
   "cell_type": "code",
   "execution_count": 21,
   "metadata": {},
   "outputs": [
    {
     "name": "stderr",
     "output_type": "stream",
     "text": [
      "INFO:root:----- Running debiasing for variable: Daily mean surface downwelling longwave radiation -----\n",
      "INFO:root:obs is a masked array, but contains no invalid data. It is converted to a normal numpy array.\n",
      "INFO:root:cm_hist is a masked array, but contains no invalid data. It is converted to a normal numpy array.\n",
      "INFO:root:cm_future is a masked array, but contains no invalid data. It is converted to a normal numpy array.\n",
      "100%|███████████████████████████████████████████████| 4/4 [00:17<00:00,  4.48s/it]\n"
     ]
    }
   ],
   "source": [
    "variable = \"rlds\"\n",
    "obs, cm_hist, cm_future, dates = read_in_and_preprocess_isimip_testing_data_with_dates(variable)\n",
    "debiaser = ISIMIP.from_variable(variable)\n",
    "debiased_values = debiaser.apply(obs, cm_hist, cm_future, **dates)"
   ]
  },
  {
   "cell_type": "markdown",
   "metadata": {},
   "source": [
    "Compare:"
   ]
  },
  {
   "cell_type": "code",
   "execution_count": 22,
   "metadata": {},
   "outputs": [
    {
     "name": "stdout",
     "output_type": "stream",
     "text": [
      "Percentage agreement is 0.0 % between the Ibicus and the reference implementation of ISIMIP.\n"
     ]
    }
   ],
   "source": [
    "debiased_values_isimip = read_in_debiased_testing_data(variable)\n",
    "pct_agreement = np.sum(np.isclose(debiased_values,debiased_values_isimip))/debiased_values.size\n",
    "print(\"Percentage agreement is %s %% between the Ibicus and the reference implementation of ISIMIP.\"%(pct_agreement*100))"
   ]
  },
  {
   "cell_type": "markdown",
   "metadata": {},
   "source": [
    "We can plot the values over time at location [1,1]:"
   ]
  },
  {
   "cell_type": "code",
   "execution_count": 23,
   "metadata": {},
   "outputs": [
    {
     "data": {
      "image/png": "[encoded data removed]",
      "text/plain": [
       "<Figure size 432x288 with 1 Axes>"
      ]
     },
     "metadata": {
      "needs_background": "light"
     },
     "output_type": "display_data"
    }
   ],
   "source": [
    "min_time = 0\n",
    "max_time = 100\n",
    "lat = 1\n",
    "lon = 1\n",
    "time = np.arange(min_time, max_time)\n",
    "\n",
    "plt.plot(time, debiased_values_isimip[min_time:max_time, lat, lon], label = \"ISIMIP\")\n",
    "plt.plot(time, debiased_values[min_time:max_time, lat, lon], label = \"Ibicus implementation\", linestyle = \":\")\n",
    "plt.plot(time, cm_future[min_time:max_time, lat, lon], label = \"raw cm\")\n",
    "plt.legend()\n",
    "plt.show()"
   ]
  },
  {
   "cell_type": "markdown",
   "metadata": {},
   "source": [
    "Values of reference implementation against the Ibicus one:"
   ]
  },
  {
   "cell_type": "code",
   "execution_count": 24,
   "metadata": {},
   "outputs": [
    {
     "data": {
      "image/png": "[encoded data removed]",
      "text/plain": [
       "<Figure size 432x288 with 1 Axes>"
      ]
     },
     "metadata": {
      "needs_background": "light"
     },
     "output_type": "display_data"
    }
   ],
   "source": [
    "min_all_values = np.min([np.min(debiased_values), np.min(debiased_values_isimip)])\n",
    "max_all_values = np.max([np.max(debiased_values), np.max(debiased_values_isimip)])\n",
    "\n",
    "plt.scatter(debiased_values_isimip.flatten(), debiased_values.flatten())\n",
    "plt.plot([min_all_values, max_all_values], [min_all_values, max_all_values])\n",
    "plt.show()"
   ]
  },
  {
   "cell_type": "markdown",
   "metadata": {},
   "source": [
    "A linear regression also shows that the reference implementation values' and the Ibicus ones are consistent:"
   ]
  },
  {
   "cell_type": "code",
   "execution_count": 25,
   "metadata": {},
   "outputs": [
    {
     "name": "stderr",
     "output_type": "stream",
     "text": [
      "/Users/fionaspuler/opt/anaconda3/lib/python3.9/site-packages/scipy/stats/_stats_mstats_common.py:170: RuntimeWarning: invalid value encountered in double_scalars\n",
      "  slope = ssxym / ssxm\n",
      "/Users/fionaspuler/opt/anaconda3/lib/python3.9/site-packages/scipy/stats/_stats_mstats_common.py:187: RuntimeWarning: divide by zero encountered in double_scalars\n",
      "  slope_stderr = np.sqrt((1 - r**2) * ssym / ssxm / df)\n"
     ]
    },
    {
     "data": {
      "text/plain": [
       "LinregressResult(slope=nan, intercept=nan, rvalue=0.0, pvalue=1.0, stderr=inf, intercept_stderr=inf)"
      ]
     },
     "execution_count": 25,
     "metadata": {},
     "output_type": "execute_result"
    }
   ],
   "source": [
    "scipy.stats.linregress(debiased_values_isimip.flatten(), debiased_values.flatten())"
   ]
  },
  {
   "cell_type": "markdown",
   "metadata": {},
   "source": [
    "**rlds is well reproduced by ibicus.**"
   ]
  },
  {
   "cell_type": "markdown",
   "metadata": {},
   "source": [
    "### 2.6. sfcWind <a class=\"anchor\" id=\"bullet-26\"></a>"
   ]
  },
  {
   "cell_type": "markdown",
   "metadata": {},
   "source": [
    "Run the Ibicus ISIMIP implementation:"
   ]
  },
  {
   "cell_type": "code",
   "execution_count": 26,
   "metadata": {},
   "outputs": [
    {
     "name": "stderr",
     "output_type": "stream",
     "text": [
      "INFO:root:----- Running debiasing for variable: Daily mean near-surface wind speed -----\n",
      "INFO:root:obs is a masked array, but contains no invalid data. It is converted to a normal numpy array.\n",
      "INFO:root:cm_hist is a masked array, but contains no invalid data. It is converted to a normal numpy array.\n",
      "INFO:root:cm_future is a masked array, but contains no invalid data. It is converted to a normal numpy array.\n",
      "100%|███████████████████████████████████████████████| 4/4 [00:57<00:00, 14.25s/it]\n"
     ]
    }
   ],
   "source": [
    "variable = \"sfcWind\"\n",
    "obs, cm_hist, cm_future, dates = read_in_and_preprocess_isimip_testing_data_with_dates(variable)\n",
    "debiaser = ISIMIP.from_variable(variable)\n",
    "debiased_values = debiaser.apply(obs, cm_hist, cm_future, **dates)"
   ]
  },
  {
   "cell_type": "markdown",
   "metadata": {},
   "source": [
    "Compare:"
   ]
  },
  {
   "cell_type": "code",
   "execution_count": 27,
   "metadata": {},
   "outputs": [
    {
     "name": "stdout",
     "output_type": "stream",
     "text": [
      "0.0% of all values are within 1e-3. There is a maximum deviation of 1.0000000200408773e+20 which is 99.99997361172842% of the average value\n"
     ]
    }
   ],
   "source": [
    "debiased_values_isimip = read_in_debiased_testing_data(variable)\n",
    "pct_agreement = np.sum(np.abs(debiased_values -debiased_values_isimip) < 1e-3)/debiased_values.size\n",
    "max_deviation = np.max(np.abs(debiased_values-debiased_values_isimip))\n",
    "print(f\"{pct_agreement*100}% of all values are within 1e-3. There is a maximum deviation of {max_deviation} which is {100*max_deviation/np.mean(debiased_values_isimip)}% of the average value\")"
   ]
  },
  {
   "cell_type": "markdown",
   "metadata": {},
   "source": [
    "We can plot the values over time at location [1,1]:"
   ]
  },
  {
   "cell_type": "code",
   "execution_count": 28,
   "metadata": {},
   "outputs": [
    {
     "data": {
      "image/png": "[encoded data removed]",
      "text/plain": [
       "<Figure size 432x288 with 1 Axes>"
      ]
     },
     "metadata": {
      "needs_background": "light"
     },
     "output_type": "display_data"
    }
   ],
   "source": [
    "min_time = 0\n",
    "max_time = 100\n",
    "lat = 1\n",
    "lon = 1\n",
    "time = np.arange(min_time, max_time)\n",
    "\n",
    "plt.plot(time, debiased_values_isimip[min_time:max_time, lat, lon], label = \"ISIMIP\")\n",
    "plt.plot(time, debiased_values[min_time:max_time, lat, lon], label = \"Ibicus implementation\", linestyle = \":\")\n",
    "plt.plot(time, cm_future[min_time:max_time, lat, lon], label = \"raw cm\")\n",
    "plt.legend()\n",
    "plt.show()"
   ]
  },
  {
   "cell_type": "markdown",
   "metadata": {},
   "source": [
    "Values of reference implementation against Ibicus ones:"
   ]
  },
  {
   "cell_type": "code",
   "execution_count": 29,
   "metadata": {},
   "outputs": [
    {
     "data": {
      "image/png": "[encoded data removed]",
      "text/plain": [
       "<Figure size 432x288 with 1 Axes>"
      ]
     },
     "metadata": {
      "needs_background": "light"
     },
     "output_type": "display_data"
    }
   ],
   "source": [
    "min_all_values = np.min([np.min(debiased_values), np.min(debiased_values_isimip)])\n",
    "max_all_values = np.max([np.max(debiased_values), np.max(debiased_values_isimip)])\n",
    "\n",
    "plt.scatter(debiased_values_isimip.flatten(), debiased_values.flatten())\n",
    "plt.plot([min_all_values, max_all_values], [min_all_values, max_all_values])\n",
    "plt.show()"
   ]
  },
  {
   "cell_type": "markdown",
   "metadata": {},
   "source": [
    "A linear regression also shows that the reference implementation values' and the Ibicus ones are consistent:"
   ]
  },
  {
   "cell_type": "code",
   "execution_count": 30,
   "metadata": {},
   "outputs": [
    {
     "name": "stderr",
     "output_type": "stream",
     "text": [
      "/Users/fionaspuler/opt/anaconda3/lib/python3.9/site-packages/scipy/stats/_stats_mstats_common.py:170: RuntimeWarning: invalid value encountered in double_scalars\n",
      "  slope = ssxym / ssxm\n",
      "/Users/fionaspuler/opt/anaconda3/lib/python3.9/site-packages/scipy/stats/_stats_mstats_common.py:187: RuntimeWarning: divide by zero encountered in double_scalars\n",
      "  slope_stderr = np.sqrt((1 - r**2) * ssym / ssxm / df)\n"
     ]
    },
    {
     "data": {
      "text/plain": [
       "LinregressResult(slope=nan, intercept=nan, rvalue=0.0, pvalue=1.0, stderr=inf, intercept_stderr=inf)"
      ]
     },
     "execution_count": 30,
     "metadata": {},
     "output_type": "execute_result"
    }
   ],
   "source": [
    "scipy.stats.linregress(debiased_values_isimip.flatten(), debiased_values.flatten())"
   ]
  },
  {
   "cell_type": "markdown",
   "metadata": {},
   "source": [
    "**sfcWind is reproduced well by Ibicus. Some differences larger than floating point error exist. This is due to:**\n",
    "\n",
    "- Randomization: sfcWind includes some randomization between lower bound and threshold. This can lead to differences.\n",
    "\n",
    "- The references implementation of nonparametric quantile mapping (preceding the parametric one in step 6), which uses linear interpolation, is inexact and differs from the Ibicus ones. This creates some differences. These decrease with the number of quantiles increasing, however they are slightly bigger than floating point error.\n",
    "\n",
    "- Accumulation of floating point errors in calculations. Especially floating point errors in the computation of quantiles can lead to slight numerical differences (larger than floating point) if those quantiles are mapped back to values. Similarly the distribution fits in step 6 are just slightly different (within floating point accuracy), meaning that the same values are mapped to slighty different ones (with difference potentially larger than floating point error) if transformed with an (inverse) CDF.\n",
    "\n"
   ]
  },
  {
   "cell_type": "markdown",
   "metadata": {},
   "source": [
    "### 2.7. tasrange <a class=\"anchor\" id=\"bullet-27\"></a>"
   ]
  },
  {
   "cell_type": "markdown",
   "metadata": {},
   "source": [
    "Run the ibicus ISIMIP implementation:"
   ]
  },
  {
   "cell_type": "code",
   "execution_count": 31,
   "metadata": {},
   "outputs": [
    {
     "name": "stderr",
     "output_type": "stream",
     "text": [
      "INFO:root:----- Running debiasing for variable: Daily near-surface air temperature range (tasmax-tasmin) -----\n",
      "INFO:root:obs is a masked array, but contains no invalid data. It is converted to a normal numpy array.\n",
      "INFO:root:cm_hist is a masked array, but contains no invalid data. It is converted to a normal numpy array.\n",
      "INFO:root:cm_future is a masked array, but contains no invalid data. It is converted to a normal numpy array.\n",
      "100%|███████████████████████████████████████████████| 4/4 [01:01<00:00, 15.50s/it]\n"
     ]
    }
   ],
   "source": [
    "variable = \"tasrange\"\n",
    "obs, cm_hist, cm_future, dates = read_in_and_preprocess_isimip_testing_data_with_dates(variable)\n",
    "debiaser = ISIMIP.from_variable(variable)\n",
    "debiased_values = debiaser.apply(obs, cm_hist, cm_future, **dates)"
   ]
  },
  {
   "cell_type": "markdown",
   "metadata": {},
   "source": [
    "Compare:"
   ]
  },
  {
   "cell_type": "code",
   "execution_count": 32,
   "metadata": {},
   "outputs": [
    {
     "name": "stdout",
     "output_type": "stream",
     "text": [
      "0.0% of all values are within 1e-3. There is a maximum deviation of 1.0000000200408773e+20 which is 99.99997361172842% of the average value\n"
     ]
    }
   ],
   "source": [
    "debiased_values_isimip = read_in_debiased_testing_data(variable)\n",
    "pct_agreement = np.sum(np.abs(debiased_values -debiased_values_isimip) < 1e-3)/debiased_values.size\n",
    "max_deviation = np.max(np.abs(debiased_values-debiased_values_isimip))\n",
    "print(f\"{pct_agreement*100}% of all values are within 1e-3. There is a maximum deviation of {max_deviation} which is {100*max_deviation/np.mean(debiased_values_isimip)}% of the average value\")"
   ]
  },
  {
   "cell_type": "markdown",
   "metadata": {},
   "source": [
    "We can plot the values over time at location [1,1]:"
   ]
  },
  {
   "cell_type": "code",
   "execution_count": 33,
   "metadata": {},
   "outputs": [
    {
     "data": {
      "image/png": "[encoded data removed]",
      "text/plain": [
       "<Figure size 432x288 with 1 Axes>"
      ]
     },
     "metadata": {
      "needs_background": "light"
     },
     "output_type": "display_data"
    }
   ],
   "source": [
    "min_time = 0\n",
    "max_time = 100\n",
    "lat = 1\n",
    "lon = 1\n",
    "time = np.arange(min_time, max_time)\n",
    "\n",
    "plt.plot(time, debiased_values_isimip[min_time:max_time, lat, lon], label = \"ISIMIP\")\n",
    "plt.plot(time, debiased_values[min_time:max_time, lat, lon], label = \"Ibicus implementation\", linestyle = \":\")\n",
    "plt.plot(time, cm_future[min_time:max_time, lat, lon], label = \"raw cm\")\n",
    "plt.legend()\n",
    "plt.show()"
   ]
  },
  {
   "cell_type": "markdown",
   "metadata": {},
   "source": [
    "Values of reference implementation against the Ibicus ones:"
   ]
  },
  {
   "cell_type": "code",
   "execution_count": 34,
   "metadata": {},
   "outputs": [
    {
     "data": {
      "image/png": "[encoded data removed]",
      "text/plain": [
       "<Figure size 432x288 with 1 Axes>"
      ]
     },
     "metadata": {
      "needs_background": "light"
     },
     "output_type": "display_data"
    }
   ],
   "source": [
    "min_all_values = np.min([np.min(debiased_values), np.min(debiased_values_isimip)])\n",
    "max_all_values = np.max([np.max(debiased_values), np.max(debiased_values_isimip)])\n",
    "\n",
    "plt.scatter(debiased_values_isimip.flatten(), debiased_values.flatten())\n",
    "plt.plot([min_all_values, max_all_values], [min_all_values, max_all_values])\n",
    "plt.show()"
   ]
  },
  {
   "cell_type": "markdown",
   "metadata": {},
   "source": [
    "A linear regression also shows that the reference implementation values' and the Ibicus ones are consistent:"
   ]
  },
  {
   "cell_type": "code",
   "execution_count": 35,
   "metadata": {},
   "outputs": [
    {
     "name": "stderr",
     "output_type": "stream",
     "text": [
      "/Users/fionaspuler/opt/anaconda3/lib/python3.9/site-packages/scipy/stats/_stats_mstats_common.py:170: RuntimeWarning: invalid value encountered in double_scalars\n",
      "  slope = ssxym / ssxm\n",
      "/Users/fionaspuler/opt/anaconda3/lib/python3.9/site-packages/scipy/stats/_stats_mstats_common.py:187: RuntimeWarning: divide by zero encountered in double_scalars\n",
      "  slope_stderr = np.sqrt((1 - r**2) * ssym / ssxm / df)\n"
     ]
    },
    {
     "data": {
      "text/plain": [
       "LinregressResult(slope=nan, intercept=nan, rvalue=0.0, pvalue=1.0, stderr=inf, intercept_stderr=inf)"
      ]
     },
     "execution_count": 35,
     "metadata": {},
     "output_type": "execute_result"
    }
   ],
   "source": [
    "scipy.stats.linregress(debiased_values_isimip.flatten(), debiased_values.flatten())"
   ]
  },
  {
   "cell_type": "markdown",
   "metadata": {},
   "source": [
    "**ibicus can reproduce tasrange well. Some differences larger than floating point error exist. This is due to:**\n",
    "\n",
    "- Randomization: tasrange includes some randomization between bound and threshold. This can lead to differences.\n",
    "\n",
    "- The references implementation of nonparametric quantile mapping (preceding the parametric one in step 6), which uses linear interpolation, is inexact and differs from the Ibicus ones. This creates some differences. These decrease with the number of quantiles increasing, however they are slightly bigger than floating point error.\n",
    "\n",
    "- Accumulation of floating point errors in calculations. Especially floating point errors in the computation of quantiles can lead to slight numerical differences (larger than floating point) if those quantiles are mapped back to values. Similarly the distribution fits in step 6 are just slightly different (within floating point accuracy), meaning that the same values are mapped to slighty different ones (with difference potentially larger than floating point error) if transformed with an (inverse) CDF.\n",
    "\n"
   ]
  },
  {
   "cell_type": "markdown",
   "metadata": {},
   "source": [
    "### 2.8. tasskew <a class=\"anchor\" id=\"bullet-28\"></a>"
   ]
  },
  {
   "cell_type": "markdown",
   "metadata": {},
   "source": [
    "Run the Ibicus ISIMIP implementation:"
   ]
  },
  {
   "cell_type": "code",
   "execution_count": 36,
   "metadata": {},
   "outputs": [
    {
     "name": "stderr",
     "output_type": "stream",
     "text": [
      "INFO:root:----- Running debiasing for variable: Daily near-surface air temperature skew (tas-tasmin)/tasrange -----\n",
      "INFO:root:obs is a masked array, but contains no invalid data. It is converted to a normal numpy array.\n",
      "INFO:root:cm_hist is a masked array, but contains no invalid data. It is converted to a normal numpy array.\n",
      "INFO:root:cm_future is a masked array, but contains no invalid data. It is converted to a normal numpy array.\n",
      "100%|███████████████████████████████████████████████| 4/4 [00:15<00:00,  3.80s/it]\n"
     ]
    }
   ],
   "source": [
    "variable = \"tasskew\"\n",
    "obs, cm_hist, cm_future, dates = read_in_and_preprocess_isimip_testing_data_with_dates(variable)\n",
    "debiaser = ISIMIP.from_variable(variable)\n",
    "debiased_values = debiaser.apply(obs, cm_hist, cm_future, **dates)"
   ]
  },
  {
   "cell_type": "markdown",
   "metadata": {},
   "source": [
    "Compare:"
   ]
  },
  {
   "cell_type": "code",
   "execution_count": 37,
   "metadata": {},
   "outputs": [
    {
     "name": "stdout",
     "output_type": "stream",
     "text": [
      "0.0% of all values are within 1e-3. There is a maximum deviation of 1.0000000200408773e+20 which is 99.99997361172842% of the average value\n"
     ]
    }
   ],
   "source": [
    "debiased_values_isimip = read_in_debiased_testing_data(variable)\n",
    "pct_agreement = np.sum(np.abs(debiased_values -debiased_values_isimip) < 1e-3)/debiased_values.size\n",
    "max_deviation = np.max(np.abs(debiased_values-debiased_values_isimip))\n",
    "print(f\"{pct_agreement*100}% of all values are within 1e-3. There is a maximum deviation of {max_deviation} which is {100*max_deviation/np.mean(debiased_values_isimip)}% of the average value\")"
   ]
  },
  {
   "cell_type": "markdown",
   "metadata": {},
   "source": [
    "We can plot the values over time at location [1,1]:"
   ]
  },
  {
   "cell_type": "code",
   "execution_count": 38,
   "metadata": {},
   "outputs": [
    {
     "data": {
      "image/png": "[encoded data removed]",
      "text/plain": [
       "<Figure size 432x288 with 1 Axes>"
      ]
     },
     "metadata": {
      "needs_background": "light"
     },
     "output_type": "display_data"
    }
   ],
   "source": [
    "min_time = 0\n",
    "max_time = 100\n",
    "lat = 1\n",
    "lon = 1\n",
    "time = np.arange(min_time, max_time)\n",
    "\n",
    "plt.plot(time, debiased_values_isimip[min_time:max_time, lat, lon], label = \"ISIMIP\")\n",
    "plt.plot(time, debiased_values[min_time:max_time, lat, lon], label = \"Ibicus implementation\", linestyle = \":\")\n",
    "plt.plot(time, cm_future[min_time:max_time, lat, lon], label = \"raw cm\")\n",
    "plt.legend()\n",
    "plt.show()"
   ]
  },
  {
   "cell_type": "markdown",
   "metadata": {},
   "source": [
    "Values of reference implementation against Ibicus ones:"
   ]
  },
  {
   "cell_type": "code",
   "execution_count": 39,
   "metadata": {},
   "outputs": [
    {
     "data": {
      "image/png": "[encoded data removed]",
      "text/plain": [
       "<Figure size 432x288 with 1 Axes>"
      ]
     },
     "metadata": {
      "needs_background": "light"
     },
     "output_type": "display_data"
    }
   ],
   "source": [
    "min_all_values = np.min([np.min(debiased_values), np.min(debiased_values_isimip)])\n",
    "max_all_values = np.max([np.max(debiased_values), np.max(debiased_values_isimip)])\n",
    "\n",
    "plt.scatter(debiased_values_isimip.flatten(), debiased_values.flatten())\n",
    "plt.plot([min_all_values, max_all_values], [min_all_values, max_all_values])\n",
    "plt.show()"
   ]
  },
  {
   "cell_type": "markdown",
   "metadata": {},
   "source": [
    "Linear Regression:"
   ]
  },
  {
   "cell_type": "code",
   "execution_count": 40,
   "metadata": {},
   "outputs": [
    {
     "name": "stderr",
     "output_type": "stream",
     "text": [
      "/Users/fionaspuler/opt/anaconda3/lib/python3.9/site-packages/scipy/stats/_stats_mstats_common.py:170: RuntimeWarning: invalid value encountered in double_scalars\n",
      "  slope = ssxym / ssxm\n",
      "/Users/fionaspuler/opt/anaconda3/lib/python3.9/site-packages/scipy/stats/_stats_mstats_common.py:187: RuntimeWarning: divide by zero encountered in double_scalars\n",
      "  slope_stderr = np.sqrt((1 - r**2) * ssym / ssxm / df)\n"
     ]
    },
    {
     "data": {
      "text/plain": [
       "LinregressResult(slope=nan, intercept=nan, rvalue=0.0, pvalue=1.0, stderr=inf, intercept_stderr=inf)"
      ]
     },
     "execution_count": 40,
     "metadata": {},
     "output_type": "execute_result"
    }
   ],
   "source": [
    "scipy.stats.linregress(debiased_values_isimip.flatten(), debiased_values.flatten())"
   ]
  },
  {
   "cell_type": "markdown",
   "metadata": {},
   "source": [
    "**tasskew is reproduced well by ibicus. Some differences larger than floating point error exist. This is due to:**\n",
    "\n",
    "- Randomization: tasrange includes some randomization between both upper and lower bound and threshold. This can lead to differences.\n",
    "\n",
    "- The references implementation of nonparametric quantile mapping using linear interpolation is inexact and differs from the Ibicus ones. This creates some differences. These decrease with the number of quantiles increasing, however they are slightly bigger than floating point error.\n",
    "\n",
    "- Accumulation of floating point errors in calculations. Especially floating point errors in the computation of quantiles can lead to slight numerical differences (larger than floating point) if those quantiles are mapped back to values. \n",
    "\n"
   ]
  },
  {
   "cell_type": "markdown",
   "metadata": {
    "tags": []
   },
   "source": [
    "### 2.9. hurs <a class=\"anchor\" id=\"bullet-29\"></a>"
   ]
  },
  {
   "cell_type": "markdown",
   "metadata": {},
   "source": [
    "Run the Ibicus ISIMIP implementation:"
   ]
  },
  {
   "cell_type": "code",
   "execution_count": 41,
   "metadata": {},
   "outputs": [
    {
     "name": "stderr",
     "output_type": "stream",
     "text": [
      "INFO:root:----- Running debiasing for variable: Daily mean near-surface relative humidity -----\n",
      "INFO:root:obs is a masked array, but contains no invalid data. It is converted to a normal numpy array.\n",
      "INFO:root:cm_hist is a masked array, but contains no invalid data. It is converted to a normal numpy array.\n",
      "INFO:root:cm_future is a masked array, but contains no invalid data. It is converted to a normal numpy array.\n",
      "100%|███████████████████████████████████████████████| 4/4 [00:15<00:00,  3.80s/it]\n"
     ]
    }
   ],
   "source": [
    "variable = \"hurs\"\n",
    "obs, cm_hist, cm_future, dates = read_in_and_preprocess_isimip_testing_data_with_dates(variable)\n",
    "debiaser = ISIMIP.from_variable(variable)\n",
    "debiased_values = debiaser.apply(obs, cm_hist, cm_future, **dates)"
   ]
  },
  {
   "cell_type": "markdown",
   "metadata": {},
   "source": [
    "Compare:"
   ]
  },
  {
   "cell_type": "code",
   "execution_count": 42,
   "metadata": {},
   "outputs": [
    {
     "name": "stdout",
     "output_type": "stream",
     "text": [
      "0.0% of all values are within 1e-2 with a maximum deviation of 1.0000000200408773e+20 which is 100.0% of the average value\n"
     ]
    }
   ],
   "source": [
    "debiased_values_isimip = read_in_debiased_testing_data(variable)\n",
    "pct_agreement = np.sum(np.abs(debiased_values -debiased_values_isimip) < 1e-2)/debiased_values.size\n",
    "max_deviation = np.max(np.abs(debiased_values-debiased_values_isimip))\n",
    "print(f\"{pct_agreement*100}% of all values are within 1e-2 with a maximum deviation of {max_deviation} which is {np.round(100*max_deviation/np.mean(debiased_values_isimip), 4)}% of the average value\")"
   ]
  },
  {
   "cell_type": "markdown",
   "metadata": {},
   "source": [
    "We can plot the values over time at location [1,1]:"
   ]
  },
  {
   "cell_type": "code",
   "execution_count": 43,
   "metadata": {},
   "outputs": [
    {
     "data": {
      "image/png": "[encoded data removed]",
      "text/plain": [
       "<Figure size 432x288 with 1 Axes>"
      ]
     },
     "metadata": {
      "needs_background": "light"
     },
     "output_type": "display_data"
    }
   ],
   "source": [
    "min_time = 0\n",
    "max_time = 100\n",
    "lat = 1\n",
    "lon = 1\n",
    "time = np.arange(min_time, max_time)\n",
    "\n",
    "plt.plot(time, debiased_values_isimip[min_time:max_time, lat, lon], label = \"ISIMIP\")\n",
    "plt.plot(time, debiased_values[min_time:max_time, lat, lon], label = \"Ibicus implementation\", linestyle = \":\")\n",
    "plt.plot(time, cm_future[min_time:max_time, lat, lon], label = \"raw cm\")\n",
    "plt.legend()\n",
    "plt.show()"
   ]
  },
  {
   "cell_type": "markdown",
   "metadata": {},
   "source": [
    "Values of reference implementation against Ibicus ones:"
   ]
  },
  {
   "cell_type": "code",
   "execution_count": 44,
   "metadata": {},
   "outputs": [
    {
     "data": {
      "image/png": "[encoded data removed]",
      "text/plain": [
       "<Figure size 432x288 with 1 Axes>"
      ]
     },
     "metadata": {
      "needs_background": "light"
     },
     "output_type": "display_data"
    }
   ],
   "source": [
    "min_all_values = np.min([np.min(debiased_values), np.min(debiased_values_isimip)])\n",
    "max_all_values = np.max([np.max(debiased_values), np.max(debiased_values_isimip)])\n",
    "\n",
    "plt.scatter(debiased_values_isimip.flatten(), debiased_values.flatten())\n",
    "plt.plot([min_all_values, max_all_values], [min_all_values, max_all_values])\n",
    "plt.show()"
   ]
  },
  {
   "cell_type": "markdown",
   "metadata": {},
   "source": [
    "Linear Regression:"
   ]
  },
  {
   "cell_type": "code",
   "execution_count": 45,
   "metadata": {},
   "outputs": [
    {
     "name": "stderr",
     "output_type": "stream",
     "text": [
      "/Users/fionaspuler/opt/anaconda3/lib/python3.9/site-packages/scipy/stats/_stats_mstats_common.py:170: RuntimeWarning: invalid value encountered in double_scalars\n",
      "  slope = ssxym / ssxm\n",
      "/Users/fionaspuler/opt/anaconda3/lib/python3.9/site-packages/scipy/stats/_stats_mstats_common.py:187: RuntimeWarning: divide by zero encountered in double_scalars\n",
      "  slope_stderr = np.sqrt((1 - r**2) * ssym / ssxm / df)\n"
     ]
    },
    {
     "data": {
      "text/plain": [
       "LinregressResult(slope=nan, intercept=nan, rvalue=0.0, pvalue=1.0, stderr=inf, intercept_stderr=inf)"
      ]
     },
     "execution_count": 45,
     "metadata": {},
     "output_type": "execute_result"
    }
   ],
   "source": [
    "scipy.stats.linregress(debiased_values_isimip.flatten(), debiased_values.flatten())"
   ]
  },
  {
   "cell_type": "markdown",
   "metadata": {},
   "source": [
    "**hurs is reproduced well by Ibicus. Some differences larger than floating point error exist. This is due to:**\n",
    "\n",
    "- Randomization: as other variables hurs includes some randomization between both upper and lower bound and threshold. This can lead to differences.\n",
    "\n",
    "- The references implementation of nonparametric quantile mapping, which uses linear interpolation, is inexact and differs from the Ibicus ones. This creates some differences. These decrease with the number of quantiles increasing, however they are slightly bigger than floating point error.\n",
    "\n",
    "- Accumulation of floating point errors in calculations. Especially floating point errors in the computation of quantiles can lead to slight numerical differences (larger than floating point) if those quantiles are mapped back to values. \n",
    "\n"
   ]
  },
  {
   "cell_type": "markdown",
   "metadata": {
    "tags": []
   },
   "source": [
    "### 2.10. rsds <a class=\"anchor\" id=\"bullet-210\"></a>"
   ]
  },
  {
   "cell_type": "markdown",
   "metadata": {},
   "source": [
    "Run the Ibicus ISIMIP implementation:"
   ]
  },
  {
   "cell_type": "code",
   "execution_count": 46,
   "metadata": {},
   "outputs": [
    {
     "name": "stderr",
     "output_type": "stream",
     "text": [
      "INFO:root:----- Running debiasing for variable: Daily mean surface downwelling shortwave radiation -----\n",
      "INFO:root:obs is a masked array, but contains no invalid data. It is converted to a normal numpy array.\n",
      "INFO:root:cm_hist is a masked array, but contains no invalid data. It is converted to a normal numpy array.\n",
      "INFO:root:cm_future is a masked array, but contains no invalid data. It is converted to a normal numpy array.\n",
      "100%|███████████████████████████████████████████████| 4/4 [00:15<00:00,  3.92s/it]\n"
     ]
    }
   ],
   "source": [
    "variable = \"rsds\"\n",
    "obs, cm_hist, cm_future, dates = read_in_and_preprocess_isimip_testing_data_with_dates(variable)\n",
    "debiaser = ISIMIP.from_variable(variable)\n",
    "debiased_values = debiaser.apply(obs, cm_hist, cm_future, **dates)"
   ]
  },
  {
   "cell_type": "markdown",
   "metadata": {},
   "source": [
    "Compare:"
   ]
  },
  {
   "cell_type": "code",
   "execution_count": 47,
   "metadata": {},
   "outputs": [
    {
     "name": "stdout",
     "output_type": "stream",
     "text": [
      "0.0% of all values are within 0.1 with a maximum deviation of 1.0000000200408773e+20 which is 99.99997361172842% of the average value\n"
     ]
    }
   ],
   "source": [
    "debiased_values_isimip = read_in_debiased_testing_data(variable)\n",
    "pct_agreement = np.sum(np.abs(debiased_values -debiased_values_isimip) < 0.1)/debiased_values.size\n",
    "max_deviation = np.max(np.abs(debiased_values-debiased_values_isimip))\n",
    "print(f\"{pct_agreement*100}% of all values are within 0.1 with a maximum deviation of {max_deviation} which is {100*max_deviation/np.mean(debiased_values_isimip)}% of the average value\")"
   ]
  },
  {
   "cell_type": "markdown",
   "metadata": {},
   "source": [
    "We can plot the values over time at location [1,1]:"
   ]
  },
  {
   "cell_type": "code",
   "execution_count": 48,
   "metadata": {},
   "outputs": [
    {
     "data": {
      "image/png": "[encoded data removed]",
      "text/plain": [
       "<Figure size 432x288 with 1 Axes>"
      ]
     },
     "metadata": {
      "needs_background": "light"
     },
     "output_type": "display_data"
    }
   ],
   "source": [
    "min_time = 0\n",
    "max_time = 100\n",
    "lat = 1\n",
    "lon = 1\n",
    "time = np.arange(min_time, max_time)\n",
    "\n",
    "plt.plot(time, debiased_values_isimip[min_time:max_time, lat, lon], label = \"ISIMIP\")\n",
    "plt.plot(time, debiased_values[min_time:max_time, lat, lon], label = \"Ibicus implementation\", linestyle = \":\")\n",
    "plt.plot(time, cm_future[min_time:max_time, lat, lon], label = \"raw cm\")\n",
    "plt.legend()\n",
    "plt.show()"
   ]
  },
  {
   "cell_type": "markdown",
   "metadata": {},
   "source": [
    "Values of reference implementation against ibicus ones:"
   ]
  },
  {
   "cell_type": "code",
   "execution_count": 49,
   "metadata": {},
   "outputs": [
    {
     "data": {
      "image/png": "[encoded data removed]",
      "text/plain": [
       "<Figure size 432x288 with 1 Axes>"
      ]
     },
     "metadata": {
      "needs_background": "light"
     },
     "output_type": "display_data"
    }
   ],
   "source": [
    "min_all_values = np.min([np.min(debiased_values), np.min(debiased_values_isimip)])\n",
    "max_all_values = np.max([np.max(debiased_values), np.max(debiased_values_isimip)])\n",
    "\n",
    "plt.scatter(debiased_values_isimip.flatten(), debiased_values.flatten())\n",
    "plt.plot([min_all_values, max_all_values], [min_all_values, max_all_values])\n",
    "plt.show()"
   ]
  },
  {
   "cell_type": "markdown",
   "metadata": {},
   "source": [
    "Linear Regression:"
   ]
  },
  {
   "cell_type": "code",
   "execution_count": 50,
   "metadata": {},
   "outputs": [
    {
     "name": "stderr",
     "output_type": "stream",
     "text": [
      "/Users/fionaspuler/opt/anaconda3/lib/python3.9/site-packages/scipy/stats/_stats_mstats_common.py:170: RuntimeWarning: invalid value encountered in double_scalars\n",
      "  slope = ssxym / ssxm\n",
      "/Users/fionaspuler/opt/anaconda3/lib/python3.9/site-packages/scipy/stats/_stats_mstats_common.py:187: RuntimeWarning: divide by zero encountered in double_scalars\n",
      "  slope_stderr = np.sqrt((1 - r**2) * ssym / ssxm / df)\n"
     ]
    },
    {
     "data": {
      "text/plain": [
       "LinregressResult(slope=nan, intercept=nan, rvalue=0.0, pvalue=1.0, stderr=inf, intercept_stderr=inf)"
      ]
     },
     "execution_count": 50,
     "metadata": {},
     "output_type": "execute_result"
    }
   ],
   "source": [
    "scipy.stats.linregress(debiased_values_isimip.flatten(), debiased_values.flatten())"
   ]
  },
  {
   "cell_type": "markdown",
   "metadata": {},
   "source": [
    "**ibicus reproduces rsds well. Some differences larger than floating point error exist. This is due to:**\n",
    "\n",
    "- Randomization: rsds includes some randomization between both upper and lower bound and threshold. This can lead to differences.\n",
    "\n",
    "- The references implementation of nonparametric quantile mapping, which uses linear interpolation, is inexact and differs from the Ibicus ones. This creates some differences. These decrease with the number of quantiles increasing, however they are slightly bigger than floating point error.\n",
    "\n",
    "- Accumulation of floating point errors in calculations. Especially floating point errors in the computation of quantiles can lead to slight numerical differences (larger than floating point) if those quantiles are mapped back to values. \n",
    "\n"
   ]
  },
  {
   "cell_type": "markdown",
   "metadata": {
    "tags": []
   },
   "source": [
    "### 2.11. prsnratio <a class=\"anchor\" id=\"bullet-211\"></a>"
   ]
  },
  {
   "cell_type": "markdown",
   "metadata": {},
   "source": [
    "Run the Ibicus ISIMIP implementation:"
   ]
  },
  {
   "cell_type": "code",
   "execution_count": 51,
   "metadata": {},
   "outputs": [
    {
     "name": "stderr",
     "output_type": "stream",
     "text": [
      "INFO:root:----- Running debiasing for variable: Daily mean snowfall flux / Daily mean precipitation -----\n",
      "WARNING:root:obs is a masked array and contains cells with invalid data. Not all debiasers support invalid/missing values and their presence might lead to infs or nans inside the debiased values. Consider infilling them. For computation the masked values here are filled in by nan-values.\n",
      "WARNING:root:cm_hist is a masked array and contains cells with invalid data. Not all debiasers support invalid/missing values and their presence might lead to infs or nans inside the debiased values. Consider infilling them. For computation the masked values here are filled in by nan-values.\n",
      "WARNING:root:cm_future is a masked array and contains cells with invalid data. Not all debiasers support invalid/missing values and their presence might lead to infs or nans inside the debiased values. Consider infilling them. For computation the masked values here are filled in by nan-values.\n",
      "100%|███████████████████████████████████████████████| 4/4 [00:07<00:00,  1.93s/it]\n"
     ]
    }
   ],
   "source": [
    "variable = \"prsnratio\"\n",
    "obs, cm_hist, cm_future, dates = read_in_and_preprocess_isimip_testing_data_with_dates(variable)\n",
    "debiaser = ISIMIP.from_variable(variable)\n",
    "debiased_values = debiaser.apply(obs, cm_hist, cm_future, **dates)"
   ]
  },
  {
   "cell_type": "markdown",
   "metadata": {},
   "source": [
    "Compare:"
   ]
  },
  {
   "cell_type": "code",
   "execution_count": 52,
   "metadata": {},
   "outputs": [
    {
     "name": "stdout",
     "output_type": "stream",
     "text": [
      "Percentage agreement is 0.0 with max deviation 1e+20\n"
     ]
    }
   ],
   "source": [
    "debiased_values_isimip = read_in_debiased_testing_data(variable)\n",
    "pct_agreement = np.sum(np.isclose(debiased_values,debiased_values_isimip))/debiased_values.size\n",
    "max_deviation = np.max(np.abs(debiased_values-debiased_values_isimip))\n",
    "print(\"Percentage agreement is %s with max deviation %s\"%(pct_agreement*100, max_deviation))"
   ]
  },
  {
   "cell_type": "markdown",
   "metadata": {},
   "source": [
    "We can plot the values over time at location [1,1]:"
   ]
  },
  {
   "cell_type": "code",
   "execution_count": 53,
   "metadata": {},
   "outputs": [
    {
     "data": {
      "image/png": "[encoded data removed]",
      "text/plain": [
       "<Figure size 432x288 with 1 Axes>"
      ]
     },
     "metadata": {
      "needs_background": "light"
     },
     "output_type": "display_data"
    }
   ],
   "source": [
    "min_time = 0\n",
    "max_time = 100\n",
    "lat = 1\n",
    "lon = 1\n",
    "time = np.arange(min_time, max_time)\n",
    "\n",
    "plt.plot(time, debiased_values_isimip[min_time:max_time, lat, lon], label = \"ISIMIP\")\n",
    "plt.plot(time, debiased_values[min_time:max_time, lat, lon], label = \"Ibicus implementation\", linestyle = \":\")\n",
    "plt.plot(time, cm_future[min_time:max_time, lat, lon], label = \"raw cm\")\n",
    "plt.legend()\n",
    "plt.show()"
   ]
  },
  {
   "cell_type": "markdown",
   "metadata": {},
   "source": [
    "Values of reference implementation against Ibicus ones:"
   ]
  },
  {
   "cell_type": "code",
   "execution_count": 54,
   "metadata": {},
   "outputs": [
    {
     "data": {
      "image/png": "[encoded data removed]",
      "text/plain": [
       "<Figure size 432x288 with 1 Axes>"
      ]
     },
     "metadata": {
      "needs_background": "light"
     },
     "output_type": "display_data"
    }
   ],
   "source": [
    "min_all_values = np.min([np.min(debiased_values), np.min(debiased_values_isimip)])\n",
    "max_all_values = np.max([np.max(debiased_values), np.max(debiased_values_isimip)])\n",
    "\n",
    "plt.scatter(debiased_values_isimip.flatten(), debiased_values.flatten())\n",
    "plt.plot([min_all_values, max_all_values], [min_all_values, max_all_values])\n",
    "plt.show()"
   ]
  },
  {
   "cell_type": "markdown",
   "metadata": {},
   "source": [
    "Linear Regression:"
   ]
  },
  {
   "cell_type": "code",
   "execution_count": 55,
   "metadata": {},
   "outputs": [
    {
     "name": "stderr",
     "output_type": "stream",
     "text": [
      "/Users/fionaspuler/opt/anaconda3/lib/python3.9/site-packages/scipy/stats/_stats_mstats_common.py:170: RuntimeWarning: invalid value encountered in double_scalars\n",
      "  slope = ssxym / ssxm\n",
      "/Users/fionaspuler/opt/anaconda3/lib/python3.9/site-packages/scipy/stats/_stats_mstats_common.py:187: RuntimeWarning: divide by zero encountered in double_scalars\n",
      "  slope_stderr = np.sqrt((1 - r**2) * ssym / ssxm / df)\n"
     ]
    },
    {
     "data": {
      "text/plain": [
       "LinregressResult(slope=nan, intercept=nan, rvalue=0.0, pvalue=1.0, stderr=inf, intercept_stderr=inf)"
      ]
     },
     "execution_count": 55,
     "metadata": {},
     "output_type": "execute_result"
    }
   ],
   "source": [
    "scipy.stats.linregress(debiased_values_isimip.flatten(), debiased_values.flatten())"
   ]
  },
  {
   "cell_type": "markdown",
   "metadata": {},
   "source": [
    "prsnratio includes a large amount of randomization: the metric is not defined on any day without rain (given that it is the ratio of prsn over pr) and in step 2 of the ISIMIP algorithm these values where the metric is not defined are filled with draws from all other available values in a given window (in all three: obs, cm_hist, cm_future). This randomization and random draws are not exactly reproducible using Ibicus and they influence all other computed values: the transfer of the climate change signal in step 5, the computation which values are set to bounds and the nonparametric quantile mapping in step 6. However the values of Ibicus and the reference implementation nevertheless seem in decent agreement and special care was taken to ensure that the outputs of all steps not including randomzation do agree."
   ]
  },
  {
   "cell_type": "markdown",
   "metadata": {},
   "source": [
    "## 3. Summary <a class=\"anchor\" id=\"bullet-3\"></a>\n",
    "\n"
   ]
  },
  {
   "cell_type": "markdown",
   "metadata": {},
   "source": [
    "The results of the ibicus and reference implementation of ISIMIP agree. Some smaller differences do exist -- at points slightly larger than floating point error, in particular for variables that involve randomization. However, these differences are within the small numerical differences that are to be expected in two different implementations of an algorithm involving a large variety of steps.\n",
    "\n",
    "The results above also only serve as last \"sanity check\" and demonstration for the ibicus implementation of ISIMIP. The authors of the software package took special care that the results do also agree in all intermediate steps. Differences seen in the outputs here were therefore shown to be due to the differences named above (in the variables)."
   ]
  }
 ],
 "metadata": {
  "kernelspec": {
   "display_name": "Python 3 (ipykernel)",
   "language": "python",
   "name": "python3"
  },
  "language_info": {
   "codemirror_mode": {
    "name": "ipython",
    "version": 3
   },
   "file_extension": ".py",
   "mimetype": "text/x-python",
   "name": "python",
   "nbconvert_exporter": "python",
   "pygments_lexer": "ipython3",
   "version": "3.9.12"
  }
 },
 "nbformat": 4,
 "nbformat_minor": 4
}
