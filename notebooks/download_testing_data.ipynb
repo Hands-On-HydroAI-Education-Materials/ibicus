{
 "cells": [
  {
   "cell_type": "code",
   "execution_count": 1,
   "id": "f15fb1af",
   "metadata": {},
   "outputs": [
    {
     "name": "stdout",
     "output_type": "stream",
     "text": [
      "Collecting cdsapi\n",
      "  Using cached cdsapi-0.5.1-py2.py3-none-any.whl\n",
      "Requirement already satisfied: requests>=2.5.0 in /Users/fionaspuler/opt/anaconda3/lib/python3.9/site-packages (from cdsapi) (2.27.1)\n",
      "Requirement already satisfied: tqdm in /Users/fionaspuler/opt/anaconda3/lib/python3.9/site-packages (from cdsapi) (4.64.0)\n",
      "Requirement already satisfied: idna<4,>=2.5 in /Users/fionaspuler/opt/anaconda3/lib/python3.9/site-packages (from requests>=2.5.0->cdsapi) (3.3)\n",
      "Requirement already satisfied: charset-normalizer~=2.0.0 in /Users/fionaspuler/opt/anaconda3/lib/python3.9/site-packages (from requests>=2.5.0->cdsapi) (2.0.4)\n",
      "Requirement already satisfied: urllib3<1.27,>=1.21.1 in /Users/fionaspuler/opt/anaconda3/lib/python3.9/site-packages (from requests>=2.5.0->cdsapi) (1.26.9)\n",
      "Requirement already satisfied: certifi>=2017.4.17 in /Users/fionaspuler/opt/anaconda3/lib/python3.9/site-packages (from requests>=2.5.0->cdsapi) (2021.10.8)\n",
      "Installing collected packages: cdsapi\n",
      "Successfully installed cdsapi-0.5.1\n"
     ]
    }
   ],
   "source": [
    "!pip install cdsapi"
   ]
  },
  {
   "cell_type": "code",
   "execution_count": 2,
   "id": "8a9c7fcf",
   "metadata": {},
   "outputs": [],
   "source": [
    "# General libs for file paths, data extraction, etc\n",
    "from glob import glob\n",
    "from pathlib import Path\n",
    "from os.path import basename\n",
    "import zipfile # To extract zipfiles\n",
    "import urllib3 \n",
    "urllib3.disable_warnings() # Disable warnings for data download via API\n",
    "\n",
    "# CDS API\n",
    "import cdsapi\n",
    "\n",
    "# Libraries for working with multi-dimensional arrays\n",
    "import numpy as np\n",
    "import xarray as xr\n",
    "import pandas as pd\n",
    "\n",
    "# Libraries for plotting and visualising data\n",
    "import matplotlib.path as mpath\n",
    "import matplotlib.pyplot as plt\n",
    "import cartopy.crs as ccrs\n",
    "from cartopy.mpl.gridliner import LONGITUDE_FORMATTER, LATITUDE_FORMATTER\n",
    "import cartopy.feature as cfeature"
   ]
  },
  {
   "cell_type": "code",
   "execution_count": 3,
   "id": "7d221519",
   "metadata": {},
   "outputs": [],
   "source": [
    "URL = 'https://cds.climate.copernicus.eu/api/v2'\n",
    "KEY = '140375:f24956b6-43ca-40ed-9563-be7031a4b2c3'"
   ]
  },
  {
   "cell_type": "code",
   "execution_count": 5,
   "id": "235b9dc1",
   "metadata": {},
   "outputs": [],
   "source": [
    "DATADIR = '/Users/fionaspuler/Desktop/ECMWF/code_and_data/testing_data_august'"
   ]
  },
  {
   "cell_type": "code",
   "execution_count": 15,
   "id": "1a003b64",
   "metadata": {},
   "outputs": [],
   "source": [
    "experiments = ['historical', 'ssp5_8_5']\n",
    "models = ['ipsl_cm6a_lr']\n",
    "variables = ['near_surface_air_temperature','precipitation',\n",
    "            'near_surface_wind_speed', 'daily_minimum_near_surface_air_temperature']\n",
    "# area: [\n",
    "#                53, 8.5, 50.5,\n",
    "#                14.5,\n",
    "#            ]"
   ]
  },
  {
   "cell_type": "code",
   "execution_count": null,
   "id": "1e4f6881",
   "metadata": {},
   "outputs": [],
   "source": [
    "c = cdsapi.Client(url=URL, key=KEY)\n",
    "\n",
    "\n",
    "for v in variables:\n",
    "    c.retrieve(\n",
    "        'projections-cmip6',\n",
    "        {\n",
    "            'temporal_resolution': 'daily',\n",
    "            'experiment': 'ssp5_8_5',\n",
    "            'level': 'single_levels',\n",
    "            'variable': v,\n",
    "            'model': 'ipsl_cm6a_lr',\n",
    "            'date': '2050-01-01/2070-12-31',\n",
    "            'area': [\n",
    "                    52, 8, 48,\n",
    "                    12,\n",
    "            ],\n",
    "            'format': 'zip',\n",
    "        },\n",
    "        '/Users/fionaspuler/Desktop/ECMWF/code_and_data/testing_data_august/cmip6_daily_2050-2070_ipsl_'+experiment+'_'+v+'.zip')"
   ]
  },
  {
   "cell_type": "code",
   "execution_count": null,
   "id": "4bec6b9c",
   "metadata": {},
   "outputs": [
    {
     "name": "stderr",
     "output_type": "stream",
     "text": [
      "2022-08-18 21:08:55,357 INFO Welcome to the CDS\n",
      "2022-08-18 21:08:55,361 INFO Sending request to https://cds.climate.copernicus.eu/api/v2/tasks/services/tool/toolbox/orchestrator/workflow/clientid-52eaeeb338c1425e8e33a85ec90fc4b7\n",
      "2022-08-18 21:08:55,458 INFO Request is queued\n",
      "2022-08-18 21:08:56,536 INFO Request is running\n",
      "2022-08-18 21:09:03,880 INFO Request is completed\n",
      "2022-08-18 21:09:04,238 INFO Welcome to the CDS\n",
      "2022-08-18 21:09:04,240 INFO Sending request to https://cds.climate.copernicus.eu/api/v2/tasks/services/tool/toolbox/orchestrator/workflow/clientid-f046a3a2f19947479d8f225dee531f8f\n",
      "2022-08-18 21:09:04,323 INFO Request is queued\n"
     ]
    },
    {
     "name": "stdout",
     "output_type": "stream",
     "text": [
      "Writing data to /Users/fionaspuler/Desktop/ECMWF/code_and_data/testing_data_august/era5_daily_mean_2m_temperature_1979_01.nc\n"
     ]
    },
    {
     "name": "stderr",
     "output_type": "stream",
     "text": [
      "2022-08-18 21:09:05,385 INFO Request is running\n",
      "2022-08-18 21:09:12,727 INFO Request is completed\n",
      "2022-08-18 21:09:13,065 INFO Welcome to the CDS\n",
      "2022-08-18 21:09:13,066 INFO Sending request to https://cds.climate.copernicus.eu/api/v2/tasks/services/tool/toolbox/orchestrator/workflow/clientid-707c71ca4f67477499be3103e5ea55e3\n",
      "2022-08-18 21:09:13,147 INFO Request is queued\n"
     ]
    },
    {
     "name": "stdout",
     "output_type": "stream",
     "text": [
      "Writing data to /Users/fionaspuler/Desktop/ECMWF/code_and_data/testing_data_august/era5_daily_mean_2m_temperature_1979_02.nc\n"
     ]
    },
    {
     "name": "stderr",
     "output_type": "stream",
     "text": [
      "2022-08-18 21:09:14,210 INFO Request is running\n",
      "2022-08-18 21:09:26,678 INFO Request is completed\n",
      "2022-08-18 21:09:27,082 INFO Welcome to the CDS\n",
      "2022-08-18 21:09:27,083 INFO Sending request to https://cds.climate.copernicus.eu/api/v2/tasks/services/tool/toolbox/orchestrator/workflow/clientid-5cf199632ecd4e1c9b14c42304324e92\n"
     ]
    },
    {
     "name": "stdout",
     "output_type": "stream",
     "text": [
      "Writing data to /Users/fionaspuler/Desktop/ECMWF/code_and_data/testing_data_august/era5_daily_mean_2m_temperature_1979_03.nc\n"
     ]
    },
    {
     "name": "stderr",
     "output_type": "stream",
     "text": [
      "2022-08-18 21:09:27,175 INFO Request is queued\n",
      "2022-08-18 21:09:28,230 INFO Request is running\n",
      "2022-08-18 21:09:40,697 INFO Request is completed\n",
      "2022-08-18 21:09:41,035 INFO Welcome to the CDS\n",
      "2022-08-18 21:09:41,036 INFO Sending request to https://cds.climate.copernicus.eu/api/v2/tasks/services/tool/toolbox/orchestrator/workflow/clientid-4375afd97d724c50a335a7378d71c187\n",
      "2022-08-18 21:09:41,143 INFO Request is queued\n"
     ]
    },
    {
     "name": "stdout",
     "output_type": "stream",
     "text": [
      "Writing data to /Users/fionaspuler/Desktop/ECMWF/code_and_data/testing_data_august/era5_daily_mean_2m_temperature_1979_04.nc\n"
     ]
    },
    {
     "name": "stderr",
     "output_type": "stream",
     "text": [
      "2022-08-18 21:09:42,201 INFO Request is running\n",
      "2022-08-18 21:09:54,666 INFO Request is completed\n",
      "2022-08-18 21:09:55,095 INFO Welcome to the CDS\n",
      "2022-08-18 21:09:55,097 INFO Sending request to https://cds.climate.copernicus.eu/api/v2/tasks/services/tool/toolbox/orchestrator/workflow/clientid-25e1319265874b2daf83ce677af2df79\n",
      "2022-08-18 21:09:55,166 INFO Request is queued\n"
     ]
    },
    {
     "name": "stdout",
     "output_type": "stream",
     "text": [
      "Writing data to /Users/fionaspuler/Desktop/ECMWF/code_and_data/testing_data_august/era5_daily_mean_2m_temperature_1979_05.nc\n"
     ]
    },
    {
     "name": "stderr",
     "output_type": "stream",
     "text": [
      "2022-08-18 21:09:56,242 INFO Request is running\n",
      "2022-08-18 21:10:03,576 INFO Request is completed\n",
      "2022-08-18 21:10:03,981 INFO Welcome to the CDS\n",
      "2022-08-18 21:10:03,981 INFO Sending request to https://cds.climate.copernicus.eu/api/v2/tasks/services/tool/toolbox/orchestrator/workflow/clientid-c057c236cd2a4fa69a4bd004cfbd0e93\n",
      "2022-08-18 21:10:04,043 INFO Request is queued\n"
     ]
    },
    {
     "name": "stdout",
     "output_type": "stream",
     "text": [
      "Writing data to /Users/fionaspuler/Desktop/ECMWF/code_and_data/testing_data_august/era5_daily_mean_2m_temperature_1979_06.nc\n"
     ]
    },
    {
     "name": "stderr",
     "output_type": "stream",
     "text": [
      "2022-08-18 21:10:05,114 INFO Request is running\n",
      "2022-08-18 21:10:12,438 INFO Request is completed\n",
      "2022-08-18 21:10:12,770 INFO Welcome to the CDS\n",
      "2022-08-18 21:10:12,771 INFO Sending request to https://cds.climate.copernicus.eu/api/v2/tasks/services/tool/toolbox/orchestrator/workflow/clientid-111299a606844ecca527505d3e67988f\n",
      "2022-08-18 21:10:12,839 INFO Request is queued\n"
     ]
    },
    {
     "name": "stdout",
     "output_type": "stream",
     "text": [
      "Writing data to /Users/fionaspuler/Desktop/ECMWF/code_and_data/testing_data_august/era5_daily_mean_2m_temperature_1979_07.nc\n"
     ]
    },
    {
     "name": "stderr",
     "output_type": "stream",
     "text": [
      "2022-08-18 21:10:13,902 INFO Request is running\n",
      "2022-08-18 21:10:21,228 INFO Request is completed\n",
      "2022-08-18 21:10:21,574 INFO Welcome to the CDS\n",
      "2022-08-18 21:10:21,575 INFO Sending request to https://cds.climate.copernicus.eu/api/v2/tasks/services/tool/toolbox/orchestrator/workflow/clientid-75701f6c0abd4b40a118a102ad7ccf87\n",
      "2022-08-18 21:10:21,683 INFO Request is queued\n"
     ]
    },
    {
     "name": "stdout",
     "output_type": "stream",
     "text": [
      "Writing data to /Users/fionaspuler/Desktop/ECMWF/code_and_data/testing_data_august/era5_daily_mean_2m_temperature_1979_08.nc\n"
     ]
    },
    {
     "name": "stderr",
     "output_type": "stream",
     "text": [
      "2022-08-18 21:10:22,742 INFO Request is running\n",
      "2022-08-18 21:10:30,064 INFO Request is completed\n",
      "2022-08-18 21:10:30,407 INFO Welcome to the CDS\n",
      "2022-08-18 21:10:30,408 INFO Sending request to https://cds.climate.copernicus.eu/api/v2/tasks/services/tool/toolbox/orchestrator/workflow/clientid-029e970c13d64765830e8170710abf3b\n",
      "2022-08-18 21:10:30,474 INFO Request is queued\n"
     ]
    },
    {
     "name": "stdout",
     "output_type": "stream",
     "text": [
      "Writing data to /Users/fionaspuler/Desktop/ECMWF/code_and_data/testing_data_august/era5_daily_mean_2m_temperature_1979_09.nc\n"
     ]
    },
    {
     "name": "stderr",
     "output_type": "stream",
     "text": [
      "2022-08-18 21:10:31,538 INFO Request is running\n",
      "2022-08-18 21:10:38,866 INFO Request is completed\n",
      "2022-08-18 21:10:39,308 INFO Welcome to the CDS\n",
      "2022-08-18 21:10:39,309 INFO Sending request to https://cds.climate.copernicus.eu/api/v2/tasks/services/tool/toolbox/orchestrator/workflow/clientid-8661854daa9349a182690c17f90bc23e\n"
     ]
    },
    {
     "name": "stdout",
     "output_type": "stream",
     "text": [
      "Writing data to /Users/fionaspuler/Desktop/ECMWF/code_and_data/testing_data_august/era5_daily_mean_2m_temperature_1979_10.nc\n"
     ]
    },
    {
     "name": "stderr",
     "output_type": "stream",
     "text": [
      "2022-08-18 21:10:39,401 INFO Request is queued\n",
      "2022-08-18 21:10:40,470 INFO Request is running\n",
      "2022-08-18 21:10:47,807 INFO Request is completed\n",
      "2022-08-18 21:10:48,204 INFO Welcome to the CDS\n",
      "2022-08-18 21:10:48,206 INFO Sending request to https://cds.climate.copernicus.eu/api/v2/tasks/services/tool/toolbox/orchestrator/workflow/clientid-3b884cf705f146ca9c6b682e531306b6\n",
      "2022-08-18 21:10:48,286 INFO Request is queued\n"
     ]
    },
    {
     "name": "stdout",
     "output_type": "stream",
     "text": [
      "Writing data to /Users/fionaspuler/Desktop/ECMWF/code_and_data/testing_data_august/era5_daily_mean_2m_temperature_1979_11.nc\n"
     ]
    },
    {
     "name": "stderr",
     "output_type": "stream",
     "text": [
      "2022-08-18 21:10:49,352 INFO Request is running\n",
      "2022-08-18 21:10:56,702 INFO Request is completed\n",
      "2022-08-18 21:10:57,034 INFO Welcome to the CDS\n",
      "2022-08-18 21:10:57,035 INFO Sending request to https://cds.climate.copernicus.eu/api/v2/tasks/services/tool/toolbox/orchestrator/workflow/clientid-13e697fbb95b4890b6a8698069323a49\n",
      "2022-08-18 21:10:57,143 INFO Request is queued\n"
     ]
    },
    {
     "name": "stdout",
     "output_type": "stream",
     "text": [
      "Writing data to /Users/fionaspuler/Desktop/ECMWF/code_and_data/testing_data_august/era5_daily_mean_2m_temperature_1979_12.nc\n"
     ]
    },
    {
     "name": "stderr",
     "output_type": "stream",
     "text": [
      "2022-08-18 21:10:58,210 INFO Request is running\n",
      "2022-08-18 21:12:12,665 INFO Request is completed\n",
      "2022-08-18 21:12:13,024 INFO Welcome to the CDS\n",
      "2022-08-18 21:12:13,025 INFO Sending request to https://cds.climate.copernicus.eu/api/v2/tasks/services/tool/toolbox/orchestrator/workflow/clientid-7af62b7d2ec0435094eb1fb2f6cd6664\n",
      "2022-08-18 21:12:13,102 INFO Request is queued\n"
     ]
    },
    {
     "name": "stdout",
     "output_type": "stream",
     "text": [
      "Writing data to /Users/fionaspuler/Desktop/ECMWF/code_and_data/testing_data_august/era5_daily_mean_2m_temperature_1980_01.nc\n"
     ]
    },
    {
     "name": "stderr",
     "output_type": "stream",
     "text": [
      "2022-08-18 21:12:14,170 INFO Request is running\n",
      "2022-08-18 21:13:28,651 INFO Request is completed\n",
      "2022-08-18 21:13:29,019 INFO Welcome to the CDS\n",
      "2022-08-18 21:13:29,020 INFO Sending request to https://cds.climate.copernicus.eu/api/v2/tasks/services/tool/toolbox/orchestrator/workflow/clientid-4b83b2ab75d14728a29e06c48c4fa298\n",
      "2022-08-18 21:13:29,094 INFO Request is queued\n"
     ]
    },
    {
     "name": "stdout",
     "output_type": "stream",
     "text": [
      "Writing data to /Users/fionaspuler/Desktop/ECMWF/code_and_data/testing_data_august/era5_daily_mean_2m_temperature_1980_02.nc\n"
     ]
    },
    {
     "name": "stderr",
     "output_type": "stream",
     "text": [
      "2022-08-18 21:13:30,158 INFO Request is running\n",
      "2022-08-18 21:14:45,023 INFO Request is completed\n",
      "2022-08-18 21:14:45,380 INFO Welcome to the CDS\n",
      "2022-08-18 21:14:45,381 INFO Sending request to https://cds.climate.copernicus.eu/api/v2/tasks/services/tool/toolbox/orchestrator/workflow/clientid-1e0ab50925d143b385401612a9f46a12\n",
      "2022-08-18 21:14:45,441 INFO Request is queued\n"
     ]
    },
    {
     "name": "stdout",
     "output_type": "stream",
     "text": [
      "Writing data to /Users/fionaspuler/Desktop/ECMWF/code_and_data/testing_data_august/era5_daily_mean_2m_temperature_1980_03.nc\n"
     ]
    },
    {
     "name": "stderr",
     "output_type": "stream",
     "text": [
      "2022-08-18 21:14:46,507 INFO Request is running\n",
      "2022-08-18 21:16:00,944 INFO Request is completed\n",
      "2022-08-18 21:16:01,338 INFO Welcome to the CDS\n",
      "2022-08-18 21:16:01,339 INFO Sending request to https://cds.climate.copernicus.eu/api/v2/tasks/services/tool/toolbox/orchestrator/workflow/clientid-895268e8d11044dfb8b56e166634ad19\n"
     ]
    },
    {
     "name": "stdout",
     "output_type": "stream",
     "text": [
      "Writing data to /Users/fionaspuler/Desktop/ECMWF/code_and_data/testing_data_august/era5_daily_mean_2m_temperature_1980_04.nc\n"
     ]
    },
    {
     "name": "stderr",
     "output_type": "stream",
     "text": [
      "2022-08-18 21:16:01,449 INFO Request is queued\n",
      "2022-08-18 21:16:02,508 INFO Request is running\n",
      "2022-08-18 21:17:16,954 INFO Request is completed\n",
      "2022-08-18 21:17:17,353 INFO Welcome to the CDS\n",
      "2022-08-18 21:17:17,354 INFO Sending request to https://cds.climate.copernicus.eu/api/v2/tasks/services/tool/toolbox/orchestrator/workflow/clientid-7395b7c995474f52b8f49300ee5b73a8\n",
      "2022-08-18 21:17:17,428 INFO Request is queued\n"
     ]
    },
    {
     "name": "stdout",
     "output_type": "stream",
     "text": [
      "Writing data to /Users/fionaspuler/Desktop/ECMWF/code_and_data/testing_data_august/era5_daily_mean_2m_temperature_1980_05.nc\n"
     ]
    },
    {
     "name": "stderr",
     "output_type": "stream",
     "text": [
      "2022-08-18 21:17:18,490 INFO Request is running\n",
      "2022-08-18 21:18:32,907 INFO Request is completed\n",
      "2022-08-18 21:18:33,273 INFO Welcome to the CDS\n",
      "2022-08-18 21:18:33,273 INFO Sending request to https://cds.climate.copernicus.eu/api/v2/tasks/services/tool/toolbox/orchestrator/workflow/clientid-b772395b87234630a5e92cf5c47e7022\n",
      "2022-08-18 21:18:33,345 INFO Request is queued\n"
     ]
    },
    {
     "name": "stdout",
     "output_type": "stream",
     "text": [
      "Writing data to /Users/fionaspuler/Desktop/ECMWF/code_and_data/testing_data_august/era5_daily_mean_2m_temperature_1980_06.nc\n"
     ]
    },
    {
     "name": "stderr",
     "output_type": "stream",
     "text": [
      "2022-08-18 21:18:34,406 INFO Request is running\n",
      "2022-08-18 21:19:48,873 INFO Request is completed\n",
      "2022-08-18 21:19:49,311 INFO Welcome to the CDS\n",
      "2022-08-18 21:19:49,317 INFO Sending request to https://cds.climate.copernicus.eu/api/v2/tasks/services/tool/toolbox/orchestrator/workflow/clientid-d49e95ceec8145e884a813589a9496aa\n"
     ]
    },
    {
     "name": "stdout",
     "output_type": "stream",
     "text": [
      "Writing data to /Users/fionaspuler/Desktop/ECMWF/code_and_data/testing_data_august/era5_daily_mean_2m_temperature_1980_07.nc\n"
     ]
    },
    {
     "name": "stderr",
     "output_type": "stream",
     "text": [
      "2022-08-18 21:19:49,394 INFO Request is queued\n",
      "2022-08-18 21:19:50,465 INFO Request is running\n",
      "2022-08-18 21:21:04,927 INFO Request is completed\n",
      "2022-08-18 21:21:05,299 INFO Welcome to the CDS\n",
      "2022-08-18 21:21:05,301 INFO Sending request to https://cds.climate.copernicus.eu/api/v2/tasks/services/tool/toolbox/orchestrator/workflow/clientid-a9fddbe6e1fd40d0bb33a3d3eed35cf4\n",
      "2022-08-18 21:21:05,378 INFO Request is queued\n"
     ]
    },
    {
     "name": "stdout",
     "output_type": "stream",
     "text": [
      "Writing data to /Users/fionaspuler/Desktop/ECMWF/code_and_data/testing_data_august/era5_daily_mean_2m_temperature_1980_08.nc\n"
     ]
    },
    {
     "name": "stderr",
     "output_type": "stream",
     "text": [
      "2022-08-18 21:21:06,446 INFO Request is running\n",
      "2022-08-18 21:22:20,896 INFO Request is completed\n",
      "2022-08-18 21:22:21,259 INFO Welcome to the CDS\n",
      "2022-08-18 21:22:21,260 INFO Sending request to https://cds.climate.copernicus.eu/api/v2/tasks/services/tool/toolbox/orchestrator/workflow/clientid-732b27814cc24f40a90078cc967e5301\n",
      "2022-08-18 21:22:21,335 INFO Request is queued\n"
     ]
    },
    {
     "name": "stdout",
     "output_type": "stream",
     "text": [
      "Writing data to /Users/fionaspuler/Desktop/ECMWF/code_and_data/testing_data_august/era5_daily_mean_2m_temperature_1980_09.nc\n"
     ]
    },
    {
     "name": "stderr",
     "output_type": "stream",
     "text": [
      "2022-08-18 21:22:22,413 INFO Request is running\n",
      "2022-08-18 21:23:36,853 INFO Request is completed\n",
      "2022-08-18 21:23:37,162 INFO Welcome to the CDS\n",
      "2022-08-18 21:23:37,163 INFO Sending request to https://cds.climate.copernicus.eu/api/v2/tasks/services/tool/toolbox/orchestrator/workflow/clientid-09f26b7dd1b345cb8ad7d03ec306c095\n",
      "2022-08-18 21:23:37,234 INFO Request is queued\n"
     ]
    },
    {
     "name": "stdout",
     "output_type": "stream",
     "text": [
      "Writing data to /Users/fionaspuler/Desktop/ECMWF/code_and_data/testing_data_august/era5_daily_mean_2m_temperature_1980_10.nc\n"
     ]
    },
    {
     "name": "stderr",
     "output_type": "stream",
     "text": [
      "2022-08-18 21:23:38,307 INFO Request is running\n",
      "2022-08-18 21:24:52,779 INFO Request is completed\n",
      "2022-08-18 21:24:53,127 INFO Welcome to the CDS\n",
      "2022-08-18 21:24:53,128 INFO Sending request to https://cds.climate.copernicus.eu/api/v2/tasks/services/tool/toolbox/orchestrator/workflow/clientid-1ab5996c37bc4e8e971f8d9cfb135833\n",
      "2022-08-18 21:24:53,201 INFO Request is queued\n"
     ]
    },
    {
     "name": "stdout",
     "output_type": "stream",
     "text": [
      "Writing data to /Users/fionaspuler/Desktop/ECMWF/code_and_data/testing_data_august/era5_daily_mean_2m_temperature_1980_11.nc\n"
     ]
    },
    {
     "name": "stderr",
     "output_type": "stream",
     "text": [
      "2022-08-18 21:24:54,261 INFO Request is running\n",
      "2022-08-18 21:26:08,943 INFO Request is completed\n",
      "2022-08-18 21:26:09,314 INFO Welcome to the CDS\n",
      "2022-08-18 21:26:09,315 INFO Sending request to https://cds.climate.copernicus.eu/api/v2/tasks/services/tool/toolbox/orchestrator/workflow/clientid-f926bc6879eb49bdbad5388cf62691d1\n",
      "2022-08-18 21:26:09,377 INFO Request is queued\n"
     ]
    },
    {
     "name": "stdout",
     "output_type": "stream",
     "text": [
      "Writing data to /Users/fionaspuler/Desktop/ECMWF/code_and_data/testing_data_august/era5_daily_mean_2m_temperature_1980_12.nc\n"
     ]
    },
    {
     "name": "stderr",
     "output_type": "stream",
     "text": [
      "2022-08-18 21:26:10,434 INFO Request is running\n",
      "2022-08-18 21:27:24,927 INFO Request is completed\n",
      "2022-08-18 21:27:25,285 INFO Welcome to the CDS\n",
      "2022-08-18 21:27:25,287 INFO Sending request to https://cds.climate.copernicus.eu/api/v2/tasks/services/tool/toolbox/orchestrator/workflow/clientid-fb5d001d2514418d9e12f80c92e6ab7b\n",
      "2022-08-18 21:27:25,383 INFO Request is queued\n"
     ]
    },
    {
     "name": "stdout",
     "output_type": "stream",
     "text": [
      "Writing data to /Users/fionaspuler/Desktop/ECMWF/code_and_data/testing_data_august/era5_daily_mean_2m_temperature_1981_01.nc\n"
     ]
    },
    {
     "name": "stderr",
     "output_type": "stream",
     "text": [
      "2022-08-18 21:27:26,450 INFO Request is running\n",
      "2022-08-18 21:28:40,895 INFO Request is completed\n",
      "2022-08-18 21:28:41,258 INFO Welcome to the CDS\n",
      "2022-08-18 21:28:41,259 INFO Sending request to https://cds.climate.copernicus.eu/api/v2/tasks/services/tool/toolbox/orchestrator/workflow/clientid-e2d772fc8f6547768e9992b2522fd6ca\n",
      "2022-08-18 21:28:41,324 INFO Request is queued\n"
     ]
    },
    {
     "name": "stdout",
     "output_type": "stream",
     "text": [
      "Writing data to /Users/fionaspuler/Desktop/ECMWF/code_and_data/testing_data_august/era5_daily_mean_2m_temperature_1981_02.nc\n"
     ]
    },
    {
     "name": "stderr",
     "output_type": "stream",
     "text": [
      "2022-08-18 21:28:42,383 INFO Request is running\n",
      "2022-08-18 21:29:56,778 INFO Request is completed\n",
      "2022-08-18 21:29:57,140 INFO Welcome to the CDS\n",
      "2022-08-18 21:29:57,142 INFO Sending request to https://cds.climate.copernicus.eu/api/v2/tasks/services/tool/toolbox/orchestrator/workflow/clientid-7c9adac0c6484600b361a75e24eeaf11\n",
      "2022-08-18 21:29:57,273 INFO Request is queued\n"
     ]
    },
    {
     "name": "stdout",
     "output_type": "stream",
     "text": [
      "Writing data to /Users/fionaspuler/Desktop/ECMWF/code_and_data/testing_data_august/era5_daily_mean_2m_temperature_1981_03.nc\n"
     ]
    },
    {
     "name": "stderr",
     "output_type": "stream",
     "text": [
      "2022-08-18 21:29:58,342 INFO Request is running\n",
      "2022-08-18 21:31:12,769 INFO Request is completed\n",
      "2022-08-18 21:31:13,127 INFO Welcome to the CDS\n",
      "2022-08-18 21:31:13,128 INFO Sending request to https://cds.climate.copernicus.eu/api/v2/tasks/services/tool/toolbox/orchestrator/workflow/clientid-92a661b89cd64ab6ae78376b926fc825\n",
      "2022-08-18 21:31:13,202 INFO Request is queued\n"
     ]
    },
    {
     "name": "stdout",
     "output_type": "stream",
     "text": [
      "Writing data to /Users/fionaspuler/Desktop/ECMWF/code_and_data/testing_data_august/era5_daily_mean_2m_temperature_1981_04.nc\n"
     ]
    },
    {
     "name": "stderr",
     "output_type": "stream",
     "text": [
      "2022-08-18 21:31:14,270 INFO Request is running\n",
      "2022-08-18 21:32:28,740 INFO Request is completed\n",
      "2022-08-18 21:32:29,153 INFO Welcome to the CDS\n",
      "2022-08-18 21:32:29,154 INFO Sending request to https://cds.climate.copernicus.eu/api/v2/tasks/services/tool/toolbox/orchestrator/workflow/clientid-24ea69f8bf1c4f2ab8022400310453e9\n"
     ]
    },
    {
     "name": "stdout",
     "output_type": "stream",
     "text": [
      "Writing data to /Users/fionaspuler/Desktop/ECMWF/code_and_data/testing_data_august/era5_daily_mean_2m_temperature_1981_05.nc\n"
     ]
    },
    {
     "name": "stderr",
     "output_type": "stream",
     "text": [
      "2022-08-18 21:32:29,240 INFO Request is queued\n",
      "2022-08-18 21:32:30,299 INFO Request is running\n",
      "2022-08-18 21:33:44,805 INFO Request is completed\n",
      "2022-08-18 21:33:45,139 INFO Welcome to the CDS\n",
      "2022-08-18 21:33:45,140 INFO Sending request to https://cds.climate.copernicus.eu/api/v2/tasks/services/tool/toolbox/orchestrator/workflow/clientid-833b80377ddf4a868da9ceb0e65c1ac6\n",
      "2022-08-18 21:33:45,241 INFO Request is queued\n"
     ]
    },
    {
     "name": "stdout",
     "output_type": "stream",
     "text": [
      "Writing data to /Users/fionaspuler/Desktop/ECMWF/code_and_data/testing_data_august/era5_daily_mean_2m_temperature_1981_06.nc\n"
     ]
    },
    {
     "name": "stderr",
     "output_type": "stream",
     "text": [
      "2022-08-18 21:33:46,312 INFO Request is running\n",
      "2022-08-18 21:35:00,686 INFO Request is completed\n",
      "2022-08-18 21:35:00,991 INFO Welcome to the CDS\n",
      "2022-08-18 21:35:00,992 INFO Sending request to https://cds.climate.copernicus.eu/api/v2/tasks/services/tool/toolbox/orchestrator/workflow/clientid-7094b91148224b0d8d9c0dcb01ddf2fa\n",
      "2022-08-18 21:35:01,062 INFO Request is queued\n"
     ]
    },
    {
     "name": "stdout",
     "output_type": "stream",
     "text": [
      "Writing data to /Users/fionaspuler/Desktop/ECMWF/code_and_data/testing_data_august/era5_daily_mean_2m_temperature_1981_07.nc\n"
     ]
    },
    {
     "name": "stderr",
     "output_type": "stream",
     "text": [
      "2022-08-18 21:35:02,132 INFO Request is running\n",
      "2022-08-18 21:36:16,542 INFO Request is completed\n",
      "2022-08-18 21:36:16,862 INFO Welcome to the CDS\n",
      "2022-08-18 21:36:16,863 INFO Sending request to https://cds.climate.copernicus.eu/api/v2/tasks/services/tool/toolbox/orchestrator/workflow/clientid-8269c62871254f82a01182c767ce5df8\n",
      "2022-08-18 21:36:16,993 INFO Request is queued\n"
     ]
    },
    {
     "name": "stdout",
     "output_type": "stream",
     "text": [
      "Writing data to /Users/fionaspuler/Desktop/ECMWF/code_and_data/testing_data_august/era5_daily_mean_2m_temperature_1981_08.nc\n"
     ]
    },
    {
     "name": "stderr",
     "output_type": "stream",
     "text": [
      "2022-08-18 21:36:18,050 INFO Request is running\n",
      "2022-08-18 21:37:32,693 INFO Request is completed\n",
      "2022-08-18 21:37:33,054 INFO Welcome to the CDS\n",
      "2022-08-18 21:37:33,055 INFO Sending request to https://cds.climate.copernicus.eu/api/v2/tasks/services/tool/toolbox/orchestrator/workflow/clientid-fdb95ee13c364db8b635653ae21297e7\n",
      "2022-08-18 21:37:33,125 INFO Request is queued\n"
     ]
    },
    {
     "name": "stdout",
     "output_type": "stream",
     "text": [
      "Writing data to /Users/fionaspuler/Desktop/ECMWF/code_and_data/testing_data_august/era5_daily_mean_2m_temperature_1981_09.nc\n"
     ]
    },
    {
     "name": "stderr",
     "output_type": "stream",
     "text": [
      "2022-08-18 21:37:34,200 INFO Request is running\n",
      "2022-08-18 21:38:48,695 INFO Request is completed\n",
      "2022-08-18 21:38:49,029 INFO Welcome to the CDS\n",
      "2022-08-18 21:38:49,029 INFO Sending request to https://cds.climate.copernicus.eu/api/v2/tasks/services/tool/toolbox/orchestrator/workflow/clientid-c1fa3c97cdfd45eda88cce311a6349c1\n",
      "2022-08-18 21:38:49,133 INFO Request is queued\n"
     ]
    },
    {
     "name": "stdout",
     "output_type": "stream",
     "text": [
      "Writing data to /Users/fionaspuler/Desktop/ECMWF/code_and_data/testing_data_august/era5_daily_mean_2m_temperature_1981_10.nc\n"
     ]
    },
    {
     "name": "stderr",
     "output_type": "stream",
     "text": [
      "2022-08-18 21:38:50,210 INFO Request is running\n",
      "2022-08-18 21:40:04,709 INFO Request is completed\n",
      "2022-08-18 21:40:05,034 INFO Welcome to the CDS\n",
      "2022-08-18 21:40:05,037 INFO Sending request to https://cds.climate.copernicus.eu/api/v2/tasks/services/tool/toolbox/orchestrator/workflow/clientid-821f62b26a1d46d3a5bcb4230b737dd8\n",
      "2022-08-18 21:40:05,117 INFO Request is queued\n"
     ]
    },
    {
     "name": "stdout",
     "output_type": "stream",
     "text": [
      "Writing data to /Users/fionaspuler/Desktop/ECMWF/code_and_data/testing_data_august/era5_daily_mean_2m_temperature_1981_11.nc\n"
     ]
    },
    {
     "name": "stderr",
     "output_type": "stream",
     "text": [
      "2022-08-18 21:40:06,183 INFO Request is running\n",
      "2022-08-18 21:41:20,684 INFO Request is completed\n",
      "2022-08-18 21:41:21,057 INFO Welcome to the CDS\n",
      "2022-08-18 21:41:21,058 INFO Sending request to https://cds.climate.copernicus.eu/api/v2/tasks/services/tool/toolbox/orchestrator/workflow/clientid-eb490cb77365409199c70d6546795ff4\n",
      "2022-08-18 21:41:21,152 INFO Request is queued\n"
     ]
    },
    {
     "name": "stdout",
     "output_type": "stream",
     "text": [
      "Writing data to /Users/fionaspuler/Desktop/ECMWF/code_and_data/testing_data_august/era5_daily_mean_2m_temperature_1981_12.nc\n"
     ]
    },
    {
     "name": "stderr",
     "output_type": "stream",
     "text": [
      "2022-08-18 21:41:22,218 INFO Request is running\n",
      "2022-08-18 21:42:36,700 INFO Request is completed\n",
      "2022-08-18 21:42:37,008 INFO Welcome to the CDS\n",
      "2022-08-18 21:42:37,009 INFO Sending request to https://cds.climate.copernicus.eu/api/v2/tasks/services/tool/toolbox/orchestrator/workflow/clientid-c0cb98657cb8494da9b70b474a6e80ee\n",
      "2022-08-18 21:42:37,099 INFO Request is queued\n"
     ]
    },
    {
     "name": "stdout",
     "output_type": "stream",
     "text": [
      "Writing data to /Users/fionaspuler/Desktop/ECMWF/code_and_data/testing_data_august/era5_daily_mean_2m_temperature_1982_01.nc\n"
     ]
    },
    {
     "name": "stderr",
     "output_type": "stream",
     "text": [
      "2022-08-18 21:42:38,163 INFO Request is running\n",
      "2022-08-18 21:43:52,617 INFO Request is completed\n",
      "2022-08-18 21:43:52,972 INFO Welcome to the CDS\n",
      "2022-08-18 21:43:52,973 INFO Sending request to https://cds.climate.copernicus.eu/api/v2/tasks/services/tool/toolbox/orchestrator/workflow/clientid-ebdddcc872074cf38fa33cf35c2f9cbf\n"
     ]
    },
    {
     "name": "stdout",
     "output_type": "stream",
     "text": [
      "Writing data to /Users/fionaspuler/Desktop/ECMWF/code_and_data/testing_data_august/era5_daily_mean_2m_temperature_1982_02.nc\n"
     ]
    },
    {
     "name": "stderr",
     "output_type": "stream",
     "text": [
      "2022-08-18 21:43:53,119 INFO Request is queued\n",
      "2022-08-18 21:43:54,188 INFO Request is running\n",
      "2022-08-18 21:45:47,225 INFO Request is completed\n",
      "2022-08-18 21:45:47,533 INFO Welcome to the CDS\n",
      "2022-08-18 21:45:47,534 INFO Sending request to https://cds.climate.copernicus.eu/api/v2/tasks/services/tool/toolbox/orchestrator/workflow/clientid-ad4d312d99d44a218c991f573d563c0a\n",
      "2022-08-18 21:45:47,619 INFO Request is queued\n"
     ]
    },
    {
     "name": "stdout",
     "output_type": "stream",
     "text": [
      "Writing data to /Users/fionaspuler/Desktop/ECMWF/code_and_data/testing_data_august/era5_daily_mean_2m_temperature_1982_03.nc\n"
     ]
    },
    {
     "name": "stderr",
     "output_type": "stream",
     "text": [
      "2022-08-18 21:45:48,687 INFO Request is running\n",
      "2022-08-18 21:46:37,448 INFO Request is completed\n",
      "2022-08-18 21:46:37,805 INFO Welcome to the CDS\n",
      "2022-08-18 21:46:37,806 INFO Sending request to https://cds.climate.copernicus.eu/api/v2/tasks/services/tool/toolbox/orchestrator/workflow/clientid-43c8587672bc4be0abfc5ba7f42a5e05\n",
      "2022-08-18 21:46:37,911 INFO Request is queued\n"
     ]
    },
    {
     "name": "stdout",
     "output_type": "stream",
     "text": [
      "Writing data to /Users/fionaspuler/Desktop/ECMWF/code_and_data/testing_data_august/era5_daily_mean_2m_temperature_1982_04.nc\n"
     ]
    },
    {
     "name": "stderr",
     "output_type": "stream",
     "text": [
      "2022-08-18 21:46:38,978 INFO Request is running\n",
      "2022-08-18 21:47:53,440 INFO Request is completed\n",
      "2022-08-18 21:47:53,857 INFO Welcome to the CDS\n",
      "2022-08-18 21:47:53,858 INFO Sending request to https://cds.climate.copernicus.eu/api/v2/tasks/services/tool/toolbox/orchestrator/workflow/clientid-f749baeec04c4973bbe2ce40243f20f8\n"
     ]
    },
    {
     "name": "stdout",
     "output_type": "stream",
     "text": [
      "Writing data to /Users/fionaspuler/Desktop/ECMWF/code_and_data/testing_data_august/era5_daily_mean_2m_temperature_1982_05.nc\n"
     ]
    },
    {
     "name": "stderr",
     "output_type": "stream",
     "text": [
      "2022-08-18 21:47:53,937 INFO Request is queued\n",
      "2022-08-18 21:47:55,001 INFO Request is running\n",
      "2022-08-18 21:49:09,643 INFO Request is completed\n",
      "2022-08-18 21:49:09,952 INFO Welcome to the CDS\n",
      "2022-08-18 21:49:09,953 INFO Sending request to https://cds.climate.copernicus.eu/api/v2/tasks/services/tool/toolbox/orchestrator/workflow/clientid-6684de5aefef489c9c09062dda9a8653\n",
      "2022-08-18 21:49:10,039 INFO Request is queued\n"
     ]
    },
    {
     "name": "stdout",
     "output_type": "stream",
     "text": [
      "Writing data to /Users/fionaspuler/Desktop/ECMWF/code_and_data/testing_data_august/era5_daily_mean_2m_temperature_1982_06.nc\n"
     ]
    },
    {
     "name": "stderr",
     "output_type": "stream",
     "text": [
      "2022-08-18 21:49:11,104 INFO Request is running\n",
      "2022-08-18 21:50:25,568 INFO Request is completed\n",
      "2022-08-18 21:50:25,923 INFO Welcome to the CDS\n",
      "2022-08-18 21:50:25,924 INFO Sending request to https://cds.climate.copernicus.eu/api/v2/tasks/services/tool/toolbox/orchestrator/workflow/clientid-27525b850dd84677b1671e39897da721\n",
      "2022-08-18 21:50:25,997 INFO Request is queued\n"
     ]
    },
    {
     "name": "stdout",
     "output_type": "stream",
     "text": [
      "Writing data to /Users/fionaspuler/Desktop/ECMWF/code_and_data/testing_data_august/era5_daily_mean_2m_temperature_1982_07.nc\n"
     ]
    },
    {
     "name": "stderr",
     "output_type": "stream",
     "text": [
      "2022-08-18 21:50:27,069 INFO Request is running\n",
      "2022-08-18 21:51:41,543 INFO Request is completed\n",
      "2022-08-18 21:51:41,914 INFO Welcome to the CDS\n",
      "2022-08-18 21:51:41,915 INFO Sending request to https://cds.climate.copernicus.eu/api/v2/tasks/services/tool/toolbox/orchestrator/workflow/clientid-e787e0975ae2427ca19f9c0a380e738a\n",
      "2022-08-18 21:51:41,990 INFO Request is queued\n"
     ]
    },
    {
     "name": "stdout",
     "output_type": "stream",
     "text": [
      "Writing data to /Users/fionaspuler/Desktop/ECMWF/code_and_data/testing_data_august/era5_daily_mean_2m_temperature_1982_08.nc\n"
     ]
    },
    {
     "name": "stderr",
     "output_type": "stream",
     "text": [
      "2022-08-18 21:51:43,064 INFO Request is running\n",
      "2022-08-18 21:52:57,516 INFO Request is completed\n",
      "2022-08-18 21:52:57,899 INFO Welcome to the CDS\n",
      "2022-08-18 21:52:57,899 INFO Sending request to https://cds.climate.copernicus.eu/api/v2/tasks/services/tool/toolbox/orchestrator/workflow/clientid-5004f0d0f6b04335acb50962402a313a\n",
      "2022-08-18 21:52:57,974 INFO Request is queued\n"
     ]
    },
    {
     "name": "stdout",
     "output_type": "stream",
     "text": [
      "Writing data to /Users/fionaspuler/Desktop/ECMWF/code_and_data/testing_data_august/era5_daily_mean_2m_temperature_1982_09.nc\n"
     ]
    },
    {
     "name": "stderr",
     "output_type": "stream",
     "text": [
      "2022-08-18 21:52:59,039 INFO Request is running\n",
      "2022-08-18 21:54:13,498 INFO Request is completed\n",
      "2022-08-18 21:54:13,810 INFO Welcome to the CDS\n",
      "2022-08-18 21:54:13,811 INFO Sending request to https://cds.climate.copernicus.eu/api/v2/tasks/services/tool/toolbox/orchestrator/workflow/clientid-ef986b009fa64ac09d9dc2ca9744f5f4\n",
      "2022-08-18 21:54:13,906 INFO Request is queued\n"
     ]
    },
    {
     "name": "stdout",
     "output_type": "stream",
     "text": [
      "Writing data to /Users/fionaspuler/Desktop/ECMWF/code_and_data/testing_data_august/era5_daily_mean_2m_temperature_1982_10.nc\n"
     ]
    },
    {
     "name": "stderr",
     "output_type": "stream",
     "text": [
      "2022-08-18 21:54:14,971 INFO Request is running\n",
      "2022-08-18 21:55:29,440 INFO Request is completed\n",
      "2022-08-18 21:55:29,767 INFO Welcome to the CDS\n",
      "2022-08-18 21:55:29,768 INFO Sending request to https://cds.climate.copernicus.eu/api/v2/tasks/services/tool/toolbox/orchestrator/workflow/clientid-8f4303a14e4e446ea4bd07f7639b485d\n",
      "2022-08-18 21:55:29,874 INFO Request is queued\n"
     ]
    },
    {
     "name": "stdout",
     "output_type": "stream",
     "text": [
      "Writing data to /Users/fionaspuler/Desktop/ECMWF/code_and_data/testing_data_august/era5_daily_mean_2m_temperature_1982_11.nc\n"
     ]
    },
    {
     "name": "stderr",
     "output_type": "stream",
     "text": [
      "2022-08-18 21:55:30,942 INFO Request is running\n",
      "2022-08-18 21:56:45,427 INFO Request is completed\n",
      "2022-08-18 21:56:45,732 INFO Welcome to the CDS\n",
      "2022-08-18 21:56:45,733 INFO Sending request to https://cds.climate.copernicus.eu/api/v2/tasks/services/tool/toolbox/orchestrator/workflow/clientid-30218eb994e7496487bb5bb0f225fbb5\n",
      "2022-08-18 21:56:45,865 INFO Request is queued\n"
     ]
    },
    {
     "name": "stdout",
     "output_type": "stream",
     "text": [
      "Writing data to /Users/fionaspuler/Desktop/ECMWF/code_and_data/testing_data_august/era5_daily_mean_2m_temperature_1982_12.nc\n"
     ]
    },
    {
     "name": "stderr",
     "output_type": "stream",
     "text": [
      "2022-08-18 21:56:46,933 INFO Request is running\n",
      "2022-08-18 21:58:01,396 INFO Request is completed\n",
      "2022-08-18 21:58:01,755 INFO Welcome to the CDS\n",
      "2022-08-18 21:58:01,756 INFO Sending request to https://cds.climate.copernicus.eu/api/v2/tasks/services/tool/toolbox/orchestrator/workflow/clientid-02f4e36aa36745f39babc8bb7bd46fcb\n",
      "2022-08-18 21:58:01,834 INFO Request is queued\n"
     ]
    },
    {
     "name": "stdout",
     "output_type": "stream",
     "text": [
      "Writing data to /Users/fionaspuler/Desktop/ECMWF/code_and_data/testing_data_august/era5_daily_mean_2m_temperature_1983_01.nc\n"
     ]
    },
    {
     "name": "stderr",
     "output_type": "stream",
     "text": [
      "2022-08-18 21:58:02,901 INFO Request is running\n",
      "2022-08-18 21:59:55,932 INFO Request is completed\n",
      "2022-08-18 21:59:56,262 INFO Welcome to the CDS\n",
      "2022-08-18 21:59:56,263 INFO Sending request to https://cds.climate.copernicus.eu/api/v2/tasks/services/tool/toolbox/orchestrator/workflow/clientid-068b9d3582634e61a7cd07280c8932b1\n",
      "2022-08-18 21:59:56,335 INFO Request is queued\n"
     ]
    },
    {
     "name": "stdout",
     "output_type": "stream",
     "text": [
      "Writing data to /Users/fionaspuler/Desktop/ECMWF/code_and_data/testing_data_august/era5_daily_mean_2m_temperature_1983_02.nc\n"
     ]
    },
    {
     "name": "stderr",
     "output_type": "stream",
     "text": [
      "2022-08-18 21:59:57,403 INFO Request is running\n",
      "2022-08-18 22:01:12,011 INFO Request is completed\n",
      "2022-08-18 22:01:12,316 INFO Welcome to the CDS\n",
      "2022-08-18 22:01:12,318 INFO Sending request to https://cds.climate.copernicus.eu/api/v2/tasks/services/tool/toolbox/orchestrator/workflow/clientid-99213499f40b4510bf251e19104a3653\n",
      "2022-08-18 22:01:12,405 INFO Request is queued\n"
     ]
    },
    {
     "name": "stdout",
     "output_type": "stream",
     "text": [
      "Writing data to /Users/fionaspuler/Desktop/ECMWF/code_and_data/testing_data_august/era5_daily_mean_2m_temperature_1983_03.nc\n"
     ]
    },
    {
     "name": "stderr",
     "output_type": "stream",
     "text": [
      "2022-08-18 22:01:13,472 INFO Request is running\n",
      "2022-08-18 22:02:27,893 INFO Request is completed\n",
      "2022-08-18 22:02:28,297 INFO Welcome to the CDS\n",
      "2022-08-18 22:02:28,298 INFO Sending request to https://cds.climate.copernicus.eu/api/v2/tasks/services/tool/toolbox/orchestrator/workflow/clientid-5ac2ea1ccb5e4f6eac02904397ccd3ec\n",
      "2022-08-18 22:02:28,364 INFO Request is queued\n"
     ]
    },
    {
     "name": "stdout",
     "output_type": "stream",
     "text": [
      "Writing data to /Users/fionaspuler/Desktop/ECMWF/code_and_data/testing_data_august/era5_daily_mean_2m_temperature_1983_04.nc\n"
     ]
    },
    {
     "name": "stderr",
     "output_type": "stream",
     "text": [
      "2022-08-18 22:02:29,432 INFO Request is running\n",
      "2022-08-18 22:03:43,854 INFO Request is completed\n",
      "2022-08-18 22:03:44,237 INFO Welcome to the CDS\n",
      "2022-08-18 22:03:44,238 INFO Sending request to https://cds.climate.copernicus.eu/api/v2/tasks/services/tool/toolbox/orchestrator/workflow/clientid-eb74b71c41aa4fb0af2762d90e981d14\n"
     ]
    },
    {
     "name": "stdout",
     "output_type": "stream",
     "text": [
      "Writing data to /Users/fionaspuler/Desktop/ECMWF/code_and_data/testing_data_august/era5_daily_mean_2m_temperature_1983_05.nc\n"
     ]
    },
    {
     "name": "stderr",
     "output_type": "stream",
     "text": [
      "2022-08-18 22:03:44,328 INFO Request is queued\n",
      "2022-08-18 22:03:45,401 INFO Request is running\n",
      "2022-08-18 22:04:34,119 INFO Request is completed\n",
      "2022-08-18 22:04:34,479 INFO Welcome to the CDS\n",
      "2022-08-18 22:04:34,481 INFO Sending request to https://cds.climate.copernicus.eu/api/v2/tasks/services/tool/toolbox/orchestrator/workflow/clientid-1cb8484504a249aa957776630cdc76e5\n",
      "2022-08-18 22:04:34,579 INFO Request is queued\n"
     ]
    },
    {
     "name": "stdout",
     "output_type": "stream",
     "text": [
      "Writing data to /Users/fionaspuler/Desktop/ECMWF/code_and_data/testing_data_august/era5_daily_mean_2m_temperature_1983_06.nc\n"
     ]
    },
    {
     "name": "stderr",
     "output_type": "stream",
     "text": [
      "2022-08-18 22:04:35,635 INFO Request is running\n",
      "2022-08-18 22:05:24,377 INFO Request is completed\n",
      "2022-08-18 22:05:24,712 INFO Welcome to the CDS\n",
      "2022-08-18 22:05:24,713 INFO Sending request to https://cds.climate.copernicus.eu/api/v2/tasks/services/tool/toolbox/orchestrator/workflow/clientid-ea4bb0a8c4bd4ac9a02d82fdcc63b5b4\n",
      "2022-08-18 22:05:24,795 INFO Request is queued\n"
     ]
    },
    {
     "name": "stdout",
     "output_type": "stream",
     "text": [
      "Writing data to /Users/fionaspuler/Desktop/ECMWF/code_and_data/testing_data_august/era5_daily_mean_2m_temperature_1983_07.nc\n"
     ]
    },
    {
     "name": "stderr",
     "output_type": "stream",
     "text": [
      "2022-08-18 22:05:25,853 INFO Request is running\n",
      "2022-08-18 22:06:14,589 INFO Request is completed\n",
      "2022-08-18 22:06:14,915 INFO Welcome to the CDS\n",
      "2022-08-18 22:06:14,917 INFO Sending request to https://cds.climate.copernicus.eu/api/v2/tasks/services/tool/toolbox/orchestrator/workflow/clientid-06db268f3aab44caaaea699b50b2b580\n",
      "2022-08-18 22:06:14,982 INFO Request is queued\n"
     ]
    },
    {
     "name": "stdout",
     "output_type": "stream",
     "text": [
      "Writing data to /Users/fionaspuler/Desktop/ECMWF/code_and_data/testing_data_august/era5_daily_mean_2m_temperature_1983_08.nc\n"
     ]
    },
    {
     "name": "stderr",
     "output_type": "stream",
     "text": [
      "2022-08-18 22:06:16,061 INFO Request is running\n",
      "2022-08-18 22:07:04,785 INFO Request is completed\n",
      "2022-08-18 22:07:05,129 INFO Welcome to the CDS\n",
      "2022-08-18 22:07:05,130 INFO Sending request to https://cds.climate.copernicus.eu/api/v2/tasks/services/tool/toolbox/orchestrator/workflow/clientid-eb9d40ec63d745209ed2c91a620ec49e\n",
      "2022-08-18 22:07:05,224 INFO Request is queued\n"
     ]
    },
    {
     "name": "stdout",
     "output_type": "stream",
     "text": [
      "Writing data to /Users/fionaspuler/Desktop/ECMWF/code_and_data/testing_data_august/era5_daily_mean_2m_temperature_1983_09.nc\n"
     ]
    },
    {
     "name": "stderr",
     "output_type": "stream",
     "text": [
      "2022-08-18 22:07:06,292 INFO Request is running\n",
      "2022-08-18 22:08:20,740 INFO Request is completed\n",
      "2022-08-18 22:08:21,096 INFO Welcome to the CDS\n",
      "2022-08-18 22:08:21,097 INFO Sending request to https://cds.climate.copernicus.eu/api/v2/tasks/services/tool/toolbox/orchestrator/workflow/clientid-5dcf16aaba474289bea4b8c1d83a42f6\n",
      "2022-08-18 22:08:21,172 INFO Request is queued\n"
     ]
    },
    {
     "name": "stdout",
     "output_type": "stream",
     "text": [
      "Writing data to /Users/fionaspuler/Desktop/ECMWF/code_and_data/testing_data_august/era5_daily_mean_2m_temperature_1983_10.nc\n"
     ]
    },
    {
     "name": "stderr",
     "output_type": "stream",
     "text": [
      "2022-08-18 22:08:22,233 INFO Request is running\n",
      "2022-08-18 22:09:10,998 INFO Request is completed\n",
      "2022-08-18 22:09:11,348 INFO Welcome to the CDS\n",
      "2022-08-18 22:09:11,348 INFO Sending request to https://cds.climate.copernicus.eu/api/v2/tasks/services/tool/toolbox/orchestrator/workflow/clientid-6f3b877e7f304128a5cfee8e1df408e0\n"
     ]
    },
    {
     "name": "stdout",
     "output_type": "stream",
     "text": [
      "Writing data to /Users/fionaspuler/Desktop/ECMWF/code_and_data/testing_data_august/era5_daily_mean_2m_temperature_1983_11.nc\n"
     ]
    },
    {
     "name": "stderr",
     "output_type": "stream",
     "text": [
      "2022-08-18 22:09:11,477 INFO Request is queued\n",
      "2022-08-18 22:09:12,550 INFO Request is running\n",
      "2022-08-18 22:10:26,998 INFO Request is completed\n",
      "2022-08-18 22:10:27,370 INFO Welcome to the CDS\n",
      "2022-08-18 22:10:27,371 INFO Sending request to https://cds.climate.copernicus.eu/api/v2/tasks/services/tool/toolbox/orchestrator/workflow/clientid-4bf16189ffa2422c9c2061f0609ca4d5\n"
     ]
    },
    {
     "name": "stdout",
     "output_type": "stream",
     "text": [
      "Writing data to /Users/fionaspuler/Desktop/ECMWF/code_and_data/testing_data_august/era5_daily_mean_2m_temperature_1983_12.nc\n"
     ]
    },
    {
     "name": "stderr",
     "output_type": "stream",
     "text": [
      "2022-08-18 22:10:27,644 INFO Request is queued\n",
      "2022-08-18 22:10:28,715 INFO Request is running\n",
      "2022-08-18 22:11:17,485 INFO Request is completed\n",
      "2022-08-18 22:11:17,813 INFO Welcome to the CDS\n",
      "2022-08-18 22:11:17,814 INFO Sending request to https://cds.climate.copernicus.eu/api/v2/tasks/services/tool/toolbox/orchestrator/workflow/clientid-a3af869ebd744f859c9963992ebd6f8f\n",
      "2022-08-18 22:11:17,879 INFO Request is queued\n"
     ]
    },
    {
     "name": "stdout",
     "output_type": "stream",
     "text": [
      "Writing data to /Users/fionaspuler/Desktop/ECMWF/code_and_data/testing_data_august/era5_daily_mean_2m_temperature_1984_01.nc\n"
     ]
    },
    {
     "name": "stderr",
     "output_type": "stream",
     "text": [
      "2022-08-18 22:11:18,948 INFO Request is running\n",
      "2022-08-18 22:12:07,756 INFO Request is completed\n",
      "2022-08-18 22:12:08,096 INFO Welcome to the CDS\n",
      "2022-08-18 22:12:08,097 INFO Sending request to https://cds.climate.copernicus.eu/api/v2/tasks/services/tool/toolbox/orchestrator/workflow/clientid-ba3600e011c24803918dabec7453f10a\n",
      "2022-08-18 22:12:08,184 INFO Request is queued\n"
     ]
    },
    {
     "name": "stdout",
     "output_type": "stream",
     "text": [
      "Writing data to /Users/fionaspuler/Desktop/ECMWF/code_and_data/testing_data_august/era5_daily_mean_2m_temperature_1984_02.nc\n"
     ]
    },
    {
     "name": "stderr",
     "output_type": "stream",
     "text": [
      "2022-08-18 22:12:09,257 INFO Request is running\n",
      "2022-08-18 22:12:58,068 INFO Request is completed\n",
      "2022-08-18 22:12:58,398 INFO Welcome to the CDS\n",
      "2022-08-18 22:12:58,399 INFO Sending request to https://cds.climate.copernicus.eu/api/v2/tasks/services/tool/toolbox/orchestrator/workflow/clientid-f8e8cdff3d4f4872816986a43d36eb07\n",
      "2022-08-18 22:12:58,510 INFO Request is queued\n"
     ]
    },
    {
     "name": "stdout",
     "output_type": "stream",
     "text": [
      "Writing data to /Users/fionaspuler/Desktop/ECMWF/code_and_data/testing_data_august/era5_daily_mean_2m_temperature_1984_03.nc\n"
     ]
    },
    {
     "name": "stderr",
     "output_type": "stream",
     "text": [
      "2022-08-18 22:12:59,583 INFO Request is running\n",
      "2022-08-18 22:13:48,388 INFO Request is completed\n",
      "2022-08-18 22:13:48,723 INFO Welcome to the CDS\n",
      "2022-08-18 22:13:48,725 INFO Sending request to https://cds.climate.copernicus.eu/api/v2/tasks/services/tool/toolbox/orchestrator/workflow/clientid-29999eb8aa984baabfc8a2e35e068f69\n",
      "2022-08-18 22:13:48,817 INFO Request is queued\n"
     ]
    },
    {
     "name": "stdout",
     "output_type": "stream",
     "text": [
      "Writing data to /Users/fionaspuler/Desktop/ECMWF/code_and_data/testing_data_august/era5_daily_mean_2m_temperature_1984_04.nc\n"
     ]
    },
    {
     "name": "stderr",
     "output_type": "stream",
     "text": [
      "2022-08-18 22:13:51,464 INFO Request is running\n",
      "2022-08-18 22:14:38,693 INFO Request is completed\n",
      "2022-08-18 22:14:39,033 INFO Welcome to the CDS\n",
      "2022-08-18 22:14:39,035 INFO Sending request to https://cds.climate.copernicus.eu/api/v2/tasks/services/tool/toolbox/orchestrator/workflow/clientid-6179d7b6f18048b595452de150e41c3a\n",
      "2022-08-18 22:14:39,109 INFO Request is queued\n"
     ]
    },
    {
     "name": "stdout",
     "output_type": "stream",
     "text": [
      "Writing data to /Users/fionaspuler/Desktop/ECMWF/code_and_data/testing_data_august/era5_daily_mean_2m_temperature_1984_05.nc\n"
     ]
    },
    {
     "name": "stderr",
     "output_type": "stream",
     "text": [
      "2022-08-18 22:14:40,196 INFO Request is running\n",
      "2022-08-18 22:15:29,176 INFO Request is completed\n",
      "2022-08-18 22:15:29,499 INFO Welcome to the CDS\n",
      "2022-08-18 22:15:29,499 INFO Sending request to https://cds.climate.copernicus.eu/api/v2/tasks/services/tool/toolbox/orchestrator/workflow/clientid-cba1b40422444043b3d536fcc3ea4ad6\n"
     ]
    },
    {
     "name": "stdout",
     "output_type": "stream",
     "text": [
      "Writing data to /Users/fionaspuler/Desktop/ECMWF/code_and_data/testing_data_august/era5_daily_mean_2m_temperature_1984_06.nc\n"
     ]
    },
    {
     "name": "stderr",
     "output_type": "stream",
     "text": [
      "2022-08-18 22:15:29,685 INFO Request is queued\n",
      "2022-08-18 22:15:30,755 INFO Request is running\n",
      "2022-08-18 22:16:45,283 INFO Request is completed\n",
      "2022-08-18 22:16:45,613 INFO Welcome to the CDS\n",
      "2022-08-18 22:16:45,614 INFO Sending request to https://cds.climate.copernicus.eu/api/v2/tasks/services/tool/toolbox/orchestrator/workflow/clientid-c47b1ee5091943b0b4dc3194ef8fb19d\n",
      "2022-08-18 22:16:45,696 INFO Request is queued\n"
     ]
    },
    {
     "name": "stdout",
     "output_type": "stream",
     "text": [
      "Writing data to /Users/fionaspuler/Desktop/ECMWF/code_and_data/testing_data_august/era5_daily_mean_2m_temperature_1984_07.nc\n"
     ]
    },
    {
     "name": "stderr",
     "output_type": "stream",
     "text": [
      "2022-08-18 22:16:46,765 INFO Request is running\n",
      "2022-08-18 22:17:35,596 INFO Request is completed\n",
      "2022-08-18 22:17:35,942 INFO Welcome to the CDS\n",
      "2022-08-18 22:17:35,943 INFO Sending request to https://cds.climate.copernicus.eu/api/v2/tasks/services/tool/toolbox/orchestrator/workflow/clientid-1a92b37762ed40aab0e43c91c80300fb\n",
      "2022-08-18 22:17:36,024 INFO Request is queued\n"
     ]
    },
    {
     "name": "stdout",
     "output_type": "stream",
     "text": [
      "Writing data to /Users/fionaspuler/Desktop/ECMWF/code_and_data/testing_data_august/era5_daily_mean_2m_temperature_1984_08.nc\n"
     ]
    },
    {
     "name": "stderr",
     "output_type": "stream",
     "text": [
      "2022-08-18 22:17:37,098 INFO Request is running\n",
      "2022-08-18 22:18:27,075 INFO Request is completed\n",
      "2022-08-18 22:18:27,440 INFO Welcome to the CDS\n",
      "2022-08-18 22:18:27,441 INFO Sending request to https://cds.climate.copernicus.eu/api/v2/tasks/services/tool/toolbox/orchestrator/workflow/clientid-ca06fe8d21b043bbb8a6b358b42c5024\n"
     ]
    },
    {
     "name": "stdout",
     "output_type": "stream",
     "text": [
      "Writing data to /Users/fionaspuler/Desktop/ECMWF/code_and_data/testing_data_august/era5_daily_mean_2m_temperature_1984_09.nc\n"
     ]
    },
    {
     "name": "stderr",
     "output_type": "stream",
     "text": [
      "2022-08-18 22:18:27,619 INFO Request is queued\n",
      "2022-08-18 22:18:28,686 INFO Request is running\n",
      "2022-08-18 22:19:17,475 INFO Request is completed\n"
     ]
    },
    {
     "name": "stdout",
     "output_type": "stream",
     "text": [
      "Writing data to /Users/fionaspuler/Desktop/ECMWF/code_and_data/testing_data_august/era5_daily_mean_2m_temperature_1984_10.nc\n"
     ]
    },
    {
     "name": "stderr",
     "output_type": "stream",
     "text": [
      "2022-08-18 22:19:18,071 INFO Welcome to the CDS\n",
      "2022-08-18 22:19:18,118 INFO Sending request to https://cds.climate.copernicus.eu/api/v2/tasks/services/tool/toolbox/orchestrator/workflow/clientid-5c8402e46d5a4689afd508b80aa63a6d\n",
      "2022-08-18 22:19:18,203 INFO Request is queued\n",
      "2022-08-18 22:19:19,260 INFO Request is running\n",
      "2022-08-18 22:20:08,003 INFO Request is completed\n",
      "2022-08-18 22:20:08,388 INFO Welcome to the CDS\n",
      "2022-08-18 22:20:08,389 INFO Sending request to https://cds.climate.copernicus.eu/api/v2/tasks/services/tool/toolbox/orchestrator/workflow/clientid-8267d663b62846c097be544605bbd25c\n",
      "2022-08-18 22:20:08,475 INFO Request is queued\n"
     ]
    },
    {
     "name": "stdout",
     "output_type": "stream",
     "text": [
      "Writing data to /Users/fionaspuler/Desktop/ECMWF/code_and_data/testing_data_august/era5_daily_mean_2m_temperature_1984_11.nc\n"
     ]
    },
    {
     "name": "stderr",
     "output_type": "stream",
     "text": [
      "2022-08-18 22:20:09,540 INFO Request is running\n",
      "2022-08-18 22:21:24,018 INFO Request is completed\n",
      "2022-08-18 22:21:24,380 INFO Welcome to the CDS\n",
      "2022-08-18 22:21:24,382 INFO Sending request to https://cds.climate.copernicus.eu/api/v2/tasks/services/tool/toolbox/orchestrator/workflow/clientid-12bb6a0cbd1c44e29978095a3e17c5e5\n",
      "2022-08-18 22:21:24,448 INFO Request is queued\n"
     ]
    },
    {
     "name": "stdout",
     "output_type": "stream",
     "text": [
      "Writing data to /Users/fionaspuler/Desktop/ECMWF/code_and_data/testing_data_august/era5_daily_mean_2m_temperature_1984_12.nc\n"
     ]
    },
    {
     "name": "stderr",
     "output_type": "stream",
     "text": [
      "2022-08-18 22:21:25,515 INFO Request is running\n",
      "2022-08-18 22:22:39,955 INFO Request is completed\n",
      "2022-08-18 22:22:40,314 INFO Welcome to the CDS\n",
      "2022-08-18 22:22:40,316 INFO Sending request to https://cds.climate.copernicus.eu/api/v2/tasks/services/tool/toolbox/orchestrator/workflow/clientid-583cdb86d0ed4ebb9d087ba5607221cc\n",
      "2022-08-18 22:22:40,409 INFO Request is queued\n"
     ]
    },
    {
     "name": "stdout",
     "output_type": "stream",
     "text": [
      "Writing data to /Users/fionaspuler/Desktop/ECMWF/code_and_data/testing_data_august/era5_daily_mean_2m_temperature_1985_01.nc\n"
     ]
    },
    {
     "name": "stderr",
     "output_type": "stream",
     "text": [
      "2022-08-18 22:22:41,472 INFO Request is running\n",
      "2022-08-18 22:23:30,223 INFO Request is completed\n",
      "2022-08-18 22:23:30,606 INFO Welcome to the CDS\n",
      "2022-08-18 22:23:30,607 INFO Sending request to https://cds.climate.copernicus.eu/api/v2/tasks/services/tool/toolbox/orchestrator/workflow/clientid-354205acaaac4f60ad518c69a1370a08\n"
     ]
    },
    {
     "name": "stdout",
     "output_type": "stream",
     "text": [
      "Writing data to /Users/fionaspuler/Desktop/ECMWF/code_and_data/testing_data_august/era5_daily_mean_2m_temperature_1985_02.nc\n"
     ]
    },
    {
     "name": "stderr",
     "output_type": "stream",
     "text": [
      "2022-08-18 22:23:30,694 INFO Request is queued\n",
      "2022-08-18 22:23:31,760 INFO Request is running\n",
      "2022-08-18 22:24:46,203 INFO Request is completed\n",
      "2022-08-18 22:24:46,534 INFO Welcome to the CDS\n",
      "2022-08-18 22:24:46,540 INFO Sending request to https://cds.climate.copernicus.eu/api/v2/tasks/services/tool/toolbox/orchestrator/workflow/clientid-791fbfc408c74f879d98b59f27ec026e\n",
      "2022-08-18 22:24:46,612 INFO Request is queued\n"
     ]
    },
    {
     "name": "stdout",
     "output_type": "stream",
     "text": [
      "Writing data to /Users/fionaspuler/Desktop/ECMWF/code_and_data/testing_data_august/era5_daily_mean_2m_temperature_1985_03.nc\n"
     ]
    },
    {
     "name": "stderr",
     "output_type": "stream",
     "text": [
      "2022-08-18 22:24:47,679 INFO Request is running\n",
      "2022-08-18 22:25:36,434 INFO Request is completed\n",
      "2022-08-18 22:25:36,764 INFO Welcome to the CDS\n",
      "2022-08-18 22:25:36,766 INFO Sending request to https://cds.climate.copernicus.eu/api/v2/tasks/services/tool/toolbox/orchestrator/workflow/clientid-4718f31758694bd9a0c9a5a7007b6a79\n",
      "2022-08-18 22:25:36,839 INFO Request is queued\n"
     ]
    },
    {
     "name": "stdout",
     "output_type": "stream",
     "text": [
      "Writing data to /Users/fionaspuler/Desktop/ECMWF/code_and_data/testing_data_august/era5_daily_mean_2m_temperature_1985_04.nc\n"
     ]
    },
    {
     "name": "stderr",
     "output_type": "stream",
     "text": [
      "2022-08-18 22:25:37,911 INFO Request is running\n",
      "2022-08-18 22:26:26,669 INFO Request is completed\n",
      "2022-08-18 22:26:27,009 INFO Welcome to the CDS\n",
      "2022-08-18 22:26:27,010 INFO Sending request to https://cds.climate.copernicus.eu/api/v2/tasks/services/tool/toolbox/orchestrator/workflow/clientid-2182ba68830d4710a509f463e2f4505c\n",
      "2022-08-18 22:26:27,087 INFO Request is queued\n"
     ]
    },
    {
     "name": "stdout",
     "output_type": "stream",
     "text": [
      "Writing data to /Users/fionaspuler/Desktop/ECMWF/code_and_data/testing_data_august/era5_daily_mean_2m_temperature_1985_05.nc\n"
     ]
    },
    {
     "name": "stderr",
     "output_type": "stream",
     "text": [
      "2022-08-18 22:26:28,147 INFO Request is running\n",
      "2022-08-18 22:27:16,882 INFO Request is completed\n",
      "2022-08-18 22:27:17,201 INFO Welcome to the CDS\n",
      "2022-08-18 22:27:17,202 INFO Sending request to https://cds.climate.copernicus.eu/api/v2/tasks/services/tool/toolbox/orchestrator/workflow/clientid-33d5c9bc0e5e4480bc69dbbca09a1400\n",
      "2022-08-18 22:27:17,271 INFO Request is queued\n"
     ]
    },
    {
     "name": "stdout",
     "output_type": "stream",
     "text": [
      "Writing data to /Users/fionaspuler/Desktop/ECMWF/code_and_data/testing_data_august/era5_daily_mean_2m_temperature_1985_06.nc\n"
     ]
    },
    {
     "name": "stderr",
     "output_type": "stream",
     "text": [
      "2022-08-18 22:27:18,338 INFO Request is running\n",
      "2022-08-18 22:28:07,068 INFO Request is completed\n",
      "2022-08-18 22:28:07,438 INFO Welcome to the CDS\n",
      "2022-08-18 22:28:07,438 INFO Sending request to https://cds.climate.copernicus.eu/api/v2/tasks/services/tool/toolbox/orchestrator/workflow/clientid-cafe599c5add4dc29971937523d41b87\n"
     ]
    },
    {
     "name": "stdout",
     "output_type": "stream",
     "text": [
      "Writing data to /Users/fionaspuler/Desktop/ECMWF/code_and_data/testing_data_august/era5_daily_mean_2m_temperature_1985_07.nc\n"
     ]
    },
    {
     "name": "stderr",
     "output_type": "stream",
     "text": [
      "2022-08-18 22:28:07,546 INFO Request is queued\n",
      "2022-08-18 22:28:08,613 INFO Request is running\n",
      "2022-08-18 22:29:23,278 INFO Request is completed\n",
      "2022-08-18 22:29:23,686 INFO Welcome to the CDS\n",
      "2022-08-18 22:29:23,687 INFO Sending request to https://cds.climate.copernicus.eu/api/v2/tasks/services/tool/toolbox/orchestrator/workflow/clientid-68f08a4e68df472cb11f6559f9fcce14\n"
     ]
    },
    {
     "name": "stdout",
     "output_type": "stream",
     "text": [
      "Writing data to /Users/fionaspuler/Desktop/ECMWF/code_and_data/testing_data_august/era5_daily_mean_2m_temperature_1985_08.nc\n"
     ]
    },
    {
     "name": "stderr",
     "output_type": "stream",
     "text": [
      "2022-08-18 22:29:23,787 INFO Request is queued\n",
      "2022-08-18 22:29:24,853 INFO Request is running\n",
      "2022-08-18 22:30:13,612 INFO Request is completed\n",
      "2022-08-18 22:30:13,972 INFO Welcome to the CDS\n",
      "2022-08-18 22:30:13,972 INFO Sending request to https://cds.climate.copernicus.eu/api/v2/tasks/services/tool/toolbox/orchestrator/workflow/clientid-8a9b8fd7e3b442d486a69f4edd50d13f\n",
      "2022-08-18 22:30:14,040 INFO Request is queued\n"
     ]
    },
    {
     "name": "stdout",
     "output_type": "stream",
     "text": [
      "Writing data to /Users/fionaspuler/Desktop/ECMWF/code_and_data/testing_data_august/era5_daily_mean_2m_temperature_1985_09.nc\n"
     ]
    },
    {
     "name": "stderr",
     "output_type": "stream",
     "text": [
      "2022-08-18 22:30:15,101 INFO Request is running\n",
      "2022-08-18 22:31:29,566 INFO Request is completed\n",
      "2022-08-18 22:31:29,954 INFO Welcome to the CDS\n",
      "2022-08-18 22:31:29,955 INFO Sending request to https://cds.climate.copernicus.eu/api/v2/tasks/services/tool/toolbox/orchestrator/workflow/clientid-d9b8b0f2167344acb2dc76d9758c4cc6\n"
     ]
    },
    {
     "name": "stdout",
     "output_type": "stream",
     "text": [
      "Writing data to /Users/fionaspuler/Desktop/ECMWF/code_and_data/testing_data_august/era5_daily_mean_2m_temperature_1985_10.nc\n"
     ]
    },
    {
     "name": "stderr",
     "output_type": "stream",
     "text": [
      "2022-08-18 22:31:30,093 INFO Request is queued\n",
      "2022-08-18 22:31:31,148 INFO Request is running\n",
      "2022-08-18 22:32:19,944 INFO Request is completed\n",
      "2022-08-18 22:32:20,254 INFO Welcome to the CDS\n",
      "2022-08-18 22:32:20,255 INFO Sending request to https://cds.climate.copernicus.eu/api/v2/tasks/services/tool/toolbox/orchestrator/workflow/clientid-447cba1be30d42e7b81fbd0c965ea9a9\n"
     ]
    },
    {
     "name": "stdout",
     "output_type": "stream",
     "text": [
      "Writing data to /Users/fionaspuler/Desktop/ECMWF/code_and_data/testing_data_august/era5_daily_mean_2m_temperature_1985_11.nc\n"
     ]
    },
    {
     "name": "stderr",
     "output_type": "stream",
     "text": [
      "2022-08-18 22:32:20,687 INFO Request is queued\n",
      "2022-08-18 22:32:21,758 INFO Request is running\n",
      "2022-08-18 22:33:36,243 INFO Request is completed\n",
      "2022-08-18 22:33:36,636 INFO Welcome to the CDS\n",
      "2022-08-18 22:33:36,638 INFO Sending request to https://cds.climate.copernicus.eu/api/v2/tasks/services/tool/toolbox/orchestrator/workflow/clientid-b78f2ab22fbc4c7198aec797e52ac657\n"
     ]
    },
    {
     "name": "stdout",
     "output_type": "stream",
     "text": [
      "Writing data to /Users/fionaspuler/Desktop/ECMWF/code_and_data/testing_data_august/era5_daily_mean_2m_temperature_1985_12.nc\n"
     ]
    },
    {
     "name": "stderr",
     "output_type": "stream",
     "text": [
      "2022-08-18 22:33:36,748 INFO Request is queued\n",
      "2022-08-18 22:33:37,824 INFO Request is running\n",
      "2022-08-18 22:34:26,592 INFO Request is completed\n",
      "2022-08-18 22:34:26,919 INFO Welcome to the CDS\n",
      "2022-08-18 22:34:26,921 INFO Sending request to https://cds.climate.copernicus.eu/api/v2/tasks/services/tool/toolbox/orchestrator/workflow/clientid-83560f3ac0bb448b9d8db5b57b47521d\n",
      "2022-08-18 22:34:27,023 INFO Request is queued\n"
     ]
    },
    {
     "name": "stdout",
     "output_type": "stream",
     "text": [
      "Writing data to /Users/fionaspuler/Desktop/ECMWF/code_and_data/testing_data_august/era5_daily_mean_2m_temperature_1986_01.nc\n"
     ]
    },
    {
     "name": "stderr",
     "output_type": "stream",
     "text": [
      "2022-08-18 22:34:28,089 INFO Request is running\n",
      "2022-08-18 22:35:16,867 INFO Request is completed\n",
      "2022-08-18 22:35:17,202 INFO Welcome to the CDS\n",
      "2022-08-18 22:35:17,203 INFO Sending request to https://cds.climate.copernicus.eu/api/v2/tasks/services/tool/toolbox/orchestrator/workflow/clientid-80424af376be46adb1c410e0fd6bbfe5\n",
      "2022-08-18 22:35:17,306 INFO Request is queued\n"
     ]
    },
    {
     "name": "stdout",
     "output_type": "stream",
     "text": [
      "Writing data to /Users/fionaspuler/Desktop/ECMWF/code_and_data/testing_data_august/era5_daily_mean_2m_temperature_1986_02.nc\n"
     ]
    },
    {
     "name": "stderr",
     "output_type": "stream",
     "text": [
      "2022-08-18 22:35:18,368 INFO Request is running\n",
      "2022-08-18 22:36:32,819 INFO Request is completed\n",
      "2022-08-18 22:36:33,153 INFO Welcome to the CDS\n",
      "2022-08-18 22:36:33,154 INFO Sending request to https://cds.climate.copernicus.eu/api/v2/tasks/services/tool/toolbox/orchestrator/workflow/clientid-182a424df2dd48baa2bcce833b226546\n",
      "2022-08-18 22:36:33,235 INFO Request is queued\n"
     ]
    },
    {
     "name": "stdout",
     "output_type": "stream",
     "text": [
      "Writing data to /Users/fionaspuler/Desktop/ECMWF/code_and_data/testing_data_august/era5_daily_mean_2m_temperature_1986_03.nc\n"
     ]
    },
    {
     "name": "stderr",
     "output_type": "stream",
     "text": [
      "2022-08-18 22:36:34,293 INFO Request is running\n",
      "2022-08-18 22:37:49,184 INFO Request is completed\n",
      "2022-08-18 22:37:49,589 INFO Welcome to the CDS\n",
      "2022-08-18 22:37:49,590 INFO Sending request to https://cds.climate.copernicus.eu/api/v2/tasks/services/tool/toolbox/orchestrator/workflow/clientid-057ae95a3fa847159e656b5e0b671172\n",
      "2022-08-18 22:37:49,659 INFO Request is queued\n"
     ]
    },
    {
     "name": "stdout",
     "output_type": "stream",
     "text": [
      "Writing data to /Users/fionaspuler/Desktop/ECMWF/code_and_data/testing_data_august/era5_daily_mean_2m_temperature_1986_04.nc\n"
     ]
    },
    {
     "name": "stderr",
     "output_type": "stream",
     "text": [
      "2022-08-18 22:37:50,721 INFO Request is running\n",
      "2022-08-18 22:39:05,164 INFO Request is completed\n",
      "2022-08-18 22:39:05,519 INFO Welcome to the CDS\n",
      "2022-08-18 22:39:05,520 INFO Sending request to https://cds.climate.copernicus.eu/api/v2/tasks/services/tool/toolbox/orchestrator/workflow/clientid-7013cff1c7304646a3611718dd0e5847\n"
     ]
    },
    {
     "name": "stdout",
     "output_type": "stream",
     "text": [
      "Writing data to /Users/fionaspuler/Desktop/ECMWF/code_and_data/testing_data_august/era5_daily_mean_2m_temperature_1986_05.nc\n"
     ]
    },
    {
     "name": "stderr",
     "output_type": "stream",
     "text": [
      "2022-08-18 22:39:05,782 INFO Request is queued\n",
      "2022-08-18 22:39:06,846 INFO Request is running\n",
      "2022-08-18 22:40:21,336 INFO Request is completed\n",
      "2022-08-18 22:40:21,696 INFO Welcome to the CDS\n",
      "2022-08-18 22:40:21,697 INFO Sending request to https://cds.climate.copernicus.eu/api/v2/tasks/services/tool/toolbox/orchestrator/workflow/clientid-e27c827181c54599b8e12fd676647e63\n",
      "2022-08-18 22:40:21,769 INFO Request is queued\n"
     ]
    },
    {
     "name": "stdout",
     "output_type": "stream",
     "text": [
      "Writing data to /Users/fionaspuler/Desktop/ECMWF/code_and_data/testing_data_august/era5_daily_mean_2m_temperature_1986_06.nc\n"
     ]
    },
    {
     "name": "stderr",
     "output_type": "stream",
     "text": [
      "2022-08-18 22:40:22,834 INFO Request is running\n",
      "2022-08-18 22:41:37,321 INFO Request is completed\n",
      "2022-08-18 22:41:37,706 INFO Welcome to the CDS\n",
      "2022-08-18 22:41:37,706 INFO Sending request to https://cds.climate.copernicus.eu/api/v2/tasks/services/tool/toolbox/orchestrator/workflow/clientid-dc8c427c74fa45df997e8937aacf3c44\n"
     ]
    },
    {
     "name": "stdout",
     "output_type": "stream",
     "text": [
      "Writing data to /Users/fionaspuler/Desktop/ECMWF/code_and_data/testing_data_august/era5_daily_mean_2m_temperature_1986_07.nc\n"
     ]
    },
    {
     "name": "stderr",
     "output_type": "stream",
     "text": [
      "2022-08-18 22:41:37,797 INFO Request is queued\n",
      "2022-08-18 22:41:38,872 INFO Request is running\n",
      "2022-08-18 22:42:53,558 INFO Request is completed\n",
      "2022-08-18 22:42:53,927 INFO Welcome to the CDS\n",
      "2022-08-18 22:42:53,928 INFO Sending request to https://cds.climate.copernicus.eu/api/v2/tasks/services/tool/toolbox/orchestrator/workflow/clientid-a1d8bafdec684c7781e867ae1a08b357\n"
     ]
    },
    {
     "name": "stdout",
     "output_type": "stream",
     "text": [
      "Writing data to /Users/fionaspuler/Desktop/ECMWF/code_and_data/testing_data_august/era5_daily_mean_2m_temperature_1986_08.nc\n"
     ]
    },
    {
     "name": "stderr",
     "output_type": "stream",
     "text": [
      "2022-08-18 22:42:54,024 INFO Request is queued\n",
      "2022-08-18 22:42:55,093 INFO Request is running\n",
      "2022-08-18 22:44:09,585 INFO Request is completed\n",
      "2022-08-18 22:44:10,103 INFO Welcome to the CDS\n",
      "2022-08-18 22:44:10,104 INFO Sending request to https://cds.climate.copernicus.eu/api/v2/tasks/services/tool/toolbox/orchestrator/workflow/clientid-71f964c3ae19415c9195f48a4e5c0350\n",
      "2022-08-18 22:44:10,174 INFO Request is queued\n"
     ]
    },
    {
     "name": "stdout",
     "output_type": "stream",
     "text": [
      "Writing data to /Users/fionaspuler/Desktop/ECMWF/code_and_data/testing_data_august/era5_daily_mean_2m_temperature_1986_09.nc\n"
     ]
    },
    {
     "name": "stderr",
     "output_type": "stream",
     "text": [
      "2022-08-18 22:44:11,254 INFO Request is running\n",
      "2022-08-18 22:45:25,732 INFO Request is completed\n",
      "2022-08-18 22:45:26,130 INFO Welcome to the CDS\n",
      "2022-08-18 22:45:26,131 INFO Sending request to https://cds.climate.copernicus.eu/api/v2/tasks/services/tool/toolbox/orchestrator/workflow/clientid-f500e4157cad4ab2a13c7ff655ef29a3\n"
     ]
    },
    {
     "name": "stdout",
     "output_type": "stream",
     "text": [
      "Writing data to /Users/fionaspuler/Desktop/ECMWF/code_and_data/testing_data_august/era5_daily_mean_2m_temperature_1986_10.nc\n"
     ]
    },
    {
     "name": "stderr",
     "output_type": "stream",
     "text": [
      "2022-08-18 22:45:26,292 INFO Request is queued\n",
      "2022-08-18 22:45:27,357 INFO Request is running\n",
      "2022-08-18 22:46:41,831 INFO Request is completed\n",
      "2022-08-18 22:46:42,248 INFO Welcome to the CDS\n",
      "2022-08-18 22:46:42,249 INFO Sending request to https://cds.climate.copernicus.eu/api/v2/tasks/services/tool/toolbox/orchestrator/workflow/clientid-ac0bd5c43b7643efb996229dd2e0cedf\n"
     ]
    },
    {
     "name": "stdout",
     "output_type": "stream",
     "text": [
      "Writing data to /Users/fionaspuler/Desktop/ECMWF/code_and_data/testing_data_august/era5_daily_mean_2m_temperature_1986_11.nc\n"
     ]
    },
    {
     "name": "stderr",
     "output_type": "stream",
     "text": [
      "2022-08-18 22:46:42,333 INFO Request is queued\n",
      "2022-08-18 22:46:43,549 INFO Request is running\n",
      "2022-08-18 22:47:58,052 INFO Request is completed\n",
      "2022-08-18 22:47:58,396 INFO Welcome to the CDS\n",
      "2022-08-18 22:47:58,396 INFO Sending request to https://cds.climate.copernicus.eu/api/v2/tasks/services/tool/toolbox/orchestrator/workflow/clientid-d15a56eb8f3d480f9c7d3cccbc3e6bca\n"
     ]
    },
    {
     "name": "stdout",
     "output_type": "stream",
     "text": [
      "Writing data to /Users/fionaspuler/Desktop/ECMWF/code_and_data/testing_data_august/era5_daily_mean_2m_temperature_1986_12.nc\n"
     ]
    },
    {
     "name": "stderr",
     "output_type": "stream",
     "text": [
      "2022-08-18 22:47:58,550 INFO Request is queued\n",
      "2022-08-18 22:47:59,618 INFO Request is running\n",
      "2022-08-18 22:49:14,097 INFO Request is completed\n",
      "2022-08-18 22:49:14,516 INFO Welcome to the CDS\n",
      "2022-08-18 22:49:14,517 INFO Sending request to https://cds.climate.copernicus.eu/api/v2/tasks/services/tool/toolbox/orchestrator/workflow/clientid-bb92873055c84086a500621e6690b637\n"
     ]
    },
    {
     "name": "stdout",
     "output_type": "stream",
     "text": [
      "Writing data to /Users/fionaspuler/Desktop/ECMWF/code_and_data/testing_data_august/era5_daily_mean_2m_temperature_1987_01.nc\n"
     ]
    },
    {
     "name": "stderr",
     "output_type": "stream",
     "text": [
      "2022-08-18 22:49:14,607 INFO Request is queued\n",
      "2022-08-18 22:49:15,678 INFO Request is running\n",
      "2022-08-18 22:50:30,185 INFO Request is completed\n",
      "2022-08-18 22:50:30,508 INFO Welcome to the CDS\n",
      "2022-08-18 22:50:30,511 INFO Sending request to https://cds.climate.copernicus.eu/api/v2/tasks/services/tool/toolbox/orchestrator/workflow/clientid-0fab1b1afd1444a781bab565babbaf65\n",
      "2022-08-18 22:50:30,598 INFO Request is queued\n"
     ]
    },
    {
     "name": "stdout",
     "output_type": "stream",
     "text": [
      "Writing data to /Users/fionaspuler/Desktop/ECMWF/code_and_data/testing_data_august/era5_daily_mean_2m_temperature_1987_02.nc\n"
     ]
    },
    {
     "name": "stderr",
     "output_type": "stream",
     "text": [
      "2022-08-18 22:50:31,849 INFO Request is running\n",
      "2022-08-18 22:51:46,361 INFO Request is completed\n",
      "2022-08-18 22:51:46,779 INFO Welcome to the CDS\n",
      "2022-08-18 22:51:46,781 INFO Sending request to https://cds.climate.copernicus.eu/api/v2/tasks/services/tool/toolbox/orchestrator/workflow/clientid-9d486f039a214ce5a3375008207d0933\n"
     ]
    },
    {
     "name": "stdout",
     "output_type": "stream",
     "text": [
      "Writing data to /Users/fionaspuler/Desktop/ECMWF/code_and_data/testing_data_august/era5_daily_mean_2m_temperature_1987_03.nc\n"
     ]
    },
    {
     "name": "stderr",
     "output_type": "stream",
     "text": [
      "2022-08-18 22:51:46,879 INFO Request is queued\n",
      "2022-08-18 22:51:47,949 INFO Request is running\n",
      "2022-08-18 22:53:02,449 INFO Request is completed\n",
      "2022-08-18 22:53:02,802 INFO Welcome to the CDS\n",
      "2022-08-18 22:53:02,803 INFO Sending request to https://cds.climate.copernicus.eu/api/v2/tasks/services/tool/toolbox/orchestrator/workflow/clientid-ef616aaa562f422bb83342104f0498c5\n",
      "2022-08-18 22:53:02,892 INFO Request is queued\n"
     ]
    },
    {
     "name": "stdout",
     "output_type": "stream",
     "text": [
      "Writing data to /Users/fionaspuler/Desktop/ECMWF/code_and_data/testing_data_august/era5_daily_mean_2m_temperature_1987_04.nc\n"
     ]
    },
    {
     "name": "stderr",
     "output_type": "stream",
     "text": [
      "2022-08-18 22:53:03,947 INFO Request is running\n",
      "2022-08-18 22:54:18,422 INFO Request is completed\n",
      "2022-08-18 22:54:18,760 INFO Welcome to the CDS\n",
      "2022-08-18 22:54:18,760 INFO Sending request to https://cds.climate.copernicus.eu/api/v2/tasks/services/tool/toolbox/orchestrator/workflow/clientid-0dbeefcd279e4bb3abb7072d27ca47c2\n",
      "2022-08-18 22:54:18,868 INFO Request is queued\n"
     ]
    },
    {
     "name": "stdout",
     "output_type": "stream",
     "text": [
      "Writing data to /Users/fionaspuler/Desktop/ECMWF/code_and_data/testing_data_august/era5_daily_mean_2m_temperature_1987_05.nc\n"
     ]
    },
    {
     "name": "stderr",
     "output_type": "stream",
     "text": [
      "2022-08-18 22:54:19,933 INFO Request is running\n",
      "2022-08-18 22:55:36,235 INFO Request is completed\n",
      "2022-08-18 22:55:36,584 INFO Welcome to the CDS\n",
      "2022-08-18 22:55:36,585 INFO Sending request to https://cds.climate.copernicus.eu/api/v2/tasks/services/tool/toolbox/orchestrator/workflow/clientid-6bfacb3a22a14966ba982f2be86c7416\n",
      "2022-08-18 22:55:36,689 INFO Request is queued\n"
     ]
    },
    {
     "name": "stdout",
     "output_type": "stream",
     "text": [
      "Writing data to /Users/fionaspuler/Desktop/ECMWF/code_and_data/testing_data_august/era5_daily_mean_2m_temperature_1987_06.nc\n"
     ]
    },
    {
     "name": "stderr",
     "output_type": "stream",
     "text": [
      "2022-08-18 22:55:37,750 INFO Request is running\n",
      "2022-08-18 22:56:52,220 INFO Request is completed\n",
      "2022-08-18 22:56:52,619 INFO Welcome to the CDS\n",
      "2022-08-18 22:56:52,620 INFO Sending request to https://cds.climate.copernicus.eu/api/v2/tasks/services/tool/toolbox/orchestrator/workflow/clientid-bb508dce946c40e59a6952616289d459\n",
      "2022-08-18 22:56:52,687 INFO Request is queued\n"
     ]
    },
    {
     "name": "stdout",
     "output_type": "stream",
     "text": [
      "Writing data to /Users/fionaspuler/Desktop/ECMWF/code_and_data/testing_data_august/era5_daily_mean_2m_temperature_1987_07.nc\n"
     ]
    },
    {
     "name": "stderr",
     "output_type": "stream",
     "text": [
      "2022-08-18 22:56:53,749 INFO Request is running\n",
      "2022-08-18 22:58:08,197 INFO Request is completed\n",
      "2022-08-18 22:58:08,547 INFO Welcome to the CDS\n",
      "2022-08-18 22:58:08,549 INFO Sending request to https://cds.climate.copernicus.eu/api/v2/tasks/services/tool/toolbox/orchestrator/workflow/clientid-c89ebaa1ec1c49de9b0caab2e50a4b5c\n",
      "2022-08-18 22:58:08,631 INFO Request is queued\n"
     ]
    },
    {
     "name": "stdout",
     "output_type": "stream",
     "text": [
      "Writing data to /Users/fionaspuler/Desktop/ECMWF/code_and_data/testing_data_august/era5_daily_mean_2m_temperature_1987_08.nc\n"
     ]
    },
    {
     "name": "stderr",
     "output_type": "stream",
     "text": [
      "2022-08-18 22:58:09,691 INFO Request is running\n",
      "2022-08-18 22:59:24,137 INFO Request is completed\n",
      "2022-08-18 22:59:24,477 INFO Welcome to the CDS\n",
      "2022-08-18 22:59:24,479 INFO Sending request to https://cds.climate.copernicus.eu/api/v2/tasks/services/tool/toolbox/orchestrator/workflow/clientid-212f297ae6a0427188a273759fe30fb0\n",
      "2022-08-18 22:59:24,607 INFO Request is queued\n"
     ]
    },
    {
     "name": "stdout",
     "output_type": "stream",
     "text": [
      "Writing data to /Users/fionaspuler/Desktop/ECMWF/code_and_data/testing_data_august/era5_daily_mean_2m_temperature_1987_09.nc\n"
     ]
    },
    {
     "name": "stderr",
     "output_type": "stream",
     "text": [
      "2022-08-18 22:59:25,671 INFO Request is running\n",
      "2022-08-18 23:00:40,124 INFO Request is completed\n",
      "2022-08-18 23:00:40,494 INFO Welcome to the CDS\n",
      "2022-08-18 23:00:40,496 INFO Sending request to https://cds.climate.copernicus.eu/api/v2/tasks/services/tool/toolbox/orchestrator/workflow/clientid-70e0b6f65973470a9d2fdcd11ccbdd75\n",
      "2022-08-18 23:00:40,573 INFO Request is queued\n"
     ]
    },
    {
     "name": "stdout",
     "output_type": "stream",
     "text": [
      "Writing data to /Users/fionaspuler/Desktop/ECMWF/code_and_data/testing_data_august/era5_daily_mean_2m_temperature_1987_10.nc\n"
     ]
    },
    {
     "name": "stderr",
     "output_type": "stream",
     "text": [
      "2022-08-18 23:00:41,642 INFO Request is running\n",
      "2022-08-18 23:01:56,123 INFO Request is completed\n",
      "2022-08-18 23:01:56,476 INFO Welcome to the CDS\n",
      "2022-08-18 23:01:56,477 INFO Sending request to https://cds.climate.copernicus.eu/api/v2/tasks/services/tool/toolbox/orchestrator/workflow/clientid-642033c05a1f44338fa518533556692a\n",
      "2022-08-18 23:01:56,542 INFO Request is queued\n"
     ]
    },
    {
     "name": "stdout",
     "output_type": "stream",
     "text": [
      "Writing data to /Users/fionaspuler/Desktop/ECMWF/code_and_data/testing_data_august/era5_daily_mean_2m_temperature_1987_11.nc\n"
     ]
    },
    {
     "name": "stderr",
     "output_type": "stream",
     "text": [
      "2022-08-18 23:01:57,613 INFO Request is running\n",
      "2022-08-18 23:03:12,329 INFO Request is completed\n",
      "2022-08-18 23:03:12,634 INFO Welcome to the CDS\n",
      "2022-08-18 23:03:12,636 INFO Sending request to https://cds.climate.copernicus.eu/api/v2/tasks/services/tool/toolbox/orchestrator/workflow/clientid-65002a58f554491a911c220ee4deaa63\n",
      "2022-08-18 23:03:12,764 INFO Request is queued\n"
     ]
    },
    {
     "name": "stdout",
     "output_type": "stream",
     "text": [
      "Writing data to /Users/fionaspuler/Desktop/ECMWF/code_and_data/testing_data_august/era5_daily_mean_2m_temperature_1987_12.nc\n"
     ]
    },
    {
     "name": "stderr",
     "output_type": "stream",
     "text": [
      "2022-08-18 23:03:13,839 INFO Request is running\n",
      "2022-08-18 23:04:28,395 INFO Request is completed\n",
      "2022-08-18 23:04:28,729 INFO Welcome to the CDS\n",
      "2022-08-18 23:04:28,731 INFO Sending request to https://cds.climate.copernicus.eu/api/v2/tasks/services/tool/toolbox/orchestrator/workflow/clientid-03f4a20371f844beb631849a1f2c1873\n",
      "2022-08-18 23:04:28,814 INFO Request is queued\n"
     ]
    },
    {
     "name": "stdout",
     "output_type": "stream",
     "text": [
      "Writing data to /Users/fionaspuler/Desktop/ECMWF/code_and_data/testing_data_august/era5_daily_mean_2m_temperature_1988_01.nc\n"
     ]
    },
    {
     "name": "stderr",
     "output_type": "stream",
     "text": [
      "2022-08-18 23:04:29,882 INFO Request is running\n",
      "2022-08-18 23:05:18,854 INFO Request is completed\n",
      "2022-08-18 23:05:19,187 INFO Welcome to the CDS\n",
      "2022-08-18 23:05:19,188 INFO Sending request to https://cds.climate.copernicus.eu/api/v2/tasks/services/tool/toolbox/orchestrator/workflow/clientid-72eca53a67d24df5ac7e043b1d36a73c\n"
     ]
    },
    {
     "name": "stdout",
     "output_type": "stream",
     "text": [
      "Writing data to /Users/fionaspuler/Desktop/ECMWF/code_and_data/testing_data_august/era5_daily_mean_2m_temperature_1988_02.nc\n"
     ]
    },
    {
     "name": "stderr",
     "output_type": "stream",
     "text": [
      "2022-08-18 23:05:19,329 INFO Request is queued\n",
      "2022-08-18 23:05:20,396 INFO Request is running\n",
      "2022-08-18 23:06:34,902 INFO Request is completed\n",
      "2022-08-18 23:06:35,290 INFO Welcome to the CDS\n",
      "2022-08-18 23:06:35,292 INFO Sending request to https://cds.climate.copernicus.eu/api/v2/tasks/services/tool/toolbox/orchestrator/workflow/clientid-bfa151a8161641cc862d18f2fca9a7e0\n"
     ]
    },
    {
     "name": "stdout",
     "output_type": "stream",
     "text": [
      "Writing data to /Users/fionaspuler/Desktop/ECMWF/code_and_data/testing_data_august/era5_daily_mean_2m_temperature_1988_03.nc\n"
     ]
    },
    {
     "name": "stderr",
     "output_type": "stream",
     "text": [
      "2022-08-18 23:06:35,465 INFO Request is queued\n",
      "2022-08-18 23:06:36,530 INFO Request is running\n",
      "2022-08-18 23:07:51,049 INFO Request is completed\n",
      "2022-08-18 23:07:51,444 INFO Welcome to the CDS\n",
      "2022-08-18 23:07:51,446 INFO Sending request to https://cds.climate.copernicus.eu/api/v2/tasks/services/tool/toolbox/orchestrator/workflow/clientid-35fcad1da02643cea896f51bcc5e2353\n",
      "2022-08-18 23:07:51,519 INFO Request is queued\n"
     ]
    },
    {
     "name": "stdout",
     "output_type": "stream",
     "text": [
      "Writing data to /Users/fionaspuler/Desktop/ECMWF/code_and_data/testing_data_august/era5_daily_mean_2m_temperature_1988_04.nc\n"
     ]
    },
    {
     "name": "stderr",
     "output_type": "stream",
     "text": [
      "2022-08-18 23:07:52,586 INFO Request is running\n",
      "2022-08-18 23:09:07,092 INFO Request is completed\n",
      "2022-08-18 23:09:07,438 INFO Welcome to the CDS\n",
      "2022-08-18 23:09:07,439 INFO Sending request to https://cds.climate.copernicus.eu/api/v2/tasks/services/tool/toolbox/orchestrator/workflow/clientid-cbd00ac300654a03965f565715ebb3a6\n",
      "2022-08-18 23:09:07,529 INFO Request is queued\n"
     ]
    },
    {
     "name": "stdout",
     "output_type": "stream",
     "text": [
      "Writing data to /Users/fionaspuler/Desktop/ECMWF/code_and_data/testing_data_august/era5_daily_mean_2m_temperature_1988_05.nc\n"
     ]
    },
    {
     "name": "stderr",
     "output_type": "stream",
     "text": [
      "2022-08-18 23:09:08,600 INFO Request is running\n",
      "2022-08-18 23:10:23,112 INFO Request is completed\n",
      "2022-08-18 23:10:23,455 INFO Welcome to the CDS\n",
      "2022-08-18 23:10:23,455 INFO Sending request to https://cds.climate.copernicus.eu/api/v2/tasks/services/tool/toolbox/orchestrator/workflow/clientid-6753f72b36f946d48147035fa3f242f9\n",
      "2022-08-18 23:10:23,568 INFO Request is queued\n"
     ]
    },
    {
     "name": "stdout",
     "output_type": "stream",
     "text": [
      "Writing data to /Users/fionaspuler/Desktop/ECMWF/code_and_data/testing_data_august/era5_daily_mean_2m_temperature_1988_06.nc\n"
     ]
    },
    {
     "name": "stderr",
     "output_type": "stream",
     "text": [
      "2022-08-18 23:10:24,642 INFO Request is running\n",
      "2022-08-18 23:11:39,173 INFO Request is completed\n",
      "2022-08-18 23:11:39,492 INFO Welcome to the CDS\n",
      "2022-08-18 23:11:39,493 INFO Sending request to https://cds.climate.copernicus.eu/api/v2/tasks/services/tool/toolbox/orchestrator/workflow/clientid-b4a995a1263a47ef82ae1bb0c3d13dfc\n",
      "2022-08-18 23:11:39,607 INFO Request is queued\n"
     ]
    },
    {
     "name": "stdout",
     "output_type": "stream",
     "text": [
      "Writing data to /Users/fionaspuler/Desktop/ECMWF/code_and_data/testing_data_august/era5_daily_mean_2m_temperature_1988_07.nc\n"
     ]
    },
    {
     "name": "stderr",
     "output_type": "stream",
     "text": [
      "2022-08-18 23:11:40,679 INFO Request is running\n",
      "2022-08-18 23:12:55,228 INFO Request is completed\n",
      "2022-08-18 23:12:55,550 INFO Welcome to the CDS\n",
      "2022-08-18 23:12:55,552 INFO Sending request to https://cds.climate.copernicus.eu/api/v2/tasks/services/tool/toolbox/orchestrator/workflow/clientid-abe5cb2f3fe84d8b8b2b93d7c1308ae5\n",
      "2022-08-18 23:12:55,649 INFO Request is queued\n"
     ]
    },
    {
     "name": "stdout",
     "output_type": "stream",
     "text": [
      "Writing data to /Users/fionaspuler/Desktop/ECMWF/code_and_data/testing_data_august/era5_daily_mean_2m_temperature_1988_08.nc\n"
     ]
    },
    {
     "name": "stderr",
     "output_type": "stream",
     "text": [
      "2022-08-18 23:12:56,713 INFO Request is running\n",
      "2022-08-18 23:14:11,474 INFO Request is completed\n",
      "2022-08-18 23:14:11,919 INFO Welcome to the CDS\n",
      "2022-08-18 23:14:11,920 INFO Sending request to https://cds.climate.copernicus.eu/api/v2/tasks/services/tool/toolbox/orchestrator/workflow/clientid-cc4083099bdc4a4b8582482d4e187cd9\n"
     ]
    },
    {
     "name": "stdout",
     "output_type": "stream",
     "text": [
      "Writing data to /Users/fionaspuler/Desktop/ECMWF/code_and_data/testing_data_august/era5_daily_mean_2m_temperature_1988_09.nc\n"
     ]
    },
    {
     "name": "stderr",
     "output_type": "stream",
     "text": [
      "2022-08-18 23:14:12,011 INFO Request is queued\n",
      "2022-08-18 23:14:13,088 INFO Request is running\n",
      "2022-08-18 23:15:27,577 INFO Request is completed\n",
      "2022-08-18 23:15:27,917 INFO Welcome to the CDS\n",
      "2022-08-18 23:15:27,917 INFO Sending request to https://cds.climate.copernicus.eu/api/v2/tasks/services/tool/toolbox/orchestrator/workflow/clientid-ec753e271c8743399b58fd40f1b9e99e\n",
      "2022-08-18 23:15:28,005 INFO Request is queued\n"
     ]
    },
    {
     "name": "stdout",
     "output_type": "stream",
     "text": [
      "Writing data to /Users/fionaspuler/Desktop/ECMWF/code_and_data/testing_data_august/era5_daily_mean_2m_temperature_1988_10.nc\n"
     ]
    },
    {
     "name": "stderr",
     "output_type": "stream",
     "text": [
      "2022-08-18 23:15:29,076 INFO Request is running\n",
      "2022-08-18 23:16:43,936 INFO Request is completed\n",
      "2022-08-18 23:16:44,280 INFO Welcome to the CDS\n",
      "2022-08-18 23:16:44,281 INFO Sending request to https://cds.climate.copernicus.eu/api/v2/tasks/services/tool/toolbox/orchestrator/workflow/clientid-a5b6dfe075f142dea81243f9ba7b0c6a\n",
      "2022-08-18 23:16:44,350 INFO Request is queued\n"
     ]
    },
    {
     "name": "stdout",
     "output_type": "stream",
     "text": [
      "Writing data to /Users/fionaspuler/Desktop/ECMWF/code_and_data/testing_data_august/era5_daily_mean_2m_temperature_1988_11.nc\n"
     ]
    },
    {
     "name": "stderr",
     "output_type": "stream",
     "text": [
      "2022-08-18 23:16:45,420 INFO Request is running\n",
      "2022-08-18 23:17:59,940 INFO Request is completed\n",
      "2022-08-18 23:18:00,309 INFO Welcome to the CDS\n",
      "2022-08-18 23:18:00,310 INFO Sending request to https://cds.climate.copernicus.eu/api/v2/tasks/services/tool/toolbox/orchestrator/workflow/clientid-e960ae1cda88423596186612ec6006c2\n",
      "2022-08-18 23:18:00,405 INFO Request is queued\n"
     ]
    },
    {
     "name": "stdout",
     "output_type": "stream",
     "text": [
      "Writing data to /Users/fionaspuler/Desktop/ECMWF/code_and_data/testing_data_august/era5_daily_mean_2m_temperature_1988_12.nc\n"
     ]
    },
    {
     "name": "stderr",
     "output_type": "stream",
     "text": [
      "2022-08-18 23:18:01,476 INFO Request is running\n",
      "2022-08-18 23:19:15,975 INFO Request is completed\n",
      "2022-08-18 23:19:16,319 INFO Welcome to the CDS\n",
      "2022-08-18 23:19:16,319 INFO Sending request to https://cds.climate.copernicus.eu/api/v2/tasks/services/tool/toolbox/orchestrator/workflow/clientid-3bf3b3ba713444c593c0f2d6e7321aef\n",
      "2022-08-18 23:19:16,407 INFO Request is queued\n"
     ]
    },
    {
     "name": "stdout",
     "output_type": "stream",
     "text": [
      "Writing data to /Users/fionaspuler/Desktop/ECMWF/code_and_data/testing_data_august/era5_daily_mean_2m_temperature_1989_01.nc\n"
     ]
    },
    {
     "name": "stderr",
     "output_type": "stream",
     "text": [
      "2022-08-18 23:19:17,470 INFO Request is running\n",
      "2022-08-18 23:20:31,980 INFO Request is completed\n",
      "2022-08-18 23:20:32,336 INFO Welcome to the CDS\n",
      "2022-08-18 23:20:32,337 INFO Sending request to https://cds.climate.copernicus.eu/api/v2/tasks/services/tool/toolbox/orchestrator/workflow/clientid-f5793b133f874870af5dac8b5185ce89\n",
      "2022-08-18 23:20:32,407 INFO Request is queued\n"
     ]
    },
    {
     "name": "stdout",
     "output_type": "stream",
     "text": [
      "Writing data to /Users/fionaspuler/Desktop/ECMWF/code_and_data/testing_data_august/era5_daily_mean_2m_temperature_1989_02.nc\n"
     ]
    },
    {
     "name": "stderr",
     "output_type": "stream",
     "text": [
      "2022-08-18 23:20:33,480 INFO Request is running\n",
      "2022-08-18 23:21:47,981 INFO Request is completed\n",
      "2022-08-18 23:21:48,392 INFO Welcome to the CDS\n",
      "2022-08-18 23:21:48,394 INFO Sending request to https://cds.climate.copernicus.eu/api/v2/tasks/services/tool/toolbox/orchestrator/workflow/clientid-ab011a8402ad4a1583e6eb62b9d48a0a\n"
     ]
    },
    {
     "name": "stdout",
     "output_type": "stream",
     "text": [
      "Writing data to /Users/fionaspuler/Desktop/ECMWF/code_and_data/testing_data_august/era5_daily_mean_2m_temperature_1989_03.nc\n"
     ]
    },
    {
     "name": "stderr",
     "output_type": "stream",
     "text": [
      "2022-08-18 23:21:48,514 INFO Request is queued\n",
      "2022-08-18 23:21:49,593 INFO Request is running\n",
      "2022-08-18 23:22:38,390 INFO Request is completed\n",
      "2022-08-18 23:22:38,825 INFO Welcome to the CDS\n",
      "2022-08-18 23:22:38,826 INFO Sending request to https://cds.climate.copernicus.eu/api/v2/tasks/services/tool/toolbox/orchestrator/workflow/clientid-f53ecee694d640fe903be5993ca88692\n",
      "2022-08-18 23:22:38,944 INFO Request is queued\n"
     ]
    },
    {
     "name": "stdout",
     "output_type": "stream",
     "text": [
      "Writing data to /Users/fionaspuler/Desktop/ECMWF/code_and_data/testing_data_august/era5_daily_mean_2m_temperature_1989_04.nc\n"
     ]
    },
    {
     "name": "stderr",
     "output_type": "stream",
     "text": [
      "2022-08-18 23:22:40,017 INFO Request is running\n",
      "2022-08-18 23:23:54,556 INFO Request is completed\n",
      "2022-08-18 23:23:54,889 INFO Welcome to the CDS\n",
      "2022-08-18 23:23:54,890 INFO Sending request to https://cds.climate.copernicus.eu/api/v2/tasks/services/tool/toolbox/orchestrator/workflow/clientid-7ea11725a4cb4240bf0bc3c455b9649c\n",
      "2022-08-18 23:23:54,961 INFO Request is queued\n"
     ]
    },
    {
     "name": "stdout",
     "output_type": "stream",
     "text": [
      "Writing data to /Users/fionaspuler/Desktop/ECMWF/code_and_data/testing_data_august/era5_daily_mean_2m_temperature_1989_05.nc\n"
     ]
    },
    {
     "name": "stderr",
     "output_type": "stream",
     "text": [
      "2022-08-18 23:23:56,038 INFO Request is running\n",
      "2022-08-18 23:24:45,018 INFO Request is completed\n",
      "2022-08-18 23:24:45,510 INFO Welcome to the CDS\n",
      "2022-08-18 23:24:45,512 INFO Sending request to https://cds.climate.copernicus.eu/api/v2/tasks/services/tool/toolbox/orchestrator/workflow/clientid-bc8cbfcf44974f2e8d5689dee0aac316\n"
     ]
    },
    {
     "name": "stdout",
     "output_type": "stream",
     "text": [
      "Writing data to /Users/fionaspuler/Desktop/ECMWF/code_and_data/testing_data_august/era5_daily_mean_2m_temperature_1989_06.nc\n"
     ]
    },
    {
     "name": "stderr",
     "output_type": "stream",
     "text": [
      "2022-08-18 23:24:45,638 INFO Request is queued\n",
      "2022-08-18 23:24:46,704 INFO Request is running\n",
      "2022-08-18 23:26:01,290 INFO Request is completed\n",
      "2022-08-18 23:26:01,744 INFO Welcome to the CDS\n",
      "2022-08-18 23:26:01,745 INFO Sending request to https://cds.climate.copernicus.eu/api/v2/tasks/services/tool/toolbox/orchestrator/workflow/clientid-9e9b20e90f1e401988408fe44795d136\n"
     ]
    },
    {
     "name": "stdout",
     "output_type": "stream",
     "text": [
      "Writing data to /Users/fionaspuler/Desktop/ECMWF/code_and_data/testing_data_august/era5_daily_mean_2m_temperature_1989_07.nc\n"
     ]
    },
    {
     "name": "stderr",
     "output_type": "stream",
     "text": [
      "2022-08-18 23:26:01,830 INFO Request is queued\n",
      "2022-08-18 23:26:02,915 INFO Request is running\n",
      "2022-08-18 23:27:17,559 INFO Request is completed\n",
      "2022-08-18 23:27:17,933 INFO Welcome to the CDS\n",
      "2022-08-18 23:27:17,934 INFO Sending request to https://cds.climate.copernicus.eu/api/v2/tasks/services/tool/toolbox/orchestrator/workflow/clientid-02490552ecff4af8b0b644d3c392f197\n",
      "2022-08-18 23:27:18,030 INFO Request is queued\n"
     ]
    },
    {
     "name": "stdout",
     "output_type": "stream",
     "text": [
      "Writing data to /Users/fionaspuler/Desktop/ECMWF/code_and_data/testing_data_august/era5_daily_mean_2m_temperature_1989_08.nc\n"
     ]
    },
    {
     "name": "stderr",
     "output_type": "stream",
     "text": [
      "2022-08-18 23:27:19,101 INFO Request is running\n",
      "2022-08-18 23:28:33,641 INFO Request is completed\n",
      "2022-08-18 23:28:34,053 INFO Welcome to the CDS\n",
      "2022-08-18 23:28:34,054 INFO Sending request to https://cds.climate.copernicus.eu/api/v2/tasks/services/tool/toolbox/orchestrator/workflow/clientid-ecffdb505acb452eb4eb31579c5f0db6\n",
      "2022-08-18 23:28:34,149 INFO Request is queued\n"
     ]
    },
    {
     "name": "stdout",
     "output_type": "stream",
     "text": [
      "Writing data to /Users/fionaspuler/Desktop/ECMWF/code_and_data/testing_data_august/era5_daily_mean_2m_temperature_1989_09.nc\n"
     ]
    },
    {
     "name": "stderr",
     "output_type": "stream",
     "text": [
      "2022-08-18 23:28:35,214 INFO Request is running\n",
      "2022-08-18 23:29:49,772 INFO Request is completed\n",
      "2022-08-18 23:29:50,121 INFO Welcome to the CDS\n",
      "2022-08-18 23:29:50,124 INFO Sending request to https://cds.climate.copernicus.eu/api/v2/tasks/services/tool/toolbox/orchestrator/workflow/clientid-da97f48830b2407296c7a51cc509f927\n",
      "2022-08-18 23:29:50,208 INFO Request is queued\n"
     ]
    },
    {
     "name": "stdout",
     "output_type": "stream",
     "text": [
      "Writing data to /Users/fionaspuler/Desktop/ECMWF/code_and_data/testing_data_august/era5_daily_mean_2m_temperature_1989_10.nc\n"
     ]
    },
    {
     "name": "stderr",
     "output_type": "stream",
     "text": [
      "2022-08-18 23:29:51,290 INFO Request is running\n",
      "2022-08-18 23:31:05,764 INFO Request is completed\n",
      "2022-08-18 23:31:06,094 INFO Welcome to the CDS\n",
      "2022-08-18 23:31:06,095 INFO Sending request to https://cds.climate.copernicus.eu/api/v2/tasks/services/tool/toolbox/orchestrator/workflow/clientid-819d44c81de04329b7f3884eb06cb9d9\n",
      "2022-08-18 23:31:06,164 INFO Request is queued\n"
     ]
    },
    {
     "name": "stdout",
     "output_type": "stream",
     "text": [
      "Writing data to /Users/fionaspuler/Desktop/ECMWF/code_and_data/testing_data_august/era5_daily_mean_2m_temperature_1989_11.nc\n"
     ]
    },
    {
     "name": "stderr",
     "output_type": "stream",
     "text": [
      "2022-08-18 23:31:07,234 INFO Request is running\n"
     ]
    }
   ],
   "source": [
    "#https://confluence.ecmwf.int/pages/viewpage.action?pageId=228867588\n",
    "\n",
    "import cdsapi\n",
    "import requests\n",
    "import iris\n",
    " \n",
    "# CDS API script to use CDS service to retrieve daily ERA5* variables and iterate over\n",
    "# all months in the specified years.\n",
    " \n",
    "# Requires:\n",
    "# 1) the CDS API to be installed and working on your system\n",
    "# 2) You have agreed to the ERA5 Licence (via the CDS web page)\n",
    "# 3) Selection of required variable, daily statistic, etc\n",
    " \n",
    "# Output:\n",
    "# 1) separate netCDF file for chosen daily statistic/variable for each month\n",
    " \n",
    "c = cdsapi.Client(url=URL, key=KEY, timeout=300)\n",
    " \n",
    "# Uncomment years as required\n",
    " \n",
    "years =  ['1979', '1980', '1981',\n",
    "            '1982', '1983', '1984',\n",
    "            '1985', '1986', '1987',\n",
    "            '1988', '1989', '1990',\n",
    "            '1991', '1992', '1993',\n",
    "            '1994', '1995', '1996',\n",
    "            '1997', '1998', '1999',\n",
    "            '2000', '2001', '2002',\n",
    "            '2003', '2004', '2005',\n",
    "            '2006', '2007', '2008',\n",
    "            '2009', '2010', '2011',\n",
    "            '2012', '2013', '2014', '2015']\n",
    "\n",
    "months = ['01', '02', '03',\n",
    "            '04', '05', '06',\n",
    "            '07', '08', '09',\n",
    "            '10', '11', '12']\n",
    " \n",
    "# For valid keywords, see Table 2 of:\n",
    "# https://datastore.copernicus-climate.eu/documents/app-c3s-daily-era5-statistics/C3S_Application-Documentation_ERA5-daily-statistics-v2.pdf\n",
    " \n",
    "# select your variable; name must be a valid ERA5 CDS API name.\n",
    "var = \"2m_temperature\"\n",
    " \n",
    "# Select the required statistic, valid names given in link above\n",
    "stat = \"daily_mean\"\n",
    " \n",
    "# Loop over years and months\n",
    "\n",
    "locations = []\n",
    "\n",
    "for yr in years:\n",
    "    for mn in months:\n",
    "        result = c.service(\n",
    "        \"tool.toolbox.orchestrator.workflow\",\n",
    "        params={\n",
    "             \"realm\": \"user-apps\",\n",
    "             \"project\": \"app-c3s-daily-era5-statistics\",\n",
    "             \"version\": \"master\",\n",
    "             \"kwargs\": {\n",
    "                 \"dataset\": \"reanalysis-era5-single-levels\",\n",
    "                 \"product_type\": \"reanalysis\",\n",
    "                 \"variable\": var,\n",
    "                 \"statistic\": stat,\n",
    "                 \"year\": yr,\n",
    "                 \"month\": mn,\n",
    "                 \"time_zone\": \"UTC+00:0\",\n",
    "                 \"frequency\": \"1-hourly\",\n",
    "                 \"grid\": \"1.0/1.0\",\n",
    "                 \"area\":{\"lat\": [48, 52], \"lon\": [8, 12]}\n",
    "                 },\n",
    "        \"workflow_name\": \"application\"\n",
    "        })\n",
    "         \n",
    "# set name of output file for each month (statistic, variable, year, month)     \n",
    "   \n",
    " \n",
    "        file_name = \"/Users/fionaspuler/Desktop/ECMWF/code_and_data/testing_data_august/era5_\" + stat + \"_\" + var + \"_\" + yr + \"_\" + mn + \".nc\"\n",
    "         \n",
    "        location=result[0]['location']\n",
    "        res = requests.get(location, stream = True)\n",
    "        print(\"Writing data to \" + file_name)\n",
    "        with open(file_name,'wb') as fh:\n",
    "            for r in res.iter_content(chunk_size = 1024):\n",
    "                fh.write(r)\n",
    "        fh.close()"
   ]
  },
  {
   "cell_type": "code",
   "execution_count": null,
   "id": "c53269a5",
   "metadata": {},
   "outputs": [],
   "source": []
  }
 ],
 "metadata": {
  "kernelspec": {
   "display_name": "Python 3 (ipykernel)",
   "language": "python",
   "name": "python3"
  },
  "language_info": {
   "codemirror_mode": {
    "name": "ipython",
    "version": 3
   },
   "file_extension": ".py",
   "mimetype": "text/x-python",
   "name": "python",
   "nbconvert_exporter": "python",
   "pygments_lexer": "ipython3",
   "version": "3.9.12"
  }
 },
 "nbformat": 4,
 "nbformat_minor": 5
}
